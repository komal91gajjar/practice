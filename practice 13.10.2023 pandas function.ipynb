{
 "cells": [
  {
   "cell_type": "code",
   "execution_count": 1,
   "metadata": {},
   "outputs": [],
   "source": [
    "import pandas as pd\n",
    "import numpy as np\n",
    "import matplotlib.pyplot as plt\n"
   ]
  },
  {
   "cell_type": "markdown",
   "metadata": {},
   "source": [
    "# MultiIndexing"
   ]
  },
  {
   "cell_type": "code",
   "execution_count": 3,
   "metadata": {},
   "outputs": [],
   "source": [
    "covid_19_confirmed = pd.read_csv(\"D:\\\\excel data\\\\time_series_covid19_confirmed_global.csv\")"
   ]
  },
  {
   "cell_type": "code",
   "execution_count": 4,
   "metadata": {},
   "outputs": [],
   "source": [
    "covid_19_death = pd.read_csv(\"D:\\\\excel data\\\\time_series_covid19_deaths_global.csv\")"
   ]
  },
  {
   "cell_type": "code",
   "execution_count": 10,
   "metadata": {},
   "outputs": [
    {
     "data": {
      "text/plain": [
       "(cse, 2019)     1\n",
       "(cse, 2020)     2\n",
       "(cse, 2021)     3\n",
       "(cse, 2022)     4\n",
       "(cse, 2023)     5\n",
       "(ecs, 2019)     6\n",
       "(ecs, 2020)     7\n",
       "(ecs, 2021)     8\n",
       "(ecs, 2022)     9\n",
       "(ecs, 2023)    10\n",
       "dtype: int64"
      ]
     },
     "execution_count": 10,
     "metadata": {},
     "output_type": "execute_result"
    }
   ],
   "source": [
    "# how to create multiindexing\n",
    "index_value = [(\"cse\",2019),(\"cse\",2020),(\"cse\",2021),(\"cse\",2022),(\"cse\",2023),(\"ecs\",2019),(\"ecs\",2020),(\"ecs\",2021),(\"ecs\",2022),(\"ecs\",2023)]\n",
    "pd.Series([1,2,3,4,5,6,7,8,9,10],index = index_value)"
   ]
  },
  {
   "cell_type": "code",
   "execution_count": 14,
   "metadata": {},
   "outputs": [
    {
     "data": {
      "text/plain": [
       "FrozenList([['cse', 'ecs'], [2019, 2020, 2021, 2022, 2023]])"
      ]
     },
     "execution_count": 14,
     "metadata": {},
     "output_type": "execute_result"
    }
   ],
   "source": [
    "multi_indx = pd.MultiIndex.from_tuples(index_value)\n",
    "multi_indx.levels\n"
   ]
  },
  {
   "cell_type": "code",
   "execution_count": 15,
   "metadata": {},
   "outputs": [
    {
     "data": {
      "text/plain": [
       "MultiIndex([('cse', 2019),\n",
       "            ('cse', 2020),\n",
       "            ('cse', 2021),\n",
       "            ('cse', 2022),\n",
       "            ('cse', 2023),\n",
       "            ('ecs', 2019),\n",
       "            ('ecs', 2020),\n",
       "            ('ecs', 2021),\n",
       "            ('ecs', 2022),\n",
       "            ('ecs', 2023)],\n",
       "           )"
      ]
     },
     "execution_count": 15,
     "metadata": {},
     "output_type": "execute_result"
    }
   ],
   "source": [
    "pd.MultiIndex.from_product([[\"cse\",\"ecs\"],[2019,2020,2021,2022,2023]])"
   ]
  },
  {
   "cell_type": "code",
   "execution_count": 20,
   "metadata": {},
   "outputs": [],
   "source": [
    "multi_index_series = pd.Series([1,2,3,4,5,6,7,8,9,10],index = multi_indx)"
   ]
  },
  {
   "cell_type": "code",
   "execution_count": 21,
   "metadata": {},
   "outputs": [
    {
     "data": {
      "text/plain": [
       "2019    1\n",
       "2020    2\n",
       "2021    3\n",
       "2022    4\n",
       "2023    5\n",
       "dtype: int64"
      ]
     },
     "execution_count": 21,
     "metadata": {},
     "output_type": "execute_result"
    }
   ],
   "source": [
    "#how to fetch items from such s series\n",
    "\n",
    "multi_index_series[\"cse\"]"
   ]
  },
  {
   "cell_type": "code",
   "execution_count": 23,
   "metadata": {},
   "outputs": [
    {
     "data": {
      "text/plain": [
       "4"
      ]
     },
     "execution_count": 23,
     "metadata": {},
     "output_type": "execute_result"
    }
   ],
   "source": [
    "multi_index_series[\"cse\",2022]"
   ]
  },
  {
   "cell_type": "code",
   "execution_count": 27,
   "metadata": {},
   "outputs": [],
   "source": [
    "# unstack()\n",
    "temp_multi = multi_index_series.unstack()"
   ]
  },
  {
   "cell_type": "code",
   "execution_count": 28,
   "metadata": {},
   "outputs": [
    {
     "data": {
      "text/plain": [
       "cse  2019     1\n",
       "     2020     2\n",
       "     2021     3\n",
       "     2022     4\n",
       "     2023     5\n",
       "ecs  2019     6\n",
       "     2020     7\n",
       "     2021     8\n",
       "     2022     9\n",
       "     2023    10\n",
       "dtype: int64"
      ]
     },
     "execution_count": 28,
     "metadata": {},
     "output_type": "execute_result"
    }
   ],
   "source": [
    "# stack()\n",
    "temp_multi.stack()"
   ]
  },
  {
   "cell_type": "markdown",
   "metadata": {},
   "source": [
    "# multiindex DataFtame"
   ]
  },
  {
   "cell_type": "code",
   "execution_count": 33,
   "metadata": {},
   "outputs": [
    {
     "data": {
      "text/html": [
       "<div>\n",
       "<style scoped>\n",
       "    .dataframe tbody tr th:only-of-type {\n",
       "        vertical-align: middle;\n",
       "    }\n",
       "\n",
       "    .dataframe tbody tr th {\n",
       "        vertical-align: top;\n",
       "    }\n",
       "\n",
       "    .dataframe thead th {\n",
       "        text-align: right;\n",
       "    }\n",
       "</style>\n",
       "<table border=\"1\" class=\"dataframe\">\n",
       "  <thead>\n",
       "    <tr style=\"text-align: right;\">\n",
       "      <th></th>\n",
       "      <th></th>\n",
       "      <th>Avg_package</th>\n",
       "      <th>Students</th>\n",
       "    </tr>\n",
       "  </thead>\n",
       "  <tbody>\n",
       "    <tr>\n",
       "      <th rowspan=\"5\" valign=\"top\">cse</th>\n",
       "      <th>2019</th>\n",
       "      <td>1.00</td>\n",
       "      <td>2.0</td>\n",
       "    </tr>\n",
       "    <tr>\n",
       "      <th>2020</th>\n",
       "      <td>3.00</td>\n",
       "      <td>4.0</td>\n",
       "    </tr>\n",
       "    <tr>\n",
       "      <th>2021</th>\n",
       "      <td>5.00</td>\n",
       "      <td>6.0</td>\n",
       "    </tr>\n",
       "    <tr>\n",
       "      <th>2022</th>\n",
       "      <td>7.00</td>\n",
       "      <td>8.0</td>\n",
       "    </tr>\n",
       "    <tr>\n",
       "      <th>2023</th>\n",
       "      <td>9.00</td>\n",
       "      <td>10.0</td>\n",
       "    </tr>\n",
       "    <tr>\n",
       "      <th rowspan=\"5\" valign=\"top\">ecs</th>\n",
       "      <th>2019</th>\n",
       "      <td>11.12</td>\n",
       "      <td>NaN</td>\n",
       "    </tr>\n",
       "    <tr>\n",
       "      <th>2020</th>\n",
       "      <td>13.00</td>\n",
       "      <td>14.0</td>\n",
       "    </tr>\n",
       "    <tr>\n",
       "      <th>2021</th>\n",
       "      <td>15.00</td>\n",
       "      <td>16.0</td>\n",
       "    </tr>\n",
       "    <tr>\n",
       "      <th>2022</th>\n",
       "      <td>17.00</td>\n",
       "      <td>18.0</td>\n",
       "    </tr>\n",
       "    <tr>\n",
       "      <th>2023</th>\n",
       "      <td>19.00</td>\n",
       "      <td>20.0</td>\n",
       "    </tr>\n",
       "  </tbody>\n",
       "</table>\n",
       "</div>"
      ],
      "text/plain": [
       "          Avg_package  Students\n",
       "cse 2019         1.00       2.0\n",
       "    2020         3.00       4.0\n",
       "    2021         5.00       6.0\n",
       "    2022         7.00       8.0\n",
       "    2023         9.00      10.0\n",
       "ecs 2019        11.12       NaN\n",
       "    2020        13.00      14.0\n",
       "    2021        15.00      16.0\n",
       "    2022        17.00      18.0\n",
       "    2023        19.00      20.0"
      ]
     },
     "execution_count": 33,
     "metadata": {},
     "output_type": "execute_result"
    }
   ],
   "source": [
    "branch_df = pd.DataFrame([\n",
    "    [1,2],\n",
    "    [3,4],\n",
    "    [5,6],\n",
    "    [7,8],\n",
    "    [9,10],\n",
    "    [11.12],\n",
    "    [13,14],\n",
    "    [15,16],\n",
    "    [17,18],\n",
    "    [19,20],\n",
    "],\n",
    "index=multi_indx,\n",
    "columns=[\"Avg_package\",\"Students\"]\n",
    ")\n",
    "\n",
    "branch_df"
   ]
  },
  {
   "cell_type": "code",
   "execution_count": 34,
   "metadata": {},
   "outputs": [
    {
     "data": {
      "text/plain": [
       "(10, 2)"
      ]
     },
     "execution_count": 34,
     "metadata": {},
     "output_type": "execute_result"
    }
   ],
   "source": [
    "branch_df.shape"
   ]
  },
  {
   "cell_type": "code",
   "execution_count": 35,
   "metadata": {},
   "outputs": [
    {
     "data": {
      "text/html": [
       "<div>\n",
       "<style scoped>\n",
       "    .dataframe tbody tr th:only-of-type {\n",
       "        vertical-align: middle;\n",
       "    }\n",
       "\n",
       "    .dataframe tbody tr th {\n",
       "        vertical-align: top;\n",
       "    }\n",
       "\n",
       "    .dataframe thead th {\n",
       "        text-align: right;\n",
       "    }\n",
       "</style>\n",
       "<table border=\"1\" class=\"dataframe\">\n",
       "  <thead>\n",
       "    <tr style=\"text-align: right;\">\n",
       "      <th></th>\n",
       "      <th>Avg_package</th>\n",
       "      <th>Students</th>\n",
       "    </tr>\n",
       "  </thead>\n",
       "  <tbody>\n",
       "    <tr>\n",
       "      <th>2019</th>\n",
       "      <td>1.0</td>\n",
       "      <td>2.0</td>\n",
       "    </tr>\n",
       "    <tr>\n",
       "      <th>2020</th>\n",
       "      <td>3.0</td>\n",
       "      <td>4.0</td>\n",
       "    </tr>\n",
       "    <tr>\n",
       "      <th>2021</th>\n",
       "      <td>5.0</td>\n",
       "      <td>6.0</td>\n",
       "    </tr>\n",
       "    <tr>\n",
       "      <th>2022</th>\n",
       "      <td>7.0</td>\n",
       "      <td>8.0</td>\n",
       "    </tr>\n",
       "    <tr>\n",
       "      <th>2023</th>\n",
       "      <td>9.0</td>\n",
       "      <td>10.0</td>\n",
       "    </tr>\n",
       "  </tbody>\n",
       "</table>\n",
       "</div>"
      ],
      "text/plain": [
       "      Avg_package  Students\n",
       "2019          1.0       2.0\n",
       "2020          3.0       4.0\n",
       "2021          5.0       6.0\n",
       "2022          7.0       8.0\n",
       "2023          9.0      10.0"
      ]
     },
     "execution_count": 35,
     "metadata": {},
     "output_type": "execute_result"
    }
   ],
   "source": [
    "branch_df.loc[\"cse\"]"
   ]
  },
  {
   "cell_type": "code",
   "execution_count": 69,
   "metadata": {},
   "outputs": [
    {
     "name": "stdout",
     "output_type": "stream",
     "text": [
      "        Delhi                                      Mumbai            \\\n",
      "     Students Avg_marks obtain_marks Avg_package Students Avg_marks   \n",
      "2019        1         2            3           4       25        30   \n",
      "2020        5         6            7           8       30        35   \n",
      "2021        9        10           11          12       35        40   \n",
      "2022       13        14           15          16       40        45   \n",
      "2023       17        18           19          20       45        50   \n",
      "\n",
      "                               \n",
      "     obtain_marks Avg_package  \n",
      "2019            1           2  \n",
      "2020            1           2  \n",
      "2021            1           2  \n",
      "2022            1           2  \n",
      "2023            1           2  \n"
     ]
    }
   ],
   "source": [
    "branch_df1 = pd.DataFrame([\n",
    "    [1,2,3,4,25,30,1,2],[5,6,7,8,30,35,1,2],[9,10,11,12,35,40,1,2],[13,14,15,16,40,45,1,2],[17,18,19,20,45,50,1,2]], index = [2019,2020,2021,2022,2023], columns = pd.MultiIndex.from_product([[\"Delhi\",\"Mumbai\"],[\"Students\",\"Avg_marks\",\"obtain_marks\",\"Avg_package\"]]))\n",
    "print(branch_df1)\n",
    "\n",
    "# branch_df1 = pd.DataFrame([[1,2,3,4,1,0],[4,5,6,7,1,0],[7,8,9,10,1,0],[10,11,12,0,13,1],[13,0,14,15,16,1],[16,17,0,18,19,1],[19,20,21,22,1,0],[22,23,24,25,0,1],[25,26,27,0,28,1],[27,28,0,29,30,1]], index = [2019,2020,2021,2022,2023],columns=pd.MultiIndex.from_product([[\"Delhi\",\"Mumbai\"],[\"Avg_package\",\"Students\",\"sss\"]]))"
   ]
  },
  {
   "cell_type": "code",
   "execution_count": 70,
   "metadata": {},
   "outputs": [
    {
     "data": {
      "text/html": [
       "<div>\n",
       "<style scoped>\n",
       "    .dataframe tbody tr th:only-of-type {\n",
       "        vertical-align: middle;\n",
       "    }\n",
       "\n",
       "    .dataframe tbody tr th {\n",
       "        vertical-align: top;\n",
       "    }\n",
       "\n",
       "    .dataframe thead th {\n",
       "        text-align: right;\n",
       "    }\n",
       "</style>\n",
       "<table border=\"1\" class=\"dataframe\">\n",
       "  <thead>\n",
       "    <tr style=\"text-align: right;\">\n",
       "      <th></th>\n",
       "      <th>Students</th>\n",
       "      <th>Avg_marks</th>\n",
       "      <th>obtain_marks</th>\n",
       "      <th>Avg_package</th>\n",
       "    </tr>\n",
       "  </thead>\n",
       "  <tbody>\n",
       "    <tr>\n",
       "      <th>2019</th>\n",
       "      <td>1</td>\n",
       "      <td>2</td>\n",
       "      <td>3</td>\n",
       "      <td>4</td>\n",
       "    </tr>\n",
       "    <tr>\n",
       "      <th>2020</th>\n",
       "      <td>5</td>\n",
       "      <td>6</td>\n",
       "      <td>7</td>\n",
       "      <td>8</td>\n",
       "    </tr>\n",
       "    <tr>\n",
       "      <th>2021</th>\n",
       "      <td>9</td>\n",
       "      <td>10</td>\n",
       "      <td>11</td>\n",
       "      <td>12</td>\n",
       "    </tr>\n",
       "    <tr>\n",
       "      <th>2022</th>\n",
       "      <td>13</td>\n",
       "      <td>14</td>\n",
       "      <td>15</td>\n",
       "      <td>16</td>\n",
       "    </tr>\n",
       "    <tr>\n",
       "      <th>2023</th>\n",
       "      <td>17</td>\n",
       "      <td>18</td>\n",
       "      <td>19</td>\n",
       "      <td>20</td>\n",
       "    </tr>\n",
       "  </tbody>\n",
       "</table>\n",
       "</div>"
      ],
      "text/plain": [
       "      Students  Avg_marks  obtain_marks  Avg_package\n",
       "2019         1          2             3            4\n",
       "2020         5          6             7            8\n",
       "2021         9         10            11           12\n",
       "2022        13         14            15           16\n",
       "2023        17         18            19           20"
      ]
     },
     "execution_count": 70,
     "metadata": {},
     "output_type": "execute_result"
    }
   ],
   "source": [
    "branch_df1[\"Delhi\"]"
   ]
  },
  {
   "cell_type": "code",
   "execution_count": 86,
   "metadata": {},
   "outputs": [
    {
     "name": "stdout",
     "output_type": "stream",
     "text": [
      "     Ahmedabad                                       Surat           \\\n",
      "     Avg_marks Students obtain_marks Avg_package Avg_marks Students   \n",
      "2019         1        2            3           4        25       30   \n",
      "2020         5        6            7           8        30       35   \n",
      "2021         9       10           11          12        35       40   \n",
      "2022        13       14           15          16        40       45   \n",
      "2023        17       18           19          20        45       50   \n",
      "\n",
      "                               \n",
      "     obtain_marks Avg_package  \n",
      "2019            1           2  \n",
      "2020            1           2  \n",
      "2021            1           2  \n",
      "2022            1           2  \n",
      "2023            1           2  \n"
     ]
    }
   ],
   "source": [
    "branch_df2 = pd.DataFrame([[1,2,3,4,25,30,1,2],[5,6,7,8,30,35,1,2],[9,10,11,12,35,40,1,2],[13,14,15,16,40,45,1,2],[17,18,19,20,45,50,1,2]],index  = [2019,2020,2021,2022,2023], columns= pd.MultiIndex.from_product([[\"Ahmedabad\",\"Surat\"],[\"Avg_marks\",\"Students\",\"obtain_marks\",\"Avg_package\"]]))\n",
    "print(branch_df2)"
   ]
  },
  {
   "cell_type": "code",
   "execution_count": 72,
   "metadata": {},
   "outputs": [
    {
     "data": {
      "text/plain": [
       "MultiIndex([('cse', 2019),\n",
       "            ('cse', 2020),\n",
       "            ('cse', 2021),\n",
       "            ('cse', 2022),\n",
       "            ('cse', 2023),\n",
       "            ('ecs', 2019),\n",
       "            ('ecs', 2020),\n",
       "            ('ecs', 2021),\n",
       "            ('ecs', 2022),\n",
       "            ('ecs', 2023)],\n",
       "           )"
      ]
     },
     "execution_count": 72,
     "metadata": {},
     "output_type": "execute_result"
    }
   ],
   "source": [
    "multi_indx"
   ]
  },
  {
   "cell_type": "code",
   "execution_count": 73,
   "metadata": {},
   "outputs": [
    {
     "data": {
      "text/html": [
       "<div>\n",
       "<style scoped>\n",
       "    .dataframe tbody tr th:only-of-type {\n",
       "        vertical-align: middle;\n",
       "    }\n",
       "\n",
       "    .dataframe tbody tr th {\n",
       "        vertical-align: top;\n",
       "    }\n",
       "\n",
       "    .dataframe thead tr th {\n",
       "        text-align: left;\n",
       "    }\n",
       "</style>\n",
       "<table border=\"1\" class=\"dataframe\">\n",
       "  <thead>\n",
       "    <tr>\n",
       "      <th></th>\n",
       "      <th colspan=\"4\" halign=\"left\">Delhi</th>\n",
       "      <th colspan=\"4\" halign=\"left\">Mumbai</th>\n",
       "    </tr>\n",
       "    <tr>\n",
       "      <th></th>\n",
       "      <th>Students</th>\n",
       "      <th>Avg_marks</th>\n",
       "      <th>obtain_marks</th>\n",
       "      <th>Avg_package</th>\n",
       "      <th>Students</th>\n",
       "      <th>Avg_marks</th>\n",
       "      <th>obtain_marks</th>\n",
       "      <th>Avg_package</th>\n",
       "    </tr>\n",
       "  </thead>\n",
       "  <tbody>\n",
       "    <tr>\n",
       "      <th>2019</th>\n",
       "      <td>1</td>\n",
       "      <td>2</td>\n",
       "      <td>3</td>\n",
       "      <td>4</td>\n",
       "      <td>25</td>\n",
       "      <td>30</td>\n",
       "      <td>1</td>\n",
       "      <td>2</td>\n",
       "    </tr>\n",
       "    <tr>\n",
       "      <th>2020</th>\n",
       "      <td>5</td>\n",
       "      <td>6</td>\n",
       "      <td>7</td>\n",
       "      <td>8</td>\n",
       "      <td>30</td>\n",
       "      <td>35</td>\n",
       "      <td>1</td>\n",
       "      <td>2</td>\n",
       "    </tr>\n",
       "    <tr>\n",
       "      <th>2021</th>\n",
       "      <td>9</td>\n",
       "      <td>10</td>\n",
       "      <td>11</td>\n",
       "      <td>12</td>\n",
       "      <td>35</td>\n",
       "      <td>40</td>\n",
       "      <td>1</td>\n",
       "      <td>2</td>\n",
       "    </tr>\n",
       "    <tr>\n",
       "      <th>2022</th>\n",
       "      <td>13</td>\n",
       "      <td>14</td>\n",
       "      <td>15</td>\n",
       "      <td>16</td>\n",
       "      <td>40</td>\n",
       "      <td>45</td>\n",
       "      <td>1</td>\n",
       "      <td>2</td>\n",
       "    </tr>\n",
       "    <tr>\n",
       "      <th>2023</th>\n",
       "      <td>17</td>\n",
       "      <td>18</td>\n",
       "      <td>19</td>\n",
       "      <td>20</td>\n",
       "      <td>45</td>\n",
       "      <td>50</td>\n",
       "      <td>1</td>\n",
       "      <td>2</td>\n",
       "    </tr>\n",
       "  </tbody>\n",
       "</table>\n",
       "</div>"
      ],
      "text/plain": [
       "        Delhi                                      Mumbai            \\\n",
       "     Students Avg_marks obtain_marks Avg_package Students Avg_marks   \n",
       "2019        1         2            3           4       25        30   \n",
       "2020        5         6            7           8       30        35   \n",
       "2021        9        10           11          12       35        40   \n",
       "2022       13        14           15          16       40        45   \n",
       "2023       17        18           19          20       45        50   \n",
       "\n",
       "                               \n",
       "     obtain_marks Avg_package  \n",
       "2019            1           2  \n",
       "2020            1           2  \n",
       "2021            1           2  \n",
       "2022            1           2  \n",
       "2023            1           2  "
      ]
     },
     "execution_count": 73,
     "metadata": {},
     "output_type": "execute_result"
    }
   ],
   "source": [
    "branch_df1"
   ]
  },
  {
   "cell_type": "code",
   "execution_count": 83,
   "metadata": {},
   "outputs": [
    {
     "data": {
      "text/plain": [
       "2019  Avg_marks     Delhi      2\n",
       "                    Mumbai    30\n",
       "      Avg_package   Delhi      4\n",
       "                    Mumbai     2\n",
       "      Students      Delhi      1\n",
       "                    Mumbai    25\n",
       "      obtain_marks  Delhi      3\n",
       "                    Mumbai     1\n",
       "2020  Avg_marks     Delhi      6\n",
       "                    Mumbai    35\n",
       "      Avg_package   Delhi      8\n",
       "                    Mumbai     2\n",
       "      Students      Delhi      5\n",
       "                    Mumbai    30\n",
       "      obtain_marks  Delhi      7\n",
       "                    Mumbai     1\n",
       "2021  Avg_marks     Delhi     10\n",
       "                    Mumbai    40\n",
       "      Avg_package   Delhi     12\n",
       "                    Mumbai     2\n",
       "      Students      Delhi      9\n",
       "                    Mumbai    35\n",
       "      obtain_marks  Delhi     11\n",
       "                    Mumbai     1\n",
       "2022  Avg_marks     Delhi     14\n",
       "                    Mumbai    45\n",
       "      Avg_package   Delhi     16\n",
       "                    Mumbai     2\n",
       "      Students      Delhi     13\n",
       "                    Mumbai    40\n",
       "      obtain_marks  Delhi     15\n",
       "                    Mumbai     1\n",
       "2023  Avg_marks     Delhi     18\n",
       "                    Mumbai    50\n",
       "      Avg_package   Delhi     20\n",
       "                    Mumbai     2\n",
       "      Students      Delhi     17\n",
       "                    Mumbai    45\n",
       "      obtain_marks  Delhi     19\n",
       "                    Mumbai     1\n",
       "dtype: int64"
      ]
     },
     "execution_count": 83,
     "metadata": {},
     "output_type": "execute_result"
    }
   ],
   "source": [
    "branch_df1.stack().stack()"
   ]
  },
  {
   "cell_type": "code",
   "execution_count": 85,
   "metadata": {},
   "outputs": [
    {
     "data": {
      "text/html": [
       "<div>\n",
       "<style scoped>\n",
       "    .dataframe tbody tr th:only-of-type {\n",
       "        vertical-align: middle;\n",
       "    }\n",
       "\n",
       "    .dataframe tbody tr th {\n",
       "        vertical-align: top;\n",
       "    }\n",
       "\n",
       "    .dataframe thead th {\n",
       "        text-align: right;\n",
       "    }\n",
       "</style>\n",
       "<table border=\"1\" class=\"dataframe\">\n",
       "  <thead>\n",
       "    <tr style=\"text-align: right;\">\n",
       "      <th></th>\n",
       "      <th></th>\n",
       "      <th>2019</th>\n",
       "      <th>2020</th>\n",
       "      <th>2021</th>\n",
       "      <th>2022</th>\n",
       "      <th>2023</th>\n",
       "    </tr>\n",
       "  </thead>\n",
       "  <tbody>\n",
       "    <tr>\n",
       "      <th rowspan=\"4\" valign=\"top\">Delhi</th>\n",
       "      <th>Avg_marks</th>\n",
       "      <td>2</td>\n",
       "      <td>6</td>\n",
       "      <td>10</td>\n",
       "      <td>14</td>\n",
       "      <td>18</td>\n",
       "    </tr>\n",
       "    <tr>\n",
       "      <th>Avg_package</th>\n",
       "      <td>4</td>\n",
       "      <td>8</td>\n",
       "      <td>12</td>\n",
       "      <td>16</td>\n",
       "      <td>20</td>\n",
       "    </tr>\n",
       "    <tr>\n",
       "      <th>Students</th>\n",
       "      <td>1</td>\n",
       "      <td>5</td>\n",
       "      <td>9</td>\n",
       "      <td>13</td>\n",
       "      <td>17</td>\n",
       "    </tr>\n",
       "    <tr>\n",
       "      <th>obtain_marks</th>\n",
       "      <td>3</td>\n",
       "      <td>7</td>\n",
       "      <td>11</td>\n",
       "      <td>15</td>\n",
       "      <td>19</td>\n",
       "    </tr>\n",
       "    <tr>\n",
       "      <th rowspan=\"4\" valign=\"top\">Mumbai</th>\n",
       "      <th>Avg_marks</th>\n",
       "      <td>30</td>\n",
       "      <td>35</td>\n",
       "      <td>40</td>\n",
       "      <td>45</td>\n",
       "      <td>50</td>\n",
       "    </tr>\n",
       "    <tr>\n",
       "      <th>Avg_package</th>\n",
       "      <td>2</td>\n",
       "      <td>2</td>\n",
       "      <td>2</td>\n",
       "      <td>2</td>\n",
       "      <td>2</td>\n",
       "    </tr>\n",
       "    <tr>\n",
       "      <th>Students</th>\n",
       "      <td>25</td>\n",
       "      <td>30</td>\n",
       "      <td>35</td>\n",
       "      <td>40</td>\n",
       "      <td>45</td>\n",
       "    </tr>\n",
       "    <tr>\n",
       "      <th>obtain_marks</th>\n",
       "      <td>1</td>\n",
       "      <td>1</td>\n",
       "      <td>1</td>\n",
       "      <td>1</td>\n",
       "      <td>1</td>\n",
       "    </tr>\n",
       "  </tbody>\n",
       "</table>\n",
       "</div>"
      ],
      "text/plain": [
       "                     2019  2020  2021  2022  2023\n",
       "Delhi  Avg_marks        2     6    10    14    18\n",
       "       Avg_package      4     8    12    16    20\n",
       "       Students         1     5     9    13    17\n",
       "       obtain_marks     3     7    11    15    19\n",
       "Mumbai Avg_marks       30    35    40    45    50\n",
       "       Avg_package      2     2     2     2     2\n",
       "       Students        25    30    35    40    45\n",
       "       obtain_marks     1     1     1     1     1"
      ]
     },
     "execution_count": 85,
     "metadata": {},
     "output_type": "execute_result"
    }
   ],
   "source": [
    "branch_df1.unstack().unstack()"
   ]
  },
  {
   "cell_type": "code",
   "execution_count": 87,
   "metadata": {},
   "outputs": [],
   "source": [
    "import seaborn as sns"
   ]
  },
  {
   "cell_type": "markdown",
   "metadata": {},
   "source": [
    "#pivot table"
   ]
  },
  {
   "cell_type": "code",
   "execution_count": null,
   "metadata": {},
   "outputs": [],
   "source": []
  }
 ],
 "metadata": {
  "kernelspec": {
   "display_name": "Python 3",
   "language": "python",
   "name": "python3"
  },
  "language_info": {
   "codemirror_mode": {
    "name": "ipython",
    "version": 3
   },
   "file_extension": ".py",
   "mimetype": "text/x-python",
   "name": "python",
   "nbconvert_exporter": "python",
   "pygments_lexer": "ipython3",
   "version": "3.11.3"
  }
 },
 "nbformat": 4,
 "nbformat_minor": 2
}
