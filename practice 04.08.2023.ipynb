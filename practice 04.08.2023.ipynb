{
 "cells": [
  {
   "cell_type": "markdown",
   "id": "8520de55",
   "metadata": {},
   "source": [
    "# TUPLES"
   ]
  },
  {
   "cell_type": "code",
   "execution_count": 1,
   "id": "4ab54810",
   "metadata": {},
   "outputs": [
    {
     "name": "stdout",
     "output_type": "stream",
     "text": [
      "('hello', 'good', 1, 3)\n",
      "<class 'tuple'>\n"
     ]
    }
   ],
   "source": [
    "#create tuple\n",
    "\n",
    "mytuple = (\"hello\", \"good\", 1,3)\n",
    "print(mytuple)\n",
    "print(type(mytuple))"
   ]
  },
  {
   "cell_type": "code",
   "execution_count": 3,
   "id": "a9d5b2b2",
   "metadata": {},
   "outputs": [
    {
     "name": "stdout",
     "output_type": "stream",
     "text": [
      "('hello', 'good', 2, 3)\n"
     ]
    }
   ],
   "source": [
    "#tuple using constructor\n",
    "mytuple = tuple((\"hello\", \"good\", 2,3))\n",
    "print(mytuple)"
   ]
  },
  {
   "cell_type": "code",
   "execution_count": 5,
   "id": "354d588f",
   "metadata": {},
   "outputs": [
    {
     "name": "stdout",
     "output_type": "stream",
     "text": [
      "good\n"
     ]
    }
   ],
   "source": [
    "mytuple = (\"hello\", \"good\", \"summer\", \"winter\", \"hospital\")\n",
    "print(mytuple[1])"
   ]
  },
  {
   "cell_type": "code",
   "execution_count": 6,
   "id": "878d71ff",
   "metadata": {},
   "outputs": [
    {
     "name": "stdout",
     "output_type": "stream",
     "text": [
      "summer\n"
     ]
    }
   ],
   "source": [
    "#negetive indexing\n",
    "\n",
    "mytuple = (\"hello\", \"good\", \"summer\", \"winter\", \"hospital\")\n",
    "print(mytuple[-3])"
   ]
  },
  {
   "cell_type": "code",
   "execution_count": 16,
   "id": "5b96d2a0",
   "metadata": {},
   "outputs": [
    {
     "name": "stdout",
     "output_type": "stream",
     "text": [
      "('summer', 'winter', 'hospital', 'hello', 'good', 'summer', 'winter', 'hospital')\n"
     ]
    }
   ],
   "source": [
    "#range of index\n",
    "\n",
    "mytuple = (\"hello\", \"good\", \"summer\", \"winter\", \"hospital\",\"hello\", \"good\", \"summer\", \"winter\", \"hospital\",\"hello\", \"good\", \"summer\", \"winter\", \"hospital\")\n",
    "print(mytuple[2:10])"
   ]
  },
  {
   "cell_type": "code",
   "execution_count": 17,
   "id": "92cfa64a",
   "metadata": {},
   "outputs": [
    {
     "name": "stdout",
     "output_type": "stream",
     "text": [
      "('hello', 'good', 'summer', 'winter', 'hospital')\n"
     ]
    }
   ],
   "source": [
    "print(mytuple[-10:-5])"
   ]
  },
  {
   "cell_type": "code",
   "execution_count": 20,
   "id": "259cb4d0",
   "metadata": {},
   "outputs": [
    {
     "name": "stdout",
     "output_type": "stream",
     "text": [
      "tuple is valid\n"
     ]
    }
   ],
   "source": [
    "#check item in tuple\n",
    "\n",
    "\n",
    "if \"good\" in mytuple:\n",
    "    print(\"tuple is valid\")\n",
    "else:\n",
    "    print(\"tuple not valid\")"
   ]
  },
  {
   "cell_type": "code",
   "execution_count": 27,
   "id": "fe725892",
   "metadata": {},
   "outputs": [
    {
     "name": "stdout",
     "output_type": "stream",
     "text": [
      "('hello', 'good', 'summer', 'winter', 'hospital')\n"
     ]
    }
   ],
   "source": [
    "#change the tuple\n",
    "\n",
    "mytuple = (\"hello\", \"good\", \"summer\", \"winter\", \"hospital\")\n",
    "a = list(mytuple)\n",
    "a[2] = \"sumer\"\n",
    "mytuple = tuple(a)\n",
    "print(mytuple)"
   ]
  },
  {
   "cell_type": "code",
   "execution_count": 30,
   "id": "2c9ada60",
   "metadata": {},
   "outputs": [
    {
     "name": "stdout",
     "output_type": "stream",
     "text": [
      "['good', 'bad', 'equal', ' , ', 2, 3, 5, 8, 9, 'very good']\n"
     ]
    }
   ],
   "source": [
    "mytuple = (\"good\", \"bad\", \"equal\", \"average\", 2,3,5,8,9)\n",
    "x = list(mytuple)# change the tuple\n",
    "x[3] = \" , \" # perticular place put\n",
    "x.append(\"very good\")# add in tuple\n",
    "print(x)"
   ]
  },
  {
   "cell_type": "code",
   "execution_count": 33,
   "id": "b05b404a",
   "metadata": {},
   "outputs": [
    {
     "name": "stdout",
     "output_type": "stream",
     "text": [
      "('good', 'equal', 'average', 2, 3, 5, 8, 9)\n"
     ]
    }
   ],
   "source": [
    "#remove tuple\n",
    "\n",
    "mytuple = (\"good\", \"bad\", \"equal\", \"average\", 2,3,5,8,9)\n",
    "\n",
    "a = list(mytuple)\n",
    "a.remove(\"bad\")\n",
    "mytuple = tuple(a)\n",
    "print(mytuple)"
   ]
  },
  {
   "cell_type": "code",
   "execution_count": 36,
   "id": "b73ac3ba",
   "metadata": {},
   "outputs": [],
   "source": [
    "#delete tuple\n",
    "\n",
    "thistuple = (\"apple\", \"banana\", \"cherry\")\n",
    "del thistuple\n",
    "#print(thistuple)"
   ]
  },
  {
   "cell_type": "code",
   "execution_count": 42,
   "id": "db166222",
   "metadata": {},
   "outputs": [
    {
     "name": "stdout",
     "output_type": "stream",
     "text": [
      "good\n",
      "bad\n",
      "equal\n",
      "average\n"
     ]
    }
   ],
   "source": [
    "#pack and unpack tuple\n",
    "\n",
    "mytuple = (\"good\", \"bad\", \"equal\", \"average\") # this is pack tuple\n",
    "print(mytuple)\n",
    "\n",
    "(bad, something, ok, bye) = mytuple # this is unpack tuple\n",
    "print(bad)\n",
    "print(something)\n",
    "print(ok)\n",
    "print(bye)\n"
   ]
  },
  {
   "cell_type": "code",
   "execution_count": 44,
   "id": "93dfb2a2",
   "metadata": {},
   "outputs": [
    {
     "name": "stdout",
     "output_type": "stream",
     "text": [
      "hello\n",
      "good\n",
      "summer\n",
      "['winter', 'hospital', 'hello', 'good', 'hello', 'good']\n"
     ]
    }
   ],
   "source": [
    "# Using Asterisk (*)\n",
    "\n",
    "mytuple = (\"hello\", \"good\", \"summer\", \"winter\", \"hospital\",\"hello\", \"good\",\"hello\", \"good\")\n",
    "\n",
    "(bad,average,winter,*monsoon) = mytuple\n",
    "print(bad)\n",
    "print(average)\n",
    "print(winter)\n",
    "print(monsoon)\n",
    "\n"
   ]
  },
  {
   "cell_type": "code",
   "execution_count": 48,
   "id": "2033e88f",
   "metadata": {},
   "outputs": [
    {
     "name": "stdout",
     "output_type": "stream",
     "text": [
      "(1, 2, 3, 4, 5, 9)\n",
      "(1, 2, 3, 1, 2, 3, 1, 2, 3)\n"
     ]
    }
   ],
   "source": [
    "#join and multiply tuple\n",
    "\n",
    "mytuple1 = (1,2,3)\n",
    "mytuple2 = (4,5,9)\n",
    "\n",
    "mytuple3 = mytuple1 + mytuple2 #join tuple\n",
    "print(mytuple3)\n",
    "\n",
    "mytuple4 = mytuple1 * 3 # multiply tuple\n",
    "print(mytuple4)"
   ]
  },
  {
   "cell_type": "code",
   "execution_count": 49,
   "id": "1005200a",
   "metadata": {},
   "outputs": [
    {
     "data": {
      "text/plain": [
       "6"
      ]
     },
     "execution_count": 49,
     "metadata": {},
     "output_type": "execute_result"
    }
   ],
   "source": [
    "thistuple = (1, 2, 3, 1, 2, 3, 1, 2, 3, 1, 2, 3, 1, 2, 3, 1, 2, 3)\n",
    "thistuple.count(3)"
   ]
  },
  {
   "cell_type": "code",
   "execution_count": 50,
   "id": "62b8ca73",
   "metadata": {},
   "outputs": [
    {
     "data": {
      "text/plain": [
       "3"
      ]
     },
     "execution_count": 50,
     "metadata": {},
     "output_type": "execute_result"
    }
   ],
   "source": [
    "mytuple = (\"hello\", \"good\", \"summer\", \"winter\", \"hospital\",\"hello\", \"good\",\"hello\", \"good\")\n",
    "mytuple.count(\"hello\")"
   ]
  },
  {
   "cell_type": "code",
   "execution_count": 54,
   "id": "8707c07c",
   "metadata": {},
   "outputs": [
    {
     "name": "stdout",
     "output_type": "stream",
     "text": [
      "3\n"
     ]
    }
   ],
   "source": [
    "mytuple = (\"hello\", \"good\", \"summer\", \"winter\", \"hospital\",\"hello\", \"good\",\"hello\", \"good\")\n",
    "x = mytuple.index(\"winter\")\n",
    "print(x)"
   ]
  },
  {
   "cell_type": "markdown",
   "id": "6dcdb0af",
   "metadata": {},
   "source": [
    "# SET\n"
   ]
  },
  {
   "cell_type": "code",
   "execution_count": 55,
   "id": "9ac12210",
   "metadata": {},
   "outputs": [
    {
     "name": "stdout",
     "output_type": "stream",
     "text": [
      "{'good', 1, 3, 5, 'apple', 'bad'}\n"
     ]
    }
   ],
   "source": [
    "myset = {\"apple\", \"good\", \"bad\", 1 , 3 , 5}\n",
    "print(myset)"
   ]
  },
  {
   "cell_type": "code",
   "execution_count": 56,
   "id": "a1346756",
   "metadata": {},
   "outputs": [
    {
     "name": "stdout",
     "output_type": "stream",
     "text": [
      "6\n"
     ]
    }
   ],
   "source": [
    "print(len(myset))"
   ]
  },
  {
   "cell_type": "code",
   "execution_count": 57,
   "id": "831bd09d",
   "metadata": {},
   "outputs": [
    {
     "name": "stdout",
     "output_type": "stream",
     "text": [
      "<class 'set'>\n"
     ]
    }
   ],
   "source": [
    "print(type(myset))"
   ]
  },
  {
   "cell_type": "code",
   "execution_count": 58,
   "id": "6a216d35",
   "metadata": {},
   "outputs": [
    {
     "name": "stdout",
     "output_type": "stream",
     "text": [
      "valid set\n"
     ]
    }
   ],
   "source": [
    "myset = {\"apple\", \"good\", \"bad\", 1 , 3 , 5}\n",
    "if \"bad\" in myset:\n",
    "    print(\"valid set\")\n",
    "else:\n",
    "    print(\"not valid\")"
   ]
  },
  {
   "cell_type": "code",
   "execution_count": 59,
   "id": "309c594f",
   "metadata": {},
   "outputs": [
    {
     "name": "stdout",
     "output_type": "stream",
     "text": [
      "good\n",
      "1\n",
      "3\n",
      "5\n",
      "apple\n",
      "bad\n"
     ]
    }
   ],
   "source": [
    "for a in myset:\n",
    "    print(a)"
   ]
  },
  {
   "cell_type": "code",
   "execution_count": 60,
   "id": "11d08e97",
   "metadata": {},
   "outputs": [
    {
     "name": "stdout",
     "output_type": "stream",
     "text": [
      "True\n"
     ]
    }
   ],
   "source": [
    "print(\"apple\" in myset )"
   ]
  },
  {
   "cell_type": "code",
   "execution_count": 61,
   "id": "1b4b45ad",
   "metadata": {},
   "outputs": [
    {
     "name": "stdout",
     "output_type": "stream",
     "text": [
      "False\n"
     ]
    }
   ],
   "source": [
    "print(\"appl\" in myset)"
   ]
  },
  {
   "cell_type": "code",
   "execution_count": 64,
   "id": "2fdda14f",
   "metadata": {},
   "outputs": [
    {
     "name": "stdout",
     "output_type": "stream",
     "text": [
      "{'good', 'bad', 'summer', 'apple'}\n"
     ]
    }
   ],
   "source": [
    "myset = {\"apple\", \"good\", \"bad\"} # add set\n",
    "myset.add(\"summer\")\n",
    "myset.add(\"apple\")\n",
    "print(myset)"
   ]
  },
  {
   "cell_type": "code",
   "execution_count": 66,
   "id": "6bc89061",
   "metadata": {},
   "outputs": [
    {
     "name": "stdout",
     "output_type": "stream",
     "text": [
      "set()\n"
     ]
    }
   ],
   "source": [
    "myset = {\"apple\", \"good\", \"bad\"} #clear set\n",
    "myset.clear()\n",
    "print(myset)"
   ]
  },
  {
   "cell_type": "code",
   "execution_count": 67,
   "id": "3088f773",
   "metadata": {},
   "outputs": [
    {
     "name": "stdout",
     "output_type": "stream",
     "text": [
      "{'good', 'bad', 'apple'}\n"
     ]
    }
   ],
   "source": [
    "myset = {\"apple\", \"good\", \"bad\"}# copy set\n",
    "a = myset.copy()\n",
    "print(a)"
   ]
  },
  {
   "cell_type": "code",
   "execution_count": 72,
   "id": "03a84892",
   "metadata": {},
   "outputs": [
    {
     "name": "stdout",
     "output_type": "stream",
     "text": [
      "{'bad', 'apple'}\n",
      "{'microsoft', 'google'}\n"
     ]
    }
   ],
   "source": [
    "myset = {\"apple\", \"good\", \"bad\"} # difference set\n",
    "myset1 = {\"microsoft\", \"good\", \"google\"}\n",
    "\n",
    "a = myset.difference(myset1) \n",
    "b = myset1.difference(myset)\n",
    "\n",
    "print(a)\n",
    "print(b)"
   ]
  },
  {
   "cell_type": "code",
   "execution_count": 74,
   "id": "6b12c5fb",
   "metadata": {},
   "outputs": [
    {
     "name": "stdout",
     "output_type": "stream",
     "text": [
      "{'banana', 'watermelon', 'cherry'}\n",
      "{'microsoft', 'house', 'google'}\n"
     ]
    }
   ],
   "source": [
    "myset1 = {\"apple\", \"banana\", \"cherry\",\"watermelon\"}\n",
    "myset2 = {\"google\", \"microsoft\", \"apple\", \"house\"}\n",
    "\n",
    "a = myset1.difference(myset2)\n",
    "print(a)\n",
    "\n",
    "b = myset2.difference(myset1)\n",
    "print(b)\n"
   ]
  },
  {
   "cell_type": "code",
   "execution_count": 77,
   "id": "1b5b5244",
   "metadata": {},
   "outputs": [
    {
     "name": "stdout",
     "output_type": "stream",
     "text": [
      "{'bad', 'apple'}\n"
     ]
    }
   ],
   "source": [
    "myset = {\"apple\", \"good\", \"bad\"} # difference_ update\n",
    "myset1 = {\"microsoft\", \"good\", \"google\"}\n",
    "\n",
    "myset.difference_update(myset1)\n",
    "print(myset)\n"
   ]
  },
  {
   "cell_type": "code",
   "execution_count": 78,
   "id": "1d0c93d0",
   "metadata": {},
   "outputs": [
    {
     "name": "stdout",
     "output_type": "stream",
     "text": [
      "{'microsoft', 'house', 'google'}\n"
     ]
    }
   ],
   "source": [
    "myset1 = {\"apple\", \"banana\", \"cherry\",\"watermelon\"}\n",
    "myset2 = {\"google\", \"microsoft\", \"apple\", \"house\"}\n",
    "\n",
    "myset2.difference_update(myset1)\n",
    "print(myset2)"
   ]
  },
  {
   "cell_type": "code",
   "execution_count": 79,
   "id": "ca96c5fa",
   "metadata": {},
   "outputs": [
    {
     "name": "stdout",
     "output_type": "stream",
     "text": [
      "{'bad', 'apple'}\n"
     ]
    }
   ],
   "source": [
    "myset = {\"apple\", \"good\", \"bad\"} # dicard set\n",
    "myset.discard(\"good\")\n",
    "print(myset)"
   ]
  },
  {
   "cell_type": "code",
   "execution_count": 82,
   "id": "5b63bf05",
   "metadata": {},
   "outputs": [
    {
     "name": "stdout",
     "output_type": "stream",
     "text": [
      "{'apple'}\n"
     ]
    }
   ],
   "source": [
    "myset1 = {\"apple\", \"banana\", \"cherry\",\"watermelon\"} # intersection set\n",
    "myset2 = {\"google\", \"microsoft\", \"apple\", \"house\"}\n",
    "\n",
    "a = myset1.intersection(myset2)\n",
    "print(a)\n"
   ]
  },
  {
   "cell_type": "code",
   "execution_count": 84,
   "id": "2fd88605",
   "metadata": {},
   "outputs": [
    {
     "name": "stdout",
     "output_type": "stream",
     "text": [
      "{'microsoft', 'house', 'google', 'apple'}\n"
     ]
    }
   ],
   "source": [
    "myset1 = {\"apple\", \"banana\", \"cherry\",\"watermelon\"} # intersection_update\n",
    "myset2 = {\"google\", \"microsoft\", \"apple\", \"house\"}\n",
    "\n",
    "myset2.intersection(myset1)\n",
    "print(myset2)"
   ]
  },
  {
   "cell_type": "code",
   "execution_count": 85,
   "id": "640e3641",
   "metadata": {},
   "outputs": [
    {
     "name": "stdout",
     "output_type": "stream",
     "text": [
      "False\n"
     ]
    }
   ],
   "source": [
    "myset = {\"apple\", \"good\", \"bad\", \"average\"} # isdisjoint set\n",
    "myset2 = {\"google\", \"microsoft\", \"apple\", \"house\"}\n",
    "\n",
    "a = myset.isdisjoint(myset2) # same item in set that's why false\n",
    "print(a)"
   ]
  },
  {
   "cell_type": "code",
   "execution_count": 86,
   "id": "31228fec",
   "metadata": {},
   "outputs": [
    {
     "name": "stdout",
     "output_type": "stream",
     "text": [
      "True\n"
     ]
    }
   ],
   "source": [
    "x = {\"apple\", \"banana\", \"cherry\"} # not same item in set that's why true\n",
    "y = {\"google\", \"microsoft\", \"facebook\"}\n",
    "\n",
    "a = y.isdisjoint(x)\n",
    "print(a)"
   ]
  },
  {
   "cell_type": "code",
   "execution_count": 87,
   "id": "335e0f57",
   "metadata": {},
   "outputs": [
    {
     "name": "stdout",
     "output_type": "stream",
     "text": [
      "{'house', 'google', 'apple'}\n"
     ]
    }
   ],
   "source": [
    "myset2 = {\"google\", \"microsoft\", \"apple\", \"house\"} # pop set\n",
    "\n",
    "myset2.pop()\n",
    "print(myset2)"
   ]
  },
  {
   "cell_type": "code",
   "execution_count": 88,
   "id": "28f2f6e3",
   "metadata": {},
   "outputs": [
    {
     "name": "stdout",
     "output_type": "stream",
     "text": [
      "{'banana', 'cherry'}\n"
     ]
    }
   ],
   "source": [
    "x = {\"apple\", \"banana\", \"cherry\",\"apple\", \"banana\", \"cherry\"} # remove set\n",
    "\n",
    "x.remove(\"apple\")\n",
    "print(x)"
   ]
  },
  {
   "cell_type": "code",
   "execution_count": 90,
   "id": "49a85264",
   "metadata": {},
   "outputs": [
    {
     "name": "stdout",
     "output_type": "stream",
     "text": [
      "{'average', 'apple', 'bad', 'house', 'google', 'good', 'microsoft'}\n"
     ]
    }
   ],
   "source": [
    "myset = {\"apple\", \"good\", \"bad\", \"average\"} # union set\n",
    "myset2 = {\"google\", \"microsoft\", \"apple\", \"house\"}\n",
    "\n",
    "a = myset.union(myset2)\n",
    "print(a)"
   ]
  },
  {
   "cell_type": "code",
   "execution_count": 91,
   "id": "7ca2375b",
   "metadata": {},
   "outputs": [
    {
     "name": "stdout",
     "output_type": "stream",
     "text": [
      "{'microsoft', 'cherry', 'apple', 'banana', 'google'}\n"
     ]
    }
   ],
   "source": [
    "x = {\"apple\", \"banana\", \"cherry\"} #update set\n",
    "y = {\"google\", \"microsoft\", \"apple\"}\n",
    "\n",
    "x.update(y)\n",
    "print(x)\n"
   ]
  },
  {
   "cell_type": "markdown",
   "id": "9ffcedff",
   "metadata": {},
   "source": [
    "# DICTIONARIES"
   ]
  },
  {
   "cell_type": "code",
   "execution_count": 93,
   "id": "26d26d7a",
   "metadata": {},
   "outputs": [
    {
     "name": "stdout",
     "output_type": "stream",
     "text": [
      "{'name': 'pooja', 'address': 'valsad', 'age': 30}\n"
     ]
    }
   ],
   "source": [
    "thisdict = {\n",
    "    \"name\": \"pooja\",\n",
    "    \"address\": \"valsad\",\n",
    "    \"age\": 30,\n",
    "}\n",
    "print(thisdict)"
   ]
  },
  {
   "cell_type": "code",
   "execution_count": 94,
   "id": "15095ba4",
   "metadata": {},
   "outputs": [
    {
     "name": "stdout",
     "output_type": "stream",
     "text": [
      "<class 'dict'>\n"
     ]
    }
   ],
   "source": [
    "print(type(thisdict))"
   ]
  },
  {
   "cell_type": "code",
   "execution_count": 95,
   "id": "66a1e225",
   "metadata": {},
   "outputs": [
    {
     "name": "stdout",
     "output_type": "stream",
     "text": [
      "valid dict\n"
     ]
    }
   ],
   "source": [
    "if \"address\" in thisdict:\n",
    "    print(\"valid dict\")"
   ]
  },
  {
   "cell_type": "code",
   "execution_count": 96,
   "id": "809a108e",
   "metadata": {},
   "outputs": [
    {
     "name": "stdout",
     "output_type": "stream",
     "text": [
      "name\n",
      "address\n",
      "age\n"
     ]
    }
   ],
   "source": [
    "for a in thisdict:\n",
    "    print(a)"
   ]
  },
  {
   "cell_type": "code",
   "execution_count": 97,
   "id": "4da09c48",
   "metadata": {},
   "outputs": [
    {
     "name": "stdout",
     "output_type": "stream",
     "text": [
      "3\n"
     ]
    }
   ],
   "source": [
    "print(len(thisdict))"
   ]
  },
  {
   "cell_type": "code",
   "execution_count": 102,
   "id": "b85cd0d6",
   "metadata": {},
   "outputs": [
    {
     "name": "stdout",
     "output_type": "stream",
     "text": [
      "30\n",
      "pooja\n"
     ]
    }
   ],
   "source": [
    "thisdict = {\n",
    "    \"name\": \"pooja\",\n",
    "    \"address\": \"valsad\",\n",
    "    \"age\": 30,\n",
    "}\n",
    "print(thisdict[\"age\"])\n",
    "print(thisdict[\"name\"])\n"
   ]
  },
  {
   "cell_type": "code",
   "execution_count": 103,
   "id": "3759b462",
   "metadata": {},
   "outputs": [
    {
     "data": {
      "text/plain": [
       "dict_keys(['name', 'address', 'age'])"
      ]
     },
     "execution_count": 103,
     "metadata": {},
     "output_type": "execute_result"
    }
   ],
   "source": [
    "thisdict.keys()"
   ]
  },
  {
   "cell_type": "code",
   "execution_count": 105,
   "id": "f6e8937f",
   "metadata": {},
   "outputs": [
    {
     "data": {
      "text/plain": [
       "dict_values(['pooja', 'valsad', 30])"
      ]
     },
     "execution_count": 105,
     "metadata": {},
     "output_type": "execute_result"
    }
   ],
   "source": [
    "thisdict.values()"
   ]
  },
  {
   "cell_type": "code",
   "execution_count": 107,
   "id": "d99dafc5",
   "metadata": {},
   "outputs": [
    {
     "data": {
      "text/plain": [
       "'valsad'"
      ]
     },
     "execution_count": 107,
     "metadata": {},
     "output_type": "execute_result"
    }
   ],
   "source": [
    "thisdict.get(\"address\")"
   ]
  },
  {
   "cell_type": "code",
   "execution_count": 111,
   "id": "aa5d9545",
   "metadata": {},
   "outputs": [
    {
     "data": {
      "text/plain": [
       "dict_keys(['name', 'model name', 'fuel', 'prize', 'color'])"
      ]
     },
     "execution_count": 111,
     "metadata": {},
     "output_type": "execute_result"
    }
   ],
   "source": [
    "car = {\n",
    "    \"name\": \"ford\",\n",
    "    \"model name\": \"cmx36253\",\n",
    "    \"fuel\" : \"petrol\",\n",
    "    \"prize\" : 750000,\n",
    "    \"color\" : \"red\"\n",
    "}\n",
    "\n",
    "car.keys()\n"
   ]
  },
  {
   "cell_type": "code",
   "execution_count": 112,
   "id": "5987d46a",
   "metadata": {},
   "outputs": [
    {
     "data": {
      "text/plain": [
       "dict_values(['ford', 'cmx36253', 'petrol', 750000, 'red'])"
      ]
     },
     "execution_count": 112,
     "metadata": {},
     "output_type": "execute_result"
    }
   ],
   "source": [
    "car.values()"
   ]
  },
  {
   "cell_type": "code",
   "execution_count": 113,
   "id": "c62e1df8",
   "metadata": {},
   "outputs": [
    {
     "name": "stdout",
     "output_type": "stream",
     "text": [
      "5\n"
     ]
    }
   ],
   "source": [
    "print(len(car))"
   ]
  },
  {
   "cell_type": "code",
   "execution_count": 114,
   "id": "1616fea5",
   "metadata": {},
   "outputs": [
    {
     "name": "stdout",
     "output_type": "stream",
     "text": [
      "red\n"
     ]
    }
   ],
   "source": [
    "print(car[\"color\"])"
   ]
  },
  {
   "cell_type": "code",
   "execution_count": 125,
   "id": "fdc88c6d",
   "metadata": {},
   "outputs": [
    {
     "name": "stdout",
     "output_type": "stream",
     "text": [
      "dict_keys(['name', 'model_name', 'fuel', 'prize', 'color', 'size'])\n"
     ]
    }
   ],
   "source": [
    "car = {\n",
    "    \"name\": \"ford\",\n",
    "    \"model_name\": \"cmx36253\",\n",
    "    \"fuel\" : \"petrol\",\n",
    "    \"prize\" : 750000,\n",
    "    \"color\" : \"red\"\n",
    "}\n",
    "\n",
    "\n",
    "x = car.keys()\n",
    "car[\"size\"] = \"7seater\"\n",
    "print(x)"
   ]
  },
  {
   "cell_type": "code",
   "execution_count": 126,
   "id": "c495dfc3",
   "metadata": {},
   "outputs": [
    {
     "name": "stdout",
     "output_type": "stream",
     "text": [
      "{'name': 'ford', 'model_name': 'cmx36253', 'fuel': 'petrol', 'prize': 750000, 'color': 'red', 'size': '7seater'}\n"
     ]
    }
   ],
   "source": [
    "print(car)"
   ]
  },
  {
   "cell_type": "code",
   "execution_count": 127,
   "id": "706bab9d",
   "metadata": {},
   "outputs": [
    {
     "name": "stdout",
     "output_type": "stream",
     "text": [
      "dict_values(['ford', 'cmx36253', 'petrol', 750000, 'white', '7seater'])\n"
     ]
    }
   ],
   "source": [
    "y = car.values()\n",
    "car[\"color\"] = \"white\"\n",
    "print(y)"
   ]
  },
  {
   "cell_type": "code",
   "execution_count": 130,
   "id": "cf5367ce",
   "metadata": {},
   "outputs": [
    {
     "name": "stdout",
     "output_type": "stream",
     "text": [
      "{'name': 'Hundai', 'model_name': 'cmx36253', 'fuel': 'petrol', 'prize': 750000, 'color': 'white', 'size': '7seater'}\n"
     ]
    }
   ],
   "source": [
    "car.update({\"name\" : \"Hundai\"})\n",
    "print(car)"
   ]
  },
  {
   "cell_type": "code",
   "execution_count": 132,
   "id": "68ea6f5f",
   "metadata": {},
   "outputs": [
    {
     "name": "stdout",
     "output_type": "stream",
     "text": [
      "name\n",
      "model_name\n",
      "fuel\n",
      "prize\n",
      "color\n"
     ]
    }
   ],
   "source": [
    "car = {\n",
    "    \"name\": \"ford\",\n",
    "    \"model_name\": \"cmx36253\",\n",
    "    \"fuel\" : \"petrol\",\n",
    "    \"prize\" : 750000,\n",
    "    \"color\" : \"red\"\n",
    "}\n",
    "\n",
    "for a in car:\n",
    "    print(a)"
   ]
  },
  {
   "cell_type": "code",
   "execution_count": 133,
   "id": "5c971dd8",
   "metadata": {},
   "outputs": [
    {
     "name": "stdout",
     "output_type": "stream",
     "text": [
      "ford\n",
      "cmx36253\n",
      "petrol\n",
      "750000\n",
      "red\n"
     ]
    }
   ],
   "source": [
    "for a in car.values():\n",
    "    print(a)"
   ]
  },
  {
   "cell_type": "code",
   "execution_count": 136,
   "id": "8fad544f",
   "metadata": {},
   "outputs": [
    {
     "name": "stdout",
     "output_type": "stream",
     "text": [
      "name ford\n",
      "model_name cmx36253\n",
      "fuel petrol\n",
      "prize 750000\n",
      "color red\n"
     ]
    }
   ],
   "source": [
    "for a ,b in car.items():\n",
    "    print(a, b)"
   ]
  },
  {
   "cell_type": "code",
   "execution_count": 138,
   "id": "27a7b91f",
   "metadata": {},
   "outputs": [
    {
     "name": "stdout",
     "output_type": "stream",
     "text": [
      "{'name': 'ford', 'model_name': 'cmx36253', 'fuel': 'petrol', 'prize': 750000, 'color': 'red'}\n"
     ]
    }
   ],
   "source": [
    "car = {\n",
    "    \"name\": \"ford\",\n",
    "    \"model_name\": \"cmx36253\",\n",
    "    \"fuel\" : \"petrol\",\n",
    "    \"prize\" : 750000,\n",
    "    \"color\" : \"red\"\n",
    "}\n",
    "\n",
    "motor = car.copy()\n",
    "print(motor)"
   ]
  },
  {
   "cell_type": "code",
   "execution_count": 139,
   "id": "9d654150",
   "metadata": {},
   "outputs": [
    {
     "name": "stdout",
     "output_type": "stream",
     "text": [
      "{'name': 'ford', 'model_name': 'cmx36253', 'fuel': 'petrol', 'prize': 750000, 'color': 'red'}\n"
     ]
    }
   ],
   "source": [
    "motor = dict(car)\n",
    "print(motor)"
   ]
  },
  {
   "cell_type": "code",
   "execution_count": 140,
   "id": "1cc72d4b",
   "metadata": {},
   "outputs": [
    {
     "name": "stdout",
     "output_type": "stream",
     "text": [
      "{'doctor': {'name': 'vishal', 'degee': 'MBBS'}, 'patient': {'id': 123, 'name': ' vishakha'}}\n"
     ]
    }
   ],
   "source": [
    "#nested dictionaries \n",
    "\n",
    "doctor = {\n",
    "    \"name\": \"vishal\",\n",
    "    \"degee\" : \"MBBS\",\n",
    "    \n",
    "}\n",
    "\n",
    "patient = {\n",
    "    \"id\" : 123,\n",
    "    \"name\"  : \" vishakha\",\n",
    "}\n",
    "\n",
    "\n",
    "hospital = {\n",
    "    \"doctor\" : doctor,\n",
    "    \"patient\" : patient\n",
    "}\n",
    "print(hospital)"
   ]
  },
  {
   "cell_type": "markdown",
   "id": "3b9f960b",
   "metadata": {},
   "source": [
    "# TUPLE PRACTICE"
   ]
  },
  {
   "cell_type": "code",
   "execution_count": 142,
   "id": "5d853095",
   "metadata": {},
   "outputs": [
    {
     "name": "stdout",
     "output_type": "stream",
     "text": [
      "('ekta', 'suraj', 1, 2, 3)\n"
     ]
    }
   ],
   "source": [
    "# Python program to demonstrate the addition of elements in a Tuple.\n",
    "\n",
    "mytuple = (\"ekta\", \"suraj\")\n",
    "mytuple2 = (1,2,3)\n",
    "\n",
    "a  = mytuple + mytuple2\n",
    "print(a)"
   ]
  },
  {
   "cell_type": "code",
   "execution_count": 143,
   "id": "60db897b",
   "metadata": {},
   "outputs": [
    {
     "name": "stdout",
     "output_type": "stream",
     "text": [
      "2\n"
     ]
    }
   ],
   "source": [
    "# Find the size of a Tuple in Python\n",
    "\n",
    "mytuple = (\"ekta\", \"suraj\")\n",
    "print(len(mytuple))"
   ]
  },
  {
   "cell_type": "code",
   "execution_count": 148,
   "id": "bb3c3748",
   "metadata": {},
   "outputs": [
    {
     "name": "stdout",
     "output_type": "stream",
     "text": [
      "1\n",
      "62\n"
     ]
    }
   ],
   "source": [
    "# Maximum and Minimum K elements in Tuple\n",
    "\n",
    "mytuple = (1,2,3,5,9,25,62)\n",
    "\n",
    "\n",
    "min_value = min(mytuple)\n",
    "print(min_value)\n",
    "\n",
    "max_value = max(mytuple)\n",
    "print(max_value)"
   ]
  },
  {
   "cell_type": "code",
   "execution_count": 163,
   "id": "31e0cd2e",
   "metadata": {
    "scrolled": false
   },
   "outputs": [
    {
     "data": {
      "text/plain": [
       "[(1, 1), (2, 8), (3, 27)]"
      ]
     },
     "execution_count": 163,
     "metadata": {},
     "output_type": "execute_result"
    }
   ],
   "source": [
    "#program to create a list of tuples from given list having number and its cube in each tuple\n",
    "\n",
    "mytuple = (1,2,3)\n",
    "[(a, a**3) for a in mytuple]"
   ]
  },
  {
   "cell_type": "code",
   "execution_count": 164,
   "id": "ea1bb1de",
   "metadata": {},
   "outputs": [],
   "source": [
    "a = (1,2,3)"
   ]
  },
  {
   "cell_type": "code",
   "execution_count": 165,
   "id": "f772c66b",
   "metadata": {},
   "outputs": [
    {
     "data": {
      "text/plain": [
       "[(1, 1), (2, 8), (3, 27)]"
      ]
     },
     "execution_count": 165,
     "metadata": {},
     "output_type": "execute_result"
    }
   ],
   "source": [
    "[(a,a**3) for a in a]"
   ]
  },
  {
   "cell_type": "code",
   "execution_count": 170,
   "id": "396507c6",
   "metadata": {},
   "outputs": [
    {
     "data": {
      "text/plain": [
       "[(4, 64), (8, 512), (12, 1728), (16, 4096)]"
      ]
     },
     "execution_count": 170,
     "metadata": {},
     "output_type": "execute_result"
    }
   ],
   "source": [
    "x = (4,8,12,16)\n",
    "[(a, a**3) for a in x]    "
   ]
  },
  {
   "cell_type": "code",
   "execution_count": 171,
   "id": "67b72b7a",
   "metadata": {},
   "outputs": [
    {
     "data": {
      "text/plain": [
       "[(2, 4), (5, 25), (7, 49), (1, 1)]"
      ]
     },
     "execution_count": 171,
     "metadata": {},
     "output_type": "execute_result"
    }
   ],
   "source": [
    "mytuple = (2,5,7,1)\n",
    "[(a,a ** 2)for a in mytuple]"
   ]
  },
  {
   "cell_type": "code",
   "execution_count": 174,
   "id": "65792c8f",
   "metadata": {},
   "outputs": [
    {
     "name": "stdout",
     "output_type": "stream",
     "text": [
      "[1, 2, 3, 2, 3, 4]\n"
     ]
    }
   ],
   "source": [
    "# Adding Tuple to List and vice – versa\n",
    "\n",
    "a = (1,2,3)\n",
    "b = (2,3,4)\n",
    "c = a+b\n",
    "x = list(c)\n",
    "print(x)"
   ]
  },
  {
   "cell_type": "code",
   "execution_count": 176,
   "id": "81e18234",
   "metadata": {},
   "outputs": [
    {
     "name": "stdout",
     "output_type": "stream",
     "text": [
      "21\n"
     ]
    }
   ],
   "source": [
    "# Sum of tuple elements\n",
    "\n",
    "a = (1,2,3)\n",
    "b = (4,5,6)\n",
    "c =  sum( a + b )\n",
    "print(c)"
   ]
  },
  {
   "cell_type": "code",
   "execution_count": 186,
   "id": "6423f2a7",
   "metadata": {
    "scrolled": true
   },
   "outputs": [
    {
     "data": {
      "text/plain": [
       "[(10, 5, 5), (4, 2, 6), (5, 2, 7), (6, 5, 5)]"
      ]
     },
     "execution_count": 186,
     "metadata": {},
     "output_type": "execute_result"
    }
   ],
   "source": [
    "# Modulo of tuple elements\n",
    "\n",
    "a =(10, 4, 5, 6)\n",
    "b = (5, 6, 7, 5)\n",
    "\n",
    "[(x,y % x,y )for x,y in zip(a,b)]\n",
    "\n",
    " \n"
   ]
  },
  {
   "cell_type": "code",
   "execution_count": 188,
   "id": "6f7f6ca3",
   "metadata": {},
   "outputs": [
    {
     "name": "stdout",
     "output_type": "stream",
     "text": [
      "[1, 2, 3, 'apple']\n"
     ]
    }
   ],
   "source": [
    "# Update each element in tuple list\n",
    "\n",
    "a = (1,2,3)\n",
    "\n",
    "x = list(a)\n",
    "x.append(\"apple\")\n",
    "\n",
    "print(x)\n",
    "\n",
    "\n"
   ]
  },
  {
   "cell_type": "code",
   "execution_count": 189,
   "id": "aae72560",
   "metadata": {},
   "outputs": [
    {
     "data": {
      "text/plain": [
       "(1, 2, 3, 1, 2, 3)"
      ]
     },
     "execution_count": 189,
     "metadata": {},
     "output_type": "execute_result"
    }
   ],
   "source": [
    "# Multiply Adjacent elements\n",
    "\n",
    "a = (1,2,3)\n",
    "a*2"
   ]
  },
  {
   "cell_type": "code",
   "execution_count": 204,
   "id": "645b1816",
   "metadata": {},
   "outputs": [
    {
     "name": "stdout",
     "output_type": "stream",
     "text": [
      "original list:[(5, 6), (5, 7), (6, 8), (6, 10), (7, 13)]\n",
      "[(5, 6, 7), (6, 8, 10), (7, 13)]\n"
     ]
    }
   ],
   "source": [
    "# Join Tuples if similar initial element\n",
    "\n",
    "a = [(5, 6), (5, 7), (6, 8), (6, 10), (7, 13)]\n",
    "x = []\n",
    "print(f\"original list:\" +str(a))\n",
    "\n",
    "\n",
    "\n",
    "for y in a:\n",
    "    if x and x[-1][0] == y[0]:\n",
    "        x[-1].extend(y[1:])\n",
    "    else:\n",
    "        x.append([b for b in y])\n",
    "        \n",
    "x = list(map(tuple,x))\n",
    "\n",
    "print(x)\n",
    "\n",
    "\n"
   ]
  },
  {
   "cell_type": "code",
   "execution_count": 206,
   "id": "7f93ba17",
   "metadata": {},
   "outputs": [
    {
     "name": "stdout",
     "output_type": "stream",
     "text": [
      "original tuple:(1, 2)\n",
      "original tuple:(2, 3)\n",
      "[(1, 1), (1, 2), (2, 1), (2, 2), (1, 1), (1, 2), (2, 1), (2, 2)]\n"
     ]
    }
   ],
   "source": [
    "# All pair combinations of 2 tuples\n",
    "\n",
    "\n",
    "a = (1,2)\n",
    "b = (2,3)\n",
    "\n",
    "print(\"original tuple:\" +str(a))\n",
    "print(\"original tuple:\" +str(b))\n",
    "\n",
    "#res =  [(a, b) for a in test_tuple1 for b in test_tuple2]\n",
    "#res = res +  [(a, b) for a in test_tuple2 for b in test_tuple1]\n",
    "\n",
    "x = [(c,d) for c in a for d in a]\n",
    "x = x + [(c,d) for c in a for d in a]\n",
    "\n",
    "print(x)\n",
    " \n",
    "\n"
   ]
  },
  {
   "cell_type": "code",
   "execution_count": 208,
   "id": "67d26b08",
   "metadata": {},
   "outputs": [
    {
     "name": "stdout",
     "output_type": "stream",
     "text": [
      "[1, 2, 3, 9]\n"
     ]
    }
   ],
   "source": [
    "# Remove Tuples of Length K\n",
    "\n",
    "a = (1,2,3,5,9)\n",
    "\n",
    "x = list(a)\n",
    "x.remove(5)\n",
    "print(x)"
   ]
  },
  {
   "cell_type": "code",
   "execution_count": 218,
   "id": "2d43b79a",
   "metadata": {},
   "outputs": [
    {
     "name": "stdout",
     "output_type": "stream",
     "text": [
      "original list:[(None, None), (None, None), (3, 4), (12, 3), (None,)]\n",
      "after removing list:[(3, 4), (12, 3)]\n"
     ]
    }
   ],
   "source": [
    "# Remove Tuples from the List having every element as None\n",
    "\n",
    "a = [(None, None), (None, None), (3, 4), (12, 3), (None, )]\n",
    "\n",
    "print(f\"original list:\" +str(a))\n",
    "\n",
    "x = []\n",
    "for y in a:\n",
    "    if  not (y.count(None) == len(y)):\n",
    "        x.append(y)\n",
    "    \n",
    "print(\"after removing list:\"+str(x))\n"
   ]
  },
  {
   "cell_type": "code",
   "execution_count": 220,
   "id": "c9be29ef",
   "metadata": {},
   "outputs": [
    {
     "name": "stdout",
     "output_type": "stream",
     "text": [
      "original list: [(None, None), (None, None), (1, None), (2, 5), (5, 8), (None, 8)]\n",
      "[(1, None), (2, 5), (5, 8), (None, 8)]\n"
     ]
    }
   ],
   "source": [
    "a = [(None,None), (None,None), (1,None), (2,5),(5,8),(None,8)]\n",
    "\n",
    "print(\"original list: \" +str(a))\n",
    "\n",
    "x = []\n",
    "\n",
    "for b in a:\n",
    "    if not (b.count(None) == len(b)):\n",
    "        x.append(b)\n",
    "        \n",
    "print(x)\n",
    " "
   ]
  },
  {
   "cell_type": "code",
   "execution_count": 228,
   "id": "2fb6c83d",
   "metadata": {},
   "outputs": [
    {
     "name": "stdout",
     "output_type": "stream",
     "text": [
      "[('akash', 5), ('rishav', 10), ('gaurav', 15), ('ram', 20)]\n"
     ]
    }
   ],
   "source": [
    "def Sort_Tuple(tup):\n",
    " \n",
    "    # reverse = None (Sorts in Ascending order)\n",
    "    # key is set to sort using second element of\n",
    "    # sublist lambda has been used\n",
    "    tup.sort(key = lambda x: x[1])\n",
    "    return tup\n",
    " \n",
    "# Driver Code\n",
    "tup = [('rishav', 10), ('akash', 5), ('ram', 20), ('gaurav', 15)]\n",
    " \n",
    "# printing the sorted list of tuples\n",
    "print(Sort_Tuple(tup))"
   ]
  },
  {
   "cell_type": "markdown",
   "id": "6bfce41c",
   "metadata": {},
   "source": [
    "#  Dictionaries"
   ]
  },
  {
   "cell_type": "code",
   "execution_count": 229,
   "id": "b96d8eb8",
   "metadata": {},
   "outputs": [
    {
     "name": "stdout",
     "output_type": "stream",
     "text": [
      "dict_keys(['name', 'prize', 'color'])\n"
     ]
    }
   ],
   "source": [
    "# Sort Python Dictionaries by Key or Value\n",
    "car = {\n",
    "    \"name\" : \"ford\",\n",
    "    \"prize\" : 750000,\n",
    "    \"color\" : \"white\"\n",
    "}\n",
    "\n",
    "print(car.keys())\n"
   ]
  },
  {
   "cell_type": "code",
   "execution_count": 232,
   "id": "efb27866",
   "metadata": {},
   "outputs": [
    {
     "name": "stdout",
     "output_type": "stream",
     "text": [
      "{'rajnish': 9, 'ravi': 10, 'sanjeev': 15, 'suraj': 32, 'yash': 2}\n"
     ]
    }
   ],
   "source": [
    "myDict = {\n",
    "    'ravi': 10, \n",
    "    'rajnish': 9,\n",
    "    'sanjeev': 15, \n",
    "    'yash': 2, \n",
    "    'suraj': 32\n",
    "}\n",
    "\n",
    "mykeys = list(myDict.keys())\n",
    "\n",
    "mykeys.sort()\n",
    "\n",
    "sorted_dict = { i: myDict[i] for i in mykeys}\n",
    "\n",
    "print(sorted_dict)"
   ]
  },
  {
   "cell_type": "code",
   "execution_count": 233,
   "id": "0ca43018",
   "metadata": {},
   "outputs": [
    {
     "name": "stdout",
     "output_type": "stream",
     "text": [
      "{'rajnish': 9, 'ravi': 10, 'sanjeev': 15, 'suraj': 32, 'yash': 2}\n"
     ]
    }
   ],
   "source": [
    "myDict = {'ravi': 10, 'rajnish': 9,\n",
    "        'sanjeev': 15, 'yash': 2, 'suraj': 32}\n",
    " \n",
    "myKeys = list(myDict.keys())\n",
    "myKeys.sort()\n",
    "sorted_dict = {i: myDict[i] for i in myKeys}\n",
    " \n",
    "print(sorted_dict)"
   ]
  },
  {
   "cell_type": "code",
   "execution_count": 234,
   "id": "8a2f46fa",
   "metadata": {},
   "outputs": [],
   "source": [
    "# Handling missing keys in Python dictionaries\n",
    "\n",
    "\n"
   ]
  },
  {
   "cell_type": "code",
   "execution_count": 239,
   "id": "68417767",
   "metadata": {},
   "outputs": [
    {
     "name": "stdout",
     "output_type": "stream",
     "text": [
      "[\"19.07'53.2\", \"28.33'34.1\"]\n",
      "[\"72.54'51.0\", \"77.06'16.6\"]\n",
      "['Mumbai', 'Delhi']\n"
     ]
    }
   ],
   "source": [
    "# Python dictionary with keys having multiple inputs\n",
    "\n",
    "\n",
    "a = {\n",
    "    (\"19.07'53.2\", \"72.54'51.0\"):\"Mumbai\",\n",
    "    (\"28.33'34.1\", \"77.06'16.6\"):\"Delhi\"\n",
    "}\n",
    "\n",
    "#print(a)\n",
    "\n",
    "b = []\n",
    "c = []\n",
    "d = []\n",
    "\n",
    "for i in a:\n",
    "    b.append(i[0])\n",
    "    c.append(i[1])\n",
    "    d.append(a[i[0] , i[1]])\n",
    "    \n",
    "    \n",
    "print(b)\n",
    "print(c)\n",
    "print(d)"
   ]
  },
  {
   "cell_type": "code",
   "execution_count": 3,
   "id": "d232128b",
   "metadata": {},
   "outputs": [
    {
     "name": "stdout",
     "output_type": "stream",
     "text": [
      "Sum:  600\n"
     ]
    }
   ],
   "source": [
    "# program to find the sum of all items in a dictionary\n",
    "\n",
    "act = {\n",
    "    \"a\": 100, \n",
    "    \"b\":200, \n",
    "    \"c\":300\n",
    "}\n",
    "\n",
    "def sum_dic(act):\n",
    "    Sum = 0\n",
    "    \n",
    "    for i in act:\n",
    "        Sum = Sum + act [i]\n",
    "    return Sum\n",
    "        \n",
    "print(\"Sum: \", sum_dic(act))\n",
    "\n"
   ]
  },
  {
   "cell_type": "code",
   "execution_count": 4,
   "id": "93358ea7",
   "metadata": {},
   "outputs": [
    {
     "name": "stdout",
     "output_type": "stream",
     "text": [
      "Total : 500\n"
     ]
    }
   ],
   "source": [
    "add = {\n",
    "    \"data\": 200,\n",
    "    \"data1\" : 100,\n",
    "    \"data3\" : 200\n",
    "}\n",
    "\n",
    "def sum_add(add):\n",
    "    a = 0\n",
    "    for i in add:\n",
    "        a = a + add[i]\n",
    "    return a\n",
    "print(\"Total :\", sum_add(add))"
   ]
  },
  {
   "cell_type": "code",
   "execution_count": 7,
   "id": "cb846cb5",
   "metadata": {},
   "outputs": [
    {
     "ename": "KeyError",
     "evalue": "2",
     "output_type": "error",
     "traceback": [
      "\u001b[1;31m---------------------------------------------------------------------------\u001b[0m",
      "\u001b[1;31mKeyError\u001b[0m                                  Traceback (most recent call last)",
      "Input \u001b[1;32mIn [7]\u001b[0m, in \u001b[0;36m<cell line: 14>\u001b[1;34m()\u001b[0m\n\u001b[0;32m     11\u001b[0m myvalues \u001b[38;5;241m=\u001b[39m \u001b[38;5;28mlist\u001b[39m(myDict\u001b[38;5;241m.\u001b[39mvalues())\n\u001b[0;32m     12\u001b[0m myvalues\u001b[38;5;241m.\u001b[39msort()\n\u001b[1;32m---> 14\u001b[0m sorted_dict \u001b[38;5;241m=\u001b[39m { i: myDict[i] \u001b[38;5;28;01mfor\u001b[39;00m i \u001b[38;5;129;01min\u001b[39;00m myvalues}\n\u001b[0;32m     16\u001b[0m \u001b[38;5;28mprint\u001b[39m(sorted_dict)\n",
      "Input \u001b[1;32mIn [7]\u001b[0m, in \u001b[0;36m<dictcomp>\u001b[1;34m(.0)\u001b[0m\n\u001b[0;32m     11\u001b[0m myvalues \u001b[38;5;241m=\u001b[39m \u001b[38;5;28mlist\u001b[39m(myDict\u001b[38;5;241m.\u001b[39mvalues())\n\u001b[0;32m     12\u001b[0m myvalues\u001b[38;5;241m.\u001b[39msort()\n\u001b[1;32m---> 14\u001b[0m sorted_dict \u001b[38;5;241m=\u001b[39m { i: \u001b[43mmyDict\u001b[49m\u001b[43m[\u001b[49m\u001b[43mi\u001b[49m\u001b[43m]\u001b[49m \u001b[38;5;28;01mfor\u001b[39;00m i \u001b[38;5;129;01min\u001b[39;00m myvalues}\n\u001b[0;32m     16\u001b[0m \u001b[38;5;28mprint\u001b[39m(sorted_dict)\n",
      "\u001b[1;31mKeyError\u001b[0m: 2"
     ]
    }
   ],
   "source": [
    "# Ways to sort list of dictionaries by values in Python – Using itemgetter\n",
    "\n",
    "myDict = {\n",
    "    'ravi': 10, \n",
    "    'rajnish': 9,\n",
    "    'sanjeev': 15, \n",
    "    'yash': 2, \n",
    "    'suraj': 32\n",
    "}\n",
    " \n",
    "myvalues = list(myDict.values())\n",
    "myvalues.sort()\n",
    "\n",
    "sorted_dict = { i: myDict[i] for i in myvalues}\n",
    " \n",
    "print(sorted_dict)\n"
   ]
  },
  {
   "cell_type": "code",
   "execution_count": null,
   "id": "e5bba7b6",
   "metadata": {},
   "outputs": [],
   "source": []
  }
 ],
 "metadata": {
  "kernelspec": {
   "display_name": "Python 3 (ipykernel)",
   "language": "python",
   "name": "python3"
  },
  "language_info": {
   "codemirror_mode": {
    "name": "ipython",
    "version": 3
   },
   "file_extension": ".py",
   "mimetype": "text/x-python",
   "name": "python",
   "nbconvert_exporter": "python",
   "pygments_lexer": "ipython3",
   "version": "3.9.12"
  }
 },
 "nbformat": 4,
 "nbformat_minor": 5
}
