{
 "cells": [
  {
   "cell_type": "markdown",
   "id": "e1f75a56",
   "metadata": {},
   "source": [
    "# Python Program"
   ]
  },
  {
   "cell_type": "code",
   "execution_count": 9,
   "id": "cfac3c6f",
   "metadata": {},
   "outputs": [
    {
     "name": "stdout",
     "output_type": "stream",
     "text": [
      "enter first number:1\n",
      "enter second number:1\n",
      "Addition:  2\n"
     ]
    }
   ],
   "source": [
    "# Python Program to Add Two Numbers\n",
    "\n",
    "class add_to_num:\n",
    "    def __init__(self,a,b):\n",
    "        self.a = a\n",
    "        self.b = b\n",
    "    \n",
    "    def add(self):\n",
    "        print(\"Addition: \", self.a + self.b)\n",
    "    \n",
    "num = int(input(\"enter first number:\"))\n",
    "num2 = int(input(\"enter second number:\"))\n",
    "\n",
    "ad = add_to_num(num,num2)\n",
    "ad.add()\n"
   ]
  },
  {
   "cell_type": "code",
   "execution_count": 16,
   "id": "c2dbaad9",
   "metadata": {},
   "outputs": [
    {
     "name": "stdout",
     "output_type": "stream",
     "text": [
      "enter first number:12\n",
      "enter second number:42\n",
      "42 is the maximum number\n"
     ]
    }
   ],
   "source": [
    "# Find Maximum of two numbers in Python\n",
    "\n",
    "class maximum_to_num:\n",
    "    def __init__(self,a,b):\n",
    "        self.a = a\n",
    "        self.b = b\n",
    "        \n",
    "    def maximum(self):\n",
    "        if self.a > self.b:\n",
    "            print(f\"{self.a} is the maximum number\")\n",
    "        elif self.a < self.b:\n",
    "            print(f\"{self.b} is the maximum number\")\n",
    "        else:\n",
    "            print(\"equal number\")\n",
    "            \n",
    "num = int(input(\"enter first number:\"))\n",
    "num2 = int(input(\"enter second number:\"))\n",
    "\n",
    "mx = maximum_to_num(num,num2)\n",
    "mx.maximum()"
   ]
  },
  {
   "cell_type": "code",
   "execution_count": 24,
   "id": "748d02c7",
   "metadata": {},
   "outputs": [
    {
     "name": "stdout",
     "output_type": "stream",
     "text": [
      "enter number: 6\n"
     ]
    },
    {
     "data": {
      "text/plain": [
       "720"
      ]
     },
     "execution_count": 24,
     "metadata": {},
     "output_type": "execute_result"
    }
   ],
   "source": [
    "# Python Program to Find the Factorial of a Number\n",
    "\n",
    "def factorial(num):\n",
    "    res = 1\n",
    "    for i in range(1,num+1):\n",
    "        res *= i\n",
    "    return res\n",
    "        \n",
    "num = int(input(\"enter number: \"))\n",
    "\n",
    "factorial(num)       "
   ]
  },
  {
   "cell_type": "code",
   "execution_count": 29,
   "id": "ec38c160",
   "metadata": {},
   "outputs": [
    {
     "name": "stdout",
     "output_type": "stream",
     "text": [
      "enter your principal amount: 200000\n",
      "enter your Time periods: 3\n",
      "enter your intrest : 5\n"
     ]
    },
    {
     "data": {
      "text/plain": [
       "30000.0"
      ]
     },
     "execution_count": 29,
     "metadata": {},
     "output_type": "execute_result"
    }
   ],
   "source": [
    "# Python Program for Simple Interest\n",
    "\n",
    "def simple_intrest(principal,Time,intrest):\n",
    "    simpleintrest = (principal * Time * intrest)/100\n",
    "    return simpleintrest\n",
    "\n",
    "principal = int(input(\"enter your principal amount: \"))\n",
    "Time = int(input(\"enter your Time periods: \"))\n",
    "intrest = int(input(\"enter your intrest : \"))\n",
    "\n",
    "simple_intrest(principal,Time,intrest)"
   ]
  },
  {
   "cell_type": "code",
   "execution_count": 38,
   "id": "fc35c049",
   "metadata": {},
   "outputs": [
    {
     "name": "stdout",
     "output_type": "stream",
     "text": [
      "enter your principal amount: 240000\n",
      "enter your rate of intrest: 5\n",
      "enter your time periods: 5\n"
     ]
    },
    {
     "data": {
      "text/plain": [
       "55256.31250000006"
      ]
     },
     "execution_count": 38,
     "metadata": {},
     "output_type": "execute_result"
    }
   ],
   "source": [
    "# Python Program for Compound Interest\n",
    "\n",
    "def compound_intrest(a,p,r,t):\n",
    "    amount = principal*(pow((1+rate/100),time))\n",
    "    compoundintrest = amount - principal\n",
    "    return compoundintrest\n",
    "\n",
    "# amount = int(input(\"enter your amount: \"))\n",
    "p = int(input(\"enter your principal amount: \"))\n",
    "rate = int(input(\"enter your rate of intrest: \"))\n",
    "time= int(input(\"enter your time periods: \"))\n",
    "\n",
    "compound_intrest(a,p,r,t)\n"
   ]
  },
  {
   "cell_type": "code",
   "execution_count": 65,
   "id": "440dc30e",
   "metadata": {},
   "outputs": [
    {
     "name": "stdout",
     "output_type": "stream",
     "text": [
      "enter no:1234\n",
      "1234\n",
      "4\n",
      "wrong\n"
     ]
    }
   ],
   "source": [
    "# Python Program to Check Armstrong Number\n",
    "\n",
    "def armstrong_number(n):\n",
    "    n = int(input(\"enter no:\"))\n",
    "    \n",
    "    strs = str(n)\n",
    "    print(strs)\n",
    "    \n",
    "    str_len = len(strs)\n",
    "    print(str_len)\n",
    "    \n",
    "    sum = 0\n",
    "    \n",
    "    for i in strs:\n",
    "        result = int(i)\n",
    "        sum += result ** str_len\n",
    "        \n",
    "    if n == sum:\n",
    "        print(\"right\")\n",
    "    else:\n",
    "        print(\"wrong\")\n",
    "\n",
    "armstrong_number(n)"
   ]
  },
  {
   "cell_type": "code",
   "execution_count": 66,
   "id": "7c5bbc31",
   "metadata": {},
   "outputs": [
    {
     "name": "stdout",
     "output_type": "stream",
     "text": [
      "enter no:25\n"
     ]
    },
    {
     "data": {
      "text/plain": [
       "78.5"
      ]
     },
     "execution_count": 66,
     "metadata": {},
     "output_type": "execute_result"
    }
   ],
   "source": [
    "# Python Program to Find Area of a Circle\n",
    "\n",
    "def area(n):\n",
    "#     pi = 3.14\n",
    "    area = pi*(r*r)\n",
    "    return area\n",
    "\n",
    "n = int(input(\"enter no:\"))\n",
    "area(n)"
   ]
  },
  {
   "cell_type": "code",
   "execution_count": 36,
   "id": "16cfab67",
   "metadata": {
    "collapsed": true
   },
   "outputs": [
    {
     "name": "stdout",
     "output_type": "stream",
     "text": [
      "enter start no:1\n",
      "enter end  no:20\n",
      "2\n",
      "3\n",
      "5\n",
      "7\n",
      "11\n",
      "13\n",
      "17\n",
      "19\n"
     ]
    }
   ],
   "source": [
    "# Python Program to Print all Prime numbers in an Interval\n",
    "\n",
    "def prime_no(n,n1):\n",
    "    if n == 1:\n",
    "        n = n+1\n",
    "        \n",
    "    for i in range(n, n1 + 1):\n",
    "        result = 0\n",
    "        for j in range(n,i//2+1):\n",
    "            if (i % j) == 0:\n",
    "                result = result + 1\n",
    "                \n",
    "        if(result <= 0):\n",
    "            print(i) \n",
    "                \n",
    "n = int(input(\"enter start no:\"))\n",
    "n1 = int(input(\"enter end  no:\"))\n",
    "\n",
    "prime_no(n,n1)"
   ]
  },
  {
   "cell_type": "code",
   "execution_count": 58,
   "id": "fba24a34",
   "metadata": {},
   "outputs": [
    {
     "name": "stdout",
     "output_type": "stream",
     "text": [
      "enter start no:4\n",
      "This number is not  prime.\n"
     ]
    }
   ],
   "source": [
    "# Python Program to Check Prime Number\n",
    "\n",
    "def prime_or_not(n):\n",
    "    if n > 1:\n",
    "        for i in range(2,n):\n",
    "            if (n % i) == 0:\n",
    "                print(\"This number is not  prime.\")\n",
    "                break\n",
    "        else:\n",
    "            print(\"This number is  prime.\")\n",
    "    else:\n",
    "        print(\"This number is not prime.\")\n",
    "\n",
    "n = int(input(\"enter start no:\"))\n",
    "prime_or_not(n)  \n"
   ]
  },
  {
   "cell_type": "code",
   "execution_count": 61,
   "id": "ef5dada3",
   "metadata": {},
   "outputs": [
    {
     "name": "stdout",
     "output_type": "stream",
     "text": [
      "enter start no:10\n"
     ]
    },
    {
     "data": {
      "text/plain": [
       "34"
      ]
     },
     "execution_count": 61,
     "metadata": {},
     "output_type": "execute_result"
    }
   ],
   "source": [
    "# Python Program for n-th Fibonacci number\n",
    "\n",
    "def Fibonacci(n):\n",
    "    if n <= 0:\n",
    "        print(\"Incorrect input\")\n",
    "    elif n == 1:\n",
    "        return 0\n",
    "    elif n == 2:\n",
    "        return 1\n",
    "    else:\n",
    "        return Fibonacci(n-1)+Fibonacci(n-2)\n",
    "    \n",
    "n = int(input(\"enter start no:\"))\n",
    "Fibonacci(n)"
   ]
  },
  {
   "cell_type": "code",
   "execution_count": null,
   "id": "a561d58c",
   "metadata": {},
   "outputs": [],
   "source": []
  },
  {
   "cell_type": "code",
   "execution_count": null,
   "id": "ef358403",
   "metadata": {},
   "outputs": [],
   "source": []
  },
  {
   "cell_type": "code",
   "execution_count": null,
   "id": "9f6cef2b",
   "metadata": {},
   "outputs": [],
   "source": []
  }
 ],
 "metadata": {
  "kernelspec": {
   "display_name": "Python 3 (ipykernel)",
   "language": "python",
   "name": "python3"
  },
  "language_info": {
   "codemirror_mode": {
    "name": "ipython",
    "version": 3
   },
   "file_extension": ".py",
   "mimetype": "text/x-python",
   "name": "python",
   "nbconvert_exporter": "python",
   "pygments_lexer": "ipython3",
   "version": "3.9.12"
  }
 },
 "nbformat": 4,
 "nbformat_minor": 5
}
