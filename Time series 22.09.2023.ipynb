{
 "cells": [
  {
   "cell_type": "code",
   "execution_count": 1,
   "id": "882fe846",
   "metadata": {},
   "outputs": [],
   "source": [
    "import pandas as pd\n",
    "import matplotlib.pyplot as plt\n",
    "from datetime import datetime\n",
    "from pandas_datareader import data as pdr"
   ]
  },
  {
   "cell_type": "code",
   "execution_count": 4,
   "id": "dfc88ce1",
   "metadata": {},
   "outputs": [],
   "source": [
    "import yfinance as yf\n",
    "yf.pdr_override()"
   ]
  },
  {
   "cell_type": "code",
   "execution_count": 53,
   "id": "8a2e0d7a",
   "metadata": {},
   "outputs": [
    {
     "name": "stdout",
     "output_type": "stream",
     "text": [
      "[*********************100%%**********************]  1 of 1 completed\n"
     ]
    },
    {
     "data": {
      "text/html": [
       "<div>\n",
       "<style scoped>\n",
       "    .dataframe tbody tr th:only-of-type {\n",
       "        vertical-align: middle;\n",
       "    }\n",
       "\n",
       "    .dataframe tbody tr th {\n",
       "        vertical-align: top;\n",
       "    }\n",
       "\n",
       "    .dataframe thead th {\n",
       "        text-align: right;\n",
       "    }\n",
       "</style>\n",
       "<table border=\"1\" class=\"dataframe\">\n",
       "  <thead>\n",
       "    <tr style=\"text-align: right;\">\n",
       "      <th></th>\n",
       "      <th>Open</th>\n",
       "      <th>High</th>\n",
       "      <th>Low</th>\n",
       "      <th>Close</th>\n",
       "      <th>Adj Close</th>\n",
       "      <th>Volume</th>\n",
       "    </tr>\n",
       "    <tr>\n",
       "      <th>Date</th>\n",
       "      <th></th>\n",
       "      <th></th>\n",
       "      <th></th>\n",
       "      <th></th>\n",
       "      <th></th>\n",
       "      <th></th>\n",
       "    </tr>\n",
       "  </thead>\n",
       "  <tbody>\n",
       "    <tr>\n",
       "      <th>2017-01-03</th>\n",
       "      <td>14.324000</td>\n",
       "      <td>14.688667</td>\n",
       "      <td>14.064000</td>\n",
       "      <td>14.466000</td>\n",
       "      <td>14.466000</td>\n",
       "      <td>88849500</td>\n",
       "    </tr>\n",
       "    <tr>\n",
       "      <th>2017-01-04</th>\n",
       "      <td>14.316667</td>\n",
       "      <td>15.200000</td>\n",
       "      <td>14.287333</td>\n",
       "      <td>15.132667</td>\n",
       "      <td>15.132667</td>\n",
       "      <td>168202500</td>\n",
       "    </tr>\n",
       "    <tr>\n",
       "      <th>2017-01-05</th>\n",
       "      <td>15.094667</td>\n",
       "      <td>15.165333</td>\n",
       "      <td>14.796667</td>\n",
       "      <td>15.116667</td>\n",
       "      <td>15.116667</td>\n",
       "      <td>88675500</td>\n",
       "    </tr>\n",
       "    <tr>\n",
       "      <th>2017-01-06</th>\n",
       "      <td>15.128667</td>\n",
       "      <td>15.354000</td>\n",
       "      <td>15.030000</td>\n",
       "      <td>15.267333</td>\n",
       "      <td>15.267333</td>\n",
       "      <td>82918500</td>\n",
       "    </tr>\n",
       "    <tr>\n",
       "      <th>2017-01-09</th>\n",
       "      <td>15.264667</td>\n",
       "      <td>15.461333</td>\n",
       "      <td>15.200000</td>\n",
       "      <td>15.418667</td>\n",
       "      <td>15.418667</td>\n",
       "      <td>59692500</td>\n",
       "    </tr>\n",
       "    <tr>\n",
       "      <th>...</th>\n",
       "      <td>...</td>\n",
       "      <td>...</td>\n",
       "      <td>...</td>\n",
       "      <td>...</td>\n",
       "      <td>...</td>\n",
       "      <td>...</td>\n",
       "    </tr>\n",
       "    <tr>\n",
       "      <th>2021-12-27</th>\n",
       "      <td>357.890015</td>\n",
       "      <td>372.333344</td>\n",
       "      <td>356.906677</td>\n",
       "      <td>364.646667</td>\n",
       "      <td>364.646667</td>\n",
       "      <td>71145900</td>\n",
       "    </tr>\n",
       "    <tr>\n",
       "      <th>2021-12-28</th>\n",
       "      <td>369.829987</td>\n",
       "      <td>373.000000</td>\n",
       "      <td>359.473328</td>\n",
       "      <td>362.823334</td>\n",
       "      <td>362.823334</td>\n",
       "      <td>60324000</td>\n",
       "    </tr>\n",
       "    <tr>\n",
       "      <th>2021-12-29</th>\n",
       "      <td>366.213318</td>\n",
       "      <td>368.000000</td>\n",
       "      <td>354.713318</td>\n",
       "      <td>362.063324</td>\n",
       "      <td>362.063324</td>\n",
       "      <td>56154000</td>\n",
       "    </tr>\n",
       "    <tr>\n",
       "      <th>2021-12-30</th>\n",
       "      <td>353.776672</td>\n",
       "      <td>365.183319</td>\n",
       "      <td>351.049988</td>\n",
       "      <td>356.779999</td>\n",
       "      <td>356.779999</td>\n",
       "      <td>47040900</td>\n",
       "    </tr>\n",
       "    <tr>\n",
       "      <th>2021-12-31</th>\n",
       "      <td>357.813324</td>\n",
       "      <td>360.666656</td>\n",
       "      <td>351.529999</td>\n",
       "      <td>352.260010</td>\n",
       "      <td>352.260010</td>\n",
       "      <td>40733700</td>\n",
       "    </tr>\n",
       "  </tbody>\n",
       "</table>\n",
       "<p>1259 rows × 6 columns</p>\n",
       "</div>"
      ],
      "text/plain": [
       "                  Open        High         Low       Close   Adj Close  \\\n",
       "Date                                                                     \n",
       "2017-01-03   14.324000   14.688667   14.064000   14.466000   14.466000   \n",
       "2017-01-04   14.316667   15.200000   14.287333   15.132667   15.132667   \n",
       "2017-01-05   15.094667   15.165333   14.796667   15.116667   15.116667   \n",
       "2017-01-06   15.128667   15.354000   15.030000   15.267333   15.267333   \n",
       "2017-01-09   15.264667   15.461333   15.200000   15.418667   15.418667   \n",
       "...                ...         ...         ...         ...         ...   \n",
       "2021-12-27  357.890015  372.333344  356.906677  364.646667  364.646667   \n",
       "2021-12-28  369.829987  373.000000  359.473328  362.823334  362.823334   \n",
       "2021-12-29  366.213318  368.000000  354.713318  362.063324  362.063324   \n",
       "2021-12-30  353.776672  365.183319  351.049988  356.779999  356.779999   \n",
       "2021-12-31  357.813324  360.666656  351.529999  352.260010  352.260010   \n",
       "\n",
       "               Volume  \n",
       "Date                   \n",
       "2017-01-03   88849500  \n",
       "2017-01-04  168202500  \n",
       "2017-01-05   88675500  \n",
       "2017-01-06   82918500  \n",
       "2017-01-09   59692500  \n",
       "...               ...  \n",
       "2021-12-27   71145900  \n",
       "2021-12-28   60324000  \n",
       "2021-12-29   56154000  \n",
       "2021-12-30   47040900  \n",
       "2021-12-31   40733700  \n",
       "\n",
       "[1259 rows x 6 columns]"
      ]
     },
     "execution_count": 53,
     "metadata": {},
     "output_type": "execute_result"
    }
   ],
   "source": [
    "df = pdr.get_data_yahoo(\"TSLA\",start = \"2017-01-01\",end = \"2022-01-01\")\n",
    "df"
   ]
  },
  {
   "cell_type": "code",
   "execution_count": 54,
   "id": "b5edea5e",
   "metadata": {},
   "outputs": [
    {
     "data": {
      "text/plain": [
       "<Axes: xlabel='Date'>"
      ]
     },
     "execution_count": 54,
     "metadata": {},
     "output_type": "execute_result"
    },
    {
     "data": {
      "image/png": "[encoded data removed]",
      "text/plain": [
       "<Figure size 1200x400 with 1 Axes>"
      ]
     },
     "metadata": {},
     "output_type": "display_data"
    }
   ],
   "source": [
    "df[\"High\"].plot(figsize=(12,4))"
   ]
  },
  {
   "cell_type": "code",
   "execution_count": 55,
   "id": "aa0d0979",
   "metadata": {},
   "outputs": [
    {
     "data": {
      "text/plain": [
       "<Axes: xlabel='Date'>"
      ]
     },
     "execution_count": 55,
     "metadata": {},
     "output_type": "execute_result"
    },
    {
     "data": {
      "image/png": "[encoded data removed]",
      "text/plain": [
       "<Figure size 1200x400 with 1 Axes>"
      ]
     },
     "metadata": {},
     "output_type": "display_data"
    }
   ],
   "source": [
    "df[\"High\"].plot(xlim = [\"2019-01-01\",\"2022-01-01\"],ylim = [0,300],figsize=(12,4))"
   ]
  },
  {
   "cell_type": "code",
   "execution_count": 56,
   "id": "244fcf74",
   "metadata": {},
   "outputs": [
    {
     "data": {
      "text/plain": [
       "DatetimeIndex(['2017-01-03', '2017-01-04', '2017-01-05', '2017-01-06',\n",
       "               '2017-01-09', '2017-01-10', '2017-01-11', '2017-01-12',\n",
       "               '2017-01-13', '2017-01-17',\n",
       "               ...\n",
       "               '2021-12-17', '2021-12-20', '2021-12-21', '2021-12-22',\n",
       "               '2021-12-23', '2021-12-27', '2021-12-28', '2021-12-29',\n",
       "               '2021-12-30', '2021-12-31'],\n",
       "              dtype='datetime64[ns]', name='Date', length=1259, freq=None)"
      ]
     },
     "execution_count": 56,
     "metadata": {},
     "output_type": "execute_result"
    }
   ],
   "source": [
    "df.index"
   ]
  },
  {
   "cell_type": "code",
   "execution_count": 57,
   "id": "4e379162",
   "metadata": {},
   "outputs": [
    {
     "data": {
      "text/plain": [
       "DatetimeIndex(['2019-01-02', '2019-01-03', '2019-01-04', '2019-01-07',\n",
       "               '2019-01-08', '2019-01-09', '2019-01-10', '2019-01-11',\n",
       "               '2019-01-14', '2019-01-15',\n",
       "               ...\n",
       "               '2021-12-17', '2021-12-20', '2021-12-21', '2021-12-22',\n",
       "               '2021-12-23', '2021-12-27', '2021-12-28', '2021-12-29',\n",
       "               '2021-12-30', '2021-12-31'],\n",
       "              dtype='datetime64[ns]', name='Date', length=757, freq=None)"
      ]
     },
     "execution_count": 57,
     "metadata": {},
     "output_type": "execute_result"
    }
   ],
   "source": [
    "index = df.loc[\"2019-01-01\":\"2022-12-01\"].index\n",
    "index"
   ]
  },
  {
   "cell_type": "code",
   "execution_count": 58,
   "id": "4e2321fd",
   "metadata": {},
   "outputs": [
    {
     "data": {
      "text/plain": [
       "Date\n",
       "2019-01-02     20.406668\n",
       "2019-01-03     20.466667\n",
       "2019-01-04     20.400000\n",
       "2019-01-07     21.448000\n",
       "2019-01-08     22.797333\n",
       "                 ...    \n",
       "2021-12-27    357.890015\n",
       "2021-12-28    369.829987\n",
       "2021-12-29    366.213318\n",
       "2021-12-30    353.776672\n",
       "2021-12-31    357.813324\n",
       "Name: Open, Length: 757, dtype: float64"
      ]
     },
     "execution_count": 58,
     "metadata": {},
     "output_type": "execute_result"
    }
   ],
   "source": [
    "share_open = df.loc[\"2019-01-01\":\"2022-12-01\"][\"Open\"]\n",
    "share_open"
   ]
  },
  {
   "cell_type": "code",
   "execution_count": 59,
   "id": "7f356746",
   "metadata": {},
   "outputs": [],
   "source": [
    "import matplotlib.pyplot as plt\n",
    "%matplotlib inline"
   ]
  },
  {
   "cell_type": "code",
   "execution_count": 60,
   "id": "60ff9836",
   "metadata": {},
   "outputs": [
    {
     "data": {
      "text/plain": [
       "[<matplotlib.lines.Line2D at 0x1da85a15fa0>]"
      ]
     },
     "execution_count": 60,
     "metadata": {},
     "output_type": "execute_result"
    },
    {
     "data": {
      "image/png": "[encoded data removed]",
      "text/plain": [
       "<Figure size 1200x400 with 1 Axes>"
      ]
     },
     "metadata": {},
     "output_type": "display_data"
    }
   ],
   "source": [
    "figure,axis = plt.subplots(figsize = (12,4))\n",
    "axis.plot(index,share_open)"
   ]
  },
  {
   "cell_type": "code",
   "execution_count": 61,
   "id": "8c18725f",
   "metadata": {},
   "outputs": [
    {
     "name": "stdout",
     "output_type": "stream",
     "text": [
      "<class 'pandas.core.frame.DataFrame'>\n",
      "DatetimeIndex: 1259 entries, 2017-01-03 to 2021-12-31\n",
      "Data columns (total 6 columns):\n",
      " #   Column     Non-Null Count  Dtype  \n",
      "---  ------     --------------  -----  \n",
      " 0   Open       1259 non-null   float64\n",
      " 1   High       1259 non-null   float64\n",
      " 2   Low        1259 non-null   float64\n",
      " 3   Close      1259 non-null   float64\n",
      " 4   Adj Close  1259 non-null   float64\n",
      " 5   Volume     1259 non-null   int64  \n",
      "dtypes: float64(5), int64(1)\n",
      "memory usage: 101.1 KB\n"
     ]
    }
   ],
   "source": [
    "df.info()"
   ]
  },
  {
   "cell_type": "code",
   "execution_count": 62,
   "id": "1c3199e9",
   "metadata": {},
   "outputs": [
    {
     "data": {
      "text/plain": [
       "datetime.datetime(2023, 9, 22, 18, 32, 19, 412553)"
      ]
     },
     "execution_count": 62,
     "metadata": {},
     "output_type": "execute_result"
    }
   ],
   "source": [
    "datetime.now()"
   ]
  },
  {
   "cell_type": "code",
   "execution_count": 63,
   "id": "dea4a7c6",
   "metadata": {},
   "outputs": [
    {
     "data": {
      "text/plain": [
       "datetime.datetime(2023, 9, 22, 0, 0)"
      ]
     },
     "execution_count": 63,
     "metadata": {},
     "output_type": "execute_result"
    }
   ],
   "source": [
    "date = datetime(2023, 9, 22)\n",
    "date"
   ]
  },
  {
   "cell_type": "code",
   "execution_count": 64,
   "id": "492681ae",
   "metadata": {},
   "outputs": [
    {
     "data": {
      "text/plain": [
       "22"
      ]
     },
     "execution_count": 64,
     "metadata": {},
     "output_type": "execute_result"
    }
   ],
   "source": [
    "date.day"
   ]
  },
  {
   "cell_type": "code",
   "execution_count": 65,
   "id": "867b2a41",
   "metadata": {},
   "outputs": [
    {
     "data": {
      "text/plain": [
       "datetime.date(2023, 9, 22)"
      ]
     },
     "execution_count": 65,
     "metadata": {},
     "output_type": "execute_result"
    }
   ],
   "source": [
    "date.date()"
   ]
  },
  {
   "cell_type": "code",
   "execution_count": 66,
   "id": "b3ad5bd5",
   "metadata": {},
   "outputs": [
    {
     "data": {
      "text/plain": [
       "4"
      ]
     },
     "execution_count": 66,
     "metadata": {},
     "output_type": "execute_result"
    }
   ],
   "source": [
    "date.weekday()"
   ]
  },
  {
   "cell_type": "code",
   "execution_count": 67,
   "id": "88e7ee63",
   "metadata": {},
   "outputs": [
    {
     "data": {
      "text/plain": [
       "2023"
      ]
     },
     "execution_count": 67,
     "metadata": {},
     "output_type": "execute_result"
    }
   ],
   "source": [
    "date.year"
   ]
  },
  {
   "cell_type": "markdown",
   "id": "985330ee",
   "metadata": {},
   "source": [
    "# Time reshampling"
   ]
  },
  {
   "cell_type": "code",
   "execution_count": 68,
   "id": "47cc88de",
   "metadata": {},
   "outputs": [
    {
     "data": {
      "text/html": [
       "<div>\n",
       "<style scoped>\n",
       "    .dataframe tbody tr th:only-of-type {\n",
       "        vertical-align: middle;\n",
       "    }\n",
       "\n",
       "    .dataframe tbody tr th {\n",
       "        vertical-align: top;\n",
       "    }\n",
       "\n",
       "    .dataframe thead th {\n",
       "        text-align: right;\n",
       "    }\n",
       "</style>\n",
       "<table border=\"1\" class=\"dataframe\">\n",
       "  <thead>\n",
       "    <tr style=\"text-align: right;\">\n",
       "      <th></th>\n",
       "      <th>Open</th>\n",
       "      <th>High</th>\n",
       "      <th>Low</th>\n",
       "      <th>Close</th>\n",
       "      <th>Adj Close</th>\n",
       "      <th>Volume</th>\n",
       "    </tr>\n",
       "    <tr>\n",
       "      <th>Date</th>\n",
       "      <th></th>\n",
       "      <th></th>\n",
       "      <th></th>\n",
       "      <th></th>\n",
       "      <th></th>\n",
       "      <th></th>\n",
       "    </tr>\n",
       "  </thead>\n",
       "  <tbody>\n",
       "    <tr>\n",
       "      <th>2017-12-31</th>\n",
       "      <td>14.316667</td>\n",
       "      <td>14.688667</td>\n",
       "      <td>14.064000</td>\n",
       "      <td>14.466000</td>\n",
       "      <td>14.466000</td>\n",
       "      <td>32800500</td>\n",
       "    </tr>\n",
       "    <tr>\n",
       "      <th>2018-12-31</th>\n",
       "      <td>16.851999</td>\n",
       "      <td>17.355333</td>\n",
       "      <td>16.306000</td>\n",
       "      <td>16.704000</td>\n",
       "      <td>16.704000</td>\n",
       "      <td>46210500</td>\n",
       "    </tr>\n",
       "    <tr>\n",
       "      <th>2019-12-31</th>\n",
       "      <td>12.073333</td>\n",
       "      <td>12.445333</td>\n",
       "      <td>11.799333</td>\n",
       "      <td>11.931333</td>\n",
       "      <td>11.931333</td>\n",
       "      <td>36984000</td>\n",
       "    </tr>\n",
       "    <tr>\n",
       "      <th>2020-12-31</th>\n",
       "      <td>24.980000</td>\n",
       "      <td>26.990667</td>\n",
       "      <td>23.367332</td>\n",
       "      <td>24.081333</td>\n",
       "      <td>24.081333</td>\n",
       "      <td>52073100</td>\n",
       "    </tr>\n",
       "    <tr>\n",
       "      <th>2021-12-31</th>\n",
       "      <td>184.183334</td>\n",
       "      <td>188.736664</td>\n",
       "      <td>179.830002</td>\n",
       "      <td>187.666672</td>\n",
       "      <td>187.666672</td>\n",
       "      <td>29401800</td>\n",
       "    </tr>\n",
       "  </tbody>\n",
       "</table>\n",
       "</div>"
      ],
      "text/plain": [
       "                  Open        High         Low       Close   Adj Close  \\\n",
       "Date                                                                     \n",
       "2017-12-31   14.316667   14.688667   14.064000   14.466000   14.466000   \n",
       "2018-12-31   16.851999   17.355333   16.306000   16.704000   16.704000   \n",
       "2019-12-31   12.073333   12.445333   11.799333   11.931333   11.931333   \n",
       "2020-12-31   24.980000   26.990667   23.367332   24.081333   24.081333   \n",
       "2021-12-31  184.183334  188.736664  179.830002  187.666672  187.666672   \n",
       "\n",
       "              Volume  \n",
       "Date                  \n",
       "2017-12-31  32800500  \n",
       "2018-12-31  46210500  \n",
       "2019-12-31  36984000  \n",
       "2020-12-31  52073100  \n",
       "2021-12-31  29401800  "
      ]
     },
     "execution_count": 68,
     "metadata": {},
     "output_type": "execute_result"
    }
   ],
   "source": [
    "# RULE A :- year and frequancy\n",
    "\n",
    "df.resample(rule=\"A\").min()"
   ]
  },
  {
   "cell_type": "code",
   "execution_count": 69,
   "id": "af1d2349",
   "metadata": {},
   "outputs": [
    {
     "data": {
      "text/html": [
       "<div>\n",
       "<style scoped>\n",
       "    .dataframe tbody tr th:only-of-type {\n",
       "        vertical-align: middle;\n",
       "    }\n",
       "\n",
       "    .dataframe tbody tr th {\n",
       "        vertical-align: top;\n",
       "    }\n",
       "\n",
       "    .dataframe thead th {\n",
       "        text-align: right;\n",
       "    }\n",
       "</style>\n",
       "<table border=\"1\" class=\"dataframe\">\n",
       "  <thead>\n",
       "    <tr style=\"text-align: right;\">\n",
       "      <th></th>\n",
       "      <th>Open</th>\n",
       "      <th>High</th>\n",
       "      <th>Low</th>\n",
       "      <th>Close</th>\n",
       "      <th>Adj Close</th>\n",
       "      <th>Volume</th>\n",
       "    </tr>\n",
       "    <tr>\n",
       "      <th>Date</th>\n",
       "      <th></th>\n",
       "      <th></th>\n",
       "      <th></th>\n",
       "      <th></th>\n",
       "      <th></th>\n",
       "      <th></th>\n",
       "    </tr>\n",
       "  </thead>\n",
       "  <tbody>\n",
       "    <tr>\n",
       "      <th>2017-12-31</th>\n",
       "      <td>25.779333</td>\n",
       "      <td>25.974001</td>\n",
       "      <td>25.290001</td>\n",
       "      <td>25.666668</td>\n",
       "      <td>25.666668</td>\n",
       "      <td>296871000</td>\n",
       "    </tr>\n",
       "    <tr>\n",
       "      <th>2018-12-31</th>\n",
       "      <td>25.000000</td>\n",
       "      <td>25.830667</td>\n",
       "      <td>24.474667</td>\n",
       "      <td>25.304667</td>\n",
       "      <td>25.304667</td>\n",
       "      <td>504745500</td>\n",
       "    </tr>\n",
       "    <tr>\n",
       "      <th>2019-12-31</th>\n",
       "      <td>29.000000</td>\n",
       "      <td>29.020666</td>\n",
       "      <td>28.423332</td>\n",
       "      <td>28.729334</td>\n",
       "      <td>28.729334</td>\n",
       "      <td>450091500</td>\n",
       "    </tr>\n",
       "    <tr>\n",
       "      <th>2020-12-31</th>\n",
       "      <td>233.330002</td>\n",
       "      <td>239.573334</td>\n",
       "      <td>230.373337</td>\n",
       "      <td>235.223328</td>\n",
       "      <td>235.223328</td>\n",
       "      <td>914082000</td>\n",
       "    </tr>\n",
       "    <tr>\n",
       "      <th>2021-12-31</th>\n",
       "      <td>411.470001</td>\n",
       "      <td>414.496674</td>\n",
       "      <td>405.666656</td>\n",
       "      <td>409.970001</td>\n",
       "      <td>409.970001</td>\n",
       "      <td>268189500</td>\n",
       "    </tr>\n",
       "  </tbody>\n",
       "</table>\n",
       "</div>"
      ],
      "text/plain": [
       "                  Open        High         Low       Close   Adj Close  \\\n",
       "Date                                                                     \n",
       "2017-12-31   25.779333   25.974001   25.290001   25.666668   25.666668   \n",
       "2018-12-31   25.000000   25.830667   24.474667   25.304667   25.304667   \n",
       "2019-12-31   29.000000   29.020666   28.423332   28.729334   28.729334   \n",
       "2020-12-31  233.330002  239.573334  230.373337  235.223328  235.223328   \n",
       "2021-12-31  411.470001  414.496674  405.666656  409.970001  409.970001   \n",
       "\n",
       "               Volume  \n",
       "Date                   \n",
       "2017-12-31  296871000  \n",
       "2018-12-31  504745500  \n",
       "2019-12-31  450091500  \n",
       "2020-12-31  914082000  \n",
       "2021-12-31  268189500  "
      ]
     },
     "execution_count": 69,
     "metadata": {},
     "output_type": "execute_result"
    }
   ],
   "source": [
    "df.resample(rule=\"A\").max()"
   ]
  },
  {
   "cell_type": "code",
   "execution_count": 70,
   "id": "2cf474ce",
   "metadata": {},
   "outputs": [
    {
     "data": {
      "text/plain": [
       "<Axes: xlabel='Date'>"
      ]
     },
     "execution_count": 70,
     "metadata": {},
     "output_type": "execute_result"
    },
    {
     "data": {
      "image/png": "[encoded data removed]",
      "text/plain": [
       "<Figure size 640x480 with 1 Axes>"
      ]
     },
     "metadata": {},
     "output_type": "display_data"
    }
   ],
   "source": [
    "df.resample(rule=\"A\").max()[\"Open\"].plot()"
   ]
  },
  {
   "cell_type": "code",
   "execution_count": 71,
   "id": "cfdbdd00",
   "metadata": {},
   "outputs": [
    {
     "data": {
      "text/plain": [
       "<Axes: xlabel='Date'>"
      ]
     },
     "execution_count": 71,
     "metadata": {},
     "output_type": "execute_result"
    },
    {
     "data": {
      "image/png": "[encoded data removed]",
      "text/plain": [
       "<Figure size 640x480 with 1 Axes>"
      ]
     },
     "metadata": {},
     "output_type": "display_data"
    }
   ],
   "source": [
    "# quartaly find frequancy\n",
    "df.resample(rule=\"QS\").min()[\"High\"].plot()"
   ]
  },
  {
   "cell_type": "code",
   "execution_count": 72,
   "id": "ea93ed38",
   "metadata": {},
   "outputs": [
    {
     "data": {
      "text/html": [
       "<div>\n",
       "<style scoped>\n",
       "    .dataframe tbody tr th:only-of-type {\n",
       "        vertical-align: middle;\n",
       "    }\n",
       "\n",
       "    .dataframe tbody tr th {\n",
       "        vertical-align: top;\n",
       "    }\n",
       "\n",
       "    .dataframe thead th {\n",
       "        text-align: right;\n",
       "    }\n",
       "</style>\n",
       "<table border=\"1\" class=\"dataframe\">\n",
       "  <thead>\n",
       "    <tr style=\"text-align: right;\">\n",
       "      <th></th>\n",
       "      <th>Open</th>\n",
       "      <th>High</th>\n",
       "      <th>Low</th>\n",
       "      <th>Close</th>\n",
       "      <th>Adj Close</th>\n",
       "      <th>Volume</th>\n",
       "    </tr>\n",
       "    <tr>\n",
       "      <th>Date</th>\n",
       "      <th></th>\n",
       "      <th></th>\n",
       "      <th></th>\n",
       "      <th></th>\n",
       "      <th></th>\n",
       "      <th></th>\n",
       "    </tr>\n",
       "  </thead>\n",
       "  <tbody>\n",
       "    <tr>\n",
       "      <th>2017-12-29</th>\n",
       "      <td>25.779333</td>\n",
       "      <td>25.974001</td>\n",
       "      <td>25.290001</td>\n",
       "      <td>25.666668</td>\n",
       "      <td>25.666668</td>\n",
       "      <td>296871000.0</td>\n",
       "    </tr>\n",
       "    <tr>\n",
       "      <th>2018-12-31</th>\n",
       "      <td>25.000000</td>\n",
       "      <td>25.830667</td>\n",
       "      <td>24.474667</td>\n",
       "      <td>25.304667</td>\n",
       "      <td>25.304667</td>\n",
       "      <td>504745500.0</td>\n",
       "    </tr>\n",
       "    <tr>\n",
       "      <th>2019-12-31</th>\n",
       "      <td>29.000000</td>\n",
       "      <td>29.020666</td>\n",
       "      <td>28.423332</td>\n",
       "      <td>28.729334</td>\n",
       "      <td>28.729334</td>\n",
       "      <td>450091500.0</td>\n",
       "    </tr>\n",
       "    <tr>\n",
       "      <th>2020-12-31</th>\n",
       "      <td>233.330002</td>\n",
       "      <td>239.573334</td>\n",
       "      <td>230.373337</td>\n",
       "      <td>235.223328</td>\n",
       "      <td>235.223328</td>\n",
       "      <td>914082000.0</td>\n",
       "    </tr>\n",
       "    <tr>\n",
       "      <th>2021-12-31</th>\n",
       "      <td>411.470001</td>\n",
       "      <td>414.496674</td>\n",
       "      <td>405.666656</td>\n",
       "      <td>409.970001</td>\n",
       "      <td>409.970001</td>\n",
       "      <td>268189500.0</td>\n",
       "    </tr>\n",
       "    <tr>\n",
       "      <th>2022-12-30</th>\n",
       "      <td>NaN</td>\n",
       "      <td>NaN</td>\n",
       "      <td>NaN</td>\n",
       "      <td>NaN</td>\n",
       "      <td>NaN</td>\n",
       "      <td>NaN</td>\n",
       "    </tr>\n",
       "  </tbody>\n",
       "</table>\n",
       "</div>"
      ],
      "text/plain": [
       "                  Open        High         Low       Close   Adj Close  \\\n",
       "Date                                                                     \n",
       "2017-12-29   25.779333   25.974001   25.290001   25.666668   25.666668   \n",
       "2018-12-31   25.000000   25.830667   24.474667   25.304667   25.304667   \n",
       "2019-12-31   29.000000   29.020666   28.423332   28.729334   28.729334   \n",
       "2020-12-31  233.330002  239.573334  230.373337  235.223328  235.223328   \n",
       "2021-12-31  411.470001  414.496674  405.666656  409.970001  409.970001   \n",
       "2022-12-30         NaN         NaN         NaN         NaN         NaN   \n",
       "\n",
       "                 Volume  \n",
       "Date                     \n",
       "2017-12-29  296871000.0  \n",
       "2018-12-31  504745500.0  \n",
       "2019-12-31  450091500.0  \n",
       "2020-12-31  914082000.0  \n",
       "2021-12-31  268189500.0  \n",
       "2022-12-30          NaN  "
      ]
     },
     "execution_count": 72,
     "metadata": {},
     "output_type": "execute_result"
    }
   ],
   "source": [
    "#business frequancy\n",
    "df.resample(rule=\"BA\").max()"
   ]
  },
  {
   "cell_type": "code",
   "execution_count": 73,
   "id": "3bb9b91f",
   "metadata": {},
   "outputs": [
    {
     "data": {
      "text/plain": [
       "<Axes: xlabel='Date'>"
      ]
     },
     "execution_count": 73,
     "metadata": {},
     "output_type": "execute_result"
    },
    {
     "data": {
      "image/png": "[encoded data removed]",
      "text/plain": [
       "<Figure size 640x480 with 1 Axes>"
      ]
     },
     "metadata": {},
     "output_type": "display_data"
    }
   ],
   "source": [
    "df.resample(rule=\"BA\").max()[\"High\"].plot()"
   ]
  },
  {
   "cell_type": "code",
   "execution_count": 74,
   "id": "5f1a9af9",
   "metadata": {},
   "outputs": [
    {
     "data": {
      "text/plain": [
       "<Axes: xlabel='Date'>"
      ]
     },
     "execution_count": 74,
     "metadata": {},
     "output_type": "execute_result"
    },
    {
     "data": {
      "image/png": "[encoded data removed]",
      "text/plain": [
       "<Figure size 640x480 with 1 Axes>"
      ]
     },
     "metadata": {},
     "output_type": "display_data"
    }
   ],
   "source": [
    "#plotting\n",
    "df[\"Open\"].resample(rule=\"BA\").mean().plot(kind = \"bar\")\n"
   ]
  },
  {
   "cell_type": "code",
   "execution_count": 75,
   "id": "bb459505",
   "metadata": {},
   "outputs": [
    {
     "data": {
      "text/plain": [
       "<Axes: xlabel='Date'>"
      ]
     },
     "execution_count": 75,
     "metadata": {},
     "output_type": "execute_result"
    },
    {
     "data": {
      "image/png": "[encoded data removed]",
      "text/plain": [
       "<Figure size 1500x700 with 1 Axes>"
      ]
     },
     "metadata": {},
     "output_type": "display_data"
    }
   ],
   "source": [
    "df[\"Open\"].resample(rule=\"M\").max().plot(kind = \"bar\",figsize = (15,7))\n"
   ]
  },
  {
   "cell_type": "code",
   "execution_count": 76,
   "id": "b2a489c0",
   "metadata": {},
   "outputs": [
    {
     "data": {
      "text/html": [
       "<div>\n",
       "<style scoped>\n",
       "    .dataframe tbody tr th:only-of-type {\n",
       "        vertical-align: middle;\n",
       "    }\n",
       "\n",
       "    .dataframe tbody tr th {\n",
       "        vertical-align: top;\n",
       "    }\n",
       "\n",
       "    .dataframe thead th {\n",
       "        text-align: right;\n",
       "    }\n",
       "</style>\n",
       "<table border=\"1\" class=\"dataframe\">\n",
       "  <thead>\n",
       "    <tr style=\"text-align: right;\">\n",
       "      <th></th>\n",
       "      <th>Open</th>\n",
       "      <th>High</th>\n",
       "      <th>Low</th>\n",
       "      <th>Close</th>\n",
       "      <th>Adj Close</th>\n",
       "      <th>Volume</th>\n",
       "    </tr>\n",
       "    <tr>\n",
       "      <th>Date</th>\n",
       "      <th></th>\n",
       "      <th></th>\n",
       "      <th></th>\n",
       "      <th></th>\n",
       "      <th></th>\n",
       "      <th></th>\n",
       "    </tr>\n",
       "  </thead>\n",
       "  <tbody>\n",
       "    <tr>\n",
       "      <th>2017-01-03</th>\n",
       "      <td>14.324000</td>\n",
       "      <td>14.688667</td>\n",
       "      <td>14.064000</td>\n",
       "      <td>14.466000</td>\n",
       "      <td>14.466000</td>\n",
       "      <td>88849500</td>\n",
       "    </tr>\n",
       "    <tr>\n",
       "      <th>2017-01-04</th>\n",
       "      <td>14.316667</td>\n",
       "      <td>15.200000</td>\n",
       "      <td>14.287333</td>\n",
       "      <td>15.132667</td>\n",
       "      <td>15.132667</td>\n",
       "      <td>168202500</td>\n",
       "    </tr>\n",
       "    <tr>\n",
       "      <th>2017-01-05</th>\n",
       "      <td>15.094667</td>\n",
       "      <td>15.165333</td>\n",
       "      <td>14.796667</td>\n",
       "      <td>15.116667</td>\n",
       "      <td>15.116667</td>\n",
       "      <td>88675500</td>\n",
       "    </tr>\n",
       "    <tr>\n",
       "      <th>2017-01-06</th>\n",
       "      <td>15.128667</td>\n",
       "      <td>15.354000</td>\n",
       "      <td>15.030000</td>\n",
       "      <td>15.267333</td>\n",
       "      <td>15.267333</td>\n",
       "      <td>82918500</td>\n",
       "    </tr>\n",
       "    <tr>\n",
       "      <th>2017-01-09</th>\n",
       "      <td>15.264667</td>\n",
       "      <td>15.461333</td>\n",
       "      <td>15.200000</td>\n",
       "      <td>15.418667</td>\n",
       "      <td>15.418667</td>\n",
       "      <td>59692500</td>\n",
       "    </tr>\n",
       "  </tbody>\n",
       "</table>\n",
       "</div>"
      ],
      "text/plain": [
       "                 Open       High        Low      Close  Adj Close     Volume\n",
       "Date                                                                        \n",
       "2017-01-03  14.324000  14.688667  14.064000  14.466000  14.466000   88849500\n",
       "2017-01-04  14.316667  15.200000  14.287333  15.132667  15.132667  168202500\n",
       "2017-01-05  15.094667  15.165333  14.796667  15.116667  15.116667   88675500\n",
       "2017-01-06  15.128667  15.354000  15.030000  15.267333  15.267333   82918500\n",
       "2017-01-09  15.264667  15.461333  15.200000  15.418667  15.418667   59692500"
      ]
     },
     "execution_count": 76,
     "metadata": {},
     "output_type": "execute_result"
    }
   ],
   "source": [
    "df.head()"
   ]
  },
  {
   "cell_type": "code",
   "execution_count": 88,
   "id": "2d1d30de",
   "metadata": {},
   "outputs": [
    {
     "data": {
      "text/plain": [
       "Date\n",
       "2017-01-03   NaN\n",
       "2017-01-04   NaN\n",
       "2017-01-05   NaN\n",
       "2017-01-06   NaN\n",
       "2017-01-09   NaN\n",
       "Name: High, dtype: float64"
      ]
     },
     "execution_count": 88,
     "metadata": {},
     "output_type": "execute_result"
    }
   ],
   "source": [
    "df[\"High\"].rolling(11).mean().head()"
   ]
  },
  {
   "cell_type": "code",
   "execution_count": 90,
   "id": "d7d92453",
   "metadata": {},
   "outputs": [
    {
     "data": {
      "text/html": [
       "<div>\n",
       "<style scoped>\n",
       "    .dataframe tbody tr th:only-of-type {\n",
       "        vertical-align: middle;\n",
       "    }\n",
       "\n",
       "    .dataframe tbody tr th {\n",
       "        vertical-align: top;\n",
       "    }\n",
       "\n",
       "    .dataframe thead th {\n",
       "        text-align: right;\n",
       "    }\n",
       "</style>\n",
       "<table border=\"1\" class=\"dataframe\">\n",
       "  <thead>\n",
       "    <tr style=\"text-align: right;\">\n",
       "      <th></th>\n",
       "      <th>Open</th>\n",
       "      <th>High</th>\n",
       "      <th>Low</th>\n",
       "      <th>Close</th>\n",
       "      <th>Adj Close</th>\n",
       "      <th>Volume</th>\n",
       "      <th>Open: 30 days rolling</th>\n",
       "    </tr>\n",
       "    <tr>\n",
       "      <th>Date</th>\n",
       "      <th></th>\n",
       "      <th></th>\n",
       "      <th></th>\n",
       "      <th></th>\n",
       "      <th></th>\n",
       "      <th></th>\n",
       "      <th></th>\n",
       "    </tr>\n",
       "  </thead>\n",
       "  <tbody>\n",
       "    <tr>\n",
       "      <th>2017-01-03</th>\n",
       "      <td>14.324000</td>\n",
       "      <td>14.688667</td>\n",
       "      <td>14.064000</td>\n",
       "      <td>14.466000</td>\n",
       "      <td>14.466000</td>\n",
       "      <td>88849500</td>\n",
       "      <td>NaN</td>\n",
       "    </tr>\n",
       "    <tr>\n",
       "      <th>2017-01-04</th>\n",
       "      <td>14.316667</td>\n",
       "      <td>15.200000</td>\n",
       "      <td>14.287333</td>\n",
       "      <td>15.132667</td>\n",
       "      <td>15.132667</td>\n",
       "      <td>168202500</td>\n",
       "      <td>NaN</td>\n",
       "    </tr>\n",
       "    <tr>\n",
       "      <th>2017-01-05</th>\n",
       "      <td>15.094667</td>\n",
       "      <td>15.165333</td>\n",
       "      <td>14.796667</td>\n",
       "      <td>15.116667</td>\n",
       "      <td>15.116667</td>\n",
       "      <td>88675500</td>\n",
       "      <td>NaN</td>\n",
       "    </tr>\n",
       "    <tr>\n",
       "      <th>2017-01-06</th>\n",
       "      <td>15.128667</td>\n",
       "      <td>15.354000</td>\n",
       "      <td>15.030000</td>\n",
       "      <td>15.267333</td>\n",
       "      <td>15.267333</td>\n",
       "      <td>82918500</td>\n",
       "      <td>NaN</td>\n",
       "    </tr>\n",
       "    <tr>\n",
       "      <th>2017-01-09</th>\n",
       "      <td>15.264667</td>\n",
       "      <td>15.461333</td>\n",
       "      <td>15.200000</td>\n",
       "      <td>15.418667</td>\n",
       "      <td>15.418667</td>\n",
       "      <td>59692500</td>\n",
       "      <td>NaN</td>\n",
       "    </tr>\n",
       "  </tbody>\n",
       "</table>\n",
       "</div>"
      ],
      "text/plain": [
       "                 Open       High        Low      Close  Adj Close     Volume  \\\n",
       "Date                                                                           \n",
       "2017-01-03  14.324000  14.688667  14.064000  14.466000  14.466000   88849500   \n",
       "2017-01-04  14.316667  15.200000  14.287333  15.132667  15.132667  168202500   \n",
       "2017-01-05  15.094667  15.165333  14.796667  15.116667  15.116667   88675500   \n",
       "2017-01-06  15.128667  15.354000  15.030000  15.267333  15.267333   82918500   \n",
       "2017-01-09  15.264667  15.461333  15.200000  15.418667  15.418667   59692500   \n",
       "\n",
       "            Open: 30 days rolling  \n",
       "Date                               \n",
       "2017-01-03                    NaN  \n",
       "2017-01-04                    NaN  \n",
       "2017-01-05                    NaN  \n",
       "2017-01-06                    NaN  \n",
       "2017-01-09                    NaN  "
      ]
     },
     "execution_count": 90,
     "metadata": {},
     "output_type": "execute_result"
    }
   ],
   "source": [
    "df.head()"
   ]
  },
  {
   "cell_type": "code",
   "execution_count": 91,
   "id": "db0961cb",
   "metadata": {},
   "outputs": [],
   "source": [
    "df[\"Open: 30 days rolling\"]= df[\"Open\"].rolling(30).mean()"
   ]
  },
  {
   "cell_type": "code",
   "execution_count": 92,
   "id": "9d27a2ce",
   "metadata": {},
   "outputs": [
    {
     "data": {
      "text/html": [
       "<div>\n",
       "<style scoped>\n",
       "    .dataframe tbody tr th:only-of-type {\n",
       "        vertical-align: middle;\n",
       "    }\n",
       "\n",
       "    .dataframe tbody tr th {\n",
       "        vertical-align: top;\n",
       "    }\n",
       "\n",
       "    .dataframe thead th {\n",
       "        text-align: right;\n",
       "    }\n",
       "</style>\n",
       "<table border=\"1\" class=\"dataframe\">\n",
       "  <thead>\n",
       "    <tr style=\"text-align: right;\">\n",
       "      <th></th>\n",
       "      <th>Open</th>\n",
       "      <th>High</th>\n",
       "      <th>Low</th>\n",
       "      <th>Close</th>\n",
       "      <th>Adj Close</th>\n",
       "      <th>Volume</th>\n",
       "      <th>Open: 30 days rolling</th>\n",
       "    </tr>\n",
       "    <tr>\n",
       "      <th>Date</th>\n",
       "      <th></th>\n",
       "      <th></th>\n",
       "      <th></th>\n",
       "      <th></th>\n",
       "      <th></th>\n",
       "      <th></th>\n",
       "      <th></th>\n",
       "    </tr>\n",
       "  </thead>\n",
       "  <tbody>\n",
       "    <tr>\n",
       "      <th>2017-01-03</th>\n",
       "      <td>14.324000</td>\n",
       "      <td>14.688667</td>\n",
       "      <td>14.064000</td>\n",
       "      <td>14.466000</td>\n",
       "      <td>14.466000</td>\n",
       "      <td>88849500</td>\n",
       "      <td>NaN</td>\n",
       "    </tr>\n",
       "    <tr>\n",
       "      <th>2017-01-04</th>\n",
       "      <td>14.316667</td>\n",
       "      <td>15.200000</td>\n",
       "      <td>14.287333</td>\n",
       "      <td>15.132667</td>\n",
       "      <td>15.132667</td>\n",
       "      <td>168202500</td>\n",
       "      <td>NaN</td>\n",
       "    </tr>\n",
       "    <tr>\n",
       "      <th>2017-01-05</th>\n",
       "      <td>15.094667</td>\n",
       "      <td>15.165333</td>\n",
       "      <td>14.796667</td>\n",
       "      <td>15.116667</td>\n",
       "      <td>15.116667</td>\n",
       "      <td>88675500</td>\n",
       "      <td>NaN</td>\n",
       "    </tr>\n",
       "    <tr>\n",
       "      <th>2017-01-06</th>\n",
       "      <td>15.128667</td>\n",
       "      <td>15.354000</td>\n",
       "      <td>15.030000</td>\n",
       "      <td>15.267333</td>\n",
       "      <td>15.267333</td>\n",
       "      <td>82918500</td>\n",
       "      <td>NaN</td>\n",
       "    </tr>\n",
       "    <tr>\n",
       "      <th>2017-01-09</th>\n",
       "      <td>15.264667</td>\n",
       "      <td>15.461333</td>\n",
       "      <td>15.200000</td>\n",
       "      <td>15.418667</td>\n",
       "      <td>15.418667</td>\n",
       "      <td>59692500</td>\n",
       "      <td>NaN</td>\n",
       "    </tr>\n",
       "    <tr>\n",
       "      <th>2017-01-10</th>\n",
       "      <td>15.466667</td>\n",
       "      <td>15.466667</td>\n",
       "      <td>15.126000</td>\n",
       "      <td>15.324667</td>\n",
       "      <td>15.324667</td>\n",
       "      <td>54900000</td>\n",
       "      <td>NaN</td>\n",
       "    </tr>\n",
       "    <tr>\n",
       "      <th>2017-01-11</th>\n",
       "      <td>15.271333</td>\n",
       "      <td>15.332000</td>\n",
       "      <td>15.112000</td>\n",
       "      <td>15.315333</td>\n",
       "      <td>15.315333</td>\n",
       "      <td>54762000</td>\n",
       "      <td>NaN</td>\n",
       "    </tr>\n",
       "    <tr>\n",
       "      <th>2017-01-12</th>\n",
       "      <td>15.270667</td>\n",
       "      <td>15.380000</td>\n",
       "      <td>15.038667</td>\n",
       "      <td>15.306000</td>\n",
       "      <td>15.306000</td>\n",
       "      <td>56853000</td>\n",
       "      <td>NaN</td>\n",
       "    </tr>\n",
       "    <tr>\n",
       "      <th>2017-01-13</th>\n",
       "      <td>15.333333</td>\n",
       "      <td>15.856667</td>\n",
       "      <td>15.306000</td>\n",
       "      <td>15.850000</td>\n",
       "      <td>15.850000</td>\n",
       "      <td>91395000</td>\n",
       "      <td>NaN</td>\n",
       "    </tr>\n",
       "    <tr>\n",
       "      <th>2017-01-17</th>\n",
       "      <td>15.780000</td>\n",
       "      <td>15.997333</td>\n",
       "      <td>15.624667</td>\n",
       "      <td>15.705333</td>\n",
       "      <td>15.705333</td>\n",
       "      <td>69262500</td>\n",
       "      <td>NaN</td>\n",
       "    </tr>\n",
       "    <tr>\n",
       "      <th>2017-01-18</th>\n",
       "      <td>15.776667</td>\n",
       "      <td>15.980667</td>\n",
       "      <td>15.705333</td>\n",
       "      <td>15.890667</td>\n",
       "      <td>15.890667</td>\n",
       "      <td>56535000</td>\n",
       "      <td>NaN</td>\n",
       "    </tr>\n",
       "    <tr>\n",
       "      <th>2017-01-19</th>\n",
       "      <td>16.483334</td>\n",
       "      <td>16.578667</td>\n",
       "      <td>16.049999</td>\n",
       "      <td>16.250668</td>\n",
       "      <td>16.250668</td>\n",
       "      <td>115984500</td>\n",
       "      <td>NaN</td>\n",
       "    </tr>\n",
       "    <tr>\n",
       "      <th>2017-01-20</th>\n",
       "      <td>16.364000</td>\n",
       "      <td>16.400000</td>\n",
       "      <td>16.200666</td>\n",
       "      <td>16.315332</td>\n",
       "      <td>16.315332</td>\n",
       "      <td>63064500</td>\n",
       "      <td>NaN</td>\n",
       "    </tr>\n",
       "    <tr>\n",
       "      <th>2017-01-23</th>\n",
       "      <td>16.389999</td>\n",
       "      <td>16.726000</td>\n",
       "      <td>16.366667</td>\n",
       "      <td>16.594667</td>\n",
       "      <td>16.594667</td>\n",
       "      <td>93943500</td>\n",
       "      <td>NaN</td>\n",
       "    </tr>\n",
       "    <tr>\n",
       "      <th>2017-01-24</th>\n",
       "      <td>16.666668</td>\n",
       "      <td>16.986668</td>\n",
       "      <td>16.643333</td>\n",
       "      <td>16.974001</td>\n",
       "      <td>16.974001</td>\n",
       "      <td>74482500</td>\n",
       "      <td>NaN</td>\n",
       "    </tr>\n",
       "    <tr>\n",
       "      <th>2017-01-25</th>\n",
       "      <td>17.153999</td>\n",
       "      <td>17.230667</td>\n",
       "      <td>16.786667</td>\n",
       "      <td>16.964666</td>\n",
       "      <td>16.964666</td>\n",
       "      <td>77139000</td>\n",
       "      <td>NaN</td>\n",
       "    </tr>\n",
       "    <tr>\n",
       "      <th>2017-01-26</th>\n",
       "      <td>16.952667</td>\n",
       "      <td>17.049334</td>\n",
       "      <td>16.716667</td>\n",
       "      <td>16.834000</td>\n",
       "      <td>16.834000</td>\n",
       "      <td>47281500</td>\n",
       "      <td>NaN</td>\n",
       "    </tr>\n",
       "    <tr>\n",
       "      <th>2017-01-27</th>\n",
       "      <td>16.758667</td>\n",
       "      <td>16.866667</td>\n",
       "      <td>16.568001</td>\n",
       "      <td>16.863333</td>\n",
       "      <td>16.863333</td>\n",
       "      <td>47494500</td>\n",
       "      <td>NaN</td>\n",
       "    </tr>\n",
       "    <tr>\n",
       "      <th>2017-01-30</th>\n",
       "      <td>16.835333</td>\n",
       "      <td>17.019333</td>\n",
       "      <td>16.473333</td>\n",
       "      <td>16.708668</td>\n",
       "      <td>16.708668</td>\n",
       "      <td>57016500</td>\n",
       "      <td>NaN</td>\n",
       "    </tr>\n",
       "    <tr>\n",
       "      <th>2017-01-31</th>\n",
       "      <td>16.615999</td>\n",
       "      <td>17.059334</td>\n",
       "      <td>16.513332</td>\n",
       "      <td>16.795334</td>\n",
       "      <td>16.795334</td>\n",
       "      <td>61741500</td>\n",
       "      <td>NaN</td>\n",
       "    </tr>\n",
       "    <tr>\n",
       "      <th>2017-02-01</th>\n",
       "      <td>16.870001</td>\n",
       "      <td>16.879999</td>\n",
       "      <td>16.603333</td>\n",
       "      <td>16.615999</td>\n",
       "      <td>16.615999</td>\n",
       "      <td>59382000</td>\n",
       "      <td>NaN</td>\n",
       "    </tr>\n",
       "    <tr>\n",
       "      <th>2017-02-02</th>\n",
       "      <td>16.556000</td>\n",
       "      <td>16.827999</td>\n",
       "      <td>16.514000</td>\n",
       "      <td>16.770000</td>\n",
       "      <td>16.770000</td>\n",
       "      <td>37497000</td>\n",
       "      <td>NaN</td>\n",
       "    </tr>\n",
       "    <tr>\n",
       "      <th>2017-02-03</th>\n",
       "      <td>16.794001</td>\n",
       "      <td>16.812000</td>\n",
       "      <td>16.645332</td>\n",
       "      <td>16.755333</td>\n",
       "      <td>16.755333</td>\n",
       "      <td>32800500</td>\n",
       "      <td>NaN</td>\n",
       "    </tr>\n",
       "    <tr>\n",
       "      <th>2017-02-06</th>\n",
       "      <td>16.733334</td>\n",
       "      <td>17.188000</td>\n",
       "      <td>16.708668</td>\n",
       "      <td>17.184668</td>\n",
       "      <td>17.184668</td>\n",
       "      <td>53437500</td>\n",
       "      <td>NaN</td>\n",
       "    </tr>\n",
       "    <tr>\n",
       "      <th>2017-02-07</th>\n",
       "      <td>17.212667</td>\n",
       "      <td>17.333332</td>\n",
       "      <td>17.094667</td>\n",
       "      <td>17.165333</td>\n",
       "      <td>17.165333</td>\n",
       "      <td>63672000</td>\n",
       "      <td>NaN</td>\n",
       "    </tr>\n",
       "    <tr>\n",
       "      <th>2017-02-08</th>\n",
       "      <td>17.156668</td>\n",
       "      <td>17.557333</td>\n",
       "      <td>17.080000</td>\n",
       "      <td>17.472000</td>\n",
       "      <td>17.472000</td>\n",
       "      <td>58995000</td>\n",
       "      <td>NaN</td>\n",
       "    </tr>\n",
       "    <tr>\n",
       "      <th>2017-02-09</th>\n",
       "      <td>17.750000</td>\n",
       "      <td>18.078667</td>\n",
       "      <td>17.743334</td>\n",
       "      <td>17.946667</td>\n",
       "      <td>17.946667</td>\n",
       "      <td>117303000</td>\n",
       "      <td>NaN</td>\n",
       "    </tr>\n",
       "    <tr>\n",
       "      <th>2017-02-10</th>\n",
       "      <td>17.986000</td>\n",
       "      <td>18.063334</td>\n",
       "      <td>17.740667</td>\n",
       "      <td>17.948668</td>\n",
       "      <td>17.948668</td>\n",
       "      <td>54295500</td>\n",
       "      <td>NaN</td>\n",
       "    </tr>\n",
       "    <tr>\n",
       "      <th>2017-02-13</th>\n",
       "      <td>18.049334</td>\n",
       "      <td>18.719334</td>\n",
       "      <td>18.034000</td>\n",
       "      <td>18.706667</td>\n",
       "      <td>18.706667</td>\n",
       "      <td>105444000</td>\n",
       "      <td>NaN</td>\n",
       "    </tr>\n",
       "    <tr>\n",
       "      <th>2017-02-14</th>\n",
       "      <td>18.601999</td>\n",
       "      <td>19.159332</td>\n",
       "      <td>18.573999</td>\n",
       "      <td>18.732000</td>\n",
       "      <td>18.732000</td>\n",
       "      <td>110178000</td>\n",
       "      <td>16.365267</td>\n",
       "    </tr>\n",
       "    <tr>\n",
       "      <th>2017-02-15</th>\n",
       "      <td>18.666668</td>\n",
       "      <td>18.816000</td>\n",
       "      <td>18.429333</td>\n",
       "      <td>18.650667</td>\n",
       "      <td>18.650667</td>\n",
       "      <td>74218500</td>\n",
       "      <td>16.510022</td>\n",
       "    </tr>\n",
       "  </tbody>\n",
       "</table>\n",
       "</div>"
      ],
      "text/plain": [
       "                 Open       High        Low      Close  Adj Close     Volume  \\\n",
       "Date                                                                           \n",
       "2017-01-03  14.324000  14.688667  14.064000  14.466000  14.466000   88849500   \n",
       "2017-01-04  14.316667  15.200000  14.287333  15.132667  15.132667  168202500   \n",
       "2017-01-05  15.094667  15.165333  14.796667  15.116667  15.116667   88675500   \n",
       "2017-01-06  15.128667  15.354000  15.030000  15.267333  15.267333   82918500   \n",
       "2017-01-09  15.264667  15.461333  15.200000  15.418667  15.418667   59692500   \n",
       "2017-01-10  15.466667  15.466667  15.126000  15.324667  15.324667   54900000   \n",
       "2017-01-11  15.271333  15.332000  15.112000  15.315333  15.315333   54762000   \n",
       "2017-01-12  15.270667  15.380000  15.038667  15.306000  15.306000   56853000   \n",
       "2017-01-13  15.333333  15.856667  15.306000  15.850000  15.850000   91395000   \n",
       "2017-01-17  15.780000  15.997333  15.624667  15.705333  15.705333   69262500   \n",
       "2017-01-18  15.776667  15.980667  15.705333  15.890667  15.890667   56535000   \n",
       "2017-01-19  16.483334  16.578667  16.049999  16.250668  16.250668  115984500   \n",
       "2017-01-20  16.364000  16.400000  16.200666  16.315332  16.315332   63064500   \n",
       "2017-01-23  16.389999  16.726000  16.366667  16.594667  16.594667   93943500   \n",
       "2017-01-24  16.666668  16.986668  16.643333  16.974001  16.974001   74482500   \n",
       "2017-01-25  17.153999  17.230667  16.786667  16.964666  16.964666   77139000   \n",
       "2017-01-26  16.952667  17.049334  16.716667  16.834000  16.834000   47281500   \n",
       "2017-01-27  16.758667  16.866667  16.568001  16.863333  16.863333   47494500   \n",
       "2017-01-30  16.835333  17.019333  16.473333  16.708668  16.708668   57016500   \n",
       "2017-01-31  16.615999  17.059334  16.513332  16.795334  16.795334   61741500   \n",
       "2017-02-01  16.870001  16.879999  16.603333  16.615999  16.615999   59382000   \n",
       "2017-02-02  16.556000  16.827999  16.514000  16.770000  16.770000   37497000   \n",
       "2017-02-03  16.794001  16.812000  16.645332  16.755333  16.755333   32800500   \n",
       "2017-02-06  16.733334  17.188000  16.708668  17.184668  17.184668   53437500   \n",
       "2017-02-07  17.212667  17.333332  17.094667  17.165333  17.165333   63672000   \n",
       "2017-02-08  17.156668  17.557333  17.080000  17.472000  17.472000   58995000   \n",
       "2017-02-09  17.750000  18.078667  17.743334  17.946667  17.946667  117303000   \n",
       "2017-02-10  17.986000  18.063334  17.740667  17.948668  17.948668   54295500   \n",
       "2017-02-13  18.049334  18.719334  18.034000  18.706667  18.706667  105444000   \n",
       "2017-02-14  18.601999  19.159332  18.573999  18.732000  18.732000  110178000   \n",
       "2017-02-15  18.666668  18.816000  18.429333  18.650667  18.650667   74218500   \n",
       "\n",
       "            Open: 30 days rolling  \n",
       "Date                               \n",
       "2017-01-03                    NaN  \n",
       "2017-01-04                    NaN  \n",
       "2017-01-05                    NaN  \n",
       "2017-01-06                    NaN  \n",
       "2017-01-09                    NaN  \n",
       "2017-01-10                    NaN  \n",
       "2017-01-11                    NaN  \n",
       "2017-01-12                    NaN  \n",
       "2017-01-13                    NaN  \n",
       "2017-01-17                    NaN  \n",
       "2017-01-18                    NaN  \n",
       "2017-01-19                    NaN  \n",
       "2017-01-20                    NaN  \n",
       "2017-01-23                    NaN  \n",
       "2017-01-24                    NaN  \n",
       "2017-01-25                    NaN  \n",
       "2017-01-26                    NaN  \n",
       "2017-01-27                    NaN  \n",
       "2017-01-30                    NaN  \n",
       "2017-01-31                    NaN  \n",
       "2017-02-01                    NaN  \n",
       "2017-02-02                    NaN  \n",
       "2017-02-03                    NaN  \n",
       "2017-02-06                    NaN  \n",
       "2017-02-07                    NaN  \n",
       "2017-02-08                    NaN  \n",
       "2017-02-09                    NaN  \n",
       "2017-02-10                    NaN  \n",
       "2017-02-13                    NaN  \n",
       "2017-02-14              16.365267  \n",
       "2017-02-15              16.510022  "
      ]
     },
     "execution_count": 92,
     "metadata": {},
     "output_type": "execute_result"
    }
   ],
   "source": [
    "df.head(31)"
   ]
  },
  {
   "cell_type": "code",
   "execution_count": 94,
   "id": "b777c058",
   "metadata": {},
   "outputs": [
    {
     "data": {
      "text/plain": [
       "<Axes: xlabel='Date'>"
      ]
     },
     "execution_count": 94,
     "metadata": {},
     "output_type": "execute_result"
    },
    {
     "data": {
      "image/png": "[encoded data removed]",
      "text/plain": [
       "<Figure size 1500x400 with 1 Axes>"
      ]
     },
     "metadata": {},
     "output_type": "display_data"
    }
   ],
   "source": [
    "df[[\"Open\",\"Open: 30 days rolling\"]].plot(figsize = (15,4))"
   ]
  },
  {
   "cell_type": "code",
   "execution_count": null,
   "id": "7af6c9d1",
   "metadata": {},
   "outputs": [],
   "source": []
  }
 ],
 "metadata": {
  "kernelspec": {
   "display_name": "Python 3 (ipykernel)",
   "language": "python",
   "name": "python3"
  },
  "language_info": {
   "codemirror_mode": {
    "name": "ipython",
    "version": 3
   },
   "file_extension": ".py",
   "mimetype": "text/x-python",
   "name": "python",
   "nbconvert_exporter": "python",
   "pygments_lexer": "ipython3",
   "version": "3.9.12"
  }
 },
 "nbformat": 4,
 "nbformat_minor": 5
}
