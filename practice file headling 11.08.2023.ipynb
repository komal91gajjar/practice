{
 "cells": [
  {
   "cell_type": "code",
   "execution_count": 5,
   "id": "328b45c7",
   "metadata": {},
   "outputs": [
    {
     "name": "stdout",
     "output_type": "stream",
     "text": [
      "hello python python program is very easy language python program is very easy language python program is very easy languagepython program is very easy language\n"
     ]
    }
   ],
   "source": [
    "a = open(\"demo.txt\", \"r\")\n",
    "print(a.read())"
   ]
  },
  {
   "cell_type": "code",
   "execution_count": 7,
   "id": "cb2807d8",
   "metadata": {},
   "outputs": [
    {
     "name": "stdout",
     "output_type": "stream",
     "text": [
      "Hello to all\n",
      "good afternoon\n",
      "my name is somethig and i belong to something\n",
      "\n",
      "\n"
     ]
    }
   ],
   "source": [
    "a = open(\"democompany.txt\" , \"r\")\n",
    "print(a.read())"
   ]
  },
  {
   "cell_type": "code",
   "execution_count": 9,
   "id": "4d22b1d1",
   "metadata": {},
   "outputs": [
    {
     "name": "stdout",
     "output_type": "stream",
     "text": [
      "<_io.TextIOWrapper name='D:\\\\Chirag - Income Tax - Temp File\\\\Mayur Store\\\\demo.txt' mode='r' encoding='cp1252'>\n"
     ]
    }
   ],
   "source": [
    "a = open(\"D:\\\\Chirag - Income Tax - Temp File\\\\Mayur Store\\\\demo.txt\" , \"r\")\n",
    "print(a)"
   ]
  },
  {
   "cell_type": "code",
   "execution_count": 13,
   "id": "63e8afcb",
   "metadata": {},
   "outputs": [
    {
     "name": "stdout",
     "output_type": "stream",
     "text": [
      "None\n",
      "Hello to all\n",
      "good afternoon\n",
      "my name is somethig and i belong to something\n",
      "\n",
      "this is my demo class and demo project to submited my friendsthis is my demo class and demo project to submited my friends\n"
     ]
    }
   ],
   "source": [
    "a = open(\"democompany.txt\", \"a\")\n",
    "a.write(\"this is my demo class and demo project to submited my friends\")\n",
    "print(a.close())\n",
    "\n",
    "a = open(\"democompany.txt\" , \"r\")\n",
    "print(a.read())"
   ]
  },
  {
   "cell_type": "code",
   "execution_count": 14,
   "id": "f49240cb",
   "metadata": {},
   "outputs": [
    {
     "name": "stdout",
     "output_type": "stream",
     "text": [
      "None\n",
      "this is second demo file\n"
     ]
    }
   ],
   "source": [
    "a = open(\"demo.txt\" , \"w\")\n",
    "a.write(\"this is second demo file\")\n",
    "print(a.close())\n",
    "a = open(\"demo.txt\" , \"r\")\n",
    "print(a.read())\n"
   ]
  },
  {
   "cell_type": "code",
   "execution_count": 19,
   "id": "1fed7ae6",
   "metadata": {},
   "outputs": [
    {
     "name": "stdout",
     "output_type": "stream",
     "text": [
      "None\n",
      "this is second demo filehello friends............. how are you????hello friends............. how are you????hello friends............. how are you????hello friends............. how are you????\n"
     ]
    }
   ],
   "source": [
    "a = open(\"demo.txt\", \"a\")\n",
    "a.write(\"hello friends............. how are you????\")\n",
    "print(a.close())\n",
    "\n",
    "a = open(\"demo.txt\", \"r\")\n",
    "print(a.read())"
   ]
  },
  {
   "cell_type": "code",
   "execution_count": null,
   "id": "32d6083d",
   "metadata": {},
   "outputs": [],
   "source": []
  },
  {
   "cell_type": "code",
   "execution_count": null,
   "id": "6ae37a93",
   "metadata": {},
   "outputs": [],
   "source": []
  }
 ],
 "metadata": {
  "kernelspec": {
   "display_name": "Python 3 (ipykernel)",
   "language": "python",
   "name": "python3"
  },
  "language_info": {
   "codemirror_mode": {
    "name": "ipython",
    "version": 3
   },
   "file_extension": ".py",
   "mimetype": "text/x-python",
   "name": "python",
   "nbconvert_exporter": "python",
   "pygments_lexer": "ipython3",
   "version": "3.9.12"
  }
 },
 "nbformat": 4,
 "nbformat_minor": 5
}
