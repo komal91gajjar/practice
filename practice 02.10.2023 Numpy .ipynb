{
 "cells": [
  {
   "cell_type": "code",
   "execution_count": 1,
   "id": "c051c365",
   "metadata": {},
   "outputs": [],
   "source": [
    "import numpy as np"
   ]
  },
  {
   "cell_type": "code",
   "execution_count": 46,
   "id": "5ec3d38a",
   "metadata": {},
   "outputs": [
    {
     "name": "stdout",
     "output_type": "stream",
     "text": [
      "[1 2 3]\n"
     ]
    }
   ],
   "source": [
    "# one dimensional array\n",
    "\n",
    "array = np.array([1,2,3])\n",
    "print(array)"
   ]
  },
  {
   "cell_type": "code",
   "execution_count": 47,
   "id": "2e2034a8",
   "metadata": {},
   "outputs": [
    {
     "name": "stdout",
     "output_type": "stream",
     "text": [
      "[[1 2]\n",
      " [2 3]]\n"
     ]
    }
   ],
   "source": [
    "# two dimensional array\n",
    "\n",
    "array = np.array([[1,2],[2,3]])\n",
    "print(array)"
   ]
  },
  {
   "cell_type": "code",
   "execution_count": 48,
   "id": "c23962bb",
   "metadata": {},
   "outputs": [
    {
     "name": "stdout",
     "output_type": "stream",
     "text": [
      "[[[0. 0. 0.]\n",
      "  [0. 0. 0.]]]\n"
     ]
    }
   ],
   "source": [
    "# How to create an empty and a full NumPy array?\n",
    "\n",
    "empty_array = np.empty([1,2,3])\n",
    "print(empty_array)\n"
   ]
  },
  {
   "cell_type": "code",
   "execution_count": 49,
   "id": "9386012f",
   "metadata": {},
   "outputs": [
    {
     "name": "stdout",
     "output_type": "stream",
     "text": [
      "[[[0. 0. 0.]\n",
      "  [0. 0. 0.]]]\n"
     ]
    }
   ],
   "source": [
    "empty_array = np.zeros([1,2,3])\n",
    "print(empty_array)"
   ]
  },
  {
   "cell_type": "code",
   "execution_count": 50,
   "id": "73ebb555",
   "metadata": {},
   "outputs": [
    {
     "name": "stdout",
     "output_type": "stream",
     "text": [
      "[[4 4 4]\n",
      " [4 4 4]]\n"
     ]
    }
   ],
   "source": [
    "empty_array = np.full([2,3],4)\n",
    "print(empty_array)"
   ]
  },
  {
   "cell_type": "code",
   "execution_count": 51,
   "id": "97877ad3",
   "metadata": {},
   "outputs": [
    {
     "name": "stdout",
     "output_type": "stream",
     "text": [
      "[[[0. 0. 0.]\n",
      "  [0. 0. 0.]]]\n"
     ]
    }
   ],
   "source": [
    "# Create a Numpy array filled with all zeros | Python\n",
    "\n",
    "zero_array = np.zeros([1,2,3])\n",
    "print(zero_array)"
   ]
  },
  {
   "cell_type": "code",
   "execution_count": 52,
   "id": "4754dc52",
   "metadata": {},
   "outputs": [
    {
     "name": "stdout",
     "output_type": "stream",
     "text": [
      "[[1. 1. 1.]\n",
      " [1. 1. 1.]]\n"
     ]
    }
   ],
   "source": [
    "# Create a Numpy array filled with all ones\n",
    "\n",
    "one_array = np.ones([2,3])\n",
    "print(one_array)"
   ]
  },
  {
   "cell_type": "code",
   "execution_count": 53,
   "id": "c9d8e020",
   "metadata": {},
   "outputs": [
    {
     "name": "stdout",
     "output_type": "stream",
     "text": [
      "[[ 1  2  3  4  5]\n",
      " [ 6  7  8  9 10]\n",
      " [11 12 13 14 15]\n",
      " [16 17 18 19 20]]\n",
      "True\n",
      "False\n",
      "False\n",
      "True\n"
     ]
    }
   ],
   "source": [
    "# Check whether a Numpy array contains a specified row\n",
    "\n",
    "arr = np.array([[1,2,3,4,5], \n",
    "       [6,7,8,9,10], \n",
    "       [11,12,13,14,15], \n",
    "       [16,17,18,19,20]])\n",
    "print(arr)\n",
    "\n",
    "print([1, 2, 3, 4, 5] in arr.tolist())\n",
    "print([16, 17, 20, 19, 18] in arr.tolist())\n",
    "print([3, 2, 5, -4, 5] in arr.tolist())\n",
    "print([11, 12, 13, 14, 15] in arr.tolist())\n"
   ]
  },
  {
   "cell_type": "code",
   "execution_count": 54,
   "id": "ecef0a72",
   "metadata": {},
   "outputs": [
    {
     "name": "stdout",
     "output_type": "stream",
     "text": [
      "[[ 1.  2.  3.]\n",
      " [ 5.  6.  7.]\n",
      " [ 8.  9. 10.]]\n",
      "[[ 1.  2.  3.]\n",
      " [ 5.  6.  7.]\n",
      " [ 8.  9. 10.]]\n"
     ]
    }
   ],
   "source": [
    "# How to Remove rows in Numpy array that contains non-numeric values?\n",
    "\n",
    "arr = np.array([[1,2,3],[4,np.nan,np.nan],[5,6,7],[8,9,10]])\n",
    "\n",
    "print(arr[~np.isnan(arr).any(axis=1)])\n",
    "\n",
    "filterd_array = arr[~np.isnan(arr).any(axis=1)]\n",
    "print(filterd_array)\n",
    "\n"
   ]
  },
  {
   "cell_type": "code",
   "execution_count": 55,
   "id": "0b0b371e",
   "metadata": {},
   "outputs": [
    {
     "name": "stdout",
     "output_type": "stream",
     "text": [
      "[[[2 3 4]\n",
      "  [5 6 7]\n",
      "  [1 8 9]]]\n",
      "[[2 3 4]\n",
      " [5 6 7]\n",
      " [1 8 9]]\n",
      "(1, 3, 3)\n"
     ]
    }
   ],
   "source": [
    "# Remove single-dimensional entries from the shape of an array\n",
    "\n",
    "arr = np.array([[[2,3,4],[5,6,7],[1,8,9]]])\n",
    "print(arr)\n",
    "\n",
    "# a = np.squeeze(arr)\n",
    "# print(a)\n",
    "print(np.squeeze(arr))\n",
    "\n",
    "print(arr.shape)"
   ]
  },
  {
   "cell_type": "code",
   "execution_count": 56,
   "id": "110ff6ad",
   "metadata": {},
   "outputs": [
    {
     "name": "stdout",
     "output_type": "stream",
     "text": [
      "[[2 8 9 4]\n",
      " [9 4 9 4]\n",
      " [4 5 9 7]\n",
      " [2 9 4 3]]\n",
      "4\n"
     ]
    }
   ],
   "source": [
    "# Find the number of occurrences of a sequence in a NumPy array\n",
    "\n",
    "Arr = np.array([[2,8,9,4],\n",
    "       [9,4,9,4],\n",
    "       [4,5,9,7],\n",
    "       [2,9,4,3]])\n",
    "print(Arr)\n",
    "\n",
    "a = repr(Arr).count(\"9, 4\")\n",
    "print(a)\n"
   ]
  },
  {
   "cell_type": "code",
   "execution_count": 57,
   "id": "0e3f61f8",
   "metadata": {},
   "outputs": [
    {
     "name": "stdout",
     "output_type": "stream",
     "text": [
      "list : [1, 2, 3, 4, 5, 1, 2, 1, 1, 1]\n",
      "1\n"
     ]
    }
   ],
   "source": [
    "# Find the most frequent value in a NumPy array\n",
    "\n",
    "x = np.array([1,2,3,4,5,1,2,1,1,1])\n",
    "list = x.tolist()\n",
    "print(f\"list : {list}\")\n",
    "\n",
    "a = max(set(list), key=list.count)\n",
    "print(a)\n"
   ]
  },
  {
   "cell_type": "code",
   "execution_count": 58,
   "id": "34167502",
   "metadata": {},
   "outputs": [
    {
     "name": "stdout",
     "output_type": "stream",
     "text": [
      "[0 1 2 3 4]\n",
      "[[0 1 2 3 4]\n",
      " [5 6 7 8 9]]\n",
      "0 0\n",
      "1 1\n",
      "2 2\n",
      "3 3\n",
      "4 4\n",
      "0 5\n",
      "1 6\n",
      "2 7\n",
      "3 8\n",
      "4 9\n"
     ]
    }
   ],
   "source": [
    "# Combining a one and a two-dimensional NumPy Array \n",
    "\n",
    "one_dimen = np.arange(5)\n",
    "print(one_dimen)\n",
    "\n",
    "two_dimen = np.arange(10).reshape(2,5)\n",
    "print(two_dimen)\n",
    "\n",
    "for i,j in np.nditer([one_dimen,two_dimen]):\n",
    "    print(i,j)"
   ]
  },
  {
   "cell_type": "code",
   "execution_count": 59,
   "id": "13756811",
   "metadata": {},
   "outputs": [
    {
     "name": "stdout",
     "output_type": "stream",
     "text": [
      "[1 2 4 6]\n",
      "[5 8]\n",
      "[[1 4]\n",
      " [1 6]\n",
      " [2 4]\n",
      " [2 6]]\n"
     ]
    }
   ],
   "source": [
    "# How to build an array of all combinations of two NumPy arrays?\n",
    "\n",
    "array_1 = np.array([1, 2])\n",
    "array_2 = np.array([4, 6])\n",
    "\n",
    "merge_array = np.concatenate((array_1,array_2))\n",
    "print(merge_array)\n",
    "\n",
    "merged_array = array_1 + array_2\n",
    "print(merged_array)\n",
    "\n",
    "comb_array = np.array(np.meshgrid(array_1, array_2)).T.reshape(-1, 2)\n",
    "print(comb_array)"
   ]
  },
  {
   "cell_type": "code",
   "execution_count": 60,
   "id": "49218e8f",
   "metadata": {},
   "outputs": [
    {
     "name": "stdout",
     "output_type": "stream",
     "text": [
      "[[1. 1.]\n",
      " [1. 1.]]\n",
      "[[0. 0. 0. 0.]\n",
      " [0. 1. 1. 0.]\n",
      " [0. 1. 1. 0.]\n",
      " [0. 0. 0. 0.]]\n"
     ]
    }
   ],
   "source": [
    "# How to add a border around a NumPy array?\n",
    "\n",
    "array = np.ones((2,2))\n",
    "print(array)\n",
    "\n",
    "array = np.pad(array, pad_width=1, mode='constant',constant_values=0)\n",
    "print(array)\n",
    "  "
   ]
  },
  {
   "cell_type": "code",
   "execution_count": 61,
   "id": "f20fdb79",
   "metadata": {},
   "outputs": [
    {
     "name": "stdout",
     "output_type": "stream",
     "text": [
      "[[0. 0. 0.]\n",
      " [0. 0. 0.]\n",
      " [0. 0. 0.]]\n",
      "[[2. 2. 2. 2. 2.]\n",
      " [2. 0. 0. 0. 2.]\n",
      " [2. 0. 0. 0. 2.]\n",
      " [2. 0. 0. 0. 2.]\n",
      " [2. 2. 2. 2. 2.]]\n",
      "(5, 5)\n"
     ]
    }
   ],
   "source": [
    "array = np.zeros((3,3))\n",
    "print(array)\n",
    "\n",
    "array = np.pad(array,pad_width = 1, mode = \"constant\", constant_values = 2)\n",
    "print(array)\n",
    "\n",
    "print(array.shape)"
   ]
  },
  {
   "cell_type": "code",
   "execution_count": 62,
   "id": "86e9d0f7",
   "metadata": {},
   "outputs": [
    {
     "name": "stdout",
     "output_type": "stream",
     "text": [
      "[[ True  True]\n",
      " [ True  True]]\n",
      "True\n",
      "equal\n"
     ]
    }
   ],
   "source": [
    "# How to compare two NumPy arrays?\n",
    "\n",
    "array_1 = np.array([[1, 2], [3, 4]])\n",
    "array_2 = np.array([[1, 2], [3, 4]])\n",
    "\n",
    "compare_array = array_1 == array_2\n",
    "print(compare_array)\n",
    "\n",
    "print(compare_array.all())\n",
    "\n",
    "if np.array_equal(array_1,array_2):\n",
    "    print(\"equal\")\n",
    "else:\n",
    "    print(\"not equal\")"
   ]
  },
  {
   "cell_type": "code",
   "execution_count": 63,
   "id": "c5d2ae7c",
   "metadata": {},
   "outputs": [
    {
     "name": "stdout",
     "output_type": "stream",
     "text": [
      "List : [[2, 3, 0], [4, 1, 6]]\n",
      "True\n",
      "wrong\n"
     ]
    }
   ],
   "source": [
    "# How to check whether specified values are present in NumPy array?\n",
    "\n",
    "array = np.array([[2, 3, 0],\n",
    "                    [4, 1, 6]])\n",
    "# lst = array.tolist()\n",
    "# print(f\"List : {lst}\")\n",
    "\n",
    "print(0  in array)\n",
    "  "
   ]
  },
  {
   "cell_type": "code",
   "execution_count": 70,
   "id": "82226b36",
   "metadata": {},
   "outputs": [
    {
     "name": "stdout",
     "output_type": "stream",
     "text": [
      "[[[ 0  1  2  3  4]\n",
      "  [ 5  6  7  8  9]\n",
      "  [10 11 12 13 14]\n",
      "  [15 16 17 18 19]]\n",
      "\n",
      " [[20 21 22 23 24]\n",
      "  [25 26 27 28 29]\n",
      "  [30 31 32 33 34]\n",
      "  [35 36 37 38 39]]] \n",
      "\n",
      "[[ 0  6 12 18]\n",
      " [20 26 32 38]]\n"
     ]
    }
   ],
   "source": [
    "# How to get all 2D diagonals of a 3D NumPy array?\n",
    "\n",
    "array = np.arange(2*4*5).reshape(2,4,5)\n",
    "print(array, \"\\n\")\n",
    "\n",
    "\n",
    "diag_arr = np.diagonal(array,axis1 = 1,axis2 = 2)\n",
    "print(diag_arr)\n",
    "  "
   ]
  },
  {
   "cell_type": "code",
   "execution_count": 3,
   "id": "c91321e1",
   "metadata": {},
   "outputs": [
    {
     "name": "stdout",
     "output_type": "stream",
     "text": [
      "[[[ 0  1  2  3  4]\n",
      "  [ 5  6  7  8  9]\n",
      "  [10 11 12 13 14]\n",
      "  [15 16 17 18 19]\n",
      "  [20 21 22 23 24]\n",
      "  [25 26 27 28 29]]\n",
      "\n",
      " [[30 31 32 33 34]\n",
      "  [35 36 37 38 39]\n",
      "  [40 41 42 43 44]\n",
      "  [45 46 47 48 49]\n",
      "  [50 51 52 53 54]\n",
      "  [55 56 57 58 59]]] \n",
      "\n",
      "[[ 0  6 12 18 24]\n",
      " [30 36 42 48 54]]\n"
     ]
    }
   ],
   "source": [
    "array = np.arange(2*6*5).reshape(2,6,5)\n",
    "print(array, \"\\n\")\n",
    "\n",
    "diagonal_array = np.diagonal(array,axis1 = 1,axis2 = 2)\n",
    "print(diagonal_array)"
   ]
  },
  {
   "cell_type": "code",
   "execution_count": 74,
   "id": "f7aef137",
   "metadata": {},
   "outputs": [
    {
     "name": "stdout",
     "output_type": "stream",
     "text": [
      "[2 3 4 5]\n"
     ]
    }
   ],
   "source": [
    "# Flatten a Matrix in Python using NumPy\n",
    "\n",
    "gfg = np.array([[2, 3], [4, 5]])\n",
    "\n",
    "flat_array = gfg.flatten()\n",
    "print(flat_array)"
   ]
  },
  {
   "cell_type": "code",
   "execution_count": 79,
   "id": "973d2f19",
   "metadata": {},
   "outputs": [
    {
     "name": "stdout",
     "output_type": "stream",
     "text": [
      "original array: [[ 1  2  3]\n",
      " [ 4  5  6]\n",
      " [ 7  8  9]\n",
      " [10 11 12]]\n",
      "[ 1  2  3  4  5  6  7  8  9 10 11 12]\n",
      "<class 'numpy.ndarray'>\n"
     ]
    }
   ],
   "source": [
    "# Python | Flatten a 2d numpy array into 1d array\n",
    "\n",
    "array = np.array([[1,2,3],[4,5,6],[7,8,9],[10,11,12]])\n",
    "print(\"original array:\", array)\n",
    "\n",
    "flat_array = array.flatten()\n",
    "print(flat_array)\n",
    "print(type(flat_array))\n"
   ]
  },
  {
   "cell_type": "code",
   "execution_count": 84,
   "id": "d1c5dfdb",
   "metadata": {},
   "outputs": [
    {
     "name": "stdout",
     "output_type": "stream",
     "text": [
      "(2, 3, 4, 1)\n"
     ]
    }
   ],
   "source": [
    "# Move axes of an array to new positions\n",
    "\n",
    "array = np.array([1,2,3,4])\n",
    "array = np.zeros([1,2,3,4])\n",
    "\n",
    "gfg = np.moveaxis(array, 0, -1).shape\n",
    "print(gfg)"
   ]
  },
  {
   "cell_type": "code",
   "execution_count": 85,
   "id": "101838af",
   "metadata": {},
   "outputs": [
    {
     "name": "stdout",
     "output_type": "stream",
     "text": [
      "(1, 3, 2, 4)\n"
     ]
    }
   ],
   "source": [
    "gfg = np.moveaxis(array,1,2).shape\n",
    "print(gfg)"
   ]
  },
  {
   "cell_type": "code",
   "execution_count": 87,
   "id": "48ca2a02",
   "metadata": {},
   "outputs": [
    {
     "name": "stdout",
     "output_type": "stream",
     "text": [
      "(1, 3, 4, 2)\n"
     ]
    }
   ],
   "source": [
    "gfg = np.moveaxis(array,1,3).shape\n",
    "print(gfg)"
   ]
  },
  {
   "cell_type": "code",
   "execution_count": 91,
   "id": "6793e576",
   "metadata": {},
   "outputs": [
    {
     "name": "stdout",
     "output_type": "stream",
     "text": [
      "[[2]\n",
      " [4]\n",
      " [6]\n",
      " [5]\n",
      " [7]]\n"
     ]
    }
   ],
   "source": [
    "# Interchange two axes of an array\n",
    "\n",
    "arr = np.array([[2, 4, 6,5,7]])\n",
    "result = np.swapaxes(arr,0,1)\n",
    "print(result)"
   ]
  },
  {
   "cell_type": "code",
   "execution_count": 94,
   "id": "844eff1e",
   "metadata": {},
   "outputs": [
    {
     "name": "stdout",
     "output_type": "stream",
     "text": [
      "9\n"
     ]
    }
   ],
   "source": [
    "# Counts the number of non-zero values in the array\n",
    "\n",
    "arr = [[0, 1, 2, 3, 0], [0, 5, 6, 0, 7],[11,5,9,0,0]]\n",
    "\n",
    "# array = np.array(arr)\n",
    "array = np.count_nonzero(arr)\n",
    "print(array)\n"
   ]
  },
  {
   "cell_type": "code",
   "execution_count": null,
   "id": "c88546d7",
   "metadata": {},
   "outputs": [],
   "source": []
  },
  {
   "cell_type": "code",
   "execution_count": null,
   "id": "14612316",
   "metadata": {},
   "outputs": [],
   "source": []
  },
  {
   "cell_type": "code",
   "execution_count": null,
   "id": "84c2ee28",
   "metadata": {},
   "outputs": [],
   "source": []
  },
  {
   "cell_type": "code",
   "execution_count": null,
   "id": "38c050dc",
   "metadata": {},
   "outputs": [],
   "source": []
  },
  {
   "cell_type": "code",
   "execution_count": null,
   "id": "ff4bb47b",
   "metadata": {},
   "outputs": [],
   "source": []
  },
  {
   "cell_type": "code",
   "execution_count": null,
   "id": "0739b2d8",
   "metadata": {},
   "outputs": [],
   "source": []
  },
  {
   "cell_type": "code",
   "execution_count": null,
   "id": "ce8c33ed",
   "metadata": {},
   "outputs": [],
   "source": []
  },
  {
   "cell_type": "code",
   "execution_count": null,
   "id": "dcdf5428",
   "metadata": {},
   "outputs": [],
   "source": []
  },
  {
   "cell_type": "code",
   "execution_count": null,
   "id": "33fc9cbd",
   "metadata": {},
   "outputs": [],
   "source": []
  },
  {
   "cell_type": "code",
   "execution_count": null,
   "id": "369aa69f",
   "metadata": {},
   "outputs": [],
   "source": []
  },
  {
   "cell_type": "code",
   "execution_count": null,
   "id": "a7946d90",
   "metadata": {},
   "outputs": [],
   "source": []
  },
  {
   "cell_type": "code",
   "execution_count": null,
   "id": "e3ada133",
   "metadata": {},
   "outputs": [],
   "source": []
  },
  {
   "cell_type": "code",
   "execution_count": null,
   "id": "e9f3120a",
   "metadata": {},
   "outputs": [],
   "source": []
  },
  {
   "cell_type": "code",
   "execution_count": null,
   "id": "4dd62466",
   "metadata": {},
   "outputs": [],
   "source": []
  },
  {
   "cell_type": "code",
   "execution_count": null,
   "id": "48fd76c3",
   "metadata": {},
   "outputs": [],
   "source": []
  }
 ],
 "metadata": {
  "kernelspec": {
   "display_name": "Python 3 (ipykernel)",
   "language": "python",
   "name": "python3"
  },
  "language_info": {
   "codemirror_mode": {
    "name": "ipython",
    "version": 3
   },
   "file_extension": ".py",
   "mimetype": "text/x-python",
   "name": "python",
   "nbconvert_exporter": "python",
   "pygments_lexer": "ipython3",
   "version": "3.9.12"
  }
 },
 "nbformat": 4,
 "nbformat_minor": 5
}
