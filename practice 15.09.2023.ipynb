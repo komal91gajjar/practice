{
 "cells": [
  {
   "cell_type": "code",
   "execution_count": 4,
   "id": "887455fa",
   "metadata": {},
   "outputs": [
    {
     "name": "stdout",
     "output_type": "stream",
     "text": [
      "[7, 10, 7]\n"
     ]
    }
   ],
   "source": [
    "#  Add Two Numbers\n",
    "\n",
    "\n",
    "l1 = [2,4,3]\n",
    "l2 = [5,6,4]\n",
    "\n",
    "r = l1[0]+l2[0]\n",
    "r1 = l1[1]+l2[1]\n",
    "r2 = l1[2]+l2[2]\n",
    "\n",
    "result = [r ,r1 ,r2]\n",
    "\n",
    "print(result)"
   ]
  },
  {
   "cell_type": "code",
   "execution_count": 6,
   "id": "a4bfd860",
   "metadata": {},
   "outputs": [
    {
     "name": "stdout",
     "output_type": "stream",
     "text": [
      "[0]\n"
     ]
    }
   ],
   "source": [
    "l1 = [0]\n",
    "l2 = [0]\n",
    "\n",
    "r = l1[0] + l2[0]\n",
    "result = [r]\n",
    "print(result)\n",
    "        "
   ]
  },
  {
   "cell_type": "code",
   "execution_count": 129,
   "id": "4f759b05",
   "metadata": {},
   "outputs": [
    {
     "name": "stdout",
     "output_type": "stream",
     "text": [
      "[1, 4]\n"
     ]
    }
   ],
   "source": [
    "# Two Sum\n",
    "\n",
    "nums = [2,7,11,15,3]\n",
    "target = 10\n",
    "result = []\n",
    "\n",
    "for i in range(len(nums)):\n",
    "    for j in range(i+1,len(nums)):\n",
    "        if nums[i] +nums[j] == target:\n",
    "            result = [i,j]\n",
    "            break\n",
    "            \n",
    "if result:\n",
    "    print(result)\n",
    "else:\n",
    "    print(\"iii\")\n",
    "                "
   ]
  },
  {
   "cell_type": "code",
   "execution_count": 128,
   "id": "561c959c",
   "metadata": {},
   "outputs": [
    {
     "name": "stdout",
     "output_type": "stream",
     "text": [
      "{3: 3, 2: 4, 5: 1}\n"
     ]
    }
   ],
   "source": [
    "lst = [3,2,4,3,5,1] \n",
    "target = 6\n",
    "result = {}\n",
    "\n",
    "for i in range(0,len(lst)):\n",
    "    for j in range(i+1,len(lst)):\n",
    "        if lst[i] + lst[j] == target:\n",
    "            result[lst[i]] = lst[j]\n",
    "#     if result:\n",
    "#         break\n",
    "            \n",
    "if result:\n",
    "    print(result)\n",
    "else:\n",
    "    print(\"uuu\")"
   ]
  },
  {
   "cell_type": "code",
   "execution_count": 126,
   "id": "88c38301",
   "metadata": {},
   "outputs": [
    {
     "name": "stdout",
     "output_type": "stream",
     "text": [
      "[2, 3]\n"
     ]
    }
   ],
   "source": [
    "lst = [3,2,4,9]\n",
    "target =13 \n",
    "result = []\n",
    "\n",
    "for i in range(len(lst)):\n",
    "    for j in range(i+1, len(lst)):\n",
    "        if lst[i] + lst[j] == target:\n",
    "            result = [i,j]\n",
    "            \n",
    "if result:\n",
    "    print(result)\n",
    "else:\n",
    "    print(\"ooo\")"
   ]
  },
  {
   "cell_type": "code",
   "execution_count": 215,
   "id": "1b08b515",
   "metadata": {},
   "outputs": [
    {
     "data": {
      "text/plain": [
       "42"
      ]
     },
     "execution_count": 215,
     "metadata": {},
     "output_type": "execute_result"
    }
   ],
   "source": [
    "# String to Integer (atoi)\n",
    "s = \"42\"\n",
    "#output = 42\n",
    "\n",
    "result = int(str(s))\n",
    "result"
   ]
  },
  {
   "cell_type": "code",
   "execution_count": 229,
   "id": "e6eb5915",
   "metadata": {},
   "outputs": [
    {
     "name": "stdout",
     "output_type": "stream",
     "text": [
      "131\n",
      "['1', '3', '1']\n",
      "['1', '3', '1']\n",
      "131\n",
      "False\n"
     ]
    }
   ],
   "source": [
    "# Palindrome Number\n",
    "num = 131\n",
    "print(num)\n",
    "\n",
    "\n",
    "lst = list(str(num))\n",
    "print(lst)\n",
    "\n",
    "num = lst[::-1]\n",
    "print(num)\n",
    "\n",
    "result = int(\"\".join(num))\n",
    "print(result)\n",
    "\n",
    "if result == True:\n",
    "    print(True)\n",
    "else:\n",
    "    print(False)"
   ]
  },
  {
   "cell_type": "code",
   "execution_count": 142,
   "id": "1dc53def",
   "metadata": {},
   "outputs": [
    {
     "name": "stdout",
     "output_type": "stream",
     "text": [
      "3\n"
     ]
    }
   ],
   "source": [
    "# Longest Substring Without Repeating Characters\n",
    "\n",
    "\n",
    "s = \"abcabcbbabababa\"\n",
    "\n",
    "print(len(set(s)))"
   ]
  },
  {
   "cell_type": "code",
   "execution_count": 151,
   "id": "7094bb83",
   "metadata": {},
   "outputs": [
    {
     "name": "stdout",
     "output_type": "stream",
     "text": [
      "8\n"
     ]
    }
   ],
   "source": [
    "s = \"komaliskomalisfool\"\n",
    "\n",
    "print(len(set(s)))"
   ]
  },
  {
   "cell_type": "code",
   "execution_count": 230,
   "id": "f97d7b49",
   "metadata": {},
   "outputs": [
    {
     "name": "stdout",
     "output_type": "stream",
     "text": [
      "original list: ['1', '2', '3']\n",
      "['3', '2', '1']\n",
      "reversed list: 321\n"
     ]
    }
   ],
   "source": [
    "# Reverse Integer\n",
    "x = 123\n",
    "lst = [digit for digit in str(x)]\n",
    "# print(lst)\n",
    "#result = \" \"\n",
    "\n",
    "def rev_no(result):\n",
    "    num = lst[::-1]\n",
    "    print(num)\n",
    "    num = int(\"\".join(num))\n",
    "    return num\n",
    "\n",
    "#result = str(lst) \n",
    "\n",
    "\n",
    "print(\"original list:\",lst)\n",
    "print(\"reversed list:\",rev_no(result))\n",
    "\n",
    "\n"
   ]
  },
  {
   "cell_type": "code",
   "execution_count": 209,
   "id": "59d27844",
   "metadata": {},
   "outputs": [
    {
     "name": "stdout",
     "output_type": "stream",
     "text": [
      "['1', '2', '3']\n"
     ]
    },
    {
     "data": {
      "text/plain": [
       "321"
      ]
     },
     "execution_count": 209,
     "metadata": {},
     "output_type": "execute_result"
    }
   ],
   "source": [
    "t = 123\n",
    "r = list(str(t))\n",
    "print(r)\n",
    "r= r[::-1]\n",
    "t = int(\"\".join(r))\n",
    "t"
   ]
  },
  {
   "cell_type": "code",
   "execution_count": 213,
   "id": "b706f98f",
   "metadata": {},
   "outputs": [
    {
     "name": "stdout",
     "output_type": "stream",
     "text": [
      "['1', '2', '3', '4', '5', '6']\n",
      "['6', '5', '4', '3', '2', '1']\n",
      "654321\n"
     ]
    }
   ],
   "source": [
    "x = 123456\n",
    "\n",
    "lst = list(str(x))\n",
    "print(lst)\n",
    "num = lst[::-1]\n",
    "print(num)\n",
    "result = int(\"\".join(num))\n",
    "print(result)\n"
   ]
  },
  {
   "cell_type": "code",
   "execution_count": 233,
   "id": "a45dbeb0",
   "metadata": {},
   "outputs": [
    {
     "ename": "ValueError",
     "evalue": "could not convert string to float: '4193 with words'",
     "output_type": "error",
     "traceback": [
      "\u001b[1;31m---------------------------------------------------------------------------\u001b[0m",
      "\u001b[1;31mValueError\u001b[0m                                Traceback (most recent call last)",
      "Cell \u001b[1;32mIn[233], line 3\u001b[0m\n\u001b[0;32m      1\u001b[0m s \u001b[38;5;241m=\u001b[39m \u001b[38;5;124m\"\u001b[39m\u001b[38;5;124m4193 with words\u001b[39m\u001b[38;5;124m\"\u001b[39m\n\u001b[1;32m----> 3\u001b[0m result \u001b[38;5;241m=\u001b[39m \u001b[38;5;28;43mfloat\u001b[39;49m\u001b[43m(\u001b[49m\u001b[38;5;28;43mstr\u001b[39;49m\u001b[43m(\u001b[49m\u001b[43ms\u001b[49m\u001b[43m)\u001b[49m\u001b[43m)\u001b[49m\n\u001b[0;32m      4\u001b[0m result\n",
      "\u001b[1;31mValueError\u001b[0m: could not convert string to float: '4193 with words'"
     ]
    }
   ],
   "source": [
    "s = \"4193 with words\"\n",
    "\n",
    "result = int(str(s))\n",
    "result\n",
    "\n",
    "if data:\n",
    "    as_int = int(data)\n",
    "else:\n",
    "    # do something else"
   ]
  },
  {
   "cell_type": "code",
   "execution_count": 4,
   "id": "39211537",
   "metadata": {},
   "outputs": [
    {
     "name": "stdout",
     "output_type": "stream",
     "text": [
      "fl\n"
     ]
    }
   ],
   "source": [
    "def longestCommonPrefix(S) :\n",
    "    if (len(S) == 0):\n",
    "        return \"\"\n",
    "    for i in range(len(S[0])):\n",
    "        #c = S[0][i]\n",
    "        for j in range(len(S)):\n",
    "            c = S[0][i]\n",
    "            if (i == len(S[j]) or S[j][i] != c):\n",
    "                #c = S[0][i]\n",
    "                return S[0][0:i];             \n",
    "    return S[0]\n",
    " \n",
    "if __name__ == \"__main__\":\n",
    "    # Your code goes here\n",
    "    s =  [\"flower\",\"flow\",\"flight\"]\n",
    "    print(longestCommonPrefix(s))"
   ]
  },
  {
   "cell_type": "code",
   "execution_count": 8,
   "id": "705eb974",
   "metadata": {},
   "outputs": [
    {
     "name": "stdout",
     "output_type": "stream",
     "text": [
      "fl\n"
     ]
    }
   ],
   "source": [
    "strs = [\"flower\",\"flow\",\"flight\"]\n",
    "\n",
    "def longestcommonprefic(strs):\n",
    "    if len(strs) == 0:\n",
    "        return \"\"\n",
    "        \n",
    "    for i in range(len(strs)):\n",
    "       \n",
    "        for j in range(len(strs)):\n",
    "            res = strs[0][i]\n",
    "            if i == len(strs[j]) or strs[j][i] != res:\n",
    "                return strs[0][0:i]\n",
    "    #return s[0]\n",
    "print(longestcommonprefic(strs))"
   ]
  },
  {
   "cell_type": "code",
   "execution_count": 13,
   "id": "7056496a",
   "metadata": {},
   "outputs": [
    {
     "name": "stdout",
     "output_type": "stream",
     "text": [
      "fl\n"
     ]
    }
   ],
   "source": [
    "strs = [\"flower\",\"flow\",\"flight\"]\n",
    "\n",
    "def longestcommonprefix(strs):\n",
    "    \n",
    "    if len(strs) == 0:\n",
    "        return \"\"\n",
    "\n",
    "    for i in range(len(strs)):\n",
    "        for j in range(len(strs)):\n",
    "            result = strs[0][i]\n",
    "            if i == len(strs[i]) or strs[j][i] != result:\n",
    "                #result = strs[0][i]\n",
    "                return s[0][0:i]\n",
    "print(longestcommonprefix(strs))\n",
    "            \n",
    "            "
   ]
  },
  {
   "cell_type": "code",
   "execution_count": null,
   "id": "48127d80",
   "metadata": {},
   "outputs": [],
   "source": []
  },
  {
   "cell_type": "code",
   "execution_count": 15,
   "id": "226a474f",
   "metadata": {},
   "outputs": [
    {
     "name": "stdout",
     "output_type": "stream",
     "text": [
      "0\n"
     ]
    }
   ],
   "source": [
    "def calculate_sum(input_list):\n",
    "    # Check if the input is a list\n",
    "    if not isinstance(input_list, list):\n",
    "        raise TypeError(\"Input should be a list\")\n",
    "    \n",
    "    # Calculate the sum of the elements in the list\n",
    "    total_sum = sum(input_list)\n",
    "    \n",
    "    # Return the total_sum as an integer\n",
    "    return total_sum\n",
    "\n",
    "# Example usage:\n",
    "input_list = [0,0,0]\n",
    "result = calculate_sum(input_list)\n",
    "print(result)  # This will print the sum of the elements, which is an integer\n"
   ]
  },
  {
   "cell_type": "code",
   "execution_count": 36,
   "id": "e326951c",
   "metadata": {},
   "outputs": [
    {
     "ename": "ValueError",
     "evalue": "invalid literal for int() with base 10: '-121-4'",
     "output_type": "error",
     "traceback": [
      "\u001b[1;31m---------------------------------------------------------------------------\u001b[0m",
      "\u001b[1;31mValueError\u001b[0m                                Traceback (most recent call last)",
      "Cell \u001b[1;32mIn[36], line 3\u001b[0m\n\u001b[0;32m      1\u001b[0m lst \u001b[38;5;241m=\u001b[39m [\u001b[38;5;241m-\u001b[39m\u001b[38;5;241m1\u001b[39m,\u001b[38;5;241m2\u001b[39m,\u001b[38;5;241m1\u001b[39m,\u001b[38;5;241m-\u001b[39m\u001b[38;5;241m4\u001b[39m]\n\u001b[1;32m----> 3\u001b[0m intr \u001b[38;5;241m=\u001b[39m \u001b[38;5;28;43mint\u001b[39;49m\u001b[43m(\u001b[49m\u001b[38;5;124;43m\"\u001b[39;49m\u001b[38;5;124;43m\"\u001b[39;49m\u001b[38;5;241;43m.\u001b[39;49m\u001b[43mjoin\u001b[49m\u001b[43m(\u001b[49m\u001b[38;5;28;43mmap\u001b[39;49m\u001b[43m(\u001b[49m\u001b[38;5;28;43mstr\u001b[39;49m\u001b[43m,\u001b[49m\u001b[43mlst\u001b[49m\u001b[43m)\u001b[49m\u001b[43m)\u001b[49m\u001b[43m)\u001b[49m\n",
      "\u001b[1;31mValueError\u001b[0m: invalid literal for int() with base 10: '-121-4'"
     ]
    }
   ],
   "source": [
    "lst = [-1,2,1,-4]\n",
    "\n",
    "intr = int(\"\".join(map(str,lst)))\n",
    "\n"
   ]
  },
  {
   "cell_type": "code",
   "execution_count": 20,
   "id": "814cef2f",
   "metadata": {},
   "outputs": [
    {
     "name": "stdout",
     "output_type": "stream",
     "text": [
      "12345\n"
     ]
    }
   ],
   "source": [
    "# Define a list of digits\n",
    "digit_list = [1, 2, 3, 4, 5]\n",
    "\n",
    "# Convert the list of digits to an integer\n",
    "result_integer = int(''.join(map(str, digit_list)))\n",
    "\n",
    "# Print the result\n",
    "print(result_integer)\n"
   ]
  },
  {
   "cell_type": "code",
   "execution_count": null,
   "id": "ff8ec8e1",
   "metadata": {},
   "outputs": [],
   "source": []
  },
  {
   "cell_type": "code",
   "execution_count": null,
   "id": "4d98db97",
   "metadata": {},
   "outputs": [],
   "source": []
  },
  {
   "cell_type": "code",
   "execution_count": null,
   "id": "be9ac0fd",
   "metadata": {},
   "outputs": [],
   "source": []
  },
  {
   "cell_type": "code",
   "execution_count": null,
   "id": "eb2cbc4e",
   "metadata": {},
   "outputs": [],
   "source": []
  },
  {
   "cell_type": "code",
   "execution_count": null,
   "id": "a57a0867",
   "metadata": {},
   "outputs": [],
   "source": []
  },
  {
   "cell_type": "code",
   "execution_count": null,
   "id": "457e9b59",
   "metadata": {},
   "outputs": [],
   "source": []
  },
  {
   "cell_type": "code",
   "execution_count": null,
   "id": "a89f71a8",
   "metadata": {},
   "outputs": [],
   "source": []
  }
 ],
 "metadata": {
  "kernelspec": {
   "display_name": "Python 3 (ipykernel)",
   "language": "python",
   "name": "python3"
  },
  "language_info": {
   "codemirror_mode": {
    "name": "ipython",
    "version": 3
   },
   "file_extension": ".py",
   "mimetype": "text/x-python",
   "name": "python",
   "nbconvert_exporter": "python",
   "pygments_lexer": "ipython3",
   "version": "3.9.12"
  }
 },
 "nbformat": 4,
 "nbformat_minor": 5
}
