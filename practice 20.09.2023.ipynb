{
 "cells": [
  {
   "cell_type": "markdown",
   "id": "ca50cc26",
   "metadata": {},
   "source": [
    "\n",
    "# List"
   ]
  },
  {
   "cell_type": "code",
   "execution_count": 10,
   "id": "da204195",
   "metadata": {},
   "outputs": [
    {
     "name": "stdout",
     "output_type": "stream",
     "text": [
      "[5, 6, 3, 9]\n"
     ]
    }
   ],
   "source": [
    "# Python – Remove empty List from List\n",
    "\n",
    "lst = [5, 6, [], 3, [], [], 9]\n",
    "lst1 = [[],[],[]]\n",
    "res = []\n",
    "for i in lst:\n",
    "    if i not in lst1:\n",
    "        res.append(i)\n",
    "        #print(i)\n",
    "print(res)\n",
    "        \n",
    "# lst2 = list(res)\n",
    "# print(lst2)\n",
    "\n",
    "# print(res)\n",
    " "
   ]
  },
  {
   "cell_type": "code",
   "execution_count": 30,
   "id": "4a06d1cf",
   "metadata": {},
   "outputs": [
    {
     "name": "stdout",
     "output_type": "stream",
     "text": [
      "6\n",
      "[{'name': 'gfg', 'id': 3, 'value': 159}, {'name': 'is', 'id': 8, 'value': 123}]\n"
     ]
    }
   ],
   "source": [
    "#Python – Convert List to List of dictionaries\n",
    "\n",
    "test_list = [\"gfg\", 3,159 ,\"is\", 8,123]\n",
    "key_list = [\"name\", \"id\",\"value\"] \n",
    "\n",
    "res = []\n",
    "\n",
    "n = len(test_list)\n",
    "print(n)\n",
    "\n",
    "for i in range(0,n,3):\n",
    "    res.append({key_list[0]:test_list[i],key_list[1]:test_list[i+1],key_list[2]:test_list[i+2]})\n",
    "print(res)\n",
    "\n",
    "            "
   ]
  },
  {
   "cell_type": "code",
   "execution_count": 38,
   "id": "84868989",
   "metadata": {},
   "outputs": [
    {
     "name": "stdout",
     "output_type": "stream",
     "text": [
      "[{'name': 'Gfg', 'number': 3}, {'name': 'is', 'number': 8}, {'name': 'Best', 'number': 10}, {'name': 'for', 'number': 18}, {'name': 'Geeks', 'number': 33}]\n"
     ]
    }
   ],
   "source": [
    "test_list = [\"Gfg\", 3, \"is\", 8, \"Best\", 10, \"for\", 18, \"Geeks\", 33]\n",
    "key_list = [\"name\", \"number\"]\n",
    "\n",
    "n = len(test_list)\n",
    "res = []\n",
    "\n",
    "for i in range(0,n,2):\n",
    "    res.append({key_list[0]:test_list[i],key_list[1]:test_list[i+1]})\n",
    "print(res)"
   ]
  },
  {
   "cell_type": "code",
   "execution_count": 54,
   "id": "2b4aae47",
   "metadata": {},
   "outputs": [
    {
     "name": "stdout",
     "output_type": "stream",
     "text": [
      "3\n",
      "{('a', 'b'): (1, 2), ('c', 'd'): (3, 4), ('e', 'f'): (5, 6)}\n"
     ]
    }
   ],
   "source": [
    "#Python – Convert Lists of List to Dictionary\n",
    "test_list = [['a', 'b', 1, 2], ['c', 'd', 3, 4], ['e', 'f', 5, 6]]\n",
    "\n",
    "n = len(test_list)\n",
    "print(n)\n",
    "\n",
    "res = dict()\n",
    "\n",
    "for i in test_list:\n",
    "    res[tuple(i[:2])] = tuple(i[2:])\n",
    "print(res)"
   ]
  },
  {
   "cell_type": "code",
   "execution_count": 57,
   "id": "35069683",
   "metadata": {},
   "outputs": [
    {
     "name": "stdout",
     "output_type": "stream",
     "text": [
      "{('a', 'b'): (1, 2), ('c', 'd'): (3, 4), ('e', 'f'): (5, 6), ('g', 'h'): (7, 8), ('i', 'j'): (9, 10)}\n"
     ]
    }
   ],
   "source": [
    "test_list = [['a', 'b', 1, 2], ['c', 'd', 3, 4], ['e', 'f', 5, 6],['g','h',7,8],['i','j',9,10]]\n",
    "res = dict()\n",
    "for i in test_list:\n",
    "    res[tuple(i[:2])]= tuple(i[2:])\n",
    "print(res)\n"
   ]
  },
  {
   "cell_type": "code",
   "execution_count": 60,
   "id": "a77fff16",
   "metadata": {},
   "outputs": [
    {
     "name": "stdout",
     "output_type": "stream",
     "text": [
      "[[5, 6], [5, 7]]\n"
     ]
    }
   ],
   "source": [
    "# Python | Uncommon elements in Lists of List\n",
    "\n",
    "test_list1 = [ [1, 2], [3, 4], [5, 6] ]\n",
    "test_list2 = [ [3, 4], [5, 7], [1, 2] ]\n",
    "\n",
    "result = []\n",
    "\n",
    "for i in test_list1:\n",
    "    if i not in test_list2:\n",
    "        result.append(i)\n",
    "#print(result)\n",
    "\n",
    "for j in test_list2:\n",
    "    if j not in test_list1:\n",
    "        result.append(j)\n",
    "print(result)"
   ]
  },
  {
   "cell_type": "code",
   "execution_count": 61,
   "id": "c0b3425e",
   "metadata": {},
   "outputs": [
    {
     "name": "stdout",
     "output_type": "stream",
     "text": [
      "['c', 'd', 'm', 'n']\n"
     ]
    }
   ],
   "source": [
    "test_list1 = [\"a\",\"b\",\"c\",\"d\",\"e\"]\n",
    "test_list2 = [\"m\",\"n\",\"a\",\"b\",\"e\"]\n",
    "\n",
    "result = []\n",
    "\n",
    "for i in test_list1:\n",
    "    if i not in test_list2:\n",
    "        result.append(i)\n",
    "        \n",
    "for j in test_list2:\n",
    "    if j not in test_list1:\n",
    "        result.append(j)\n",
    "print(result)"
   ]
  },
  {
   "cell_type": "code",
   "execution_count": 62,
   "id": "f3ce1a39",
   "metadata": {},
   "outputs": [
    {
     "name": "stdout",
     "output_type": "stream",
     "text": [
      "['a', 'b', 'e', 'a', 'b', 'e']\n"
     ]
    }
   ],
   "source": [
    "#common element print\n",
    "\n",
    "res = []\n",
    "\n",
    "for i in test_list1:\n",
    "    if i in test_list2:\n",
    "        res.append(i)\n",
    "for j in test_list2:\n",
    "    if j in test_list1:\n",
    "        res.append(j)\n",
    "        \n",
    "print(res)"
   ]
  },
  {
   "cell_type": "code",
   "execution_count": 68,
   "id": "2bc43eff",
   "metadata": {},
   "outputs": [
    {
     "name": "stdout",
     "output_type": "stream",
     "text": [
      "[[4, 10, 8], [7, 8], [4, 1, 6]]\n",
      "[6, 4, 1]\n",
      "[8, 7]\n",
      "[10, 8, 4]\n"
     ]
    }
   ],
   "source": [
    "# Python – Reverse Row sort in Lists of List\n",
    "\n",
    "test_list = [[4, 1, 6], [7, 8], [4, 10, 8]]\n",
    "\n",
    "result = list(reversed(test_list))\n",
    "print(result)"
   ]
  },
  {
   "cell_type": "code",
   "execution_count": 74,
   "id": "570df2e1",
   "metadata": {},
   "outputs": [
    {
     "name": "stdout",
     "output_type": "stream",
     "text": [
      "[6, 4, 1]\n",
      "[8, 7]\n",
      "[10, 8, 4]\n"
     ]
    }
   ],
   "source": [
    "test_list = [[4, 1, 6], [7, 8], [4, 10, 8]]\n",
    "\n",
    "for i in test_list:\n",
    "    i.sort(reverse = True)\n",
    "    #i.sort(reverse = False)\n",
    "    print(i)\n"
   ]
  },
  {
   "cell_type": "code",
   "execution_count": 81,
   "id": "a89c33cc",
   "metadata": {},
   "outputs": [
    {
     "name": "stdout",
     "output_type": "stream",
     "text": [
      "[[[4, 6], [5, 6]], [[2, 5], [4, 5]], [[6, 5], [7, 5]]]\n"
     ]
    }
   ],
   "source": [
    "#Python – Pair elements with Rear element in Matrix Row\n",
    "\n",
    "test_list = [[4, 5, 6], [2, 4, 5], [6, 7, 5]]\n",
    "\n",
    "res = []\n",
    "\n",
    "for i in test_list:\n",
    "    res.append([[j,i[-1]] for j in i[:-1]])\n",
    "    \n",
    "print(res)\n"
   ]
  },
  {
   "cell_type": "code",
   "execution_count": 84,
   "id": "381a65cf",
   "metadata": {},
   "outputs": [
    {
     "name": "stdout",
     "output_type": "stream",
     "text": [
      "[[[4, 6], [5, 6]], [[2, 5], [4, 5]]]\n"
     ]
    }
   ],
   "source": [
    "test_list = [[4, 5, 6], [2, 4, 5]]\n",
    "\n",
    "result = []\n",
    "\n",
    "for i in test_list:\n",
    "    result.append([[j,i[-1]] for j in i[:-1]])\n",
    "print(result)\n"
   ]
  },
  {
   "cell_type": "markdown",
   "id": "f3ca28a6",
   "metadata": {},
   "source": [
    "# String"
   ]
  },
  {
   "cell_type": "code",
   "execution_count": 97,
   "id": "251c249f",
   "metadata": {},
   "outputs": [
    {
     "name": "stdout",
     "output_type": "stream",
     "text": [
      "['s', 'r', 'o', 'f']\n"
     ]
    }
   ],
   "source": [
    "# Python – Odd Frequency Characters\n",
    "\n",
    "test_str = 'geekforgeeks' \n",
    "\n",
    "result = set(test_str)\n",
    "result\n",
    "\n",
    "res = []\n",
    "\n",
    "for i in result:\n",
    "    if (test_str.count(i)%2 != 0):\n",
    "        res.append(i)\n",
    "print(res)"
   ]
  },
  {
   "cell_type": "code",
   "execution_count": 96,
   "id": "79f69c2f",
   "metadata": {},
   "outputs": [
    {
     "name": "stdout",
     "output_type": "stream",
     "text": [
      "['i', 't', 'e', 'b', 'k', 'g']\n"
     ]
    }
   ],
   "source": [
    "test_str = 'geekforgeeks is best for geeks'\n",
    "\n",
    "x = set(test_str)\n",
    "x\n",
    "\n",
    "res = []\n",
    "\n",
    "for i in x:\n",
    "    if (test_str.count(i)%2 != 0):\n",
    "        res.append(i)\n",
    "print(res)\n"
   ]
  },
  {
   "cell_type": "code",
   "execution_count": 107,
   "id": "ef69072b",
   "metadata": {},
   "outputs": [
    {
     "name": "stdout",
     "output_type": "stream",
     "text": [
      "False\n",
      "3\n"
     ]
    }
   ],
   "source": [
    "# Python | Frequency of numbers in String\n",
    "\n",
    "test_str = \"geeks4feeks is No. 1 4 geeks\"\n",
    "x = test_str.isdigit()\n",
    "print(x)\n",
    "\n",
    "res = 0\n",
    "for i in test_str:\n",
    "    if (i.isdigit()):\n",
    "        res += 1\n",
    "print(res)"
   ]
  },
  {
   "cell_type": "code",
   "execution_count": 112,
   "id": "54cbda50",
   "metadata": {},
   "outputs": [
    {
     "name": "stdout",
     "output_type": "stream",
     "text": [
      "9\n"
     ]
    }
   ],
   "source": [
    "test_str = \"geeks4feeks is No. 1 4 geeks geeks4feeks12412 \"\n",
    "\n",
    "res = 0\n",
    "for i in test_str:\n",
    "    if (i.isdigit()):\n",
    "        res += 1\n",
    "print(res)\n",
    "\n",
    "\n",
    "# for j in test_str:\n",
    "#     if (i.isalpha()):\n",
    "#         res +=1\n",
    "# print(res)"
   ]
  },
  {
   "cell_type": "code",
   "execution_count": 118,
   "id": "d3bf44c4",
   "metadata": {},
   "outputs": [
    {
     "name": "stdout",
     "output_type": "stream",
     "text": [
      "this string not valid\n"
     ]
    }
   ],
   "source": [
    "# Program to check if a string contains any special character\n",
    "\n",
    "strs = \"Geeks$For$Geeks\"\n",
    "\n",
    "special_char = \"$@#*\"\n",
    "\n",
    "\n",
    "\n",
    "if special_char in strs:\n",
    "    print(\"this string valid\")\n",
    "else:\n",
    "    print(\"this string not valid\")\n"
   ]
  },
  {
   "cell_type": "code",
   "execution_count": 124,
   "id": "c61fda88",
   "metadata": {},
   "outputs": [
    {
     "name": "stdout",
     "output_type": "stream",
     "text": [
      "['Geeks', 'for', 'Geeks']\n",
      "Geeks-for-Geeks\n"
     ]
    }
   ],
   "source": [
    "# Python program to split and join a string\n",
    "s = \"Geeks for Geeks\"\n",
    "\n",
    "re = s.split()\n",
    "print(re)\n",
    "\n",
    "result = \"-\".join(re)\n",
    "print(result)"
   ]
  },
  {
   "cell_type": "code",
   "execution_count": 134,
   "id": "b480d195",
   "metadata": {},
   "outputs": [
    {
     "name": "stdout",
     "output_type": "stream",
     "text": [
      "['hello', 'geeks', 'for', 'geeks', 'is', 'computer', 'science', 'portal']\n",
      "['hello', 'geeks', 'geeks', 'computer', 'science', 'portal']\n"
     ]
    }
   ],
   "source": [
    "# Find words which are greater than given length k\n",
    "\n",
    "strs = \"hello geeks for geeks is computer science portal\" \n",
    "k = 4\n",
    "\n",
    "s = strs.split()\n",
    "print(s)\n",
    "\n",
    "res = []\n",
    "\n",
    "for i in s:\n",
    "    if len(i) > k:\n",
    "        res.append(i)\n",
    "print(res)"
   ]
  },
  {
   "cell_type": "code",
   "execution_count": 136,
   "id": "4e5e0793",
   "metadata": {},
   "outputs": [
    {
     "name": "stdout",
     "output_type": "stream",
     "text": [
      "['geek', 'geeks', 'geek', 'geeks', 'geek', 'geeks', 'geek', 'geeks']\n"
     ]
    }
   ],
   "source": [
    "strs = \"geek is for is geeks is geek is for geeks geek for geeks geek for geeks\"\n",
    "k = 3\n",
    "\n",
    "s = strs.split()\n",
    "print(s)\n",
    "\n",
    "res = []\n",
    "\n",
    "for i in s:\n",
    "    if len(i) > k:\n",
    "        res.append(i)\n",
    "print(res)"
   ]
  },
  {
   "cell_type": "code",
   "execution_count": 158,
   "id": "a0b31641",
   "metadata": {},
   "outputs": [
    {
     "name": "stdout",
     "output_type": "stream",
     "text": [
      "['Peter']\n",
      "Pete\n"
     ]
    }
   ],
   "source": [
    "# Python program for removing i-th character from a string\n",
    "\n",
    "# s= \"Geek\"\n",
    "# i = 1\n",
    "\n",
    "s= \"Peter\"\n",
    "i = 4\n",
    "\n",
    "re = s.split()\n",
    "print(re)\n",
    "\n",
    "a = s[: i]\n",
    "#print(a)\n",
    "\n",
    "b = s[i+1:]\n",
    "#print(b)\n",
    "\n",
    "print(a+b) \n",
    "\n"
   ]
  },
  {
   "cell_type": "code",
   "execution_count": 153,
   "id": "cf866823",
   "metadata": {},
   "outputs": [
    {
     "name": "stdout",
     "output_type": "stream",
     "text": [
      "['Geeks', 'for', 'Geeks']\n",
      "s\n",
      " for Geeks\n",
      "s for Geeks\n"
     ]
    }
   ],
   "source": [
    "s = \"Geeks for Geeks\"\n",
    "i = 4\n",
    "\n",
    "re = s.split()\n",
    "print(re)\n",
    "\n",
    "a = s[i]\n",
    "print(a)\n",
    "\n",
    "b = s[i+1:]\n",
    "print(b)\n",
    "\n",
    "print(a+b)"
   ]
  },
  {
   "cell_type": "markdown",
   "id": "bd510802",
   "metadata": {},
   "source": [
    "# Tuple"
   ]
  },
  {
   "cell_type": "code",
   "execution_count": 177,
   "id": "9da1f948",
   "metadata": {},
   "outputs": [
    {
     "name": "stdout",
     "output_type": "stream",
     "text": [
      "[1, 3, 7, 9, 18]\n",
      "[1, 3]\n",
      "[9, 18]\n",
      "[1, 3, 9, 18]\n"
     ]
    }
   ],
   "source": [
    "# Python – Maximum and Minimum K elements in Tuple\n",
    "\n",
    "test_tup = (3, 7, 1, 18, 9)\n",
    "k = 2 \n",
    "\n",
    "res = list(sorted(test_tup))\n",
    "print(res)\n",
    "\n",
    "r = res[:k]\n",
    "print(r)\n",
    "\n",
    "r1 = res[-k:]\n",
    "print(r1)\n",
    "\n",
    "re = r+r1\n",
    "print(re)\n"
   ]
  },
  {
   "cell_type": "code",
   "execution_count": 173,
   "id": "d3cf80f5",
   "metadata": {},
   "outputs": [
    {
     "name": "stdout",
     "output_type": "stream",
     "text": [
      "[3, 5, 6, 7, 8, 20]\n",
      "(3, 5)\n",
      "(6, 7, 8, 20)\n",
      "(8, 20)\n",
      "(3, 5, 8, 20)\n"
     ]
    }
   ],
   "source": [
    "test_tup = (5, 20, 3, 7, 6, 8)\n",
    "k = 2\n",
    "\n",
    "res = list(sorted(test_tup))\n",
    "print(res)\n",
    "\n",
    "result = tuple(res[:k])\n",
    "print(result)\n",
    "\n",
    "result2 = tuple(res[k:])\n",
    "print(result2)\n",
    "\n",
    "\n",
    "result1 = tuple(res[-k:])\n",
    "print(result1)\n",
    "\n",
    "r = result +result1\n",
    "print(r)\n",
    "\n"
   ]
  },
  {
   "cell_type": "code",
   "execution_count": 192,
   "id": "cd3d88c3",
   "metadata": {},
   "outputs": [
    {
     "name": "stdout",
     "output_type": "stream",
     "text": [
      "[(1, 1), (2, 8), (3, 27), (2, 8), (4, 64)]\n"
     ]
    }
   ],
   "source": [
    "# Python program to create a list of tuples from given list having number and its cube in each tuple\n",
    "\n",
    "lst = [1, 2, 3,2,4]\n",
    "\n",
    "re= [(i,i ** 3) for i in lst]\n",
    "print(re)\n"
   ]
  },
  {
   "cell_type": "code",
   "execution_count": 193,
   "id": "edb27eae",
   "metadata": {},
   "outputs": [
    {
     "name": "stdout",
     "output_type": "stream",
     "text": [
      "[(1, 1), (2, 4), (3, 9), (2, 4), (4, 16)]\n"
     ]
    }
   ],
   "source": [
    "lst = [1, 2, 3,2,4]\n",
    "\n",
    "res = [(i,i**2)for i in lst]\n",
    "print(res)"
   ]
  },
  {
   "cell_type": "code",
   "execution_count": 196,
   "id": "da84785a",
   "metadata": {},
   "outputs": [
    {
     "name": "stdout",
     "output_type": "stream",
     "text": [
      "[5, 6, 7]\n",
      "[9, 10]\n",
      "[5, 6, 7, 9, 10]\n"
     ]
    }
   ],
   "source": [
    "# Python – Adding Tuple to List and vice – versa\n",
    "\n",
    "test_list = [5, 6, 7]\n",
    "test_tup = (9, 10)\n",
    "\n",
    "print(test_list)\n",
    "\n",
    "test_list1 = list(test_tup)\n",
    "print(test_list1)\n",
    "\n",
    "result = test_list+test_list1\n",
    "print(result)"
   ]
  },
  {
   "cell_type": "code",
   "execution_count": 197,
   "id": "abaa5058",
   "metadata": {},
   "outputs": [
    {
     "name": "stdout",
     "output_type": "stream",
     "text": [
      "[5, 6, 7]\n",
      "[9, 10]\n",
      "(5, 6, 7, 9, 10)\n"
     ]
    }
   ],
   "source": [
    "test_list = [5, 6, 7]\n",
    "test_tup = (9, 10)\n",
    "\n",
    "print(test_list)\n",
    "\n",
    "test_list1 = list(test_tup)\n",
    "print(test_list1)\n",
    "\n",
    "result = test_list+test_list1\n",
    "print(tuple(result))\n"
   ]
  },
  {
   "cell_type": "code",
   "execution_count": 198,
   "id": "4be91dbb",
   "metadata": {},
   "outputs": [
    {
     "data": {
      "text/plain": [
       "49"
      ]
     },
     "execution_count": 198,
     "metadata": {},
     "output_type": "execute_result"
    }
   ],
   "source": [
    "# Python – Sum of tuple elements\n",
    "\n",
    "test_tup = (5, 20, 3, 7, 6, 8)\n",
    "\n",
    "re = sum(list(test_tup))\n",
    "re"
   ]
  },
  {
   "cell_type": "code",
   "execution_count": 214,
   "id": "8cb93c1f",
   "metadata": {},
   "outputs": [
    {
     "data": {
      "text/plain": [
       "42"
      ]
     },
     "execution_count": 214,
     "metadata": {},
     "output_type": "execute_result"
    }
   ],
   "source": [
    "tpl = (7, 8, 9, 1, 10, 7)\n",
    "\n",
    "res = sum(list(tpl))\n",
    "res"
   ]
  },
  {
   "cell_type": "code",
   "execution_count": 272,
   "id": "6e23bde0",
   "metadata": {},
   "outputs": [
    {
     "name": "stdout",
     "output_type": "stream",
     "text": [
      "original tuple([7, 8], [9, 1], [10, 7])\n",
      "[[7, 8], [9, 1], [10, 7]]\n",
      "42\n"
     ]
    }
   ],
   "source": [
    "test_tup = ([7, 8], [9, 1], [10, 7])\n",
    "print(\"original tuple\" +str(test_tup))\n",
    "\n",
    "print(r)\n",
    "\n",
    "main=0\n",
    "\n",
    "for i in r:\n",
    "    su=0\n",
    "    #print(i)\n",
    "    for i in i:\n",
    "        su=su+i\n",
    "    main=main+su\n",
    "print(main)\n",
    "\n",
    "#res = sum(list(map(sum,list(test_tup))))\n",
    "# res = sum(list(map(sum, list(test_tup))))\n",
    "# print(res)"
   ]
  },
  {
   "cell_type": "code",
   "execution_count": null,
   "id": "6be3f657",
   "metadata": {},
   "outputs": [],
   "source": []
  },
  {
   "cell_type": "code",
   "execution_count": 291,
   "id": "b197683b",
   "metadata": {},
   "outputs": [
    {
     "name": "stdout",
     "output_type": "stream",
     "text": [
      "original list:[[('Gfg', 3)], [('best', 1)]]\n",
      "[[('Gfg', 3, 1)], [('best', 1, 2)]]\n"
     ]
    }
   ],
   "source": [
    "# Python – Row-wise element Addition in Tuple Matrix\n",
    "\n",
    "test_list = [[(\"Gfg\", 3)], [(\"best\", 1)]] \n",
    "cus_eles = [1, 2] \n",
    "\n",
    "print(\"original list:\" +str(test_list))\n",
    "\n",
    "r = list(test_list)\n",
    "#print(r)\n",
    "\n",
    "res = [[sub + (cus_eles[i], ) for sub in j] for i,j in enumerate(test_list)]\n",
    "print(res)\n"
   ]
  },
  {
   "cell_type": "code",
   "execution_count": 293,
   "id": "2bf3c092",
   "metadata": {},
   "outputs": [
    {
     "name": "stdout",
     "output_type": "stream",
     "text": [
      "[(5, 7, 8), (6, 8, 10), (7, 12, 5)]\n"
     ]
    }
   ],
   "source": [
    "# Python | Update each element in tuple list\n",
    "\n",
    "test_list = [(1, 3, 4), (2, 4, 6), (3, 8, 1)]\n",
    "add_ele = 4\n",
    "\n",
    "res = [tuple(j + add_ele for j in i) for i in test_list]\n",
    "print(res)\n"
   ]
  },
  {
   "cell_type": "code",
   "execution_count": 302,
   "id": "9af704b3",
   "metadata": {},
   "outputs": [
    {
     "data": {
      "text/plain": [
       "[(5, 7, 8), (6, 8, 10), (7, 12, 5)]"
      ]
     },
     "execution_count": 302,
     "metadata": {},
     "output_type": "execute_result"
    }
   ],
   "source": [
    "test_list = [(1, 3, 4), (2, 4, 6), (3, 8, 1)]\n",
    "add_ele = 4\n",
    "\n",
    "# res = []\n",
    "# for i in test_list:\n",
    "#     new_tpl = tuple(j + add_ele for j in i)\n",
    "#     res.append(new_tpl)\n",
    "# print(res)\n",
    "\n",
    "res = [tuple(j + add_ele for j in i ) for i in test_list]\n",
    "res\n"
   ]
  },
  {
   "cell_type": "code",
   "execution_count": 307,
   "id": "84de6477",
   "metadata": {},
   "outputs": [
    {
     "name": "stdout",
     "output_type": "stream",
     "text": [
      "[1, 3, 4]\n",
      "[2, 4, 6]\n",
      "[3, 8, 1]\n",
      "[(1, 3, 8), (2, 4, 8), (3, 8, 8)]\n"
     ]
    }
   ],
   "source": [
    "test_list = [(1, 3, 4), (2, 4, 6), (3, 8, 1)]\n",
    "#index = 1\n",
    "index = 2\n",
    "#value = 5\n",
    "value = 8\n",
    "\n",
    "res = []\n",
    "for i in test_list:\n",
    "    new_list = list(i)\n",
    "    print(new_list)\n",
    "    new_list[index] = value\n",
    "    new_tuple = tuple(new_list)\n",
    "    res.append(new_tuple)\n",
    "    \n",
    "print(res)\n",
    "    \n",
    "\n"
   ]
  },
  {
   "cell_type": "markdown",
   "id": "21d8ae02",
   "metadata": {},
   "source": [
    "# Dictionary"
   ]
  },
  {
   "cell_type": "code",
   "execution_count": 336,
   "id": "0d424a5b",
   "metadata": {},
   "outputs": [
    {
     "name": "stdout",
     "output_type": "stream",
     "text": [
      "{'rajnish': 9, 'ravi': 10, 'sanjeev': 15, 'suraj': 32, 'yash': 2}\n"
     ]
    }
   ],
   "source": [
    "# Python | Sort Python Dictionaries by Key or Value\n",
    "\n",
    "mydict = {'ravi': 10, \n",
    "          'rajnish': 9,\n",
    "          'sanjeev': 15, \n",
    "          'yash': 2, \n",
    "          'suraj': 32\n",
    "         }\n",
    "\n",
    "# my_key = list(mydict.keys())\n",
    "# print(my_key)\n",
    "\n",
    "# my_value = list(mydict.values())\n",
    "# print(my_value)\n",
    "\n",
    "# sort_key = sorted(mydict.my_key())\n",
    "# print(sort_key)\n",
    "\n",
    "# sort_value = sorted(mydict.my_value())\n",
    "# print(sort_value)\n",
    "\n",
    "\n",
    "# for i in my_key:\n",
    "#     mydict[i]\n",
    "#     print(i)\n",
    "    \n",
    "# res = sorted(mydict.keys())\n",
    "# print(res)\n",
    "\n",
    "# res1 = sorted(mydict.values())\n",
    "# print(res1)\n",
    "\n",
    "result = sorted(mydict.items())\n",
    "print(dict(result))"
   ]
  },
  {
   "cell_type": "code",
   "execution_count": 338,
   "id": "691f8ac1",
   "metadata": {},
   "outputs": [
    {
     "name": "stdout",
     "output_type": "stream",
     "text": [
      "{1: 'Jill', 2: 'Jack', 3: 'Jim', 4: 'Jane'}\n"
     ]
    }
   ],
   "source": [
    "people = {3: \"Jim\", \n",
    "          2: \"Jack\", \n",
    "           4: \"Jane\", \n",
    "           1: \"Jill\"\n",
    "          }\n",
    "\n",
    "res= dict(sorted(people.items()))\n",
    "print(res)"
   ]
  },
  {
   "cell_type": "code",
   "execution_count": 339,
   "id": "622704cb",
   "metadata": {},
   "outputs": [
    {
     "name": "stdout",
     "output_type": "stream",
     "text": [
      "this key not in dictionary\n"
     ]
    }
   ],
   "source": [
    "# Handling missing keys in Python dictionaries\n",
    "\n",
    "ele = {'a': 5, 'c': 8, 'e': 2}\n",
    "\n",
    "if \"f\" in ele:\n",
    "    print(\"this key in dictionary\")\n",
    "else:\n",
    "    print(\"this key not in dictionary\")"
   ]
  },
  {
   "cell_type": "code",
   "execution_count": 342,
   "id": "088119e6",
   "metadata": {},
   "outputs": [
    {
     "name": "stdout",
     "output_type": "stream",
     "text": [
      "{(\"19.07'53.2\", \"72.54'51.0\"): 'Mumbai', (\"28.33'34.1\", \"77.06'16.6\"): 'Delhi'}\n"
     ]
    }
   ],
   "source": [
    "# Python dictionary with keys having multiple inputs\n",
    "\n",
    "places = {(\"19.07'53.2\", \"72.54'51.0\"):\"Mumbai\", \n",
    "          (\"28.33'34.1\", \"77.06'16.6\"):\"Delhi\"}\n",
    "print(places)\n",
    " "
   ]
  },
  {
   "cell_type": "code",
   "execution_count": 348,
   "id": "6f04e121",
   "metadata": {},
   "outputs": [
    {
     "name": "stdout",
     "output_type": "stream",
     "text": [
      "600\n"
     ]
    }
   ],
   "source": [
    "# Python program to find the sum of all items in a dictionary\n",
    "mydict = {\"a\": 100, \"b\":200, \"c\":300}\n",
    "\n",
    "sum= 0\n",
    "for i in mydict:\n",
    "    sum = sum + mydict[i]\n",
    "print(sum)\n",
    " \n"
   ]
  },
  {
   "cell_type": "code",
   "execution_count": null,
   "id": "94860a14",
   "metadata": {},
   "outputs": [],
   "source": []
  },
  {
   "cell_type": "code",
   "execution_count": null,
   "id": "602fda2d",
   "metadata": {},
   "outputs": [],
   "source": []
  },
  {
   "cell_type": "code",
   "execution_count": null,
   "id": "62580d4a",
   "metadata": {},
   "outputs": [],
   "source": []
  },
  {
   "cell_type": "code",
   "execution_count": null,
   "id": "996bbdb8",
   "metadata": {},
   "outputs": [],
   "source": []
  },
  {
   "cell_type": "code",
   "execution_count": null,
   "id": "f068597d",
   "metadata": {},
   "outputs": [],
   "source": []
  },
  {
   "cell_type": "code",
   "execution_count": null,
   "id": "de7d68ae",
   "metadata": {},
   "outputs": [],
   "source": []
  },
  {
   "cell_type": "code",
   "execution_count": null,
   "id": "484c608b",
   "metadata": {},
   "outputs": [],
   "source": []
  },
  {
   "cell_type": "code",
   "execution_count": null,
   "id": "75227a0a",
   "metadata": {},
   "outputs": [],
   "source": []
  }
 ],
 "metadata": {
  "kernelspec": {
   "display_name": "Python 3 (ipykernel)",
   "language": "python",
   "name": "python3"
  },
  "language_info": {
   "codemirror_mode": {
    "name": "ipython",
    "version": 3
   },
   "file_extension": ".py",
   "mimetype": "text/x-python",
   "name": "python",
   "nbconvert_exporter": "python",
   "pygments_lexer": "ipython3",
   "version": "3.9.12"
  }
 },
 "nbformat": 4,
 "nbformat_minor": 5
}
