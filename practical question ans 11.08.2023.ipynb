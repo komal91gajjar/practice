{
 "cells": [
  {
   "cell_type": "markdown",
   "id": "47c83fb4",
   "metadata": {},
   "source": [
    "# Introduction and setup"
   ]
  },
  {
   "cell_type": "code",
   "execution_count": null,
   "id": "3bd535f3",
   "metadata": {},
   "outputs": [],
   "source": [
    "# Write a Python program to print \"Hello, World!\"\n",
    "\n",
    "print(\"Hello world\")"
   ]
  },
  {
   "cell_type": "code",
   "execution_count": 1,
   "id": "133edd36",
   "metadata": {},
   "outputs": [
    {
     "name": "stdout",
     "output_type": "stream",
     "text": [
      "enter a 1st number:25\n",
      "enter a 2nd number:30\n",
      "55\n"
     ]
    }
   ],
   "source": [
    "#  Calculate the sum of two numbers entered by the user.\n",
    "\n",
    "user = int(input(\"enter a 1st number:\"))\n",
    "user2 = int(input(\"enter a 2nd number:\"))\n",
    "\n",
    "result = user + user2\n",
    "print(result)"
   ]
  },
  {
   "cell_type": "code",
   "execution_count": 3,
   "id": "025db57b",
   "metadata": {},
   "outputs": [
    {
     "name": "stdout",
     "output_type": "stream",
     "text": [
      "enter temprature:5.2\n",
      "30.936\n"
     ]
    }
   ],
   "source": [
    "# Convert temperature from Celsius to Fahrenheit.\n",
    "\n",
    "calsius  = float(input(\"enter temprature:\"))\n",
    "fahranhit = calsius * 0.18 + 30\n",
    "print(fahranhit)"
   ]
  },
  {
   "cell_type": "code",
   "execution_count": 7,
   "id": "9e8230ad",
   "metadata": {},
   "outputs": [
    {
     "name": "stdout",
     "output_type": "stream",
     "text": [
      "please enter your name:komal\n",
      "please enter your age:32\n",
      "Hello my name is komal and my age is 32 . \n"
     ]
    }
   ],
   "source": [
    "# Create a program that takes a user's name and age as input and prints a greeting message\n",
    "\n",
    "name = input(\"please enter your name:\")\n",
    "age  = int(input(\"please enter your age:\"))\n",
    "\n",
    "print(f\"Hello my name is {name} and my age is {age} . \")\n"
   ]
  },
  {
   "cell_type": "code",
   "execution_count": 6,
   "id": "40100758",
   "metadata": {},
   "outputs": [
    {
     "name": "stdout",
     "output_type": "stream",
     "text": [
      "-9\n",
      "987\n"
     ]
    }
   ],
   "source": [
    "# Given a list of numbers, find the maximum and minimum values\n",
    "\n",
    "my_list = [12,25,36,56,987,-9]\n",
    "\n",
    "\n",
    "a = min(my_list)\n",
    "print(a)\n",
    "\n",
    "b = max(my_list)\n",
    "print(b)\n",
    "\n"
   ]
  },
  {
   "cell_type": "code",
   "execution_count": 5,
   "id": "80d7b729",
   "metadata": {},
   "outputs": [
    {
     "name": "stdout",
     "output_type": "stream",
     "text": [
      "enter a number:9\n",
      "odd number\n"
     ]
    }
   ],
   "source": [
    "# Write a program to check if a number is even or odd\n",
    "\n",
    "num = int(input(\"enter a number:\"))\n",
    "\n",
    "if num % 2 == 0:\n",
    "    print(\"even number\")\n",
    "else:\n",
    "    print(\"odd number\")"
   ]
  },
  {
   "cell_type": "code",
   "execution_count": 4,
   "id": "11bf5536",
   "metadata": {},
   "outputs": [
    {
     "name": "stdout",
     "output_type": "stream",
     "text": [
      "enter 1st number:25\n",
      "enter 2nd number:32\n",
      "enter user number: 25 32\n",
      "a : {32}  , b : {25}\n"
     ]
    }
   ],
   "source": [
    "#  Implement a program that swaps the values of two variables\n",
    "\n",
    "a = int(input(\"enter 1st number:\"))\n",
    "b = int(input(\"enter 2nd number:\"))\n",
    "\n",
    "x = a\n",
    "y = b\n",
    "z  = b\n",
    "\n",
    "print(\"enter user number:\", a,b)\n",
    "print(\"a :\" , {z},\" ,\" ,\"b :\" , {x})"
   ]
  },
  {
   "cell_type": "code",
   "execution_count": 10,
   "id": "52dde701",
   "metadata": {},
   "outputs": [
    {
     "name": "stdout",
     "output_type": "stream",
     "text": [
      "enter the string : today's like monday\n",
      "19\n"
     ]
    }
   ],
   "source": [
    "# Create a program that takes a sentence as input and counts the number of words in it\n",
    "\n",
    "a = input(\"enter the string : \")\n",
    "\n",
    "print(len(a))\n"
   ]
  },
  {
   "cell_type": "code",
   "execution_count": 12,
   "id": "b6ef52e2",
   "metadata": {},
   "outputs": [
    {
     "name": "stdout",
     "output_type": "stream",
     "text": [
      "Total positive number:  16\n"
     ]
    }
   ],
   "source": [
    "# Given a list of integers, find the sum of all positive numbers\n",
    "\n",
    "numbers = [-1,-4,5,8,3]\n",
    "\n",
    "def sum_of_positive(numbers):\n",
    "    return sum([i for i in numbers if i > 0 ])\n",
    "\n",
    "print(\"Total positive number: \" ,sum_of_positive(numbers))\n"
   ]
  },
  {
   "cell_type": "code",
   "execution_count": 13,
   "id": "7a7a889d",
   "metadata": {},
   "outputs": [
    {
     "name": "stdout",
     "output_type": "stream",
     "text": [
      "enter a length of rectangle:2.3\n",
      "enter a width of rectangle:3.2\n",
      "7.359999999999999\n"
     ]
    }
   ],
   "source": [
    "# Write a Python program to calculate the area of a rectangle given its length and width\n",
    "\n",
    "lengh = float(input(\"enter a length of rectangle:\"))\n",
    "width = float(input(\"enter a width of rectangle:\"))\n",
    "\n",
    "def rectangle_area(lengh,width):\n",
    "    area = lengh * width\n",
    "    return area\n",
    "area = rectangle_area(lengh,width)\n",
    "print(area)\n",
    "    "
   ]
  },
  {
   "cell_type": "code",
   "execution_count": 6,
   "id": "8b4da72d",
   "metadata": {},
   "outputs": [
    {
     "name": "stdout",
     "output_type": "stream",
     "text": [
      "Enter a string:Ice20\n",
      "The letter is not a palindrome\n"
     ]
    }
   ],
   "source": [
    "# Create a Python function to check if a given string is a palindrome\n",
    "\n",
    "string=input(\"Enter a string:\")\n",
    "\n",
    "if string==string[::-1]:  \n",
    "      print(\"The letter is a palindrome\")  \n",
    "else:  \n",
    "      print(\"The letter is not a palindrome\")  "
   ]
  },
  {
   "cell_type": "code",
   "execution_count": 13,
   "id": "dfd49f88",
   "metadata": {},
   "outputs": [
    {
     "name": "stdout",
     "output_type": "stream",
     "text": [
      "Enter a string:komal\n",
      "The string is not a palindrome\n"
     ]
    }
   ],
   "source": [
    "string = input(\"Enter a string:\")\n",
    "\n",
    "if string == string[::-1]:\n",
    "    print(\"The string is a palindrome\")\n",
    "else:\n",
    "    print(\"The string is not a palindrome\")\n"
   ]
  },
  {
   "cell_type": "code",
   "execution_count": 15,
   "id": "8e53c138",
   "metadata": {},
   "outputs": [
    {
     "name": "stdout",
     "output_type": "stream",
     "text": [
      "please enter days:23\n",
      "0 year 0 weeks and 23 days\n"
     ]
    }
   ],
   "source": [
    "# Write a program that converts a given number of days into years, weeks, and days\n",
    "\n",
    "d,w,y = int(input(\"please enter days:\")), None,None\n",
    "\n",
    "\n",
    "y = (int) (d / 365)\n",
    "w = (int)((d & 365) / 7)\n",
    "d = (int)((d-(y*365)+(w)))\n",
    "\n",
    "print(y,\"year\", w, \"weeks and\", d,\"days\")"
   ]
  },
  {
   "cell_type": "markdown",
   "id": "fedf979c",
   "metadata": {},
   "source": [
    "# variable and data type"
   ]
  },
  {
   "cell_type": "code",
   "execution_count": 17,
   "id": "116f7043",
   "metadata": {},
   "outputs": [],
   "source": [
    "# Create variables for storing a person's name, age, and average test score\n",
    "\n",
    "name = \"Komal Gajjar\"\n",
    "age = 32\n",
    "test_score = 223\n"
   ]
  },
  {
   "cell_type": "code",
   "execution_count": 16,
   "id": "2761c0f4",
   "metadata": {},
   "outputs": [
    {
     "name": "stdout",
     "output_type": "stream",
     "text": [
      "Hello  Python\n"
     ]
    }
   ],
   "source": [
    "# Concatenate two strings and print the result.\n",
    "a = \"Hello\"\n",
    "b = \"Python\"\n",
    "result = a + \"  \" + b\n",
    "print(result)"
   ]
  },
  {
   "cell_type": "code",
   "execution_count": 21,
   "id": "5086a186",
   "metadata": {},
   "outputs": [
    {
     "name": "stdout",
     "output_type": "stream",
     "text": [
      "['apple', 'cherry', 'banana']\n"
     ]
    }
   ],
   "source": [
    "# Create a list of fruits and access elements using indexing.\n",
    "\n",
    "my_list = [\"apple\",\"cherry\",\"banana\",\"grapes\",\"watermelon\"]\n",
    "print(my_list[0:3])"
   ]
  },
  {
   "cell_type": "code",
   "execution_count": 22,
   "id": "0bc1afcd",
   "metadata": {},
   "outputs": [
    {
     "name": "stdout",
     "output_type": "stream",
     "text": [
      "['cherry', 'banana', 'grapes']\n"
     ]
    }
   ],
   "source": [
    "print(my_list[-4:-1])"
   ]
  },
  {
   "cell_type": "code",
   "execution_count": 23,
   "id": "09874ec7",
   "metadata": {},
   "outputs": [
    {
     "name": "stdout",
     "output_type": "stream",
     "text": [
      "total sum: 29\n",
      "total average: 4.833333333333333\n"
     ]
    }
   ],
   "source": [
    "# Given a list of numbers, find the sum and average\n",
    "\n",
    "my_list = [2,5,9,3,4,6]\n",
    "\n",
    "count = sum(my_list)\n",
    "avg = count / len (my_list)\n",
    "print(\"total sum:\" , count)\n",
    "print(\"total average:\" ,avg)"
   ]
  },
  {
   "cell_type": "code",
   "execution_count": null,
   "id": "301c250e",
   "metadata": {},
   "outputs": [],
   "source": [
    "# Create a program that takes a temperature in Celsius and converts it to Kelvin\n",
    "\n",
    "celsius_temp = float(input(\"enter temprature:\"))\n",
    "\n",
    "kelvin_temp = celsius_temp + 273.15\n",
    "print(kelvin_temp)"
   ]
  },
  {
   "cell_type": "code",
   "execution_count": 17,
   "id": "9094b211",
   "metadata": {},
   "outputs": [
    {
     "name": "stdout",
     "output_type": "stream",
     "text": [
      "Enter a list of names separated by spaces: komalgajjar\n",
      "Concatenated names: komalgajjar\n"
     ]
    }
   ],
   "source": [
    "# Given a list of names, concatenate them into a single string separated by spaces\n",
    "\n",
    "names = input(\"Enter a list of names separated by spaces: \").split()\n",
    "concatenated_names = \" \".join(names)\n",
    "print(\"Concatenated names:\", concatenated_names)\n",
    "\n"
   ]
  },
  {
   "cell_type": "code",
   "execution_count": 25,
   "id": "a96f04e9",
   "metadata": {},
   "outputs": [
    {
     "name": "stdout",
     "output_type": "stream",
     "text": [
      "original string:  this is my first program\n",
      "reverse string:  margorp tsrif ym si siht \n"
     ]
    }
   ],
   "source": [
    "# Create a function to reverse a given string\n",
    "\n",
    "s = \"this is my first program\"\n",
    "\n",
    "def reverse(s):\n",
    "    str = \" \"\n",
    "    for i in s:\n",
    "        str = i + str\n",
    "    return str\n",
    "print(\"original string: \", s)\n",
    "print(\"reverse string: \", reverse(s))"
   ]
  },
  {
   "cell_type": "code",
   "execution_count": null,
   "id": "579c55b3",
   "metadata": {},
   "outputs": [],
   "source": [
    "# Calculate the area and circumference of a circle given its radius\n",
    "\n",
    "radius = float(input(\"enter radius circle: \"))\n",
    "\n",
    "area = 3.14 * radius ** 2\n",
    "circumference =  2 * 3.14 * radius\n",
    "\n",
    "print(area)\n",
    "print(circumference)"
   ]
  },
  {
   "cell_type": "code",
   "execution_count": 19,
   "id": "5e347614",
   "metadata": {},
   "outputs": [
    {
     "name": "stdout",
     "output_type": "stream",
     "text": [
      "enter the string:2komal\n",
      "this string is not pangram\n"
     ]
    }
   ],
   "source": [
    "# Write a Python program to check if a given string is a pangram (contains all letters of the alphabet)\n",
    "\n",
    "user = input(\"enter the string:\")\n",
    "\n",
    "input_string = user.lower()\n",
    "alphabet = \"abcdefghijklmnopqrstuvwxyz\"\n",
    "\n",
    "is_pangram = all(char in input_string for char in alphabet )\n",
    "\n",
    "if is_pangram:\n",
    "    print(\"this string is pangram\")\n",
    "else:\n",
    "    print(\"this string is not pangram\")"
   ]
  },
  {
   "cell_type": "code",
   "execution_count": 21,
   "id": "7598de27",
   "metadata": {},
   "outputs": [
    {
     "name": "stdout",
     "output_type": "stream",
     "text": [
      "Enter the number of minutes: 65\n",
      "65 minutes is equal to 1 hours and 5 minutes.\n"
     ]
    }
   ],
   "source": [
    "# Implement a program that converts a given number of minutes into hours and minutes\n",
    "\n",
    "minutes = int(input(\"Enter the number of minutes: \"))\n",
    "\n",
    "\n",
    "hours = minutes // 60\n",
    "remaining_minutes = minutes % 60\n",
    "\n",
    "print(f\"{minutes} minutes is equal to {hours} hours and {remaining_minutes} minutes.\")\n"
   ]
  },
  {
   "cell_type": "code",
   "execution_count": 22,
   "id": "37975713",
   "metadata": {},
   "outputs": [
    {
     "name": "stdout",
     "output_type": "stream",
     "text": [
      "enter a number: 25\n",
      "25 is not prime\n"
     ]
    }
   ],
   "source": [
    "#  Write a program to check if a number is prime\n",
    "\n",
    "user = int(input(\"enter a number: \"))\n",
    "\n",
    "if user > 1:\n",
    "    for i in range(2,int(user/2)+1):\n",
    "        if(user % i) == 0:\n",
    "            print(user, \"is not prime\")\n",
    "            break\n",
    "    else:\n",
    "        print(user, \"is prime number\")\n",
    "else:\n",
    "    print(user, \"is not prime number\")"
   ]
  },
  {
   "cell_type": "code",
   "execution_count": 24,
   "id": "2ce96f9c",
   "metadata": {},
   "outputs": [
    {
     "name": "stdout",
     "output_type": "stream",
     "text": [
      "enter the string: bkyj\n",
      "this string vowel: \n"
     ]
    }
   ],
   "source": [
    "# Create a function to count the number of vowels in a given string\n",
    "\n",
    "user = input(\"enter the string: \")\n",
    "\n",
    "vowel = \"aeiouAEIOU\"\n",
    "vowel_count = 0\n",
    "\n",
    "for char in user:\n",
    "    if char in vowel:\n",
    "        vowel_count += 1\n",
    "        \n",
    "print(\"this string vowel: \")\n",
    "    \n"
   ]
  },
  {
   "cell_type": "code",
   "execution_count": 36,
   "id": "80822459",
   "metadata": {},
   "outputs": [
    {
     "name": "stdout",
     "output_type": "stream",
     "text": [
      "enter string:kk\n",
      "st vowel\n"
     ]
    }
   ],
   "source": [
    "s = input(\"enter string:\")\n",
    "\n",
    "def count_vowel(user):\n",
    "    char = \"\"\n",
    "    vowel = \"aeiouAEIOU\"\n",
    "    #for char in user:\n",
    "    if char in vowel:\n",
    "            #vowel_count += 1\n",
    "        print(\"st vowel\")\n",
    "    else:\n",
    "        print(\"st not\")\n",
    "    #print(\"this st vowel\")\n",
    "count_vowel(user)"
   ]
  },
  {
   "cell_type": "markdown",
   "id": "c27ef6ec",
   "metadata": {},
   "source": [
    "# practice 14.08.2023\n"
   ]
  },
  {
   "cell_type": "markdown",
   "id": "33e9a9c4",
   "metadata": {},
   "source": [
    "# control flow and loops"
   ]
  },
  {
   "cell_type": "code",
   "execution_count": 37,
   "id": "445eea18",
   "metadata": {},
   "outputs": [
    {
     "name": "stdout",
     "output_type": "stream",
     "text": [
      "enter a number: -9\n",
      "negative number\n"
     ]
    }
   ],
   "source": [
    "#Write a program that checks if a given number is positive, negative, or zero\n",
    "\n",
    "num = int(input(\"enter a number: \"))\n",
    "\n",
    "if num > 0:\n",
    "    print(\"positive number\")\n",
    "elif num < 0:\n",
    "    print(\"negative number\")\n",
    "else:\n",
    "    print(\"zero number\")\n",
    "\n",
    "\n"
   ]
  },
  {
   "cell_type": "code",
   "execution_count": 36,
   "id": "8974f5b3",
   "metadata": {},
   "outputs": [
    {
     "name": "stdout",
     "output_type": "stream",
     "text": [
      "2\n",
      "4\n",
      "6\n",
      "8\n",
      "10\n",
      "12\n",
      "14\n",
      "16\n",
      "18\n",
      "20\n"
     ]
    }
   ],
   "source": [
    "# Create a loop that prints the first 10 even numbers.\n",
    "\n",
    "for i in range(2, 21, 2):\n",
    "    print(i)\n"
   ]
  },
  {
   "cell_type": "code",
   "execution_count": 37,
   "id": "1839eafd",
   "metadata": {},
   "outputs": [
    {
     "name": "stdout",
     "output_type": "stream",
     "text": [
      "963\n"
     ]
    }
   ],
   "source": [
    "# Implement a program that finds the largest number in a list.\n",
    "\n",
    "my_list = [1,25,963,42,56,78]\n",
    "\n",
    "a = max(my_list)\n",
    "print(a)\n"
   ]
  },
  {
   "cell_type": "code",
   "execution_count": 41,
   "id": "46cec5eb",
   "metadata": {},
   "outputs": [
    {
     "name": "stdout",
     "output_type": "stream",
     "text": [
      "enter year:2020\n",
      "leap year\n"
     ]
    }
   ],
   "source": [
    "# Create a program that takes a year as input and checks if it is a leap year or not\n",
    "\n",
    "a = int(input(\"enter year:\"))\n",
    "\n",
    "if a % 4 == 0:\n",
    "    print(\"leap year\")\n",
    "else:\n",
    "    print(\"not leap year\")"
   ]
  },
  {
   "cell_type": "code",
   "execution_count": 42,
   "id": "9efab4b6",
   "metadata": {},
   "outputs": [
    {
     "name": "stdout",
     "output_type": "stream",
     "text": [
      "[2, 4, 6, 8, 10, 12, 14, 16, 18, 20]\n"
     ]
    }
   ],
   "source": [
    "# Given a list of integers, find all the even numbers and store them in a new list\n",
    "\n",
    "my_list = [1,2,3,4,5,6,7,8,9,10,11,12,13,14,15,16,17,18,19,20]\n",
    "\n",
    "even_number = []\n",
    "\n",
    "for num in my_list:\n",
    "    if num % 2 == 0:\n",
    "        even_number.append(num)\n",
    "        \n",
    "\n",
    "print(even_number)"
   ]
  },
  {
   "cell_type": "code",
   "execution_count": 4,
   "id": "789ac436",
   "metadata": {},
   "outputs": [
    {
     "name": "stdout",
     "output_type": "stream",
     "text": [
      "enter a number: 25\n",
      "25 is not prime\n"
     ]
    }
   ],
   "source": [
    "# Write a Python program to check if a given number is a prime number\n",
    "\n",
    "user = int(input(\"enter a number: \"))\n",
    "\n",
    "if user > 1:\n",
    "    for i in range(2,int(user/2)+1):\n",
    "        if(user % i) == 0:\n",
    "            print(user, \"is not prime\")\n",
    "            break\n",
    "    else:\n",
    "        print(user, \"is prime number\")\n",
    "else:\n",
    "    print(user, \"is not prime number\")"
   ]
  },
  {
   "cell_type": "code",
   "execution_count": 38,
   "id": "a6dc6e33",
   "metadata": {},
   "outputs": [
    {
     "name": "stdout",
     "output_type": "stream",
     "text": [
      "Fibonacci Series: 0 1 1, 2, 3, \n"
     ]
    }
   ],
   "source": [
    "# Create a program that generates the Fibonacci sequence up to a given number of terms\n",
    "\n",
    "num = 5\n",
    "n1, n2 = 0, 1\n",
    "print(\"Fibonacci Series:\", n1, n2, end=\" \")\n",
    "for i in range(2, num):\n",
    "    n3 = n1 + n2\n",
    "    n1 = n2\n",
    "    n2 = n3\n",
    "    print(n3, end=\", \")\n",
    "\n",
    "print()"
   ]
  },
  {
   "cell_type": "code",
   "execution_count": 39,
   "id": "6fcc18ba",
   "metadata": {},
   "outputs": [
    {
     "name": "stdout",
     "output_type": "stream",
     "text": [
      "Apple\n",
      "Aarti\n",
      "Alice\n",
      "Anna\n",
      "Alex\n",
      "Amy\n"
     ]
    }
   ],
   "source": [
    "# Given a list of names, print all names starting with the letter 'A'\n",
    "\n",
    "my_list = [\"Apple\", \"Banana\", \"Aarti\",\"cherry\",\"Alice\", \"Bob\", \"Anna\", \"Alex\", \"John\", \"Amy\"]\n",
    "\n",
    "\n",
    "for name in my_list:\n",
    "    if name.startswith(\"A\"):\n",
    "        print(name)\n"
   ]
  },
  {
   "cell_type": "code",
   "execution_count": 41,
   "id": "c8b83389",
   "metadata": {},
   "outputs": [
    {
     "name": "stdout",
     "output_type": "stream",
     "text": [
      "enter a number123\n",
      "The sum of digits of 123 is 6\n"
     ]
    }
   ],
   "source": [
    "# Calculate the sum of digits of a given number.\n",
    "\n",
    "user = int(input(\"enter a number\"))\n",
    "\n",
    "num_str = str(user)\n",
    "digit_sum = 0\n",
    "\n",
    "for digit_char in num_str:\n",
    "    digit_sum += int(digit_char)\n",
    "\n",
    "print(f\"The sum of digits of {user} is {digit_sum}\")\n"
   ]
  },
  {
   "cell_type": "code",
   "execution_count": 65,
   "id": "8bb1b062",
   "metadata": {},
   "outputs": [
    {
     "name": "stdout",
     "output_type": "stream",
     "text": [
      "Enter a number: 2\n",
      "Multiplication table for 2:\n",
      "2 * 1 = 2\n",
      "2 * 2 = 4\n",
      "2 * 3 = 6\n",
      "2 * 4 = 8\n",
      "2 * 5 = 10\n",
      "2 * 6 = 12\n",
      "2 * 7 = 14\n",
      "2 * 8 = 16\n",
      "2 * 9 = 18\n",
      "2 * 10 = 20\n"
     ]
    }
   ],
   "source": [
    "# Implement a program that prints the multiplication table of a given number\n",
    "\n",
    "number = int(input(\"Enter a number: \"))\n",
    "\n",
    "print(f\"Multiplication table for {number}:\")\n",
    "\n",
    "for i in range(1, 11):\n",
    "    product = number * i\n",
    "    print(f\"{number} * {i} = {product}\")\n"
   ]
  },
  {
   "cell_type": "code",
   "execution_count": 48,
   "id": "f96379d3",
   "metadata": {},
   "outputs": [
    {
     "name": "stdout",
     "output_type": "stream",
     "text": [
      "Enter a number: 23\n",
      "The factorial of 23 is 25852016738884976640000\n"
     ]
    }
   ],
   "source": [
    "# Write a program that calculates the factorial of a given number\n",
    "\n",
    "number = int(input(\"Enter a number: \"))\n",
    "\n",
    "factorial = 1\n",
    "\n",
    "if number < 0:\n",
    "    print(\"Factorial is not defined for negative numbers\")\n",
    "elif number == 0:\n",
    "    print(\"Factorial of 0 is 1\")\n",
    "else:\n",
    "    for i in range(1, number + 1):\n",
    "        factorial *= i\n",
    "    print(f\"The factorial of {number} is {factorial}\")\n"
   ]
  },
  {
   "cell_type": "code",
   "execution_count": 49,
   "id": "e2b20ddf",
   "metadata": {},
   "outputs": [
    {
     "name": "stdout",
     "output_type": "stream",
     "text": [
      "2\n",
      "3\n",
      "5\n",
      "7\n",
      "11\n",
      "13\n",
      "17\n",
      "19\n",
      "23\n",
      "29\n",
      "31\n",
      "37\n",
      "41\n",
      "43\n",
      "47\n"
     ]
    }
   ],
   "source": [
    "# Create a loop that prints all prime numbers between 1 and 50\n",
    "\n",
    "for num in range(2, 51):\n",
    "    is_prime = True\n",
    "    \n",
    "    for i in range(2, int(num ** 0.5) + 1):\n",
    "        if num % i == 0:\n",
    "            is_prime = False\n",
    "            break\n",
    "    \n",
    "    if is_prime:\n",
    "        print(num)\n"
   ]
  },
  {
   "cell_type": "code",
   "execution_count": 46,
   "id": "9f3dccef",
   "metadata": {},
   "outputs": [
    {
     "name": "stdout",
     "output_type": "stream",
     "text": [
      "The number of words with more than five characters is: 5\n"
     ]
    }
   ],
   "source": [
    "# Given a list of words, count the number of words with more than five characters\n",
    "\n",
    "my_list = [\"banana\", \"orange\",\"orange\",\"orange\",\"orange\", \"ox\"]\n",
    "\n",
    "count = 0\n",
    "\n",
    "for word in my_list:\n",
    "    if len(word) > 5:\n",
    "        count += 1\n",
    "\n",
    "print(f\"The number of words with more than five characters is: {count}\")\n"
   ]
  },
  {
   "cell_type": "markdown",
   "id": "d0e02561",
   "metadata": {},
   "source": [
    "# function"
   ]
  },
  {
   "cell_type": "code",
   "execution_count": 54,
   "id": "91b28556",
   "metadata": {},
   "outputs": [
    {
     "name": "stdout",
     "output_type": "stream",
     "text": [
      "Enter the radius of the circle: 23\n",
      "The area of the circle with radius 23.0 is 1661.90\n"
     ]
    }
   ],
   "source": [
    "# Write a function to calculate the area of a circle given its radius.\n",
    "\n",
    "radius = float(input(\"Enter the radius of the circle: \"))\n",
    "\n",
    "import math\n",
    "\n",
    "def calculate_circle_area(radius):\n",
    "    area = math.pi * radius ** 2\n",
    "    return area\n",
    "\n",
    "area = calculate_circle_area(radius)\n",
    "print(f\"The area of the circle with radius {radius} is {area:.2f}\")\n"
   ]
  },
  {
   "cell_type": "code",
   "execution_count": 55,
   "id": "bf3966c7",
   "metadata": {},
   "outputs": [
    {
     "name": "stdout",
     "output_type": "stream",
     "text": [
      "enter a string:kesha\n",
      "ahsek\n"
     ]
    }
   ],
   "source": [
    "# Implement a function that reverses a given string.\n",
    "\n",
    "a = (input(\"enter a string:\"))\n",
    "\n",
    "def reverse_string(input_string):\n",
    "    reversed_string = input_string[::-1]\n",
    "    return reversed_string\n",
    "\n",
    "reversed_result = reverse_string(a)\n",
    "print(reversed_result)\n",
    "\n"
   ]
  },
  {
   "cell_type": "code",
   "execution_count": 61,
   "id": "e7d65175",
   "metadata": {},
   "outputs": [
    {
     "name": "stdout",
     "output_type": "stream",
     "text": [
      "635\n"
     ]
    }
   ],
   "source": [
    "# Given a list of numbers, create a function to find the sum of all positive numbers\n",
    "\n",
    "my_list = [2,-1,-3,9,6,5,45,-96,-63,523,45]\n",
    "\n",
    "def positive_number(my_list):\n",
    "    \n",
    "        return sum([i for i in my_list if i > 0])\n",
    "\n",
    "print(positive_number(my_list))"
   ]
  },
  {
   "cell_type": "code",
   "execution_count": 63,
   "id": "9a0787ac",
   "metadata": {},
   "outputs": [
    {
     "name": "stdout",
     "output_type": "stream",
     "text": [
      "Enter a string: komal123\n",
      "The input string is not a palindrome.\n"
     ]
    }
   ],
   "source": [
    "# Write a Python function to check if a given string is a palindrome\n",
    "\n",
    "string = input(\"Enter a string: \")\n",
    "\n",
    "def is_palindrome(input_string):\n",
    "    clean_string = ''.join(filter(str.isalnum, input_string)).lower()\n",
    "    reversed_string = clean_string[::-1]\n",
    "    return clean_string == reversed_string\n",
    "\n",
    "if is_palindrome(string):\n",
    "    print(\"The input string is a palindrome.\")\n",
    "else:\n",
    "    print(\"The input string is not a palindrome.\")\n"
   ]
  },
  {
   "cell_type": "code",
   "execution_count": 47,
   "id": "1653a290",
   "metadata": {},
   "outputs": [
    {
     "name": "stdout",
     "output_type": "stream",
     "text": [
      "Enter a number: 6\n",
      "The factorial of 6 is 720\n"
     ]
    }
   ],
   "source": [
    "# Implement a function that returns the factorial of a given number using recursion\n",
    "\n",
    "num = int(input(\"Enter a number: \"))\n",
    "\n",
    "def factorial_recursive(number):\n",
    "    if number == 0 or number == 1:\n",
    "        return 1\n",
    "    else:\n",
    "        return number * factorial_recursive(number - 1)\n",
    "\n",
    "result = factorial_recursive(num)\n",
    "print(f\"The factorial of {num} is {result}\")\n"
   ]
  },
  {
   "cell_type": "code",
   "execution_count": 78,
   "id": "9dd66a26",
   "metadata": {},
   "outputs": [
    {
     "name": "stdout",
     "output_type": "stream",
     "text": [
      "[1, 4, 9, 16, 25]\n"
     ]
    }
   ],
   "source": [
    "# Create a function to find the square of each element in a given list\n",
    "\n",
    "numers = [1,2,3,4,5]\n",
    "\n",
    "def square_elements(numers):\n",
    "    squared_list = [num ** 2 for num in numers]\n",
    "    return squared_list\n",
    "\n",
    "\n",
    "squared_numbers = square_elements(numers)\n",
    "print(squared_numbers)\n"
   ]
  },
  {
   "cell_type": "code",
   "execution_count": 57,
   "id": "0648ad01",
   "metadata": {},
   "outputs": [
    {
     "name": "stdout",
     "output_type": "stream",
     "text": [
      "enter a number:24\n",
      "even number\n"
     ]
    }
   ],
   "source": [
    "# Write a function to check if a number is even or odd and return \"Even\" or \"Odd\" accordingly\n",
    "\n",
    "user  = int(input(\"enter a number:\"))\n",
    "\n",
    "def odd_or_even(user):\n",
    "    if user % 2 == 0:\n",
    "        print(\"even number\")\n",
    "    else:\n",
    "        print(\"odd number\")\n",
    "        \n",
    "odd_or_even(user)"
   ]
  },
  {
   "cell_type": "code",
   "execution_count": 79,
   "id": "a59e7e41",
   "metadata": {},
   "outputs": [
    {
     "name": "stdout",
     "output_type": "stream",
     "text": [
      "Enter the width of the triangle: 23\n",
      "Enter the height of the triangle: 21\n",
      "The area of the triangle with base 23.0 and height 21.0 is 241.5\n"
     ]
    }
   ],
   "source": [
    "# Calculate the area of a triangle given its base and height using a function\n",
    "\n",
    "width = float(input(\"Enter the width of the triangle: \"))\n",
    "height = float(input(\"Enter the height of the triangle: \"))\n",
    "\n",
    "def cal_triange(width,height):\n",
    "    area = 0.5 * width * height\n",
    "    return area\n",
    "\n",
    "triangle_area = cal_triange(width,height)\n",
    "print(f\"The area of the triangle with base {width} and height {height} is {triangle_area}\")\n"
   ]
  },
  {
   "cell_type": "code",
   "execution_count": 74,
   "id": "b891bb5f",
   "metadata": {},
   "outputs": [
    {
     "name": "stdout",
     "output_type": "stream",
     "text": [
      "['apple', 'banana', 'cherry', 'watermelon']\n"
     ]
    }
   ],
   "source": [
    "# Create a function that takes a list of strings and returns the list\n",
    "\n",
    "my_list = [\"apple\",\"banana\",\"cherry\",\"watermelon\"]\n",
    "\n",
    "def return_list(my_list):\n",
    "    return my_list\n",
    "\n",
    "result = return_list(my_list)\n",
    "print(result)\n"
   ]
  },
  {
   "cell_type": "code",
   "execution_count": 72,
   "id": "cc6b3275",
   "metadata": {},
   "outputs": [
    {
     "name": "stdout",
     "output_type": "stream",
     "text": [
      "[3, 4, 5]\n"
     ]
    }
   ],
   "source": [
    "# Write a function that takes two lists and returns their intersection (common elements)\n",
    "\n",
    "mylist_a = [1, 2, 3, 4, 5]\n",
    "mylist_b = [3, 4, 5, 6, 7]\n",
    "\n",
    "def find_intersection(mylist_a, mylist_b):\n",
    "    intersection = [value for value in mylist_a if value in mylist_b]\n",
    "    return intersection\n",
    "\n",
    "common_elements = find_intersection(mylist_a, mylist_b)\n",
    "print(common_elements)\n"
   ]
  },
  {
   "cell_type": "code",
   "execution_count": 70,
   "id": "2273ca9a",
   "metadata": {},
   "outputs": [
    {
     "name": "stdout",
     "output_type": "stream",
     "text": [
      "enter year:2024\n",
      "leap year\n"
     ]
    }
   ],
   "source": [
    "# Implement a function to check if a given year is a leap year or not\n",
    "\n",
    "year = int(input(\"enter year:\"))\n",
    "\n",
    "def leap_year(year):\n",
    "    if year % 4 == 0:\n",
    "        print(\"leap year\")\n",
    "    else:\n",
    "        print(\"not leap year\")\n",
    "        \n",
    "leap_year(year)\n"
   ]
  },
  {
   "cell_type": "code",
   "execution_count": 68,
   "id": "1f8e32b2",
   "metadata": {},
   "outputs": [
    {
     "name": "stdout",
     "output_type": "stream",
     "text": [
      "enter a number:2\n",
      "Multiplication table for 2:\n",
      "2 * 1 = 2\n",
      "2 * 2 = 4\n",
      "2 * 3 = 6\n",
      "2 * 4 = 8\n",
      "2 * 5 = 10\n",
      "2 * 6 = 12\n",
      "2 * 7 = 14\n",
      "2 * 8 = 16\n",
      "2 * 9 = 18\n",
      "2 * 10 = 20\n"
     ]
    }
   ],
   "source": [
    "# Create a function that takes a number as input and prints its multiplication table.\n",
    "\n",
    "user = int(input(\"enter a number:\"))\n",
    "\n",
    "print(f\"Multiplication table for {number}:\")\n",
    "\n",
    "def multi_table(user):\n",
    "    for i in range(1, 11):\n",
    "        product = number * i\n",
    "        print(f\"{number} * {i} = {product}\")\n",
    "\n",
    "multi_table(user)   "
   ]
  },
  {
   "cell_type": "markdown",
   "id": "b2b9b5dd",
   "metadata": {},
   "source": [
    "# String manipulation"
   ]
  },
  {
   "cell_type": "code",
   "execution_count": 48,
   "id": "024fb96c",
   "metadata": {},
   "outputs": [
    {
     "name": "stdout",
     "output_type": "stream",
     "text": [
      "enter string: A man, a plan, a canal, Panama!\n",
      "The input string is not a palindrome.\n"
     ]
    }
   ],
   "source": [
    "# Create a program that checks if a given string is a palindrome.\n",
    "user = input(\"enter string: \")\n",
    "\n",
    "def is_palindrome(input_string):\n",
    "    clean_string = ''.join(filter(str.isalnum, input_string)).lower()\n",
    "    reversed_string = clean_string[::-1]\n",
    "    return clean_string == reversed_string\n",
    "\n",
    "if is_palindrome(string):\n",
    "    print(\"The input string is a palindrome.\")\n",
    "else:\n",
    "    print(\"The input string is not a palindrome.\")\n"
   ]
  },
  {
   "cell_type": "code",
   "execution_count": 51,
   "id": "2ba4b26f",
   "metadata": {},
   "outputs": [
    {
     "name": "stdout",
     "output_type": "stream",
     "text": [
      "Enter a string: a\n",
      "The string is a palindrome.\n"
     ]
    }
   ],
   "source": [
    "input_string = input(\"Enter a string: \")\n",
    "cleaned_string = \" \".join(char.lower() for char in input_string if char.isalnum())\n",
    "\n",
    "if cleaned_string == cleaned_string[::-1]:\n",
    "    print(\"The string is a palindrome.\")\n",
    "else:\n",
    "    print(\"The string is not a palindrome.\")\n"
   ]
  },
  {
   "cell_type": "code",
   "execution_count": 59,
   "id": "132f4e48",
   "metadata": {},
   "outputs": [
    {
     "name": "stdout",
     "output_type": "stream",
     "text": [
      "enter string:aapplee\n",
      "The number of vowels in the given string is: 4\n"
     ]
    }
   ],
   "source": [
    "# Write a function to count the number of vowels in a given string.\n",
    "user = input(\"enter string:\")\n",
    "\n",
    "def num_of_vowel(user):\n",
    "    vowels = \"aeiouAEIOU\"\n",
    "    vowel_count = 0\n",
    "    \n",
    "    for i in user:\n",
    "        if i in vowels:\n",
    "            vowel_count += 1\n",
    "    return vowel_count\n",
    "    \n",
    "vowel_count = num_of_vowel(user)\n",
    "\n",
    "print(f\"The number of vowels in the given string is: {vowel_count}\")\n"
   ]
  },
  {
   "cell_type": "code",
   "execution_count": 53,
   "id": "f84e89ca",
   "metadata": {},
   "outputs": [
    {
     "name": "stdout",
     "output_type": "stream",
     "text": [
      "Hello world this is a concatenated string\n"
     ]
    }
   ],
   "source": [
    "# Given a list of words, concatenate them into a single string separated by spaces\n",
    "\n",
    "word_list = [\"Hello\", \"world\", \"this\", \"is\", \"a\", \"concatenated\", \"string\"]\n",
    "concatenated_string = \" \".join(word_list)\n",
    "\n",
    "print(concatenated_string)\n"
   ]
  },
  {
   "cell_type": "code",
   "execution_count": 54,
   "id": "0d2261b9",
   "metadata": {},
   "outputs": [
    {
     "name": "stdout",
     "output_type": "stream",
     "text": [
      "my name is komal and kesha\n"
     ]
    }
   ],
   "source": [
    "my_list = [\"my\",\"name\",\"is\",\"komal\",\"and\",\"kesha\"]\n",
    "concate_string = \" \".join(my_list)\n",
    "print(concate_string)"
   ]
  },
  {
   "cell_type": "code",
   "execution_count": 85,
   "id": "ea9ce6bc",
   "metadata": {},
   "outputs": [
    {
     "name": "stdout",
     "output_type": "stream",
     "text": [
      "enter string:komal\n",
      "lamok\n"
     ]
    }
   ],
   "source": [
    "# Create a function to reverse a given string\n",
    "\n",
    "user = input(\"enter string:\")\n",
    "\n",
    "def rev_string(user):\n",
    "    reverse_string = user[:: -1]\n",
    "    return reverse_string\n",
    "\n",
    "result = rev_string(user)\n",
    "print(result)"
   ]
  },
  {
   "cell_type": "code",
   "execution_count": 60,
   "id": "b2fb9d8b",
   "metadata": {},
   "outputs": [
    {
     "name": "stdout",
     "output_type": "stream",
     "text": [
      "enter string:kkkkkkk\n",
      "7\n"
     ]
    }
   ],
   "source": [
    "# Write a program that takes a sentence as input and counts the number of words in it\n",
    "\n",
    "user = input(\"enter string:\")\n",
    "print(len(user))\n"
   ]
  },
  {
   "cell_type": "code",
   "execution_count": null,
   "id": "ce57e49e",
   "metadata": {},
   "outputs": [],
   "source": [
    "# Implement a function that checks if a given string is a pangram (contains all letters of the alphabet)"
   ]
  },
  {
   "cell_type": "code",
   "execution_count": 57,
   "id": "09bbde67",
   "metadata": {},
   "outputs": [
    {
     "name": "stdout",
     "output_type": "stream",
     "text": [
      "enter string:koooo\n",
      "k\n"
     ]
    }
   ],
   "source": [
    "# Given a string, write a function to remove all vowels from it and return the modified string\n",
    "\n",
    "string = input(\"enter string:\")\n",
    "\n",
    "def remove_vowel(string):\n",
    "    vowel = \"aeiouAEIOU\"\n",
    "    modified_str = \" \".join(char for char in string if char not in vowel)\n",
    "    return modified_str\n",
    "\n",
    "print(remove_vowel(string))"
   ]
  },
  {
   "cell_type": "code",
   "execution_count": 61,
   "id": "04c2b395",
   "metadata": {},
   "outputs": [
    {
     "name": "stdout",
     "output_type": "stream",
     "text": [
      "enter sentence:today is augusttt\n",
      "The length of the longest word in the sentence is: 8\n"
     ]
    }
   ],
   "source": [
    "# Write a Python program to find the length of the longest word in a sentence\n",
    "\n",
    "user = input(\"enter sentence:\")\n",
    "\n",
    "def longest_word_length(user):\n",
    "    words = user.split()  \n",
    "    longest_length = 0\n",
    "\n",
    "    for i in words:\n",
    "        if len(i) > longest_length:\n",
    "            longest_length = len(i)\n",
    "\n",
    "    return longest_length\n",
    "\n",
    "length = longest_word_length(user)\n",
    "print(f\"The length of the longest word in the sentence is: {length}\")\n"
   ]
  },
  {
   "cell_type": "code",
   "execution_count": 100,
   "id": "98c2ffdf",
   "metadata": {},
   "outputs": [
    {
     "name": "stdout",
     "output_type": "stream",
     "text": [
      "enter string:Today is 15th august\n",
      "tsugua ht51 si yadoT\n"
     ]
    }
   ],
   "source": [
    "# Create a function that takes a sentence as input and returns the sentence in reverse order\n",
    "\n",
    "user = input(\"enter string:\")\n",
    "\n",
    "def rev_string(user):\n",
    "    reverse_string = user[:: -1]\n",
    "    return reverse_string\n",
    "\n",
    "result = rev_string(user)\n",
    "print(result)\n"
   ]
  },
  {
   "cell_type": "code",
   "execution_count": 63,
   "id": "dd9ac734",
   "metadata": {},
   "outputs": [
    {
     "name": "stdout",
     "output_type": "stream",
     "text": [
      "enter string:koo\n",
      "all\n"
     ]
    }
   ],
   "source": [
    "# Write a function to remove all duplicate characters from a given string\n",
    "\n",
    "\n",
    "user = input(\"enter string:\")\n",
    "char = \" \"\n",
    "\n",
    "def remove_char(user):\n",
    "    if char in user:\n",
    "         print(\"char delete\")\n",
    "    else:\n",
    "        print(\"all\")\n",
    "remove_char(user)\n",
    "            "
   ]
  },
  {
   "cell_type": "code",
   "execution_count": null,
   "id": "ee1dc59a",
   "metadata": {},
   "outputs": [],
   "source": []
  },
  {
   "cell_type": "code",
   "execution_count": 94,
   "id": "a815f78b",
   "metadata": {},
   "outputs": [
    {
     "name": "stdout",
     "output_type": "stream",
     "text": [
      "this string is right.\n"
     ]
    }
   ],
   "source": [
    "# Implement a program that takes a sentence and a word as input and checks if the word is present in the sentence.\n",
    "\n",
    "string = \"Today is 15th august today is 15th august today is 15th august today is 15th august\"\n",
    "\n",
    "if \"today\" in string:\n",
    "    print(\"this string is right.\")\n",
    "else:\n",
    "    print(\"this string is wrong\")"
   ]
  },
  {
   "cell_type": "code",
   "execution_count": 104,
   "id": "dfa38853",
   "metadata": {},
   "outputs": [
    {
     "name": "stdout",
     "output_type": "stream",
     "text": [
      "total sum: 29\n",
      "total average: 4.833333333333333\n"
     ]
    }
   ],
   "source": [
    "# Given a list of numbers, find the sum and average using built-in functions.\n",
    "\n",
    "my_list = [2,5,9,3,4,6]\n",
    "\n",
    "count = sum(my_list)\n",
    "avg = count / len (my_list)\n",
    "\n",
    "print(\"total sum:\" , count)\n",
    "print(\"total average:\" ,avg)"
   ]
  },
  {
   "cell_type": "code",
   "execution_count": 103,
   "id": "a9b5693b",
   "metadata": {},
   "outputs": [
    {
     "name": "stdout",
     "output_type": "stream",
     "text": [
      "['apple', 'cherry', 'banana', 'watermelon']\n"
     ]
    }
   ],
   "source": [
    "# Create a list of fruits and add a new fruit to the list.\n",
    "\n",
    "my_list = [\"apple\", \"cherry\",\"banana\"]\n",
    "my_list.append(\"watermelon\")\n",
    "print(my_list)\n"
   ]
  },
  {
   "cell_type": "code",
   "execution_count": null,
   "id": "c979817e",
   "metadata": {},
   "outputs": [],
   "source": [
    "# Access elements in a tuple using indexing."
   ]
  },
  {
   "cell_type": "code",
   "execution_count": 105,
   "id": "fa735701",
   "metadata": {},
   "outputs": [
    {
     "name": "stdout",
     "output_type": "stream",
     "text": [
      "[1, 2, 3, 'a', 'b']\n"
     ]
    }
   ],
   "source": [
    "# Given two lists of numbers, concatenate them into a single list\n",
    "\n",
    "list1 = [1,2,3]\n",
    "list2 = [\"a\",\"b\"]\n",
    "\n",
    "list3 = list1+list2\n",
    "print(list3)"
   ]
  },
  {
   "cell_type": "code",
   "execution_count": 107,
   "id": "fb98fab9",
   "metadata": {},
   "outputs": [
    {
     "name": "stdout",
     "output_type": "stream",
     "text": [
      "The smallest element is: 3\n",
      "The largest element is: 20\n"
     ]
    }
   ],
   "source": [
    "# Write a program that finds the largest and smallest elements in a list\n",
    "\n",
    "user = [10, 5, 20, 3, 15]\n",
    "\n",
    "min_value = max_value = user[0]  \n",
    "\n",
    "for num in user:\n",
    "    if num < min_value:\n",
    "        min_value = num\n",
    "    if num > max_value:\n",
    "        max_value = num\n",
    "\n",
    "print(f\"The smallest element is: {min_value}\")\n",
    "print(f\"The largest element is: {max_value}\")\n"
   ]
  },
  {
   "cell_type": "code",
   "execution_count": null,
   "id": "92ccf4b1",
   "metadata": {},
   "outputs": [],
   "source": [
    "# Implement a function that takes a list of numbers and returns a new list with the squared values\n"
   ]
  },
  {
   "cell_type": "code",
   "execution_count": null,
   "id": "75e769ed",
   "metadata": {},
   "outputs": [],
   "source": [
    "# Create a program that finds the common elements between two lists and stores them in a new list"
   ]
  },
  {
   "cell_type": "code",
   "execution_count": 16,
   "id": "a71938ac",
   "metadata": {},
   "outputs": [
    {
     "name": "stdout",
     "output_type": "stream",
     "text": [
      "The word with maximum length is 'watermelon' with length 10.\n"
     ]
    }
   ],
   "source": [
    "# Given a list of words, find the word with the maximum length and its length\n",
    "\n",
    "def maximun_word(word):\n",
    "    if not word:\n",
    "        return None, None\n",
    "    max_word = max(word, key = len)\n",
    "    return max_word ,len(max_word)\n",
    "\n",
    "my_list = [\"a\",\"b\",\"apple\",\"banana\",\"watermelon\"]\n",
    "\n",
    "word, word_length = maximun_word(my_list)\n",
    "print(f\"The word with maximum length is '{word}' with length {word_length}.\")\n",
    "\n",
    "    "
   ]
  },
  {
   "cell_type": "code",
   "execution_count": null,
   "id": "e7536745",
   "metadata": {},
   "outputs": [],
   "source": []
  },
  {
   "cell_type": "code",
   "execution_count": null,
   "id": "51df0650",
   "metadata": {},
   "outputs": [],
   "source": []
  },
  {
   "cell_type": "code",
   "execution_count": null,
   "id": "d9db6746",
   "metadata": {},
   "outputs": [],
   "source": []
  },
  {
   "cell_type": "code",
   "execution_count": 10,
   "id": "75edc5e0",
   "metadata": {},
   "outputs": [
    {
     "name": "stdout",
     "output_type": "stream",
     "text": [
      "The element 1 appears 2 times\n",
      "The element 2 appears 3 times\n",
      "The element 3 appears 2 times\n",
      "The element 4 appears 1 times\n",
      "The element 5 appears 1 times\n"
     ]
    }
   ],
   "source": [
    "# Write a Python program to count the occurrences of each element in a given list\n",
    "\n",
    "numbers = [1, 2, 3, 2, 1, 4, 2, 3, 5]\n",
    "\n",
    "def count_element(numbers):\n",
    "    count = {}\n",
    "    \n",
    "    for i in numbers:\n",
    "        if i in count:\n",
    "            count[i] += 1\n",
    "        else:\n",
    "            count[i] = 1\n",
    "    return count\n",
    "\n",
    "count_number = count_element(numbers)\n",
    "\n",
    "for i, count_1 in count_number.items():\n",
    "    print(f\"The element {i} appears {count_1} times\")\n",
    "    "
   ]
  },
  {
   "cell_type": "code",
   "execution_count": 112,
   "id": "5e5a136c",
   "metadata": {},
   "outputs": [
    {
     "name": "stdout",
     "output_type": "stream",
     "text": [
      "Unique names:\n",
      "Charlie\n",
      "Bob\n",
      "David\n",
      "Alice\n",
      "Eve\n"
     ]
    }
   ],
   "source": [
    "# Given a list of names, remove all duplicate names and print the unique names\n",
    "\n",
    "my_list = [\"Alice\", \"Bob\", \"Alice\", \"Charlie\", \"Bob\", \"David\", \"Eve\", \"Alice\"]\n",
    "\n",
    "unique_names = list(set(my_list))  # Convert to set to remove duplicates, then back to list\n",
    "\n",
    "print(\"Unique names:\")\n",
    "for my_list in unique_names:\n",
    "    print(my_list)\n"
   ]
  },
  {
   "cell_type": "code",
   "execution_count": 116,
   "id": "5e5f3a48",
   "metadata": {},
   "outputs": [
    {
     "name": "stdout",
     "output_type": "stream",
     "text": [
      "['fig', 'date', 'apple', 'banana', 'cherry']\n"
     ]
    }
   ],
   "source": [
    "# Create a function that takes a list of strings and returns the list sorted by the length of the strings\n",
    "\n",
    "strings = [\"apple\", \"banana\", \"cherry\", \"date\", \"fig\"]\n",
    "\n",
    "def sort_by_length(input_list):\n",
    "    sorted_list = sorted(input_list, key=len)\n",
    "    return sorted_list\n",
    "\n",
    "sorted_strings = sort_by_length(strings)\n",
    "print(sorted_strings)\n"
   ]
  },
  {
   "cell_type": "code",
   "execution_count": 115,
   "id": "05734f39",
   "metadata": {},
   "outputs": [
    {
     "name": "stdout",
     "output_type": "stream",
     "text": [
      "The list is sorted in ascending order.\n"
     ]
    }
   ],
   "source": [
    "# Write a program that checks if a given list is sorted in ascending order\n",
    "\n",
    "numbers = [1, 3, 5, 7, 9]\n",
    "\n",
    "def sorting_list(numbers):\n",
    "    for i in range(1, len(numbers)):\n",
    "        if numbers[i] < numbers[i - 1]:\n",
    "            return False\n",
    "    return True\n",
    "\n",
    "if sorting_list(numbers):\n",
    "    print(\"The list is sorted in ascending order.\")\n",
    "else:\n",
    "    print(\"The list is not sorted in ascending order.\")\n"
   ]
  },
  {
   "cell_type": "code",
   "execution_count": 119,
   "id": "7a5383a9",
   "metadata": {},
   "outputs": [
    {
     "name": "stdout",
     "output_type": "stream",
     "text": [
      "[1, 2, 3, 4, 5, 6, 7]\n"
     ]
    }
   ],
   "source": [
    "# Implement a function that takes two lists and returns their union (all unique elements from both lists)\n",
    "\n",
    "mylist_a = [1, 2, 3, 4, 5]\n",
    "mylist_b = [3, 4, 5, 6, 7]\n",
    "\n",
    "def unique_element(mylist_a, mylist_b):\n",
    "    union = list(set(mylist_a) | set(mylist_b))\n",
    "    return union\n",
    "\n",
    "union_element = unique_element(mylist_a, mylist_b)\n",
    "print(union_element)\n"
   ]
  },
  {
   "cell_type": "markdown",
   "id": "acb4c532",
   "metadata": {},
   "source": [
    "# Dictionary and Set"
   ]
  },
  {
   "cell_type": "code",
   "execution_count": 120,
   "id": "0227eef3",
   "metadata": {},
   "outputs": [
    {
     "name": "stdout",
     "output_type": "stream",
     "text": [
      "{'name': 'komal', 'age': 30, 'address': 'ahmedabad'}\n"
     ]
    }
   ],
   "source": [
    "# Create a dictionary to store information about a person (name, age, address).\n",
    "\n",
    "my_dict = {\n",
    "    \"name\" : \"komal\",\n",
    "    \"age\" : 30,\n",
    "    \"address\" : \"ahmedabad\"\n",
    "}\n",
    "\n",
    "print(my_dict)\n"
   ]
  },
  {
   "cell_type": "code",
   "execution_count": 123,
   "id": "4f07619c",
   "metadata": {},
   "outputs": [
    {
     "name": "stdout",
     "output_type": "stream",
     "text": [
      "{'name': 'komal', 'age': 30, 'address': 'ahmedabad', 'education': 'B.com'}\n"
     ]
    }
   ],
   "source": [
    "# Add a new key-value pair to an existing dictionary.\n",
    "\n",
    "my_dict = {\n",
    "    \"name\" : \"komal\",\n",
    "    \"age\" : 30,\n",
    "    \"address\" : \"ahmedabad\"\n",
    "}\n",
    "\n",
    "my_dict[\"education\"] = \"B.com\"\n",
    "print(my_dict)\n"
   ]
  },
  {
   "cell_type": "code",
   "execution_count": 124,
   "id": "37272a2b",
   "metadata": {},
   "outputs": [
    {
     "name": "stdout",
     "output_type": "stream",
     "text": [
      "{1, 2, 3, 4, 5, 6, 7}\n"
     ]
    }
   ],
   "source": [
    "# Create a set of unique numbers from a list of numbers.\n",
    "\n",
    "\n",
    "numbers = [1, 2, 3, 2, 4, 5, 3, 6, 7, 4]\n",
    "\n",
    "unique_numbers = set(numbers)\n",
    "print(unique_numbers)\n"
   ]
  },
  {
   "cell_type": "code",
   "execution_count": 126,
   "id": "c0aeef7f",
   "metadata": {},
   "outputs": [
    {
     "name": "stdout",
     "output_type": "stream",
     "text": [
      "{'name': 'komal', 'age': 30, 'address': 'ahmedabad', 'doctor': 'name', 'attendence': 50, 'ward': 'A ward'}\n"
     ]
    }
   ],
   "source": [
    "# Given two dictionaries, merge them into a single dictionary\n",
    "\n",
    "my_dict1 = {\n",
    "    \"name\" : \"komal\",\n",
    "    \"age\" : 30,\n",
    "    \"address\" : \"ahmedabad\"\n",
    "}\n",
    "\n",
    "my_dict2 = {\n",
    "    \"doctor\" : \"name\",\n",
    "    \"attendence\" : 50,\n",
    "    \"ward\" : \"A ward\"\n",
    "}\n",
    "\n",
    "my_dict3 = {**my_dict1 ,** my_dict2}\n",
    "print(my_dict3)\n",
    " "
   ]
  },
  {
   "cell_type": "code",
   "execution_count": 128,
   "id": "e5ca28ac",
   "metadata": {},
   "outputs": [
    {
     "name": "stdout",
     "output_type": "stream",
     "text": [
      "The most frequent element is 2 with a frequency of 4 times\n"
     ]
    }
   ],
   "source": [
    "# Write a program that finds the most frequent element in a list\n",
    "\n",
    "numbers = [1, 2, 3, 2, 4, 5, 3, 2, 6, 7, 4, 2]\n",
    "\n",
    "def most_frequent_element(input_list):\n",
    "    frequency = {}\n",
    "    max_count = 0\n",
    "    most_frequent = None\n",
    "\n",
    "    for i in input_list:\n",
    "        if i in frequency:\n",
    "            frequency[i] += 1\n",
    "        else:\n",
    "            frequency[i] = 1\n",
    "        \n",
    "        if frequency[i] > max_count:\n",
    "            max_count = frequency[i]\n",
    "            most_frequent = i\n",
    "\n",
    "    return most_frequent, max_count\n",
    "\n",
    "i, frequency = most_frequent_element(numbers)\n",
    "print(f\"The most frequent element is {i} with a frequency of {frequency} times\")\n"
   ]
  },
  {
   "cell_type": "code",
   "execution_count": 129,
   "id": "5b00564b",
   "metadata": {},
   "outputs": [
    {
     "name": "stdout",
     "output_type": "stream",
     "text": [
      "{'doctor': 'name', 'attendence': 50}\n"
     ]
    }
   ],
   "source": [
    "# Implement a function that removes a key-value pair from a dictionary\n",
    "\n",
    "my_dict2 = {\n",
    "    \"doctor\" : \"name\",\n",
    "    \"attendence\" : 50,\n",
    "    \"ward\" : \"A ward\"\n",
    "}\n",
    "\n",
    "my_dict2.pop(\"ward\")\n",
    "print(my_dict2)"
   ]
  },
  {
   "cell_type": "code",
   "execution_count": 6,
   "id": "8f66c5bd",
   "metadata": {},
   "outputs": [
    {
     "name": "stdout",
     "output_type": "stream",
     "text": [
      "The sets have not any common elements.\n"
     ]
    }
   ],
   "source": [
    "# Create a program that checks if two sets have any elements in common\n",
    "\n",
    "set_a = {1, 2, 3, 4, 5}\n",
    "set_b = {9, 6, 7, 8,11}\n",
    "\n",
    "def have_common_elements(set1, set2):\n",
    "    return len(set1.intersection(set2)) > 0\n",
    "\n",
    "if have_common_elements(set_a, set_b):\n",
    "    print(\"The sets have common elements.\")\n",
    "else:\n",
    "    print(\"The sets have not any common elements.\")\n"
   ]
  },
  {
   "cell_type": "code",
   "execution_count": 134,
   "id": "d778e9db",
   "metadata": {},
   "outputs": [
    {
     "name": "stdout",
     "output_type": "stream",
     "text": [
      "The dictionary with the highest age is: {'name': 'Charlie', 'age': 35}\n"
     ]
    }
   ],
   "source": [
    "# Given a list of dictionaries, find the dictionary with the highest value for a specific key\n",
    "\n",
    "my_dict = [\n",
    "    {\"name\": \"Alice\", \"age\": 30},\n",
    "    {\"name\": \"Bob\", \"age\": 25},\n",
    "    {\"name\": \"Charlie\", \"age\": 35}\n",
    "]\n",
    "\n",
    "def dictionary_with_highest_value(input_list, key):\n",
    "    if not input_list:\n",
    "        return None\n",
    "    \n",
    "    max_value = float('-inf')\n",
    "    max_dict = None\n",
    "    \n",
    "    for dictionary in input_list:\n",
    "        if key in dictionary and dictionary[key] > max_value:\n",
    "            max_value = dictionary[key]\n",
    "            max_dict = dictionary\n",
    "    \n",
    "    return max_dict\n",
    "\n",
    "key_to_check = \"age\"\n",
    "result_dict = dictionary_with_highest_value(people, key_to_check)\n",
    "\n",
    "if result_dict:\n",
    "    print(f\"The dictionary with the highest {key_to_check} is:\", result_dict)\n",
    "else:\n",
    "    print(\"The list of dictionaries is empty.\")\n"
   ]
  },
  {
   "cell_type": "code",
   "execution_count": 131,
   "id": "ed661189",
   "metadata": {},
   "outputs": [
    {
     "name": "stdout",
     "output_type": "stream",
     "text": [
      "Union: {1, 2, 3, 4, 5, 6, 7, 8}\n",
      "Intersection: {4, 5}\n",
      "Difference A - B: {1, 2, 3}\n",
      "Difference B - A: {8, 6, 7}\n"
     ]
    }
   ],
   "source": [
    "# Given two sets, find the union, intersection, and difference between them\n",
    "\n",
    "set_a = {1, 2, 3, 4, 5}\n",
    "set_b = {4, 5, 6, 7, 8}\n",
    "\n",
    "# Union of sets\n",
    "union_result = set_a.union(set_b)\n",
    "print(\"Union:\", union_result)\n",
    "\n",
    "# Intersection of sets\n",
    "intersection_result = set_a.intersection(set_b)\n",
    "print(\"Intersection:\", intersection_result)\n",
    "\n",
    "# Difference of sets (elements in set_a but not in set_b)\n",
    "difference_a_b = set_a.difference(set_b)\n",
    "print(\"Difference A - B:\", difference_a_b)\n",
    "\n",
    "# Difference of sets (elements in set_b but not in set_a)\n",
    "difference_b_a = set_b.difference(set_a)\n",
    "print(\"Difference B - A:\", difference_b_a)\n"
   ]
  },
  {
   "cell_type": "code",
   "execution_count": 136,
   "id": "472edc8f",
   "metadata": {},
   "outputs": [
    {
     "name": "stdout",
     "output_type": "stream",
     "text": [
      "Sorted list of dictionaries:\n",
      "{'name': 'Bob', 'age': 25}\n",
      "{'name': 'Alice', 'age': 30}\n",
      "{'name': 'Charlie', 'age': 35}\n"
     ]
    }
   ],
   "source": [
    "# Create a function that takes a list of dictionaries and sorts them based on a specified key\n",
    "\n",
    "my_dict = [\n",
    "    {\"name\": \"Alice\", \"age\": 30},\n",
    "    {\"name\": \"Bob\", \"age\": 25},\n",
    "    {\"name\": \"Charlie\", \"age\": 35}\n",
    "]\n",
    "\n",
    "def sort_dicts_by_key(input_list, sort_key):\n",
    "    sorted_list = sorted(input_list, key=lambda x: x.get(sort_key, \"\"))\n",
    "    return sorted_list\n",
    "\n",
    "key_to_sort = \"age\"\n",
    "sorted_people = sort_dicts_by_key(people, key_to_sort)\n",
    "\n",
    "print(\"Sorted list of dictionaries:\")\n",
    "for my_dict in sorted_people:\n",
    "    print(my_dict)\n"
   ]
  },
  {
   "cell_type": "code",
   "execution_count": 7,
   "id": "3a624482",
   "metadata": {},
   "outputs": [
    {
     "name": "stdout",
     "output_type": "stream",
     "text": [
      "Sorted list of dictionaries:\n",
      "{'name': 'Bob', 'age': 25}\n",
      "{'name': 'Alice', 'age': 30}\n",
      "{'name': 'Charlie', 'age': 35}\n"
     ]
    }
   ],
   "source": [
    "# Write a program that finds the average value of all the elements in a list of dictionaries\n",
    "people = [\n",
    "    {\"name\": \"Alice\", \"age\": 30},\n",
    "    {\"name\": \"Bob\", \"age\": 25},\n",
    "    {\"name\": \"Charlie\", \"age\": 35}\n",
    "]\n",
    "def sort_dicts_by_key(input_list, sort_key):\n",
    "    sorted_list = []\n",
    "    \n",
    "    for dictionary in input_list:\n",
    "        inserted = False\n",
    "        for i, sorted_dict in enumerate(sorted_list):\n",
    "            if dictionary.get(sort_key, \"\") < sorted_dict.get(sort_key, \"\"):\n",
    "                sorted_list.insert(i, dictionary)\n",
    "                inserted = True\n",
    "                break\n",
    "        \n",
    "        if not inserted:\n",
    "            sorted_list.append(dictionary)\n",
    "    \n",
    "    return sorted_list\n",
    "\n",
    "key_to_sort = \"age\"\n",
    "sorted_people = sort_dicts_by_key(people, key_to_sort)\n",
    "\n",
    "print(\"Sorted list of dictionaries:\")\n",
    "for person in sorted_people:\n",
    "    print(person)\n"
   ]
  },
  {
   "cell_type": "code",
   "execution_count": 9,
   "id": "1cd914da",
   "metadata": {},
   "outputs": [
    {
     "name": "stdout",
     "output_type": "stream",
     "text": [
      "Common unique characters: {'e', 'o', 'l'}\n"
     ]
    }
   ],
   "source": [
    "# Implement a function that takes a list of strings and returns a set of unique characters present in all strings\n",
    "\n",
    "strings = [\"hello\", \"worled\", \"howldye\"]\n",
    "\n",
    "def common_unique_characters(string_list):\n",
    "    if not string_list:\n",
    "        return set()  \n",
    "    \n",
    "    common_chars = set(string_list[0])\n",
    "\n",
    "    for string in string_list[1:]:\n",
    "        common_chars &= set(string)\n",
    "    \n",
    "    return common_chars\n",
    "\n",
    "common_chars_set = common_unique_characters(strings)\n",
    "print(\"Common unique characters:\", common_chars_set)\n"
   ]
  },
  {
   "cell_type": "code",
   "execution_count": 138,
   "id": "96e6191f",
   "metadata": {},
   "outputs": [
    {
     "name": "stdout",
     "output_type": "stream",
     "text": [
      "Character counts:\n",
      "'h': 1\n",
      "'e': 1\n",
      "'l': 3\n",
      "'o': 2\n",
      "' ': 1\n",
      "'w': 1\n",
      "'r': 1\n",
      "'d': 1\n"
     ]
    }
   ],
   "source": [
    "# Write a Python program that counts the number of of each character in a given string using a dictionary\n",
    "\n",
    "string = \"hello world\"\n",
    "\n",
    "def count_characters(input_string):\n",
    "    character_count = {}\n",
    "\n",
    "    for char in input_string:\n",
    "        if char in character_count:\n",
    "            character_count[char] += 1\n",
    "        else:\n",
    "            character_count[char] = 1\n",
    "    \n",
    "    return character_count\n",
    "\n",
    "char_count_dict = count_characters(string)\n",
    "\n",
    "print(\"Character counts:\")\n",
    "for char, count in char_count_dict.items():\n",
    "    print(f\"'{char}': {count}\")\n"
   ]
  },
  {
   "cell_type": "markdown",
   "id": "0b20882d",
   "metadata": {},
   "source": [
    "# file headling"
   ]
  },
  {
   "cell_type": "code",
   "execution_count": 140,
   "id": "5907446d",
   "metadata": {},
   "outputs": [
    {
     "name": "stdout",
     "output_type": "stream",
     "text": [
      "this is second demo filehello friends............. how are you????hello friends............. how are you????hello friends............. how are you????hello friends............. how are you????\n"
     ]
    }
   ],
   "source": [
    "# Write a program that reads a text file and prints its contents.\n",
    "a = open(\"demo.txt\",\"r\")\n",
    "print(a.read())"
   ]
  },
  {
   "cell_type": "code",
   "execution_count": 143,
   "id": "31257f18",
   "metadata": {},
   "outputs": [
    {
     "name": "stdout",
     "output_type": "stream",
     "text": [
      "today is 2nd day...\n"
     ]
    }
   ],
   "source": [
    "# Create a new text file and write some content into it.\n",
    "a = open(\"demooo.txt\", \"a\")\n",
    "a.write(\"today is 2nd day...\")\n",
    "a.close()\n",
    "\n",
    "a = open(\"demooo.txt\", \"r\")\n",
    "print(a.read())"
   ]
  },
  {
   "cell_type": "code",
   "execution_count": 146,
   "id": "34f70148",
   "metadata": {},
   "outputs": [
    {
     "name": "stdout",
     "output_type": "stream",
     "text": [
      "       year industry_code_ANZSIC               industry_name_ANZSIC  \\\n",
      "0      2011                    A  Agriculture, Forestry and Fishing   \n",
      "1      2011                    A  Agriculture, Forestry and Fishing   \n",
      "2      2011                    A  Agriculture, Forestry and Fishing   \n",
      "3      2011                    A  Agriculture, Forestry and Fishing   \n",
      "4      2011                    A  Agriculture, Forestry and Fishing   \n",
      "...     ...                  ...                                ...   \n",
      "17023  2021                  all                     All Industries   \n",
      "17024  2021                  all                     All Industries   \n",
      "17025  2021                  all                     All Industries   \n",
      "17026  2021                  all                     All Industries   \n",
      "17027  2021                  all                     All Industries   \n",
      "\n",
      "        rme_size_grp                                         variable  \\\n",
      "0                a_0                                    Activity unit   \n",
      "1                a_0                           Rolling mean employees   \n",
      "2                a_0                          Salaries and wages paid   \n",
      "3                a_0  Sales, government funding, grants and subsidies   \n",
      "4                a_0                                     Total income   \n",
      "...              ...                                              ...   \n",
      "17023  j_Grand_Total                                     Total income   \n",
      "17024  j_Grand_Total                                Total expenditure   \n",
      "17025  j_Grand_Total                      Operating profit before tax   \n",
      "17026  j_Grand_Total                                     Total assets   \n",
      "17027  j_Grand_Total                            Fixed tangible assets   \n",
      "\n",
      "         value               unit  \n",
      "0        46134              COUNT  \n",
      "1            0              COUNT  \n",
      "2          279  DOLLARS(millions)  \n",
      "3         8187  DOLLARS(millions)  \n",
      "4         8866  DOLLARS(millions)  \n",
      "...        ...                ...  \n",
      "17023   757504  DOLLARS(millions)  \n",
      "17024   654404  DOLLARS(millions)  \n",
      "17025    85116  DOLLARS(millions)  \n",
      "17026  2512677  DOLLARS(millions)  \n",
      "17027   591351  DOLLARS(millions)  \n",
      "\n",
      "[17028 rows x 7 columns]\n"
     ]
    }
   ],
   "source": [
    "# Read a CSV file and process its data.\n",
    "\n",
    "import pandas as pd\n",
    "# reading the CSV file\n",
    "csvFile = pd.read_csv(\"excel file.csv\")\n",
    "\n",
    "# displaying the contents of the CSV file\n",
    "print(csvFile)\n",
    "\n"
   ]
  },
  {
   "cell_type": "code",
   "execution_count": 159,
   "id": "e07b89dc",
   "metadata": {},
   "outputs": [
    {
     "data": {
      "text/plain": [
       "'demo1.txt'"
      ]
     },
     "execution_count": 159,
     "metadata": {},
     "output_type": "execute_result"
    }
   ],
   "source": [
    "# Write a Python program to copy the contents of one text file into another\n",
    "\n",
    "import shutil\n",
    "\n",
    "# use copyfile()\n",
    "shutil.copyfile(\"demo.txt\",\"demo1.txt\")\n"
   ]
  },
  {
   "cell_type": "code",
   "execution_count": 161,
   "id": "48c39a4a",
   "metadata": {},
   "outputs": [
    {
     "name": "stdout",
     "output_type": "stream",
     "text": [
      "  STUDENT NAME  SCORE  Unnamed: 2\n",
      "0        komal     25         NaN\n",
      "1        pooja     35         NaN\n",
      "2        kesha     35         NaN\n",
      "3       vishal     53         NaN\n",
      "4        rushi     63         NaN\n",
      "5       chirag     80         NaN\n",
      "6       jinkal     65         NaN\n",
      "7     pepa pig     66         NaN\n",
      "toral score 422\n"
     ]
    }
   ],
   "source": [
    "# Given a CSV file with student names and scores, find the student with the highest score\n",
    "\n",
    "import pandas as pd \n",
    "\n",
    "csv_file = pd.read_csv(\"student detail.csv\")\n",
    "print(csv_file)\n",
    "\n",
    "a = csv_file[\"SCORE\"].sum()\n",
    "print(\"toral score\" , a)"
   ]
  },
  {
   "cell_type": "code",
   "execution_count": null,
   "id": "cb02b123",
   "metadata": {},
   "outputs": [],
   "source": [
    "# Implement a program that reads a text file and counts the number of words and lines in it"
   ]
  },
  {
   "cell_type": "code",
   "execution_count": null,
   "id": "e272e5b0",
   "metadata": {},
   "outputs": [],
   "source": [
    "# Create a function that takes a list of sentences and writes them to a new text file, each on a new line\n"
   ]
  },
  {
   "cell_type": "code",
   "execution_count": 153,
   "id": "4f4f287b",
   "metadata": {},
   "outputs": [
    {
     "name": "stdout",
     "output_type": "stream",
     "text": [
      "     NAME  AGE  SALARY\n",
      "0   komal   30   25000\n",
      "1   pooja   20   15000\n",
      "2  vishal   20   30000\n",
      "3  chirag   32   35000\n",
      "Total salary all employee is :  105000\n"
     ]
    }
   ],
   "source": [
    "# Given a CSV file with employee details (name, age,salary), calculate the average salary of all employees\n",
    "\n",
    "import pandas as pd\n",
    "\n",
    "csv_file = pd.read_csv(\"employee details.csv\")\n",
    "print(csv_file)\n",
    "\n",
    "#a = sum(SALARY)\n",
    "a = csv_file[\"SALARY\"].sum()\n",
    "print(\"Total salary all employee is : \" , a)"
   ]
  },
  {
   "cell_type": "code",
   "execution_count": 154,
   "id": "1145da34",
   "metadata": {},
   "outputs": [],
   "source": [
    "# Write a program that reads a CSV file and finds the total sales revenue for a specific product2"
   ]
  },
  {
   "cell_type": "code",
   "execution_count": 168,
   "id": "d11170da",
   "metadata": {},
   "outputs": [
    {
     "name": "stdout",
     "output_type": "stream",
     "text": [
      "  STUDENT NAME  SCORE  Unnamed: 2\n",
      "0        komal     25         NaN\n",
      "1        pooja     35         NaN\n",
      "2        kesha     35         NaN\n",
      "3       vishal     53         NaN\n",
      "4        rushi     63         NaN\n",
      "5       chirag     80         NaN\n",
      "6       jinkal     65         NaN\n",
      "7     pepa pig     66         NaN\n",
      "The student with the highest score is chirag with a score of 80.\n"
     ]
    },
    {
     "data": {
      "image/png": "[encoded data removed]",
      "text/plain": [
       "<Figure size 432x288 with 1 Axes>"
      ]
     },
     "metadata": {
      "needs_background": "light"
     },
     "output_type": "display_data"
    }
   ],
   "source": [
    "# Implement a program that reads a CSV file and generates a bar chart to represent the data using Matplotlib2\n",
    "\n",
    "import pandas as pd\n",
    "import matplotlib.pyplot as plt \n",
    "\n",
    "csv_file = pd.read_csv(\"student detail.csv\")\n",
    "print(csv_file)\n",
    "\n",
    "def find_student_highest_score(csv_filename):\n",
    "    highest_score = 0\n",
    "    highest_score_student = \" \"\n",
    "\n",
    "    with open(csv_filename, 'r') as csvfile:\n",
    "        lines = csvfile.readlines()\n",
    "        header = lines[0].strip().split(',')\n",
    "        score_index = header.index(\"SCORE\")\n",
    "        \n",
    "        for line in lines[1:]:\n",
    "            data = line.strip().split(',')\n",
    "            name = data[0]\n",
    "            score = int(data[score_index])\n",
    "            \n",
    "            if score > highest_score:\n",
    "                highest_score = score\n",
    "                highest_score_student = name\n",
    "    \n",
    "    if highest_score_student:\n",
    "        return highest_score_student, highest_score\n",
    "    else:\n",
    "        return None\n",
    "\n",
    "student, highest_score = find_student_highest_score(csv_filename)\n",
    "\n",
    "if student:\n",
    "    \n",
    "    print(f\"The student with the highest score is {student} with a score of {highest_score}.\")\n",
    "else:\n",
    "    print(\"No student data available.\")\n",
    "    \n",
    "\n",
    "def generate_bar_chart(csv_filename):\n",
    "    data = pd.read_csv(csv_filename)\n",
    "    categories = data['STUDENT NAME']\n",
    "    values = data['SCORE' ]\n",
    "    \n",
    "    plt.bar(categories, values)\n",
    "    plt.xlabel('STUDENT NAME')\n",
    "    plt.ylabel('SCORE ')\n",
    "    plt.title('Bar Chart from Student detail Data')\n",
    "    plt.show()\n",
    "\n",
    "# Example usage\n",
    "csv_filename = \"student detail.csv\"\n",
    "generate_bar_chart(csv_filename)\n"
   ]
  },
  {
   "cell_type": "code",
   "execution_count": null,
   "id": "1719c8f4",
   "metadata": {},
   "outputs": [],
   "source": [
    "# Write a function that reads a JSON file and extracts specific information from it2\n"
   ]
  },
  {
   "cell_type": "code",
   "execution_count": 171,
   "id": "20da99d0",
   "metadata": {},
   "outputs": [
    {
     "name": "stdout",
     "output_type": "stream",
     "text": [
      "     MinTemp  MaxTemp  Rainfall  Evaporation  Sunshine WindGustDir  \\\n",
      "0        8.0     24.3       0.0          3.4       6.3          NW   \n",
      "1       14.0     26.9       3.6          4.4       9.7         ENE   \n",
      "2       13.7     23.4       3.6          5.8       3.3          NW   \n",
      "3       13.3     15.5      39.8          7.2       9.1          NW   \n",
      "4        7.6     16.1       2.8          5.6      10.6         SSE   \n",
      "..       ...      ...       ...          ...       ...         ...   \n",
      "361      9.0     30.7       0.0          7.6      12.1         NNW   \n",
      "362      7.1     28.4       0.0         11.6      12.7           N   \n",
      "363     12.5     19.9       0.0          8.4       5.3         ESE   \n",
      "364     12.5     26.9       0.0          5.0       7.1          NW   \n",
      "365     12.3     30.2       0.0          6.0      12.6          NW   \n",
      "\n",
      "     WindGustSpeed WindDir9am WindDir3pm  WindSpeed9am  ...  Humidity3pm  \\\n",
      "0             30.0         SW         NW           6.0  ...           29   \n",
      "1             39.0          E          W           4.0  ...           36   \n",
      "2             85.0          N        NNE           6.0  ...           69   \n",
      "3             54.0        WNW          W          30.0  ...           56   \n",
      "4             50.0        SSE        ESE          20.0  ...           49   \n",
      "..             ...        ...        ...           ...  ...          ...   \n",
      "361           76.0        SSE         NW           7.0  ...           15   \n",
      "362           48.0        NNW        NNW           2.0  ...           22   \n",
      "363           43.0        ENE        ENE          11.0  ...           47   \n",
      "364           46.0        SSW        WNW           6.0  ...           39   \n",
      "365           78.0         NW        WNW          31.0  ...           13   \n",
      "\n",
      "     Pressure9am  Pressure3pm  Cloud9am  Cloud3pm  Temp9am  Temp3pm  \\\n",
      "0         1019.7       1015.0         7         7     14.4     23.6   \n",
      "1         1012.4       1008.4         5         3     17.5     25.7   \n",
      "2         1009.5       1007.2         8         7     15.4     20.2   \n",
      "3         1005.5       1007.0         2         7     13.5     14.1   \n",
      "4         1018.3       1018.5         7         7     11.1     15.4   \n",
      "..           ...          ...       ...       ...      ...      ...   \n",
      "361       1016.1       1010.8         1         3     20.4     30.0   \n",
      "362       1020.0       1016.9         0         1     17.2     28.2   \n",
      "363       1024.0       1022.8         3         2     14.5     18.3   \n",
      "364       1021.0       1016.2         6         7     15.8     25.9   \n",
      "365       1009.6       1009.2         1         1     23.8     28.6   \n",
      "\n",
      "     RainToday  RISK_MM RainTomorrow  \n",
      "0           No      3.6          Yes  \n",
      "1          Yes      3.6          Yes  \n",
      "2          Yes     39.8          Yes  \n",
      "3          Yes      2.8          Yes  \n",
      "4          Yes      0.0           No  \n",
      "..         ...      ...          ...  \n",
      "361         No      0.0           No  \n",
      "362         No      0.0           No  \n",
      "363         No      0.0           No  \n",
      "364         No      0.0           No  \n",
      "365         No      0.0           No  \n",
      "\n",
      "[366 rows x 22 columns]\n",
      "Error: 'day'\n",
      "No temperature data available.\n"
     ]
    }
   ],
   "source": [
    "# Given a CSV file with temperature data for each day of the week, find the average temperature for each day.\n",
    "\n",
    "csv_file = pd.read_csv(\"weather.csv\")\n",
    "print(csv_file)\n",
    "\n",
    "def calculate_average_temperature(csv_filename):\n",
    "    try:\n",
    "        data = pd.read_csv(csv_filename)\n",
    "        average_temperatures = data.groupby('day')['temperature'].mean()\n",
    "        return average_temperatures\n",
    "    except Exception as e:\n",
    "        print(\"Error:\", e)\n",
    "        return None\n",
    "\n",
    "average_temperatures = calculate_average_temperature(csv_filename)\n",
    "\n",
    "if average_temperatures is not None:\n",
    "    print(\"Average temperatures for each day:\")\n",
    "    print(average_temperatures)\n",
    "else:\n",
    "    print(\"No temperature data available.\")\n",
    "\n"
   ]
  },
  {
   "cell_type": "markdown",
   "id": "f4faf9c5",
   "metadata": {},
   "source": [
    "# OOPS "
   ]
  },
  {
   "cell_type": "code",
   "execution_count": 178,
   "id": "27dc5455",
   "metadata": {},
   "outputs": [
    {
     "name": "stdout",
     "output_type": "stream",
     "text": [
      "Addition: 8\n",
      "Subtraction: 6\n",
      "Multiplication: 12\n",
      "Division: 5.0\n"
     ]
    }
   ],
   "source": [
    "# Create a class to represent a basic calculator with add,subtract, multiply, and divide methods.\n",
    "\n",
    "class calculator:\n",
    "    def addition(cls , a, b):\n",
    "        return a + b\n",
    "    \n",
    "    def substaction(cls , a, b):\n",
    "        return a - b\n",
    "\n",
    "    def multiplication(cls , a, b):\n",
    "        return a * b\n",
    "\n",
    "    def division(cls , a, b):\n",
    "        if b == 0:\n",
    "            raise ValueError(\"cannot divided by zero\")\n",
    "        return a / b\n",
    "    \n",
    "cal = calculator()\n",
    "\n",
    "print(\"Addition:\", cal.addition(5, 3))\n",
    "print(\"Subtraction:\", cal.substaction(10, 4))\n",
    "print(\"Multiplication:\", cal.multiplication(6, 2))\n",
    "print(\"Division:\", cal.division(15, 3))\n"
   ]
  },
  {
   "cell_type": "code",
   "execution_count": 188,
   "id": "b49aada4",
   "metadata": {},
   "outputs": [
    {
     "name": "stdout",
     "output_type": "stream",
     "text": [
      "Book 1 Info:\n",
      "Title: The Great Gatsby\n",
      "Author: F. Scott Fitzgerald\n",
      "Publication Year: 1925\n",
      "\n",
      "Book 2 Info:\n",
      "Title: To Kill a Mockingbird\n",
      "Author: Harper Lee\n",
      "Publication Year: 1960\n"
     ]
    }
   ],
   "source": [
    "# Create a class to represent a book with attributes like title, author, and publication year.\n",
    "\n",
    "class book:\n",
    "    def __init__(self, title, author, publication_year):\n",
    "        self.title = title\n",
    "        self.author = author\n",
    "        self.publication_year = publication_year\n",
    "        \n",
    "        \n",
    "    def title(self):\n",
    "        return self._title\n",
    "    \n",
    "    def author(self):\n",
    "        return self._author\n",
    "    \n",
    "    def publication_year(self):\n",
    "        return self._publication_year\n",
    "    \n",
    "    def display_info(self):\n",
    "        return f\"Title: {self.title}\\nAuthor: {self.author}\\nPublication Year: {self.publication_year}\"\n",
    "    \n",
    "book1 = book(\"The Great Gatsby\", \"F. Scott Fitzgerald\", 1925)\n",
    "book2 = book(\"To Kill a Mockingbird\", \"Harper Lee\", 1960)\n",
    "\n",
    "    \n",
    "print(\"Book 1 Info:\")\n",
    "print(book1.display_info())\n",
    "print(\"\\nBook 2 Info:\")\n",
    "print(book2.display_info())\n",
    "    \n",
    "\n",
    " "
   ]
  },
  {
   "cell_type": "code",
   "execution_count": null,
   "id": "076f0985",
   "metadata": {},
   "outputs": [],
   "source": []
  },
  {
   "cell_type": "code",
   "execution_count": 18,
   "id": "c16770df",
   "metadata": {},
   "outputs": [
    {
     "name": "stdout",
     "output_type": "stream",
     "text": [
      "Circle with radius 5:\n",
      "Area: 78.54\n",
      "Circumference: 31.42\n"
     ]
    }
   ],
   "source": [
    "# Define a class for a Circle with methods to calculate its area and circumference.\n",
    "\n",
    "import math\n",
    "\n",
    "class Circle:\n",
    "    def __init__(self, radius):\n",
    "        self._radius = radius\n",
    "    \n",
    "    @property\n",
    "    def radius(self):\n",
    "        return self._radius\n",
    "    @property\n",
    "    def area(self):\n",
    "        return math.pi * self._radius ** 2\n",
    "    @property\n",
    "    def circumference(self):\n",
    "        return 2 * math.pi * self._radius\n",
    "radius = 5\n",
    "circle = Circle(radius)\n",
    "\n",
    "print(f\"Circle with radius {circle.radius}:\")\n",
    "print(f\"Area: {circle.area:.2f}\")\n",
    "print(f\"Circumference: {circle.circumference:.2f}\")\n"
   ]
  },
  {
   "cell_type": "code",
   "execution_count": 190,
   "id": "0b4dbe17",
   "metadata": {},
   "outputs": [
    {
     "name": "stdout",
     "output_type": "stream",
     "text": [
      "Student 1 Info:\n",
      "Name: Alice\n",
      "Age: 20\n",
      "Grades: 85, 90, 78\n",
      "\n",
      "Student 2 Info:\n",
      "Name: Bob\n",
      "Age: 22\n",
      "Grades: 70, 88, 95\n"
     ]
    }
   ],
   "source": [
    "# Create a class to represent a Student with attributes like name, age, and grades\n",
    "\n",
    "class Student:\n",
    "    def __init__(self, name, age, grades):\n",
    "        self.name = name\n",
    "        self.age = age\n",
    "        self.grades = grades\n",
    "    \n",
    "    def display_info(self):\n",
    "        return f\"Name: {self.name}\\nAge: {self.age}\\nGrades: {', '.join(map(str, self.grades))}\"\n",
    "\n",
    "student1 = Student(\"Alice\", 20, [85, 90, 78])\n",
    "student2 = Student(\"Bob\", 22, [70, 88, 95])\n",
    "\n",
    "print(\"Student 1 Info:\")\n",
    "print(student1.display_info())\n",
    "print(\"\\nStudent 2 Info:\")\n",
    "print(student2.display_info())\n"
   ]
  },
  {
   "cell_type": "code",
   "execution_count": 199,
   "id": "42f0829e",
   "metadata": {},
   "outputs": [
    {
     "name": "stdout",
     "output_type": "stream",
     "text": [
      "Employee 1 Info:\n",
      "Name: komal\n",
      "Position: junior\n",
      "Salary: $30000\n",
      "\n",
      "Employee 2 Info:\n",
      "Name: chirag\n",
      "Position: senior\n",
      "Salary: $50000\n"
     ]
    }
   ],
   "source": [
    "# Given a CSV file with employee details (name, position,salary), create a class to represent an Employee\n",
    "\n",
    "class Employee:\n",
    "    def __init__(self, name, position, salary):\n",
    "        self.name = name\n",
    "        self.position = position\n",
    "        self.salary = salary\n",
    "    \n",
    "    def display_info(self):\n",
    "        return f\"Name: {self.name}\\nPosition: {self.position}\\nSalary: ${self.salary}\"\n",
    "\n",
    "\n",
    "employee1 = Employee(\"komal\", \"junior\", 30000)\n",
    "employee2 = Employee(\"chirag\", \"senior\", 50000)\n",
    "\n",
    "print(\"Employee 1 Info:\")\n",
    "print(employee1.display_info())\n",
    "print(\"\\nEmployee 2 Info:\")\n",
    "print(employee2.display_info())\n",
    "\n"
   ]
  },
  {
   "cell_type": "code",
   "execution_count": 200,
   "id": "78d2c023",
   "metadata": {},
   "outputs": [
    {
     "name": "stdout",
     "output_type": "stream",
     "text": [
      "Account Info:\n",
      "Account Holder: Alice\n",
      "Balance: $1000.00\n",
      "\n",
      " Deposited $500. New balance: $1500.00\n",
      "\n",
      " Withdrawn $300. New balance: $1200.00\n"
     ]
    }
   ],
   "source": [
    "# Implement a program that simulates a basic bank account using a BankAccount class\n",
    "\n",
    "class BankAccount:\n",
    "    def __init__(self, account_holder, initial_balance=0):\n",
    "        self._account_holder = account_holder\n",
    "        self._balance = initial_balance\n",
    "    \n",
    "    @property\n",
    "    def account_holder(self):\n",
    "        return self._account_holder\n",
    "    \n",
    "    @property\n",
    "    def balance(self):\n",
    "        return self._balance\n",
    "    \n",
    "    def transaction(self, amount):\n",
    "        if amount > 0:\n",
    "            self._balance += amount\n",
    "            return f\"Deposited ${amount}. New balance: ${self._balance:.2f}\"\n",
    "        elif 0 > amount >= -self._balance:\n",
    "            self._balance += amount\n",
    "            return f\"Withdrawn ${-amount}. New balance: ${self._balance:.2f}\"\n",
    "        else:\n",
    "            return \"Invalid transaction\"\n",
    "    \n",
    "    def display_info(self):\n",
    "        return f\"Account Holder: {self.account_holder}\\nBalance: ${self.balance:.2f}\"\n",
    "\n",
    "# Example usage\n",
    "account_holder = \"Alice\"\n",
    "initial_balance = 1000\n",
    "account = BankAccount(account_holder, initial_balance)\n",
    "\n",
    "print(\"Account Info:\")\n",
    "print(account.display_info())\n",
    "\n",
    "transaction_amount = 500\n",
    "print(\"\\n\", account.transaction(transaction_amount))\n",
    "\n",
    "transaction_amount = -300\n",
    "print(\"\\n\", account.transaction(transaction_amount))\n"
   ]
  },
  {
   "cell_type": "code",
   "execution_count": 201,
   "id": "6821a2e7",
   "metadata": {},
   "outputs": [
    {
     "name": "stdout",
     "output_type": "stream",
     "text": [
      "Rectangle with width 5 and height 8:\n",
      "Area: 40\n",
      "Perimeter: 26\n"
     ]
    }
   ],
   "source": [
    "# Write a Python program that uses a Rectangle class to calculate the area and perimeter of a rectangle\n",
    "\n",
    "\n",
    "class Rectangle:\n",
    "    def __init__(self, width, height):\n",
    "        self.width = width\n",
    "        self.height = height\n",
    "    \n",
    "    def calculate_area(self):\n",
    "        return self.width * self.height\n",
    "    \n",
    "    def calculate_perimeter(self):\n",
    "        return 2 * (self.width + self.height)\n",
    "\n",
    "# Example usage\n",
    "width = 5\n",
    "height = 8\n",
    "rectangle = Rectangle(width, height)\n",
    "\n",
    "area = rectangle.calculate_area()\n",
    "perimeter = rectangle.calculate_perimeter()\n",
    "\n",
    "print(f\"Rectangle with width {width} and height {height}:\")\n",
    "print(f\"Area: {area}\")\n",
    "print(f\"Perimeter: {perimeter}\")\n"
   ]
  },
  {
   "cell_type": "code",
   "execution_count": 202,
   "id": "d0dd7e4d",
   "metadata": {},
   "outputs": [
    {
     "name": "stdout",
     "output_type": "stream",
     "text": [
      "Car 1 Info:\n",
      "Make: Toyota\n",
      "Model: Camry\n",
      "Year: 2022\n",
      "\n",
      "Car 2 Info:\n",
      "Make: Honda\n",
      "Model: Civic\n",
      "Year: 2021\n"
     ]
    }
   ],
   "source": [
    "# Create a class to represent a Car with attributes like make, model, and year\n",
    "\n",
    "\n",
    "class Car:\n",
    "    def __init__(self, make, model, year):\n",
    "        self.make = make\n",
    "        self.model = model\n",
    "        self.year = year\n",
    "    \n",
    "    def display_info(self):\n",
    "        return f\"Make: {self.make}\\nModel: {self.model}\\nYear: {self.year}\"\n",
    "\n",
    "# Example usage\n",
    "car1 = Car(\"Toyota\", \"Camry\", 2022)\n",
    "car2 = Car(\"Honda\", \"Civic\", 2021)\n",
    "\n",
    "print(\"Car 1 Info:\")\n",
    "print(car1.display_info())\n",
    "print(\"\\nCar 2 Info:\")\n",
    "print(car2.display_info())\n"
   ]
  },
  {
   "cell_type": "code",
   "execution_count": null,
   "id": "51d4b9ba",
   "metadata": {},
   "outputs": [],
   "source": [
    "# Given a JSON file with customer data, create a Customer class to store and manipulate the data\n"
   ]
  },
  {
   "cell_type": "code",
   "execution_count": 203,
   "id": "6118b562",
   "metadata": {},
   "outputs": [
    {
     "name": "stdout",
     "output_type": "stream",
     "text": [
      "Person 1 Info:\n",
      "Name: Alice\n",
      "Age: 25\n",
      "Address: 123 Main St, Cityville\n",
      "\n",
      "Person 2 Info:\n",
      "Name: Bob\n",
      "Age: 30\n",
      "Address: 456 Elm St, Townville\n"
     ]
    }
   ],
   "source": [
    "# Write a program that uses a Person class to keep track of a person's name, age, and address\n",
    "\n",
    "class Person:\n",
    "    def __init__(self, name, age, address):\n",
    "        self.name = name\n",
    "        self.age = age\n",
    "        self.address = address\n",
    "    \n",
    "    def display_info(self):\n",
    "        return f\"Name: {self.name}\\nAge: {self.age}\\nAddress: {self.address}\"\n",
    "\n",
    "person1 = Person(\"Alice\", 25, \"123 Main St, Cityville\")\n",
    "person2 = Person(\"Bob\", 30, \"456 Elm St, Townville\")\n",
    "\n",
    "print(\"Person 1 Info:\")\n",
    "print(person1.display_info())\n",
    "print(\"\\nPerson 2 Info:\")\n",
    "print(person2.display_info())\n"
   ]
  },
  {
   "cell_type": "code",
   "execution_count": 204,
   "id": "df271f21",
   "metadata": {},
   "outputs": [
    {
     "name": "stdout",
     "output_type": "stream",
     "text": [
      "Circle 1:\n",
      "Area: 78.54\n",
      "Circumference: 31.42\n",
      "\n",
      "Circle 2:\n",
      "Area: 153.94\n",
      "Circumference: 43.98\n",
      "\n",
      "Circle 3:\n",
      "Area: 28.27\n",
      "Circumference: 18.85\n",
      "\n"
     ]
    }
   ],
   "source": [
    "# Implement a program that uses a Circle class to calculate the area and circumference of multiple circles\n",
    "\n",
    "import math\n",
    "\n",
    "class Circle:\n",
    "    def __init__(self, radius):\n",
    "        self.radius = radius\n",
    "    \n",
    "    def calculate_area(self):\n",
    "        return math.pi * self.radius ** 2\n",
    "    \n",
    "    def calculate_circumference(self):\n",
    "        return 2 * math.pi * self.radius\n",
    "\n",
    "circles = [\n",
    "    Circle(5),\n",
    "    Circle(7),\n",
    "    Circle(3)\n",
    "]\n",
    "\n",
    "for i, circle in enumerate(circles, start=1):\n",
    "    print(f\"Circle {i}:\")\n",
    "    print(f\"Area: {circle.calculate_area():.2f}\")\n",
    "    print(f\"Circumference: {circle.calculate_circumference():.2f}\")\n",
    "    print()\n"
   ]
  },
  {
   "cell_type": "code",
   "execution_count": null,
   "id": "66132d54",
   "metadata": {},
   "outputs": [],
   "source": [
    "# Given a CSV file with product details (name, price,quantity), create a Product class to manage the data"
   ]
  },
  {
   "cell_type": "code",
   "execution_count": 205,
   "id": "55c7b2b2",
   "metadata": {},
   "outputs": [
    {
     "name": "stdout",
     "output_type": "stream",
     "text": [
      "Movie 1 Info:\n",
      "Title: Inception\n",
      "Director: Christopher Nolan\n",
      "Rating: PG-13\n",
      "\n",
      "Movie 2 Info:\n",
      "Title: The Shawshank Redemption\n",
      "Director: Frank Darabont\n",
      "Rating: R\n"
     ]
    }
   ],
   "source": [
    "# Create a class to represent a Movie with attributes like title, director, and rating.\n",
    "\n",
    "class Movie:\n",
    "    def __init__(self, title, director, rating):\n",
    "        self.title = title\n",
    "        self.director = director\n",
    "        self.rating = rating\n",
    "    \n",
    "    def display_info(self):\n",
    "        return f\"Title: {self.title}\\nDirector: {self.director}\\nRating: {self.rating}\"\n",
    "\n",
    "# Example usage\n",
    "movie1 = Movie(\"Inception\", \"Christopher Nolan\", \"PG-13\")\n",
    "movie2 = Movie(\"The Shawshank Redemption\", \"Frank Darabont\", \"R\")\n",
    "\n",
    "print(\"Movie 1 Info:\")\n",
    "print(movie1.display_info())\n",
    "print(\"\\nMovie 2 Info:\")\n",
    "print(movie2.display_info())\n"
   ]
  },
  {
   "cell_type": "markdown",
   "id": "17bb5dcb",
   "metadata": {},
   "source": [
    "# Inheritance and encalsulation"
   ]
  },
  {
   "cell_type": "code",
   "execution_count": 206,
   "id": "37d03f7d",
   "metadata": {},
   "outputs": [
    {
     "name": "stdout",
     "output_type": "stream",
     "text": [
      "Dog sound: Woof!\n",
      "Cat sound: Meow!\n"
     ]
    }
   ],
   "source": [
    "# Create a base class Animal with a method sound() and create derived classes Dog and Cat with their own sound().\n",
    "\n",
    "class Animal:\n",
    "    def sound(self):\n",
    "        pass\n",
    "\n",
    "class Dog(Animal):\n",
    "    def sound(self):\n",
    "        return \"Woof!\"\n",
    "\n",
    "class Cat(Animal):\n",
    "    def sound(self):\n",
    "        return \"Meow!\"\n",
    "\n",
    "# Example usage\n",
    "dog = Dog()\n",
    "cat = Cat()\n",
    "\n",
    "print(\"Dog sound:\", dog.sound())\n",
    "print(\"Cat sound:\", cat.sound())\n",
    " \n"
   ]
  },
  {
   "cell_type": "code",
   "execution_count": 208,
   "id": "d6cceeff",
   "metadata": {},
   "outputs": [
    {
     "name": "stdout",
     "output_type": "stream",
     "text": [
      "Car Info:\n",
      "Make: Toyota\n",
      "Model: Camry\n",
      "Year: 2022\n",
      "Number of Doors: 4\n",
      "\n",
      "Bike Info:\n",
      "Make: Trek\n",
      "Model: Mountain Bike\n",
      "Year: 2021\n",
      "Wheel Size: 27 inches\n"
     ]
    }
   ],
   "source": [
    "# Implement a class hierarchy to represent different types of vehicles (Car, Bike) with their own attributes and methods.\n",
    "\n",
    "class Vehicle:\n",
    "    def __init__(self, make, model, year):\n",
    "        self.make = make\n",
    "        self.model = model\n",
    "        self.year = year\n",
    "    \n",
    "    def display_info(self):\n",
    "        return f\"Make: {self.make}\\nModel: {self.model}\\nYear: {self.year}\"\n",
    "\n",
    "class Car(Vehicle):\n",
    "    def __init__(self, make, model, year, num_doors):\n",
    "        super().__init__(make, model, year)\n",
    "        self.num_doors = num_doors\n",
    "    \n",
    "    def display_info(self):\n",
    "        return super().display_info() + f\"\\nNumber of Doors: {self.num_doors}\"\n",
    "\n",
    "class Bike(Vehicle):\n",
    "    def __init__(self, make, model, year, wheel_size):\n",
    "        super().__init__(make, model, year)\n",
    "        self.wheel_size = wheel_size\n",
    "    \n",
    "    def display_info(self):\n",
    "        return super().display_info() + f\"\\nWheel Size: {self.wheel_size}\"\n",
    "    \n",
    "car = Car(\"Toyota\", \"Camry\", 2022, 4)\n",
    "bike = Bike(\"Trek\", \"Mountain Bike\", 2021, \"27 inches\")\n",
    "\n",
    "print(\"Car Info:\")\n",
    "print(car.display_info())\n",
    "print(\"\\nBike Info:\")\n",
    "print(bike.display_info())\n"
   ]
  },
  {
   "cell_type": "code",
   "execution_count": 209,
   "id": "647be3db",
   "metadata": {},
   "outputs": [
    {
     "name": "stdout",
     "output_type": "stream",
     "text": [
      "Before Setting:\n",
      "Name: Alice\n",
      "Age: 30\n",
      "\n",
      "After Setting:\n",
      "Name: Bob\n",
      "Age: 25\n"
     ]
    }
   ],
   "source": [
    "# Create a class Person with private attributes and define methods to get and set the values of those attributes.\n",
    "\n",
    "class Person:\n",
    "    def __init__(self, name, age):\n",
    "        self.__name = name  \n",
    "        self.__age = age    \n",
    "    \n",
    "    def get_name(self):\n",
    "        return self.__name\n",
    "    \n",
    "    def get_age(self):\n",
    "        return self.__age\n",
    "    \n",
    "    # Setter methods\n",
    "    def set_name(self, name):\n",
    "        self.__name = name\n",
    "    \n",
    "    def set_age(self, age):\n",
    "        self.__age = age\n",
    "    \n",
    "    def display_info(self):\n",
    "        return f\"Name: {self.__name}\\nAge: {self.__age}\"\n",
    "\n",
    "person = Person(\"Alice\", 30)\n",
    "\n",
    "print(\"Before Setting:\")\n",
    "print(person.display_info())\n",
    "\n",
    "person.set_name(\"Bob\")\n",
    "person.set_age(25)\n",
    "\n",
    "print(\"\\nAfter Setting:\")\n",
    "print(person.display_info())\n"
   ]
  },
  {
   "cell_type": "code",
   "execution_count": 211,
   "id": "056ab66f",
   "metadata": {},
   "outputs": [
    {
     "name": "stdout",
     "output_type": "stream",
     "text": [
      "Shape: Circle\n",
      "Area: 78.54\n",
      "Perimeter: 31.42\n",
      "\n",
      "Shape: Square\n",
      "Area: 16.00\n",
      "Perimeter: 16.00\n",
      "\n"
     ]
    }
   ],
   "source": [
    "# Create a base class Shape with methods to calculate area and perimeter, and derive classes Circle and Square\n",
    "\n",
    "import math\n",
    "\n",
    "class Shape:\n",
    "    def area(self):\n",
    "        pass\n",
    "    \n",
    "    def perimeter(self):\n",
    "        pass\n",
    "\n",
    "class Circle(Shape):\n",
    "    def __init__(self, radius):\n",
    "        self.radius = radius\n",
    "    \n",
    "    def area(self):\n",
    "        return math.pi * self.radius ** 2\n",
    "    \n",
    "    def perimeter(self):\n",
    "        return 2 * math.pi * self.radius\n",
    "\n",
    "class Square(Shape):\n",
    "    def __init__(self, side_length):\n",
    "        self.side_length = side_length\n",
    "    \n",
    "    def area(self):\n",
    "        return self.side_length ** 2\n",
    "    \n",
    "    def perimeter(self):\n",
    "        return 4 * self.side_length\n",
    "\n",
    "circle = Circle(5)\n",
    "square = Square(4)\n",
    "\n",
    "shapes = [circle, square]\n",
    "\n",
    "for shape in shapes:\n",
    "    print(f\"Shape: {type(shape).__name__}\")\n",
    "    print(f\"Area: {shape.area():.2f}\")\n",
    "    print(f\"Perimeter: {shape.perimeter():.2f}\")\n",
    "    print()\n"
   ]
  },
  {
   "cell_type": "code",
   "execution_count": 212,
   "id": "80f80b13",
   "metadata": {},
   "outputs": [
    {
     "name": "stdout",
     "output_type": "stream",
     "text": [
      "Manager Info:\n",
      "Name: Alice\n",
      "Employee ID: M123\n",
      "Department: HR\n",
      "\n",
      "Engineer Info:\n",
      "Name: Bob\n",
      "Employee ID: E456\n",
      "Programming Language: Python\n"
     ]
    }
   ],
   "source": [
    "# Implement a class hierarchy to represent different types of employees (Manager, Engineer) with their attributes\n",
    "\n",
    "class Employee:\n",
    "    def __init__(self, name, employee_id):\n",
    "        self.name = name\n",
    "        self.employee_id = employee_id\n",
    "\n",
    "class Manager(Employee):\n",
    "    def __init__(self, name, employee_id, department):\n",
    "        super().__init__(name, employee_id)\n",
    "        self.department = department\n",
    "\n",
    "class Engineer(Employee):\n",
    "    def __init__(self, name, employee_id, programming_language):\n",
    "        super().__init__(name, employee_id)\n",
    "        self.programming_language = programming_language\n",
    "\n",
    "# Example usage\n",
    "manager = Manager(\"Alice\", \"M123\", \"HR\")\n",
    "engineer = Engineer(\"Bob\", \"E456\", \"Python\")\n",
    "\n",
    "print(\"Manager Info:\")\n",
    "print(\"Name:\", manager.name)\n",
    "print(\"Employee ID:\", manager.employee_id)\n",
    "print(\"Department:\", manager.department)\n",
    "print()\n",
    "\n",
    "print(\"Engineer Info:\")\n",
    "print(\"Name:\", engineer.name)\n",
    "print(\"Employee ID:\", engineer.employee_id)\n",
    "print(\"Programming Language:\", engineer.programming_language)\n"
   ]
  },
  {
   "cell_type": "code",
   "execution_count": 213,
   "id": "2fe3dc50",
   "metadata": {},
   "outputs": [
    {
     "name": "stdout",
     "output_type": "stream",
     "text": [
      "Shape: Triangle\n",
      "Area: 24.00\n",
      "Perimeter: 18.00\n",
      "\n",
      "Shape: Rectangle\n",
      "Area: 28.00\n",
      "Perimeter: 22.00\n",
      "\n",
      "Shape: Circle\n",
      "Area: 78.54\n",
      "Perimeter: 31.42\n",
      "\n"
     ]
    }
   ],
   "source": [
    "# Write a Python program that uses inheritance to represent a hierarchy of shapes (Triangle, Rectangle,etc.)\n",
    "\n",
    "import math\n",
    "\n",
    "class Shape:\n",
    "    def area(self):\n",
    "        pass\n",
    "    \n",
    "    def perimeter(self):\n",
    "        pass\n",
    "\n",
    "class Triangle(Shape):\n",
    "    def __init__(self, base, height):\n",
    "        self.base = base\n",
    "        self.height = height\n",
    "    \n",
    "    def area(self):\n",
    "        return 0.5 * self.base * self.height\n",
    "    \n",
    "    def perimeter(self):\n",
    "        # For simplicity, assuming an equilateral triangle\n",
    "        return 3 * self.base\n",
    "\n",
    "class Rectangle(Shape):\n",
    "    def __init__(self, width, height):\n",
    "        self.width = width\n",
    "        self.height = height\n",
    "    \n",
    "    def area(self):\n",
    "        return self.width * self.height\n",
    "    \n",
    "    def perimeter(self):\n",
    "        return 2 * (self.width + self.height)\n",
    "\n",
    "class Circle(Shape):\n",
    "    def __init__(self, radius):\n",
    "        self.radius = radius\n",
    "    \n",
    "    def area(self):\n",
    "        return math.pi * self.radius ** 2\n",
    "    \n",
    "    def perimeter(self):\n",
    "        return 2 * math.pi * self.radius\n",
    "\n",
    "# Example usage\n",
    "triangle = Triangle(6, 8)\n",
    "rectangle = Rectangle(4, 7)\n",
    "circle = Circle(5)\n",
    "\n",
    "shapes = [triangle, rectangle, circle]\n",
    "\n",
    "for shape in shapes:\n",
    "    print(f\"Shape: {type(shape).__name__}\")\n",
    "    print(f\"Area: {shape.area():.2f}\")\n",
    "    print(f\"Perimeter: {shape.perimeter():.2f}\")\n",
    "    print()\n"
   ]
  },
  {
   "cell_type": "code",
   "execution_count": 214,
   "id": "130b27d4",
   "metadata": {},
   "outputs": [
    {
     "name": "stdout",
     "output_type": "stream",
     "text": [
      "Animal: Bird\n",
      "Name: Sparrow\n",
      "Habitat: Air\n",
      "Sound: Chirp!\n",
      "\n",
      "Animal: Fish\n",
      "Name: Goldfish\n",
      "Habitat: Water\n",
      "Sound: Bloop!\n",
      "\n"
     ]
    }
   ],
   "source": [
    "# Create a class hierarchy to represent different types of animals (Bird, Fish) with their own attributes and methods\n",
    "\n",
    "class Animal:\n",
    "    def __init__(self, name, habitat):\n",
    "        self.name = name\n",
    "        self.habitat = habitat\n",
    "    \n",
    "    def speak(self):\n",
    "        pass\n",
    "\n",
    "class Bird(Animal):\n",
    "    def __init__(self, name, habitat, wingspan):\n",
    "        super().__init__(name, habitat)\n",
    "        self.wingspan = wingspan\n",
    "    \n",
    "    def speak(self):\n",
    "        return \"Chirp!\"\n",
    "\n",
    "class Fish(Animal):\n",
    "    def __init__(self, name, habitat, color):\n",
    "        super().__init__(name, habitat)\n",
    "        self.color = color\n",
    "    \n",
    "    def speak(self):\n",
    "        return \"Bloop!\"\n",
    "\n",
    "# Example usage\n",
    "bird = Bird(\"Sparrow\", \"Air\", 15)\n",
    "fish = Fish(\"Goldfish\", \"Water\", \"Orange\")\n",
    "\n",
    "animals = [bird, fish]\n",
    "\n",
    "for animal in animals:\n",
    "    print(f\"Animal: {type(animal).__name__}\")\n",
    "    print(f\"Name: {animal.name}\")\n",
    "    print(f\"Habitat: {animal.habitat}\")\n",
    "    print(f\"Sound: {animal.speak()}\")\n",
    "    print()\n"
   ]
  },
  {
   "cell_type": "code",
   "execution_count": null,
   "id": "324db71d",
   "metadata": {},
   "outputs": [],
   "source": [
    "# Given a JSON file with product details (name, price,quantity), create a Product class with encapsulated attributes\n"
   ]
  },
  {
   "cell_type": "code",
   "execution_count": 215,
   "id": "30be8d6d",
   "metadata": {},
   "outputs": [
    {
     "name": "stdout",
     "output_type": "stream",
     "text": [
      "Username: alice\n",
      "Email: alice@example.com\n"
     ]
    }
   ],
   "source": [
    "# Write a Python program that uses encapsulation to protect sensitive information in a User class.\n",
    "\n",
    "class User:\n",
    "    def __init__(self, username, email, password):\n",
    "        self.__username = username  # Private attribute\n",
    "        self.__email = email        # Private attribute\n",
    "        self.__password = password  # Private attribute\n",
    "    \n",
    "    # Getter methods\n",
    "    def get_username(self):\n",
    "        return self.__username\n",
    "    \n",
    "    def get_email(self):\n",
    "        return self.__email\n",
    "    \n",
    "    # Setter method for password (optional)\n",
    "    def set_password(self, new_password):\n",
    "        self.__password = new_password\n",
    "\n",
    "user = User(\"alice\", \"alice@example.com\", \"secret\")\n",
    "\n",
    "print(\"Username:\", user.get_username())\n",
    "print(\"Email:\", user.get_email())\n",
    "\n",
    "user.set_password(\"new_secret\")"
   ]
  },
  {
   "cell_type": "code",
   "execution_count": 217,
   "id": "7c830750",
   "metadata": {},
   "outputs": [
    {
     "name": "stdout",
     "output_type": "stream",
     "text": [
      "Phone Info:\n",
      "Brand: Apple\n",
      "Model: iPhone 13\n",
      "Price: $999.00\n",
      "Screen Size: 6.1 inches\n",
      "\n",
      "Laptop Info:\n",
      "Brand: Dell\n",
      "Model: XPS 15\n",
      "Price: $1499.00\n",
      "Processor: Intel Core i7\n",
      "\n"
     ]
    }
   ],
   "source": [
    "# Create a class hierarchy to represent different types of electronics (Phone, Laptop) with their attributes\n",
    "\n",
    "class Electronics:\n",
    "    def __init__(self, brand, model, price):\n",
    "        self.brand = brand\n",
    "        self.model = model\n",
    "        self.price = price\n",
    "    \n",
    "    def display_info(self):\n",
    "        return f\"Brand: {self.brand}\\nModel: {self.model}\\nPrice: ${self.price:.2f}\"\n",
    "\n",
    "class Phone(Electronics):\n",
    "    def __init__(self, brand, model, price, screen_size):\n",
    "        super().__init__(brand, model, price)\n",
    "        self.screen_size = screen_size\n",
    "    \n",
    "    def display_info(self):\n",
    "        return super().display_info() + f\"\\nScreen Size: {self.screen_size} inches\"\n",
    "\n",
    "class Laptop(Electronics):\n",
    "    def __init__(self, brand, model, price, processor):\n",
    "        super().__init__(brand, model, price)\n",
    "        self.processor = processor\n",
    "    \n",
    "    def display_info(self):\n",
    "        return super().display_info() + f\"\\nProcessor: {self.processor}\"\n",
    "\n",
    "# Example usage\n",
    "phone = Phone(\"Apple\", \"iPhone 13\", 999, 6.1)\n",
    "laptop = Laptop(\"Dell\", \"XPS 15\", 1499, \"Intel Core i7\")\n",
    "\n",
    "electronics = [phone, laptop]\n",
    "\n",
    "for item in electronics:\n",
    "    print(f\"{type(item).__name__} Info:\")\n",
    "    print(item.display_info())\n",
    "    print()\n"
   ]
  },
  {
   "cell_type": "code",
   "execution_count": null,
   "id": "e227e3f6",
   "metadata": {},
   "outputs": [],
   "source": [
    "# Given a CSV file with employee details (name, position,salary), create an Employee class with private attributes"
   ]
  },
  {
   "cell_type": "code",
   "execution_count": 216,
   "id": "754f0cff",
   "metadata": {},
   "outputs": [
    {
     "name": "stdout",
     "output_type": "stream",
     "text": [
      "Shape: Circle\n",
      "Area: 78.54\n",
      "Perimeter: 31.42\n",
      "\n",
      "Shape: Triangle\n",
      "Area: 24.00\n",
      "Perimeter: 18.00\n",
      "\n",
      "Shape: Rectangle\n",
      "Area: 28.00\n",
      "Perimeter: 22.00\n",
      "\n"
     ]
    }
   ],
   "source": [
    "# Implement a program that uses inheritance to represent a hierarchy of shapes (Circle, Triangle, Rectangle, etc.)\n",
    "\n",
    "import math\n",
    "\n",
    "class Shape:\n",
    "    def area(self):\n",
    "        pass\n",
    "    \n",
    "    def perimeter(self):\n",
    "        pass\n",
    "\n",
    "class Circle(Shape):\n",
    "    def __init__(self, radius):\n",
    "        self.radius = radius\n",
    "    \n",
    "    def area(self):\n",
    "        return math.pi * self.radius ** 2\n",
    "    \n",
    "    def perimeter(self):\n",
    "        return 2 * math.pi * self.radius\n",
    "\n",
    "class Triangle(Shape):\n",
    "    def __init__(self, base, height):\n",
    "        self.base = base\n",
    "        self.height = height\n",
    "    \n",
    "    def area(self):\n",
    "        return 0.5 * self.base * self.height\n",
    "    \n",
    "    def perimeter(self):\n",
    "        # For simplicity, assuming an equilateral triangle\n",
    "        return 3 * self.base\n",
    "\n",
    "class Rectangle(Shape):\n",
    "    def __init__(self, width, height):\n",
    "        self.width = width\n",
    "        self.height = height\n",
    "    \n",
    "    def area(self):\n",
    "        return self.width * self.height\n",
    "    \n",
    "    def perimeter(self):\n",
    "        return 2 * (self.width + self.height)\n",
    "\n",
    "# Example usage\n",
    "shapes = [\n",
    "    Circle(5),\n",
    "    Triangle(6, 8),\n",
    "    Rectangle(4, 7)\n",
    "]\n",
    "\n",
    "for shape in shapes:\n",
    "    print(f\"Shape: {type(shape).__name__}\")\n",
    "    print(f\"Area: {shape.area():.2f}\")\n",
    "    print(f\"Perimeter: {shape.perimeter():.2f}\")\n",
    "    print()\n"
   ]
  },
  {
   "cell_type": "markdown",
   "id": "94d7e0c8",
   "metadata": {},
   "source": [
    "# Numpy"
   ]
  },
  {
   "cell_type": "code",
   "execution_count": 236,
   "id": "9470d199",
   "metadata": {},
   "outputs": [
    {
     "name": "stdout",
     "output_type": "stream",
     "text": [
      "[3 4 5 6 7 8]\n",
      "[ 5 10 15 20 25 30]\n",
      "[-5 -4 -3 -2 -1  0]\n"
     ]
    }
   ],
   "source": [
    "# Create a NumPy array from a Python list and perform basic operations like addition, multiplication, etc.\n",
    "\n",
    "import numpy as np\n",
    "\n",
    "my_list = [1,2,3,4,5,6]\n",
    "np_arr = np.array(my_list)\n",
    "\n",
    "addition = np_arr + 2\n",
    "multiply = np_arr * 5\n",
    "subsract = np_arr - 6\n",
    "\n",
    "print(addition)\n",
    "print(multiply)\n",
    "print(subsract)\n"
   ]
  },
  {
   "cell_type": "code",
   "execution_count": 237,
   "id": "ecdc8dbb",
   "metadata": {},
   "outputs": [
    {
     "name": "stdout",
     "output_type": "stream",
     "text": [
      "Random Array: [0.53418252 0.17657805 0.80137214 0.04926692 0.63379464 0.51671157\n",
      " 0.83464287 0.66867782 0.45429262 0.72610826]\n",
      "Mean: 0.539562739714903\n",
      "Median: 0.5839885798551769\n",
      "Standard Deviation: 0.2441180078001654\n"
     ]
    }
   ],
   "source": [
    "# Generate a NumPy array of random numbers and calculate its mean, median, and standard deviation.\n",
    "\n",
    "array_size = 10 \n",
    "random_array = np.random.rand(array_size)\n",
    "\n",
    "# Calculate mean, median, and standard deviation\n",
    "mean_value = np.mean(random_array)\n",
    "median_value = np.median(random_array)\n",
    "std_deviation = np.std(random_array)\n",
    "\n",
    "print(\"Random Array:\", random_array)\n",
    "print(\"Mean:\", mean_value)\n",
    "print(\"Median:\", median_value)\n",
    "print(\"Standard Deviation:\", std_deviation)\n"
   ]
  },
  {
   "cell_type": "code",
   "execution_count": 246,
   "id": "bb801548",
   "metadata": {},
   "outputs": [
    {
     "name": "stdout",
     "output_type": "stream",
     "text": [
      "(1, 2, 2, 2)\n",
      "[[[ 1  2]\n",
      "  [ 3  4]\n",
      "  [ 5  6]]\n",
      "\n",
      " [[ 7  8]\n",
      "  [ 9 10]\n",
      "  [11 12]]]\n"
     ]
    }
   ],
   "source": [
    "# Create a NumPy array and reshape it into a different shape.\n",
    "import numpy as np\n",
    "\n",
    "arr = np.array([[[[1,2],[2,3]],[[5,6],[7,8]]]]) # shape array\n",
    "print(arr.shape)\n",
    "arr1 = np.array([1,2,3,4,5,6,7,8,9,10,11,12]) #reshape array\n",
    "\n",
    "newarr = arr1.reshape(2,3,2)\n",
    "print(newarr)\n"
   ]
  },
  {
   "cell_type": "code",
   "execution_count": 239,
   "id": "ec6ba5a4",
   "metadata": {},
   "outputs": [
    {
     "name": "stdout",
     "output_type": "stream",
     "text": [
      "15\n"
     ]
    }
   ],
   "source": [
    "# Given a list of numbers, create a NumPy array and find the sum and product of its elements\n",
    "\n",
    "my_list = [1,2,3,4,5]\n",
    "\n",
    "arr = np.array(sum(my_list))\n",
    "print(arr)"
   ]
  },
  {
   "cell_type": "code",
   "execution_count": 248,
   "id": "dd5db6bc",
   "metadata": {},
   "outputs": [
    {
     "name": "stdout",
     "output_type": "stream",
     "text": [
      "Original Array: [0 1 2 3 4 5 6 7 8]\n",
      "Reshaped Matrix:\n",
      "[[0 1 2]\n",
      " [3 4 5]\n",
      " [6 7 8]]\n"
     ]
    }
   ],
   "source": [
    "# Implement a program that generates a NumPy array with numbers from 0 to 9 and reshapes it into a 3x3 matrix\n",
    "\n",
    "arr1 = np.arange(9)\n",
    "\n",
    "# Reshape the array into a 3x3 matrix\n",
    "reshaped_matrix = arr1.reshape(3, 3)\n",
    "\n",
    "print(\"Original Array:\", arr1)\n",
    "print(\"Reshaped Matrix:\")\n",
    "print(reshaped_matrix)\n"
   ]
  },
  {
   "cell_type": "code",
   "execution_count": 249,
   "id": "9ff88bad",
   "metadata": {},
   "outputs": [
    {
     "name": "stdout",
     "output_type": "stream",
     "text": [
      "Original List: [9, 2, 7, 1, 5]\n",
      "Sorted Array: [1 2 5 7 9]\n"
     ]
    }
   ],
   "source": [
    "# Create a function that takes a list of numbers and returns the NumPy array sorted in ascending order\n",
    "numbers = [9, 2, 7, 1, 5]\n",
    "\n",
    "def sort_array(numbers_list):\n",
    "    sorted_array = np.array(numbers_list)\n",
    "    sorted_array = np.sort(sorted_array)\n",
    "    return sorted_array\n",
    "\n",
    "sorted_result = sort_array(numbers)\n",
    "print(\"Original List:\", numbers)\n",
    "print(\"Sorted Array:\", sorted_result)\n"
   ]
  },
  {
   "cell_type": "code",
   "execution_count": 250,
   "id": "99c4cce4",
   "metadata": {},
   "outputs": [
    {
     "name": "stdout",
     "output_type": "stream",
     "text": [
      "2D NumPy Array:\n",
      "[[1 2 3]\n",
      " [4 5 6]\n",
      " [7 8 9]]\n",
      "Sum of Elements in Each Row: [ 6 15 24]\n",
      "Sum of Elements in Each Column: [12 15 18]\n"
     ]
    }
   ],
   "source": [
    "# Given a list of lists, create a 2D NumPy array and find the sum of elements in each row and column\n",
    "\n",
    "list_of_lists = [\n",
    "    [1, 2, 3],\n",
    "    [4, 5, 6],\n",
    "    [7, 8, 9]\n",
    "]\n",
    "\n",
    "# Create a 2D NumPy array\n",
    "array_2d = np.array(list_of_lists)\n",
    "\n",
    "# Calculate sum of elements in each row and column\n",
    "row_sums = np.sum(array_2d, axis=1)\n",
    "column_sums = np.sum(array_2d, axis=0)\n",
    "\n",
    "print(\"2D NumPy Array:\")\n",
    "print(array_2d)\n",
    "print(\"Sum of Elements in Each Row:\", row_sums)\n",
    "print(\"Sum of Elements in Each Column:\", column_sums)\n"
   ]
  },
  {
   "cell_type": "code",
   "execution_count": 251,
   "id": "be4aeb6b",
   "metadata": {},
   "outputs": [
    {
     "name": "stdout",
     "output_type": "stream",
     "text": [
      "Random Array: [54 83 66 60 86 94 49  9 90 42]\n",
      "Maximum Value: 94\n",
      "Minimum Value: 9\n"
     ]
    }
   ],
   "source": [
    "# Implement a program that generates a random NumPy array and finds the maximum and minimum values\n",
    "\n",
    "array_size = 10  \n",
    "random_array = np.random.randint(0, 100, array_size)  \n",
    "\n",
    "# Find the maximum and minimum values\n",
    "max_value = np.max(random_array)\n",
    "min_value = np.min(random_array)\n",
    "\n",
    "print(\"Random Array:\", random_array)\n",
    "print(\"Maximum Value:\", max_value)\n",
    "print(\"Minimum Value:\", min_value)\n"
   ]
  },
  {
   "cell_type": "code",
   "execution_count": 252,
   "id": "75c4d1c5",
   "metadata": {},
   "outputs": [
    {
     "name": "stdout",
     "output_type": "stream",
     "text": [
      "Original Array: [1 2 3 4 5]\n",
      "Squared Array: [ 1  4  9 16 25]\n"
     ]
    }
   ],
   "source": [
    "# Write a function that takes a NumPy array and returns a new array with all elements squared\n",
    "\n",
    "input_array = np.array([1, 2, 3, 4, 5])\n",
    "\n",
    "def square_array_elements(input_array):\n",
    "    squared_array = np.square(input_array)\n",
    "    return squared_array\n",
    "\n",
    "squared_result = square_array_elements(input_array)\n",
    "print(\"Original Array:\", input_array)\n",
    "print(\"Squared Array:\", squared_result)\n",
    "\n"
   ]
  },
  {
   "cell_type": "code",
   "execution_count": 258,
   "id": "2195bf68",
   "metadata": {},
   "outputs": [
    {
     "name": "stdout",
     "output_type": "stream",
     "text": [
      "Dot product using np.dot(): 55\n"
     ]
    }
   ],
   "source": [
    "# Given a NumPy array, calculate the dot product of the array with itself\n",
    "\n",
    "array = [1,2,3,4,5]\n",
    "\n",
    "dot_product = np.dot(array, array)\n",
    "print(\"Dot product using np.dot():\", dot_product)\n"
   ]
  },
  {
   "cell_type": "code",
   "execution_count": 259,
   "id": "a362f38e",
   "metadata": {},
   "outputs": [
    {
     "name": "stdout",
     "output_type": "stream",
     "text": [
      "Original Matrix:\n",
      "[[2 1]\n",
      " [4 3]]\n",
      "\n",
      "Inverse Matrix:\n",
      "[[ 1.5 -0.5]\n",
      " [-2.   1. ]]\n"
     ]
    }
   ],
   "source": [
    "# Create a program that uses NumPy to calculate the inverse of a 2x2 matrix\n",
    "\n",
    "matrix = np.array([[2, 1],[4, 3]])\n",
    "\n",
    "# Calculate the inverse using np.linalg.inv()\n",
    "inverse_matrix = np.linalg.inv(matrix)\n",
    "\n",
    "print(\"Original Matrix:\")\n",
    "print(matrix)\n",
    "\n",
    "print(\"\\nInverse Matrix:\")\n",
    "print(inverse_matrix)\n"
   ]
  },
  {
   "cell_type": "code",
   "execution_count": 261,
   "id": "1f531bbf",
   "metadata": {},
   "outputs": [
    {
     "name": "stdout",
     "output_type": "stream",
     "text": [
      "Original Array:\n",
      "[[1 2 3]\n",
      " [4 5 6]]\n",
      "\n",
      "Transposed Array:\n",
      "[[1 4]\n",
      " [2 5]\n",
      " [3 6]]\n"
     ]
    }
   ],
   "source": [
    "# Implement a function that takes a NumPy array and returns the transpose of the array.\n",
    "\n",
    "original_array = np.array([[1, 2, 3],[4, 5, 6]])\n",
    "\n",
    "def transpose_array(input_array):\n",
    "    return np.transpose(input_array)\n",
    "\n",
    "transposed_array = transpose_array(original_array)\n",
    "print(\"Original Array:\")\n",
    "print(original_array)\n",
    "\n",
    "print(\"\\nTransposed Array:\")\n",
    "print(transposed_array)\n"
   ]
  },
  {
   "cell_type": "markdown",
   "id": "c90bf890",
   "metadata": {},
   "source": [
    "# pandas"
   ]
  },
  {
   "cell_type": "code",
   "execution_count": null,
   "id": "1af49975",
   "metadata": {},
   "outputs": [],
   "source": []
  },
  {
   "cell_type": "code",
   "execution_count": null,
   "id": "a0e1fb4c",
   "metadata": {},
   "outputs": [],
   "source": []
  },
  {
   "cell_type": "code",
   "execution_count": null,
   "id": "7ba80c24",
   "metadata": {},
   "outputs": [],
   "source": []
  },
  {
   "cell_type": "code",
   "execution_count": null,
   "id": "0fb89f1c",
   "metadata": {},
   "outputs": [],
   "source": []
  },
  {
   "cell_type": "code",
   "execution_count": null,
   "id": "b33b0d06",
   "metadata": {},
   "outputs": [],
   "source": []
  },
  {
   "cell_type": "code",
   "execution_count": null,
   "id": "5602b30d",
   "metadata": {},
   "outputs": [],
   "source": []
  },
  {
   "cell_type": "code",
   "execution_count": null,
   "id": "7fa60983",
   "metadata": {},
   "outputs": [],
   "source": []
  },
  {
   "cell_type": "code",
   "execution_count": null,
   "id": "c87589ff",
   "metadata": {},
   "outputs": [],
   "source": []
  },
  {
   "cell_type": "code",
   "execution_count": null,
   "id": "f6e84475",
   "metadata": {},
   "outputs": [],
   "source": []
  }
 ],
 "metadata": {
  "kernelspec": {
   "display_name": "Python 3 (ipykernel)",
   "language": "python",
   "name": "python3"
  },
  "language_info": {
   "codemirror_mode": {
    "name": "ipython",
    "version": 3
   },
   "file_extension": ".py",
   "mimetype": "text/x-python",
   "name": "python",
   "nbconvert_exporter": "python",
   "pygments_lexer": "ipython3",
   "version": "3.9.12"
  }
 },
 "nbformat": 4,
 "nbformat_minor": 5
}
