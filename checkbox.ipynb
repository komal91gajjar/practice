{
 "cells": [
  {
   "cell_type": "code",
   "execution_count": 1,
   "metadata": {},
   "outputs": [],
   "source": [
    "import tkinter as tk"
   ]
  },
  {
   "cell_type": "code",
   "execution_count": 2,
   "metadata": {},
   "outputs": [],
   "source": [
    "def on_checkbox_toggle():\n",
    "    # This function will be called when the checkbox is toggled\n",
    "    if checkbox_var.get():\n",
    "        label.config(text=\"Checkbox is checked\")\n",
    "    else:\n",
    "        label.config(text=\"Checkbox is unchecked\")\n",
    "\n",
    "# Create a Tkinter window\n",
    "window = tk.Tk()\n",
    "window.title(\"Checkbox Example\")\n",
    "\n",
    "# Create a checkbox variable\n",
    "checkbox_var = tk.BooleanVar()\n",
    "\n",
    "# Create a checkbox widget\n",
    "checkbox = tk.Checkbutton(window, text=\"Check this box\", variable=checkbox_var, command=on_checkbox_toggle)\n",
    "checkbox.pack()\n",
    "\n",
    "# Create a label to display the checkbox state\n",
    "label = tk.Label(window, text=\"Checkbox is unchecked\")\n",
    "label.pack()\n",
    "\n",
    "# Start the Tkinter main loop\n",
    "window.mainloop()\n",
    "\n",
    "\n"
   ]
  },
  {
   "cell_type": "code",
   "execution_count": null,
   "metadata": {},
   "outputs": [],
   "source": []
  }
 ],
 "metadata": {
  "kernelspec": {
   "display_name": "Python 3",
   "language": "python",
   "name": "python3"
  },
  "language_info": {
   "codemirror_mode": {
    "name": "ipython",
    "version": 3
   },
   "file_extension": ".py",
   "mimetype": "text/x-python",
   "name": "python",
   "nbconvert_exporter": "python",
   "pygments_lexer": "ipython3",
   "version": "3.11.3"
  }
 },
 "nbformat": 4,
 "nbformat_minor": 2
}
