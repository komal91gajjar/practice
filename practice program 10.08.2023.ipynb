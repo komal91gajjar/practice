{
 "cells": [
  {
   "cell_type": "code",
   "execution_count": 4,
   "id": "62003557",
   "metadata": {},
   "outputs": [
    {
     "name": "stdout",
     "output_type": "stream",
     "text": [
      "Please enter your age: 25\n",
      "Please enter your age: 36\n",
      "Please enter your age: 96\n",
      "The oldest age is: 25\n"
     ]
    }
   ],
   "source": [
    "# 1.User will input (3ages).Find the oldest one\n",
    "\n",
    "a = int(input(\"Please enter your age: \"))\n",
    "b = int(input(\"Please enter your age: \"))\n",
    "c = int(input(\"Please enter your age: \"))\n",
    "\n",
    "\n",
    "a = min(a, b, c)\n",
    "\n",
    "print(f\"The oldest age is: {a}\")\n"
   ]
  },
  {
   "cell_type": "code",
   "execution_count": 1,
   "id": "629a6ef7",
   "metadata": {},
   "outputs": [
    {
     "name": "stdout",
     "output_type": "stream",
     "text": [
      "enter a num:25\n",
      "even number\n"
     ]
    }
   ],
   "source": [
    "#6.Write a program that will tell whether the number entered by the user is odd or even.\n",
    "\n",
    "a = int(input(\"enter a num:\"))\n",
    "\n",
    "if a % 2 == 0:\n",
    "    print(\"odd number\")\n",
    "else:\n",
    "    print(\"even number\")"
   ]
  },
  {
   "cell_type": "code",
   "execution_count": 2,
   "id": "cf74d847",
   "metadata": {},
   "outputs": [
    {
     "name": "stdout",
     "output_type": "stream",
     "text": [
      "enter a number:25\n",
      "enter a number:25\n",
      "enter a number:25\n",
      "75\n"
     ]
    }
   ],
   "source": [
    "# 4.Write a program that will give you the sum of 3 digits\n",
    "\n",
    "a = int(input(\"enter a number:\"))\n",
    "b = int(input(\"enter a number:\"))\n",
    "c = int(input(\"enter a number:\"))\n",
    "\n",
    "x = a + b +c\n",
    "print(x)"
   ]
  },
  {
   "cell_type": "code",
   "execution_count": 3,
   "id": "d48a93cb",
   "metadata": {},
   "outputs": [
    {
     "name": "stdout",
     "output_type": "stream",
     "text": [
      "enter a number:25\n",
      "enter a number:36\n",
      "user enter num: 25 36\n",
      "a: {36} b: {25}\n"
     ]
    }
   ],
   "source": [
    "# 3.User will input (2numbers).Write a program to swap the numbers\n",
    "\n",
    "a = int(input(\"enter a number:\"))\n",
    "b = int(input(\"enter a number:\"))\n",
    "\n",
    "print(\"user enter num:\" , a,b)\n",
    "\n",
    "x = a\n",
    "a = b\n",
    "z = b\n",
    "\n",
    "print(\"a:\",{z}, \"b:\",{x})"
   ]
  },
  {
   "cell_type": "code",
   "execution_count": 1,
   "id": "2827aa86",
   "metadata": {},
   "outputs": [
    {
     "name": "stdout",
     "output_type": "stream",
     "text": [
      "enter year:2023\n",
      "not leap year\n"
     ]
    }
   ],
   "source": [
    "# 7.Write a program that will tell whether the given year is a leap year or not.\n",
    "\n",
    "a = int(input(\"enter year:\"))\n",
    "if a % 4 == 0:\n",
    "    print(\"leap year\")\n",
    "else:\n",
    "    print(\"not leap year\")\n",
    "    "
   ]
  },
  {
   "cell_type": "code",
   "execution_count": 5,
   "id": "46e37909",
   "metadata": {},
   "outputs": [
    {
     "name": "stdout",
     "output_type": "stream",
     "text": [
      "enter a digit:1234\n",
      "user input number 1234 and reverse number 4321\n"
     ]
    }
   ],
   "source": [
    "# 5.Write a program that will reverse a four-digit number. Also it checks whether the reverse is true.\n",
    "a = int(input(\"enter a digit:\"))\n",
    "\n",
    "if 1111 <= a <=5555:\n",
    "    rev_num = int(str(a)[:: -1])\n",
    "    if rev_num == a:\n",
    "        print(f\"user input number {a} and reverse number {rev_num}\")\n",
    "    else:\n",
    "        print(f\"user input number {a} and reverse number {rev_num}\")\n",
    "        \n",
    "else:\n",
    "    print(\"enter valid number\")"
   ]
  },
  {
   "cell_type": "code",
   "execution_count": 9,
   "id": "3109d0c6",
   "metadata": {},
   "outputs": [
    {
     "name": "stdout",
     "output_type": "stream",
     "text": [
      "enter a number:60\n",
      "enter a number:60\n",
      "enter a number:60\n",
      "this angle can make triangle\n"
     ]
    }
   ],
   "source": [
    "# 9.Write a program that take a user input of three angles and will find out whether it can form a triangle or not.\n",
    "\n",
    "a = int(input(\"enter a number:\"))\n",
    "b = int(input(\"enter a number:\"))\n",
    "c = int(input(\"enter a number:\"))\n",
    "\n",
    "if a + b + c == 180:\n",
    "    print(\"this angle can make triangle\")\n",
    "else:\n",
    "    print(\"this angle can not make triangle\")\n"
   ]
  },
  {
   "cell_type": "code",
   "execution_count": 16,
   "id": "e871ad89",
   "metadata": {},
   "outputs": [
    {
     "name": "stdout",
     "output_type": "stream",
     "text": [
      "enter a number:7\n",
      "7 is not divisible by 3.\n"
     ]
    }
   ],
   "source": [
    "# 13.Write a program that will tell whether the given number is divisible by 3 & 6.\n",
    "\n",
    "a = int(input(\"enter a number:\"))\n",
    "\n",
    "if a % 3  == 0:\n",
    "    if a % 6 == 0:\n",
    "        print(f\"{a} is divisible by both 3 and 6.\")\n",
    "    else:\n",
    "        print(f\"{a} is divisible by 3 but not by 6.\")\n",
    "else:\n",
    "    print(f\"{a} is not divisible by 3.\")\n"
   ]
  },
  {
   "cell_type": "code",
   "execution_count": null,
   "id": "2858f906",
   "metadata": {},
   "outputs": [],
   "source": []
  },
  {
   "cell_type": "code",
   "execution_count": 24,
   "id": "7ad86298",
   "metadata": {},
   "outputs": [
    {
     "name": "stdout",
     "output_type": "stream",
     "text": [
      "Enter the cost price: 25\n",
      "Enter the selling price: 60\n",
      "You made a profit of Rs: 35.00.\n"
     ]
    }
   ],
   "source": [
    "#10.Write a program that will take user input of cost price and selling price and determines whether it’s a loss or a profit\n",
    "\n",
    "cost_price = float(input(\"Enter the cost price: \"))\n",
    "selling_price = float(input(\"Enter the selling price: \"))\n",
    "    \n",
    "if selling_price > cost_price:\n",
    "    profit = selling_price - cost_price\n",
    "    print(f\"You made a profit of Rs: {profit:.2f}.\")\n",
    "elif selling_price < cost_price:\n",
    "    loss = cost_price - selling_price\n",
    "    print(f\"You incurred a loss of Rs: {loss:.2f}.\")\n",
    "else:\n",
    "    print(\"You broke even. There is no profit or loss.\")\n",
    "\n",
    "    print(\"Invalid input. Please enter valid numeric values.\")\n"
   ]
  },
  {
   "cell_type": "code",
   "execution_count": 15,
   "id": "c454b1c1",
   "metadata": {},
   "outputs": [
    {
     "name": "stdout",
     "output_type": "stream",
     "text": [
      "enter a number:25\n",
      "enter a number:20\n",
      "this is : loss\n"
     ]
    }
   ],
   "source": [
    "#10.Write a program that will take user input of cost price and selling price and determines whether it’s a loss or a profit\n",
    "\n",
    "cost_price = int(input(\"enter a number:\"))\n",
    "selling_price = int(input(\"enter a number:\"))\n",
    "\n",
    "def profit_loss(cost_price,selling_price):\n",
    "    \n",
    "    if selling_price == cost_price:\n",
    "        return \"no profit\", \"no loss\"\n",
    "    elif selling_price > cost_price:\n",
    "        return \"profit\"\n",
    "    else:\n",
    "        return \"loss\"\n",
    "        \n",
    "result = profit_loss(cost_price,selling_price)\n",
    "print(\"this is :\", result)\n"
   ]
  },
  {
   "cell_type": "code",
   "execution_count": 26,
   "id": "4db6489c",
   "metadata": {},
   "outputs": [
    {
     "name": "stdout",
     "output_type": "stream",
     "text": [
      "enter amount:20000\n",
      "enter intrest % :5\n",
      "enter time :1\n",
      "1000.0\n"
     ]
    }
   ],
   "source": [
    "# 11.Write a program to find the simple interest when the value of principle, rate of interest and time period is given.\n",
    "\n",
    "principal = int(input(\"enter amount:\"))\n",
    "intrest = int(input(\"enter intrest % :\"))\n",
    "time = int(input(\"enter time :\"))\n",
    "\n",
    "def simple_interst(principal,intrest,time):\n",
    "    return(principal*intrest*time) / 100\n",
    "\n",
    "result = simple_interst(principal,intrest,time)\n",
    "print(result)"
   ]
  },
  {
   "cell_type": "code",
   "execution_count": 25,
   "id": "2a8bcab5",
   "metadata": {},
   "outputs": [
    {
     "name": "stdout",
     "output_type": "stream",
     "text": [
      "enter amount:20000\n",
      "enter intrest % :5\n",
      "enter time :1\n",
      "1000.0\n"
     ]
    }
   ],
   "source": [
    "# 11.Write a program to find the simple interest when the value of principle, rate of interest and time period is given.\n",
    "\n",
    "principal = int(input(\"enter amount:\"))\n",
    "intrest = int(input(\"enter intrest % :\"))\n",
    "time = int(input(\"enter time :\"))\n",
    "\n",
    "simple_intrest = (principal*intrest*time) / 100\n",
    "print(simple_intrest)\n"
   ]
  },
  {
   "cell_type": "code",
   "execution_count": 6,
   "id": "91f2edd6",
   "metadata": {},
   "outputs": [
    {
     "name": "stdout",
     "output_type": "stream",
     "text": [
      "Enter the radius of the cylinder (in cm): 25\n",
      "Enter the height of the cylinder (in cm): 20\n",
      "Volume of the cylinder: 39269.90816987242\n",
      "Cost of filling the milk: Rs 1570.7963267948967\n"
     ]
    }
   ],
   "source": [
    "# 12.Write a program to find the volume of the cylinder. Also find the cost when, when the cost of 1litre milk is 40Rs.\n",
    "\n",
    "import math \n",
    "\n",
    "a = int(input(\"Enter the radius of the cylinder (in cm): \"))\n",
    "b = int(input(\"Enter the height of the cylinder (in cm): \"))\n",
    "\n",
    "def calculate_cylinder(a, b):\n",
    "    result = math.pi * a ** 2 * b\n",
    "    return result\n",
    "\n",
    "c = calculate_cylinder(a, b)\n",
    "print(\"Volume of the cylinder:\", c)\n",
    "\n",
    "cost = 40\n",
    "liters = c / 1000\n",
    "\n",
    "total_cost = liters * cost\n",
    "print(\"Cost of filling the milk: Rs\", total_cost)\n",
    "\n"
   ]
  },
  {
   "cell_type": "code",
   "execution_count": null,
   "id": "961603d5",
   "metadata": {},
   "outputs": [],
   "source": []
  },
  {
   "cell_type": "code",
   "execution_count": 3,
   "id": "ff553638",
   "metadata": {},
   "outputs": [
    {
     "name": "stdout",
     "output_type": "stream",
     "text": [
      "enter temprature:2\n",
      "30.36\n"
     ]
    }
   ],
   "source": [
    "# 2.Write a program that will convert Celsius value to Fahrenheit\n",
    "\n",
    "calsius = float(input(\"enter temprature:\"))\n",
    "fahrenhit = calsius * 0.18 + 30\n",
    "print(fahrenhit)"
   ]
  },
  {
   "cell_type": "code",
   "execution_count": 2,
   "id": "3e2825c6",
   "metadata": {},
   "outputs": [
    {
     "name": "stdout",
     "output_type": "stream",
     "text": [
      "enter temprature:4\n",
      "enter temprature:9\n",
      "enter temprature:5\n",
      "enter temprature:5.3\n",
      "2.3664319132398464\n"
     ]
    }
   ],
   "source": [
    "# 8.Write a program to find the Euclidean distance between two coordinates.\n",
    "\n",
    "import math \n",
    "\n",
    "x1 = float(input(\"enter temprature:\"))\n",
    "x2 = float(input(\"enter temprature:\"))\n",
    "y1 = float(input(\"enter temprature:\"))\n",
    "y2 = float(input(\"enter temprature:\"))\n",
    "\n",
    "eucliden = math.sqrt((x2-x1)+(y2-y1)*2)\n",
    "print(eucliden)"
   ]
  },
  {
   "cell_type": "code",
   "execution_count": null,
   "id": "9494aab5",
   "metadata": {},
   "outputs": [],
   "source": []
  },
  {
   "cell_type": "code",
   "execution_count": null,
   "id": "636e241f",
   "metadata": {},
   "outputs": [],
   "source": []
  }
 ],
 "metadata": {
  "kernelspec": {
   "display_name": "Python 3 (ipykernel)",
   "language": "python",
   "name": "python3"
  },
  "language_info": {
   "codemirror_mode": {
    "name": "ipython",
    "version": 3
   },
   "file_extension": ".py",
   "mimetype": "text/x-python",
   "name": "python",
   "nbconvert_exporter": "python",
   "pygments_lexer": "ipython3",
   "version": "3.9.12"
  }
 },
 "nbformat": 4,
 "nbformat_minor": 5
}
