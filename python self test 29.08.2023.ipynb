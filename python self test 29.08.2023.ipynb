{
 "cells": [
  {
   "cell_type": "markdown",
   "id": "713be67c",
   "metadata": {},
   "source": [
    "# python test\n"
   ]
  },
  {
   "cell_type": "code",
   "execution_count": 37,
   "id": "d380c775",
   "metadata": {},
   "outputs": [
    {
     "name": "stdout",
     "output_type": "stream",
     "text": [
      "15\n",
      "3\n"
     ]
    }
   ],
   "source": [
    "# Remove multiple elements from a list in Python\n",
    "\n",
    "list1 = [12,15,10,3]\n",
    "remove_element = [12,10]\n",
    "\n",
    "for i in list1:\n",
    "    if i not in remove_element:\n",
    "        print(i)\n",
    "    "
   ]
  },
  {
   "cell_type": "code",
   "execution_count": 38,
   "id": "c85d9c53",
   "metadata": {},
   "outputs": [
    {
     "name": "stdout",
     "output_type": "stream",
     "text": [
      "[15, 3]\n"
     ]
    }
   ],
   "source": [
    "list1 = [12,15,10,3]\n",
    "remove_element = [12,10]\n",
    "\n",
    "result = [i for i in list1 if i not in remove_element]\n",
    "print(result)\n",
    "\n"
   ]
  },
  {
   "cell_type": "code",
   "execution_count": 39,
   "id": "460703b1",
   "metadata": {},
   "outputs": [
    {
     "name": "stdout",
     "output_type": "stream",
     "text": [
      "[11, 50]\n"
     ]
    }
   ],
   "source": [
    "list1 = [11, 5, 17, 18, 23, 50]\n",
    "\n",
    "remove_element = [11,50]\n",
    "\n",
    "result = [i for i in list1 if i in remove_element]\n",
    "print(result)"
   ]
  },
  {
   "cell_type": "code",
   "execution_count": null,
   "id": "39438569",
   "metadata": {},
   "outputs": [],
   "source": []
  },
  {
   "cell_type": "code",
   "execution_count": 40,
   "id": "5d5727ef",
   "metadata": {},
   "outputs": [
    {
     "name": "stdout",
     "output_type": "stream",
     "text": [
      "{'from', 'Learning'}\n"
     ]
    }
   ],
   "source": [
    "# Python program to find uncommon words from two Strings\n",
    "\n",
    "A = \"Geeks for Geeks\"\n",
    "B = \"Learning from Geeks for Geeks\"\n",
    "\n",
    "\n",
    "def uncommon_words(A, B):\n",
    "    words_A = set(A.split())\n",
    "    words_B = set(B.split())\n",
    "    \n",
    "    uncommon = (words_A.symmetric_difference(words_B))\n",
    "    \n",
    "    return uncommon\n",
    "\n",
    "uncommon_words_list = uncommon_words(A, B)\n",
    "print(uncommon_words_list) \n"
   ]
  },
  {
   "cell_type": "code",
   "execution_count": 41,
   "id": "be6d8b3f",
   "metadata": {},
   "outputs": [
    {
     "name": "stdout",
     "output_type": "stream",
     "text": [
      "{'apple', 'fruits'}\n"
     ]
    }
   ],
   "source": [
    "a = \"apple banana mango\"\n",
    "b= \"banana fruits mango\"\n",
    "\n",
    "def uncommon_word(a,b):\n",
    "    words_A = set(a.split())\n",
    "    words_B = set(b.split())\n",
    "    \n",
    "    uncommon = (words_A.symmetric_difference(words_B))\n",
    "    return uncommon\n",
    "\n",
    "result = uncommon_word(a,b)\n",
    "print(result)"
   ]
  },
  {
   "cell_type": "code",
   "execution_count": null,
   "id": "37c6b2ba",
   "metadata": {},
   "outputs": [],
   "source": []
  },
  {
   "cell_type": "code",
   "execution_count": 13,
   "id": "3c2586e7",
   "metadata": {},
   "outputs": [
    {
     "name": "stdout",
     "output_type": "stream",
     "text": [
      "['f', 'o', 'r']\n"
     ]
    }
   ],
   "source": [
    "# Least Frequent Character in String\n",
    "\n",
    "string = \"GeeksforGeeks\"\n",
    "char_freq = {}\n",
    "\n",
    "for char in string:\n",
    "    if char in char_freq:\n",
    "        char_freq[char] +=1\n",
    "    else:\n",
    "        char_freq[char] = 1\n",
    "min_count = min(char_freq.values())\n",
    "freq_char = [char for char,count in char_freq.items() if count == min_count]\n",
    "print(freq_char)"
   ]
  },
  {
   "cell_type": "code",
   "execution_count": 16,
   "id": "725ecc61",
   "metadata": {},
   "outputs": [
    {
     "name": "stdout",
     "output_type": "stream",
     "text": [
      "['y', 't']\n"
     ]
    }
   ],
   "source": [
    "string = \"applebyteapplebanana\"\n",
    "char = {}\n",
    "\n",
    "for i in string:\n",
    "    if i in char:\n",
    "        char[i] += 1\n",
    "    else:\n",
    "        char[i] = 1\n",
    "        \n",
    "min_count = min(char.values())\n",
    "freq_char = [i for i,count in char.items() if count == min_count]\n",
    "print(freq_char)"
   ]
  },
  {
   "cell_type": "code",
   "execution_count": 21,
   "id": "bea369f2",
   "metadata": {},
   "outputs": [
    {
     "name": "stdout",
     "output_type": "stream",
     "text": [
      "[[7, 5, 4], [8, 2, 4], [0, 7, 5]]\n",
      "([4, 5, 7], [2, 4, 8], [0, 5, 7])\n"
     ]
    }
   ],
   "source": [
    "# Sort lists in tuple [Using map() + sorted()]\n",
    "\n",
    "mytuple = ([7, 5, 4], [8, 2, 4], [0, 7, 5])\n",
    "\n",
    "a = list(mytuple)\n",
    "print(a)\n",
    "\n",
    "result = tuple(map(sorted, mytuple))\n",
    "print(result)\n"
   ]
  },
  {
   "cell_type": "code",
   "execution_count": null,
   "id": "e38b941f",
   "metadata": {},
   "outputs": [],
   "source": []
  },
  {
   "cell_type": "code",
   "execution_count": 24,
   "id": "ec6c01ba",
   "metadata": {},
   "outputs": [
    {
     "name": "stdout",
     "output_type": "stream",
     "text": [
      "9\n",
      "19\n",
      "10\n"
     ]
    }
   ],
   "source": [
    "# Extract values of Particular Key in Nested Values\n",
    "\n",
    "test_dict = {\n",
    "    \n",
    "    \"Gfg\" : \n",
    "    {\n",
    "        \"a\" : 7, \n",
    "        \"b\" : 9, \n",
    "        \"c\" : 12\n",
    "    }, \n",
    "    \"is\" : \n",
    "    {\n",
    "        \"a\" : 15, \n",
    "        \"b\" : 19, \n",
    "        \"c\" : 20\n",
    "    }, \n",
    "    \"best\" :\n",
    "    {\n",
    "        \"a\" : 5, \n",
    "        \"b\" : 10, \n",
    "        \"c\" : 2\n",
    "    }\n",
    "}\n",
    "\n",
    "print(test_dict[\"Gfg\"][\"b\"])\n",
    "print(test_dict[\"is\"][\"b\"])\n",
    "print(test_dict[\"best\"][\"b\"])\n"
   ]
  },
  {
   "cell_type": "code",
   "execution_count": null,
   "id": "a0f16566",
   "metadata": {},
   "outputs": [],
   "source": []
  },
  {
   "cell_type": "code",
   "execution_count": 32,
   "id": "0ae5530b",
   "metadata": {},
   "outputs": [
    {
     "name": "stdout",
     "output_type": "stream",
     "text": [
      "{4: [4, 4, 4], 6: [6, 6], 2: [2, 2], 8: [8, 8], 5: [5]}\n"
     ]
    }
   ],
   "source": [
    "# Group Similar items to Dictionary Values List\n",
    "\n",
    "test_list = [4, 6, 6, 4, 2, 2, 4, 8, 5, 8]\n",
    "\n",
    "result_dict = {}\n",
    "\n",
    "for i in test_list:\n",
    "    if i in result_dict:\n",
    "        result_dict[i].append(i)\n",
    "    else:\n",
    "        result_dict[i] = [i]\n",
    "        \n",
    "print(result_dict)\n",
    "\n"
   ]
  },
  {
   "cell_type": "code",
   "execution_count": null,
   "id": "704cad39",
   "metadata": {},
   "outputs": [],
   "source": []
  },
  {
   "cell_type": "code",
   "execution_count": 33,
   "id": "dc50e9ff",
   "metadata": {},
   "outputs": [
    {
     "name": "stdout",
     "output_type": "stream",
     "text": [
      "{7: [7, 7, 7, 7]}\n"
     ]
    }
   ],
   "source": [
    "test_list = [7, 7, 7, 7]\n",
    "result_dict = {}\n",
    "\n",
    "for i in test_list:\n",
    "    if i in result_dict:\n",
    "        result_dict[i].append(i)\n",
    "    else:\n",
    "        result_dict[i] = [i]\n",
    "\n",
    "print(result_dict)\n",
    "\n"
   ]
  },
  {
   "cell_type": "code",
   "execution_count": null,
   "id": "9b19bd4c",
   "metadata": {},
   "outputs": [],
   "source": []
  },
  {
   "cell_type": "code",
   "execution_count": 35,
   "id": "51d14fde",
   "metadata": {},
   "outputs": [
    {
     "name": "stdout",
     "output_type": "stream",
     "text": [
      "The unique values list is: [1, 2, 5, 6, 7, 8, 10, 11, 12]\n"
     ]
    }
   ],
   "source": [
    "my_dict = {\n",
    "    'gfg': [5, 6, 7, 8], \n",
    "    'is': [10, 11, 7, 5], \n",
    "    'best': [6, 12, 10, 8], \n",
    "    'for': [1, 2, 5]\n",
    "}\n",
    "\n",
    "unique_values = set()\n",
    "\n",
    "for values_list in my_dict.values():\n",
    "    unique_values.update(values_list)\n",
    "\n",
    "print(\"The unique values list is:\", list(unique_values))"
   ]
  },
  {
   "cell_type": "code",
   "execution_count": null,
   "id": "7742799d",
   "metadata": {},
   "outputs": [],
   "source": []
  },
  {
   "cell_type": "code",
   "execution_count": null,
   "id": "08a008f9",
   "metadata": {},
   "outputs": [],
   "source": []
  },
  {
   "cell_type": "code",
   "execution_count": null,
   "id": "da08415c",
   "metadata": {},
   "outputs": [],
   "source": []
  },
  {
   "cell_type": "code",
   "execution_count": null,
   "id": "bc106b0c",
   "metadata": {},
   "outputs": [],
   "source": []
  },
  {
   "cell_type": "code",
   "execution_count": null,
   "id": "b64130d5",
   "metadata": {},
   "outputs": [],
   "source": []
  }
 ],
 "metadata": {
  "kernelspec": {
   "display_name": "Python 3 (ipykernel)",
   "language": "python",
   "name": "python3"
  },
  "language_info": {
   "codemirror_mode": {
    "name": "ipython",
    "version": 3
   },
   "file_extension": ".py",
   "mimetype": "text/x-python",
   "name": "python",
   "nbconvert_exporter": "python",
   "pygments_lexer": "ipython3",
   "version": "3.9.12"
  }
 },
 "nbformat": 4,
 "nbformat_minor": 5
}
