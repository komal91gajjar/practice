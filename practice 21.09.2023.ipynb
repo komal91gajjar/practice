{
 "cells": [
  {
   "cell_type": "markdown",
   "id": "3628ef97",
   "metadata": {},
   "source": [
    "# List"
   ]
  },
  {
   "cell_type": "code",
   "execution_count": 3,
   "id": "67c563de",
   "metadata": {},
   "outputs": [
    {
     "name": "stdout",
     "output_type": "stream",
     "text": [
      "[1, 2, 4, 5, 8]\n"
     ]
    }
   ],
   "source": [
    "# How to count unique values inside a list\n",
    "\n",
    "lst = [1, 2, 2, 5, 8, 4, 4, 8]\n",
    "l1 = []\n",
    "count = 0\n",
    "for i in lst:\n",
    "    if i not in l1:\n",
    "        count += 1\n",
    "        l1.append(i)\n",
    "print(sorted(l1))\n"
   ]
  },
  {
   "cell_type": "code",
   "execution_count": 19,
   "id": "ea2c96d1",
   "metadata": {},
   "outputs": [
    {
     "name": "stdout",
     "output_type": "stream",
     "text": [
      "124534527678149\n",
      "[1, 2, 4, 5, 3, 7, 6, 8, 9]\n",
      "[1, 2, 3, 4, 5, 6, 7, 8, 9]\n"
     ]
    }
   ],
   "source": [
    "lst = [1,2,4,5,3,4,5,2,7,6,7,8,1,4,9]\n",
    "\n",
    "re = int(\"\".join(map(str,lst)))\n",
    "print(re)\n",
    "\n",
    "l1 = []\n",
    "count = 0\n",
    "\n",
    "for i in lst:\n",
    "    if i not in l1:\n",
    "        count += 1\n",
    "        l1.append(i)\n",
    "print(l1)\n",
    "print(sorted(l1))"
   ]
  },
  {
   "cell_type": "code",
   "execution_count": 41,
   "id": "0b4ab4fa",
   "metadata": {},
   "outputs": [
    {
     "name": "stdout",
     "output_type": "stream",
     "text": [
      "[4, 3]\n"
     ]
    }
   ],
   "source": [
    "# Extract elements with Frequency greater than K\n",
    "\n",
    "test_list = [4, 6, 4, 3, 3, 4, 3, 4, 3, 8]\n",
    "K = 3 \n",
    "\n",
    "freq = test_list.count(i)\n",
    "#print(freq)\n",
    "\n",
    "res = []\n",
    "\n",
    "for i in test_list:\n",
    "    freq = test_list.count(i)\n",
    "    if freq > K and i not in res:\n",
    "        \n",
    "        res.append(i)\n",
    "print(res)\n",
    "#print(set(list(res)))\n",
    "      "
   ]
  },
  {
   "cell_type": "code",
   "execution_count": 42,
   "id": "13f23390",
   "metadata": {},
   "outputs": [
    {
     "name": "stdout",
     "output_type": "stream",
     "text": [
      "[4, 3, 7]\n"
     ]
    }
   ],
   "source": [
    "test_list = [4, 6, 4, 3, 3, 4, 3, 4, 3, 8,7,7,7,8,7]\n",
    "k = 3\n",
    "\n",
    "res = []\n",
    "for i in test_list:\n",
    "    lengh = test_list.count(i)\n",
    "    if lengh > k and i not in res:\n",
    "        res.append(i)\n",
    "print(res)\n",
    "        \n"
   ]
  },
  {
   "cell_type": "code",
   "execution_count": 57,
   "id": "ef5ca48d",
   "metadata": {},
   "outputs": [
    {
     "name": "stdout",
     "output_type": "stream",
     "text": [
      "False\n"
     ]
    }
   ],
   "source": [
    "# Python – Test if List contains elements in Range\n",
    "\n",
    "test_list = [4, 5, 6, 7, 3, 9]\n",
    "\n",
    "i , j = 5,9\n",
    "\n",
    "res = True\n",
    "for ele in test_list:\n",
    "    if ele < i or ele >= j:\n",
    "        res = False\n",
    "        break\n",
    "    \n",
    "print(res)\n",
    "      "
   ]
  },
  {
   "cell_type": "code",
   "execution_count": 59,
   "id": "9c30715b",
   "metadata": {},
   "outputs": [
    {
     "name": "stdout",
     "output_type": "stream",
     "text": [
      "True\n"
     ]
    }
   ],
   "source": [
    "lst = [4, 5, 6, 7, 3, 9]\n",
    "\n",
    "i,j = 2,10\n",
    "\n",
    "res = True\n",
    "for ele in lst:\n",
    "    if ele < i and ele <= j:\n",
    "        res = False\n",
    "        break\n",
    "print(res)\n"
   ]
  },
  {
   "cell_type": "code",
   "execution_count": 76,
   "id": "9044fe8c",
   "metadata": {},
   "outputs": [
    {
     "name": "stdout",
     "output_type": "stream",
     "text": [
      "1\n",
      "22\n"
     ]
    }
   ],
   "source": [
    "# Python program to check if the list contains three consecutive common numbers in Python\n",
    "\n",
    "arr = [1, 1, 1, 64, 23, 64, 22, 22, 22]\n",
    "\n",
    "count = len(arr)\n",
    "#print(count)\n",
    "size = 0\n",
    "\n",
    "for i in range(count-2):\n",
    "    if arr[i] == arr[i+1] and arr[i+1] == arr[i+2]:\n",
    "        print(arr[i])"
   ]
  },
  {
   "cell_type": "code",
   "execution_count": 79,
   "id": "78230563",
   "metadata": {},
   "outputs": [
    {
     "name": "stdout",
     "output_type": "stream",
     "text": [
      "5\n",
      "8\n"
     ]
    }
   ],
   "source": [
    "lst = [4, 5, 5, 5, 3, 8,8,8,4]\n",
    "\n",
    "count = len(lst)\n",
    "\n",
    "for i in range(count-1):\n",
    "    if lst[i] == lst[i+1] and lst[i+1] == lst[i+2]:\n",
    "        print(lst[i])\n",
    "    "
   ]
  },
  {
   "cell_type": "code",
   "execution_count": 90,
   "id": "a93372c5",
   "metadata": {},
   "outputs": [
    {
     "name": "stdout",
     "output_type": "stream",
     "text": [
      "2\n",
      "2\n",
      "3\n",
      "4\n",
      "5\n"
     ]
    }
   ],
   "source": [
    "# Python program to find the Strongest Neighbour\n",
    "\n",
    "arry = [1 ,2, 2, 3, 4, 5]\n",
    "#n= len(arry)\n",
    "count = len(arry)\n",
    "\n",
    "for i in range(1,count):\n",
    "    if arry[i] and arry[i-1]:\n",
    "        print(arry[i])\n",
    "\n"
   ]
  },
  {
   "cell_type": "code",
   "execution_count": 103,
   "id": "eafe1b3b",
   "metadata": {
    "collapsed": true
   },
   "outputs": [
    {
     "name": "stdout",
     "output_type": "stream",
     "text": [
      "1 1 2\n",
      "1 1 3\n",
      "1 2 1\n",
      "1 2 2\n",
      "1 2 3\n",
      "1 3 1\n",
      "1 3 2\n",
      "1 3 3\n",
      "2 1 1\n",
      "2 1 2\n",
      "2 1 3\n",
      "2 2 1\n",
      "2 2 3\n",
      "2 3 1\n",
      "2 3 2\n",
      "2 3 3\n",
      "3 1 1\n",
      "3 1 2\n",
      "3 1 3\n",
      "3 2 1\n",
      "3 2 2\n",
      "3 2 3\n",
      "3 3 1\n",
      "3 3 2\n"
     ]
    }
   ],
   "source": [
    "# Python Program to print all Possible Combinations from the three Digits\n",
    "\n",
    "lst = [1,2,3]\n",
    "\n",
    "for i in range(3):\n",
    "    for j in range(3):\n",
    "        for k in range(3):\n",
    "            if i != j or j != k or i != k:\n",
    "                print(lst[i],lst[j],lst[k])"
   ]
  },
  {
   "cell_type": "code",
   "execution_count": 105,
   "id": "7c5f7204",
   "metadata": {},
   "outputs": [
    {
     "name": "stdout",
     "output_type": "stream",
     "text": [
      "1 2\n",
      "2 1\n"
     ]
    }
   ],
   "source": [
    "lst = [1,2,3]\n",
    "\n",
    "for i in range(2):\n",
    "    for j in range(2):\n",
    "        if i!= j or j!=i:\n",
    "            print(lst[i],lst[j])"
   ]
  },
  {
   "cell_type": "markdown",
   "id": "3ba124b6",
   "metadata": {},
   "source": [
    "# String"
   ]
  },
  {
   "cell_type": "code",
   "execution_count": 119,
   "id": "16caa373",
   "metadata": {},
   "outputs": [
    {
     "name": "stdout",
     "output_type": "stream",
     "text": [
      "no\n"
     ]
    }
   ],
   "source": [
    "# Python | Check if a given string is binary string or not\n",
    "\n",
    "#strs = \"01010101010\"\n",
    "\n",
    "#strs = \"geeksfor0101\"\n",
    "string = \"001021010001010\"\n",
    "\n",
    "t = \"o1\"\n",
    "\n",
    "count = 0\n",
    "\n",
    "for char in string:\n",
    "    if char not in t:\n",
    "        count = 1\n",
    "        break\n",
    "    else:\n",
    "        pass\n",
    "\n",
    "if count:\n",
    "    print(\"no\")\n",
    "else:\n",
    "    print(\"yes\")"
   ]
  },
  {
   "cell_type": "code",
   "execution_count": 122,
   "id": "06b2da2a",
   "metadata": {},
   "outputs": [
    {
     "name": "stdout",
     "output_type": "stream",
     "text": [
      "['Geeks', 'for', 'Geeks']\n",
      "['Learning', 'from', 'Geeks', 'for', 'Geeks']\n",
      "['Learning', 'from']\n"
     ]
    }
   ],
   "source": [
    "# Python program to find uncommon words from two Strings\n",
    "\n",
    "A = \"Geeks for Geeks\"  \n",
    "B = \"Learning from Geeks for Geeks\"\n",
    "\n",
    "a = A.split()\n",
    "print(a)\n",
    "\n",
    "b = B.split()\n",
    "print(b)\n",
    "\n",
    "res = []\n",
    "\n",
    "for i in a:\n",
    "    if i not in b:\n",
    "        res.append(i)\n",
    "for j in b:\n",
    "    if j not in a:\n",
    "        res.append(j)\n",
    "print(res)\n"
   ]
  },
  {
   "cell_type": "code",
   "execution_count": 130,
   "id": "514fa640",
   "metadata": {},
   "outputs": [
    {
     "name": "stdout",
     "output_type": "stream",
     "text": [
      "['apple', 'banana', 'mango']\n",
      "['banana', 'fruits', 'mango']\n",
      "['apple', 'fruits']\n"
     ]
    }
   ],
   "source": [
    "A = \"apple banana mango\"\n",
    "B = \"banana fruits mango\"\n",
    "\n",
    "a = A.split()\n",
    "print(a)\n",
    "\n",
    "b = B.split()\n",
    "print(b)\n",
    "\n",
    "# res = a+b\n",
    "# print(res)\n",
    "# print(set(res))\n",
    "res = []\n",
    "for i in a:\n",
    "    if i not in b:\n",
    "        res.append(i)\n",
    "for j in b:\n",
    "    if j not in a:\n",
    "        res.append(j)\n",
    "print(res)"
   ]
  },
  {
   "cell_type": "code",
   "execution_count": 138,
   "id": "316fd553",
   "metadata": {},
   "outputs": [
    {
     "name": "stdout",
     "output_type": "stream",
     "text": [
      "14. 625. 498.002\n"
     ]
    }
   ],
   "source": [
    "# Python | Swap commas and dots in a String\n",
    "\n",
    "strs = \"14, 625, 498.002\"\n",
    "\n",
    "strs1 = \",\".join(strs.split(\".\"))\n",
    "strs1 = \".\".join(strs.split(\",\"))\n",
    "#strs1 = \",\".join(strs.split(\".\"))\n",
    "print(strs1)"
   ]
  },
  {
   "cell_type": "code",
   "execution_count": 144,
   "id": "ec39787d",
   "metadata": {},
   "outputs": [
    {
     "name": "stdout",
     "output_type": "stream",
     "text": [
      "a b c\n",
      "a c b\n",
      "b a c\n",
      "b c a\n",
      "c a b\n",
      "c b a\n"
     ]
    }
   ],
   "source": [
    "# Python | Permutation of a given string using inbuilt function\n",
    "\n",
    "strs = \"abc\"\n",
    "\n",
    "#re = strs.split()\n",
    "re = list(strs)\n",
    "#print(re)\n",
    "\n",
    "for i in range(3):\n",
    "    for j in range(3):\n",
    "        for k in range(3):\n",
    "            if i!=j and j!=k and k!=i:\n",
    "                print(re[i],re[j],re[k])"
   ]
  },
  {
   "cell_type": "code",
   "execution_count": 168,
   "id": "b5c7731b",
   "metadata": {},
   "outputs": [
    {
     "name": "stdout",
     "output_type": "stream",
     "text": [
      "original string: zero four zero one\n",
      "0401\n"
     ]
    }
   ],
   "source": [
    "#Convert numeric words to numbers\n",
    "\n",
    "test_str = \"zero four zero one\"\n",
    "\n",
    "help_dict = {\n",
    "    \"one\":\"1\",\"two\":\"2\",\"three\":\"3\",\"four\":\"4\",\"five\":\"5\",\"six\":\"6\",\"seven\":\"7\",\"eight\":\"8\",\"nine\":\"9\",\"zero\":\"0\"\n",
    "}\n",
    "\n",
    "print(\"original string: \" +str(test_str))\n",
    "\n",
    "res = \"\".join(help_dict[i] for i in test_str.split())\n",
    "print(res)       "
   ]
  },
  {
   "cell_type": "code",
   "execution_count": 175,
   "id": "f5ef1056",
   "metadata": {},
   "outputs": [
    {
     "name": "stdout",
     "output_type": "stream",
     "text": [
      "[1, 2, 2, 1, 1, 1, 1, 3, 2, 1, 1]\n"
     ]
    }
   ],
   "source": [
    "# Python | Consecutive characters frequency\n",
    "\n",
    "test_str = \"geekksforgggeeks\"\n",
    "count = 1\n",
    "res = []\n",
    "\n",
    "for i in range(len(test_str)-1):\n",
    "    if test_str[i] == test_str[i+1]:\n",
    "        count+= 1\n",
    "    else:\n",
    "        res.append(count)\n",
    "        count = 1\n",
    "res.append(count)\n",
    "print(res)\n",
    "    "
   ]
  },
  {
   "cell_type": "code",
   "execution_count": null,
   "id": "1cd86e1a",
   "metadata": {},
   "outputs": [],
   "source": []
  },
  {
   "cell_type": "code",
   "execution_count": 186,
   "id": "b3779976",
   "metadata": {},
   "outputs": [
    {
     "name": "stdout",
     "output_type": "stream",
     "text": [
      "Ge\n",
      "eksforGeeks\n",
      "GeeksforGee\n",
      "ks\n",
      "left rotation:  eksforGeeksGe\n",
      "right rotation:  ksGeeksforGee\n"
     ]
    }
   ],
   "source": [
    "#String slicing in Python to Rotate a String\n",
    "\n",
    "s = \"GeeksforGeeks\"\n",
    "d= 2\n",
    "\n",
    "leftfirst = s[:d]\n",
    "print(leftfirst)\n",
    "\n",
    "leftsecond = s[d:]\n",
    "print(leftsecond)\n",
    "\n",
    "rightfirst = s[:len(s)-d]\n",
    "print(rightfirst)\n",
    "\n",
    "rightsecond = s[len(s)-d:]\n",
    "print(rightsecond)\n",
    "\n",
    "print(\"left rotation: \" , leftsecond +leftfirst)\n",
    "print(\"right rotation: \" , rightsecond+ rightfirst)"
   ]
  },
  {
   "cell_type": "markdown",
   "id": "5b02a58c",
   "metadata": {},
   "source": [
    "# Tuple"
   ]
  },
  {
   "cell_type": "code",
   "execution_count": 193,
   "id": "722aa92c",
   "metadata": {},
   "outputs": [
    {
     "name": "stdout",
     "output_type": "stream",
     "text": [
      "[1, 5, 7, 8, 10]\n",
      "[5, 35, 56, 80]\n",
      "(5, 35, 56, 80)\n"
     ]
    }
   ],
   "source": [
    "# Python | Multiply Adjacent elements\n",
    "\n",
    "test_tup = (1, 5, 7, 8, 10)\n",
    "\n",
    "lst = list(test_tup)\n",
    "print(lst)\n",
    "\n",
    "res = []\n",
    "\n",
    "for i in range(len(lst)-1):\n",
    "    res.append(lst[i]* lst[i+1])\n",
    "print(res)\n",
    "print(tuple(res))"
   ]
  },
  {
   "cell_type": "code",
   "execution_count": 214,
   "id": "247cf115",
   "metadata": {},
   "outputs": [
    {
     "name": "stdout",
     "output_type": "stream",
     "text": [
      "[[5, 6, 7, 8], [6, 10], [7, 13]]\n"
     ]
    }
   ],
   "source": [
    "# Python – Join Tuples if similar initial element\n",
    "\n",
    "test_list = [(5, 6), (5, 7), (5, 8), (6, 10), (7, 13)] \n",
    "\n",
    "x = []\n",
    "res = []\n",
    "\n",
    "for i in test_list:\n",
    "    if i[0] not in x:\n",
    "        x.append(i[0])\n",
    "#print(x)\n",
    "for i in x:\n",
    "    p = []\n",
    "    p.append(i)\n",
    "    #print(p)\n",
    "    for j in test_list:\n",
    "        if i == j[0]:\n",
    "            p.append(j[1])\n",
    "    res.append(p)\n",
    "print(res)\n",
    "\n"
   ]
  },
  {
   "cell_type": "code",
   "execution_count": 224,
   "id": "ccff7a44",
   "metadata": {},
   "outputs": [
    {
     "name": "stdout",
     "output_type": "stream",
     "text": [
      "[[5, 6, 7], [6, 8, 10], [7, 13]]\n"
     ]
    }
   ],
   "source": [
    "test_list = [(5, 6), (5, 7), (6, 8), (6, 10), (7, 13)]\n",
    "\n",
    "x = []\n",
    "res = []\n",
    "\n",
    "for i in test_list:\n",
    "    if i[0] not in x:\n",
    "        x.append(i[0])\n",
    "#print(x)\n",
    "\n",
    "for i in x:\n",
    "    p = [i]\n",
    "    #p.append(i)\n",
    "    #print(p)\n",
    "    for j in test_list:\n",
    "        if i == j[0]:\n",
    "            p.append(j[1])\n",
    "    res.append(p)\n",
    "print(res)"
   ]
  },
  {
   "cell_type": "code",
   "execution_count": 229,
   "id": "8d4c4278",
   "metadata": {},
   "outputs": [
    {
     "name": "stdout",
     "output_type": "stream",
     "text": [
      "(7, 7)\n",
      "(7, 8)\n",
      "(2, 7)\n",
      "(2, 8)\n",
      "(7, 7)\n",
      "(7, 2)\n",
      "(8, 7)\n",
      "(8, 2)\n"
     ]
    }
   ],
   "source": [
    "#  Python – All pair combinations of 2 tuples\n",
    "test_tuple1 = (7, 2)\n",
    "test_tuple2 = (7, 8) \n",
    "\n",
    "\n",
    "for a in test_tuple1:\n",
    "    for b in test_tuple2:\n",
    "        res = a,b\n",
    "        print(res)\n",
    "for a in test_tuple2:\n",
    "    for b in test_tuple1:\n",
    "        res1 = a,b\n",
    "        print(res1)\n",
    "#print(res+res1)\n",
    "        \n"
   ]
  },
  {
   "cell_type": "code",
   "execution_count": 246,
   "id": "0b944b0b",
   "metadata": {},
   "outputs": [
    {
     "name": "stdout",
     "output_type": "stream",
     "text": [
      "[(4,), (8, 6, 7), (1,), (3, 4, 6, 7)]\n"
     ]
    }
   ],
   "source": [
    "# Python – Remove Tuples of Length K\n",
    "\n",
    "test_list = [(4, 5), (4, ), (8, 6, 7), (1, ), (3, 4, 6, 7)]\n",
    "k = 2 \n",
    "\n",
    "res = [i for i in test_list if len(i) != k]\n",
    "print(res)"
   ]
  },
  {
   "cell_type": "code",
   "execution_count": 247,
   "id": "d74d1909",
   "metadata": {},
   "outputs": [
    {
     "name": "stdout",
     "output_type": "stream",
     "text": [
      "(4,)\n",
      "(8, 6, 7)\n",
      "(1,)\n",
      "(3, 4, 6, 7)\n"
     ]
    }
   ],
   "source": [
    "for i in test_list:\n",
    "    if len(i) != k:\n",
    "        print(i)"
   ]
  },
  {
   "cell_type": "code",
   "execution_count": 255,
   "id": "c78a43d5",
   "metadata": {},
   "outputs": [
    {
     "name": "stdout",
     "output_type": "stream",
     "text": [
      "[(None, 2), (3, 4), (12, 3)]\n"
     ]
    }
   ],
   "source": [
    "# Python – Remove Tuples from the List having every element as None\n",
    "\n",
    "test_list = [(None, 2), (None, None), (3, 4), (12, 3), (None, )] \n",
    "\n",
    "re = []\n",
    "for i in  test_list:\n",
    "    if not(i.count(None) == len(i)):\n",
    "    #if i.count(None) == len(i):\n",
    "        re.append(i)\n",
    "print(re)"
   ]
  },
  {
   "cell_type": "code",
   "execution_count": 257,
   "id": "ace40065",
   "metadata": {},
   "outputs": [
    {
     "name": "stdout",
     "output_type": "stream",
     "text": [
      "[('Geeks', 8), ('Geeks', 30), ('for', 24)]\n"
     ]
    }
   ],
   "source": [
    "# Python program to sort a list of tuples by second Item\n",
    "\n",
    "test_list = [('for', 24), ('Geeks', 8), ('Geeks', 30)] \n",
    "\n",
    "\n",
    "res = sorted(test_list)\n",
    "print(res)\n",
    "\n"
   ]
  },
  {
   "cell_type": "code",
   "execution_count": 258,
   "id": "269f4069",
   "metadata": {},
   "outputs": [
    {
     "data": {
      "text/plain": [
       "[(1, 2), (3, 4, 6, 723), (134, 234, 34)]"
      ]
     },
     "execution_count": 258,
     "metadata": {},
     "output_type": "execute_result"
    }
   ],
   "source": [
    "# Python – Sort Tuples by Total digits\n",
    "\n",
    "test_list = [(3, 4, 6, 723), (1, 2), (134, 234, 34)] \n",
    "\n",
    "resa = sorted(test_list)\n",
    "resa\n"
   ]
  },
  {
   "cell_type": "code",
   "execution_count": 19,
   "id": "69d718aa",
   "metadata": {},
   "outputs": [
    {
     "name": "stdout",
     "output_type": "stream",
     "text": [
      "{4: 2, 5: 3, 6: 2}\n"
     ]
    }
   ],
   "source": [
    "# Python – Elements frequency in Tuple\n",
    "\n",
    "test_tup = (4, 5, 4, 5, 6, 6, 5) \n",
    "\n",
    "lst = list(test_tup)\n",
    "r = dict()\n",
    "y = []\n",
    "\n",
    "for i in lst:\n",
    "    if i not in y:\n",
    "        y.append(i)\n",
    "for i in y:\n",
    "    r[i] = lst.count(i)\n",
    "print(r)\n",
    "        \n"
   ]
  },
  {
   "cell_type": "markdown",
   "id": "e00701a4",
   "metadata": {},
   "source": [
    "# Dictionary"
   ]
  },
  {
   "cell_type": "code",
   "execution_count": 22,
   "id": "a253640c",
   "metadata": {},
   "outputs": [
    {
     "name": "stdout",
     "output_type": "stream",
     "text": [
      "600\n"
     ]
    }
   ],
   "source": [
    "# Python program to find the sum of all items in a dictionary\n",
    "\n",
    "mydict = {\"a\": 100, \"b\":200, \"c\":300}\n",
    "\n",
    "res = sum(mydict.values())\n",
    "print(res)"
   ]
  },
  {
   "cell_type": "code",
   "execution_count": 27,
   "id": "f7839ac4",
   "metadata": {},
   "outputs": [
    {
     "name": "stdout",
     "output_type": "stream",
     "text": [
      "{'d': 6, 'c': 4, 'a': 10, 'b': 8}\n"
     ]
    }
   ],
   "source": [
    "# Python | Merging two Dictionaries\n",
    "\n",
    "dict1 = {'a': 10, 'b': 8}\n",
    "dict2 = {'d': 6, 'c': 4}\n",
    "\n",
    "dict2.update(dict1)\n",
    "print(dict2)\n"
   ]
  },
  {
   "cell_type": "code",
   "execution_count": 36,
   "id": "48a529eb",
   "metadata": {},
   "outputs": [
    {
     "name": "stdout",
     "output_type": "stream",
     "text": [
      "[20, 80]\n"
     ]
    }
   ],
   "source": [
    "#Find common elements in three sorted arrays by dictionary intersection\n",
    "\n",
    "ar1 = [1, 5, 10, 20, 40, 80]\n",
    "ar2 = [6, 7, 20, 80, 100]\n",
    "ar3 = [3, 4, 15, 20, 30, 70, 80, 120]\n",
    "\n",
    "n1,n2,n3 = len(ar1),len(ar2),len(ar3)\n",
    "\n",
    "i,j,k = 0,0,0\n",
    "res = []\n",
    "\n",
    "while i < n1 and j < n2 and k < n3:\n",
    "    if ar1[i] ==  ar2[j]== ar3[k]:\n",
    "        res.append(ar1[i])\n",
    "        i+= 1\n",
    "        j+=1\n",
    "        k+=1\n",
    "    elif ar1[i] <ar2[j]:\n",
    "        i += 1\n",
    "    elif ar2[j] < ar3[k]:\n",
    "        j += 1\n",
    "    else:\n",
    "        k += 1\n",
    "print(res)"
   ]
  },
  {
   "cell_type": "code",
   "execution_count": null,
   "id": "a5d4ba6a",
   "metadata": {},
   "outputs": [],
   "source": []
  },
  {
   "cell_type": "code",
   "execution_count": null,
   "id": "ca5d6990",
   "metadata": {},
   "outputs": [],
   "source": []
  },
  {
   "cell_type": "code",
   "execution_count": null,
   "id": "777fec79",
   "metadata": {},
   "outputs": [],
   "source": []
  },
  {
   "cell_type": "code",
   "execution_count": null,
   "id": "4bf8fad9",
   "metadata": {},
   "outputs": [],
   "source": []
  },
  {
   "cell_type": "code",
   "execution_count": null,
   "id": "76827386",
   "metadata": {},
   "outputs": [],
   "source": []
  },
  {
   "cell_type": "code",
   "execution_count": null,
   "id": "d05ac449",
   "metadata": {},
   "outputs": [],
   "source": []
  },
  {
   "cell_type": "code",
   "execution_count": null,
   "id": "da607765",
   "metadata": {},
   "outputs": [],
   "source": []
  },
  {
   "cell_type": "code",
   "execution_count": null,
   "id": "81b6844e",
   "metadata": {},
   "outputs": [],
   "source": []
  },
  {
   "cell_type": "code",
   "execution_count": null,
   "id": "fb27d4de",
   "metadata": {},
   "outputs": [],
   "source": []
  },
  {
   "cell_type": "code",
   "execution_count": null,
   "id": "ee9b3338",
   "metadata": {},
   "outputs": [],
   "source": []
  },
  {
   "cell_type": "code",
   "execution_count": null,
   "id": "62fb57cb",
   "metadata": {},
   "outputs": [],
   "source": []
  },
  {
   "cell_type": "code",
   "execution_count": null,
   "id": "b77d785a",
   "metadata": {},
   "outputs": [],
   "source": []
  },
  {
   "cell_type": "code",
   "execution_count": null,
   "id": "cdbe3f31",
   "metadata": {},
   "outputs": [],
   "source": []
  },
  {
   "cell_type": "code",
   "execution_count": null,
   "id": "7dad8d78",
   "metadata": {},
   "outputs": [],
   "source": []
  },
  {
   "cell_type": "code",
   "execution_count": null,
   "id": "d368f559",
   "metadata": {},
   "outputs": [],
   "source": []
  },
  {
   "cell_type": "code",
   "execution_count": null,
   "id": "0657ac31",
   "metadata": {},
   "outputs": [],
   "source": []
  },
  {
   "cell_type": "code",
   "execution_count": null,
   "id": "09efcd1c",
   "metadata": {},
   "outputs": [],
   "source": []
  },
  {
   "cell_type": "code",
   "execution_count": null,
   "id": "51d0559f",
   "metadata": {},
   "outputs": [],
   "source": []
  },
  {
   "cell_type": "code",
   "execution_count": null,
   "id": "1c91267b",
   "metadata": {},
   "outputs": [],
   "source": []
  },
  {
   "cell_type": "code",
   "execution_count": null,
   "id": "2da64f3c",
   "metadata": {},
   "outputs": [],
   "source": []
  },
  {
   "cell_type": "code",
   "execution_count": null,
   "id": "f7d33138",
   "metadata": {},
   "outputs": [],
   "source": []
  },
  {
   "cell_type": "code",
   "execution_count": null,
   "id": "ce4713ca",
   "metadata": {},
   "outputs": [],
   "source": []
  },
  {
   "cell_type": "code",
   "execution_count": null,
   "id": "988a45aa",
   "metadata": {},
   "outputs": [],
   "source": []
  },
  {
   "cell_type": "code",
   "execution_count": null,
   "id": "1ba58d0b",
   "metadata": {},
   "outputs": [],
   "source": []
  },
  {
   "cell_type": "code",
   "execution_count": null,
   "id": "fc11caec",
   "metadata": {},
   "outputs": [],
   "source": []
  },
  {
   "cell_type": "code",
   "execution_count": null,
   "id": "ce9e6b79",
   "metadata": {},
   "outputs": [],
   "source": []
  }
 ],
 "metadata": {
  "kernelspec": {
   "display_name": "Python 3 (ipykernel)",
   "language": "python",
   "name": "python3"
  },
  "language_info": {
   "codemirror_mode": {
    "name": "ipython",
    "version": 3
   },
   "file_extension": ".py",
   "mimetype": "text/x-python",
   "name": "python",
   "nbconvert_exporter": "python",
   "pygments_lexer": "ipython3",
   "version": "3.9.12"
  }
 },
 "nbformat": 4,
 "nbformat_minor": 5
}
