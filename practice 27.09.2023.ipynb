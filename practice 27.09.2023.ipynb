{
 "cells": [
  {
   "cell_type": "markdown",
   "id": "1e44653f",
   "metadata": {},
   "source": [
    "# Function"
   ]
  },
  {
   "cell_type": "code",
   "execution_count": 3,
   "id": "1df6b7ec",
   "metadata": {},
   "outputs": [
    {
     "name": "stdout",
     "output_type": "stream",
     "text": [
      "hello\n"
     ]
    }
   ],
   "source": [
    "# create function\n",
    "\n",
    "def mysimple():\n",
    "    print(\"hello\")\n",
    "mysimple()"
   ]
  },
  {
   "cell_type": "code",
   "execution_count": 24,
   "id": "b2c431dd",
   "metadata": {},
   "outputs": [
    {
     "name": "stdout",
     "output_type": "stream",
     "text": [
      "enter no: 2\n",
      "enter no: 5\n",
      "addition:  7\n",
      "multiplication:  10\n",
      "substaction:  -3\n",
      "division 0\n"
     ]
    }
   ],
   "source": [
    "def calculator():\n",
    "    \n",
    "    first_no = int(input(\"enter no: \"))\n",
    "    second_no = int(input(\"enter no: \"))\n",
    "    \n",
    "    def add():\n",
    "        print(\"addition: \",first_no + second_no)\n",
    "    \n",
    "    def mul():\n",
    "        print(\"multiplication: \",first_no * second_no)\n",
    "    \n",
    "    def sub():\n",
    "        print(\"substaction: \",first_no - second_no)\n",
    "    \n",
    "    def div():\n",
    "        print(\"division\", first_no // second_no)\n",
    "        \n",
    "    add()\n",
    "    mul()\n",
    "    sub()\n",
    "    div()\n",
    "    \n",
    "calculator()  "
   ]
  },
  {
   "cell_type": "code",
   "execution_count": 61,
   "id": "7d15d437",
   "metadata": {},
   "outputs": [
    {
     "name": "stdout",
     "output_type": "stream",
     "text": [
      "enter no: 11\n",
      "enter no: 12\n",
      "Addition:  23\n",
      "Multiplication:  132\n",
      "Substraction:  -1\n",
      "Division:  0\n"
     ]
    }
   ],
   "source": [
    "class calculator:\n",
    "    \n",
    "    def __init__(self,a,b):\n",
    "        self.a = a\n",
    "        self.b = b\n",
    "    \n",
    "    def add(self):\n",
    "        print(\"Addition: \",self.a + self.b)\n",
    "        \n",
    "    def mul(self):\n",
    "        print(\"Multiplication: \",self.a * self.b)\n",
    "        \n",
    "    def sub(self):\n",
    "        print(\"Substraction: \",self.a - self.b)\n",
    "    \n",
    "    def div(self):\n",
    "        print(\"Division: \",self.a // self.b)\n",
    "        \n",
    "           \n",
    "\n",
    "first_no = int(input(\"enter no: \"))\n",
    "second_no = int(input(\"enter no: \"))\n",
    "\n",
    "cal = calculator(first_no, second_no)\n",
    "cal.add()\n",
    "cal.mul()\n",
    "cal.sub()\n",
    "cal.div()"
   ]
  },
  {
   "cell_type": "code",
   "execution_count": null,
   "id": "0eab866d",
   "metadata": {},
   "outputs": [],
   "source": []
  },
  {
   "cell_type": "code",
   "execution_count": 74,
   "id": "9f757935",
   "metadata": {},
   "outputs": [
    {
     "name": "stdout",
     "output_type": "stream",
     "text": [
      "enter purchase amount: 23\n",
      "enter selling amount: 23\n",
      "No profit no loss\n",
      "0\n"
     ]
    }
   ],
   "source": [
    "# How to Print Multiple Arguments in Python?\n",
    "\n",
    "class superstore:\n",
    "    \n",
    "    def __init__(self,a,b):\n",
    "        self.a = a\n",
    "        self.b = b\n",
    "         \n",
    "        \n",
    "    def profit_loss(self):\n",
    "        if purchase_price < selling_price:\n",
    "            print(\"profit\")\n",
    "        elif (purchase_price == selling_price):\n",
    "                print(\"No profit no loss\")\n",
    "        else:\n",
    "            print(\"lose\")\n",
    "            \n",
    "        print(self.b - self.a)\n",
    "        \n",
    "purchase_price = int(input(\"enter purchase amount: \"))\n",
    "selling_price = int(input(\"enter selling amount: \"))\n",
    "        \n",
    "sup = superstore(purchase_price,selling_price)\n",
    "sup.profit_loss()        "
   ]
  },
  {
   "cell_type": "code",
   "execution_count": 75,
   "id": "b31276c5",
   "metadata": {},
   "outputs": [
    {
     "name": "stdout",
     "output_type": "stream",
     "text": [
      "Enter a name: komal\n",
      "Name not found.\n"
     ]
    }
   ],
   "source": [
    "names = [\"Jacob\", \"Joe\", \"Jim\"]\n",
    " \n",
    "if (name := input(\"Enter a name: \")) in names:\n",
    "    print(f\"Hello, {name}!\")\n",
    "else:\n",
    "    print(\"Name not found.\")"
   ]
  },
  {
   "cell_type": "code",
   "execution_count": 76,
   "id": "952762a2",
   "metadata": {},
   "outputs": [
    {
     "data": {
      "text/plain": [
       "8"
      ]
     },
     "execution_count": 76,
     "metadata": {},
     "output_type": "execute_result"
    }
   ],
   "source": [
    "# Python program to find the power of a number using recursion\n",
    "\n",
    "n = 2 \n",
    "p = 3\n",
    "\n",
    "def power(n,p):\n",
    "    result = n**3\n",
    "    return result\n",
    "    \n",
    "power(n,p)    "
   ]
  },
  {
   "cell_type": "code",
   "execution_count": 77,
   "id": "eb6805ca",
   "metadata": {},
   "outputs": [
    {
     "name": "stdout",
     "output_type": "stream",
     "text": [
      "['a', 'b', 'c']\n"
     ]
    }
   ],
   "source": [
    "mylist = [\"a\", \"b\", \"a\", \"c\", \"c\"]\n",
    "mylist = list(dict.fromkeys(mylist))\n",
    "print(mylist)"
   ]
  },
  {
   "cell_type": "code",
   "execution_count": 1,
   "id": "44588cc9",
   "metadata": {},
   "outputs": [
    {
     "name": "stdout",
     "output_type": "stream",
     "text": [
      "4\n"
     ]
    }
   ],
   "source": [
    "def power(N,P):\n",
    "    if P == 0:\n",
    "        return 1\n",
    "    \n",
    "    if P%2 == 0:\n",
    "        result = power(N, P//2)\n",
    "        return result * result\n",
    "    else :\n",
    "        result = power(N, (P-1)//2)\n",
    "        return N * result * result \n",
    "    \n",
    "if __name__ == '__main__':\n",
    "    N = 2\n",
    "    P = 2\n",
    "    \n",
    "print(power(N,P)) "
   ]
  },
  {
   "cell_type": "code",
   "execution_count": 6,
   "id": "b930d4f9",
   "metadata": {},
   "outputs": [
    {
     "name": "stdout",
     "output_type": "stream",
     "text": [
      "[1, 3, 9, 26]\n",
      "['foR', 'Geeks', 'gEEks']\n"
     ]
    }
   ],
   "source": [
    "print(sorted([1,26,3,9]))\n",
    "print(sorted(\"Geeks foR gEEks\".split(), key=str.lower))"
   ]
  },
  {
   "cell_type": "code",
   "execution_count": 20,
   "id": "68b17fe6",
   "metadata": {},
   "outputs": [
    {
     "name": "stdout",
     "output_type": "stream",
     "text": [
      "[('lila', 1), ('didha', 3), ('keeee', 4), ('janvi', 4), ('komal', 5), ('mali', 5)]\n"
     ]
    }
   ],
   "source": [
    "# Sorting objects of User Defined Class\n",
    "\n",
    "class student:\n",
    "    def __init__(self,a,b):\n",
    "        self.a = a\n",
    "        self.b = b\n",
    "    \n",
    "    def __repr__(self):\n",
    "        return str((self.a, self.b))\n",
    "        \n",
    "std = [student(\"komal\",5),student(\"keeee\",4),student(\"lila\",1),student(\"didha\",3),student(\"janvi\",4),student(\"mali\",5)]\n",
    "print(sorted(std,key = lambda x:x.b))\n",
    "   "
   ]
  },
  {
   "cell_type": "code",
   "execution_count": 23,
   "id": "c17bee89",
   "metadata": {},
   "outputs": [
    {
     "name": "stdout",
     "output_type": "stream",
     "text": [
      "Today is very cold day\n"
     ]
    }
   ],
   "source": [
    "# Assign Function to a Variable in Python\n",
    "\n",
    "def a():\n",
    "    print(\"Today is very cold day\")\n",
    "var = a\n",
    "var()\n"
   ]
  },
  {
   "cell_type": "code",
   "execution_count": 26,
   "id": "7e64c06c",
   "metadata": {},
   "outputs": [
    {
     "name": "stdout",
     "output_type": "stream",
     "text": [
      "enter no: 2\n",
      "even number\n"
     ]
    }
   ],
   "source": [
    "def number():\n",
    "    if no % 2 == 0:\n",
    "        print(\"even number\")\n",
    "    else:\n",
    "        print(\"odd number\")\n",
    "        \n",
    "no = int(input(\"enter no: \"))\n",
    "\n",
    "number()"
   ]
  },
  {
   "cell_type": "code",
   "execution_count": 35,
   "id": "830ea0e8",
   "metadata": {},
   "outputs": [
    {
     "name": "stdout",
     "output_type": "stream",
     "text": [
      "False\n"
     ]
    }
   ],
   "source": [
    "# How to check if a Python variable exists?\n",
    "b_variable = 0\n",
    "\n",
    "def func():\n",
    "    \n",
    "    a_variable = 0 # assign local variable\n",
    "    \n",
    "    if \"b_variable\" in locals():\n",
    "        print(True)\n",
    "    else:\n",
    "        print(False)\n",
    "func()"
   ]
  },
  {
   "cell_type": "code",
   "execution_count": 36,
   "id": "59a97152",
   "metadata": {},
   "outputs": [
    {
     "name": "stdout",
     "output_type": "stream",
     "text": [
      "True\n"
     ]
    }
   ],
   "source": [
    "b_variable = 0 # assign global variable\n",
    "\n",
    "def func():\n",
    "    \n",
    "    a_variable = 0\n",
    "    \n",
    "    if \"b_variable\" in globals():\n",
    "        print(True)\n",
    "    else:\n",
    "        print(False)\n",
    "func()"
   ]
  },
  {
   "cell_type": "code",
   "execution_count": 45,
   "id": "627ad7a7",
   "metadata": {},
   "outputs": [
    {
     "name": "stdout",
     "output_type": "stream",
     "text": [
      "['apple', 'is', 'a', 'fruit']\n"
     ]
    }
   ],
   "source": [
    "# Python splitfields() Method\n",
    "\n",
    "class string(str):\n",
    "    \n",
    "    def splitfield(self,sep = None):\n",
    "        if sep is None:\n",
    "            return self.split()\n",
    "        else:\n",
    "            return self.split(sep)\n",
    "\n",
    "strs = \"apple is a fruit\"\n",
    "result = string.splitfield(strs)\n",
    "print(result)"
   ]
  },
  {
   "cell_type": "markdown",
   "id": "90029b8d",
   "metadata": {},
   "source": [
    "# Oops"
   ]
  },
  {
   "cell_type": "code",
   "execution_count": 50,
   "id": "641ba0c7",
   "metadata": {},
   "outputs": [
    {
     "name": "stdout",
     "output_type": "stream",
     "text": [
      "maruti\n",
      "1964\n"
     ]
    }
   ],
   "source": [
    "class bikes:\n",
    "    def __init__(self,brandname,year):\n",
    "        self.brandname = brandname\n",
    "        self.year = year\n",
    "        \n",
    "bke = bikes(\"maruti\",1964) \n",
    "print(bke.brandname)\n",
    "print(bke.year)"
   ]
  },
  {
   "cell_type": "code",
   "execution_count": 51,
   "id": "406a889c",
   "metadata": {},
   "outputs": [
    {
     "name": "stdout",
     "output_type": "stream",
     "text": [
      "dog bhaw\n",
      "animal making sound\n"
     ]
    }
   ],
   "source": [
    "# singal level inheritance\n",
    "\n",
    "class animal:\n",
    "    def sound(self):\n",
    "        print(\"animal making sound\")\n",
    "        \n",
    "class dog(animal):\n",
    "    def bhaw(self):\n",
    "        print(\"dog bhaw\")\n",
    "    \n",
    "d = dog()\n",
    "d.bhaw()\n",
    "d.sound()"
   ]
  },
  {
   "cell_type": "code",
   "execution_count": 52,
   "id": "674a19dd",
   "metadata": {},
   "outputs": [
    {
     "name": "stdout",
     "output_type": "stream",
     "text": [
      "animal making sound\n",
      "dog is bhaw\n",
      "cat sound meow\n"
     ]
    }
   ],
   "source": [
    "# multilevel inheritance\n",
    "\n",
    "class animal:\n",
    "    def sound(self):\n",
    "        print(\"animal making sound\")\n",
    "class cat(animal):\n",
    "    def meow(self):\n",
    "        print(\"cat sound meow\")\n",
    "        \n",
    "class dog(cat):\n",
    "    def bhaw(self):\n",
    "        print(\"dog is bhaw\")\n",
    "        \n",
    "obj = dog()\n",
    "obj.sound()\n",
    "obj.bhaw()\n",
    "obj.meow()\n"
   ]
  },
  {
   "cell_type": "code",
   "execution_count": 54,
   "id": "c196f4b0",
   "metadata": {},
   "outputs": [
    {
     "name": "stdout",
     "output_type": "stream",
     "text": [
      "principal is main authority in one organization\n",
      "manage all documents\n"
     ]
    }
   ],
   "source": [
    "# single level inheritance\n",
    "\n",
    "class principal:\n",
    "    def admin(self):\n",
    "        print(\"principal is main authority in one organization\")\n",
    "class Admin(principal):\n",
    "    def manage(self):\n",
    "        print(\"manage all documents\")\n",
    "        \n",
    "prin = Admin()\n",
    "prin.admin()\n",
    "prin.manage()\n",
    "\n"
   ]
  },
  {
   "cell_type": "code",
   "execution_count": 55,
   "id": "4583368c",
   "metadata": {},
   "outputs": [
    {
     "name": "stdout",
     "output_type": "stream",
     "text": [
      "principal is main authority in one organization\n",
      "manage all documents\n",
      "all subject teach teacher\n"
     ]
    }
   ],
   "source": [
    "# multilevel inheritance\n",
    "\n",
    "class principal:\n",
    "    def admin(self):\n",
    "        print(\"principal is main authority in one organization\")\n",
    "class Admin(principal):\n",
    "    def manage(self):\n",
    "        print(\"manage all documents\")\n",
    "class teacher(Admin):\n",
    "    def teach(self):\n",
    "        print(\"all subject teach teacher\")\n",
    "        \n",
    "obj = teacher()\n",
    "obj.admin()\n",
    "obj.manage()\n",
    "obj.teach()"
   ]
  },
  {
   "cell_type": "code",
   "execution_count": 65,
   "id": "e2af6f2f",
   "metadata": {},
   "outputs": [
    {
     "name": "stdout",
     "output_type": "stream",
     "text": [
      "enter first number: 2\n",
      "enter second number: 85\n",
      "Addition done:  87\n",
      "Multiplication done:  170\n",
      "Substraction done:  -83\n"
     ]
    }
   ],
   "source": [
    "# multiple inheritance\n",
    "\n",
    "class calculation1:\n",
    "    def add(self,a,b):\n",
    "        return a+b\n",
    "class calculation2:\n",
    "    def sub(self,a,b):\n",
    "        return a-b\n",
    "class calculator(calculation1,calculation2):\n",
    "    def mul(self,a,b):\n",
    "        return a*b\n",
    "    \n",
    "num = int(input(\"enter first number: \"))\n",
    "num2 = int(input(\"enter second number: \"))\n",
    "\n",
    "cal = calculator()\n",
    "ad = cal.add(num,num2)\n",
    "print(\"Addition done: \",ad)\n",
    "ml = cal.mul(num,num2)\n",
    "print(\"Multiplication done: \",ml)\n",
    "sb = cal.sub(num,num2)\n",
    "print(\"Substraction done: \",sb)"
   ]
  },
  {
   "cell_type": "code",
   "execution_count": 72,
   "id": "1db629f4",
   "metadata": {},
   "outputs": [
    {
     "name": "stdout",
     "output_type": "stream",
     "text": [
      "enter student name: kio\n",
      "enter student age:22\n",
      "all subject teach you.\n",
      "all subject teach you.\n"
     ]
    }
   ],
   "source": [
    "# Hierachial inheritance\n",
    "\n",
    "class Principal:\n",
    "    def authority(self):\n",
    "        print(\"principal is main authority.\")\n",
    "        \n",
    "        \n",
    "class Teacher(Principal):\n",
    "    def subject(self):\n",
    "        print(\"all subject teach you.\")\n",
    "        \n",
    "class Student(Teacher):\n",
    "    def stu_bio(self,name,age):\n",
    "        self.name = name\n",
    "        self.age = age\n",
    "\n",
    "        \n",
    "name = input(\"enter student name: \")\n",
    "age = int(input(\"enter student age:\"))\n",
    "\n",
    "# tea = Teacher()\n",
    "# tea.subject()\n",
    "# std = Student()\n",
    "# std.\n",
    "# # std.authority()\n",
    "# # std.subject()\n",
    "# # std.stu_bio()\n",
    "\n",
    "# # tea.authority()\n",
    "# tea.subject()\n",
    "\n",
    "tea = Student()\n",
    "tea.subject\n"
   ]
  },
  {
   "cell_type": "code",
   "execution_count": null,
   "id": "c13c02e8",
   "metadata": {},
   "outputs": [],
   "source": []
  }
 ],
 "metadata": {
  "kernelspec": {
   "display_name": "Python 3 (ipykernel)",
   "language": "python",
   "name": "python3"
  },
  "language_info": {
   "codemirror_mode": {
    "name": "ipython",
    "version": 3
   },
   "file_extension": ".py",
   "mimetype": "text/x-python",
   "name": "python",
   "nbconvert_exporter": "python",
   "pygments_lexer": "ipython3",
   "version": "3.9.12"
  }
 },
 "nbformat": 4,
 "nbformat_minor": 5
}
