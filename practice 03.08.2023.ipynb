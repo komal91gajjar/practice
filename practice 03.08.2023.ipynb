{
 "cells": [
  {
   "cell_type": "code",
   "execution_count": 1,
   "id": "a4416a7a",
   "metadata": {},
   "outputs": [
    {
     "name": "stdout",
     "output_type": "stream",
     "text": [
      "['apple', 'cherry', 'apple', 'banana', 'cherry']\n"
     ]
    }
   ],
   "source": [
    "#remove list\n",
    "\n",
    "mylist = [\"apple\", \"banana\",\"cherry\",\"apple\", \"banana\",\"cherry\"]\n",
    "mylist.remove(\"banana\")\n",
    "print(mylist)"
   ]
  },
  {
   "cell_type": "code",
   "execution_count": 2,
   "id": "50a9e44f",
   "metadata": {},
   "outputs": [
    {
     "name": "stdout",
     "output_type": "stream",
     "text": [
      "['apple', 'banana', 'cherry', 'banana', 'cherry']\n"
     ]
    }
   ],
   "source": [
    "#pop \n",
    "\n",
    "mylist = [\"apple\", \"banana\",\"cherry\",\"apple\", \"banana\",\"cherry\"]\n",
    "mylist.pop(3)\n",
    "print(mylist)"
   ]
  },
  {
   "cell_type": "code",
   "execution_count": 3,
   "id": "b84e05d5",
   "metadata": {},
   "outputs": [
    {
     "name": "stdout",
     "output_type": "stream",
     "text": [
      "['apple', 'cherry', 'apple', 'banana', 'cherry']\n"
     ]
    }
   ],
   "source": [
    "mylist = [\"apple\", \"banana\",\"cherry\",\"apple\", \"banana\",\"cherry\"]\n",
    "del mylist[1]\n",
    "print(mylist)\n",
    "\n"
   ]
  },
  {
   "cell_type": "code",
   "execution_count": 4,
   "id": "18be8183",
   "metadata": {},
   "outputs": [
    {
     "name": "stdout",
     "output_type": "stream",
     "text": [
      "[]\n"
     ]
    }
   ],
   "source": [
    "mylist = [\"apple\", \"banana\",\"cherry\",\"apple\", \"banana\",\"cherry\"]\n",
    "mylist.clear()\n",
    "print(mylist)"
   ]
  },
  {
   "cell_type": "code",
   "execution_count": 5,
   "id": "66582d46",
   "metadata": {},
   "outputs": [
    {
     "name": "stdout",
     "output_type": "stream",
     "text": [
      "apple\n",
      "banana\n",
      "cherry\n"
     ]
    }
   ],
   "source": [
    "#looping in list\n",
    "\n",
    "mylist = [\"apple\", \"banana\",\"cherry\"] #for loop\n",
    "for a in mylist:\n",
    "    print(a)\n"
   ]
  },
  {
   "cell_type": "code",
   "execution_count": 6,
   "id": "09223b58",
   "metadata": {},
   "outputs": [
    {
     "name": "stdout",
     "output_type": "stream",
     "text": [
      "apple\n",
      "banana\n",
      "cherry\n"
     ]
    }
   ],
   "source": [
    "mylist = [\"apple\", \"banana\",\"cherry\"]\n",
    "for a in range(len(mylist)):\n",
    "    print(mylist[a])"
   ]
  },
  {
   "cell_type": "code",
   "execution_count": 7,
   "id": "346e7d69",
   "metadata": {},
   "outputs": [
    {
     "name": "stdout",
     "output_type": "stream",
     "text": [
      "apple\n",
      "banana\n",
      "cherry\n"
     ]
    }
   ],
   "source": [
    "mylist = [\"apple\", \"banana\",\"cherry\"] # while loop\n",
    "a = 0\n",
    "while a < len(mylist):\n",
    "    print(mylist[a])\n",
    "    a = a + 1"
   ]
  },
  {
   "cell_type": "code",
   "execution_count": 8,
   "id": "78123b92",
   "metadata": {},
   "outputs": [
    {
     "name": "stdout",
     "output_type": "stream",
     "text": [
      "apple\n",
      "banana\n",
      "cherry\n"
     ]
    }
   ],
   "source": [
    "thislist = [\"apple\", \"banana\", \"cherry\"]\n",
    "i = 0\n",
    "while i < len(thislist):\n",
    "  print(thislist[i])\n",
    "  i = i + 1"
   ]
  },
  {
   "cell_type": "code",
   "execution_count": 9,
   "id": "5de5b812",
   "metadata": {},
   "outputs": [
    {
     "name": "stdout",
     "output_type": "stream",
     "text": [
      "['apple', 'banana']\n"
     ]
    }
   ],
   "source": [
    "mylist = [\"apple\", \"banana\",\"cherry\"]\n",
    "newlist = []\n",
    "\n",
    "for a in mylist:\n",
    "    if \"a\" in a:\n",
    "        newlist.append(a)\n",
    "print(newlist)"
   ]
  },
  {
   "cell_type": "code",
   "execution_count": 10,
   "id": "17981b2d",
   "metadata": {},
   "outputs": [
    {
     "name": "stdout",
     "output_type": "stream",
     "text": [
      "['apple', 'banana', 'mango']\n"
     ]
    }
   ],
   "source": [
    "fruits = [\"apple\", \"banana\", \"cherry\", \"kiwi\", \"mango\"]\n",
    "newlist = []\n",
    "\n",
    "for x in fruits:\n",
    "  if \"a\" in x:\n",
    "    newlist.append(x)\n",
    "\n",
    "print(newlist)"
   ]
  },
  {
   "cell_type": "code",
   "execution_count": 11,
   "id": "ec3ceeb8",
   "metadata": {},
   "outputs": [
    {
     "name": "stdout",
     "output_type": "stream",
     "text": [
      "['school', 'college', 'hospital']\n"
     ]
    }
   ],
   "source": [
    "mylist = [\"school\",\"college\",\"university\",\"mall\",\"hospital\"]\n",
    "newlist = []\n",
    "\n",
    "for x in mylist:\n",
    "    if \"o\"  in x:\n",
    "        newlist.append(x)\n",
    "print(newlist)"
   ]
  },
  {
   "cell_type": "code",
   "execution_count": 12,
   "id": "c1148ffd",
   "metadata": {},
   "outputs": [
    {
     "name": "stdout",
     "output_type": "stream",
     "text": [
      "[0, 1, 2, 3, 4, 5, 6, 7, 8, 9]\n",
      "[0, 1, 2, 3, 4]\n"
     ]
    }
   ],
   "source": [
    "newlist = [x for x in range(10)]\n",
    "print(newlist)\n",
    "\n",
    "newlist = [x for x in range(10) if x < 5]\n",
    "print(newlist)"
   ]
  },
  {
   "cell_type": "code",
   "execution_count": 14,
   "id": "20e56131",
   "metadata": {},
   "outputs": [
    {
     "name": "stdout",
     "output_type": "stream",
     "text": [
      "['furniture', 'soffa', 'doctor', 'patient', ['happy', 'sad']]\n",
      "['happy', 'sad', ['furniture', 'soffa', 'doctor', 'patient', [...]]]\n"
     ]
    }
   ],
   "source": [
    "#list method\n",
    "list1 = [\"furniture\",\"soffa\",\"doctor\",\"patient\"]\n",
    "list2 = [\"happy\",\"sad\"]\n",
    "\n",
    "list1.append(list2)\n",
    "print(list1)\n",
    "\n",
    "list2.append(list1)\n",
    "print(list2)"
   ]
  },
  {
   "cell_type": "code",
   "execution_count": 15,
   "id": "eb013100",
   "metadata": {},
   "outputs": [
    {
     "name": "stdout",
     "output_type": "stream",
     "text": [
      "[]\n"
     ]
    }
   ],
   "source": [
    "list2 = [\"happy\",\"sad\"]\n",
    "list2.clear()\n",
    "print(list2)"
   ]
  },
  {
   "cell_type": "code",
   "execution_count": 17,
   "id": "11e6ab73",
   "metadata": {},
   "outputs": [
    {
     "name": "stdout",
     "output_type": "stream",
     "text": [
      "['happy', 'sad']\n"
     ]
    }
   ],
   "source": [
    "list2 = [\"happy\",\"sad\"]\n",
    "a = list2.copy()\n",
    "print(a)"
   ]
  },
  {
   "cell_type": "code",
   "execution_count": 19,
   "id": "c0f29f6f",
   "metadata": {},
   "outputs": [
    {
     "name": "stdout",
     "output_type": "stream",
     "text": [
      "6\n"
     ]
    }
   ],
   "source": [
    "list2 = [\"happy\",\"sad\",\"happy\",\"sad\",\"happy\",\"sad\",\"happy\",\"sad\",\"happy\",\"sad\",\"happy\",\"sad\"]\n",
    "a = list2.count(\"happy\")\n",
    "print(a)"
   ]
  },
  {
   "cell_type": "code",
   "execution_count": 22,
   "id": "1c20ac70",
   "metadata": {},
   "outputs": [
    {
     "name": "stdout",
     "output_type": "stream",
     "text": [
      "['apple', 'banana', 'cherry', 'kiwi', 'mango', 'school', 'college', 'university', 'mall', 'hospital']\n",
      "['school', 'college', 'university', 'mall', 'hospital', 'apple', 'banana', 'cherry', 'kiwi', 'mango', 'school', 'college', 'university', 'mall', 'hospital']\n"
     ]
    }
   ],
   "source": [
    "mylist1 = [\"school\",\"college\",\"university\",\"mall\",\"hospital\"]\n",
    "fruits = [\"apple\", \"banana\", \"cherry\", \"kiwi\", \"mango\"]\n",
    "\n",
    "fruits.extend(mylist1)\n",
    "print(fruits)\n",
    "\n",
    "mylist1.extend(fruits)\n",
    "print(mylist1)"
   ]
  },
  {
   "cell_type": "code",
   "execution_count": 23,
   "id": "2ed9447f",
   "metadata": {},
   "outputs": [
    {
     "name": "stdout",
     "output_type": "stream",
     "text": [
      "2\n"
     ]
    }
   ],
   "source": [
    "fruits = [\"apple\", \"banana\", \"cherry\", \"kiwi\", \"mango\"]\n",
    "a = fruits.index(\"cherry\")\n",
    "print(a)"
   ]
  },
  {
   "cell_type": "code",
   "execution_count": 25,
   "id": "1f12d941",
   "metadata": {},
   "outputs": [
    {
     "name": "stdout",
     "output_type": "stream",
     "text": [
      "['car', 'cycle', 'bike', 'motorcycle', 'vehical']\n"
     ]
    }
   ],
   "source": [
    "#tuple change value\n",
    "\n",
    "mytuple = (\"car\",\"cycle\",\"bike\",\"motorcycle\")\n",
    "a = list(mytuple)\n",
    "a.append(\"vehical\")\n",
    "print(a)"
   ]
  },
  {
   "cell_type": "code",
   "execution_count": 26,
   "id": "e566c585",
   "metadata": {},
   "outputs": [
    {
     "name": "stdout",
     "output_type": "stream",
     "text": [
      "['apple', 'banana', 'cherry', 'bike']\n"
     ]
    }
   ],
   "source": [
    "mytuple = (\"apple\",\"banana\",\"cherry\",\"bike\")\n",
    "x = list(mytuple)\n",
    "print(x)"
   ]
  },
  {
   "cell_type": "code",
   "execution_count": 27,
   "id": "8e34a8b5",
   "metadata": {},
   "outputs": [
    {
     "name": "stdout",
     "output_type": "stream",
     "text": [
      "['apple', 'banana', 'cherry', 'bike', 'sugar']\n"
     ]
    }
   ],
   "source": [
    "x.append(\"sugar\")\n",
    "print(x)"
   ]
  },
  {
   "cell_type": "markdown",
   "id": "6ff15bbf",
   "metadata": {},
   "source": [
    "#  practice "
   ]
  },
  {
   "cell_type": "code",
   "execution_count": 29,
   "id": "cb6d22cf",
   "metadata": {},
   "outputs": [
    {
     "name": "stdout",
     "output_type": "stream",
     "text": [
      "[3, 2, 1]\n"
     ]
    }
   ],
   "source": [
    "#reverse list\n",
    "\n",
    "list1 = [1,2,3]\n",
    "list1.sort(reverse=True)\n",
    "print(list1)"
   ]
  },
  {
   "cell_type": "code",
   "execution_count": 2,
   "id": "46e1c3f3",
   "metadata": {},
   "outputs": [
    {
     "name": "stdout",
     "output_type": "stream",
     "text": [
      "printing main list [12, 35, 9, 56, 24]\n",
      "printing output [24, 35, 9, 56, 12]\n"
     ]
    }
   ],
   "source": [
    "def swapLit(li1):\n",
    "    \n",
    "    li1[0] ,li1[-1] = li1[-1] ,li1[0]\n",
    "    \n",
    "    return li1\n",
    "\n",
    "li1 = [12, 35, 9, 56, 24]\n",
    "print(\"printing main list\",li1)\n",
    "a=swapLit(li1)\n",
    "print(\"printing output\",a)"
   ]
  },
  {
   "cell_type": "code",
   "execution_count": 82,
   "id": "42ec4926",
   "metadata": {},
   "outputs": [
    {
     "name": "stdout",
     "output_type": "stream",
     "text": [
      "[24, 35, 9, 56, 12]\n"
     ]
    }
   ],
   "source": [
    "def swapList(newList):\n",
    "     \n",
    "    newList[0], newList[-1] = newList[-1], newList[0]\n",
    " \n",
    "    return newList\n",
    "     \n",
    "# Driver code\n",
    "newList = [12, 35, 9, 56, 24]\n",
    "print(swapList(newList))"
   ]
  },
  {
   "cell_type": "code",
   "execution_count": 48,
   "id": "6066459b",
   "metadata": {},
   "outputs": [
    {
     "name": "stdout",
     "output_type": "stream",
     "text": [
      "[9, 8, 7, 6, 5, 4]\n"
     ]
    }
   ],
   "source": [
    "#reverse list\n",
    "\n",
    "list1 = [4, 5, 6, 7, 8, 9]\n",
    "list1.reverse()\n",
    "print(list1)"
   ]
  },
  {
   "cell_type": "code",
   "execution_count": 69,
   "id": "ccc67f88",
   "metadata": {},
   "outputs": [
    {
     "name": "stdout",
     "output_type": "stream",
     "text": [
      "1\n",
      "2\n",
      "3\n",
      "4\n",
      "5\n",
      "8\n",
      "2\n",
      "4\n",
      "7\n"
     ]
    }
   ],
   "source": [
    "# how to find lengh in list\n",
    "\n",
    "mylist = [1,2,3,4,5,8,2,4]\n",
    "\n",
    "\n",
    "for a in range(len(mylist)):\n",
    "    print(mylist[a])\n",
    "    \n",
    "\n",
    "print(a)\n",
    "\n"
   ]
  },
  {
   "cell_type": "code",
   "execution_count": 67,
   "id": "361847f7",
   "metadata": {},
   "outputs": [
    {
     "name": "stdout",
     "output_type": "stream",
     "text": [
      "4\n"
     ]
    }
   ],
   "source": [
    "#lengh find\n",
    "list1 = [\"furniture\",\"soffa\",\"doctor\",\"patient\"]\n",
    "\n",
    "a = len(list1)\n",
    "print(a)"
   ]
  },
  {
   "cell_type": "code",
   "execution_count": 54,
   "id": "d767888d",
   "metadata": {},
   "outputs": [
    {
     "name": "stdout",
     "output_type": "stream",
     "text": [
      "this list is valid\n"
     ]
    }
   ],
   "source": [
    "# check list valid\n",
    "list1 = [\"furniture\",\"soffa\",\"doctor\",\"patient\"]\n",
    "\n",
    "if \"doctor\" in list1:\n",
    "    print(\"this list is valid\")\n",
    "else:\n",
    "    print(\"list not valid\")"
   ]
  },
  {
   "cell_type": "code",
   "execution_count": 76,
   "id": "fe77163a",
   "metadata": {},
   "outputs": [
    {
     "name": "stdout",
     "output_type": "stream",
     "text": [
      "['soffa', 'doctor']\n",
      "['apple', 'banana', 'mango']\n"
     ]
    }
   ],
   "source": [
    "list1 = [\"furniture\",\"soffa\",\"doctor\",\"patient\"]\n",
    "list2 = []\n",
    "\n",
    "for a in list1:\n",
    "    if \"o\" in a:\n",
    "        list2.append(a)\n",
    "        \n",
    "print(list2)\n",
    "\n",
    "fruits = [\"apple\", \"banana\", \"cherry\", \"kiwi\", \"mango\"]\n",
    "newlist = []\n",
    "\n",
    "for x in fruits:\n",
    "  if \"a\" in x:\n",
    "    newlist.append(x)\n",
    "\n",
    "print(newlist)\n",
    "    "
   ]
  },
  {
   "cell_type": "code",
   "execution_count": 73,
   "id": "a5e16691",
   "metadata": {},
   "outputs": [
    {
     "name": "stdout",
     "output_type": "stream",
     "text": [
      "[]\n"
     ]
    }
   ],
   "source": [
    "list1 = [\"furniture\",\"soffa\",\"doctor\",\"patient\"]\n",
    "list1.clear()\n",
    "print(list1)"
   ]
  },
  {
   "cell_type": "code",
   "execution_count": 6,
   "id": "c078d24b",
   "metadata": {},
   "outputs": [
    {
     "name": "stdout",
     "output_type": "stream",
     "text": [
      "The original string :('furniture', 'soffa', 'doctor', 'patient')\n",
      "List after performing character swaps : ['furniture', 'saffa', 'dactar', 'patient']\n"
     ]
    }
   ],
   "source": [
    "#Swap elements in String list\n",
    "a = (\"furniture\",\"soffa\",\"doctor\",\"patient\")\n",
    "\n",
    "print(\"The original string :\"+str(a) )\n",
    "\n",
    "res = [sub.replace('o', 'a')for sub in a]\n",
    " \n",
    "\n",
    "print (\"List after performing character swaps : \" + str(res))\n",
    "\n"
   ]
  },
  {
   "cell_type": "code",
   "execution_count": 8,
   "id": "efd63b42",
   "metadata": {},
   "outputs": [
    {
     "name": "stdout",
     "output_type": "stream",
     "text": [
      "12\n"
     ]
    }
   ],
   "source": [
    "#Maximum of two numbers in Python\n",
    "\n",
    "a = 12\n",
    "b = 10\n",
    "c = 5\n",
    "\n",
    "x = max(a,b,c)\n",
    "print(x)"
   ]
  },
  {
   "cell_type": "code",
   "execution_count": 9,
   "id": "3289376e",
   "metadata": {},
   "outputs": [
    {
     "name": "stdout",
     "output_type": "stream",
     "text": [
      "5\n"
     ]
    }
   ],
   "source": [
    "x = min(a,b,c)\n",
    "print(x)"
   ]
  },
  {
   "cell_type": "code",
   "execution_count": 18,
   "id": "a2cdf98c",
   "metadata": {},
   "outputs": [
    {
     "name": "stdout",
     "output_type": "stream",
     "text": [
      "10\n"
     ]
    }
   ],
   "source": [
    "a = 10\n",
    "b = 5\n",
    "\n",
    "def maximum(a,b):\n",
    "    \n",
    "    if a >= b:\n",
    "        return a\n",
    "    else:\n",
    "        return b\n",
    "    \n",
    "print(maximum(a,b))\n",
    "\n"
   ]
  },
  {
   "cell_type": "code",
   "execution_count": 17,
   "id": "b336d2a2",
   "metadata": {},
   "outputs": [
    {
     "name": "stdout",
     "output_type": "stream",
     "text": [
      "4\n"
     ]
    }
   ],
   "source": [
    "def maximum(a, b):\n",
    "     \n",
    "    if a >= b:\n",
    "        return a\n",
    "    else:\n",
    "        return b\n",
    "     \n",
    "# Driver code\n",
    "a = 2\n",
    "b = 4\n",
    "print(maximum(a, b))"
   ]
  },
  {
   "cell_type": "code",
   "execution_count": 19,
   "id": "bd7c2064",
   "metadata": {},
   "outputs": [
    {
     "name": "stdout",
     "output_type": "stream",
     "text": [
      "5\n"
     ]
    }
   ],
   "source": [
    "def minimum(a,b):\n",
    "    if a <= b:\n",
    "        return a\n",
    "    else:\n",
    "        return b\n",
    "print(minimum(a,b))"
   ]
  },
  {
   "cell_type": "code",
   "execution_count": 20,
   "id": "0f019821",
   "metadata": {},
   "outputs": [
    {
     "name": "stdout",
     "output_type": "stream",
     "text": [
      "5\n"
     ]
    }
   ],
   "source": [
    "minimum = min(a,b)\n",
    "print(minimum)"
   ]
  },
  {
   "cell_type": "code",
   "execution_count": 22,
   "id": "f56049fd",
   "metadata": {},
   "outputs": [
    {
     "name": "stdout",
     "output_type": "stream",
     "text": [
      "['apple', 'banana', 'cherry']\n"
     ]
    }
   ],
   "source": [
    "#Cloning or Copying a list\n",
    "\n",
    "a = [\"apple\",\"banana\",\"cherry\"]\n",
    "x = a.copy()\n",
    "print(x)"
   ]
  },
  {
   "cell_type": "code",
   "execution_count": 23,
   "id": "3f92fda8",
   "metadata": {},
   "outputs": [
    {
     "data": {
      "text/plain": [
       "3"
      ]
     },
     "execution_count": 23,
     "metadata": {},
     "output_type": "execute_result"
    }
   ],
   "source": [
    "#Count occurrences of an element in a list\n",
    "\n",
    "lst = [15, 6, 7, 10, 12, 20, 10, 28, 10]\n",
    "\n",
    "lst.count(10)"
   ]
  },
  {
   "cell_type": "code",
   "execution_count": 24,
   "id": "57e35ee1",
   "metadata": {},
   "outputs": [
    {
     "data": {
      "text/plain": [
       "1"
      ]
     },
     "execution_count": 24,
     "metadata": {},
     "output_type": "execute_result"
    }
   ],
   "source": [
    "lst1 = [\"apple\",\"banana\",\"cherry\",\"apple\",\"cherry\",15, 6, 7, 10]\n",
    "lst1.count(\"banana\")\n"
   ]
  },
  {
   "cell_type": "code",
   "execution_count": 26,
   "id": "8a4fae59",
   "metadata": {},
   "outputs": [
    {
     "name": "stdout",
     "output_type": "stream",
     "text": [
      "8 has occurred 5 times\n"
     ]
    }
   ],
   "source": [
    "lst = [8, 6, 8, 10, 8, 20, 10, 8, 8]\n",
    "x = 8\n",
    "\n",
    "def countX(lst, x):\n",
    "    count = 0\n",
    "    for y in lst:\n",
    "        if (y == x):\n",
    "            count = count + 1\n",
    "    return count\n",
    " \n",
    " \n",
    "\n",
    "\n",
    "print('{} has occurred {} times'.format(x,countX(lst, x)))"
   ]
  },
  {
   "cell_type": "code",
   "execution_count": 39,
   "id": "620f3b1e",
   "metadata": {},
   "outputs": [
    {
     "name": "stdout",
     "output_type": "stream",
     "text": [
      "10 is repetd is 20\n"
     ]
    }
   ],
   "source": [
    "lst = [10,20,30,10,40,60,10,10,30,10,20,30,10,40,60,10,10,30,10,20,30,10,40,60,10,10,30,10,20,30,10,40,60,10,10,30,10,20,30,10,40,60,10,10,30]\n",
    "a = 10\n",
    "\n",
    "def cont(lst,a):\n",
    "    cont1 = 0\n",
    "    for b in lst:\n",
    "        if(b == a):\n",
    "            cont1 = cont1+1\n",
    "    return cont1\n",
    "print(\"{} is repetd is {}\".format(a,cont(lst,a)))"
   ]
  },
  {
   "cell_type": "code",
   "execution_count": 47,
   "id": "54d68b31",
   "metadata": {},
   "outputs": [
    {
     "name": "stdout",
     "output_type": "stream",
     "text": [
      "apple is 3 times repeat in list:\n"
     ]
    }
   ],
   "source": [
    "lst = [\"apple\",\"banana\",\"cherry\",\"banana\",\"cherry\",\"apple\",\"banana\",\"cherry\",\"apple\",\"banana\",\"cherry\"]\n",
    "a = \"apple\"\n",
    "\n",
    "def count(lst,a):\n",
    "    count1 = 0\n",
    "    for x in lst:\n",
    "        if (x == a):\n",
    "            count1 = count1 + 1\n",
    "    return count1\n",
    "    \n",
    "print(\"{} is {} times repeat in list:\".format(a,count(lst,a)))"
   ]
  },
  {
   "cell_type": "code",
   "execution_count": 61,
   "id": "2d1ad896",
   "metadata": {},
   "outputs": [
    {
     "name": "stdout",
     "output_type": "stream",
     "text": [
      "10\n",
      "2.5\n"
     ]
    }
   ],
   "source": [
    "#sum and average of List in Python\n",
    "\n",
    "lst = [1,2,3,4]\n",
    "count = sum(lst)\n",
    "print(x)\n",
    "\n",
    "avg = count/len(lst)\n",
    "print(avg)"
   ]
  },
  {
   "cell_type": "code",
   "execution_count": 5,
   "id": "2a3a3e78",
   "metadata": {},
   "outputs": [
    {
     "name": "stdout",
     "output_type": "stream",
     "text": [
      "30\n"
     ]
    }
   ],
   "source": [
    "#Multiply all numbers in the list\n",
    "\n",
    "lst1 = [1,2,3,5]\n",
    "\n",
    "def multiply(lst1):\n",
    "    count = 1\n",
    "    for a in lst1:\n",
    "        count = count*a\n",
    "    return count\n",
    "\n",
    "print(multiply(lst1))\n",
    "\n"
   ]
  },
  {
   "cell_type": "code",
   "execution_count": 15,
   "id": "9ccb3707",
   "metadata": {},
   "outputs": [
    {
     "name": "stdout",
     "output_type": "stream",
     "text": [
      "1200\n",
      "10\n"
     ]
    }
   ],
   "source": [
    "lst1 = [10,20,2,3]\n",
    "lst2 = [5,2,1]\n",
    "\n",
    "def multiply(mylist):\n",
    "    count = 1\n",
    "    for a in range(0,len(mylist)):\n",
    "        count = count*mylist[a]\n",
    "    return count\n",
    "     \n",
    "print(multiply(lst1))\n",
    "print(multiply(lst2))"
   ]
  },
  {
   "cell_type": "code",
   "execution_count": 17,
   "id": "52372b05",
   "metadata": {},
   "outputs": [
    {
     "name": "stdout",
     "output_type": "stream",
     "text": [
      "10\n",
      "10\n",
      "5\n"
     ]
    }
   ],
   "source": [
    "lst1 = [5,2,1]\n",
    "lst2 = [5,2]\n",
    "lst3 = [5,1]\n",
    "\n",
    "def multiply(mylist):\n",
    "    count = 1\n",
    "    for x in range(0,len(mylist)):\n",
    "        count = count * mylist[x]\n",
    "    return count\n",
    "\n",
    "print(multiply(lst1))\n",
    "print(multiply(lst2))\n",
    "print(multiply(lst3))\n",
    "\n",
    "\n"
   ]
  },
  {
   "cell_type": "code",
   "execution_count": 25,
   "id": "b288632e",
   "metadata": {},
   "outputs": [
    {
     "name": "stdout",
     "output_type": "stream",
     "text": [
      "smallest number in list is :- 1\n",
      "[1, 2, 5]\n"
     ]
    }
   ],
   "source": [
    "#Sorting the list to find smallest number in a list\n",
    "lst1 = [5,2,1]\n",
    "lst1.sort()\n",
    "print(\"smallest number in list is :-\", lst1[0])\n",
    "print(lst1)\n",
    "# asending order"
   ]
  },
  {
   "cell_type": "code",
   "execution_count": 36,
   "id": "8dd60d96",
   "metadata": {},
   "outputs": [
    {
     "name": "stdout",
     "output_type": "stream",
     "text": [
      "asending data format [2, 5, 8, 10, 20, 30, 80, 90]\n",
      "smallest number in list: 2\n"
     ]
    }
   ],
   "source": [
    "list1 = [10,20,5,8,2,90,80,30]\n",
    "list1.sort()\n",
    "print(\"asending data format\",list1)\n",
    "print(\"smallest number in list:\",list1[0])"
   ]
  },
  {
   "cell_type": "code",
   "execution_count": 42,
   "id": "d066b933",
   "metadata": {},
   "outputs": [
    {
     "name": "stdout",
     "output_type": "stream",
     "text": [
      "largest number in list is :- 2\n",
      "[20, 10, 3, 2]\n"
     ]
    }
   ],
   "source": [
    "#Find Largest Number in a List\n",
    "\n",
    "lst1 = [10,20,2,3]\n",
    "lst1.sort(reverse= True)\n",
    "print(\"largest number in list is :-\", lst1[-1])\n",
    "print(lst1)\n",
    "#decending order"
   ]
  },
  {
   "cell_type": "code",
   "execution_count": 45,
   "id": "0735ad51",
   "metadata": {},
   "outputs": [
    {
     "name": "stdout",
     "output_type": "stream",
     "text": [
      "decending data format: [2, 5, 8, 10, 20, 30, 80, 90]\n",
      "largest number in list: 90\n"
     ]
    }
   ],
   "source": [
    "list1 = [10,20,5,8,2,90,80,30]\n",
    "list1.sort()\n",
    "print(\"decending data format:\",list1)\n",
    "print(\"largest number in list:\", list1[-1])"
   ]
  },
  {
   "cell_type": "code",
   "execution_count": 48,
   "id": "4562a085",
   "metadata": {},
   "outputs": [
    {
     "name": "stdout",
     "output_type": "stream",
     "text": [
      "second largest number in list: 80\n"
     ]
    }
   ],
   "source": [
    "#program to find second largest number in a list\n",
    "\n",
    "list1 = [10,20,5,8,2,90,80,30]\n",
    "list1.sort()\n",
    "print(\"second largest number in list:\", list1[-2])"
   ]
  },
  {
   "cell_type": "code",
   "execution_count": 50,
   "id": "b2ac0721",
   "metadata": {},
   "outputs": [
    {
     "name": "stdout",
     "output_type": "stream",
     "text": [
      "largest number in list: 963\n",
      "second largest number in list: 753\n",
      "smallest number in list: 145\n"
     ]
    }
   ],
   "source": [
    "lst = [582,236,963,231,753,145]\n",
    "lst.sort()\n",
    "print(\"largest number in list:\" ,lst[-1])\n",
    "print(\"second largest number in list:\" , lst[-2])\n",
    "print(\"smallest number in list:\", lst[0])\n"
   ]
  },
  {
   "cell_type": "code",
   "execution_count": 1,
   "id": "494eca6d",
   "metadata": {},
   "outputs": [
    {
     "name": "stdout",
     "output_type": "stream",
     "text": [
      "10 , 20 , 8 , 2 , 90 , 80 , 30 , "
     ]
    }
   ],
   "source": [
    "#program to print even numbers in a list\n",
    "\n",
    "list1 = [10,20,5,8,2,90,80,30]\n",
    "\n",
    "for num in list1:\n",
    "    if num % 2 == 0:\n",
    "        print(num, end= \" , \")\n",
    "\n",
    "            "
   ]
  },
  {
   "cell_type": "code",
   "execution_count": 57,
   "id": "6fe3a19d",
   "metadata": {},
   "outputs": [
    {
     "name": "stdout",
     "output_type": "stream",
     "text": [
      "5 , "
     ]
    }
   ],
   "source": [
    "#program to print odd numbers in a list\n",
    "\n",
    "list1 = [10,20,5,8,2,90,80,30]\n",
    "\n",
    "for num in list1:\n",
    "    if num % 2 != 0:\n",
    "        print(num, end= \" , \")\n"
   ]
  },
  {
   "cell_type": "code",
   "execution_count": 62,
   "id": "509b0b82",
   "metadata": {},
   "outputs": [
    {
     "name": "stdout",
     "output_type": "stream",
     "text": [
      "4 , 6 , 8 , 10 , 12 , 14 , 16 , 18 , "
     ]
    }
   ],
   "source": [
    "#program to print all even numbers in a range\n",
    "\n",
    "#list1 = [10,20,5,8,2,90,80,30]\n",
    "\n",
    "for num in range(4,20):\n",
    "    if num % 2 == 0:\n",
    "        print(num, end= \" , \")\n"
   ]
  },
  {
   "cell_type": "code",
   "execution_count": 2,
   "id": "a469c7ee",
   "metadata": {},
   "outputs": [
    {
     "name": "stdout",
     "output_type": "stream",
     "text": [
      "enter a first number:5\n",
      "enter a second number:8\n",
      "6 8 "
     ]
    }
   ],
   "source": [
    "a = int(input(\"enter a first number:\"))\n",
    "b = int(input(\"enter a second number:\"))\n",
    "\n",
    "for num in range(a, b + 1):\n",
    "    if num % 2 == 0:\n",
    "        print(num,end= \" \")"
   ]
  },
  {
   "cell_type": "code",
   "execution_count": 69,
   "id": "3674366e",
   "metadata": {},
   "outputs": [
    {
     "name": "stdout",
     "output_type": "stream",
     "text": [
      "enter 1st number:4\n",
      "enter 2nd number:20\n",
      "5\n",
      "7\n",
      "9\n",
      "11\n",
      "13\n",
      "15\n",
      "17\n",
      "19\n"
     ]
    }
   ],
   "source": [
    "#program to print all odd numbers in a range\n",
    "\n",
    "a = int(input(\"enter 1st number:\"))\n",
    "b = int(input(\"enter 2nd number:\"))\n",
    "\n",
    "for num in range(a, b+1):\n",
    "    if num % 2 != 0:\n",
    "        print(num)"
   ]
  },
  {
   "cell_type": "code",
   "execution_count": 84,
   "id": "3e92980a",
   "metadata": {},
   "outputs": [
    {
     "name": "stdout",
     "output_type": "stream",
     "text": [
      "even number: 3\n",
      "odd number: 4\n"
     ]
    }
   ],
   "source": [
    "#program to count Even and Odd numbers in a List\n",
    "\n",
    "list1 = [10, 21, 4, 45, 66, 93, 1]\n",
    "\n",
    "even_count, odd_count = 0,0\n",
    "\n",
    "for num in list1:\n",
    "    if num % 2 ==0 :\n",
    "        even_count += 1\n",
    "    else:\n",
    "        odd_count += 1\n",
    "    \n",
    "print(\"even number:\" , even_count)\n",
    "print(\"odd number:\" , odd_count)\n"
   ]
  },
  {
   "cell_type": "code",
   "execution_count": 85,
   "id": "b2b01688",
   "metadata": {},
   "outputs": [
    {
     "name": "stdout",
     "output_type": "stream",
     "text": [
      "odd number: 7\n",
      "even number: 1\n"
     ]
    }
   ],
   "source": [
    "list1 = [10,20,5,8,2,90,80,30]\n",
    "\n",
    "even_count, odd_count = 0,0\n",
    "for num in list1:\n",
    "    if num %2 == 0:\n",
    "        odd_count += 1\n",
    "    else:\n",
    "        even_count += 1\n",
    "print(\"odd number:\" , odd_count)\n",
    "print(\"even number:\" , even_count)"
   ]
  },
  {
   "cell_type": "code",
   "execution_count": 88,
   "id": "a0c888b7",
   "metadata": {},
   "outputs": [
    {
     "name": "stdout",
     "output_type": "stream",
     "text": [
      "5 8 2 "
     ]
    }
   ],
   "source": [
    "#program to print positive numbers in a list\n",
    "\n",
    "list1 = [-1,5,-6,8,2,-10]\n",
    "\n",
    "num = 0\n",
    "\n",
    "for num in list1:\n",
    "    if num > 0:\n",
    "        print(num, end= \" \")"
   ]
  },
  {
   "cell_type": "code",
   "execution_count": 91,
   "id": "2dfcafd2",
   "metadata": {},
   "outputs": [
    {
     "name": "stdout",
     "output_type": "stream",
     "text": [
      "5 8 2 5 8 2 5 8 2 5 8 2 5 8 2 "
     ]
    }
   ],
   "source": [
    "list1 = [-1,5,-6,8,2,-10,-1,5,-6,8,2,-10,-1,5,-6,8,2,-10-1,5,-6,8,2,-10,-1,5,-6,8,2,-10]\n",
    "num = 0\n",
    "\n",
    "for num in list1:\n",
    "    if num > 0:\n",
    "        #print(num)\n",
    "        print(num,end= \" \")"
   ]
  },
  {
   "cell_type": "code",
   "execution_count": 100,
   "id": "9d3287e1",
   "metadata": {},
   "outputs": [
    {
     "name": "stdout",
     "output_type": "stream",
     "text": [
      "-1, -6, -10, -1, -6, -10, -1, -6, -11, -6, -10, -1, -6, -10, "
     ]
    }
   ],
   "source": [
    "#program to print nagative numbers in a list\n",
    "\n",
    "list1 = [-1,5,-6,8,2,-10,-1,5,-6,8,2,-10,-1,5,-6,8,2,-10-1,5,-6,8,2,-10,-1,5,-6,8,2,-10]\n",
    "num = 0\n",
    "\n",
    "for num in list1:\n",
    "    if num < 0:\n",
    "        print(num, end= \", \")"
   ]
  },
  {
   "cell_type": "code",
   "execution_count": 93,
   "id": "7d99d684",
   "metadata": {},
   "outputs": [
    {
     "name": "stdout",
     "output_type": "stream",
     "text": [
      "-1 -6 -10 "
     ]
    }
   ],
   "source": [
    "list1 = [-1,5,-6,8,2,-10]\n",
    "num = 0\n",
    "for num in list1:\n",
    "    if num < 0 :\n",
    "        print(num, end= \" \")"
   ]
  },
  {
   "cell_type": "code",
   "execution_count": 101,
   "id": "7a329523",
   "metadata": {},
   "outputs": [
    {
     "name": "stdout",
     "output_type": "stream",
     "text": [
      "0, 1, 2, 3, 4, 5, 6, 7, 8, 9, 10, 11, 12, 13, 14, 15, 16, 17, 18, 19, 20, "
     ]
    }
   ],
   "source": [
    "#program to print all positive numbers in a range\n",
    "a = -15\n",
    "b = 20\n",
    "\n",
    "for num in range(a, b +1):\n",
    "    if num >= 0:\n",
    "        print(num, end= \", \")\n",
    "\n"
   ]
  },
  {
   "cell_type": "code",
   "execution_count": 99,
   "id": "7a168bf5",
   "metadata": {},
   "outputs": [
    {
     "name": "stdout",
     "output_type": "stream",
     "text": [
      "enter a number:-5\n",
      "enter a number:6\n",
      "-5\n",
      "-4\n",
      "-3\n",
      "-2\n",
      "-1\n"
     ]
    }
   ],
   "source": [
    "#program to print all negetive numbers in a range\n",
    "\n",
    "a = int(input(\"enter a number:\"))\n",
    "b = int(input(\"enter a number:\"))\n",
    "\n",
    "for num in range(a, b+1):\n",
    "    if num < 0:\n",
    "        print(num)"
   ]
  },
  {
   "cell_type": "code",
   "execution_count": 103,
   "id": "f6340fea",
   "metadata": {},
   "outputs": [
    {
     "name": "stdout",
     "output_type": "stream",
     "text": [
      "negetive number: 9\n",
      "positive number: 8\n"
     ]
    }
   ],
   "source": [
    "#program to count positive and negative numbers in a list\n",
    "\n",
    "list1 = [-1, -6, -10, -1, -6, -10, -1, -6, -11, 10, 11, 12, 13, 14, 15, 16, 17, ]\n",
    "\n",
    "neg_count, pos_count = 0,0\n",
    "\n",
    "for num in list1:\n",
    "    if num < 0 :\n",
    "        neg_count +=1\n",
    "    else:\n",
    "        pos_count +=1\n",
    "print(\"negetive number:\", neg_count)\n",
    "print(\"positive number:\", pos_count)"
   ]
  },
  {
   "cell_type": "code",
   "execution_count": 1,
   "id": "c55158e5",
   "metadata": {},
   "outputs": [
    {
     "name": "stdout",
     "output_type": "stream",
     "text": [
      "None\n"
     ]
    }
   ],
   "source": [
    "#Remove multiple elements from a list in Python\n",
    "\n",
    "lst = [1, 2, 3, 4, 5, 6,1, 2, 3, 4, 5, 6, 1, 12, 13, 14, 15, 16, 17]\n",
    "a = lst.remove(5)\n",
    "print(a)"
   ]
  },
  {
   "cell_type": "code",
   "execution_count": null,
   "id": "30d0455e",
   "metadata": {},
   "outputs": [],
   "source": []
  },
  {
   "cell_type": "code",
   "execution_count": null,
   "id": "2d233769",
   "metadata": {},
   "outputs": [],
   "source": []
  }
 ],
 "metadata": {
  "kernelspec": {
   "display_name": "Python 3 (ipykernel)",
   "language": "python",
   "name": "python3"
  },
  "language_info": {
   "codemirror_mode": {
    "name": "ipython",
    "version": 3
   },
   "file_extension": ".py",
   "mimetype": "text/x-python",
   "name": "python",
   "nbconvert_exporter": "python",
   "pygments_lexer": "ipython3",
   "version": "3.9.12"
  }
 },
 "nbformat": 4,
 "nbformat_minor": 5
}
