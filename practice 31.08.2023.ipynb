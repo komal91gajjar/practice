{
 "cells": [
  {
   "cell_type": "code",
   "execution_count": 5,
   "id": "e13f569d",
   "metadata": {},
   "outputs": [
    {
     "name": "stdout",
     "output_type": "stream",
     "text": [
      "[[5, 6], [5, 7]]\n"
     ]
    }
   ],
   "source": [
    "list1 = [[1, 2], [3, 4], [5, 6]]\n",
    "list2 = [[3, 4], [5, 7], [1, 2]]\n",
    "\n",
    "new_list = []\n",
    "\n",
    "for i in list1:\n",
    "    if i not in list2:\n",
    "        new_list.append(i)\n",
    "        \n",
    "for i in list2:\n",
    "    if i not in list1:\n",
    "        new_list.append(i)\n",
    "\n",
    "print(new_list)"
   ]
  },
  {
   "cell_type": "code",
   "execution_count": 11,
   "id": "420414ac",
   "metadata": {},
   "outputs": [
    {
     "name": "stdout",
     "output_type": "stream",
     "text": [
      "['furniture', 'masala', 'apple', 'glass', 'mobile']\n"
     ]
    }
   ],
   "source": [
    "list1 = [\"chair\",\"banana\",\"furniture\",\"monkey\",\"masala\"]\n",
    "list2 = [\"banana\",\"apple\",\"monkey\",\"chair\",\"glass\"]\n",
    "list3 = [\"mobile\",\"masala\",\"chair\",\"furniture\",\"masala\"]\n",
    "\n",
    "result = []\n",
    "\n",
    "for i in list1:\n",
    "    if i not in list2:\n",
    "        result.append(i)\n",
    "for i in list2:\n",
    "    if i not in list1:\n",
    "        result.append(i)\n",
    "for i in list3:\n",
    "    if i not in list1:\n",
    "        result.append(i)\n",
    "\n",
    "print(result)"
   ]
  },
  {
   "cell_type": "code",
   "execution_count": 13,
   "id": "17445d33",
   "metadata": {},
   "outputs": [
    {
     "name": "stdout",
     "output_type": "stream",
     "text": [
      "['furniture', 'masala', 'apple', 'glass', 'mobile', 'mobile', 'masala', 'furniture', 'masala', 'mobile', 'masala', 'furniture', 'masala']\n"
     ]
    }
   ],
   "source": [
    "for i in list3:\n",
    "    if i not in list2:\n",
    "        result.append(i)\n",
    "print(result)       "
   ]
  },
  {
   "cell_type": "code",
   "execution_count": 22,
   "id": "0182b850",
   "metadata": {},
   "outputs": [
    {
     "name": "stdout",
     "output_type": "stream",
     "text": [
      "[3, 20, 2, 10]\n"
     ]
    }
   ],
   "source": [
    "list1 = [10,20,2,3]\n",
    "\n",
    "def swaplist(list1):\n",
    "    size = len(list1)\n",
    "    \n",
    "    temp = list1[0]\n",
    "    list1[0] = list1[size-1]\n",
    "    list1[size-1] = temp\n",
    "    \n",
    "    return list1\n",
    "\n",
    "print(swaplist(list1))"
   ]
  },
  {
   "cell_type": "code",
   "execution_count": null,
   "id": "90673424",
   "metadata": {},
   "outputs": [],
   "source": []
  },
  {
   "cell_type": "code",
   "execution_count": 24,
   "id": "9b23f971",
   "metadata": {},
   "outputs": [
    {
     "name": "stdout",
     "output_type": "stream",
     "text": [
      "[30, 20, 10, 50, 6]\n"
     ]
    }
   ],
   "source": [
    "list1 = [10,20,30,50,6]\n",
    "\n",
    "size = len(list1)\n",
    "\n",
    "temp = list1[0]\n",
    "list1[0] = list1[2]\n",
    "list1[2] = temp\n",
    "\n",
    "print(list1)"
   ]
  },
  {
   "cell_type": "code",
   "execution_count": null,
   "id": "7d3a4f2c",
   "metadata": {},
   "outputs": [],
   "source": []
  },
  {
   "cell_type": "code",
   "execution_count": 25,
   "id": "278924ae",
   "metadata": {},
   "outputs": [
    {
     "name": "stdout",
     "output_type": "stream",
     "text": [
      "5\n"
     ]
    }
   ],
   "source": [
    "list1 = [10,20,30,50,6]\n",
    "\n",
    "lengh = len(list1)\n",
    "print(lengh)"
   ]
  },
  {
   "cell_type": "code",
   "execution_count": 26,
   "id": "261c1823",
   "metadata": {},
   "outputs": [
    {
     "name": "stdout",
     "output_type": "stream",
     "text": [
      "116\n"
     ]
    }
   ],
   "source": [
    "lengh = sum(list1)\n",
    "print(lengh)"
   ]
  },
  {
   "cell_type": "code",
   "execution_count": 27,
   "id": "0ad8ac7d",
   "metadata": {},
   "outputs": [
    {
     "name": "stdout",
     "output_type": "stream",
     "text": [
      "50\n"
     ]
    }
   ],
   "source": [
    "list1 = [10,20,30,50,6]\n",
    "\n",
    "maximum = max(list1)\n",
    "print(maximum)"
   ]
  },
  {
   "cell_type": "code",
   "execution_count": 28,
   "id": "258e5627",
   "metadata": {},
   "outputs": [
    {
     "name": "stdout",
     "output_type": "stream",
     "text": [
      "6\n"
     ]
    }
   ],
   "source": [
    "minimum  = min(list1)\n",
    "print(minimum)"
   ]
  },
  {
   "cell_type": "code",
   "execution_count": null,
   "id": "959d3bb2",
   "metadata": {},
   "outputs": [],
   "source": []
  },
  {
   "cell_type": "code",
   "execution_count": 30,
   "id": "d499abda",
   "metadata": {},
   "outputs": [
    {
     "name": "stdout",
     "output_type": "stream",
     "text": [
      "not valid list\n"
     ]
    }
   ],
   "source": [
    "list1 = [10,20,30,50,6]\n",
    "\n",
    "if 96 in list1:\n",
    "    print(\"valid list\")\n",
    "else:\n",
    "    print(\"not valid list\")"
   ]
  },
  {
   "cell_type": "code",
   "execution_count": null,
   "id": "e1359d44",
   "metadata": {},
   "outputs": [],
   "source": []
  },
  {
   "cell_type": "code",
   "execution_count": 32,
   "id": "e2ea4ed5",
   "metadata": {},
   "outputs": [
    {
     "name": "stdout",
     "output_type": "stream",
     "text": [
      "original list:  [10, 20, 30, 50, 6]\n",
      "after clear list:  None\n"
     ]
    }
   ],
   "source": [
    "list1 = [10,20,30,50,6]\n",
    "print(\"original list: \", list1)\n",
    "\n",
    "result = list1.clear()\n",
    "print(\"after clear list: \", result)"
   ]
  },
  {
   "cell_type": "code",
   "execution_count": null,
   "id": "3ddd4977",
   "metadata": {},
   "outputs": [],
   "source": []
  },
  {
   "cell_type": "code",
   "execution_count": 44,
   "id": "02d42f60",
   "metadata": {},
   "outputs": [
    {
     "name": "stdout",
     "output_type": "stream",
     "text": [
      "[9, 8, 7, 6, 5, 4]\n"
     ]
    }
   ],
   "source": [
    "list1 = [4, 5, 6, 7, 8, 9]\n",
    "\n",
    "list1.reverse()\n",
    "print(list1)\n"
   ]
  },
  {
   "cell_type": "code",
   "execution_count": 45,
   "id": "525b3750",
   "metadata": {},
   "outputs": [
    {
     "name": "stdout",
     "output_type": "stream",
     "text": [
      "[9, 8, 7, 6, 5, 4]\n"
     ]
    }
   ],
   "source": [
    "result = list1[:]\n",
    "print(result)"
   ]
  },
  {
   "cell_type": "code",
   "execution_count": 46,
   "id": "5e56a592",
   "metadata": {},
   "outputs": [
    {
     "name": "stdout",
     "output_type": "stream",
     "text": [
      "[9, 8, 7, 6, 5, 4]\n"
     ]
    }
   ],
   "source": [
    "list1 = [4, 5, 6, 7, 8, 9]\n",
    "\n",
    "result = list1[::-1]\n",
    "print(result)"
   ]
  },
  {
   "cell_type": "code",
   "execution_count": null,
   "id": "fd2e0e3a",
   "metadata": {},
   "outputs": [],
   "source": []
  },
  {
   "cell_type": "code",
   "execution_count": 50,
   "id": "ee97aaca",
   "metadata": {},
   "outputs": [
    {
     "name": "stdout",
     "output_type": "stream",
     "text": [
      "[4, 5, 6, 7, 8, 9]\n"
     ]
    }
   ],
   "source": [
    "list1 = [4, 5, 6, 7, 8, 9]\n",
    "\n",
    "list2 = list1.copy()\n",
    "print(list2)"
   ]
  },
  {
   "cell_type": "code",
   "execution_count": null,
   "id": "37907ff7",
   "metadata": {},
   "outputs": [],
   "source": []
  },
  {
   "cell_type": "code",
   "execution_count": 55,
   "id": "90ac45d1",
   "metadata": {},
   "outputs": [
    {
     "name": "stdout",
     "output_type": "stream",
     "text": [
      "5\n",
      "6\n",
      "8\n",
      "9\n"
     ]
    }
   ],
   "source": [
    "list1 = [4, 5, 6, 7, 8, 9]\n",
    "\n",
    "remove_list = [4,7]\n",
    "\n",
    "for i in list1:\n",
    "    if i not in remove_list:\n",
    "        print(i)\n"
   ]
  },
  {
   "cell_type": "code",
   "execution_count": null,
   "id": "ebc62f97",
   "metadata": {},
   "outputs": [],
   "source": []
  },
  {
   "cell_type": "code",
   "execution_count": 60,
   "id": "2b731907",
   "metadata": {},
   "outputs": [
    {
     "name": "stdout",
     "output_type": "stream",
     "text": [
      "enter the no: 5\n",
      "[0, 1, 2, 3, 4]\n"
     ]
    }
   ],
   "source": [
    "user = int(input(\"enter the no: \"))\n",
    "list1 = []\n",
    "\n",
    "for i in range(0,user):\n",
    "    list1.append(i)\n",
    "print(list1)\n",
    "    "
   ]
  },
  {
   "cell_type": "code",
   "execution_count": null,
   "id": "f7c98961",
   "metadata": {},
   "outputs": [],
   "source": []
  },
  {
   "cell_type": "code",
   "execution_count": 66,
   "id": "a4a40b39",
   "metadata": {},
   "outputs": [
    {
     "name": "stdout",
     "output_type": "stream",
     "text": [
      "enter the no: 3\n",
      "25\n",
      "288\n",
      "21\n",
      "[25, 288, 21]\n"
     ]
    }
   ],
   "source": [
    "user = int(input(\"enter the no: \"))\n",
    "list1 = []\n",
    "\n",
    "for i in range(0,user):\n",
    "    no = int(input())\n",
    "    list1.append(no)\n",
    "    \n",
    "print(list1)\n"
   ]
  },
  {
   "cell_type": "code",
   "execution_count": null,
   "id": "e9094d2b",
   "metadata": {},
   "outputs": [],
   "source": []
  },
  {
   "cell_type": "code",
   "execution_count": 68,
   "id": "84e3685b",
   "metadata": {},
   "outputs": [
    {
     "name": "stdout",
     "output_type": "stream",
     "text": [
      "original list: [4, 5, 6, 7, 8, 9]\n",
      "list convert in to tuple: (4, 5, 6, 7, 8, 9)\n"
     ]
    }
   ],
   "source": [
    "list1 = [4, 5, 6, 7, 8, 9]\n",
    "print(\"original list:\",list1)\n",
    "\n",
    "mytuple = tuple(list1)\n",
    "print(\"list convert in to tuple:\",mytuple)"
   ]
  },
  {
   "cell_type": "code",
   "execution_count": 71,
   "id": "d631ad5b",
   "metadata": {},
   "outputs": [
    {
     "name": "stdout",
     "output_type": "stream",
     "text": [
      "original list: [4, 5, 6, 7, 8, 9]\n",
      "list convert in to string: [4, 5, 6, 7, 8, 9]\n"
     ]
    }
   ],
   "source": [
    "list1 = [4, 5, 6, 7, 8, 9]\n",
    "print(\"original list:\",list1)\n",
    "\n",
    "string = str(list1)\n",
    "print(\"list convert in to string:\",string)"
   ]
  },
  {
   "cell_type": "code",
   "execution_count": null,
   "id": "bc0054a8",
   "metadata": {},
   "outputs": [],
   "source": []
  },
  {
   "cell_type": "code",
   "execution_count": 75,
   "id": "4257ab30",
   "metadata": {},
   "outputs": [
    {
     "data": {
      "text/plain": [
       "[(4+0j), (5+0j), (6+0j), (7+0j), (8+0j), (9+0j)]"
      ]
     },
     "execution_count": 75,
     "metadata": {},
     "output_type": "execute_result"
    }
   ],
   "source": [
    "list1 = [4, 5, 6, 7, 8, 9]\n",
    "\n",
    "result = list(map(float, list1))\n",
    "result = list(map(int, list1))\n",
    "result = list(map(complex, list1))\n",
    "result"
   ]
  },
  {
   "cell_type": "code",
   "execution_count": null,
   "id": "1eee80e8",
   "metadata": {},
   "outputs": [],
   "source": []
  },
  {
   "cell_type": "code",
   "execution_count": 82,
   "id": "5da2f71b",
   "metadata": {},
   "outputs": [
    {
     "name": "stdout",
     "output_type": "stream",
     "text": [
      "[1, 2, 3, 4, 5, 6]\n"
     ]
    }
   ],
   "source": [
    "list1 = [1,2,3]\n",
    "list2 = [4,5,6]\n",
    "\n",
    "for i in list2:\n",
    "    list1.append(i)\n",
    "    #print(list1)\n",
    "\n",
    "print(list1)\n",
    "    \n",
    "    \n",
    "\n",
    " "
   ]
  },
  {
   "cell_type": "code",
   "execution_count": 83,
   "id": "3251ec4f",
   "metadata": {},
   "outputs": [
    {
     "data": {
      "text/plain": [
       "[1, 2, 3, 4, 5, 6, 4, 5, 6]"
      ]
     },
     "execution_count": 83,
     "metadata": {},
     "output_type": "execute_result"
    }
   ],
   "source": [
    "list3 = list1 + list2\n",
    "list3"
   ]
  },
  {
   "cell_type": "code",
   "execution_count": null,
   "id": "19307d56",
   "metadata": {},
   "outputs": [],
   "source": []
  },
  {
   "cell_type": "code",
   "execution_count": 86,
   "id": "7adbc4e8",
   "metadata": {},
   "outputs": [
    {
     "data": {
      "text/plain": [
       "[1, 2, 3, 1, 2, 3]"
      ]
     },
     "execution_count": 86,
     "metadata": {},
     "output_type": "execute_result"
    }
   ],
   "source": [
    "list1 = [1,2,3]\n",
    "\n",
    "result = list1 * 2\n",
    "result"
   ]
  },
  {
   "cell_type": "code",
   "execution_count": 87,
   "id": "7e427ab4",
   "metadata": {},
   "outputs": [
    {
     "data": {
      "text/plain": [
       "[1, 2, 3, 4, 5, 6, 9]"
      ]
     },
     "execution_count": 87,
     "metadata": {},
     "output_type": "execute_result"
    }
   ],
   "source": [
    "list1 = [1, 2, 3, 1, 2, 3,4,5,6,1,2,6,9,3,4,6]\n",
    "\n",
    "result = list(set(list1))\n",
    "result"
   ]
  },
  {
   "cell_type": "code",
   "execution_count": 88,
   "id": "2345d2df",
   "metadata": {},
   "outputs": [
    {
     "data": {
      "text/plain": [
       "\"{'a', 'm', ' ', 'k', 'l', 'e', 's', 'o', 'i', 'y', 'n', 'h'}\""
      ]
     },
     "execution_count": 88,
     "metadata": {},
     "output_type": "execute_result"
    }
   ],
   "source": [
    "string = \"my name is komal komal name kesha mmmmmmm \"\n",
    "\n",
    "result = str(set(string))\n",
    "result"
   ]
  },
  {
   "cell_type": "code",
   "execution_count": null,
   "id": "59f55853",
   "metadata": {},
   "outputs": [],
   "source": []
  },
  {
   "cell_type": "code",
   "execution_count": 90,
   "id": "c35902c3",
   "metadata": {},
   "outputs": [
    {
     "name": "stdout",
     "output_type": "stream",
     "text": [
      "['m', 'y', ' ', 'n', 'a', 'm', 'e', ' ', 'i', 's', ' ', 'k', 'o', 'm', 'a', 'l', ' ', 'k', 'o', 'm', 'a', 'l', ' ', 'n', 'a', 'm', 'e', ' ', 'k', 'e', 's', 'h', 'a', ' ', 'm', 'm', 'm', 'm', 'm', 'm', 'm', ' ']\n"
     ]
    }
   ],
   "source": [
    "string = \"my name is komal komal name kesha mmmmmmm \"\n",
    "\n",
    "result = list(string)\n",
    "print(result)"
   ]
  },
  {
   "cell_type": "code",
   "execution_count": null,
   "id": "94ffa8cd",
   "metadata": {},
   "outputs": [],
   "source": []
  },
  {
   "cell_type": "code",
   "execution_count": 101,
   "id": "1713da29",
   "metadata": {},
   "outputs": [
    {
     "name": "stdout",
     "output_type": "stream",
     "text": [
      "12\n",
      "3\n"
     ]
    }
   ],
   "source": [
    "list1 = [4, 5, 1, 2]\n",
    "\n",
    "s = sum(list1)\n",
    "print(s)\n",
    "\n",
    "avrage = s/len(list1)\n",
    "print(int(avrage))"
   ]
  },
  {
   "cell_type": "code",
   "execution_count": null,
   "id": "63eb6e10",
   "metadata": {},
   "outputs": [],
   "source": []
  },
  {
   "cell_type": "code",
   "execution_count": 110,
   "id": "481b0746",
   "metadata": {},
   "outputs": [
    {
     "name": "stdout",
     "output_type": "stream",
     "text": [
      "1\n",
      "4\n",
      "[1, 4]\n"
     ]
    }
   ],
   "source": [
    "test_list = [1, 5, 6, 7, 4]\n",
    "\n",
    "result = test_list[0]\n",
    "result1 = test_list[-1]\n",
    "print(result)\n",
    "print(result1)\n",
    "\n",
    "lst = []\n",
    "lst.append(result)\n",
    "lst.append(result1)\n",
    "print(lst)\n",
    "\n"
   ]
  },
  {
   "cell_type": "code",
   "execution_count": null,
   "id": "3f42d4f0",
   "metadata": {},
   "outputs": [],
   "source": []
  },
  {
   "cell_type": "code",
   "execution_count": 113,
   "id": "131b771d",
   "metadata": {},
   "outputs": [
    {
     "data": {
      "text/plain": [
       "[5, 6, 7, 4]"
      ]
     },
     "execution_count": 113,
     "metadata": {},
     "output_type": "execute_result"
    }
   ],
   "source": [
    "test_list = [1, 5, 6, 7, 4]\n",
    "\n",
    "test_list.remove(1)\n",
    "test_list"
   ]
  },
  {
   "cell_type": "code",
   "execution_count": null,
   "id": "1af2e85e",
   "metadata": {},
   "outputs": [],
   "source": []
  },
  {
   "cell_type": "code",
   "execution_count": 114,
   "id": "c04cd5c8",
   "metadata": {},
   "outputs": [
    {
     "data": {
      "text/plain": [
       "4"
      ]
     },
     "execution_count": 114,
     "metadata": {},
     "output_type": "execute_result"
    }
   ],
   "source": [
    "test_list = [1, 5, 6, 7, 4,5,5,5]\n",
    "\n",
    "test_list.count(5)"
   ]
  },
  {
   "cell_type": "code",
   "execution_count": 117,
   "id": "51902505",
   "metadata": {},
   "outputs": [
    {
     "data": {
      "text/plain": [
       "[9, 10, 4, 5]"
      ]
     },
     "execution_count": 117,
     "metadata": {},
     "output_type": "execute_result"
    }
   ],
   "source": [
    "lst1 = [15, 9, 10, 56, 23, 78, 5, 4, 9]\n",
    "lst2 = [9, 4, 5, 36, 47, 26, 10, 45, 87]\n",
    "\n",
    "result = list(set(lst1) & set(lst2))\n",
    "result"
   ]
  },
  {
   "cell_type": "code",
   "execution_count": 122,
   "id": "a64c22fa",
   "metadata": {},
   "outputs": [
    {
     "name": "stdout",
     "output_type": "stream",
     "text": [
      "9\n",
      "10\n",
      "5\n",
      "4\n",
      "9\n"
     ]
    }
   ],
   "source": [
    "for i in lst1:\n",
    "    if i in lst2:\n",
    "        print(i)"
   ]
  },
  {
   "cell_type": "code",
   "execution_count": null,
   "id": "c6c4508f",
   "metadata": {},
   "outputs": [],
   "source": []
  },
  {
   "cell_type": "code",
   "execution_count": 131,
   "id": "bea1af67",
   "metadata": {},
   "outputs": [
    {
     "name": "stdout",
     "output_type": "stream",
     "text": [
      "['gfg', 'is', 'best', 'for', 'geeks']\n"
     ]
    }
   ],
   "source": [
    "test_list = ['gf\\ng', 'i\\ns', 'b\\nest', 'fo\\nr', 'geeks\\n']\n",
    "result = []\n",
    "\n",
    "for i in test_list:\n",
    "    result.append(i.replace('\\n',''))\n",
    "    \n",
    "print(result)\n",
    "    \n"
   ]
  },
  {
   "cell_type": "code",
   "execution_count": null,
   "id": "5b240e68",
   "metadata": {},
   "outputs": [],
   "source": []
  },
  {
   "cell_type": "code",
   "execution_count": 133,
   "id": "5fb64c19",
   "metadata": {},
   "outputs": [
    {
     "name": "stdout",
     "output_type": "stream",
     "text": [
      "[0, 1, 2, 3, 4, 5, 6, 7, 8, 9, 10, 11, 12, 13, 14, 15, 16, 17, 18, 19, 20, 21, 22, 23, 24]\n"
     ]
    }
   ],
   "source": [
    "result = list(range(0,25))\n",
    "print(result)"
   ]
  },
  {
   "cell_type": "code",
   "execution_count": null,
   "id": "bb69961a",
   "metadata": {},
   "outputs": [],
   "source": []
  },
  {
   "cell_type": "code",
   "execution_count": 134,
   "id": "77537b69",
   "metadata": {},
   "outputs": [
    {
     "data": {
      "text/plain": [
       "[1, 4, None, None, 5, 8, None]"
      ]
     },
     "execution_count": 134,
     "metadata": {},
     "output_type": "execute_result"
    }
   ],
   "source": [
    "test_list = [1, None, 4, None, None, 5, 8, None]\n",
    "\n",
    "test_list.remove(None)\n",
    "test_list"
   ]
  },
  {
   "cell_type": "code",
   "execution_count": 141,
   "id": "5a18a4ae",
   "metadata": {},
   "outputs": [
    {
     "name": "stdout",
     "output_type": "stream",
     "text": [
      "1\n",
      "4\n",
      "5\n",
      "8\n"
     ]
    }
   ],
   "source": [
    "for i in test_list:\n",
    "    if i is not None:\n",
    "        print(i)\n"
   ]
  },
  {
   "cell_type": "code",
   "execution_count": null,
   "id": "301c074a",
   "metadata": {},
   "outputs": [],
   "source": []
  },
  {
   "cell_type": "code",
   "execution_count": 148,
   "id": "9c8e8dad",
   "metadata": {},
   "outputs": [
    {
     "name": "stdout",
     "output_type": "stream",
     "text": [
      "g e e k s f o r g e e k s\n"
     ]
    }
   ],
   "source": [
    "inpu = ['g', 'e', 'e', 'k', 's', 'f', 'o', 'r', 'g', 'e', 'e', 'k', 's']\n",
    "result = ' '.join(inpu)\n",
    "print(result)\n",
    "    \n"
   ]
  },
  {
   "cell_type": "code",
   "execution_count": 151,
   "id": "13f0c8b2",
   "metadata": {},
   "outputs": [],
   "source": [
    "import random"
   ]
  },
  {
   "cell_type": "code",
   "execution_count": 153,
   "id": "ffa3cd05",
   "metadata": {},
   "outputs": [
    {
     "data": {
      "text/plain": [
       "6"
      ]
     },
     "execution_count": 153,
     "metadata": {},
     "output_type": "execute_result"
    }
   ],
   "source": [
    "list1 = [2, 3, 4 , 5, 6 ]\n",
    "random.choice(list1)"
   ]
  },
  {
   "cell_type": "code",
   "execution_count": null,
   "id": "bced87e9",
   "metadata": {},
   "outputs": [],
   "source": []
  },
  {
   "cell_type": "code",
   "execution_count": null,
   "id": "0efb269e",
   "metadata": {},
   "outputs": [],
   "source": []
  },
  {
   "cell_type": "code",
   "execution_count": null,
   "id": "58460d7c",
   "metadata": {},
   "outputs": [],
   "source": []
  },
  {
   "cell_type": "code",
   "execution_count": null,
   "id": "1043f5f5",
   "metadata": {},
   "outputs": [],
   "source": []
  },
  {
   "cell_type": "code",
   "execution_count": null,
   "id": "ae611cc3",
   "metadata": {},
   "outputs": [],
   "source": []
  },
  {
   "cell_type": "code",
   "execution_count": null,
   "id": "88466147",
   "metadata": {},
   "outputs": [],
   "source": []
  },
  {
   "cell_type": "code",
   "execution_count": null,
   "id": "dadc326c",
   "metadata": {},
   "outputs": [],
   "source": []
  },
  {
   "cell_type": "code",
   "execution_count": null,
   "id": "f1f9b496",
   "metadata": {},
   "outputs": [],
   "source": []
  }
 ],
 "metadata": {
  "kernelspec": {
   "display_name": "Python 3 (ipykernel)",
   "language": "python",
   "name": "python3"
  },
  "language_info": {
   "codemirror_mode": {
    "name": "ipython",
    "version": 3
   },
   "file_extension": ".py",
   "mimetype": "text/x-python",
   "name": "python",
   "nbconvert_exporter": "python",
   "pygments_lexer": "ipython3",
   "version": "3.9.12"
  }
 },
 "nbformat": 4,
 "nbformat_minor": 5
}
