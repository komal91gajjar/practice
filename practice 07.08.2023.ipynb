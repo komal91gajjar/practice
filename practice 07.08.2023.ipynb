{
 "cells": [
  {
   "cell_type": "markdown",
   "id": "503cdb55",
   "metadata": {},
   "source": [
    "# Dictionary"
   ]
  },
  {
   "cell_type": "code",
   "execution_count": 1,
   "id": "378eec56",
   "metadata": {},
   "outputs": [
    {
     "data": {
      "text/plain": [
       "dict_keys(['name', 'prize', 'Model', 'color'])"
      ]
     },
     "execution_count": 1,
     "metadata": {},
     "output_type": "execute_result"
    }
   ],
   "source": [
    "# Sort Python Dictionaries by Key or Value\n",
    "car = {\n",
    "    \"name\" : \"volvo\",\n",
    "    \"prize\" : 750000,\n",
    "    \"Model\" : \"cmz78523\",\n",
    "    \"color\" : \"white\"\n",
    "}\n",
    "\n",
    "car.keys()"
   ]
  },
  {
   "cell_type": "code",
   "execution_count": 2,
   "id": "ae61f6c0",
   "metadata": {},
   "outputs": [
    {
     "data": {
      "text/plain": [
       "dict_values(['volvo', 750000, 'cmz78523', 'white'])"
      ]
     },
     "execution_count": 2,
     "metadata": {},
     "output_type": "execute_result"
    }
   ],
   "source": [
    "car.values()"
   ]
  },
  {
   "cell_type": "code",
   "execution_count": 3,
   "id": "663c83b7",
   "metadata": {},
   "outputs": [
    {
     "data": {
      "text/plain": [
       "dict_items([('name', 'volvo'), ('prize', 750000), ('Model', 'cmz78523'), ('color', 'white')])"
      ]
     },
     "execution_count": 3,
     "metadata": {},
     "output_type": "execute_result"
    }
   ],
   "source": [
    "car.items()"
   ]
  },
  {
   "cell_type": "code",
   "execution_count": 7,
   "id": "bd8036cd",
   "metadata": {},
   "outputs": [
    {
     "data": {
      "text/plain": [
       "dict_values(['volvo', 750000, 'cmz78523', 'red'])"
      ]
     },
     "execution_count": 7,
     "metadata": {},
     "output_type": "execute_result"
    }
   ],
   "source": [
    "car[\"color\"] = \"red\"\n",
    "car.values()"
   ]
  },
  {
   "cell_type": "code",
   "execution_count": 8,
   "id": "7a6a80e9",
   "metadata": {},
   "outputs": [
    {
     "data": {
      "text/plain": [
       "dict_items([('name', 'volvo'), ('prize', 750000), ('Model', 'cmz78523'), ('color', 'red')])"
      ]
     },
     "execution_count": 8,
     "metadata": {},
     "output_type": "execute_result"
    }
   ],
   "source": [
    "car.items()"
   ]
  },
  {
   "cell_type": "code",
   "execution_count": 18,
   "id": "c78dad84",
   "metadata": {},
   "outputs": [
    {
     "name": "stdout",
     "output_type": "stream",
     "text": [
      "{'color': 'white', 'name': 'volvo'}\n"
     ]
    }
   ],
   "source": [
    "# Sort Python Dictionaries by Key or Value\n",
    "\n",
    "car = {\n",
    "    \"name\" : \"volvo\",\n",
    "   # \"prize\" : 750000,\n",
    "    #\"Model\" : \"cmz78523\",\n",
    "    \"color\" : \"white\"\n",
    "}\n",
    "\n",
    "cardetails = list(car.keys())\n",
    "cardetails.sort()\n",
    "sort_cardata = {i: car[i] for i in cardetails}\n",
    "\n",
    "print(sort_cardata)"
   ]
  },
  {
   "cell_type": "code",
   "execution_count": 14,
   "id": "8ad40684",
   "metadata": {},
   "outputs": [
    {
     "name": "stdout",
     "output_type": "stream",
     "text": [
      "{'rajnish': 9, 'ravi': 10, 'sanjeev': 15, 'suraj': 32, 'yash': 2}\n"
     ]
    }
   ],
   "source": [
    "mydict = {\n",
    "    'ravi': 10, \n",
    "    'rajnish': 9, \n",
    "    'sanjeev': 15, \n",
    "    'yash': 2, \n",
    "    'suraj': 32\n",
    "}\n",
    "\n",
    "mydata = list(mydict.keys())\n",
    "\n",
    "mydata.sort()\n",
    "\n",
    "sorted_data = {i: mydict[i] for i in mydata}\n",
    "print(sorted_data)"
   ]
  },
  {
   "cell_type": "code",
   "execution_count": 21,
   "id": "9f5db1ee",
   "metadata": {},
   "outputs": [
    {
     "name": "stdout",
     "output_type": "stream",
     "text": [
      "32\n"
     ]
    }
   ],
   "source": [
    "# Handling missing keys in Python dictionaries\n",
    "\n",
    "mydict = {\n",
    "    'ravi': 10, \n",
    "    'rajnish': 9, \n",
    "    'sanjeev': 15, \n",
    "    'yash': 2, \n",
    "    'suraj': 32\n",
    "}\n",
    "\n",
    "print(mydict['suraj'])\n"
   ]
  },
  {
   "cell_type": "code",
   "execution_count": 1,
   "id": "a1b76df0",
   "metadata": {},
   "outputs": [
    {
     "ename": "NameError",
     "evalue": "name 'mydict' is not defined",
     "output_type": "error",
     "traceback": [
      "\u001b[1;31m---------------------------------------------------------------------------\u001b[0m",
      "\u001b[1;31mNameError\u001b[0m                                 Traceback (most recent call last)",
      "Input \u001b[1;32mIn [1]\u001b[0m, in \u001b[0;36m<cell line: 1>\u001b[1;34m()\u001b[0m\n\u001b[1;32m----> 1\u001b[0m \u001b[38;5;28mprint\u001b[39m(\u001b[43mmydict\u001b[49m[\u001b[38;5;124m'\u001b[39m\u001b[38;5;124mname\u001b[39m\u001b[38;5;124m'\u001b[39m])\n",
      "\u001b[1;31mNameError\u001b[0m: name 'mydict' is not defined"
     ]
    }
   ],
   "source": [
    "print(mydict['name'])"
   ]
  },
  {
   "cell_type": "code",
   "execution_count": 23,
   "id": "04d02cb0",
   "metadata": {},
   "outputs": [],
   "source": [
    "# dictionary with keys having multiple inputs\n",
    "\n"
   ]
  },
  {
   "cell_type": "code",
   "execution_count": 29,
   "id": "1fa8ff23",
   "metadata": {},
   "outputs": [
    {
     "name": "stdout",
     "output_type": "stream",
     "text": [
      "sum:- 700\n"
     ]
    }
   ],
   "source": [
    "# program to find the sum of all items in a dictionary\n",
    "\n",
    "add = {\n",
    "    \"a\" : 100,\n",
    "    \"b\" : 500,\n",
    "    \"c\" : 100\n",
    "}\n",
    "\n",
    "def totalsum(add):\n",
    "    list = []\n",
    "    for i in add:\n",
    "        list.append(add[i])\n",
    "    final = sum(list)\n",
    "    return final\n",
    "\n",
    "print(f\"sum:-\", totalsum(add))\n",
    "    \n",
    "\n"
   ]
  },
  {
   "cell_type": "code",
   "execution_count": 30,
   "id": "27469914",
   "metadata": {},
   "outputs": [
    {
     "name": "stdout",
     "output_type": "stream",
     "text": [
      "TotalSum:- 1700\n"
     ]
    }
   ],
   "source": [
    "add = {\n",
    "    \"a\" : 500,\n",
    "    \"b\" : 400,\n",
    "    \"c\" : 700,\n",
    "    \"d\" : 100\n",
    "}\n",
    "\n",
    "def totalsum(add):\n",
    "    list = []\n",
    "    for i in add:\n",
    "        list.append(add[i])\n",
    "    x = sum(list)\n",
    "    return x\n",
    "\n",
    "print(\"TotalSum:-\", totalsum(add))"
   ]
  },
  {
   "cell_type": "code",
   "execution_count": 37,
   "id": "c0e207ee",
   "metadata": {},
   "outputs": [
    {
     "name": "stdout",
     "output_type": "stream",
     "text": [
      "Sum: 1700\n"
     ]
    }
   ],
   "source": [
    "add = {\n",
    "    \"a\" : 500,\n",
    "    \"b\" : 400,\n",
    "    \"c\" : 700,\n",
    "    \"d\" : 100\n",
    "} \n",
    "\n",
    "def totalsum(add):\n",
    "    Sum = 0\n",
    "    for i in add.values():\n",
    "        Sum = Sum + i\n",
    "    return Sum\n",
    "        \n",
    "print(\"Sum:\", totalsum(add))"
   ]
  },
  {
   "cell_type": "code",
   "execution_count": 39,
   "id": "da093f80",
   "metadata": {},
   "outputs": [
    {
     "name": "stdout",
     "output_type": "stream",
     "text": [
      "Sum : 600\n"
     ]
    }
   ],
   "source": [
    "def returnSum(dict):\n",
    " \n",
    "    sum = 0\n",
    "    for i in dict.values():\n",
    "        sum = sum + i\n",
    " \n",
    "    return sum\n",
    " \n",
    " \n",
    "# Driver Function\n",
    "dict = {'a': 100, 'b': 200, 'c': 300}\n",
    "print(\"Sum :\", returnSum(dict))"
   ]
  },
  {
   "cell_type": "code",
   "execution_count": 40,
   "id": "67993bdd",
   "metadata": {},
   "outputs": [
    {
     "name": "stdout",
     "output_type": "stream",
     "text": [
      "4\n"
     ]
    }
   ],
   "source": [
    "# Get size of a Dictionary in Python\n",
    "\n",
    "\n",
    "add = {\n",
    "    \"a\" : 500,\n",
    "    \"b\" : 400,\n",
    "    \"c\" : 700,\n",
    "    \"d\" : 100\n",
    "} \n",
    "\n",
    "print(len(add))\n"
   ]
  },
  {
   "cell_type": "code",
   "execution_count": 41,
   "id": "c4bf3bcb",
   "metadata": {},
   "outputs": [],
   "source": [
    "# Ways to sort list of dictionaries by values in Python – Using itemgetter"
   ]
  },
  {
   "cell_type": "code",
   "execution_count": 44,
   "id": "321d50f7",
   "metadata": {},
   "outputs": [
    {
     "name": "stdout",
     "output_type": "stream",
     "text": [
      "None\n",
      "{'a': 1, 'b': 2, 'c': 3, 'd': 4}\n"
     ]
    }
   ],
   "source": [
    "# Merging two Dictionaries\n",
    "\n",
    "\n",
    "sample1 = {\n",
    "    \"a\" : 1,\n",
    "    \"b\" : 2\n",
    "}\n",
    "\n",
    "sample2 = {\n",
    "    \"c\" : 3,\n",
    "    \"d\" : 4\n",
    "}\n",
    "\n",
    "def mergedict(sample1,sample2):\n",
    "    return (sample1.update(sample2))\n",
    "\n",
    "print(mergedict(sample1,sample2))\n",
    "\n",
    "print(sample1)\n",
    "\n"
   ]
  },
  {
   "cell_type": "code",
   "execution_count": 46,
   "id": "8c09d17c",
   "metadata": {},
   "outputs": [
    {
     "name": "stdout",
     "output_type": "stream",
     "text": [
      "None\n",
      "{'c': 3, 'd': 4, 'a': 1, 'b': 2}\n"
     ]
    }
   ],
   "source": [
    "def mergedict(sample1,sample2):\n",
    "    return (sample2.update(sample1))\n",
    "\n",
    "print(mergedict(sample2,sample1))\n",
    "\n",
    "print(sample2)"
   ]
  },
  {
   "cell_type": "code",
   "execution_count": 55,
   "id": "e0b11a63",
   "metadata": {},
   "outputs": [
    {
     "name": "stdout",
     "output_type": "stream",
     "text": [
      "enter marks total obtain by 4 subject\n",
      "205\n",
      "41.0\n",
      "your b grade\n"
     ]
    }
   ],
   "source": [
    "# Program to create grade calculator in Pyhon\n",
    "\n",
    "print(\"enter marks total obtain by 4 subject\")\n",
    "english = 50\n",
    "socialscience = 65\n",
    "maths = 60\n",
    "computer = 30\n",
    "\n",
    "total = english + socialscience +maths + computer\n",
    "avg = total/5\n",
    "print(total)\n",
    "print(avg)\n",
    "\n",
    "if avg >=90 and avg <=100:\n",
    "    print(\"your a1 grade\")\n",
    "elif avg >=60 and avg <=80:\n",
    "    print(\"your a grade\")\n",
    "elif avg >=40 and avg <= 60:\n",
    "    print(\"your b grade\")\n",
    "else:\n",
    "    print(\"invalid input\")\n",
    "\n"
   ]
  },
  {
   "cell_type": "code",
   "execution_count": 58,
   "id": "a9cfde4d",
   "metadata": {},
   "outputs": [
    {
     "name": "stdout",
     "output_type": "stream",
     "text": [
      "please enter your english marks: 20\n",
      "please enter your Maths marks: 50\n",
      "please enter your History marks: 60\n",
      "please enter your socialscience marks: 80\n",
      "210\n",
      "52.5\n",
      "your result is Second class\n"
     ]
    }
   ],
   "source": [
    "English = int(input(\"please enter your english marks: \"))\n",
    "Maths = int(input(\"please enter your Maths marks: \"))\n",
    "History = int(input(\"please enter your History marks: \"))\n",
    "socialscience = int(input(\"please enter your socialscience marks: \"))\n",
    "\n",
    "total = English + Maths + History + socialscience\n",
    "avg = total/4\n",
    "\n",
    "print(total)\n",
    "print(avg)\n",
    "\n",
    "if avg >=70 and avg <=100:\n",
    "    print(\"your result is Distiction\")\n",
    "elif avg >=60 and avg <=70:\n",
    "    print(\"your result is First class\")\n",
    "elif avg >=40 and avg <=60:\n",
    "    print(\"your result is Second class\")\n",
    "else:\n",
    "    print(\"your result is Fail\")\n",
    "\n"
   ]
  },
  {
   "cell_type": "code",
   "execution_count": 3,
   "id": "a86631e5",
   "metadata": {},
   "outputs": [
    {
     "name": "stdout",
     "output_type": "stream",
     "text": [
      "enter user string:doctor\n",
      "enter user string:er\n",
      "False\n"
     ]
    }
   ],
   "source": [
    "# Check order of character in string using OrderedDict( )\n",
    "\n",
    "User = str(input(\"enter user string:\"))\n",
    "pattern = str(input(\"enter user string:\"))\n",
    "\n",
    "def check_order(user, pattern):\n",
    "    i, j = 0, 0\n",
    "    for char in User:\n",
    "        if char == pattern[j]:\n",
    "            j += 1\n",
    "        if j == len(pattern):\n",
    "            return True\n",
    "        i += 1\n",
    " \n",
    "    return False\n",
    "\n",
    "print(check_order(User, pattern))\n"
   ]
  },
  {
   "cell_type": "code",
   "execution_count": 4,
   "id": "d73822fc",
   "metadata": {},
   "outputs": [
    {
     "name": "stdout",
     "output_type": "stream",
     "text": [
      "[20, 80]\n"
     ]
    }
   ],
   "source": [
    "# Find common elements in three sorted arrays by dictionary intersection\n",
    "\n",
    "ar1 = [1, 5, 10, 20, 40, 80]\n",
    "ar2 = [6, 7, 20, 80, 100]\n",
    "ar3 = [3, 4, 15, 20, 30, 70, 80, 120]\n",
    "cmn = []\n",
    "\n",
    "def common_element(ar1,ar2,ar3):\n",
    "    a,b,c = len(ar1),len(ar2),len(ar3)\n",
    "    x,y,z = 0,0,0\n",
    "    \n",
    "    while x < a and y < b and z < c:\n",
    "        if ar1[x] == ar2[y] == ar3[z]:\n",
    "            cmn.append(ar1[x])\n",
    "            x +=1\n",
    "            y +=1\n",
    "            z +=1\n",
    "        elif ar1[x] < ar2[y]:\n",
    "            x += 1\n",
    "        elif ar2[y] < ar3[z]:\n",
    "            y += 1\n",
    "        else:\n",
    "            z += 1\n",
    "    return cmn\n",
    "\n",
    "print(common_element(ar1,ar2,ar3))\n",
    "            \n"
   ]
  },
  {
   "cell_type": "code",
   "execution_count": 7,
   "id": "ab01e95e",
   "metadata": {},
   "outputs": [
    {
     "name": "stdout",
     "output_type": "stream",
     "text": [
      "[20, 80]\n"
     ]
    }
   ],
   "source": [
    "a1 = [1, 5, 10, 20, 40, 80]\n",
    "a2 = [6, 7, 20, 80, 100]\n",
    "\n",
    "cmn = []\n",
    "\n",
    "def common_element(a1,a2):\n",
    "    c,d = len(a1),len(a2)\n",
    "    x,y = 0,0\n",
    "    while x < c and y < d:\n",
    "        if a1[x] == a2[y]:\n",
    "            cmn.append(a1[x])\n",
    "            x += 1\n",
    "            y += 1\n",
    "        elif a1[x] < a2[y]:\n",
    "            x += 1\n",
    "        else:\n",
    "            y +=1\n",
    "    return cmn\n",
    "\n",
    "print(common_element(a1,a2))"
   ]
  },
  {
   "cell_type": "code",
   "execution_count": null,
   "id": "4d9427a8",
   "metadata": {},
   "outputs": [],
   "source": [
    "# Dictionary and counter in Python to find winner of election\n",
    "\n",
    "\n",
    "from collection import Counter\n",
    "\n"
   ]
  },
  {
   "cell_type": "code",
   "execution_count": 4,
   "id": "4c15ba72",
   "metadata": {},
   "outputs": [
    {
     "name": "stdout",
     "output_type": "stream",
     "text": [
      "Gfg\n"
     ]
    }
   ],
   "source": [
    "# Key with maximum unique values\n",
    "\n",
    "test_dict = {\n",
    "    \n",
    "    \"Gfg\" : [5, 7, 9, 4, 0],\n",
    "    \"is\" : [6, 7, 4, 3, 3], \n",
    "    \"Best\" : [9, 9, 6, 5, 5]\n",
    "}\n",
    "\n",
    "max_key = None\n",
    "max_values = 0\n",
    "\n",
    "for i in test_dict:\n",
    "    if len(set(test_dict[i])) > max_values:\n",
    "        #if len(set(test_dict[sub])) > max_val:\n",
    "        max_values = len(set(test_dict[i]))\n",
    "        max_key = i\n",
    "       \n",
    "print(max_key)"
   ]
  },
  {
   "cell_type": "code",
   "execution_count": 5,
   "id": "93d7ab2e",
   "metadata": {},
   "outputs": [
    {
     "name": "stdout",
     "output_type": "stream",
     "text": [
      "Best\n"
     ]
    }
   ],
   "source": [
    "test_dict = {\n",
    "    \"Gfg\" : [5, 7, 7, 7, 7], \n",
    "    \"is\" : [6, 7, 7, 7], \n",
    "    \"Best\" : [9, 9, 6, 5, 5]\n",
    "} \n",
    "\n",
    "max_key = None\n",
    "max_val = 0\n",
    "\n",
    "for i in test_dict:\n",
    "    if len(set(test_dict[i])) > max_val:\n",
    "        max_val = len(set(test_dict[i]))\n",
    "        max_key = i\n",
    "        \n",
    "print(i)"
   ]
  },
  {
   "cell_type": "code",
   "execution_count": 6,
   "id": "11878a2f",
   "metadata": {},
   "outputs": [
    {
     "name": "stdout",
     "output_type": "stream",
     "text": [
      "['e', 'l', 'o', ' ']\n"
     ]
    }
   ],
   "source": [
    "# Find all duplicate characters in string\n",
    "\n",
    "def duplicate_char(string):\n",
    "    char1 = {}\n",
    "    for char in string:\n",
    "        if char not in char1:\n",
    "            char1[char] = 1\n",
    "        else:\n",
    "            char1[char] += 1\n",
    "            \n",
    "    duplicate = []\n",
    "    \n",
    "    for char, count in char1.items():\n",
    "        if count > 1:\n",
    "            duplicate.append(char)\n",
    "    return duplicate\n",
    "\n",
    "print(duplicate_char(\"Hello helo s\"))"
   ]
  },
  {
   "cell_type": "code",
   "execution_count": 8,
   "id": "09e519b7",
   "metadata": {},
   "outputs": [
    {
     "name": "stdout",
     "output_type": "stream",
     "text": [
      "['M', 'y', ' ', 'a', 's', 'o', 'j', 'O']\n"
     ]
    }
   ],
   "source": [
    "def duplicate_find(string):\n",
    "    chara = {}\n",
    "    \n",
    "    for char in string:\n",
    "        if char not in chara:\n",
    "            chara[char] = 1\n",
    "        else:\n",
    "            chara[char] +=1\n",
    "            \n",
    "    duplicate = []\n",
    "    \n",
    "    for char,count in chara.items():\n",
    "        if count > 1:\n",
    "            duplicate.append(char)\n",
    "    return duplicate\n",
    "\n",
    "print(duplicate_find(\"My name NAME Is My is pooja POOja\"))\n",
    "    \n",
    "    "
   ]
  },
  {
   "cell_type": "code",
   "execution_count": 24,
   "id": "a53dd605",
   "metadata": {},
   "outputs": [
    {
     "name": "stdout",
     "output_type": "stream",
     "text": [
      "['Gfg', 'is', ' Best']\n",
      "{'Gfg': [5, 6, 7], 'is': [7, 4, 2]}\n",
      "[7, 2, ' Best']\n"
     ]
    }
   ],
   "source": [
    "# Replace String by Kth Dictionary value\n",
    "\n",
    "test_list = [\"Gfg\", \"is\", \" Best\"]\n",
    "\n",
    "print(test_list)\n",
    "\n",
    "subs_dict = {\n",
    "    \n",
    "    \"Gfg\" : [5, 6, 7],\n",
    "    \"is\" : [7, 4, 2]\n",
    "}\n",
    "\n",
    "print(subs_dict)\n",
    "\n",
    "K = 2\n",
    "\n",
    "result = [ele if ele not in subs_dict else subs_dict[ele][K] for ele in test_list]\n",
    "\n",
    "print(result)\n",
    "\n"
   ]
  },
  {
   "cell_type": "code",
   "execution_count": 27,
   "id": "5579fdb4",
   "metadata": {},
   "outputs": [
    {
     "name": "stdout",
     "output_type": "stream",
     "text": [
      "['Gfg', 'is', 'Best']\n",
      "{'Gfg': [5, 6, 7], 'Best': [7, 4, 2]}\n",
      "[5, 'is', 7]\n"
     ]
    }
   ],
   "source": [
    "test_list = [\"Gfg\", \"is\", \"Best\"]\n",
    "\n",
    "print(test_list)\n",
    "\n",
    "sub_dict = {\n",
    "    \"Gfg\" : [5,6,7],\n",
    "    \"Best\" : [7,4,2]\n",
    "}\n",
    "\n",
    "print(sub_dict)\n",
    "\n",
    "k = 0\n",
    "\n",
    "result = [ele if ele not in sub_dict else sub_dict[ele][k]for ele in test_list]\n",
    "#result = [ele if ele not in subs_dict else subs_dict[ele][K] for ele in test_list]\n",
    "print(result)"
   ]
  },
  {
   "cell_type": "code",
   "execution_count": 28,
   "id": "ae0d1ccd",
   "metadata": {},
   "outputs": [
    {
     "name": "stdout",
     "output_type": "stream",
     "text": [
      "{'anuradha': 21, 'hatirha': 21, 'aarushi': 22}\n"
     ]
    }
   ],
   "source": [
    "# Ways to remove a key from dictionary\n",
    "\n",
    "key = {\n",
    "    \"anuradha\" : 21,\n",
    "    \"hatirha\" : 21,\n",
    "    \"aarushi\" : 22,\n",
    "    \"mani\" : 21\n",
    "}\n",
    "\n",
    "key.pop(\"mani\")\n",
    "print(key)"
   ]
  },
  {
   "cell_type": "code",
   "execution_count": null,
   "id": "ca7b24b0",
   "metadata": {},
   "outputs": [],
   "source": [
    "# Remove all duplicates words from a given sentence\n"
   ]
  },
  {
   "cell_type": "markdown",
   "id": "9e953e3a",
   "metadata": {},
   "source": [
    "#  pattern printing in python\n"
   ]
  },
  {
   "cell_type": "code",
   "execution_count": 45,
   "id": "268a05bd",
   "metadata": {},
   "outputs": [
    {
     "name": "stdout",
     "output_type": "stream",
     "text": [
      "  * * * * * * * *   \n",
      "* * * * * * * * * * \n",
      "  * * * * * * * *   \n",
      "    * * * * * *     \n",
      "      * * * *       \n",
      "        * *         \n",
      "                    \n"
     ]
    }
   ],
   "source": [
    "# Simple Diamond Pattern in Python\n",
    "\n",
    "n = 10\n",
    "\n",
    "spaces = n\n",
    "\n",
    "for i in range(n // 2+2):\n",
    "    for j in range(n):\n",
    "        if j < i - 1:\n",
    "            print(' ', end = \" \")\n",
    "        elif j > spaces:\n",
    "            print(' ', end = \" \")\n",
    "        elif(i == 0 and j == 0) | (i == 0  and j == n-1):\n",
    "            print(' ',end= \" \")\n",
    "        else:\n",
    "            print('*',end= \" \")\n",
    "            \n",
    "    spaces -= 1\n",
    "    print()\n",
    "            \n",
    "                "
   ]
  },
  {
   "cell_type": "code",
   "execution_count": null,
   "id": "41214cfc",
   "metadata": {},
   "outputs": [],
   "source": []
  },
  {
   "cell_type": "code",
   "execution_count": null,
   "id": "9a228f31",
   "metadata": {},
   "outputs": [],
   "source": []
  }
 ],
 "metadata": {
  "kernelspec": {
   "display_name": "Python 3 (ipykernel)",
   "language": "python",
   "name": "python3"
  },
  "language_info": {
   "codemirror_mode": {
    "name": "ipython",
    "version": 3
   },
   "file_extension": ".py",
   "mimetype": "text/x-python",
   "name": "python",
   "nbconvert_exporter": "python",
   "pygments_lexer": "ipython3",
   "version": "3.9.12"
  }
 },
 "nbformat": 4,
 "nbformat_minor": 5
}
