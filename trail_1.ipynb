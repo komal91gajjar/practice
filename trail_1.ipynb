{
 "cells": [
  {
   "cell_type": "code",
   "execution_count": 1,
   "metadata": {},
   "outputs": [
    {
     "name": "stdout",
     "output_type": "stream",
     "text": [
      "Didn't match\n",
      "Didn't match\n",
      "Didn't match\n",
      "Didn't match\n",
      "Didn't match\n",
      "Didn't match\n",
      "Didn't match\n",
      "Didn't match\n",
      "Didn't match\n",
      "Matched -->  0.845829427242279\n",
      "MAXXXXXXXX: 0.845829427242279\n",
      "MINNNNNNNN: 0.5838136076927185\n"
     ]
    }
   ],
   "source": [
    "import cv2\n",
    "\n",
    "# Load the template and video\n",
    "template = cv2.imread('D:\\\\vedio\\\\505_1.png', cv2.IMREAD_GRAYSCALE)\n",
    "# gray_template = cv2.cvtColor(template, cv2.COLOR_BGR2GRAY) \n",
    "cap = cv2.VideoCapture('D:\\\\vedio\\\\vid10.mp4')\n",
    "\n",
    "threshold = 0.80\n",
    "\n",
    "max_value, min_value = 0, 1\n",
    "while True:\n",
    "    ret, frame = cap.read()\n",
    "    \n",
    "    if not ret:\n",
    "        print(\"Can't receive frame (stream end?). Exiting ...\")\n",
    "        break\n",
    "\n",
    "    # Convert the frame to grayscale\n",
    "    gray_frame = cv2.cvtColor(frame, cv2.COLOR_BGR2GRAY)\n",
    "\n",
    "    # Match the template in the frame\n",
    "    result = cv2.matchTemplate(gray_frame, template, cv2.TM_CCOEFF_NORMED)\n",
    "    min_val, max_val, min_loc, max_loc = cv2.minMaxLoc(result)\n",
    "\n",
    "    if max_value < max_val:\n",
    "        max_value = max_val\n",
    "    if min_value > max_val:\n",
    "        min_value = max_val\n",
    "\n",
    "    if max_val > threshold:\n",
    "        # Template matched\n",
    "        matched_rect = (max_loc[0], max_loc[1], max_loc[0] + template.shape[1], max_loc[1] + template.shape[0])\n",
    "        cv2.rectangle(frame, (matched_rect[0], matched_rect[1]), (matched_rect[2], matched_rect[3]), (0, 255, 0), 2)\n",
    "        print(\"Matched --> \",max_val)\n",
    "        # cv2.imshow('Matching Result', frame)\n",
    "        # cv2.waitKey(0)\n",
    "        # break\n",
    "        # cv2.imwrite(\"detected.png\", frame)\n",
    "        \n",
    "    else:\n",
    "        print(\"Didn't match\")\n",
    "    \n",
    "    # Display the frame\n",
    "    # cv2.imshow('Matching Result', frame)\n",
    "    # cv2.waitKey(0) \n",
    "    # if cv2.waitKey(1) & 0xFF == 27:  # Press Esc key to exit\n",
    "    #     break\n",
    "print(\"MAXXXXXXXX:\",max_value)\n",
    "print(\"MINNNNNNNN:\",min_value)\n",
    "cap.release()\n",
    "cv2.destroyAllWindows()\n"
   ]
  },
  {
   "cell_type": "code",
   "execution_count": 4,
   "metadata": {},
   "outputs": [],
   "source": [
    "import cv2"
   ]
  },
  {
   "cell_type": "code",
   "execution_count": 3,
   "metadata": {},
   "outputs": [
    {
     "name": "stdout",
     "output_type": "stream",
     "text": [
      "Collecting opencv-python\n",
      "  Using cached opencv_python-4.8.1.78-cp37-abi3-win_amd64.whl (38.1 MB)\n",
      "Requirement already satisfied: numpy>=1.21.2 in c:\\python311\\lib\\site-packages (from opencv-python) (1.25.0)\n",
      "Installing collected packages: opencv-python\n",
      "Successfully installed opencv-python-4.8.1.78\n"
     ]
    },
    {
     "name": "stderr",
     "output_type": "stream",
     "text": [
      "\n",
      "[notice] A new release of pip available: 22.3.1 -> 23.3.1\n",
      "[notice] To update, run: python.exe -m pip install --upgrade pip\n"
     ]
    }
   ],
   "source": [
    "! pip install opencv-python\n"
   ]
  },
  {
   "cell_type": "code",
   "execution_count": null,
   "metadata": {},
   "outputs": [],
   "source": []
  }
 ],
 "metadata": {
  "kernelspec": {
   "display_name": "Python 3",
   "language": "python",
   "name": "python3"
  },
  "language_info": {
   "codemirror_mode": {
    "name": "ipython",
    "version": 3
   },
   "file_extension": ".py",
   "mimetype": "text/x-python",
   "name": "python",
   "nbconvert_exporter": "python",
   "pygments_lexer": "ipython3",
   "version": "3.11.3"
  }
 },
 "nbformat": 4,
 "nbformat_minor": 2
}
