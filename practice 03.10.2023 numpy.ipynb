{
 "cells": [
  {
   "cell_type": "code",
   "execution_count": 58,
   "id": "5f98d93b",
   "metadata": {},
   "outputs": [],
   "source": [
    "import numpy as np\n",
    "import pandas as pd\n",
    "import matplotlib.pyplot as plt"
   ]
  },
  {
   "cell_type": "code",
   "execution_count": 12,
   "id": "6c7b809f",
   "metadata": {},
   "outputs": [
    {
     "name": "stdout",
     "output_type": "stream",
     "text": [
      "original array: [[1 2 3]\n",
      " [4 5 6]]\n",
      "[1 2 3 4 5 6]\n"
     ]
    }
   ],
   "source": [
    "array = np.array([[1,2,3],[4,5,6]])\n",
    "print(\"original array:\", array)\n",
    "arr = array.flatten()\n",
    "print(arr)"
   ]
  },
  {
   "cell_type": "code",
   "execution_count": 13,
   "id": "f5c9f291",
   "metadata": {},
   "outputs": [
    {
     "name": "stdout",
     "output_type": "stream",
     "text": [
      "[[1. 1.]\n",
      " [1. 1.]\n",
      " [1. 1.]\n",
      " [1. 1.]\n",
      " [1. 1.]]\n"
     ]
    }
   ],
   "source": [
    "array = np.ones([5,2])\n",
    "print(array)"
   ]
  },
  {
   "cell_type": "code",
   "execution_count": 15,
   "id": "d7fee00a",
   "metadata": {},
   "outputs": [
    {
     "name": "stdout",
     "output_type": "stream",
     "text": [
      "[[0. 0.]\n",
      " [0. 0.]\n",
      " [0. 0.]]\n"
     ]
    }
   ],
   "source": [
    "array = np.zeros([3,2])\n",
    "print(array)"
   ]
  },
  {
   "cell_type": "code",
   "execution_count": 16,
   "id": "a2be9b3f",
   "metadata": {},
   "outputs": [
    {
     "name": "stdout",
     "output_type": "stream",
     "text": [
      "[[[1 2]\n",
      "  [3 4]\n",
      "  [5 6]\n",
      "  [7 8]]]\n"
     ]
    }
   ],
   "source": [
    "array = np.array([[[1,2],[3,4],[5,6],[7,8]]])\n",
    "print(array)"
   ]
  },
  {
   "cell_type": "code",
   "execution_count": 19,
   "id": "f7765daf",
   "metadata": {},
   "outputs": [
    {
     "name": "stdout",
     "output_type": "stream",
     "text": [
      "9\n"
     ]
    }
   ],
   "source": [
    "arr = [[0, 1, 2, 3, 0], [0, 5, 6, 0, 7],[11,5,9,0,0]]\n",
    "\n",
    "array = np.count_nonzero(arr)\n",
    "print(array)\n"
   ]
  },
  {
   "cell_type": "code",
   "execution_count": 18,
   "id": "83da7214",
   "metadata": {},
   "outputs": [
    {
     "name": "stdout",
     "output_type": "stream",
     "text": [
      "hello\n"
     ]
    }
   ],
   "source": [
    "x = 15\n",
    "x = \"hello\"\n",
    "print(x)"
   ]
  },
  {
   "cell_type": "code",
   "execution_count": 23,
   "id": "75410d82",
   "metadata": {},
   "outputs": [
    {
     "name": "stdout",
     "output_type": "stream",
     "text": [
      "original array: [0 2 4 1 6]\n",
      "False\n",
      "True\n"
     ]
    }
   ],
   "source": [
    "# Write a NumPy program to test whether none of the elements of a given array are zero.\n",
    "\n",
    "arr = np.array([0,2,4,1,6])\n",
    "print(\"original array:\", arr)\n",
    "\n",
    "result = np.all(arr)\n",
    "print(result)\n",
    "\n",
    "print(0 in arr)"
   ]
  },
  {
   "cell_type": "code",
   "execution_count": 26,
   "id": "f421e866",
   "metadata": {},
   "outputs": [
    {
     "name": "stdout",
     "output_type": "stream",
     "text": [
      "4\n",
      "True\n"
     ]
    }
   ],
   "source": [
    "# Write a NumPy program to test if any of the elements of a given array are non-zero\n",
    "\n",
    "arr = np.array([0,1,0,5,9,0,4])\n",
    "\n",
    "result = np.count_nonzero(arr)\n",
    "print(result)\n",
    "\n",
    "re = np.any(arr)\n",
    "print(re)"
   ]
  },
  {
   "cell_type": "code",
   "execution_count": 28,
   "id": "23790a6b",
   "metadata": {},
   "outputs": [
    {
     "name": "stdout",
     "output_type": "stream",
     "text": [
      "[ True  True False False]\n"
     ]
    }
   ],
   "source": [
    "# NumPy: Test a given array element-wise for finiteness (not infinity or not a Number)\n",
    "\n",
    "a = np.array([1, 0, np.nan, np.inf])\n",
    "\n",
    "print(np.isfinite(a))"
   ]
  },
  {
   "cell_type": "code",
   "execution_count": 32,
   "id": "886df226",
   "metadata": {},
   "outputs": [
    {
     "name": "stdout",
     "output_type": "stream",
     "text": [
      "[[ 12.23  13.32 100.    36.32]]\n"
     ]
    }
   ],
   "source": [
    "# Write a NumPy program to convert a list of numeric values into a one-dimensional NumPy array.\n",
    "\n",
    "Original_List= [12.23, 13.32, 100, 36.32]\n",
    "\n",
    "arr = np.array([[12.23,13.32,100,36.32]])\n",
    "print(arr)\n"
   ]
  },
  {
   "cell_type": "code",
   "execution_count": 35,
   "id": "64dd454f",
   "metadata": {},
   "outputs": [
    {
     "name": "stdout",
     "output_type": "stream",
     "text": [
      "[[ 2  3  4]\n",
      " [ 5  6  7]\n",
      " [ 8  9 10]]\n"
     ]
    }
   ],
   "source": [
    "# Write a NumPy program to create a 3x3 matrix with values ranging from 2 to 10.\n",
    "\n",
    "arr = np.arange(2,11).reshape(3,3)\n",
    "print(arr)"
   ]
  },
  {
   "cell_type": "code",
   "execution_count": 39,
   "id": "a91a2b90",
   "metadata": {},
   "outputs": [
    {
     "name": "stdout",
     "output_type": "stream",
     "text": [
      "[0. 0. 0. 0. 0. 0. 0. 0. 0. 0.]\n",
      "[ 0.  0.  0.  0.  0.  0. 11.  0.  0.  0.]\n"
     ]
    }
   ],
   "source": [
    "# Write a NumPy program to create a null vector of size 10 and update the sixth value to 11.\n",
    "\n",
    "arr = np.zeros(10)\n",
    "print(arr)\n",
    "\n",
    "arr[6] = 11\n",
    "print(arr)"
   ]
  },
  {
   "cell_type": "code",
   "execution_count": 40,
   "id": "925ae262",
   "metadata": {},
   "outputs": [
    {
     "name": "stdout",
     "output_type": "stream",
     "text": [
      "[6 5 4 3 2 1]\n"
     ]
    }
   ],
   "source": [
    "#  Write a NumPy program to reverse an array (the first element becomes the last).\n",
    "arr = np.array([1,2,3,4,5,6])\n",
    "\n",
    "print(arr[::-1])"
   ]
  },
  {
   "cell_type": "code",
   "execution_count": 48,
   "id": "88229d07",
   "metadata": {},
   "outputs": [
    {
     "name": "stdout",
     "output_type": "stream",
     "text": [
      "[[1. 1.]\n",
      " [1. 1.]\n",
      " [1. 1.]]\n",
      "[[0 1 0 1]\n",
      " [1 0 1 0]\n",
      " [0 1 0 1]]\n"
     ]
    }
   ],
   "source": [
    "# Write a NumPy program to create an 8x8 matrix and fill it with a checkerboard pattern.\n",
    "\n",
    "arr = np.ones((3,2))\n",
    "print(arr)\n",
    "\n",
    "arr = np.zeros((3,4),dtype=int)\n",
    "arr[1::2,::2] = 1\n",
    "arr[::2,1::2] = 1\n",
    "print(arr)"
   ]
  },
  {
   "cell_type": "code",
   "execution_count": 52,
   "id": "09661c02",
   "metadata": {},
   "outputs": [
    {
     "name": "stdout",
     "output_type": "stream",
     "text": [
      "[1 2 3 4 5 6 7 8]\n",
      "[[6 7 8]\n",
      " [1 2 3]]\n"
     ]
    }
   ],
   "source": [
    "# Write a NumPy program to convert a list and tuple into arrays.\n",
    "\n",
    "lst = [1,2,3,4,5,6,7,8]\n",
    "\n",
    "print(np.asarray(lst))\n",
    "\n",
    "my_tuple = ([6,7,8],[1,2,3])\n",
    "print(np.asarray(my_tuple))"
   ]
  },
  {
   "cell_type": "code",
   "execution_count": 55,
   "id": "4bd2144c",
   "metadata": {},
   "outputs": [
    {
     "name": "stdout",
     "output_type": "stream",
     "text": [
      "[10 20 30 40 50 60  7  8  9]\n"
     ]
    }
   ],
   "source": [
    "# Write a NumPy program to append values to the end of an array.\n",
    "\n",
    "arr = np.array([10,20,30])\n",
    "\n",
    "arr = np.append(arr,[[40,50,60],[7,8,9]])\n",
    "print(arr)"
   ]
  },
  {
   "cell_type": "code",
   "execution_count": 57,
   "id": "98d72d08",
   "metadata": {},
   "outputs": [
    {
     "name": "stdout",
     "output_type": "stream",
     "text": [
      "[[2.12199579e-314 2.12199579e-314 4.94065646e-324]\n",
      " [4.94065646e-324 2.12199579e-314 2.12199579e-314]]\n",
      "[[6 6 6]\n",
      " [6 6 6]\n",
      " [6 6 6]]\n"
     ]
    }
   ],
   "source": [
    "# Write a NumPy program to create an empty and full array.\n",
    "\n",
    "arr = np.empty([2,3])\n",
    "print(arr)\n",
    "\n",
    "arre = np.full([3,3],6)\n",
    "print(arre)"
   ]
  },
  {
   "cell_type": "code",
   "execution_count": 61,
   "id": "26147132",
   "metadata": {},
   "outputs": [
    {
     "name": "stdout",
     "output_type": "stream",
     "text": [
      "[ 0 10 20 40 60]\n",
      "[0, 40]\n",
      "[ True False False  True False]\n"
     ]
    }
   ],
   "source": [
    "# Write a NumPy program to test whether each element of a 1-D array is also present in a\n",
    "\n",
    "array1 = np.array([0, 10, 20, 40, 60])\n",
    "print(array1)\n",
    "array2 = [0, 40]\n",
    "print(array2)\n",
    "\n",
    "print(np.in1d(array1, array2))\n"
   ]
  },
  {
   "cell_type": "code",
   "execution_count": 71,
   "id": "fb0b90aa",
   "metadata": {},
   "outputs": [
    {
     "name": "stdout",
     "output_type": "stream",
     "text": [
      "[ 0 10 40]\n"
     ]
    }
   ],
   "source": [
    "# Write a NumPy program to find common values between two arrays.\n",
    "\n",
    "array1 = np.array([[0, 10, 20, 40, 60]])\n",
    "array2 = [[0, 40,50,10]]\n",
    "\n",
    "print(np.intersect1d(array1,array2))\n"
   ]
  },
  {
   "cell_type": "code",
   "execution_count": 79,
   "id": "c3f2e18c",
   "metadata": {},
   "outputs": [
    {
     "name": "stdout",
     "output_type": "stream",
     "text": [
      "[1, 2, 3, 5, 6]\n",
      "[1 2 3 5 6]\n",
      "<class 'numpy.ndarray'>\n"
     ]
    }
   ],
   "source": [
    "#  Write a NumPy program to get the unique elements of an array.\n",
    "\n",
    "arr = np.array([1,2,3,1,5,6,2,3])\n",
    "\n",
    "lst = list(set(arr))\n",
    "print(lst)\n",
    "\n",
    "res = np.array(lst)\n",
    "print(res)\n",
    "print(type(res))"
   ]
  },
  {
   "cell_type": "code",
   "execution_count": 83,
   "id": "95aeb19b",
   "metadata": {},
   "outputs": [
    {
     "name": "stdout",
     "output_type": "stream",
     "text": [
      "[ 0 20 60 80]\n",
      "[30 50 70]\n"
     ]
    }
   ],
   "source": [
    "# NumPy: Find the set difference of two arrays\n",
    "\n",
    "array1 = np.array([0, 10, 20, 40, 60, 80])\n",
    "array2 = [10, 30, 40, 50, 70]\n",
    "\n",
    "result = np.setdiff1d(array1,array2)\n",
    "print(result)\n",
    "\n",
    "result = np.setdiff1d(array2,array1)\n",
    "print(result)\n"
   ]
  },
  {
   "cell_type": "code",
   "execution_count": 88,
   "id": "2c3e3315",
   "metadata": {},
   "outputs": [
    {
     "name": "stdout",
     "output_type": "stream",
     "text": [
      "[['Betsey' 'Genesis' 'Lanell' 'Margery' 'Shelley']\n",
      " ['Battle' 'Brien' 'Plotner' 'Stahl' 'Woolum']]\n",
      "[1 3 2 4 0]\n"
     ]
    }
   ],
   "source": [
    "# Write a NumPy program to sort pairs of a first name and a last name and return their indices\n",
    "\n",
    "first_names =    ('Margery', 'Betsey', 'Shelley', 'Lanell', 'Genesis')\n",
    "last_names = ('Woolum', 'Battle', 'Plotner', 'Brien', 'Stahl')\n",
    "\n",
    "arr = np.sort((first_names,last_names))\n",
    "print(arr)\n",
    "\n",
    "arre = np.lexsort((first_names,last_names))\n",
    "print(arre)"
   ]
  },
  {
   "cell_type": "code",
   "execution_count": 91,
   "id": "31fb12ae",
   "metadata": {},
   "outputs": [
    {
     "name": "stdout",
     "output_type": "stream",
     "text": [
      "[20 20 30 40]\n",
      "[[False False  True]\n",
      " [ True  True  True]]\n"
     ]
    }
   ],
   "source": [
    "# Write a NumPy program to get the values and indices of the elements that are bigger than 10 in a given array.\n",
    "\n",
    "x = np.array([[0, 10, 20], [20, 30, 40]])\n",
    "\n",
    "result = x[x > 10]\n",
    "print(result)\n",
    "\n",
    "result = x > 10\n",
    "print(result)\n"
   ]
  },
  {
   "cell_type": "code",
   "execution_count": 95,
   "id": "3f08b8c3",
   "metadata": {},
   "outputs": [
    {
     "name": "stdout",
     "output_type": "stream",
     "text": [
      "(6,)\n",
      "[[1 2 3]\n",
      " [4 5 6]\n",
      " [7 8 9]]\n",
      "[[1 2 3]\n",
      " [4 5 6]\n",
      " [7 8 9]]\n"
     ]
    }
   ],
   "source": [
    "# Write a NumPy program to change an array's dimension.\n",
    "\n",
    "x = np.array([1, 2, 3, 4, 5, 6])\n",
    "print(x.shape)\n",
    "\n",
    "y = np.array([[1, 2, 3],[4, 5, 6],[7,8,9]])\n",
    "print(y)\n",
    "\n",
    "x = np.array([1,2,3,4,5,6,7,8,9])\n",
    "x.shape= (3,3)\n",
    "print(x)"
   ]
  },
  {
   "cell_type": "code",
   "execution_count": 100,
   "id": "bf28b06d",
   "metadata": {},
   "outputs": [
    {
     "name": "stdout",
     "output_type": "stream",
     "text": [
      "[[  2   4   6]\n",
      " [  6   8  10]\n",
      " [ 11  25  96]\n",
      " [ 78  96 325]]\n",
      "<class 'numpy.ndarray'>\n",
      "(4, 3)\n",
      "int32\n"
     ]
    }
   ],
   "source": [
    "# Write a NumPy program to create a 2-dimensional array of size 2 x 3 (composed of 4-byte integer elements), also print the shape, type and data type of the array.\n",
    "\n",
    "x = np.array([[2, 4, 6], [6, 8, 10],[11,25,96],[78,96,325]])\n",
    "print(x)\n",
    "\n",
    "print(type(x))\n",
    "print(x.shape)\n",
    "print(x.dtype)"
   ]
  },
  {
   "cell_type": "code",
   "execution_count": 102,
   "id": "2ba5e20c",
   "metadata": {},
   "outputs": [
    {
     "name": "stdout",
     "output_type": "stream",
     "text": [
      "[[1 2]\n",
      " [3 4]\n",
      " [5 6]]\n",
      "[[1 2 3]\n",
      " [4 5 6]]\n"
     ]
    }
   ],
   "source": [
    "# Write a NumPy program to create another shape from an array without changing its data\n",
    "\n",
    "x = np.array([1, 2, 3, 4, 5, 6])\n",
    "\n",
    "print(x.reshape(3,2))\n",
    "print(x.reshape(2,3))"
   ]
  },
  {
   "cell_type": "code",
   "execution_count": null,
   "id": "bd037c4b",
   "metadata": {},
   "outputs": [],
   "source": []
  },
  {
   "cell_type": "code",
   "execution_count": null,
   "id": "09b587da",
   "metadata": {},
   "outputs": [],
   "source": []
  },
  {
   "cell_type": "code",
   "execution_count": null,
   "id": "127fc373",
   "metadata": {},
   "outputs": [],
   "source": []
  }
 ],
 "metadata": {
  "kernelspec": {
   "display_name": "Python 3 (ipykernel)",
   "language": "python",
   "name": "python3"
  },
  "language_info": {
   "codemirror_mode": {
    "name": "ipython",
    "version": 3
   },
   "file_extension": ".py",
   "mimetype": "text/x-python",
   "name": "python",
   "nbconvert_exporter": "python",
   "pygments_lexer": "ipython3",
   "version": "3.9.12"
  }
 },
 "nbformat": 4,
 "nbformat_minor": 5
}
