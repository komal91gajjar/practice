{
 "cells": [
  {
   "cell_type": "markdown",
   "id": "35216e02",
   "metadata": {},
   "source": [
    "# Class and Object"
   ]
  },
  {
   "cell_type": "code",
   "execution_count": 1,
   "id": "65e1e5dd",
   "metadata": {},
   "outputs": [],
   "source": [
    "class my_class:\n",
    "    a = 5\n"
   ]
  },
  {
   "cell_type": "code",
   "execution_count": 8,
   "id": "ac535387",
   "metadata": {},
   "outputs": [
    {
     "name": "stdout",
     "output_type": "stream",
     "text": [
      "5\n"
     ]
    }
   ],
   "source": [
    "p = my_class()\n",
    "print(p.a)"
   ]
  },
  {
   "cell_type": "code",
   "execution_count": 24,
   "id": "d8c57645",
   "metadata": {},
   "outputs": [
    {
     "name": "stdout",
     "output_type": "stream",
     "text": [
      "my name is:  (<class '__main__.sample'>, 'pooja', 20)\n"
     ]
    }
   ],
   "source": [
    "class sample:\n",
    "    def mydef(self,name,age):\n",
    "        self.name = name\n",
    "        self.age = age\n",
    "        \n",
    "    def my_func(self):\n",
    "        print(self)\n",
    "    \n",
    "a = sample,\"pooja\",20\n",
    "#a.my_func()\n",
    "print(\"my name is: \" , a)\n",
    "   \n",
    "        \n"
   ]
  },
  {
   "cell_type": "code",
   "execution_count": 2,
   "id": "a9da4e77",
   "metadata": {},
   "outputs": [
    {
     "name": "stdout",
     "output_type": "stream",
     "text": [
      "<__main__.person object at 0x000001ECC755D8E0>\n"
     ]
    }
   ],
   "source": [
    "class person:\n",
    "    def __init__(self, name, age):\n",
    "        self.name = name\n",
    "        self.age = age\n",
    "        #self.address = address\n",
    "        \n",
    "    def my_func(self):\n",
    "        return f\"{self.name}({self.age})\"\n",
    "        #print(\"my name is :\",pooja,20,ahmedabad)\n",
    "        \n",
    "p1 = person(\"pooja\",20)\n",
    "print(p1)\n"
   ]
  },
  {
   "cell_type": "code",
   "execution_count": 39,
   "id": "ba99b18d",
   "metadata": {},
   "outputs": [
    {
     "name": "stdout",
     "output_type": "stream",
     "text": [
      "John(36)\n"
     ]
    }
   ],
   "source": [
    "class Person:\n",
    "    \n",
    "    def __init__(self, name, age):\n",
    "        self.name = name\n",
    "        self.age = age\n",
    "    \n",
    "    def __str__(self):\n",
    "        return f\"{self.name}({self.age})\"    \n",
    "\n",
    "p1 = Person(\"John\", 36)\n",
    "\n",
    "print(p1)\n"
   ]
  },
  {
   "cell_type": "code",
   "execution_count": 3,
   "id": "2288adec",
   "metadata": {},
   "outputs": [
    {
     "name": "stdout",
     "output_type": "stream",
     "text": [
      "John(36)\n"
     ]
    }
   ],
   "source": [
    "class Person:\n",
    "  def __init__(self, name, age):\n",
    "    self.name = name\n",
    "    self.age = age\n",
    "\n",
    "  def __str__(self):\n",
    "    return f\"{self.name}({self.age})\"\n",
    "\n",
    "p1 = Person(\"John\", 36)\n",
    "\n",
    "print(p1)"
   ]
  },
  {
   "cell_type": "code",
   "execution_count": 45,
   "id": "3e6a1982",
   "metadata": {},
   "outputs": [
    {
     "name": "stdout",
     "output_type": "stream",
     "text": [
      "pooja(20)\n"
     ]
    }
   ],
   "source": [
    "class person:\n",
    "    def __init__(self, name, age):\n",
    "        self.name = name\n",
    "        self.age = age\n",
    "       \n",
    "    def my_func(self):\n",
    "        return f\"{self.name}({self.age})\"\n",
    "       \n",
    "        \n",
    "p1 = person(\"pooja\",20)\n",
    "print(p1.my_func())\n"
   ]
  },
  {
   "cell_type": "code",
   "execution_count": 46,
   "id": "1c03c8b8",
   "metadata": {},
   "outputs": [
    {
     "name": "stdout",
     "output_type": "stream",
     "text": [
      "kkk(iii)(20)\n"
     ]
    }
   ],
   "source": [
    "class family:\n",
    "    \n",
    "    def parent(self,father,mother,age):\n",
    "        self.father = father\n",
    "        self.mother = mother\n",
    "        self.age = age\n",
    "        \n",
    "    def my_fun(self):\n",
    "        return f\"{self.father}({self.mother})({self.age})\"\n",
    "\n",
    "p1 = family()\n",
    "p1.parent(\"kkk\",\"iii\",20)\n",
    "print(p1.my_fun())"
   ]
  },
  {
   "cell_type": "code",
   "execution_count": 4,
   "id": "bd0d8c76",
   "metadata": {},
   "outputs": [
    {
     "data": {
      "text/plain": [
       "'pooja(patel)(20)(ahmedabad)'"
      ]
     },
     "execution_count": 4,
     "metadata": {},
     "output_type": "execute_result"
    }
   ],
   "source": [
    "class family:\n",
    "    def parent(self,fname,lname,age,add):\n",
    "        self.fname = fname\n",
    "        self.lname = lname\n",
    "        self.age = age\n",
    "        self.add = add\n",
    "        \n",
    "    def my_fun(self):\n",
    "        return f\"{self.fname}({self.lname})({self.age})({self.add})\"\n",
    "    \n",
    "    \n",
    "f1 = family()\n",
    "f1.parent(\"pooja\",\"patel\",20,\"ahmedabad\")\n",
    "f1.my_fun()\n",
    "        "
   ]
  },
  {
   "cell_type": "code",
   "execution_count": 48,
   "id": "95b9f35b",
   "metadata": {},
   "outputs": [
    {
     "name": "stdout",
     "output_type": "stream",
     "text": [
      "gajjar\n",
      "komal\n"
     ]
    }
   ],
   "source": [
    "f1.fname = \"komal\"\n",
    "f1.lname = \"gajjar\"\n",
    "print(f1.lname)\n",
    "print(f1.fname)"
   ]
  },
  {
   "cell_type": "code",
   "execution_count": 49,
   "id": "3937ef03",
   "metadata": {},
   "outputs": [
    {
     "name": "stdout",
     "output_type": "stream",
     "text": [
      "my name is :pooja kkk 20 ggg\n"
     ]
    }
   ],
   "source": [
    "class family:\n",
    "    def __init__(self,fname,lname,age,add):\n",
    "        self.fname = fname\n",
    "        self.lname = lname\n",
    "        self.age = age\n",
    "        self.add = add\n",
    "        \n",
    "    def my_fun(self):\n",
    "        print(\"my name is :\" + self.fname, self.lname, self.age, self.add)\n",
    "        \n",
    "f1 = family(\"pooja\",\"kkk\",20,\"ggg\")\n",
    "f1.my_fun()\n"
   ]
  },
  {
   "cell_type": "code",
   "execution_count": 50,
   "id": "9053441d",
   "metadata": {},
   "outputs": [
    {
     "name": "stdout",
     "output_type": "stream",
     "text": [
      "python\n",
      "this is second function\n",
      "function call\n"
     ]
    }
   ],
   "source": [
    "mylist = [\"apple\",\"banana\",\"chery\",2,6,5]\n",
    "#a = mylist\n",
    "\n",
    "class company:\n",
    "    def __init__(self,name):\n",
    "        self.name = name\n",
    "        \n",
    "    def func(self):\n",
    "        print(\"this is second function\")\n",
    "        \n",
    "    def m_list(self):\n",
    "        if \"chery\" in mylist:\n",
    "            print(\"function call\")\n",
    "        else:\n",
    "            print(\"not call\")\n",
    "        \n",
    "x = company(\"python\")\n",
    "print(x.name)\n",
    "x.func()\n",
    "x.m_list()"
   ]
  },
  {
   "cell_type": "code",
   "execution_count": 64,
   "id": "24224168",
   "metadata": {},
   "outputs": [
    {
     "data": {
      "text/plain": [
       "'maninagar'"
      ]
     },
     "execution_count": 64,
     "metadata": {},
     "output_type": "execute_result"
    }
   ],
   "source": [
    "class Company:\n",
    "    def __init__(self):\n",
    "        self.name = \"tops\"\n",
    "        self.add = \"ahmedabad\"\n",
    "        self.location = \"maninagar\"\n",
    "    \n",
    "    def func(self):\n",
    "        name = \"Data Analyst\"\n",
    "        \n",
    "x = Company()\n",
    "#x.name = \"tips\"\n",
    "x.name\n",
    "x.add\n",
    "#x.location = \"c g road\"\n",
    "x.location"
   ]
  },
  {
   "cell_type": "code",
   "execution_count": null,
   "id": "40a23a90",
   "metadata": {},
   "outputs": [],
   "source": []
  },
  {
   "cell_type": "code",
   "execution_count": null,
   "id": "50888388",
   "metadata": {},
   "outputs": [],
   "source": []
  },
  {
   "cell_type": "code",
   "execution_count": null,
   "id": "a7a40269",
   "metadata": {},
   "outputs": [],
   "source": []
  },
  {
   "cell_type": "markdown",
   "id": "0611d025",
   "metadata": {},
   "source": [
    "# Inheritance"
   ]
  },
  {
   "cell_type": "code",
   "execution_count": 67,
   "id": "4f3122fd",
   "metadata": {},
   "outputs": [
    {
     "name": "stdout",
     "output_type": "stream",
     "text": [
      "this is first function\n",
      "this is called\n"
     ]
    }
   ],
   "source": [
    "# simple inheritance\n",
    "\n",
    "class parent:\n",
    "    def func(self):\n",
    "        print(\"this is first function\")\n",
    "    \n",
    "class child(parent):\n",
    "    def func1(self):\n",
    "        print(\"this is called\")\n",
    "        \n",
    "        \n",
    "ob = child()\n",
    "ob.func()\n",
    "ob.func1()"
   ]
  },
  {
   "cell_type": "code",
   "execution_count": 71,
   "id": "3bc5a83c",
   "metadata": {},
   "outputs": [
    {
     "name": "stdout",
     "output_type": "stream",
     "text": [
      "this is 1st function\n",
      "this is 2nd function\n",
      "this is 3rd function\n"
     ]
    }
   ],
   "source": [
    "# multiple inheritance\n",
    "\n",
    "class parent1:\n",
    "    def func(self):\n",
    "        print(\"this is 1st function\")\n",
    "        \n",
    "class parent2:\n",
    "    def func1(self):\n",
    "        print(\"this is 2nd function\")\n",
    "        \n",
    "class child(parent1,parent2):\n",
    "    def func2(self):\n",
    "        print(\"this is 3rd function\")\n",
    "        \n",
    "ob = child()\n",
    "ob.func()\n",
    "ob.func1()\n",
    "ob.func2()"
   ]
  },
  {
   "cell_type": "code",
   "execution_count": 73,
   "id": "83b6f18f",
   "metadata": {},
   "outputs": [
    {
     "name": "stdout",
     "output_type": "stream",
     "text": [
      "2019\n",
      "Mike\n"
     ]
    }
   ],
   "source": [
    "class Person:# parent class\n",
    "  def __init__(self, fname, lname):\n",
    "    self.firstname = fname\n",
    "    self.lastname = lname\n",
    "\n",
    "  def printname(self):\n",
    "    print(self.firstname, self.lastname)\n",
    "\n",
    "class Student(Person): # child class\n",
    "  def __init__(self, fname, lname, year):\n",
    "    super().__init__(fname, lname)\n",
    "    self.graduationyear = year\n",
    "    self.fname = fname\n",
    "\n",
    "x = Student(\"Mike\", \"Olsen\", 2019)\n",
    "print(x.graduationyear)\n",
    "print(x.fname)\n"
   ]
  },
  {
   "cell_type": "code",
   "execution_count": 74,
   "id": "63998ba1",
   "metadata": {},
   "outputs": [
    {
     "name": "stdout",
     "output_type": "stream",
     "text": [
      "Woof!\n",
      "Meow!\n",
      "Moo!\n"
     ]
    }
   ],
   "source": [
    "class Animal:\n",
    "    def speak(self):\n",
    "        pass\n",
    "\n",
    "class Dog(Animal):\n",
    "    def speak(self):\n",
    "        return \"Woof!\"\n",
    "\n",
    "class Cat(Animal):\n",
    "    def speak(self):\n",
    "        return \"Meow!\"\n",
    "\n",
    "class Cow(Animal):\n",
    "    def speak(self):\n",
    "        return \"Moo!\"\n",
    "\n",
    "# Using polymorphism\n",
    "animals = [Dog(), Cat(), Cow()]\n",
    "for animal in animals:\n",
    "    print(animal.speak())\n"
   ]
  },
  {
   "cell_type": "code",
   "execution_count": 81,
   "id": "1019909c",
   "metadata": {},
   "outputs": [
    {
     "name": "stdout",
     "output_type": "stream",
     "text": [
      "Red\n",
      "Yellow\n",
      "light green\n"
     ]
    }
   ],
   "source": [
    "class Fruits:\n",
    "    def color(self):\n",
    "        pass\n",
    "    \n",
    "class Apple(Fruits):\n",
    "    def color(self):\n",
    "        return(\"Red\")\n",
    "        \n",
    "class Orange(Fruits):\n",
    "    def color(self):\n",
    "        return(\"Yellow\")\n",
    "        \n",
    "class Grapes(Fruits):\n",
    "    def color(self):\n",
    "        return(\"light green\")\n",
    "        \n",
    "fruit = [Apple(), Orange(), Grapes()]\n",
    "\n",
    "for f in fruit:\n",
    "    print(f.color())\n",
    "    \n",
    "    \n",
    "\n"
   ]
  },
  {
   "cell_type": "code",
   "execution_count": 84,
   "id": "56867e3a",
   "metadata": {},
   "outputs": [
    {
     "name": "stdout",
     "output_type": "stream",
     "text": [
      "100\n"
     ]
    }
   ],
   "source": [
    "# local scope\n",
    "\n",
    "def scop(): # create a function\n",
    "    a = 100\n",
    "    print(a)\n",
    "    \n",
    "scop()"
   ]
  },
  {
   "cell_type": "code",
   "execution_count": 85,
   "id": "538d81ae",
   "metadata": {},
   "outputs": [
    {
     "name": "stdout",
     "output_type": "stream",
     "text": [
      "500\n"
     ]
    }
   ],
   "source": [
    "def scop():\n",
    "    x = 500\n",
    "    def inner_fun(): # inner function create\n",
    "        print(x)\n",
    "    inner_fun()\n",
    "    \n",
    "scop()"
   ]
  },
  {
   "cell_type": "code",
   "execution_count": 86,
   "id": "0646eee3",
   "metadata": {},
   "outputs": [
    {
     "name": "stdout",
     "output_type": "stream",
     "text": [
      "100\n"
     ]
    }
   ],
   "source": [
    "# global scope\n",
    "\n",
    "a = 100 \n",
    "\n",
    "def scop(): # single function create\n",
    "    print(a)\n",
    "    \n",
    "scop()"
   ]
  },
  {
   "cell_type": "code",
   "execution_count": 87,
   "id": "e7c9fb51",
   "metadata": {},
   "outputs": [
    {
     "name": "stdout",
     "output_type": "stream",
     "text": [
      "200\n"
     ]
    }
   ],
   "source": [
    "a = 200\n",
    "\n",
    "def scop():\n",
    "    def inner_fun():\n",
    "        print(a)\n",
    "        \n",
    "    inner_fun()\n",
    "    \n",
    "scop()"
   ]
  },
  {
   "cell_type": "code",
   "execution_count": 8,
   "id": "ca643616",
   "metadata": {},
   "outputs": [],
   "source": [
    "import module"
   ]
  },
  {
   "cell_type": "code",
   "execution_count": 9,
   "id": "43b264dd",
   "metadata": {},
   "outputs": [
    {
     "name": "stdout",
     "output_type": "stream",
     "text": [
      "Hello, komal\n"
     ]
    }
   ],
   "source": [
    "module.greeting(\"komal\")"
   ]
  },
  {
   "cell_type": "code",
   "execution_count": 12,
   "id": "619c9a67",
   "metadata": {},
   "outputs": [
    {
     "name": "stdout",
     "output_type": "stream",
     "text": [
      "komal\n"
     ]
    }
   ],
   "source": [
    "a = module.my_dict[\"name\"]\n",
    "print(a)"
   ]
  },
  {
   "cell_type": "code",
   "execution_count": null,
   "id": "08345d2f",
   "metadata": {},
   "outputs": [],
   "source": []
  },
  {
   "cell_type": "code",
   "execution_count": null,
   "id": "ce6e883a",
   "metadata": {},
   "outputs": [],
   "source": []
  }
 ],
 "metadata": {
  "kernelspec": {
   "display_name": "Python 3 (ipykernel)",
   "language": "python",
   "name": "python3"
  },
  "language_info": {
   "codemirror_mode": {
    "name": "ipython",
    "version": 3
   },
   "file_extension": ".py",
   "mimetype": "text/x-python",
   "name": "python",
   "nbconvert_exporter": "python",
   "pygments_lexer": "ipython3",
   "version": "3.9.12"
  }
 },
 "nbformat": 4,
 "nbformat_minor": 5
}
