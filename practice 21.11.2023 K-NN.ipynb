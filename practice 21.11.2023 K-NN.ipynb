{
 "cells": [
  {
   "cell_type": "code",
   "execution_count": 4,
   "metadata": {},
   "outputs": [],
   "source": [
    "import numpy as np\n",
    "import pandas as pd\n",
    "import matplotlib.pyplot as plt\n",
    "import seaborn as sns"
   ]
  },
  {
   "cell_type": "code",
   "execution_count": 5,
   "metadata": {},
   "outputs": [],
   "source": [
    "df = pd.read_csv(\"D:\\\\excel data\\\\breast-cancer-data.csv\")"
   ]
  },
  {
   "cell_type": "code",
   "execution_count": 6,
   "metadata": {},
   "outputs": [
    {
     "data": {
      "text/html": [
       "<div>\n",
       "<style scoped>\n",
       "    .dataframe tbody tr th:only-of-type {\n",
       "        vertical-align: middle;\n",
       "    }\n",
       "\n",
       "    .dataframe tbody tr th {\n",
       "        vertical-align: top;\n",
       "    }\n",
       "\n",
       "    .dataframe thead th {\n",
       "        text-align: right;\n",
       "    }\n",
       "</style>\n",
       "<table border=\"1\" class=\"dataframe\">\n",
       "  <thead>\n",
       "    <tr style=\"text-align: right;\">\n",
       "      <th></th>\n",
       "      <th>age</th>\n",
       "      <th>menopause</th>\n",
       "      <th>tumer-size</th>\n",
       "      <th>inv-nodes</th>\n",
       "      <th>node-caps</th>\n",
       "      <th>deg-malig</th>\n",
       "      <th>breast</th>\n",
       "      <th>breast-quad</th>\n",
       "      <th>irradiate</th>\n",
       "      <th>class</th>\n",
       "    </tr>\n",
       "  </thead>\n",
       "  <tbody>\n",
       "    <tr>\n",
       "      <th>0</th>\n",
       "      <td>40-49'</td>\n",
       "      <td>premeno'</td>\n",
       "      <td>15-19'</td>\n",
       "      <td>0-2'</td>\n",
       "      <td>yes'</td>\n",
       "      <td>3'</td>\n",
       "      <td>right'</td>\n",
       "      <td>left_up'</td>\n",
       "      <td>no'</td>\n",
       "      <td>recurrence-events'</td>\n",
       "    </tr>\n",
       "    <tr>\n",
       "      <th>1</th>\n",
       "      <td>50-59'</td>\n",
       "      <td>ge40'</td>\n",
       "      <td>15-19'</td>\n",
       "      <td>0-2'</td>\n",
       "      <td>no'</td>\n",
       "      <td>1'</td>\n",
       "      <td>right'</td>\n",
       "      <td>central'</td>\n",
       "      <td>no'</td>\n",
       "      <td>no-recurrence-events'</td>\n",
       "    </tr>\n",
       "    <tr>\n",
       "      <th>2</th>\n",
       "      <td>50-59'</td>\n",
       "      <td>ge40'</td>\n",
       "      <td>35-39'</td>\n",
       "      <td>0-2'</td>\n",
       "      <td>no'</td>\n",
       "      <td>2'</td>\n",
       "      <td>left'</td>\n",
       "      <td>left_low'</td>\n",
       "      <td>no'</td>\n",
       "      <td>recurrence-events'</td>\n",
       "    </tr>\n",
       "    <tr>\n",
       "      <th>3</th>\n",
       "      <td>40-49'</td>\n",
       "      <td>premeno'</td>\n",
       "      <td>35-39'</td>\n",
       "      <td>0-2'</td>\n",
       "      <td>yes'</td>\n",
       "      <td>3'</td>\n",
       "      <td>right'</td>\n",
       "      <td>left_low'</td>\n",
       "      <td>yes'</td>\n",
       "      <td>no-recurrence-events'</td>\n",
       "    </tr>\n",
       "    <tr>\n",
       "      <th>4</th>\n",
       "      <td>40-49'</td>\n",
       "      <td>premeno'</td>\n",
       "      <td>30-34'</td>\n",
       "      <td>3-5'</td>\n",
       "      <td>yes'</td>\n",
       "      <td>2'</td>\n",
       "      <td>left'</td>\n",
       "      <td>right_up'</td>\n",
       "      <td>no'</td>\n",
       "      <td>recurrence-events'</td>\n",
       "    </tr>\n",
       "    <tr>\n",
       "      <th>...</th>\n",
       "      <td>...</td>\n",
       "      <td>...</td>\n",
       "      <td>...</td>\n",
       "      <td>...</td>\n",
       "      <td>...</td>\n",
       "      <td>...</td>\n",
       "      <td>...</td>\n",
       "      <td>...</td>\n",
       "      <td>...</td>\n",
       "      <td>...</td>\n",
       "    </tr>\n",
       "    <tr>\n",
       "      <th>281</th>\n",
       "      <td>50-59'</td>\n",
       "      <td>ge40'</td>\n",
       "      <td>30-34'</td>\n",
       "      <td>6-8'</td>\n",
       "      <td>yes'</td>\n",
       "      <td>2'</td>\n",
       "      <td>left'</td>\n",
       "      <td>left_low'</td>\n",
       "      <td>no'</td>\n",
       "      <td>no-recurrence-events'</td>\n",
       "    </tr>\n",
       "    <tr>\n",
       "      <th>282</th>\n",
       "      <td>50-59'</td>\n",
       "      <td>premeno'</td>\n",
       "      <td>25-29'</td>\n",
       "      <td>3-5'</td>\n",
       "      <td>yes'</td>\n",
       "      <td>2'</td>\n",
       "      <td>left'</td>\n",
       "      <td>left_low'</td>\n",
       "      <td>yes'</td>\n",
       "      <td>no-recurrence-events'</td>\n",
       "    </tr>\n",
       "    <tr>\n",
       "      <th>283</th>\n",
       "      <td>30-39'</td>\n",
       "      <td>premeno'</td>\n",
       "      <td>30-34'</td>\n",
       "      <td>6-8'</td>\n",
       "      <td>yes'</td>\n",
       "      <td>2'</td>\n",
       "      <td>right'</td>\n",
       "      <td>right_up'</td>\n",
       "      <td>no'</td>\n",
       "      <td>no-recurrence-events'</td>\n",
       "    </tr>\n",
       "    <tr>\n",
       "      <th>284</th>\n",
       "      <td>50-59'</td>\n",
       "      <td>premeno'</td>\n",
       "      <td>15-19'</td>\n",
       "      <td>0-2'</td>\n",
       "      <td>no'</td>\n",
       "      <td>2'</td>\n",
       "      <td>right'</td>\n",
       "      <td>left_low'</td>\n",
       "      <td>no'</td>\n",
       "      <td>no-recurrence-events'</td>\n",
       "    </tr>\n",
       "    <tr>\n",
       "      <th>285</th>\n",
       "      <td>50-59'</td>\n",
       "      <td>ge40'</td>\n",
       "      <td>40-44'</td>\n",
       "      <td>0-2'</td>\n",
       "      <td>no'</td>\n",
       "      <td>3'</td>\n",
       "      <td>left'</td>\n",
       "      <td>right_up'</td>\n",
       "      <td>no'</td>\n",
       "      <td>no-recurrence-events'</td>\n",
       "    </tr>\n",
       "  </tbody>\n",
       "</table>\n",
       "<p>286 rows × 10 columns</p>\n",
       "</div>"
      ],
      "text/plain": [
       "        age menopause tumer-size inv-nodes node-caps deg-malig  breast  \\\n",
       "0    40-49'  premeno'     15-19'      0-2'      yes'        3'  right'   \n",
       "1    50-59'     ge40'     15-19'      0-2'       no'        1'  right'   \n",
       "2    50-59'     ge40'     35-39'      0-2'       no'        2'   left'   \n",
       "3    40-49'  premeno'     35-39'      0-2'      yes'        3'  right'   \n",
       "4    40-49'  premeno'     30-34'      3-5'      yes'        2'   left'   \n",
       "..      ...       ...        ...       ...       ...       ...     ...   \n",
       "281  50-59'     ge40'     30-34'      6-8'      yes'        2'   left'   \n",
       "282  50-59'  premeno'     25-29'      3-5'      yes'        2'   left'   \n",
       "283  30-39'  premeno'     30-34'      6-8'      yes'        2'  right'   \n",
       "284  50-59'  premeno'     15-19'      0-2'       no'        2'  right'   \n",
       "285  50-59'     ge40'     40-44'      0-2'       no'        3'   left'   \n",
       "\n",
       "    breast-quad irradiate                  class  \n",
       "0      left_up'       no'     recurrence-events'  \n",
       "1      central'       no'  no-recurrence-events'  \n",
       "2     left_low'       no'     recurrence-events'  \n",
       "3     left_low'      yes'  no-recurrence-events'  \n",
       "4     right_up'       no'     recurrence-events'  \n",
       "..          ...       ...                    ...  \n",
       "281   left_low'       no'  no-recurrence-events'  \n",
       "282   left_low'      yes'  no-recurrence-events'  \n",
       "283   right_up'       no'  no-recurrence-events'  \n",
       "284   left_low'       no'  no-recurrence-events'  \n",
       "285   right_up'       no'  no-recurrence-events'  \n",
       "\n",
       "[286 rows x 10 columns]"
      ]
     },
     "execution_count": 6,
     "metadata": {},
     "output_type": "execute_result"
    }
   ],
   "source": [
    "df"
   ]
  },
  {
   "cell_type": "code",
   "execution_count": 7,
   "metadata": {},
   "outputs": [
    {
     "data": {
      "text/plain": [
       "breast\n",
       "left'     152\n",
       "right'    134\n",
       "Name: count, dtype: int64"
      ]
     },
     "execution_count": 7,
     "metadata": {},
     "output_type": "execute_result"
    }
   ],
   "source": [
    "df[\"breast\"].value_counts()"
   ]
  },
  {
   "cell_type": "code",
   "execution_count": 8,
   "metadata": {},
   "outputs": [
    {
     "data": {
      "text/plain": [
       "breast-quad\n",
       "left_low'     110\n",
       "left_up'       97\n",
       "right_up'      33\n",
       "right_low'     24\n",
       "central'       21\n",
       "Name: count, dtype: int64"
      ]
     },
     "execution_count": 8,
     "metadata": {},
     "output_type": "execute_result"
    }
   ],
   "source": [
    "df[\"breast-quad\"].value_counts()"
   ]
  },
  {
   "cell_type": "code",
   "execution_count": 9,
   "metadata": {},
   "outputs": [
    {
     "data": {
      "text/plain": [
       "menopause\n",
       "premeno'    150\n",
       "ge40'       129\n",
       "lt40'         7\n",
       "Name: count, dtype: int64"
      ]
     },
     "execution_count": 9,
     "metadata": {},
     "output_type": "execute_result"
    }
   ],
   "source": [
    "df[\"menopause\"].value_counts()"
   ]
  },
  {
   "cell_type": "code",
   "execution_count": 10,
   "metadata": {},
   "outputs": [
    {
     "data": {
      "text/plain": [
       "node-caps\n",
       "no'     222\n",
       "yes'     56\n",
       "Name: count, dtype: int64"
      ]
     },
     "execution_count": 10,
     "metadata": {},
     "output_type": "execute_result"
    }
   ],
   "source": [
    "df[\"node-caps\"].value_counts()"
   ]
  },
  {
   "cell_type": "code",
   "execution_count": 11,
   "metadata": {},
   "outputs": [
    {
     "data": {
      "text/plain": [
       "deg-malig\n",
       "2'    130\n",
       "3'     85\n",
       "1'     71\n",
       "Name: count, dtype: int64"
      ]
     },
     "execution_count": 11,
     "metadata": {},
     "output_type": "execute_result"
    }
   ],
   "source": [
    "df[\"deg-malig\"].value_counts()"
   ]
  },
  {
   "cell_type": "code",
   "execution_count": 12,
   "metadata": {},
   "outputs": [
    {
     "data": {
      "text/plain": [
       "irradiate\n",
       "no'     218\n",
       "yes'     68\n",
       "Name: count, dtype: int64"
      ]
     },
     "execution_count": 12,
     "metadata": {},
     "output_type": "execute_result"
    }
   ],
   "source": [
    "df[\"irradiate\"].value_counts()"
   ]
  },
  {
   "cell_type": "code",
   "execution_count": 13,
   "metadata": {},
   "outputs": [
    {
     "data": {
      "text/plain": [
       "class\n",
       "no-recurrence-events'    201\n",
       "recurrence-events'        85\n",
       "Name: count, dtype: int64"
      ]
     },
     "execution_count": 13,
     "metadata": {},
     "output_type": "execute_result"
    }
   ],
   "source": [
    "df[\"class\"].value_counts()"
   ]
  },
  {
   "cell_type": "code",
   "execution_count": 30,
   "metadata": {},
   "outputs": [
    {
     "data": {
      "text/plain": [
       "\"49'\\n1      50\""
      ]
     },
     "execution_count": 30,
     "metadata": {},
     "output_type": "execute_result"
    }
   ],
   "source": [
    "df[\"age\"].to_string().split(\"-\")[1]"
   ]
  },
  {
   "cell_type": "code",
   "execution_count": null,
   "metadata": {},
   "outputs": [],
   "source": []
  }
 ],
 "metadata": {
  "kernelspec": {
   "display_name": "Python 3",
   "language": "python",
   "name": "python3"
  },
  "language_info": {
   "codemirror_mode": {
    "name": "ipython",
    "version": 3
   },
   "file_extension": ".py",
   "mimetype": "text/x-python",
   "name": "python",
   "nbconvert_exporter": "python",
   "pygments_lexer": "ipython3",
   "version": "3.11.3"
  }
 },
 "nbformat": 4,
 "nbformat_minor": 2
}
