{
 "cells": [
  {
   "cell_type": "code",
   "execution_count": null,
   "id": "36aa47ef",
   "metadata": {},
   "outputs": [],
   "source": []
  },
  {
   "cell_type": "markdown",
   "id": "b6aa1d37",
   "metadata": {},
   "source": [
    "## zerodivisionerror"
   ]
  },
  {
   "cell_type": "code",
   "execution_count": 11,
   "id": "30217053",
   "metadata": {},
   "outputs": [
    {
     "name": "stdout",
     "output_type": "stream",
     "text": [
      "sorry \n"
     ]
    }
   ],
   "source": [
    "def divide(a,b):\n",
    "    try:\n",
    "        result = a // b\n",
    "        print(result)\n",
    "    except ZeroDivisionError:\n",
    "        print(\"sorry \")\n",
    "        \n",
    "divide(5,0)\n",
    "        "
   ]
  },
  {
   "cell_type": "code",
   "execution_count": null,
   "id": "95c60c83",
   "metadata": {},
   "outputs": [],
   "source": []
  },
  {
   "cell_type": "code",
   "execution_count": 10,
   "id": "48cf354b",
   "metadata": {},
   "outputs": [
    {
     "name": "stdout",
     "output_type": "stream",
     "text": [
      "0\n"
     ]
    }
   ],
   "source": [
    "def divide(a,b):\n",
    "    try:\n",
    "        result = a // b\n",
    "        print(result)\n",
    "    except ZeroDivisionError:\n",
    "        print(\"sorry \")\n",
    "        \n",
    "divide(5,10)"
   ]
  },
  {
   "cell_type": "code",
   "execution_count": 14,
   "id": "4c3739a7",
   "metadata": {},
   "outputs": [
    {
     "name": "stdout",
     "output_type": "stream",
     "text": [
      "-44\n",
      "-1.7999999999999998\n"
     ]
    }
   ],
   "source": [
    "def divide(a,b):\n",
    "    try:\n",
    "        result = (a // b) + (a - b)\n",
    "        #print(result)\n",
    "    except ZeroDivisionError:\n",
    "        print(\"sorry\")\n",
    "    else:\n",
    "        print(result)\n",
    "        \n",
    "divide(25,69)\n",
    "divide(3.2,5)"
   ]
  },
  {
   "cell_type": "code",
   "execution_count": null,
   "id": "1d614552",
   "metadata": {},
   "outputs": [],
   "source": []
  },
  {
   "cell_type": "code",
   "execution_count": 20,
   "id": "62ef258e",
   "metadata": {},
   "outputs": [
    {
     "name": "stdout",
     "output_type": "stream",
     "text": [
      "enter no: 1\n",
      "enter no: 5\n",
      "the first number 1 and second number 5 and swapping number 5 and 1.\n"
     ]
    }
   ],
   "source": [
    "# swapping 2 number\n",
    "\n",
    "a = int(input(\"enter no: \"))\n",
    "b = int(input(\"enter no: \"))\n",
    "\n",
    "x = a\n",
    "y = b\n",
    "\n",
    "print(f\"the first number {a} and second number {b} and swapping number {y} and {x}.\")\n",
    "\n",
    "\n"
   ]
  },
  {
   "cell_type": "code",
   "execution_count": 24,
   "id": "35ed57b7",
   "metadata": {},
   "outputs": [
    {
     "name": "stdout",
     "output_type": "stream",
     "text": [
      "enter string: komal\n",
      "lamok\n"
     ]
    }
   ],
   "source": [
    "# reversed string\n",
    "\n",
    "a = input(\"enter string: \")\n",
    "\n",
    "rev_str = a[::-1]\n",
    "\n",
    "print(rev_str)"
   ]
  },
  {
   "cell_type": "code",
   "execution_count": null,
   "id": "d9e58664",
   "metadata": {},
   "outputs": [],
   "source": []
  },
  {
   "cell_type": "code",
   "execution_count": 35,
   "id": "03086d4a",
   "metadata": {},
   "outputs": [
    {
     "name": "stdout",
     "output_type": "stream",
     "text": [
      "5\n",
      "15\n",
      "15\n"
     ]
    }
   ],
   "source": [
    "class Demo:\n",
    "    __hiddenVariable = 0\n",
    "        \n",
    "    def practice(self,increment):\n",
    "        self.__hiddenVariable += increment\n",
    "        print(self.__hiddenVariable)\n",
    "        \n",
    "    def practice1(self,subsract):\n",
    "        self.__hiddenVariable * subsract\n",
    "        print(self.__hiddenVariable)\n",
    "        \n",
    "        \n",
    "a = Demo()\n",
    "a.practice(5)\n",
    "a.practice(10)\n",
    "a.practice1(2)\n",
    "\n",
    "        "
   ]
  },
  {
   "cell_type": "code",
   "execution_count": 42,
   "id": "cfff4b6b",
   "metadata": {},
   "outputs": [
    {
     "name": "stdout",
     "output_type": "stream",
     "text": [
      "15\n",
      "5\n",
      "5\n"
     ]
    }
   ],
   "source": [
    "class Mclass:\n",
    "    __number = 10\n",
    "    \n",
    "    def sample(self,increment):\n",
    "        self.__number += increment\n",
    "        print(self.__number)\n",
    "        \n",
    "    def sample1(self,substract):\n",
    "        self.__number -= substract\n",
    "        print(self.__number)\n",
    "        \n",
    "    def sample2(self,multiply):\n",
    "        self.__number * multiply\n",
    "        print(self.__number)\n",
    "        \n",
    "        \n",
    "a = Mclass()\n",
    "a.sample(5)\n",
    "a.sample1(10)\n",
    "a.sample2(20)\n",
    "        "
   ]
  },
  {
   "cell_type": "code",
   "execution_count": null,
   "id": "ad97316a",
   "metadata": {},
   "outputs": [],
   "source": []
  },
  {
   "cell_type": "code",
   "execution_count": 45,
   "id": "067deac5",
   "metadata": {},
   "outputs": [
    {
     "name": "stdout",
     "output_type": "stream",
     "text": [
      "Woof!\n",
      "Meow!\n"
     ]
    }
   ],
   "source": [
    "class Animal:\n",
    "    def speak(self):\n",
    "        return\n",
    "\n",
    "class Dog(Animal):\n",
    "    def speak(self):\n",
    "        return \"Woof!\"\n",
    "\n",
    "class Cat(Animal):\n",
    "    def speak(self):\n",
    "        return \"Meow!\"\n",
    "\n",
    "\n",
    "animals = [Dog(), Cat()]\n",
    "\n",
    "\n",
    "for animal in animals:\n",
    "    print(animal.speak())\n"
   ]
  },
  {
   "cell_type": "code",
   "execution_count": null,
   "id": "39365d79",
   "metadata": {},
   "outputs": [],
   "source": []
  },
  {
   "cell_type": "code",
   "execution_count": 47,
   "id": "14e0a957",
   "metadata": {},
   "outputs": [
    {
     "name": "stdout",
     "output_type": "stream",
     "text": [
      "10\n"
     ]
    }
   ],
   "source": [
    "class method:\n",
    "    __staticnumber = 10\n",
    "    \n",
    "    def sample(self,increment):\n",
    "        self.__staticnumber * increment\n",
    "        print(self.__staticnumber)\n",
    "        \n",
    "\n",
    "a = method()\n",
    "a.sample(25)"
   ]
  },
  {
   "cell_type": "code",
   "execution_count": 49,
   "id": "23cd0173",
   "metadata": {},
   "outputs": [],
   "source": [
    "import datetime\n",
    "from datetime import date"
   ]
  },
  {
   "cell_type": "code",
   "execution_count": 58,
   "id": "7c53e535",
   "metadata": {},
   "outputs": [
    {
     "name": "stdout",
     "output_type": "stream",
     "text": [
      "komal\n",
      "ahmedabad\n",
      "123456\n",
      "22/8/2023\n"
     ]
    }
   ],
   "source": [
    "class studentdetail:\n",
    "    def student_data(self,name,add,number):\n",
    "        self.name = name\n",
    "        self.add = add\n",
    "        self.number = number\n",
    "        \n",
    "    def dateofbirth(self,dob):\n",
    "        self.dob = dob\n",
    "        \n",
    "        \n",
    "a = studentdetail()\n",
    "a.student_data(\"komal\",\"ahmedabad\",123456)\n",
    "a.dateofbirth(\"22/8/2023\")\n",
    "\n",
    "print(a.name)\n",
    "print(a.add)\n",
    "print(a.number)\n",
    "print(a.dob)"
   ]
  },
  {
   "cell_type": "code",
   "execution_count": null,
   "id": "e08ad67d",
   "metadata": {},
   "outputs": [],
   "source": []
  },
  {
   "cell_type": "code",
   "execution_count": 63,
   "id": "4bc24c15",
   "metadata": {},
   "outputs": [
    {
     "name": "stdout",
     "output_type": "stream",
     "text": [
      "enter your name: kokok\n",
      "enter your name: 46416\n",
      "enter your name: 4164136\n",
      "enter your name: 22/08/2023\n",
      "name:  kokok\n",
      "address:  46416\n",
      "number:  4164136\n",
      "date of birth:  22/08/2023\n"
     ]
    }
   ],
   "source": [
    "class studentdetail:\n",
    "    def student_data(self):\n",
    "        self.name = input(\"enter your name: \")\n",
    "        self.add = input(\"enter your name: \")\n",
    "        self.number = input(\"enter your name: \")\n",
    "        \n",
    "    def dateofbirth(self):\n",
    "        self.dob = input(\"enter your name: \")\n",
    "        \n",
    "        \n",
    "a = studentdetail()\n",
    "a.student_data()\n",
    "a.dateofbirth()\n",
    "#a.student_data(\"komal\",\"ahmedabad\",123456)\n",
    "#a.dateofbirth(\"22/8/2023\")\n",
    "\n",
    "print(\"name: \", a.name)\n",
    "print(\"address: \", a.add)\n",
    "print(\"number: \", a.number)\n",
    "print(\"date of birth: \", a.dob)"
   ]
  },
  {
   "cell_type": "code",
   "execution_count": null,
   "id": "003a3d8c",
   "metadata": {},
   "outputs": [],
   "source": []
  },
  {
   "cell_type": "code",
   "execution_count": 64,
   "id": "4802b7bd",
   "metadata": {},
   "outputs": [
    {
     "name": "stdout",
     "output_type": "stream",
     "text": [
      "   ***  \n",
      " *     \n",
      " *     \n",
      " * *** \n",
      " *   * \n",
      " *   * \n",
      "  ***  \n",
      "\n"
     ]
    }
   ],
   "source": [
    "n = 7\n",
    "\n",
    "def pattern(n):\n",
    "    pat = \" \"\n",
    "    for i in range(0, n):\n",
    "        for j in range(0,n):\n",
    "            if((j == 1 and i!=0 and i!= n-1) or ((i == 0 or i == n-1) and j>1 and j <n-2) or (i==((n-1)/2)and j> n-5 and j < n-1) or (j == n-2 and i!=0 and i!=n-1 and i>=((n-1)/2))):\n",
    "                pat = pat+\"*\"\n",
    "            else:\n",
    "                pat = pat+\" \"\n",
    "        pat = pat + \"\\n\"\n",
    "    return pat\n",
    "print(pattern(n))\n",
    "        \n",
    "                \n",
    "                "
   ]
  },
  {
   "cell_type": "code",
   "execution_count": null,
   "id": "513bab32",
   "metadata": {},
   "outputs": [],
   "source": []
  },
  {
   "cell_type": "code",
   "execution_count": 69,
   "id": "8166d0d2",
   "metadata": {},
   "outputs": [
    {
     "name": "stdout",
     "output_type": "stream",
     "text": [
      "5\n"
     ]
    }
   ],
   "source": [
    "a = lambda x :5\n",
    "print(a(5))"
   ]
  },
  {
   "cell_type": "code",
   "execution_count": 72,
   "id": "a8586922",
   "metadata": {},
   "outputs": [
    {
     "name": "stdout",
     "output_type": "stream",
     "text": [
      "20\n"
     ]
    }
   ],
   "source": [
    "add = lambda x,y: x+y\n",
    "print(add(10,10))"
   ]
  },
  {
   "cell_type": "code",
   "execution_count": 73,
   "id": "c8d08949",
   "metadata": {},
   "outputs": [
    {
     "name": "stdout",
     "output_type": "stream",
     "text": [
      "-439\n"
     ]
    }
   ],
   "source": [
    "sub = lambda x,y,z: (x+y)*(y-z)+(x+z)\n",
    "print(sub(20,25,36))"
   ]
  },
  {
   "cell_type": "code",
   "execution_count": null,
   "id": "220dc537",
   "metadata": {},
   "outputs": [],
   "source": []
  },
  {
   "cell_type": "code",
   "execution_count": 75,
   "id": "a3656cd4",
   "metadata": {},
   "outputs": [
    {
     "name": "stdout",
     "output_type": "stream",
     "text": [
      "5\n"
     ]
    }
   ],
   "source": [
    "def sample():\n",
    "    \n",
    "    return lambda a: a\n",
    "print(a(5))"
   ]
  },
  {
   "cell_type": "code",
   "execution_count": 81,
   "id": "59470388",
   "metadata": {},
   "outputs": [
    {
     "name": "stdout",
     "output_type": "stream",
     "text": [
      "50\n"
     ]
    }
   ],
   "source": [
    "def sample(n):\n",
    "    return lambda a: a*n\n",
    "\n",
    "result = sample(10)\n",
    "\n",
    "print(result(5))"
   ]
  },
  {
   "cell_type": "code",
   "execution_count": null,
   "id": "80d3e178",
   "metadata": {},
   "outputs": [],
   "source": []
  },
  {
   "cell_type": "code",
   "execution_count": 82,
   "id": "246fc4ff",
   "metadata": {},
   "outputs": [],
   "source": [
    "import platform"
   ]
  },
  {
   "cell_type": "code",
   "execution_count": 83,
   "id": "59d41049",
   "metadata": {
    "collapsed": true
   },
   "outputs": [
    {
     "name": "stdout",
     "output_type": "stream",
     "text": [
      "['_Processor', '_WIN32_CLIENT_RELEASES', '_WIN32_SERVER_RELEASES', '__builtins__', '__cached__', '__copyright__', '__doc__', '__file__', '__loader__', '__name__', '__package__', '__spec__', '__version__', '_comparable_version', '_component_re', '_default_architecture', '_follow_symlinks', '_get_machine_win32', '_ironpython26_sys_version_parser', '_ironpython_sys_version_parser', '_java_getprop', '_libc_search', '_mac_ver_xml', '_node', '_norm_version', '_platform', '_platform_cache', '_pypy_sys_version_parser', '_sys_version', '_sys_version_cache', '_sys_version_parser', '_syscmd_file', '_syscmd_ver', '_uname_cache', '_unknown_as_blank', '_ver_output', '_ver_stages', 'architecture', 'collections', 'functools', 'itertools', 'java_ver', 'libc_ver', 'mac_ver', 'machine', 'node', 'os', 'platform', 'processor', 'python_branch', 'python_build', 'python_compiler', 'python_implementation', 'python_revision', 'python_version', 'python_version_tuple', 're', 'release', 'subprocess', 'sys', 'system', 'system_alias', 'uname', 'uname_result', 'version', 'win32_edition', 'win32_is_iot', 'win32_ver']\n"
     ]
    }
   ],
   "source": [
    "print(dir(platform))"
   ]
  },
  {
   "cell_type": "code",
   "execution_count": null,
   "id": "61ec45c5",
   "metadata": {},
   "outputs": [],
   "source": []
  },
  {
   "cell_type": "code",
   "execution_count": 84,
   "id": "7293a915",
   "metadata": {},
   "outputs": [],
   "source": [
    "import random"
   ]
  },
  {
   "cell_type": "code",
   "execution_count": 89,
   "id": "294529f2",
   "metadata": {},
   "outputs": [
    {
     "name": "stdout",
     "output_type": "stream",
     "text": [
      "0.5714025946899135\n"
     ]
    }
   ],
   "source": [
    "random.seed(10)\n",
    "print(random.random())"
   ]
  },
  {
   "cell_type": "code",
   "execution_count": 90,
   "id": "a0d0b070",
   "metadata": {
    "collapsed": true
   },
   "outputs": [
    {
     "name": "stdout",
     "output_type": "stream",
     "text": [
      "(3, (2910518045, 2919558713, 592432859, 1634426085, 3924201493, 2436393689, 1577666200, 2922410003, 974169664, 795094350, 229866157, 130904809, 1313496028, 151893204, 3486739395, 1254617844, 3741002464, 4043461294, 940567236, 3349574631, 3489906999, 3261599347, 2403221536, 670872903, 3291149686, 2850655986, 2300538667, 1966995484, 175963536, 924945844, 1168257397, 2243822545, 2476790015, 2148121793, 3534563085, 1634343159, 2195478836, 1940344654, 370949334, 790535762, 1834814106, 4193214965, 3695000399, 2646949069, 1255132785, 3590688196, 3614018245, 1434516408, 1253983818, 2914647727, 2606531973, 2406691187, 1975526356, 189193241, 1108539432, 2680589103, 1694965793, 1270659808, 2973657439, 2369101683, 3184678051, 2395301497, 3818025635, 2083282924, 2495703181, 2124728846, 2038113894, 4244989963, 1156889065, 862609957, 2423551262, 3819059707, 663961624, 1681714007, 956580344, 1691052737, 2131558558, 654187240, 632833144, 3714198047, 567096537, 899554154, 1802427323, 749355744, 2193727072, 814094773, 1966673377, 3483188262, 3304963165, 1367177032, 3891513754, 2505812233, 2020523939, 1985742846, 626704061, 2653107502, 369960010, 286620024, 1371527384, 3694698447, 857611653, 869587454, 2700337194, 2374526720, 49116546, 643099391, 182535168, 3408150791, 1262701388, 2044935380, 66933741, 1206230504, 3689390267, 3730160777, 1209037781, 3887489275, 4160956783, 3262330543, 1378506881, 213395142, 4003002911, 1240622885, 1127976482, 862859126, 951706629, 423108747, 795053686, 963998611, 1732453326, 736754916, 848978347, 3030738943, 3997094088, 3230629491, 2362366182, 380869993, 1437617939, 4032723754, 2655721859, 494454313, 3031980635, 3186607144, 1650607978, 4217776597, 4190195720, 725273803, 4006933892, 2918307247, 2612992595, 3215906428, 2851350426, 138902605, 1697094929, 2328216144, 394484776, 1652463476, 1630639266, 3699042210, 290713434, 3556002357, 1343746095, 1326206488, 655702823, 104936293, 2562826877, 1655598022, 3369850420, 2464204480, 3646132136, 3777599822, 3250707394, 1311671700, 660106068, 2666540169, 3855967181, 3367262877, 3654600570, 4182463737, 2035454178, 3131455025, 3350888983, 2034228846, 3896381437, 553700319, 1513975352, 696913668, 899881025, 2219743994, 1037817141, 1134907302, 393009801, 1982642987, 2425999375, 791671476, 3795955847, 1034404248, 4020367997, 27481502, 1351841369, 2355714421, 2404611283, 479609721, 1112463824, 3928318551, 938984560, 719567750, 110352693, 1639696170, 3186598251, 761292111, 475645688, 2270995138, 728894833, 2926173947, 1320936647, 3383250105, 65720013, 2671014330, 2847387027, 2969121075, 3329352935, 3770288520, 3964206281, 4168182361, 1707359060, 1408257001, 3450715693, 628449203, 610896409, 588905957, 1322830820, 3640462283, 4044750620, 2988164925, 4083824041, 1990129261, 4156233382, 3627401237, 3211010341, 1666616239, 2972480848, 844583042, 44704583, 3282062939, 2321904370, 13127913, 2065944849, 2364468384, 476631061, 3534359369, 1647310850, 266968272, 3454720710, 1795924682, 1820316222, 2507582687, 1496785810, 3992024104, 2288242718, 1335683996, 723170702, 1489652666, 3949068654, 320306710, 4039547071, 1817806802, 3128530084, 1963667656, 2299476734, 2214544820, 256065957, 976636793, 438871982, 3257022782, 3658046347, 1888125657, 3003359985, 3232519787, 2193873780, 2536958314, 612736659, 1757352080, 4126160663, 4208600692, 3357929051, 1349803408, 709797723, 2862193196, 2733865338, 1847917732, 2982838690, 756992610, 416120390, 1772328840, 3511192812, 3639215236, 581323757, 3429866854, 3299034763, 81263526, 2143662131, 3509206122, 1142149236, 2288638797, 2314182509, 3192068459, 2648103877, 31364268, 2871284653, 1933723073, 3554926164, 3163027549, 896467848, 3570120642, 4038118284, 392098617, 1167346532, 1785455384, 2033872205, 1693658308, 2059628508, 2889657430, 2071562487, 4113666792, 3822310955, 3533962258, 1371655696, 1403861461, 421464014, 3959461194, 4149058179, 1086465771, 1015946246, 2621382350, 2000582283, 2881047661, 1627167598, 3039242003, 870964291, 3355521124, 2260981, 1193867314, 1982094414, 3007508121, 2789947772, 167554690, 3028775942, 3246523627, 3674172133, 2758002636, 1559765501, 2027717592, 2915111825, 1190458685, 1058903556, 2432688681, 971451939, 1888620569, 975460118, 1624467345, 136309091, 3997234029, 598318846, 2989382797, 3608316101, 45266846, 1528146332, 1965658838, 3637786198, 2524595919, 4232358541, 1631453446, 1639144870, 4020252532, 3236917143, 1360250576, 2788984411, 3762745571, 3613352771, 3217621372, 301525683, 1343328237, 376601489, 1111565393, 3852204545, 425855701, 3603214514, 336697868, 803277263, 4248673218, 3324796209, 1656738380, 3899708684, 4031041788, 2708835100, 1110160947, 1298501877, 1740735328, 862669803, 3200748959, 1070336453, 1445010694, 780106578, 153499529, 1688823727, 3505867478, 2474839954, 4132413130, 3784848098, 2090083651, 4108657297, 1011350285, 1479116717, 988654479, 1105442054, 380740504, 3203487161, 2643610060, 3322988986, 3221217626, 3592249213, 2779884253, 2044186223, 3076165135, 3806351734, 3060357717, 2863011615, 1169058161, 1113969302, 1045981805, 311464233, 2236176646, 1435805243, 3509008257, 2512719556, 3206195232, 1171330831, 3022981576, 3076049986, 1677146765, 3823183119, 1331676465, 774674370, 2425031589, 3005427466, 3407759373, 3141051671, 3903949247, 3364298405, 1079187575, 3726093522, 2717490088, 3888044370, 1773096918, 123582274, 3938703114, 116639222, 1093335968, 4230241756, 592927768, 1215086274, 990026541, 2309421364, 1242303966, 996591525, 4178510717, 3476836050, 2178247059, 3556310446, 2628742925, 122665979, 1780590194, 2922761788, 1222392510, 631653315, 3959254022, 3653793144, 612798403, 3314303312, 3895051139, 1208878662, 484620038, 3626750088, 3921956316, 3904249617, 3353478870, 249377279, 1753034227, 3565445698, 2095500303, 2480455683, 1292245244, 946291267, 684375320, 104145271, 2913686448, 2225127489, 2472333904, 750174656, 4004286304, 4085497527, 3271252141, 1864494644, 4199917053, 1358886282, 358292498, 2284423264, 797448349, 2293886434, 2336156133, 2389862705, 1443734706, 1644943784, 4261302510, 3324227082, 2865938428, 3042091860, 454590046, 1243572319, 1931670576, 709576968, 1404809709, 434868187, 2115929572, 4209433267, 1742225740, 824328396, 2952650178, 3096666239, 2887532264, 4149344548, 2648994466, 1276043052, 2495228838, 3764729951, 730275817, 4277707459, 1591279516, 312613621, 1748807698, 397249599, 3326824925, 892425536, 1889212692, 1705415062, 2399075847, 2028569480, 2077597603, 559770995, 216133874, 813523529, 1663090043, 1327536309, 1126315189, 3535249660, 1641628170, 348337888, 3109355426, 4058285115, 859672864, 2699711497, 816683043, 2182992420, 1814760603, 3746802868, 3646961272, 3713358315, 492059394, 1300908413, 3272406897, 1809600926, 2628610618, 244337251, 1948103926, 991353850, 543539075, 1534159671, 1747272920, 4028644690, 2570417421, 2025455257, 1249379269, 2357813788, 266006694, 1706446538, 1938738160, 2482161797, 3559851357, 3073890391, 227514435, 152405858, 1227333167, 261909105, 3384151334, 1102033054, 197708743, 1157470553, 478563148, 440882900, 686627002, 357675544, 477440013, 1561143843, 2428402127, 3322010885, 3820876946, 3288851063, 2607677986, 222929805, 4257935406, 3469582068, 3578401122, 3245095917, 1435026106, 1525707182, 1550874090, 3218908085, 1476614429, 1169975610, 1160989991, 1383567367, 4084887544, 2096043608, 2194693540, 2), None)\n"
     ]
    }
   ],
   "source": [
    "print(random.getstate())"
   ]
  },
  {
   "cell_type": "code",
   "execution_count": 94,
   "id": "ac08ccc8",
   "metadata": {},
   "outputs": [
    {
     "name": "stdout",
     "output_type": "stream",
     "text": [
      "0.5780913011344704\n"
     ]
    }
   ],
   "source": [
    "state = random.getstate()\n",
    "random.setstate(state)\n",
    "print(random.random())"
   ]
  },
  {
   "cell_type": "code",
   "execution_count": 99,
   "id": "47d8dc25",
   "metadata": {},
   "outputs": [
    {
     "name": "stdout",
     "output_type": "stream",
     "text": [
      "0.20609823213950174\n"
     ]
    }
   ],
   "source": [
    "#print(random.getstate())\n",
    "state = random.getstate()\n",
    "random.setstate(state)\n",
    "print(random.random())"
   ]
  },
  {
   "cell_type": "code",
   "execution_count": 101,
   "id": "8aca564c",
   "metadata": {},
   "outputs": [],
   "source": [
    "import requests"
   ]
  },
  {
   "cell_type": "code",
   "execution_count": null,
   "id": "95704205",
   "metadata": {},
   "outputs": [],
   "source": []
  },
  {
   "cell_type": "code",
   "execution_count": 103,
   "id": "463233f4",
   "metadata": {},
   "outputs": [
    {
     "name": "stdout",
     "output_type": "stream",
     "text": [
      "4\n"
     ]
    }
   ],
   "source": [
    "a = open(\"demo.txt\",\"r\")\n",
    "print(a.fileno())"
   ]
  },
  {
   "cell_type": "code",
   "execution_count": 105,
   "id": "38f8e12f",
   "metadata": {},
   "outputs": [],
   "source": [
    "a.close()"
   ]
  },
  {
   "cell_type": "code",
   "execution_count": 107,
   "id": "9a8ef63c",
   "metadata": {},
   "outputs": [
    {
     "data": {
      "text/plain": [
       "23"
      ]
     },
     "execution_count": 107,
     "metadata": {},
     "output_type": "execute_result"
    }
   ],
   "source": [
    "a = open(\"demo.txt\", \"a\")\n",
    "a.write(\"hellllloooooo\")\n",
    "a.flush()\n",
    "a.write(\"yyyyyyyeeeeellllooowwww\")\n",
    "\n"
   ]
  },
  {
   "cell_type": "code",
   "execution_count": null,
   "id": "00a31e5c",
   "metadata": {},
   "outputs": [],
   "source": []
  },
  {
   "cell_type": "code",
   "execution_count": 108,
   "id": "f0ca4b29",
   "metadata": {},
   "outputs": [
    {
     "name": "stdout",
     "output_type": "stream",
     "text": [
      "this \n"
     ]
    }
   ],
   "source": [
    "f = open(\"demo.txt\", \"a\")\n",
    "f.truncate(5)\n",
    "f.close()\n",
    "\n",
    "#open and read the file after the truncate:\n",
    "f = open(\"demo.txt\", \"r\")\n",
    "print(f.read())"
   ]
  },
  {
   "cell_type": "code",
   "execution_count": null,
   "id": "a2bb0f6f",
   "metadata": {},
   "outputs": [],
   "source": []
  },
  {
   "cell_type": "code",
   "execution_count": 109,
   "id": "597ccbc9",
   "metadata": {},
   "outputs": [
    {
     "name": "stdout",
     "output_type": "stream",
     "text": [
      "my first python program for file handling......my 2nd python program for file handling.....my 2nd python program for file handling.....my 2nd python program for file handling.....See you soon!Over and out.\n"
     ]
    }
   ],
   "source": [
    "f = open(\"demo2.txt\", \"a\")\n",
    "f.writelines([\"See you soon!\", \"Over and out.\"])\n",
    "f.close()\n",
    "\n",
    "#open and read the file after the appending:\n",
    "f = open(\"demo2.txt\", \"r\")\n",
    "print(f.read())"
   ]
  },
  {
   "cell_type": "code",
   "execution_count": null,
   "id": "90477fc0",
   "metadata": {},
   "outputs": [],
   "source": []
  },
  {
   "cell_type": "code",
   "execution_count": 110,
   "id": "1fa33716",
   "metadata": {},
   "outputs": [],
   "source": [
    "import numpy as np"
   ]
  },
  {
   "cell_type": "code",
   "execution_count": 112,
   "id": "e6e766b3",
   "metadata": {},
   "outputs": [
    {
     "name": "stdout",
     "output_type": "stream",
     "text": [
      "47.0\n"
     ]
    }
   ],
   "source": [
    "#mean\n",
    "\n",
    "\n",
    "data = [25,12,63,36,25,52,14,41,85,89,98,47,74,13,31]\n",
    "\n",
    "print(np.mean(data))# average value find"
   ]
  },
  {
   "cell_type": "code",
   "execution_count": null,
   "id": "869bcc34",
   "metadata": {},
   "outputs": [],
   "source": []
  },
  {
   "cell_type": "code",
   "execution_count": 113,
   "id": "60d3789c",
   "metadata": {},
   "outputs": [
    {
     "name": "stdout",
     "output_type": "stream",
     "text": [
      "41.0\n"
     ]
    }
   ],
   "source": [
    "#median\n",
    "\n",
    "data = [25,12,63,36,25,52,14,41,85,89,98,47,74,13,31]\n",
    "\n",
    "print(np.median(data))# middle value find"
   ]
  },
  {
   "cell_type": "code",
   "execution_count": 117,
   "id": "1537f36e",
   "metadata": {},
   "outputs": [],
   "source": [
    "from scipy import stats\n"
   ]
  },
  {
   "cell_type": "code",
   "execution_count": 119,
   "id": "550c292e",
   "metadata": {},
   "outputs": [
    {
     "name": "stdout",
     "output_type": "stream",
     "text": [
      "ModeResult(mode=array([25]), count=array([2]))\n"
     ]
    }
   ],
   "source": [
    "# mode\n",
    "\n",
    "data = [25,12,63,36,25,52,14,41,85,89,98,47,74,13,31]\n",
    "\n",
    "print(stats.mode(data)) # multipal data find onr or more same data find"
   ]
  },
  {
   "cell_type": "code",
   "execution_count": null,
   "id": "74927282",
   "metadata": {},
   "outputs": [],
   "source": []
  },
  {
   "cell_type": "code",
   "execution_count": 120,
   "id": "13266ea7",
   "metadata": {},
   "outputs": [
    {
     "name": "stdout",
     "output_type": "stream",
     "text": [
      "27.892651361962706\n"
     ]
    }
   ],
   "source": [
    "# standard deviation\n",
    "\n",
    "data = [25,12,63,36,25,52,14,41,85,89,98,47,74,13,31]\n",
    "\n",
    "print(np.std(data))\n",
    "\n"
   ]
  },
  {
   "cell_type": "code",
   "execution_count": 121,
   "id": "b9e5b476",
   "metadata": {},
   "outputs": [
    {
     "name": "stdout",
     "output_type": "stream",
     "text": [
      "778.0\n"
     ]
    }
   ],
   "source": [
    "#varianve\n",
    "\n",
    "'''1.mean find\n",
    "    2.find the differance of mean i.e (data-mean)\n",
    "    3.find the square value \n",
    "    4.total sum of 4 step'''\n",
    "\n",
    "data = [25,12,63,36,25,52,14,41,85,89,98,47,74,13,31]\n",
    "\n",
    "print(np.var(data))\n",
    "\n",
    "\n"
   ]
  },
  {
   "cell_type": "code",
   "execution_count": null,
   "id": "08b5096e",
   "metadata": {},
   "outputs": [],
   "source": []
  }
 ],
 "metadata": {
  "kernelspec": {
   "display_name": "Python 3 (ipykernel)",
   "language": "python",
   "name": "python3"
  },
  "language_info": {
   "codemirror_mode": {
    "name": "ipython",
    "version": 3
   },
   "file_extension": ".py",
   "mimetype": "text/x-python",
   "name": "python",
   "nbconvert_exporter": "python",
   "pygments_lexer": "ipython3",
   "version": "3.9.12"
  }
 },
 "nbformat": 4,
 "nbformat_minor": 5
}
