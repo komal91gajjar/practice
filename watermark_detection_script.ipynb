{
 "cells": [
  {
   "cell_type": "code",
   "execution_count": 9,
   "metadata": {},
   "outputs": [
    {
     "name": "stdout",
     "output_type": "stream",
     "text": [
      "Text file 'Right_corner_txt/frame_0140_77.txt' created.\n",
      "Text file 'Right_corner_txt/frame_0151_1.txt' created.\n",
      "Text file 'Right_corner_txt/frame_0152_1.txt' created.\n",
      "Text file 'Right_corner_txt/frame_0154_1.txt' created.\n",
      "Text file 'Right_corner_txt/frame_0155_1.txt' created.\n",
      "Text file 'Right_corner_txt/frame_0156_1.txt' created.\n",
      "Text file 'Right_corner_txt/frame_0158_1.txt' created.\n",
      "Text file 'Right_corner_txt/frame_0160_36.txt' created.\n",
      "Text file 'Right_corner_txt/frame_0160_48.txt' created.\n",
      "Text file 'Right_corner_txt/frame_0161_1.txt' created.\n",
      "Text file 'Right_corner_txt/frame_0162_1.txt' created.\n",
      "Text file 'Right_corner_txt/frame_0164_1.txt' created.\n",
      "Text file 'Right_corner_txt/frame_0166_1.txt' created.\n",
      "Text file 'Right_corner_txt/frame_0180_1.txt' created.\n",
      "Text file 'Right_corner_txt/frame_0180_37.txt' created.\n",
      "Text file 'Right_corner_txt/frame_0200_32.txt' created.\n",
      "Text file 'Right_corner_txt/frame_0220_20.txt' created.\n",
      "Text file 'Right_corner_txt/frame_0220_39.txt' created.\n",
      "Text file 'Right_corner_txt/frame_0240_1.txt' created.\n",
      "Text file 'Right_corner_txt/frame_0240_20.txt' created.\n",
      "Text file 'Right_corner_txt/frame_0240_26.txt' created.\n",
      "Text file 'Right_corner_txt/frame_0240_55.txt' created.\n",
      "Text file 'Right_corner_txt/frame_0240_8.txt' created.\n",
      "Text file 'Right_corner_txt/frame_0260_1.txt' created.\n",
      "Text file 'Right_corner_txt/frame_0260_19.txt' created.\n",
      "Text file 'Right_corner_txt/frame_0260_35.txt' created.\n",
      "Text file 'Right_corner_txt/frame_0280_16.txt' created.\n",
      "Text file 'Right_corner_txt/frame_0280_43.txt' created.\n",
      "Text file 'Right_corner_txt/frame_0320_15.txt' created.\n",
      "Text file 'Right_corner_txt/frame_0340_14.txt' created.\n",
      "Text file 'Right_corner_txt/frame_0340_22.txt' created.\n",
      "Text file 'Right_corner_txt/frame_0340_25.txt' created.\n",
      "Text file 'Right_corner_txt/frame_0340_32.txt' created.\n",
      "Text file 'Right_corner_txt/frame_0360_28.txt' created.\n",
      "Text file 'Right_corner_txt/frame_0360_5.txt' created.\n",
      "Text file 'Right_corner_txt/frame_0380_17.txt' created.\n",
      "Text file 'Right_corner_txt/frame_0380_29.txt' created.\n",
      "Text file 'Right_corner_txt/frame_0400_16.txt' created.\n",
      "Text file 'Right_corner_txt/frame_0400_18.txt' created.\n",
      "Text file 'Right_corner_txt/frame_0400_9.txt' created.\n",
      "Text file 'Right_corner_txt/frame_0440_8.txt' created.\n",
      "Text file 'Right_corner_txt/frame_0460_22.txt' created.\n",
      "Text file 'Right_corner_txt/frame_0500_11.txt' created.\n",
      "Text file 'Right_corner_txt/frame_0500_19.txt' created.\n",
      "Text file 'Right_corner_txt/frame_0520_11.txt' created.\n",
      "Text file 'Right_corner_txt/frame_0520_19.txt' created.\n",
      "Text file 'Right_corner_txt/frame_0520_22.txt' created.\n",
      "Text file 'Right_corner_txt/frame_0580_10.txt' created.\n",
      "Text file 'Right_corner_txt/frame_0600_17.txt' created.\n",
      "Text file 'Right_corner_txt/frame_0640_10.txt' created.\n",
      "Text file 'Right_corner_txt/frame_0660_9.txt' created.\n",
      "Text file 'Right_corner_txt/frame_0740_9.txt' created.\n",
      "Text file 'Right_corner_txt/frame_0760_9.txt' created.\n"
     ]
    }
   ],
   "source": [
    "from PIL import Image\n",
    "import os\n",
    "def create_text_files(folder_path,dest_path):\n",
    "    img_info=\"0 0.701641 0.916763 0.063336 0.039747\"\n",
    "    # Ensure the folder path ends with a slash\n",
    "    if not folder_path.endswith('/'):\n",
    "        folder_path += '/'\n",
    "    # Get a list of all files in the folder\n",
    "    files = os.listdir(folder_path)\n",
    "    # Iterate through each file in the folder\n",
    "    for file in files:\n",
    "        # Check if the file is an image (you can customize the extensions)\n",
    "        if file.lower().endswith(('.png', '.jpg', '.jpeg')):\n",
    "            # Create a text file with the same name as the image\n",
    "            text_file_path = dest_path +'/'+ os.path.splitext(file)[0] + '.txt'\n",
    "            # Write image information to the text file\n",
    "            with open(text_file_path, 'w') as text_file:\n",
    "                text_file.write(img_info)\n",
    "            print(f\"Text file '{text_file_path}' created.\")\n",
    "if __name__ == \"__main__\":\n",
    "    # Replace 'your_folder_path' with the actual path to your image folder\n",
    "    folder_path = 'Right_corner'\n",
    "    dest_path = \"Right_corner_txt\"\n",
    "    # Call the function to create text files\n",
    "    create_text_files(folder_path,dest_path)"
   ]
  }
 ],
 "metadata": {
  "kernelspec": {
   "display_name": "Python 3",
   "language": "python",
   "name": "python3"
  },
  "language_info": {
   "codemirror_mode": {
    "name": "ipython",
    "version": 3
   },
   "file_extension": ".py",
   "mimetype": "text/x-python",
   "name": "python",
   "nbconvert_exporter": "python",
   "pygments_lexer": "ipython3",
   "version": "3.11.3"
  }
 },
 "nbformat": 4,
 "nbformat_minor": 2
}
