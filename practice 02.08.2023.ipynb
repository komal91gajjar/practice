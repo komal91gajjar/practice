{
 "cells": [
  {
   "cell_type": "code",
   "execution_count": 1,
   "id": "cc9c1797",
   "metadata": {},
   "outputs": [
    {
     "name": "stdout",
     "output_type": "stream",
     "text": [
      "grater than 2\n"
     ]
    }
   ],
   "source": [
    "if 5<2:\n",
    "    print(\"grater than 5\")\n",
    "else:\n",
    "    print(\"grater than 2\")"
   ]
  },
  {
   "cell_type": "code",
   "execution_count": 16,
   "id": "c6771555",
   "metadata": {},
   "outputs": [
    {
     "name": "stdout",
     "output_type": "stream",
     "text": [
      "very popular python python  python python language is \n"
     ]
    }
   ],
   "source": [
    "#global variable\n",
    "\n",
    "x = \"python\"\n",
    "def my_func():\n",
    "    print(f\"very popular {x} {x}  {x} {x} language is \")\n",
    "my_func()"
   ]
  },
  {
   "cell_type": "code",
   "execution_count": 17,
   "id": "e0544076",
   "metadata": {},
   "outputs": [
    {
     "name": "stdout",
     "output_type": "stream",
     "text": [
      "my bucket in apple and banana are allocate\n"
     ]
    }
   ],
   "source": [
    "a = \"apple\"\n",
    "b = \"banana\"\n",
    "print (f\"my bucket in {a} and {b} are allocate\")"
   ]
  },
  {
   "cell_type": "code",
   "execution_count": 25,
   "id": "c7825041",
   "metadata": {},
   "outputs": [
    {
     "name": "stdout",
     "output_type": "stream",
     "text": [
      " August,02,2023\n"
     ]
    }
   ],
   "source": [
    "import datetime\n",
    "\n",
    "today = datetime.datetime.today()\n",
    "print(f\"{today : %B,%d,%Y}\")"
   ]
  },
  {
   "cell_type": "code",
   "execution_count": 26,
   "id": "6f711da2",
   "metadata": {},
   "outputs": [
    {
     "name": "stdout",
     "output_type": "stream",
     "text": [
      "August 02, 2023\n"
     ]
    }
   ],
   "source": [
    "import datetime\n",
    " \n",
    "today = datetime.datetime.today()\n",
    "print(f\"{today:%B %d, %Y}\")"
   ]
  },
  {
   "cell_type": "code",
   "execution_count": 33,
   "id": "d9645886",
   "metadata": {},
   "outputs": [
    {
     "name": "stdout",
     "output_type": "stream",
     "text": [
      "my name is komal and i m 30 year old. \n"
     ]
    }
   ],
   "source": [
    "name = \"komal\"\n",
    "age = 30\n",
    "\n",
    "def self():\n",
    "    print(f\"my name is {name} and i m {age} year old. \")\n",
    "self()"
   ]
  },
  {
   "cell_type": "code",
   "execution_count": 37,
   "id": "6d5e72f1",
   "metadata": {},
   "outputs": [
    {
     "name": "stdout",
     "output_type": "stream",
     "text": [
      "maruti\n",
      "hyundai\n",
      "skoda\n"
     ]
    }
   ],
   "source": [
    "# unpack list\n",
    "\n",
    "car = [\"maruti\",\"hyundai\",\"skoda\"]\n",
    "a,b,c = car\n",
    "#a=b=c= car\n",
    "print(a)\n",
    "print(b)\n",
    "print(c)"
   ]
  },
  {
   "cell_type": "code",
   "execution_count": 43,
   "id": "1c374c11",
   "metadata": {},
   "outputs": [
    {
     "name": "stdout",
     "output_type": "stream",
     "text": [
      "python is awesome fantastic lunguage\n"
     ]
    }
   ],
   "source": [
    "x = \"awesome\"\n",
    "y= \"fantastic\"\n",
    "def Name():\n",
    "    print(f\"python is {x} {y} lunguage\")\n",
    "Name()"
   ]
  },
  {
   "cell_type": "code",
   "execution_count": 45,
   "id": "fc8bf0b0",
   "metadata": {},
   "outputs": [
    {
     "name": "stdout",
     "output_type": "stream",
     "text": [
      "python is awesome and fantastic lunguage\n"
     ]
    }
   ],
   "source": [
    "global x\n",
    "x = \"awesome\"\n",
    "\n",
    "global y\n",
    "y= \"fantastic\"\n",
    "\n",
    "def Name():\n",
    "    print(f\"python is {x} and {y} lunguage\")\n",
    "    \n",
    "Name()"
   ]
  },
  {
   "cell_type": "code",
   "execution_count": 55,
   "id": "28bc4a3e",
   "metadata": {},
   "outputs": [
    {
     "name": "stdout",
     "output_type": "stream",
     "text": [
      "<class 'int'>\n",
      "<class 'float'>\n",
      "<class 'str'>\n",
      "<class 'list'>\n",
      "<class 'tuple'>\n",
      "<class 'dict'>\n",
      "<class 'set'>\n",
      "<class 'bool'>\n",
      "<class 'bytes'>\n"
     ]
    }
   ],
   "source": [
    "# data type define\n",
    "\n",
    "#1 int\n",
    "x=50\n",
    "print(type(x))\n",
    "\n",
    "# 2 float\n",
    "x= 5.5\n",
    "print(type(x))\n",
    "\n",
    "# 3 string\n",
    "x = \"apple\"\n",
    "print(type(x))\n",
    "\n",
    "#4 list\n",
    "x = [\"apple\",\"banana\",\"orange\"]\n",
    "print(type(x))\n",
    "\n",
    "#5 tuple\n",
    "x = (\"apple\",\"mango\",\"banana\")\n",
    "print(type(x))\n",
    "\n",
    "#6 dictionary\n",
    "x = {\"car\" : \"maruti\", \"prize\" : 700000}\n",
    "print(type(x))\n",
    "\n",
    "#7 set\n",
    "x = {\"apple\",\"banana\",\"orange\"}\n",
    "print(type(x))\n",
    "\n",
    "#8 bool\n",
    "x= False\n",
    "print(type(x))\n",
    "\n",
    "#9 byte\n",
    "x = b\"hello\"\n",
    "print(type(x))\n"
   ]
  },
  {
   "cell_type": "code",
   "execution_count": 61,
   "id": "e05538ae",
   "metadata": {},
   "outputs": [
    {
     "name": "stdout",
     "output_type": "stream",
     "text": [
      "5.0\n",
      "250.0\n",
      "2\n",
      "5\n",
      "hello\n",
      "50\n"
     ]
    }
   ],
   "source": [
    "# type casting\n",
    "\n",
    "#int to float\n",
    "\n",
    "x = 5\n",
    "print(float(x))\n",
    "x = 250\n",
    "print(float(x))\n",
    "\n",
    "#float to int\n",
    "\n",
    "x = 2.5\n",
    "print(int(x))\n",
    "x = 5.123\n",
    "print(int(x))\n",
    "\n",
    "#string\n",
    "x = \"hello\"\n",
    "print(str(x))\n",
    "x = 50\n",
    "print(str(x))"
   ]
  },
  {
   "cell_type": "code",
   "execution_count": 65,
   "id": "1af18a61",
   "metadata": {},
   "outputs": [
    {
     "name": "stdout",
     "output_type": "stream",
     "text": [
      "11\n",
      "16\n"
     ]
    }
   ],
   "source": [
    "# string lengh\n",
    "\n",
    "x = \"hello world\"# total number of words in string\n",
    "print(len(x))\n",
    "\n",
    "x = \"my name is komal\"\n",
    "print(len(x))\n"
   ]
  },
  {
   "cell_type": "code",
   "execution_count": 71,
   "id": "86757f6e",
   "metadata": {},
   "outputs": [
    {
     "name": "stdout",
     "output_type": "stream",
     "text": [
      "True\n",
      "False\n",
      "given string is correct\n",
      "given string is not correct\n"
     ]
    }
   ],
   "source": [
    "#check string\n",
    "\n",
    "x = \"today is my first day in office\"\n",
    "print(\"first\" in x)\n",
    "x = \"this is the last chance\"\n",
    "print(\"today\" in x)\n",
    "\n",
    "#use if statement\n",
    "\n",
    "x = \"today is my first day in office\"\n",
    "if \"first\" in x:\n",
    "    print(\"given string is correct\")\n",
    "else:\n",
    "    print(\"given string is not correct\")\n",
    "    \n",
    "x = \"today is my first day in office\"\n",
    "if \"this\" in x:\n",
    "    print(\"given string is correct\")\n",
    "else:\n",
    "    print(\"given string is not correct\")\n"
   ]
  },
  {
   "cell_type": "code",
   "execution_count": 79,
   "id": "0816acb2",
   "metadata": {},
   "outputs": [
    {
     "name": "stdout",
     "output_type": "stream",
     "text": [
      "his \n",
      "this is l\n",
      "is last day\n"
     ]
    }
   ],
   "source": [
    "#string slicing\n",
    "\n",
    "x = \"this is last day\"\n",
    "print(x[1:5])\n",
    "\n",
    "x = \"this is last day\"\n",
    "print(x[:9])\n",
    "\n",
    "x = \"this is last day\"\n",
    "print(x[5:])\n"
   ]
  },
  {
   "cell_type": "code",
   "execution_count": 85,
   "id": "053870e7",
   "metadata": {},
   "outputs": [
    {
     "name": "stdout",
     "output_type": "stream",
     "text": [
      "my car name is motor cycle and car prize 700000 and model no mm2053 is provided by company\n",
      "this is my adress vadodara and my name is pooja and my study is b.com this is my time 2.42 to display\n"
     ]
    }
   ],
   "source": [
    "#format string\n",
    "\n",
    "car = \"motor cycle\"\n",
    "prize = 700000\n",
    "model = \"mm2053\"\n",
    "\n",
    "CarDetails = (\"my car name is {} and car prize {} and model no {} is provided by company\")\n",
    "print(CarDetails.format(car,prize,model))\n",
    "\n",
    "\n",
    "name = \"pooja\"\n",
    "study = \"b.com\"\n",
    "address = \"vadodara\"\n",
    "datetime = 2.42\n",
    "\n",
    "SelfDetails = (\"this is my adress {2} and my name is {0} and my study is {1} this is my time {3} to display\")\n",
    "print(SelfDetails.format(name,study,address,datetime))\n"
   ]
  },
  {
   "cell_type": "code",
   "execution_count": 95,
   "id": "0e7b27ab",
   "metadata": {},
   "outputs": [
    {
     "data": {
      "text/plain": [
       "'My name is komal'"
      ]
     },
     "execution_count": 95,
     "metadata": {},
     "output_type": "execute_result"
    }
   ],
   "source": [
    "#string method\n",
    "\n",
    "#capitalize\n",
    "\n",
    "x = \"apple\"\n",
    "a = \"my name is komal\"\n",
    "x.capitalize()\n",
    "a.capitalize()"
   ]
  },
  {
   "cell_type": "code",
   "execution_count": 94,
   "id": "049a76cc",
   "metadata": {},
   "outputs": [
    {
     "data": {
      "text/plain": [
       "'my name is pooja'"
      ]
     },
     "execution_count": 94,
     "metadata": {},
     "output_type": "execute_result"
    }
   ],
   "source": [
    "#casefold\n",
    "\n",
    "x = \"MY NAME IS POOJA\"\n",
    "x.casefold()"
   ]
  },
  {
   "cell_type": "code",
   "execution_count": 98,
   "id": "1670510a",
   "metadata": {},
   "outputs": [
    {
     "data": {
      "text/plain": [
       "'       my name is komal       '"
      ]
     },
     "execution_count": 98,
     "metadata": {},
     "output_type": "execute_result"
    }
   ],
   "source": [
    "#center\n",
    "\n",
    "x = \"my name is komal\"\n",
    "x.center(30)"
   ]
  },
  {
   "cell_type": "code",
   "execution_count": 99,
   "id": "91421d3c",
   "metadata": {},
   "outputs": [
    {
     "data": {
      "text/plain": [
       "2"
      ]
     },
     "execution_count": 99,
     "metadata": {},
     "output_type": "execute_result"
    }
   ],
   "source": [
    "#count\n",
    "\n",
    "x = \"my name is komal komal komal is name\"\n",
    "x.count(\"is\")\n"
   ]
  },
  {
   "cell_type": "code",
   "execution_count": 101,
   "id": "0ced5216",
   "metadata": {},
   "outputs": [
    {
     "name": "stdout",
     "output_type": "stream",
     "text": [
      "False\n"
     ]
    }
   ],
   "source": [
    "#endswith\n",
    "x = \"my name is komal.\"\n",
    "a = x.endswith(\"l\")\n",
    "print(a)\n"
   ]
  },
  {
   "cell_type": "code",
   "execution_count": 102,
   "id": "f7cdce17",
   "metadata": {},
   "outputs": [
    {
     "name": "stdout",
     "output_type": "stream",
     "text": [
      "True\n"
     ]
    }
   ],
   "source": [
    "x = \"my name is komal\"\n",
    "a = x.endswith(\"l\")\n",
    "print(a)"
   ]
  },
  {
   "cell_type": "code",
   "execution_count": 107,
   "id": "4c5df119",
   "metadata": {},
   "outputs": [
    {
     "name": "stdout",
     "output_type": "stream",
     "text": [
      "my   name is   komal\n"
     ]
    }
   ],
   "source": [
    "#expandtab\n",
    "\n",
    "x = \"my\\tname\\tis\\tkomal\"\n",
    "a = x.expandtabs(5)\n",
    "print(a)"
   ]
  },
  {
   "cell_type": "code",
   "execution_count": 109,
   "id": "0ab82ebf",
   "metadata": {},
   "outputs": [
    {
     "name": "stdout",
     "output_type": "stream",
     "text": [
      "11\n"
     ]
    }
   ],
   "source": [
    "#find\n",
    "\n",
    "x = \"my name is komal\"\n",
    "a= x.find(\"komal\")\n",
    "print(a)"
   ]
  },
  {
   "cell_type": "code",
   "execution_count": 112,
   "id": "9036846e",
   "metadata": {},
   "outputs": [
    {
     "name": "stdout",
     "output_type": "stream",
     "text": [
      "this is system not working\n"
     ]
    }
   ],
   "source": [
    "#format\n",
    "\n",
    "a = \"system\"\n",
    "x = \"this is {} not working\"\n",
    "print(x.format(a))"
   ]
  },
  {
   "cell_type": "code",
   "execution_count": 113,
   "id": "21173981",
   "metadata": {},
   "outputs": [
    {
     "data": {
      "text/plain": [
       "True"
      ]
     },
     "execution_count": 113,
     "metadata": {},
     "output_type": "execute_result"
    }
   ],
   "source": [
    "#isalnum\n",
    "\n",
    "x = \"code123\"\n",
    "x.isalnum()"
   ]
  },
  {
   "cell_type": "code",
   "execution_count": 115,
   "id": "85154d93",
   "metadata": {},
   "outputs": [
    {
     "data": {
      "text/plain": [
       "False"
      ]
     },
     "execution_count": 115,
     "metadata": {},
     "output_type": "execute_result"
    }
   ],
   "source": [
    "x = \"practice 125\"\n",
    "x.isalnum()"
   ]
  },
  {
   "cell_type": "code",
   "execution_count": 116,
   "id": "5f39d356",
   "metadata": {},
   "outputs": [
    {
     "data": {
      "text/plain": [
       "True"
      ]
     },
     "execution_count": 116,
     "metadata": {},
     "output_type": "execute_result"
    }
   ],
   "source": [
    "#isalpha\n",
    "\n",
    "x = \"code\"\n",
    "x.isalpha()"
   ]
  },
  {
   "cell_type": "code",
   "execution_count": 117,
   "id": "18589270",
   "metadata": {},
   "outputs": [
    {
     "data": {
      "text/plain": [
       "False"
      ]
     },
     "execution_count": 117,
     "metadata": {},
     "output_type": "execute_result"
    }
   ],
   "source": [
    "x = \"code 123\"\n",
    "x.isalpha()"
   ]
  },
  {
   "cell_type": "code",
   "execution_count": 118,
   "id": "7c769e3f",
   "metadata": {},
   "outputs": [
    {
     "data": {
      "text/plain": [
       "True"
      ]
     },
     "execution_count": 118,
     "metadata": {},
     "output_type": "execute_result"
    }
   ],
   "source": [
    "#islower\n",
    "\n",
    "x = \"apple\"\n",
    "x.islower()"
   ]
  },
  {
   "cell_type": "code",
   "execution_count": 119,
   "id": "5fea0a81",
   "metadata": {},
   "outputs": [
    {
     "data": {
      "text/plain": [
       "False"
      ]
     },
     "execution_count": 119,
     "metadata": {},
     "output_type": "execute_result"
    }
   ],
   "source": [
    "x = \"Apple\"\n",
    "x.islower()"
   ]
  },
  {
   "cell_type": "code",
   "execution_count": 125,
   "id": "f12c0702",
   "metadata": {},
   "outputs": [
    {
     "name": "stdout",
     "output_type": "stream",
     "text": [
      "apple*color\n"
     ]
    }
   ],
   "source": [
    "#join\n",
    "\n",
    "x = (\"apple\",\"color\")\n",
    "a = \"*\". join(x)\n",
    "print(a)"
   ]
  },
  {
   "cell_type": "code",
   "execution_count": 126,
   "id": "7db148c4",
   "metadata": {},
   "outputs": [
    {
     "name": "stdout",
     "output_type": "stream",
     "text": [
      "todky is lkst dky.\n"
     ]
    }
   ],
   "source": [
    "#maketrans\n",
    "\n",
    "x = \"today is last day.\"\n",
    "a = str.maketrans(\"a\",\"k\")\n",
    "print(x.translate(a))"
   ]
  },
  {
   "cell_type": "code",
   "execution_count": 127,
   "id": "6d44b25a",
   "metadata": {},
   "outputs": [
    {
     "name": "stdout",
     "output_type": "stream",
     "text": [
      "00hello\n",
      "00000hello\n"
     ]
    }
   ],
   "source": [
    "#zfill\n",
    "\n",
    "a = \"hello\"\n",
    "b = \"appleeee\"\n",
    "\n",
    "print(a.zfill(7))\n",
    "print(a.zfill(10))"
   ]
  },
  {
   "cell_type": "code",
   "execution_count": 131,
   "id": "d1262c8b",
   "metadata": {},
   "outputs": [
    {
     "name": "stdout",
     "output_type": "stream",
     "text": [
      "True\n"
     ]
    }
   ],
   "source": [
    "class my_class():\n",
    "    def my_func(self):\n",
    "        return 0\n",
    "x = my_class()\n",
    "print(bool(x))\n"
   ]
  },
  {
   "cell_type": "code",
   "execution_count": 129,
   "id": "a9658a0f",
   "metadata": {},
   "outputs": [
    {
     "name": "stdout",
     "output_type": "stream",
     "text": [
      "False\n"
     ]
    }
   ],
   "source": [
    "class myclass():\n",
    "  def __len__(self):\n",
    "    return 0\n",
    "\n",
    "myobj = myclass()\n",
    "print(bool(myobj))\n"
   ]
  },
  {
   "cell_type": "code",
   "execution_count": 133,
   "id": "438d047f",
   "metadata": {},
   "outputs": [
    {
     "name": "stdout",
     "output_type": "stream",
     "text": [
      "True\n"
     ]
    }
   ],
   "source": [
    "class fruits():\n",
    "    def Fruit():\n",
    "        return 1\n",
    "a = fruits()\n",
    "print(bool(a))"
   ]
  },
  {
   "cell_type": "code",
   "execution_count": 134,
   "id": "2fb2101f",
   "metadata": {},
   "outputs": [
    {
     "name": "stdout",
     "output_type": "stream",
     "text": [
      "no\n"
     ]
    }
   ],
   "source": [
    "def my_func():\n",
    "    return False\n",
    "if my_func():\n",
    "    print(\"yes\")\n",
    "else:\n",
    "    print(\"no\")\n"
   ]
  },
  {
   "cell_type": "code",
   "execution_count": 135,
   "id": "f481a8c5",
   "metadata": {},
   "outputs": [
    {
     "name": "stdout",
     "output_type": "stream",
     "text": [
      "yes\n"
     ]
    }
   ],
   "source": [
    "def my_func():\n",
    "    return True\n",
    "if my_func():\n",
    "    print(\"yes\")\n",
    "else:\n",
    "    print(\"no\")"
   ]
  },
  {
   "cell_type": "code",
   "execution_count": 138,
   "id": "ba6c16f7",
   "metadata": {},
   "outputs": [
    {
     "name": "stdout",
     "output_type": "stream",
     "text": [
      "True\n"
     ]
    }
   ],
   "source": [
    "#logical operator\n",
    "\n",
    "#and operator\n",
    "a = 7\n",
    "print(a > 6 and a < 10)\n"
   ]
  },
  {
   "cell_type": "code",
   "execution_count": 139,
   "id": "fa6c900e",
   "metadata": {},
   "outputs": [
    {
     "name": "stdout",
     "output_type": "stream",
     "text": [
      "False\n"
     ]
    }
   ],
   "source": [
    "a = 5\n",
    "print(a < 6 and a > 10)"
   ]
  },
  {
   "cell_type": "code",
   "execution_count": 140,
   "id": "7e11c722",
   "metadata": {},
   "outputs": [
    {
     "name": "stdout",
     "output_type": "stream",
     "text": [
      "True\n"
     ]
    }
   ],
   "source": [
    "#or operator\n",
    "\n",
    "a = 5\n",
    "print(a <6 or a > 10)"
   ]
  },
  {
   "cell_type": "code",
   "execution_count": 143,
   "id": "524f850f",
   "metadata": {},
   "outputs": [
    {
     "name": "stdout",
     "output_type": "stream",
     "text": [
      "True\n"
     ]
    }
   ],
   "source": [
    "a = 8\n",
    "print(a > 2 or a < 10)"
   ]
  },
  {
   "cell_type": "code",
   "execution_count": 145,
   "id": "cd710f02",
   "metadata": {},
   "outputs": [
    {
     "name": "stdout",
     "output_type": "stream",
     "text": [
      "True\n"
     ]
    }
   ],
   "source": [
    "# not operator\n",
    "\n",
    "a = 5\n",
    "print(not(a < 2 and a > 10))"
   ]
  },
  {
   "cell_type": "code",
   "execution_count": null,
   "id": "99d51834",
   "metadata": {},
   "outputs": [],
   "source": [
    "#identity oprrator\n",
    "\n"
   ]
  },
  {
   "cell_type": "code",
   "execution_count": 150,
   "id": "ab6d0aee",
   "metadata": {},
   "outputs": [
    {
     "name": "stdout",
     "output_type": "stream",
     "text": [
      "4\n"
     ]
    }
   ],
   "source": [
    "def main():\n",
    "    arg = 4\n",
    "    print(arg)\n",
    "main()"
   ]
  },
  {
   "cell_type": "code",
   "execution_count": 151,
   "id": "88979eef",
   "metadata": {},
   "outputs": [
    {
     "name": "stdout",
     "output_type": "stream",
     "text": [
      "Initial address of n: 2634373442832\n",
      "Initial address of x: 2634373442832\n",
      "  Final address of x: 2634372808048\n",
      "  Final address of n: 2634373442832\n"
     ]
    }
   ],
   "source": [
    "def main():\n",
    "    n = 9001\n",
    "    print(f\"Initial address of n: {id(n)}\")\n",
    "    increment(n)\n",
    "    print(f\"  Final address of n: {id(n)}\")\n",
    "\n",
    "def increment(x):\n",
    "    print(f\"Initial address of x: {id(x)}\")\n",
    "    x += 1\n",
    "    print(f\"  Final address of x: {id(x)}\")\n",
    "\n",
    "main()\n"
   ]
  },
  {
   "cell_type": "code",
   "execution_count": 152,
   "id": "caeb280e",
   "metadata": {},
   "outputs": [
    {
     "name": "stdout",
     "output_type": "stream",
     "text": [
      "['A', 'B', 'C']\n",
      "['E', 'D']\n"
     ]
    }
   ],
   "source": [
    "def set_list(list):\n",
    "\tlist = [\"A\", \"B\", \"C\"]\n",
    "\treturn list\n",
    "\n",
    "def add(list):\n",
    "\tlist.append(\"D\")\n",
    "\treturn list\n",
    "\n",
    "my_list = [\"E\"]\n",
    "\n",
    "print(set_list(my_list))\n",
    "\n",
    "print(add(my_list))\n"
   ]
  },
  {
   "cell_type": "code",
   "execution_count": 159,
   "id": "10f07570",
   "metadata": {},
   "outputs": [
    {
     "name": "stdout",
     "output_type": "stream",
     "text": [
      "['apple', 'banana', 'orange']\n",
      "['sugar', 'cherry']\n"
     ]
    }
   ],
   "source": [
    "def mylist(list):\n",
    "    list=[\"apple\",\"banana\",\"orange\"]\n",
    "    return list\n",
    "\n",
    "def add(list):\n",
    "    list.append(\"cherry\")\n",
    "    return list\n",
    "\n",
    "new_list = [\"sugar\"]\n",
    "\n",
    "print(mylist(new_list))\n",
    "\n",
    "print(add(new_list))"
   ]
  },
  {
   "cell_type": "code",
   "execution_count": 162,
   "id": "b62caa4c",
   "metadata": {},
   "outputs": [
    {
     "name": "stdout",
     "output_type": "stream",
     "text": [
      "7\n"
     ]
    }
   ],
   "source": [
    "#list \n",
    "\n",
    "my_list = [\"sun\",\"moon\",\"star\",\"sun\",\"star\",\"moon\",\"moon\"]#in list duplicate allow\n",
    "print(len(my_list))"
   ]
  },
  {
   "cell_type": "code",
   "execution_count": 163,
   "id": "ed5e420b",
   "metadata": {},
   "outputs": [
    {
     "name": "stdout",
     "output_type": "stream",
     "text": [
      "<class 'list'>\n"
     ]
    }
   ],
   "source": [
    "print(type(my_list))"
   ]
  },
  {
   "cell_type": "code",
   "execution_count": 165,
   "id": "fdc4bdd8",
   "metadata": {},
   "outputs": [
    {
     "name": "stdout",
     "output_type": "stream",
     "text": [
      "['sun', 'moon']\n",
      "<class 'list'>\n"
     ]
    }
   ],
   "source": [
    "#list constuctor\n",
    "\n",
    "mylist = list((\"sun\",\"moon\"))\n",
    "print(mylist)\n",
    "print(type(mylist))"
   ]
  },
  {
   "cell_type": "code",
   "execution_count": 167,
   "id": "e169d063",
   "metadata": {},
   "outputs": [
    {
     "name": "stdout",
     "output_type": "stream",
     "text": [
      "['apple', 'watermelon', 'cherry']\n"
     ]
    }
   ],
   "source": [
    "#change list item\n",
    "\n",
    "mylist = [\"apple\",\"banana\",\"cherry\"]\n",
    "mylist[1] = \"watermelon\"\n",
    "print(mylist)\n",
    "\n"
   ]
  },
  {
   "cell_type": "code",
   "execution_count": 177,
   "id": "46af3046",
   "metadata": {},
   "outputs": [
    {
     "name": "stdout",
     "output_type": "stream",
     "text": [
      "['apple', 'banana', 'sugar', 'watermelon', 'apple', 'banana', 'cherry']\n"
     ]
    }
   ],
   "source": [
    "mylist = [\"apple\",\"banana\",\"cherry\",\"apple\",\"banana\",\"cherry\",\"apple\",\"banana\",\"cherry\"]\n",
    "mylist[2:6] = [\"sugar\",\"watermelon\"]\n",
    "print(mylist)"
   ]
  },
  {
   "cell_type": "code",
   "execution_count": 182,
   "id": "d7c45425",
   "metadata": {},
   "outputs": [
    {
     "name": "stdout",
     "output_type": "stream",
     "text": [
      "['apple', 'cherry', 'sugar', 'watermelon', 'banana']\n"
     ]
    }
   ],
   "source": [
    "mylist = [\"apple\",\"sugar\",\"watermelon\",\"banana\"]#insert a value in list\n",
    "mylist.insert(1 ,\"cherry\")\n",
    "print(mylist)"
   ]
  },
  {
   "cell_type": "code",
   "execution_count": 183,
   "id": "339ec8b7",
   "metadata": {},
   "outputs": [
    {
     "name": "stdout",
     "output_type": "stream",
     "text": [
      "['apple', 'watermelon', 'cherry', 'banana']\n"
     ]
    }
   ],
   "source": [
    "mylist = [\"apple\", \"watermelon\",\"cherry\"]\n",
    "mylist.append(\"banana\")\n",
    "print(mylist)"
   ]
  },
  {
   "cell_type": "code",
   "execution_count": 184,
   "id": "7e5a9b1d",
   "metadata": {},
   "outputs": [
    {
     "name": "stdout",
     "output_type": "stream",
     "text": [
      "['apple', 'sugar', 'watermelon', 'banana', 'sugar', 'watermelon']\n"
     ]
    }
   ],
   "source": [
    "mylist1 = [\"apple\",\"sugar\",\"watermelon\",\"banana\"]\n",
    "mylist2 = [\"sugar\",\"watermelon\"]\n",
    "mylist1.extend(mylist2)\n",
    "print(mylist1)"
   ]
  },
  {
   "cell_type": "code",
   "execution_count": 185,
   "id": "5e493632",
   "metadata": {},
   "outputs": [
    {
     "name": "stdout",
     "output_type": "stream",
     "text": [
      "['sugar', 'watermelon', 'apple', 'sugar', 'watermelon', 'banana', 'sugar', 'watermelon']\n"
     ]
    }
   ],
   "source": [
    "mylist2.extend(mylist1)\n",
    "print(mylist2)"
   ]
  },
  {
   "cell_type": "code",
   "execution_count": 186,
   "id": "fd882f67",
   "metadata": {},
   "outputs": [
    {
     "name": "stdout",
     "output_type": "stream",
     "text": [
      "['apple', 'watermelon']\n"
     ]
    }
   ],
   "source": [
    "#remove list item\n",
    "\n",
    "mylist = [\"apple\", \"watermelon\",\"cherry\"]\n",
    "mylist.remove(\"cherry\")\n",
    "print(mylist)\n"
   ]
  },
  {
   "cell_type": "code",
   "execution_count": 196,
   "id": "2dcd6f52",
   "metadata": {},
   "outputs": [
    {
     "name": "stdout",
     "output_type": "stream",
     "text": [
      "['sugar', 'apple', 'sugar', 'watermelon', 'banana', 'sugar', 'watermelon']\n"
     ]
    }
   ],
   "source": [
    "mylist = ['sugar', 'watermelon', 'apple', 'sugar', 'watermelon', 'banana', 'sugar', 'watermelon']\n",
    "mylist.pop(1)\n",
    "print(mylist)\n"
   ]
  },
  {
   "cell_type": "code",
   "execution_count": null,
   "id": "07748cf4",
   "metadata": {},
   "outputs": [],
   "source": []
  }
 ],
 "metadata": {
  "kernelspec": {
   "display_name": "Python 3 (ipykernel)",
   "language": "python",
   "name": "python3"
  },
  "language_info": {
   "codemirror_mode": {
    "name": "ipython",
    "version": 3
   },
   "file_extension": ".py",
   "mimetype": "text/x-python",
   "name": "python",
   "nbconvert_exporter": "python",
   "pygments_lexer": "ipython3",
   "version": "3.9.12"
  }
 },
 "nbformat": 4,
 "nbformat_minor": 5
}
