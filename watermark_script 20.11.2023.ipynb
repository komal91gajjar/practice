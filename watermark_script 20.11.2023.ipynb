{
 "cells": [
  {
   "cell_type": "code",
   "execution_count": 2,
   "metadata": {},
   "outputs": [],
   "source": [
    "import os\n",
    "import shutil\n",
    "image_folder_path = 'D:/vedio_frame/All_img'  # Replace with your image folder path\n",
    "txt_folder_path = 'D:/vedio_frame/All_txt'      # Replace with your txt folder path\n",
    "destination_folder = 'D:/vedio_frame'  # Replace with your destination folder path\n",
    "# Get a list of all text files in the txt folder\n",
    "txt_files = os.listdir(txt_folder_path)\n",
    "# Get a list of all image files in the image folder\n",
    "image_files = os.listdir(image_folder_path)\n",
    "# Loop through the image files\n",
    "for img_file in image_files:\n",
    "    img_name, img_ext = os.path.splitext(img_file)\n",
    "    if img_ext.lower() in ['.jpg', '.jpeg', '.png', '.gif']:  # Add more image extensions if needed\n",
    "        # Check if corresponding txt file exists\n",
    "        if f\"{img_name}.txt\" not in txt_files:\n",
    "            # Copy the image to the destination folder\n",
    "            shutil.copy(os.path.join(image_folder_path, img_file), os.path.join(destination_folder, img_file))\n",
    "\n",
    "\n",
    "\n",
    "\n",
    "\n",
    "\n",
    "\n",
    "\n",
    "\n"
   ]
  },
  {
   "cell_type": "code",
   "execution_count": null,
   "metadata": {},
   "outputs": [],
   "source": []
  }
 ],
 "metadata": {
  "kernelspec": {
   "display_name": "Python 3",
   "language": "python",
   "name": "python3"
  },
  "language_info": {
   "codemirror_mode": {
    "name": "ipython",
    "version": 3
   },
   "file_extension": ".py",
   "mimetype": "text/x-python",
   "name": "python",
   "nbconvert_exporter": "python",
   "pygments_lexer": "ipython3",
   "version": "3.11.3"
  }
 },
 "nbformat": 4,
 "nbformat_minor": 2
}
