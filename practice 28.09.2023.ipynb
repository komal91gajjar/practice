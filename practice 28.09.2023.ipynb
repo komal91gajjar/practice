{
 "cells": [
  {
   "cell_type": "markdown",
   "id": "b5cf6599",
   "metadata": {},
   "source": [
    "# Polymorphism"
   ]
  },
  {
   "cell_type": "code",
   "execution_count": 8,
   "id": "011ebd8b",
   "metadata": {},
   "outputs": [
    {
     "name": "stdout",
     "output_type": "stream",
     "text": [
      "17\n",
      "15\n"
     ]
    }
   ],
   "source": [
    "# methos overloading\n",
    "\n",
    "class overloaddemo:\n",
    "    \n",
    "    def add(self,a,b,c=0):\n",
    "        s = a+b+c\n",
    "        return s\n",
    "    \n",
    "obj = overloaddemo()\n",
    "\n",
    "sum = obj.add(7,8,2)\n",
    "print(sum)\n",
    "\n",
    "sums = obj.add(5,10)\n",
    "print(sums)"
   ]
  },
  {
   "cell_type": "code",
   "execution_count": null,
   "id": "deb6173f",
   "metadata": {},
   "outputs": [],
   "source": []
  },
  {
   "cell_type": "code",
   "execution_count": 21,
   "id": "30a63b54",
   "metadata": {},
   "outputs": [
    {
     "name": "stdout",
     "output_type": "stream",
     "text": [
      "enter person name: kk\n",
      "enter person age: 2\n",
      "enter Emp ID: 1\n",
      "person class data call\n",
      "name:  kk\n",
      "age:  2\n",
      "employee class data call\n",
      "name:  kk\n",
      "age:  2\n",
      "emp id:  1\n"
     ]
    }
   ],
   "source": [
    "# method overriding\n",
    "\n",
    "class Person:\n",
    "    def __init__(self,name,age):\n",
    "        self.name = name\n",
    "        self.age = age\n",
    "        \n",
    "    def Displaydata(self):\n",
    "        print(\"person class data call\")\n",
    "        print(\"name: \",self.name)\n",
    "        print(\"age: \",self.age)\n",
    "class Employee(Person):\n",
    "    def __init__(self,name,age,id):\n",
    "        super().__init__(name,age)\n",
    "        self.empid = id\n",
    "        \n",
    "    def Displaydata(self):\n",
    "        print(\"employee class data call\")\n",
    "        print(\"name: \",name)\n",
    "        print(\"age: \", age)\n",
    "        print(\"emp id: \", id)\n",
    "        \n",
    "name = input(\"enter person name: \")\n",
    "age = int(input(\"enter person age: \"))\n",
    "id = input(\"enter Emp ID: \")\n",
    "\n",
    "p1 = Person(name,age)\n",
    "p1.Displaydata()\n",
    "\n",
    "p2=Employee(name,age,id)\n",
    "p2.Displaydata()"
   ]
  },
  {
   "cell_type": "code",
   "execution_count": 26,
   "id": "a11a1b04",
   "metadata": {},
   "outputs": [
    {
     "name": "stdout",
     "output_type": "stream",
     "text": [
      "(3, 9)\n"
     ]
    }
   ],
   "source": [
    "# operator overloding\n",
    "\n",
    "class point:\n",
    "    def __init__(self,a,b):\n",
    "        self.a = a\n",
    "        self.b = b\n",
    "        \n",
    "    def __add__(self,other):\n",
    "        return self.a + other.a ,self.b + other.b\n",
    "    \n",
    "p = point(1,4)\n",
    "p1 = point(2,5)\n",
    "\n",
    "print(p + p1)\n",
    "        "
   ]
  },
  {
   "cell_type": "code",
   "execution_count": 27,
   "id": "abd31f2e",
   "metadata": {},
   "outputs": [
    {
     "name": "stdout",
     "output_type": "stream",
     "text": [
      "(8, 45)\n"
     ]
    }
   ],
   "source": [
    "class Point:\n",
    "    def __init__(self,a,b):\n",
    "        self.a = a\n",
    "        self.b = b\n",
    "        \n",
    "    def __mul__(self,other):\n",
    "        return self.a*other.a, self.b*other.b\n",
    "p1 = Point(2,5)\n",
    "p2 = Point(4,9)\n",
    "\n",
    "print(p1*p2)"
   ]
  },
  {
   "cell_type": "code",
   "execution_count": 28,
   "id": "4c72b374",
   "metadata": {},
   "outputs": [],
   "source": [
    "# stack \n",
    "# Last in first out\n",
    "\n",
    "strs = []\n",
    "strs.append(\"apple\")\n",
    "strs.append(\"cherry\")\n",
    "strs.append(\"banana\")\n",
    "strs.append(\"watermelon\")"
   ]
  },
  {
   "cell_type": "code",
   "execution_count": 29,
   "id": "bc0259ef",
   "metadata": {},
   "outputs": [
    {
     "name": "stdout",
     "output_type": "stream",
     "text": [
      "['apple', 'cherry', 'banana', 'watermelon']\n"
     ]
    }
   ],
   "source": [
    "print(strs)"
   ]
  },
  {
   "cell_type": "code",
   "execution_count": 30,
   "id": "99413840",
   "metadata": {},
   "outputs": [
    {
     "data": {
      "text/plain": [
       "'watermelon'"
      ]
     },
     "execution_count": 30,
     "metadata": {},
     "output_type": "execute_result"
    }
   ],
   "source": [
    "strs.pop()"
   ]
  },
  {
   "cell_type": "code",
   "execution_count": 31,
   "id": "c5a8162a",
   "metadata": {},
   "outputs": [
    {
     "data": {
      "text/plain": [
       "'banana'"
      ]
     },
     "execution_count": 31,
     "metadata": {},
     "output_type": "execute_result"
    }
   ],
   "source": [
    "strs.pop()"
   ]
  },
  {
   "cell_type": "code",
   "execution_count": 32,
   "id": "e5d38299",
   "metadata": {},
   "outputs": [
    {
     "data": {
      "text/plain": [
       "'cherry'"
      ]
     },
     "execution_count": 32,
     "metadata": {},
     "output_type": "execute_result"
    }
   ],
   "source": [
    "strs.pop()"
   ]
  },
  {
   "cell_type": "code",
   "execution_count": 33,
   "id": "60d3770c",
   "metadata": {},
   "outputs": [
    {
     "data": {
      "text/plain": [
       "'apple'"
      ]
     },
     "execution_count": 33,
     "metadata": {},
     "output_type": "execute_result"
    }
   ],
   "source": [
    "strs.pop()"
   ]
  },
  {
   "cell_type": "code",
   "execution_count": 35,
   "id": "f3ae47f5",
   "metadata": {},
   "outputs": [
    {
     "ename": "IndexError",
     "evalue": "pop from empty list",
     "output_type": "error",
     "traceback": [
      "\u001b[1;31m---------------------------------------------------------------------------\u001b[0m",
      "\u001b[1;31mIndexError\u001b[0m                                Traceback (most recent call last)",
      "Cell \u001b[1;32mIn[35], line 1\u001b[0m\n\u001b[1;32m----> 1\u001b[0m \u001b[43mstrs\u001b[49m\u001b[38;5;241;43m.\u001b[39;49m\u001b[43mpop\u001b[49m\u001b[43m(\u001b[49m\u001b[43m)\u001b[49m\n",
      "\u001b[1;31mIndexError\u001b[0m: pop from empty list"
     ]
    }
   ],
   "source": [
    "strs.pop()"
   ]
  },
  {
   "cell_type": "code",
   "execution_count": 36,
   "id": "e4255486",
   "metadata": {},
   "outputs": [],
   "source": [
    "class Stacktop:\n",
    "    def __init__(self):\n",
    "        self.items = []\n",
    "        \n",
    "    def IsEmpty(self):\n",
    "        return self.items == []\n",
    "    \n",
    "    def Push(self,items):\n",
    "        return self.items.insert(0,items)\n",
    "        \n",
    "    def Pop(self):\n",
    "        return self.items.pop(0)\n",
    "        \n",
    "    def peek(self):\n",
    "        return self.items[0]\n",
    "    \n",
    "    def size(self):\n",
    "        return len(self.items)\n",
    "    \n",
    "    def display_all_data(self):\n",
    "        return (self.items)"
   ]
  },
  {
   "cell_type": "code",
   "execution_count": 47,
   "id": "08cf1a6c",
   "metadata": {},
   "outputs": [],
   "source": [
    "stk = Stacktop()"
   ]
  },
  {
   "cell_type": "code",
   "execution_count": 48,
   "id": "3b7afdc5",
   "metadata": {},
   "outputs": [
    {
     "data": {
      "text/plain": [
       "True"
      ]
     },
     "execution_count": 48,
     "metadata": {},
     "output_type": "execute_result"
    }
   ],
   "source": [
    "stk.IsEmpty()"
   ]
  },
  {
   "cell_type": "code",
   "execution_count": 45,
   "id": "b6dac0fd",
   "metadata": {},
   "outputs": [
    {
     "name": "stdout",
     "output_type": "stream",
     "text": [
      "<__main__.Stacktop object at 0x0000016D3FF4C580>\n"
     ]
    }
   ],
   "source": [
    "print(stk)"
   ]
  },
  {
   "cell_type": "code",
   "execution_count": 49,
   "id": "581f6282",
   "metadata": {},
   "outputs": [],
   "source": [
    "stk.Push(\"apple\")\n",
    "stk.Push(\"banana\")\n",
    "stk.Push(\"watermelon\")\n",
    "stk.Push(\"cherry\")\n",
    "stk.Push(\"orange\")"
   ]
  },
  {
   "cell_type": "code",
   "execution_count": 51,
   "id": "548dce0f",
   "metadata": {},
   "outputs": [
    {
     "name": "stdout",
     "output_type": "stream",
     "text": [
      "<__main__.Stacktop object at 0x0000016D3FF4C790>\n"
     ]
    }
   ],
   "source": [
    "print(stk)"
   ]
  },
  {
   "cell_type": "code",
   "execution_count": 52,
   "id": "839749be",
   "metadata": {},
   "outputs": [
    {
     "data": {
      "text/plain": [
       "'orange'"
      ]
     },
     "execution_count": 52,
     "metadata": {},
     "output_type": "execute_result"
    }
   ],
   "source": [
    "stk.peek()"
   ]
  },
  {
   "cell_type": "code",
   "execution_count": 53,
   "id": "0208c1c9",
   "metadata": {},
   "outputs": [
    {
     "data": {
      "text/plain": [
       "'orange'"
      ]
     },
     "execution_count": 53,
     "metadata": {},
     "output_type": "execute_result"
    }
   ],
   "source": [
    "stk.Pop()"
   ]
  },
  {
   "cell_type": "code",
   "execution_count": 54,
   "id": "2d741e1c",
   "metadata": {},
   "outputs": [
    {
     "data": {
      "text/plain": [
       "['cherry', 'watermelon', 'banana', 'apple']"
      ]
     },
     "execution_count": 54,
     "metadata": {},
     "output_type": "execute_result"
    }
   ],
   "source": [
    "stk.display_all_data()"
   ]
  },
  {
   "cell_type": "code",
   "execution_count": 55,
   "id": "701600ed",
   "metadata": {},
   "outputs": [
    {
     "data": {
      "text/plain": [
       "4"
      ]
     },
     "execution_count": 55,
     "metadata": {},
     "output_type": "execute_result"
    }
   ],
   "source": [
    "stk.size()"
   ]
  },
  {
   "cell_type": "code",
   "execution_count": 56,
   "id": "5bb88268",
   "metadata": {},
   "outputs": [
    {
     "name": "stdout",
     "output_type": "stream",
     "text": [
      "cherry\n",
      "watermelon\n",
      "banana\n",
      "apple\n"
     ]
    }
   ],
   "source": [
    "for i in stk.display_all_data():\n",
    "    print(i)"
   ]
  },
  {
   "cell_type": "code",
   "execution_count": 57,
   "id": "397276c3",
   "metadata": {},
   "outputs": [
    {
     "name": "stdout",
     "output_type": "stream",
     "text": [
      "Username: scaleracad\n",
      "Password: scaler@a\n"
     ]
    }
   ],
   "source": [
    "# data hiding\n",
    "\n",
    "class Authentication:\n",
    "    __username = 'scaleracad'  # Private member\n",
    "    _password = 'scaler@a'  # Protected member\n",
    "\n",
    "    def creden(self):\n",
    "        print(f\"Username: {self.__username}\")\n",
    "        print(f\"Password: {self._password}\")\n",
    "\n",
    "\n",
    "p = Authentication()\n",
    "p.creden()\n"
   ]
  },
  {
   "cell_type": "code",
   "execution_count": 76,
   "id": "470ade92",
   "metadata": {},
   "outputs": [
    {
     "name": "stdout",
     "output_type": "stream",
     "text": [
      "enter person name: kp\n",
      "enter person age: 9\n",
      "enter Emp ID: 0\n",
      "name:  kp\n",
      "age:  9\n",
      "ID:  0\n",
      "name:  kp\n",
      "age:  9\n",
      "ID:  0\n"
     ]
    }
   ],
   "source": [
    "class PersonalDetails:\n",
    "    __UserName = \"demodata\"\n",
    "    __password = \"123demo\"\n",
    "    \n",
    "    def __init__(self,name,age,id):\n",
    "        self.name = name\n",
    "        self.age = age\n",
    "        self.id = id\n",
    "    \n",
    "    def Display_all_data(self):\n",
    "#         print(\"username: \" , self.__UserName)\n",
    "#         print(\"password: \" , self.__password)\n",
    "        print(\"name: \" , self.name)\n",
    "        print(\"age: \" , self.age)\n",
    "        print(\"ID: \" , self.id)\n",
    "\n",
    "class Hidedata(PersonalDetails):\n",
    "    def Displaydata(self):\n",
    "        print(\"username: \" , self.__UserName)\n",
    "        print(\"password: \" , self.__password) \n",
    "        \n",
    "        \n",
    "name = input(\"enter person name: \")\n",
    "age = int(input(\"enter person age: \"))\n",
    "id = input(\"enter Emp ID: \")\n",
    "\n",
    "\n",
    "p1 = PersonalDetails(name,age,id)\n",
    "p1.Display_all_data()\n",
    "\n",
    "p2 = Hidedata(name,age,id)\n",
    "# p2.Displaydata()\n",
    "p2.Display_all_data()\n",
    "# p2.Displaydata()"
   ]
  },
  {
   "cell_type": "code",
   "execution_count": null,
   "id": "b1bd452f",
   "metadata": {},
   "outputs": [],
   "source": []
  },
  {
   "cell_type": "code",
   "execution_count": null,
   "id": "081444b3",
   "metadata": {},
   "outputs": [],
   "source": []
  },
  {
   "cell_type": "code",
   "execution_count": null,
   "id": "dfb16827",
   "metadata": {},
   "outputs": [],
   "source": []
  },
  {
   "cell_type": "code",
   "execution_count": null,
   "id": "135841dc",
   "metadata": {},
   "outputs": [],
   "source": []
  },
  {
   "cell_type": "code",
   "execution_count": null,
   "id": "cb67c08e",
   "metadata": {},
   "outputs": [],
   "source": []
  },
  {
   "cell_type": "code",
   "execution_count": null,
   "id": "d4a09381",
   "metadata": {},
   "outputs": [],
   "source": []
  },
  {
   "cell_type": "code",
   "execution_count": null,
   "id": "7720fdd7",
   "metadata": {},
   "outputs": [],
   "source": []
  },
  {
   "cell_type": "code",
   "execution_count": null,
   "id": "81b4839b",
   "metadata": {},
   "outputs": [],
   "source": []
  },
  {
   "cell_type": "code",
   "execution_count": null,
   "id": "86baba58",
   "metadata": {},
   "outputs": [],
   "source": []
  },
  {
   "cell_type": "code",
   "execution_count": null,
   "id": "4c81331d",
   "metadata": {},
   "outputs": [],
   "source": []
  },
  {
   "cell_type": "code",
   "execution_count": null,
   "id": "f4a36b96",
   "metadata": {},
   "outputs": [],
   "source": []
  },
  {
   "cell_type": "code",
   "execution_count": null,
   "id": "edd59f51",
   "metadata": {},
   "outputs": [],
   "source": []
  },
  {
   "cell_type": "code",
   "execution_count": null,
   "id": "c42fae27",
   "metadata": {},
   "outputs": [],
   "source": []
  },
  {
   "cell_type": "code",
   "execution_count": null,
   "id": "af8c7683",
   "metadata": {},
   "outputs": [],
   "source": []
  },
  {
   "cell_type": "code",
   "execution_count": null,
   "id": "d636d93b",
   "metadata": {},
   "outputs": [],
   "source": []
  },
  {
   "cell_type": "code",
   "execution_count": null,
   "id": "ed828f7c",
   "metadata": {},
   "outputs": [],
   "source": []
  },
  {
   "cell_type": "code",
   "execution_count": null,
   "id": "a3f26141",
   "metadata": {},
   "outputs": [],
   "source": []
  }
 ],
 "metadata": {
  "kernelspec": {
   "display_name": "Python 3 (ipykernel)",
   "language": "python",
   "name": "python3"
  },
  "language_info": {
   "codemirror_mode": {
    "name": "ipython",
    "version": 3
   },
   "file_extension": ".py",
   "mimetype": "text/x-python",
   "name": "python",
   "nbconvert_exporter": "python",
   "pygments_lexer": "ipython3",
   "version": "3.9.12"
  }
 },
 "nbformat": 4,
 "nbformat_minor": 5
}
