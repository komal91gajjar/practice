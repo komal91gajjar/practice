{
 "cells": [
  {
   "cell_type": "code",
   "execution_count": 1,
   "metadata": {},
   "outputs": [],
   "source": [
    "import numpy as np\n",
    "import matplotlib.pyplot as plt\n",
    "import pandas as pd\n",
    "import seaborn as sns"
   ]
  },
  {
   "cell_type": "code",
   "execution_count": 2,
   "metadata": {},
   "outputs": [],
   "source": [
    "%matplotlib inline"
   ]
  },
  {
   "cell_type": "code",
   "execution_count": 3,
   "metadata": {},
   "outputs": [],
   "source": [
    "df  = pd.read_csv(\"D:\\\\excel data\\\\breast-cancer-data.csv\")"
   ]
  },
  {
   "cell_type": "code",
   "execution_count": 4,
   "metadata": {},
   "outputs": [
    {
     "data": {
      "text/html": [
       "<div>\n",
       "<style scoped>\n",
       "    .dataframe tbody tr th:only-of-type {\n",
       "        vertical-align: middle;\n",
       "    }\n",
       "\n",
       "    .dataframe tbody tr th {\n",
       "        vertical-align: top;\n",
       "    }\n",
       "\n",
       "    .dataframe thead th {\n",
       "        text-align: right;\n",
       "    }\n",
       "</style>\n",
       "<table border=\"1\" class=\"dataframe\">\n",
       "  <thead>\n",
       "    <tr style=\"text-align: right;\">\n",
       "      <th></th>\n",
       "      <th>age</th>\n",
       "      <th>menopause</th>\n",
       "      <th>tumer-size</th>\n",
       "      <th>inv-nodes</th>\n",
       "      <th>node-caps</th>\n",
       "      <th>deg-malig</th>\n",
       "      <th>breast</th>\n",
       "      <th>breast-quad</th>\n",
       "      <th>irradiate</th>\n",
       "      <th>class</th>\n",
       "    </tr>\n",
       "  </thead>\n",
       "  <tbody>\n",
       "    <tr>\n",
       "      <th>0</th>\n",
       "      <td>40-49'</td>\n",
       "      <td>premeno'</td>\n",
       "      <td>15-19'</td>\n",
       "      <td>0-2'</td>\n",
       "      <td>yes'</td>\n",
       "      <td>3'</td>\n",
       "      <td>right'</td>\n",
       "      <td>left_up'</td>\n",
       "      <td>no'</td>\n",
       "      <td>recurrence-events'</td>\n",
       "    </tr>\n",
       "    <tr>\n",
       "      <th>1</th>\n",
       "      <td>50-59'</td>\n",
       "      <td>ge40'</td>\n",
       "      <td>15-19'</td>\n",
       "      <td>0-2'</td>\n",
       "      <td>no'</td>\n",
       "      <td>1'</td>\n",
       "      <td>right'</td>\n",
       "      <td>central'</td>\n",
       "      <td>no'</td>\n",
       "      <td>no-recurrence-events'</td>\n",
       "    </tr>\n",
       "    <tr>\n",
       "      <th>2</th>\n",
       "      <td>50-59'</td>\n",
       "      <td>ge40'</td>\n",
       "      <td>35-39'</td>\n",
       "      <td>0-2'</td>\n",
       "      <td>no'</td>\n",
       "      <td>2'</td>\n",
       "      <td>left'</td>\n",
       "      <td>left_low'</td>\n",
       "      <td>no'</td>\n",
       "      <td>recurrence-events'</td>\n",
       "    </tr>\n",
       "    <tr>\n",
       "      <th>3</th>\n",
       "      <td>40-49'</td>\n",
       "      <td>premeno'</td>\n",
       "      <td>35-39'</td>\n",
       "      <td>0-2'</td>\n",
       "      <td>yes'</td>\n",
       "      <td>3'</td>\n",
       "      <td>right'</td>\n",
       "      <td>left_low'</td>\n",
       "      <td>yes'</td>\n",
       "      <td>no-recurrence-events'</td>\n",
       "    </tr>\n",
       "    <tr>\n",
       "      <th>4</th>\n",
       "      <td>40-49'</td>\n",
       "      <td>premeno'</td>\n",
       "      <td>30-34'</td>\n",
       "      <td>3-5'</td>\n",
       "      <td>yes'</td>\n",
       "      <td>2'</td>\n",
       "      <td>left'</td>\n",
       "      <td>right_up'</td>\n",
       "      <td>no'</td>\n",
       "      <td>recurrence-events'</td>\n",
       "    </tr>\n",
       "    <tr>\n",
       "      <th>...</th>\n",
       "      <td>...</td>\n",
       "      <td>...</td>\n",
       "      <td>...</td>\n",
       "      <td>...</td>\n",
       "      <td>...</td>\n",
       "      <td>...</td>\n",
       "      <td>...</td>\n",
       "      <td>...</td>\n",
       "      <td>...</td>\n",
       "      <td>...</td>\n",
       "    </tr>\n",
       "    <tr>\n",
       "      <th>281</th>\n",
       "      <td>50-59'</td>\n",
       "      <td>ge40'</td>\n",
       "      <td>30-34'</td>\n",
       "      <td>6-8'</td>\n",
       "      <td>yes'</td>\n",
       "      <td>2'</td>\n",
       "      <td>left'</td>\n",
       "      <td>left_low'</td>\n",
       "      <td>no'</td>\n",
       "      <td>no-recurrence-events'</td>\n",
       "    </tr>\n",
       "    <tr>\n",
       "      <th>282</th>\n",
       "      <td>50-59'</td>\n",
       "      <td>premeno'</td>\n",
       "      <td>25-29'</td>\n",
       "      <td>3-5'</td>\n",
       "      <td>yes'</td>\n",
       "      <td>2'</td>\n",
       "      <td>left'</td>\n",
       "      <td>left_low'</td>\n",
       "      <td>yes'</td>\n",
       "      <td>no-recurrence-events'</td>\n",
       "    </tr>\n",
       "    <tr>\n",
       "      <th>283</th>\n",
       "      <td>30-39'</td>\n",
       "      <td>premeno'</td>\n",
       "      <td>30-34'</td>\n",
       "      <td>6-8'</td>\n",
       "      <td>yes'</td>\n",
       "      <td>2'</td>\n",
       "      <td>right'</td>\n",
       "      <td>right_up'</td>\n",
       "      <td>no'</td>\n",
       "      <td>no-recurrence-events'</td>\n",
       "    </tr>\n",
       "    <tr>\n",
       "      <th>284</th>\n",
       "      <td>50-59'</td>\n",
       "      <td>premeno'</td>\n",
       "      <td>15-19'</td>\n",
       "      <td>0-2'</td>\n",
       "      <td>no'</td>\n",
       "      <td>2'</td>\n",
       "      <td>right'</td>\n",
       "      <td>left_low'</td>\n",
       "      <td>no'</td>\n",
       "      <td>no-recurrence-events'</td>\n",
       "    </tr>\n",
       "    <tr>\n",
       "      <th>285</th>\n",
       "      <td>50-59'</td>\n",
       "      <td>ge40'</td>\n",
       "      <td>40-44'</td>\n",
       "      <td>0-2'</td>\n",
       "      <td>no'</td>\n",
       "      <td>3'</td>\n",
       "      <td>left'</td>\n",
       "      <td>right_up'</td>\n",
       "      <td>no'</td>\n",
       "      <td>no-recurrence-events'</td>\n",
       "    </tr>\n",
       "  </tbody>\n",
       "</table>\n",
       "<p>286 rows × 10 columns</p>\n",
       "</div>"
      ],
      "text/plain": [
       "        age menopause tumer-size inv-nodes node-caps deg-malig  breast  \\\n",
       "0    40-49'  premeno'     15-19'      0-2'      yes'        3'  right'   \n",
       "1    50-59'     ge40'     15-19'      0-2'       no'        1'  right'   \n",
       "2    50-59'     ge40'     35-39'      0-2'       no'        2'   left'   \n",
       "3    40-49'  premeno'     35-39'      0-2'      yes'        3'  right'   \n",
       "4    40-49'  premeno'     30-34'      3-5'      yes'        2'   left'   \n",
       "..      ...       ...        ...       ...       ...       ...     ...   \n",
       "281  50-59'     ge40'     30-34'      6-8'      yes'        2'   left'   \n",
       "282  50-59'  premeno'     25-29'      3-5'      yes'        2'   left'   \n",
       "283  30-39'  premeno'     30-34'      6-8'      yes'        2'  right'   \n",
       "284  50-59'  premeno'     15-19'      0-2'       no'        2'  right'   \n",
       "285  50-59'     ge40'     40-44'      0-2'       no'        3'   left'   \n",
       "\n",
       "    breast-quad irradiate                  class  \n",
       "0      left_up'       no'     recurrence-events'  \n",
       "1      central'       no'  no-recurrence-events'  \n",
       "2     left_low'       no'     recurrence-events'  \n",
       "3     left_low'      yes'  no-recurrence-events'  \n",
       "4     right_up'       no'     recurrence-events'  \n",
       "..          ...       ...                    ...  \n",
       "281   left_low'       no'  no-recurrence-events'  \n",
       "282   left_low'      yes'  no-recurrence-events'  \n",
       "283   right_up'       no'  no-recurrence-events'  \n",
       "284   left_low'       no'  no-recurrence-events'  \n",
       "285   right_up'       no'  no-recurrence-events'  \n",
       "\n",
       "[286 rows x 10 columns]"
      ]
     },
     "execution_count": 4,
     "metadata": {},
     "output_type": "execute_result"
    }
   ],
   "source": [
    "df"
   ]
  },
  {
   "cell_type": "code",
   "execution_count": 5,
   "metadata": {},
   "outputs": [
    {
     "data": {
      "text/plain": [
       "age            0\n",
       "menopause      0\n",
       "tumer-size     0\n",
       "inv-nodes      0\n",
       "node-caps      8\n",
       "deg-malig      0\n",
       "breast         0\n",
       "breast-quad    1\n",
       "irradiate      0\n",
       "class          0\n",
       "dtype: int64"
      ]
     },
     "execution_count": 5,
     "metadata": {},
     "output_type": "execute_result"
    }
   ],
   "source": [
    "df.isnull().sum()"
   ]
  },
  {
   "cell_type": "code",
   "execution_count": 6,
   "metadata": {},
   "outputs": [
    {
     "name": "stdout",
     "output_type": "stream",
     "text": [
      "<class 'pandas.core.frame.DataFrame'>\n",
      "RangeIndex: 286 entries, 0 to 285\n",
      "Data columns (total 10 columns):\n",
      " #   Column       Non-Null Count  Dtype \n",
      "---  ------       --------------  ----- \n",
      " 0   age          286 non-null    object\n",
      " 1   menopause    286 non-null    object\n",
      " 2   tumer-size   286 non-null    object\n",
      " 3   inv-nodes    286 non-null    object\n",
      " 4   node-caps    278 non-null    object\n",
      " 5   deg-malig    286 non-null    object\n",
      " 6   breast       286 non-null    object\n",
      " 7   breast-quad  285 non-null    object\n",
      " 8   irradiate    286 non-null    object\n",
      " 9   class        286 non-null    object\n",
      "dtypes: object(10)\n",
      "memory usage: 22.5+ KB\n"
     ]
    }
   ],
   "source": [
    "df.info()"
   ]
  },
  {
   "cell_type": "code",
   "execution_count": 7,
   "metadata": {},
   "outputs": [
    {
     "data": {
      "text/html": [
       "<div>\n",
       "<style scoped>\n",
       "    .dataframe tbody tr th:only-of-type {\n",
       "        vertical-align: middle;\n",
       "    }\n",
       "\n",
       "    .dataframe tbody tr th {\n",
       "        vertical-align: top;\n",
       "    }\n",
       "\n",
       "    .dataframe thead th {\n",
       "        text-align: right;\n",
       "    }\n",
       "</style>\n",
       "<table border=\"1\" class=\"dataframe\">\n",
       "  <thead>\n",
       "    <tr style=\"text-align: right;\">\n",
       "      <th></th>\n",
       "      <th>age</th>\n",
       "      <th>menopause</th>\n",
       "      <th>tumer-size</th>\n",
       "      <th>inv-nodes</th>\n",
       "      <th>node-caps</th>\n",
       "      <th>deg-malig</th>\n",
       "      <th>breast</th>\n",
       "      <th>breast-quad</th>\n",
       "      <th>irradiate</th>\n",
       "      <th>class</th>\n",
       "    </tr>\n",
       "  </thead>\n",
       "  <tbody>\n",
       "    <tr>\n",
       "      <th>count</th>\n",
       "      <td>286</td>\n",
       "      <td>286</td>\n",
       "      <td>286</td>\n",
       "      <td>286</td>\n",
       "      <td>278</td>\n",
       "      <td>286</td>\n",
       "      <td>286</td>\n",
       "      <td>285</td>\n",
       "      <td>286</td>\n",
       "      <td>286</td>\n",
       "    </tr>\n",
       "    <tr>\n",
       "      <th>unique</th>\n",
       "      <td>6</td>\n",
       "      <td>3</td>\n",
       "      <td>11</td>\n",
       "      <td>7</td>\n",
       "      <td>2</td>\n",
       "      <td>3</td>\n",
       "      <td>2</td>\n",
       "      <td>5</td>\n",
       "      <td>2</td>\n",
       "      <td>2</td>\n",
       "    </tr>\n",
       "    <tr>\n",
       "      <th>top</th>\n",
       "      <td>50-59'</td>\n",
       "      <td>premeno'</td>\n",
       "      <td>30-34'</td>\n",
       "      <td>0-2'</td>\n",
       "      <td>no'</td>\n",
       "      <td>2'</td>\n",
       "      <td>left'</td>\n",
       "      <td>left_low'</td>\n",
       "      <td>no'</td>\n",
       "      <td>no-recurrence-events'</td>\n",
       "    </tr>\n",
       "    <tr>\n",
       "      <th>freq</th>\n",
       "      <td>96</td>\n",
       "      <td>150</td>\n",
       "      <td>60</td>\n",
       "      <td>213</td>\n",
       "      <td>222</td>\n",
       "      <td>130</td>\n",
       "      <td>152</td>\n",
       "      <td>110</td>\n",
       "      <td>218</td>\n",
       "      <td>201</td>\n",
       "    </tr>\n",
       "  </tbody>\n",
       "</table>\n",
       "</div>"
      ],
      "text/plain": [
       "           age menopause tumer-size inv-nodes node-caps deg-malig breast  \\\n",
       "count      286       286        286       286       278       286    286   \n",
       "unique       6         3         11         7         2         3      2   \n",
       "top     50-59'  premeno'     30-34'      0-2'       no'        2'  left'   \n",
       "freq        96       150         60       213       222       130    152   \n",
       "\n",
       "       breast-quad irradiate                  class  \n",
       "count          285       286                    286  \n",
       "unique           5         2                      2  \n",
       "top      left_low'       no'  no-recurrence-events'  \n",
       "freq           110       218                    201  "
      ]
     },
     "execution_count": 7,
     "metadata": {},
     "output_type": "execute_result"
    }
   ],
   "source": [
    "df.describe()"
   ]
  },
  {
   "cell_type": "code",
   "execution_count": 8,
   "metadata": {},
   "outputs": [],
   "source": [
    "df.dropna(subset=[\"node-caps\",\"breast-quad\"],inplace=True)"
   ]
  },
  {
   "cell_type": "code",
   "execution_count": 9,
   "metadata": {},
   "outputs": [
    {
     "data": {
      "text/plain": [
       "age            0\n",
       "menopause      0\n",
       "tumer-size     0\n",
       "inv-nodes      0\n",
       "node-caps      0\n",
       "deg-malig      0\n",
       "breast         0\n",
       "breast-quad    0\n",
       "irradiate      0\n",
       "class          0\n",
       "dtype: int64"
      ]
     },
     "execution_count": 9,
     "metadata": {},
     "output_type": "execute_result"
    }
   ],
   "source": [
    "df.isnull().sum()"
   ]
  },
  {
   "cell_type": "code",
   "execution_count": 10,
   "metadata": {},
   "outputs": [],
   "source": [
    "df[\"min_age\"] = df[\"age\"].str.split(\"-\").apply(lambda x:x[0])"
   ]
  },
  {
   "cell_type": "code",
   "execution_count": 11,
   "metadata": {},
   "outputs": [
    {
     "data": {
      "text/html": [
       "<div>\n",
       "<style scoped>\n",
       "    .dataframe tbody tr th:only-of-type {\n",
       "        vertical-align: middle;\n",
       "    }\n",
       "\n",
       "    .dataframe tbody tr th {\n",
       "        vertical-align: top;\n",
       "    }\n",
       "\n",
       "    .dataframe thead th {\n",
       "        text-align: right;\n",
       "    }\n",
       "</style>\n",
       "<table border=\"1\" class=\"dataframe\">\n",
       "  <thead>\n",
       "    <tr style=\"text-align: right;\">\n",
       "      <th></th>\n",
       "      <th>age</th>\n",
       "      <th>menopause</th>\n",
       "      <th>tumer-size</th>\n",
       "      <th>inv-nodes</th>\n",
       "      <th>node-caps</th>\n",
       "      <th>deg-malig</th>\n",
       "      <th>breast</th>\n",
       "      <th>breast-quad</th>\n",
       "      <th>irradiate</th>\n",
       "      <th>class</th>\n",
       "      <th>min_age</th>\n",
       "    </tr>\n",
       "  </thead>\n",
       "  <tbody>\n",
       "    <tr>\n",
       "      <th>0</th>\n",
       "      <td>40-49'</td>\n",
       "      <td>premeno'</td>\n",
       "      <td>15-19'</td>\n",
       "      <td>0-2'</td>\n",
       "      <td>yes'</td>\n",
       "      <td>3'</td>\n",
       "      <td>right'</td>\n",
       "      <td>left_up'</td>\n",
       "      <td>no'</td>\n",
       "      <td>recurrence-events'</td>\n",
       "      <td>40</td>\n",
       "    </tr>\n",
       "    <tr>\n",
       "      <th>1</th>\n",
       "      <td>50-59'</td>\n",
       "      <td>ge40'</td>\n",
       "      <td>15-19'</td>\n",
       "      <td>0-2'</td>\n",
       "      <td>no'</td>\n",
       "      <td>1'</td>\n",
       "      <td>right'</td>\n",
       "      <td>central'</td>\n",
       "      <td>no'</td>\n",
       "      <td>no-recurrence-events'</td>\n",
       "      <td>50</td>\n",
       "    </tr>\n",
       "  </tbody>\n",
       "</table>\n",
       "</div>"
      ],
      "text/plain": [
       "      age menopause tumer-size inv-nodes node-caps deg-malig  breast  \\\n",
       "0  40-49'  premeno'     15-19'      0-2'      yes'        3'  right'   \n",
       "1  50-59'     ge40'     15-19'      0-2'       no'        1'  right'   \n",
       "\n",
       "  breast-quad irradiate                  class min_age  \n",
       "0    left_up'       no'     recurrence-events'      40  \n",
       "1    central'       no'  no-recurrence-events'      50  "
      ]
     },
     "execution_count": 11,
     "metadata": {},
     "output_type": "execute_result"
    }
   ],
   "source": [
    "df.head(2)"
   ]
  },
  {
   "cell_type": "code",
   "execution_count": 12,
   "metadata": {},
   "outputs": [],
   "source": [
    "df[\"max_age\"] = df[\"age\"].str.split(\"-\").apply(lambda x:x[1])"
   ]
  },
  {
   "cell_type": "code",
   "execution_count": 13,
   "metadata": {},
   "outputs": [],
   "source": [
    "df[\"max_tumer_size\"] = df[\"tumer-size\"].str.split(\"-\").apply(lambda x:x[1])"
   ]
  },
  {
   "cell_type": "code",
   "execution_count": 14,
   "metadata": {},
   "outputs": [],
   "source": [
    "df[\"min_tumer_size\"] = df[\"tumer-size\"].str.split(\"-\").apply(lambda x:x[0])"
   ]
  },
  {
   "cell_type": "code",
   "execution_count": 15,
   "metadata": {},
   "outputs": [],
   "source": [
    "df.drop([\"tumer-size\"],axis = 1,inplace=True)"
   ]
  },
  {
   "cell_type": "code",
   "execution_count": 16,
   "metadata": {},
   "outputs": [
    {
     "data": {
      "text/html": [
       "<div>\n",
       "<style scoped>\n",
       "    .dataframe tbody tr th:only-of-type {\n",
       "        vertical-align: middle;\n",
       "    }\n",
       "\n",
       "    .dataframe tbody tr th {\n",
       "        vertical-align: top;\n",
       "    }\n",
       "\n",
       "    .dataframe thead th {\n",
       "        text-align: right;\n",
       "    }\n",
       "</style>\n",
       "<table border=\"1\" class=\"dataframe\">\n",
       "  <thead>\n",
       "    <tr style=\"text-align: right;\">\n",
       "      <th></th>\n",
       "      <th>age</th>\n",
       "      <th>menopause</th>\n",
       "      <th>inv-nodes</th>\n",
       "      <th>node-caps</th>\n",
       "      <th>deg-malig</th>\n",
       "      <th>breast</th>\n",
       "      <th>breast-quad</th>\n",
       "      <th>irradiate</th>\n",
       "      <th>class</th>\n",
       "      <th>min_age</th>\n",
       "      <th>max_age</th>\n",
       "      <th>max_tumer_size</th>\n",
       "      <th>min_tumer_size</th>\n",
       "    </tr>\n",
       "  </thead>\n",
       "  <tbody>\n",
       "    <tr>\n",
       "      <th>0</th>\n",
       "      <td>40-49'</td>\n",
       "      <td>premeno'</td>\n",
       "      <td>0-2'</td>\n",
       "      <td>yes'</td>\n",
       "      <td>3'</td>\n",
       "      <td>right'</td>\n",
       "      <td>left_up'</td>\n",
       "      <td>no'</td>\n",
       "      <td>recurrence-events'</td>\n",
       "      <td>40</td>\n",
       "      <td>49'</td>\n",
       "      <td>19'</td>\n",
       "      <td>15</td>\n",
       "    </tr>\n",
       "    <tr>\n",
       "      <th>1</th>\n",
       "      <td>50-59'</td>\n",
       "      <td>ge40'</td>\n",
       "      <td>0-2'</td>\n",
       "      <td>no'</td>\n",
       "      <td>1'</td>\n",
       "      <td>right'</td>\n",
       "      <td>central'</td>\n",
       "      <td>no'</td>\n",
       "      <td>no-recurrence-events'</td>\n",
       "      <td>50</td>\n",
       "      <td>59'</td>\n",
       "      <td>19'</td>\n",
       "      <td>15</td>\n",
       "    </tr>\n",
       "  </tbody>\n",
       "</table>\n",
       "</div>"
      ],
      "text/plain": [
       "      age menopause inv-nodes node-caps deg-malig  breast breast-quad  \\\n",
       "0  40-49'  premeno'      0-2'      yes'        3'  right'    left_up'   \n",
       "1  50-59'     ge40'      0-2'       no'        1'  right'    central'   \n",
       "\n",
       "  irradiate                  class min_age max_age max_tumer_size  \\\n",
       "0       no'     recurrence-events'      40     49'            19'   \n",
       "1       no'  no-recurrence-events'      50     59'            19'   \n",
       "\n",
       "  min_tumer_size  \n",
       "0             15  \n",
       "1             15  "
      ]
     },
     "execution_count": 16,
     "metadata": {},
     "output_type": "execute_result"
    }
   ],
   "source": [
    "df.head(2)"
   ]
  },
  {
   "cell_type": "code",
   "execution_count": 17,
   "metadata": {},
   "outputs": [
    {
     "data": {
      "text/plain": [
       "class\n",
       "no-recurrence-events'    196\n",
       "recurrence-events'        81\n",
       "Name: count, dtype: int64"
      ]
     },
     "execution_count": 17,
     "metadata": {},
     "output_type": "execute_result"
    }
   ],
   "source": [
    "df[\"class\"].value_counts()"
   ]
  },
  {
   "cell_type": "code",
   "execution_count": 18,
   "metadata": {},
   "outputs": [
    {
     "data": {
      "text/plain": [
       "menopause\n",
       "premeno'    149\n",
       "ge40'       123\n",
       "lt40'         5\n",
       "Name: count, dtype: int64"
      ]
     },
     "execution_count": 18,
     "metadata": {},
     "output_type": "execute_result"
    }
   ],
   "source": [
    "df[\"menopause\"].value_counts()"
   ]
  },
  {
   "cell_type": "code",
   "execution_count": 19,
   "metadata": {},
   "outputs": [],
   "source": [
    "df.drop([\"age\"],axis = 1,inplace = True)"
   ]
  },
  {
   "cell_type": "code",
   "execution_count": 20,
   "metadata": {},
   "outputs": [
    {
     "data": {
      "text/html": [
       "<div>\n",
       "<style scoped>\n",
       "    .dataframe tbody tr th:only-of-type {\n",
       "        vertical-align: middle;\n",
       "    }\n",
       "\n",
       "    .dataframe tbody tr th {\n",
       "        vertical-align: top;\n",
       "    }\n",
       "\n",
       "    .dataframe thead th {\n",
       "        text-align: right;\n",
       "    }\n",
       "</style>\n",
       "<table border=\"1\" class=\"dataframe\">\n",
       "  <thead>\n",
       "    <tr style=\"text-align: right;\">\n",
       "      <th></th>\n",
       "      <th>menopause</th>\n",
       "      <th>inv-nodes</th>\n",
       "      <th>node-caps</th>\n",
       "      <th>deg-malig</th>\n",
       "      <th>breast</th>\n",
       "      <th>breast-quad</th>\n",
       "      <th>irradiate</th>\n",
       "      <th>class</th>\n",
       "      <th>min_age</th>\n",
       "      <th>max_age</th>\n",
       "      <th>max_tumer_size</th>\n",
       "      <th>min_tumer_size</th>\n",
       "    </tr>\n",
       "  </thead>\n",
       "  <tbody>\n",
       "    <tr>\n",
       "      <th>0</th>\n",
       "      <td>premeno'</td>\n",
       "      <td>0-2'</td>\n",
       "      <td>yes'</td>\n",
       "      <td>3'</td>\n",
       "      <td>right'</td>\n",
       "      <td>left_up'</td>\n",
       "      <td>no'</td>\n",
       "      <td>recurrence-events'</td>\n",
       "      <td>40</td>\n",
       "      <td>49'</td>\n",
       "      <td>19'</td>\n",
       "      <td>15</td>\n",
       "    </tr>\n",
       "    <tr>\n",
       "      <th>1</th>\n",
       "      <td>ge40'</td>\n",
       "      <td>0-2'</td>\n",
       "      <td>no'</td>\n",
       "      <td>1'</td>\n",
       "      <td>right'</td>\n",
       "      <td>central'</td>\n",
       "      <td>no'</td>\n",
       "      <td>no-recurrence-events'</td>\n",
       "      <td>50</td>\n",
       "      <td>59'</td>\n",
       "      <td>19'</td>\n",
       "      <td>15</td>\n",
       "    </tr>\n",
       "  </tbody>\n",
       "</table>\n",
       "</div>"
      ],
      "text/plain": [
       "  menopause inv-nodes node-caps deg-malig  breast breast-quad irradiate  \\\n",
       "0  premeno'      0-2'      yes'        3'  right'    left_up'       no'   \n",
       "1     ge40'      0-2'       no'        1'  right'    central'       no'   \n",
       "\n",
       "                   class min_age max_age max_tumer_size min_tumer_size  \n",
       "0     recurrence-events'      40     49'            19'             15  \n",
       "1  no-recurrence-events'      50     59'            19'             15  "
      ]
     },
     "execution_count": 20,
     "metadata": {},
     "output_type": "execute_result"
    }
   ],
   "source": [
    "df.head(2)"
   ]
  },
  {
   "cell_type": "code",
   "execution_count": 21,
   "metadata": {},
   "outputs": [
    {
     "data": {
      "text/plain": [
       "<Axes: xlabel='deg-malig', ylabel='Count'>"
      ]
     },
     "execution_count": 21,
     "metadata": {},
     "output_type": "execute_result"
    },
    {
     "data": {
      "image/png": "[encoded data removed]",
      "text/plain": [
       "<Figure size 640x480 with 1 Axes>"
      ]
     },
     "metadata": {},
     "output_type": "display_data"
    }
   ],
   "source": [
    "sns.histplot(df[\"deg-malig\"])"
   ]
  },
  {
   "cell_type": "code",
   "execution_count": 25,
   "metadata": {},
   "outputs": [
    {
     "name": "stdout",
     "output_type": "stream",
     "text": [
      "<class 'pandas.core.frame.DataFrame'>\n",
      "Index: 277 entries, 0 to 285\n",
      "Data columns (total 12 columns):\n",
      " #   Column          Non-Null Count  Dtype \n",
      "---  ------          --------------  ----- \n",
      " 0   menopause       277 non-null    object\n",
      " 1   inv-nodes       277 non-null    object\n",
      " 2   node-caps       277 non-null    object\n",
      " 3   deg-malig       277 non-null    object\n",
      " 4   breast          277 non-null    object\n",
      " 5   breast-quad     277 non-null    object\n",
      " 6   irradiate       277 non-null    object\n",
      " 7   class           277 non-null    object\n",
      " 8   min_age         277 non-null    object\n",
      " 9   max_age         277 non-null    object\n",
      " 10  max_tumer_size  277 non-null    object\n",
      " 11  min_tumer_size  277 non-null    object\n",
      "dtypes: object(12)\n",
      "memory usage: 28.1+ KB\n"
     ]
    }
   ],
   "source": [
    "df.info()"
   ]
  },
  {
   "cell_type": "code",
   "execution_count": 26,
   "metadata": {},
   "outputs": [],
   "source": [
    "from sklearn.model_selection import train_test_split"
   ]
  },
  {
   "cell_type": "code",
   "execution_count": null,
   "metadata": {},
   "outputs": [],
   "source": []
  },
  {
   "cell_type": "code",
   "execution_count": null,
   "metadata": {},
   "outputs": [],
   "source": []
  }
 ],
 "metadata": {
  "kernelspec": {
   "display_name": "Python 3",
   "language": "python",
   "name": "python3"
  },
  "language_info": {
   "codemirror_mode": {
    "name": "ipython",
    "version": 3
   },
   "file_extension": ".py",
   "mimetype": "text/x-python",
   "name": "python",
   "nbconvert_exporter": "python",
   "pygments_lexer": "ipython3",
   "version": "3.11.3"
  }
 },
 "nbformat": 4,
 "nbformat_minor": 2
}
