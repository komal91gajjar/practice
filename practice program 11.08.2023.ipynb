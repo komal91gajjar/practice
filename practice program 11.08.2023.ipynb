{
 "cells": [
  {
   "cell_type": "code",
   "execution_count": 3,
   "id": "cdd397f6",
   "metadata": {},
   "outputs": [
    {
     "name": "stdout",
     "output_type": "stream",
     "text": [
      "enter a number:12\n",
      "enter a number:24\n",
      "12\n"
     ]
    }
   ],
   "source": [
    "# 16.User will provide 2 numbers you have to find the HCF of those 2 numbers\n",
    "\n",
    "user = int(input(\"enter a number:\"))\n",
    "user1 = int(input(\"enter a number:\"))\n",
    "\n",
    "def highest_common_factor(user,user1):\n",
    "    while user1:\n",
    "        user,user1 = user1, user % user1\n",
    "    return user\n",
    "\n",
    "HCF = highest_common_factor(user,user1)\n",
    "print(HCF)"
   ]
  },
  {
   "cell_type": "code",
   "execution_count": null,
   "id": "b60701ba",
   "metadata": {},
   "outputs": [],
   "source": []
  },
  {
   "cell_type": "code",
   "execution_count": 16,
   "id": "b7c0bd53",
   "metadata": {},
   "outputs": [
    {
     "name": "stdout",
     "output_type": "stream",
     "text": [
      "enter a number: 12\n",
      "enter a number: 24\n",
      "24\n"
     ]
    }
   ],
   "source": [
    "# 17.User will provide 2 numbers you have to find the by LCM of those 2 numbers\n",
    "\n",
    "user = int(input(\"enter a number: \"))\n",
    "user1 = int(input(\"enter a number: \"))\n",
    "\n",
    "def greatest_common_divisor(a, b):\n",
    "    while b:\n",
    "        a, b = b, a % b\n",
    "    return a\n",
    "\n",
    "def least_common_multiple(a, b):\n",
    "    return (a * b) // greatest_common_divisor(a, b)\n",
    "\n",
    "LCM = least_common_multiple(user, user1)\n",
    "print(LCM)\n",
    "\n"
   ]
  },
  {
   "cell_type": "code",
   "execution_count": 22,
   "id": "698bc15e",
   "metadata": {},
   "outputs": [
    {
     "name": "stdout",
     "output_type": "stream",
     "text": [
      "Enter a number: 12\n",
      "Factorial of 12 is 479001600\n"
     ]
    }
   ],
   "source": [
    "# 10.Write a program that can find the factorial of a given number provided by the user.\n",
    "\n",
    "user_input = int(input(\"Enter a number: \"))\n",
    "\n",
    "def factorial(n):\n",
    "    if n == 0 or n == 1:\n",
    "        return 1\n",
    "    else:\n",
    "        return n * factorial(n - 1)\n",
    "\n",
    "if user_input < 0:\n",
    "    print(\"Factorial is not defined for negative numbers.\")\n",
    "else:\n",
    "    result = factorial(user_input)\n",
    "    print(\"Factorial of\", user_input, \"is\", result)\n",
    "\n"
   ]
  },
  {
   "cell_type": "code",
   "execution_count": 18,
   "id": "51d13fa3",
   "metadata": {},
   "outputs": [
    {
     "name": "stdout",
     "output_type": "stream",
     "text": [
      "Armstrong numbers in the range of 100 to 1000 are:\n",
      "153\n",
      "370\n",
      "371\n",
      "407\n"
     ]
    }
   ],
   "source": [
    "# 13.Print all the Armstrong numbers in the range of 100 to 1000\n",
    "\n",
    "def is_armstrong(number):\n",
    "    num_str = str(number)\n",
    "    num_digits = len(num_str)\n",
    "    sum_of_digits_powered = sum(int(digit) ** num_digits for digit in num_str)\n",
    "    return number == sum_of_digits_powered\n",
    "\n",
    "lower_limit = 100\n",
    "upper_limit = 1000\n",
    "\n",
    "print(\"Armstrong numbers in the range of\", lower_limit, \"to\", upper_limit, \"are:\")\n",
    "for num in range(lower_limit, upper_limit + 1):\n",
    "    if is_armstrong(num):\n",
    "        print(num)\n"
   ]
  },
  {
   "cell_type": "code",
   "execution_count": 19,
   "id": "8a29c99c",
   "metadata": {},
   "outputs": [
    {
     "name": "stdout",
     "output_type": "stream",
     "text": [
      "enter a number:1\n",
      "enter a number:2\n",
      "enter a number:3\n",
      "1 2 3\n",
      "1 3 2\n",
      "2 1 3\n",
      "2 3 1\n",
      "3 1 2\n",
      "3 2 1\n"
     ]
    }
   ],
   "source": [
    "# 15.Write a program to print all the unique combinations of 1,2,3 and 4\n",
    "\n",
    "user = int(input(\"enter a number:\"))\n",
    "user1 = int(input(\"enter a number:\"))\n",
    "user2 = int(input(\"enter a number:\"))\n",
    "\n",
    "def combine(a):\n",
    "    a = [user,user1,user2]\n",
    "    \n",
    "    a.append(user)\n",
    "    a.append(user1)\n",
    "    a.append(user2)\n",
    "    \n",
    "    for i in range (3):\n",
    "        for j in range (3):\n",
    "            for k in range (3):\n",
    "                if i!=j and j!=k and i!=k:  \n",
    "                    print(a[i], a[j], a[k])  \n",
    "                      \n",
    "combine(a)\n",
    "    \n"
   ]
  },
  {
   "cell_type": "code",
   "execution_count": 45,
   "id": "b2350e74",
   "metadata": {},
   "outputs": [
    {
     "name": "stdout",
     "output_type": "stream",
     "text": [
      "enter a number:12\n",
      "21\n"
     ]
    }
   ],
   "source": [
    "# 1.Find the reverse of a number provided by the user (any number of digit)\n",
    "\n",
    "user = int(input(\"enter a number:\"))\n",
    "\n",
    "\n",
    "def reverse_number(no):\n",
    "    rev_num = 0\n",
    "    while no != 0:\n",
    "        last_digit = no % 10\n",
    "        rev_num = rev_num * 10 + last_digit\n",
    "        no //= 10\n",
    "    return rev_num\n",
    "        \n",
    "        \n",
    "result = reverse_number(user)\n",
    "print(result)\n",
    "\n",
    "\n"
   ]
  },
  {
   "cell_type": "code",
   "execution_count": 47,
   "id": "ee0ada9d",
   "metadata": {},
   "outputs": [
    {
     "name": "stdout",
     "output_type": "stream",
     "text": [
      "Enter a number: 12453\n",
      "The number of digits in 12453 is 5\n"
     ]
    }
   ],
   "source": [
    "# 22.Take a number from the user and find the number of digits in it. \n",
    "\n",
    "user = int(input(\"Enter a number: \"))\n",
    "\n",
    "def count_digits(number):\n",
    "    if number == 0:\n",
    "        return 1  # Special case for the number 0\n",
    "    count = 0\n",
    "    while number != 0:\n",
    "        number //= 10\n",
    "        count += 1\n",
    "    return count\n",
    "\n",
    "result = count_digits(user)\n",
    "print(\"The number of digits in\", user, \"is\", result)\n"
   ]
  },
  {
   "cell_type": "code",
   "execution_count": 50,
   "id": "0801c5cd",
   "metadata": {},
   "outputs": [
    {
     "name": "stdout",
     "output_type": "stream",
     "text": [
      "Enter a number (n): 10\n",
      "The sum of the first 10 numbers is 55\n"
     ]
    }
   ],
   "source": [
    "# 8.Write a program to find the sum of first n numbers, where n will be provided by the user. \n",
    "#E.g. if the user provides n=10 the output should be 55.\n",
    "\n",
    "\n",
    "user = int(input(\"Enter a number (n): \"))\n",
    "\n",
    "def sum_of_first_n_numbers(user):\n",
    "    return n * (n + 1) // 2\n",
    "\n",
    "result = sum_of_first_n_numbers(user)\n",
    "print(\"The sum of the first\", user, \"numbers is\", result)\n",
    "\n",
    "\n"
   ]
  },
  {
   "cell_type": "code",
   "execution_count": 56,
   "id": "ce89aed6",
   "metadata": {},
   "outputs": [
    {
     "name": "stdout",
     "output_type": "stream",
     "text": [
      "Menu:\n",
      "1. Convert cm to ft\n",
      "2. Convert kl to miles\n",
      "3. Convert USD to INR\n",
      "4. Exit\n",
      "Enter your choice: 4\n",
      "Exit.\n"
     ]
    }
   ],
   "source": [
    "# 5.Write a menu driven program - 1.cm to ft. 2. kl to miles 3.usd to in 4. exit\n",
    "\n",
    "def cm_to_ft(cm):\n",
    "    return cm / 30.48\n",
    "\n",
    "def kl_to_miles(kl):\n",
    "    return kl * 0.621371\n",
    "\n",
    "def usd_to_inr(usd):\n",
    "    return usd * 74.16  # Exchange rate is assumed for demonstration\n",
    "\n",
    "while True:\n",
    "    print(\"Menu:\")\n",
    "    print(\"1. Convert cm to ft\")\n",
    "    print(\"2. Convert kl to miles\")\n",
    "    print(\"3. Convert USD to INR\")\n",
    "    print(\"4. Exit\")\n",
    "    \n",
    "    choice = int(input(\"Enter your choice: \"))\n",
    "    \n",
    "    if choice == 1:\n",
    "        cm = float(input(\"Enter distance in centimeters: \"))\n",
    "        feet = cm_to_ft(cm)\n",
    "        print(\"Distance in feet:\", feet)\n",
    "    elif choice == 2:\n",
    "        kl = float(input(\"Enter distance in kilometers: \"))\n",
    "        miles = kl_to_miles(kl)\n",
    "        print(\"Distance in miles:\", miles)\n",
    "    elif choice == 3:\n",
    "        usd = float(input(\"Enter amount in USD: \"))\n",
    "        inr = usd_to_inr(usd)\n",
    "        print(\"Amount in INR:\", inr)\n",
    "    elif choice == 4:\n",
    "        print(\"Exit.\")\n",
    "        break\n",
    "    else:\n",
    "        print(\"Invalid choice. Please select a valid option.\")\n"
   ]
  },
  {
   "cell_type": "code",
   "execution_count": 73,
   "id": "9195f0de",
   "metadata": {},
   "outputs": [
    {
     "name": "stdout",
     "output_type": "stream",
     "text": [
      "Enter the total number of heads: 4\n",
      "Enter the total number of legs: 2\n",
      "No valid solution found.\n"
     ]
    }
   ],
   "source": [
    "# 6.Write a program that will tell the number of dogs and chicken are there when the user will provide the value of total heads and legs.\n",
    "\n",
    "\n",
    "total_heads = int(input(\"Enter the total number of heads: \"))\n",
    "total_legs = int(input(\"Enter the total number of legs: \"))\n",
    "\n",
    "def find_dogs_and_chickens(total_heads, total_legs):\n",
    "    x = (total_legs - 2 * total_heads) / 2\n",
    "    y = total_heads - x\n",
    "    \n",
    "    return int(x), int(y)\n",
    "\n",
    "dogs, chickens = find_dogs_and_chickens(total_heads, total_legs)\n",
    "\n",
    "if dogs >= 0 and chickens >= 0 and dogs + chickens == total_heads:\n",
    "    print(\"Number of dogs:\", dogs)\n",
    "    print(\"Number of chickens:\", chickens)\n",
    "else:\n",
    "    print(\"No valid solution found.\")\n"
   ]
  },
  {
   "cell_type": "code",
   "execution_count": 74,
   "id": "204c22d0",
   "metadata": {},
   "outputs": [
    {
     "name": "stdout",
     "output_type": "stream",
     "text": [
      "Enter an integer (n): 5\n",
      "Result: 615\n"
     ]
    }
   ],
   "source": [
    "# 21.Write a Python program that accepts an integer (n) and computes the value of n+nn+nnn.\n",
    "\n",
    "user = int(input(\"Enter an integer (n): \"))\n",
    "\n",
    "nn = user * 10 + user\n",
    "nnn = user * 100 + nn\n",
    "\n",
    "result = user + nn + nnn\n",
    "print(\"Result:\", result)\n"
   ]
  },
  {
   "cell_type": "code",
   "execution_count": 81,
   "id": "759a440f",
   "metadata": {},
   "outputs": [
    {
     "name": "stdout",
     "output_type": "stream",
     "text": [
      "Enter your salary: 100000\n",
      "In-hand salary: 82000.0\n"
     ]
    }
   ],
   "source": [
    "# 1.Write a program that will give you the in hand salary after deduction of \n",
    "# HRA(10%),DA(5%),PF(3%),and tax (if salary is between 5-10 lakh–10%),(11-20lakh–20%),(20< _   – 30%),(0-1lakh print k).\n",
    "\n",
    "\n",
    "salary = float(input(\"Enter your salary: \"))\n",
    "\n",
    "def calculate_salary(salary):\n",
    "    hra = 0.10 * salary\n",
    "    da = 0.05 * salary\n",
    "    pf = 0.03 * salary\n",
    "    \n",
    "    taxable_income = salary - (hra + da + pf)\n",
    "    \n",
    "    if 0 <= taxable_income <= 100000:\n",
    "        tax = 0\n",
    "    elif 100001 <= taxable_income <= 500000:\n",
    "        tax = 0.10 * taxable_income\n",
    "    elif 500001 <= taxable_income <= 1000000:\n",
    "        tax = 0.20 * taxable_income\n",
    "    else:\n",
    "        tax = 0.30 * taxable_income\n",
    "        \n",
    "    in_hand_salary = salary - (hra + da + pf + tax)\n",
    "    return in_hand_salary\n",
    "\n",
    "\n",
    "in_hand_salary = calculate_salary(salary)\n",
    "print(\"In-hand salary:\", in_hand_salary)\n"
   ]
  },
  {
   "cell_type": "code",
   "execution_count": null,
   "id": "184d7165",
   "metadata": {},
   "outputs": [],
   "source": []
  },
  {
   "cell_type": "code",
   "execution_count": 77,
   "id": "0cfc3a78",
   "metadata": {},
   "outputs": [
    {
     "name": "stdout",
     "output_type": "stream",
     "text": [
      "1th year - 12968\n",
      "2th year - 11789\n",
      "3th year - 10717\n",
      "4th year - 9743\n",
      "5th year - 8857\n",
      "6th year - 8052\n",
      "7th year - 7320\n",
      "8th year - 6655\n",
      "9th year - 6050\n",
      "10th year - 5500\n"
     ]
    }
   ],
   "source": [
    "# 1.The current population of a town is 10000. The population of the town is increasing at the rate of 10% per year. \n",
    "#You have to write a program to find out the population at the end of each of the last 10 years. \n",
    "#For e.g. current population is 10000 so the output should be like this:\n",
    "#10th year - 10000\n",
    "#9th year - 9000\n",
    "#8th year - 8100 and so on\n",
    "\n",
    "\n",
    "current_population = 5000\n",
    "growth_rate = 0.10\n",
    "\n",
    "for year in range(10, 0, -1):\n",
    "    population = current_population * (1 + growth_rate) ** year\n",
    "    print(f\"{10 - year + 1}th year - {int(population)}\")\n"
   ]
  },
  {
   "cell_type": "code",
   "execution_count": null,
   "id": "cac7ce96",
   "metadata": {},
   "outputs": [],
   "source": []
  },
  {
   "cell_type": "code",
   "execution_count": null,
   "id": "11569a80",
   "metadata": {},
   "outputs": [],
   "source": []
  },
  {
   "cell_type": "code",
   "execution_count": null,
   "id": "5f0abe4b",
   "metadata": {},
   "outputs": [],
   "source": []
  }
 ],
 "metadata": {
  "kernelspec": {
   "display_name": "Python 3 (ipykernel)",
   "language": "python",
   "name": "python3"
  },
  "language_info": {
   "codemirror_mode": {
    "name": "ipython",
    "version": 3
   },
   "file_extension": ".py",
   "mimetype": "text/x-python",
   "name": "python",
   "nbconvert_exporter": "python",
   "pygments_lexer": "ipython3",
   "version": "3.9.12"
  }
 },
 "nbformat": 4,
 "nbformat_minor": 5
}
