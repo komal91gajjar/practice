{
 "cells": [
  {
   "cell_type": "markdown",
   "id": "20122d7e",
   "metadata": {},
   "source": [
    "# List"
   ]
  },
  {
   "cell_type": "code",
   "execution_count": 283,
   "id": "3e3ae47b",
   "metadata": {},
   "outputs": [
    {
     "name": "stdout",
     "output_type": "stream",
     "text": [
      "enter the no: 4\n",
      "enter the no: 13\n",
      "4\n",
      "6\n",
      "8\n",
      "10\n",
      "12\n"
     ]
    }
   ],
   "source": [
    "# Python program to print all even numbers in a range\n",
    "\n",
    "\n",
    "start_no =  int(input(\"enter the no: \"))\n",
    "end_no =  int(input(\"enter the no: \"))\n",
    "    \n",
    "for i in range(start_no, end_no +1 ):\n",
    "#     print(i)\n",
    "    if i % 2 == 0:\n",
    "        print(i)\n",
    "\n"
   ]
  },
  {
   "cell_type": "code",
   "execution_count": 281,
   "id": "7eb243c2",
   "metadata": {},
   "outputs": [
    {
     "name": "stdout",
     "output_type": "stream",
     "text": [
      "4\n",
      "6\n",
      "8\n",
      "10\n"
     ]
    }
   ],
   "source": [
    "for i in range(3,12):\n",
    "    if i%2 ==0:\n",
    "        print(i)"
   ]
  },
  {
   "cell_type": "code",
   "execution_count": 276,
   "id": "9ca65306",
   "metadata": {},
   "outputs": [
    {
     "name": "stdout",
     "output_type": "stream",
     "text": [
      "4 6 8 10 12 14 16 18 20 "
     ]
    }
   ],
   "source": [
    "start = 4\n",
    "end = 20\n",
    "\n",
    "for i in range(start,end + 1):\n",
    "    if i % 2 == 0:\n",
    "        print(i, end = \" \")"
   ]
  },
  {
   "cell_type": "code",
   "execution_count": 10,
   "id": "9e82b214",
   "metadata": {},
   "outputs": [
    {
     "name": "stdout",
     "output_type": "stream",
     "text": [
      "5 7 9 11 13 15 17 19 "
     ]
    }
   ],
   "source": [
    "# Python program to print all odd numbers in a range\n",
    "\n",
    "start = 4\n",
    "end = 20\n",
    "\n",
    "for i in range(start,end + 1):\n",
    "    if i % 2 != 0:\n",
    "        print(i,end = \" \")"
   ]
  },
  {
   "cell_type": "code",
   "execution_count": 14,
   "id": "aec8dcaa",
   "metadata": {},
   "outputs": [
    {
     "name": "stdout",
     "output_type": "stream",
     "text": [
      "enter start no: 4\n",
      "enter end no: 20\n",
      "5 7 9 11 13 15 17 19 "
     ]
    }
   ],
   "source": [
    "start_no: int(input(\"enter start no: \"))\n",
    "end_no: int(input(\"enter end no: \"))\n",
    "    \n",
    "for i in range(start_no, end_no + 1):\n",
    "    if i % 2 != 0:\n",
    "        print(i,end = \" \")\n",
    "    \n"
   ]
  },
  {
   "cell_type": "code",
   "execution_count": 28,
   "id": "e71a550b",
   "metadata": {},
   "outputs": [
    {
     "name": "stdout",
     "output_type": "stream",
     "text": [
      "even_no 3\n",
      "odd_no 2\n"
     ]
    }
   ],
   "source": [
    "# Python program to count Even and Odd numbers in a List\n",
    "\n",
    "list1 = [2, 7, 5, 64, 14]\n",
    "\n",
    "even_no, odd_no = 0,0\n",
    "\n",
    "for i in list1:\n",
    "    if i % 2 == 0:\n",
    "        even_no += 1\n",
    "    else:\n",
    "        odd_no += 1\n",
    "        \n",
    "print(\"even_no\",even_no) \n",
    "print(\"odd_no\",odd_no)"
   ]
  },
  {
   "cell_type": "code",
   "execution_count": 29,
   "id": "7af96134",
   "metadata": {},
   "outputs": [
    {
     "name": "stdout",
     "output_type": "stream",
     "text": [
      "even_no:  3\n",
      "odd_no:  4\n"
     ]
    }
   ],
   "source": [
    "lst = [10, 21, 4, 45, 66, 93, 1]\n",
    "\n",
    "even_no,odd_no = 0,0\n",
    "\n",
    "for i in lst:\n",
    "    if i % 2 == 0:\n",
    "        even_no += 1\n",
    "    else:\n",
    "        odd_no += 1\n",
    "        \n",
    "print(\"even_no: \", even_no)\n",
    "print(\"odd_no: \",odd_no)"
   ]
  },
  {
   "cell_type": "code",
   "execution_count": 37,
   "id": "9126e054",
   "metadata": {},
   "outputs": [
    {
     "name": "stdout",
     "output_type": "stream",
     "text": [
      "[12, 5, 64]\n"
     ]
    }
   ],
   "source": [
    "# Python program to print positive numbers in a list\n",
    "\n",
    "list1 = [12, -7, 5, 64, -14]\n",
    "\n",
    "res = []\n",
    "\n",
    "for i in list1:\n",
    "    if i > 0:\n",
    "        res.append(i)\n",
    "print(res)"
   ]
  },
  {
   "cell_type": "code",
   "execution_count": 39,
   "id": "c3587b59",
   "metadata": {},
   "outputs": [
    {
     "name": "stdout",
     "output_type": "stream",
     "text": [
      "[-7, -14]\n"
     ]
    }
   ],
   "source": [
    "# Python program to print negative numbers in a list\n",
    "\n",
    "list1 = [12, -7, 5, 64, -14]\n",
    "\n",
    "res = []\n",
    "\n",
    "for i in list1:\n",
    "    if i < 0:\n",
    "        res.append(i)\n",
    "print(res)"
   ]
  },
  {
   "cell_type": "code",
   "execution_count": 45,
   "id": "c924c5ee",
   "metadata": {},
   "outputs": [
    {
     "name": "stdout",
     "output_type": "stream",
     "text": [
      "0 1 2 3 4 5 "
     ]
    }
   ],
   "source": [
    "# Python program to print all positive numbers in a range\n",
    "\n",
    "start = -4\n",
    "end = 5\n",
    "\n",
    "for i in range(start,end + 1):\n",
    "    if i >= 0:\n",
    "        print(i ,end = \" \")"
   ]
  },
  {
   "cell_type": "code",
   "execution_count": 56,
   "id": "b298a857",
   "metadata": {},
   "outputs": [
    {
     "name": "stdout",
     "output_type": "stream",
     "text": [
      "enter no: -4\n",
      "enter no: 5\n",
      "0 1 2 3 4 5 "
     ]
    }
   ],
   "source": [
    "start_no = int(input(\"enter no: \"))\n",
    "end_no = int(input(\"enter no: \"))\n",
    "\n",
    "for i in range(start_no,end_no + 1):\n",
    "    if i >= 0:\n",
    "        print(i,end = \" \")\n",
    "        \n"
   ]
  },
  {
   "cell_type": "code",
   "execution_count": 59,
   "id": "557a88c9",
   "metadata": {},
   "outputs": [
    {
     "name": "stdout",
     "output_type": "stream",
     "text": [
      "-10 -9 -8 -7 -6 -5 -4 -3 -2 -1 0 "
     ]
    }
   ],
   "source": [
    "# Python program to print all negative numbers in a range\n",
    "\n",
    "start = -10\n",
    "end = 10\n",
    "\n",
    "for i in range(start,end + 1):\n",
    "    if i <= 0:\n",
    "        print(i, end = \" \")"
   ]
  },
  {
   "cell_type": "code",
   "execution_count": 284,
   "id": "597823f0",
   "metadata": {},
   "outputs": [
    {
     "name": "stdout",
     "output_type": "stream",
     "text": [
      "enter no: 0\n",
      "enter no: 12\n"
     ]
    }
   ],
   "source": [
    "start_no = int(input(\"enter no: \"))\n",
    "end_no = int(input(\"enter no: \"))\n",
    "\n",
    "for i in range(start_no,end_no):\n",
    "    if i < 0:\n",
    "        print(i,end = \" \")"
   ]
  },
  {
   "cell_type": "code",
   "execution_count": 285,
   "id": "d93f9701",
   "metadata": {},
   "outputs": [
    {
     "name": "stdout",
     "output_type": "stream",
     "text": [
      "positive_no:  5\n",
      "nagetive_no:  4\n"
     ]
    }
   ],
   "source": [
    "# Python program to count positive and negative numbers in a list\n",
    "\n",
    "list1 = [2, -7, 5, -64, -14, -12, 14, 95, 3]\n",
    "\n",
    "positive_no,nagetive_no = 0,0\n",
    "\n",
    "for i in list1:\n",
    "    if i > 0:\n",
    "        positive_no += 1\n",
    "    else:\n",
    "        nagetive_no += 1\n",
    "print(\"positive_no: \", positive_no)\n",
    "print(\"nagetive_no: \", nagetive_no)"
   ]
  },
  {
   "cell_type": "code",
   "execution_count": 299,
   "id": "d60fbf9e",
   "metadata": {},
   "outputs": [
    {
     "name": "stdout",
     "output_type": "stream",
     "text": [
      "[12, 3]\n",
      "[15, 10]\n"
     ]
    }
   ],
   "source": [
    "# Remove multiple elements from a list in Python\n",
    "\n",
    "lst = [12, 15, 3, 10]\n",
    "\n",
    "new_list = []\n",
    "\n",
    "result =  lst[::2]\n",
    "print(result)\n",
    "\n",
    "for i in lst:\n",
    "    if i not in result:\n",
    "        new_list.append(i)\n",
    "\n",
    "print(new_list)\n"
   ]
  },
  {
   "cell_type": "code",
   "execution_count": 300,
   "id": "cf7d05d5",
   "metadata": {},
   "outputs": [
    {
     "name": "stdout",
     "output_type": "stream",
     "text": [
      "[15, 10]\n"
     ]
    }
   ],
   "source": [
    "new_list = [i for i in lst if i not in result]\n",
    "print(new_list)"
   ]
  },
  {
   "cell_type": "code",
   "execution_count": 305,
   "id": "60609251",
   "metadata": {},
   "outputs": [
    {
     "name": "stdout",
     "output_type": "stream",
     "text": [
      "[12, 90]\n",
      "[15, 25]\n"
     ]
    }
   ],
   "source": [
    "lst = [12,15,90,25]\n",
    "\n",
    "\n",
    "remove_list = lst[::2]\n",
    "print(remove_list)\n",
    "\n",
    "new_list = []\n",
    "\n",
    "for i in lst:\n",
    "    if i not in remove_list:\n",
    "        new_list.append(i)\n",
    "        \n",
    "print(new_list)"
   ]
  },
  {
   "cell_type": "code",
   "execution_count": 94,
   "id": "1e9fda0e",
   "metadata": {},
   "outputs": [
    {
     "name": "stdout",
     "output_type": "stream",
     "text": [
      "[('ram', '15', '8'), ('laxman', 'sita'), ('krishna', 'akbar', '45'), (' ', ' ')]\n"
     ]
    }
   ],
   "source": [
    "# Python | Remove empty tuples from a list\n",
    "\n",
    "tuples = [(), (\"ram\",\"15\",\"8\"), (), (\"laxman\", \"sita\"), (\"krishna\", \"akbar\", \"45\"), (\" \",\" \"),()]\n",
    "\n",
    "for i in tuples:\n",
    "    if len(i)==0:\n",
    "        tuples.remove(i)\n",
    "print(tuples)\n",
    "\n"
   ]
  },
  {
   "cell_type": "code",
   "execution_count": 96,
   "id": "7f5fda8c",
   "metadata": {},
   "outputs": [
    {
     "name": "stdout",
     "output_type": "stream",
     "text": [
      "[10, 20, 30, 40, 50, -20, 60]\n",
      "[20, 30, -20, 60]\n"
     ]
    }
   ],
   "source": [
    "# Python | Program to print duplicates from a list of integers\n",
    "\n",
    "lst = [10, 20, 30, 20, 20, 30, 40, 50, -20, 60, 60, -20, -20]\n",
    "\n",
    "x=[]\n",
    "y = []\n",
    "\n",
    "for i in lst:\n",
    "    if i not in x:\n",
    "        x.append(i)\n",
    "print(x)\n",
    "\n",
    "for i in x:\n",
    "    if lst.count(i) > 1:\n",
    "        y.append(i)\n",
    "print(y)"
   ]
  },
  {
   "cell_type": "code",
   "execution_count": 100,
   "id": "e3361f48",
   "metadata": {},
   "outputs": [
    {
     "name": "stdout",
     "output_type": "stream",
     "text": [
      "['gfg', 'is', 'best', 'for', 'geeks']\n"
     ]
    }
   ],
   "source": [
    "# Removing newline character from string in Python\n",
    "\n",
    "test_list = ['gf\\ng', 'i\\ns', 'b\\nest', 'fo\\nr', 'geeks\\n']\n",
    "# print(test_list)\n",
    "\n",
    "res = []\n",
    "\n",
    "for i in test_list:\n",
    "    res.append(i.replace(\"\\n\",\"\"))\n",
    "print(res)"
   ]
  },
  {
   "cell_type": "code",
   "execution_count": 105,
   "id": "2f92b321",
   "metadata": {},
   "outputs": [
    {
     "name": "stdout",
     "output_type": "stream",
     "text": [
      "-1\n",
      "0\n",
      "1\n",
      "[-1, 0, 1]\n"
     ]
    }
   ],
   "source": [
    "# Python | Create list of numbers with given range\n",
    "\n",
    "r1 = -1\n",
    "r2 = 1\n",
    "\n",
    "res = []\n",
    "\n",
    "for i in range(r1,r2+1):\n",
    "    print(i)\n",
    "    res.append(i)\n",
    "print(res)\n"
   ]
  },
  {
   "cell_type": "code",
   "execution_count": 113,
   "id": "3edd5528",
   "metadata": {},
   "outputs": [
    {
     "name": "stdout",
     "output_type": "stream",
     "text": [
      "['1', ' 2', ' 3', ' 4', ' 5']\n"
     ]
    }
   ],
   "source": [
    "# Python | Convert a string representation of list into list\n",
    "\n",
    "ini_list = \"[1, 2, 3, 4, 5]\"\n",
    "\n",
    "res = ini_list.strip(\"][\").split(\",\")\n",
    "print(res)"
   ]
  },
  {
   "cell_type": "markdown",
   "id": "c92966e0",
   "metadata": {},
   "source": [
    "# Tuple"
   ]
  },
  {
   "cell_type": "code",
   "execution_count": 306,
   "id": "ec4f7ede",
   "metadata": {},
   "outputs": [
    {
     "name": "stdout",
     "output_type": "stream",
     "text": [
      "{1, 2, 3, 5}\n",
      "(1, 2, 3, 5)\n"
     ]
    }
   ],
   "source": [
    "# Python | Removing duplicates from tuple\n",
    "\n",
    "test_tup = (1, 3, 5, 2, 3, 5, 1, 1, 3)\n",
    "\n",
    "result = set(test_tup)\n",
    "print(result)\n",
    "print(tuple(result))"
   ]
  },
  {
   "cell_type": "code",
   "execution_count": 136,
   "id": "5f3060e4",
   "metadata": {},
   "outputs": [
    {
     "name": "stdout",
     "output_type": "stream",
     "text": [
      "([4, 7, 8], [1, 2, 3], [4, 7, 8], [9, 10, 11], [1, 2, 3])\n",
      "[[4, 7, 8], [1, 2, 3], [9, 10, 11]]\n"
     ]
    }
   ],
   "source": [
    "# Python | Remove duplicate lists in tuples (Preserving Order)\n",
    "\n",
    "test_tup = ([4, 7, 8], [1, 2, 3], [4, 7, 8], [9, 10, 11], [1, 2, 3])\n",
    "\n",
    "r = str(test_tup)\n",
    "print(r)\n",
    "\n",
    "temp = set()\n",
    "\n",
    "res = [ele for ele in test_tup if not(tuple(ele) in temp or temp.add(tuple(ele)))]\n",
    "print(res)\n",
    "     "
   ]
  },
  {
   "cell_type": "code",
   "execution_count": 137,
   "id": "69e14746",
   "metadata": {},
   "outputs": [
    {
     "name": "stdout",
     "output_type": "stream",
     "text": [
      "[[4, 7, 8], [1, 2, 3], [9, 10, 11]]\n"
     ]
    }
   ],
   "source": [
    "test_tup = ([4, 7, 8], [1, 2, 3], [4, 7, 8], [9, 10, 11], [1, 2, 3])\n",
    "\n",
    "res = []\n",
    "\n",
    "for i in test_tup:\n",
    "    if i not in res:\n",
    "        res.append(i)\n",
    "        \n",
    "print(res)"
   ]
  },
  {
   "cell_type": "code",
   "execution_count": 145,
   "id": "d44b7de7",
   "metadata": {},
   "outputs": [
    {
     "name": "stdout",
     "output_type": "stream",
     "text": [
      "15339\n",
      "[9, 5, 3, 1]\n",
      "[1, 3, 5, 9]\n"
     ]
    }
   ],
   "source": [
    "# Python – Extract digits from Tuple list\n",
    "\n",
    "test_list = [(15, 3), (3, 9)] \n",
    "\n",
    "x = \"\" \n",
    "\n",
    "for i in test_list:\n",
    "    for j in i:\n",
    "        x+= str(j)\n",
    "print(x)\n",
    "\n",
    "res = list(map(int,set(x)))\n",
    "print(res)\n",
    "print(sorted(res))"
   ]
  },
  {
   "cell_type": "code",
   "execution_count": 152,
   "id": "7beba9c2",
   "metadata": {},
   "outputs": [
    {
     "name": "stdout",
     "output_type": "stream",
     "text": [
      "[' ', '1', '3', '5']\n"
     ]
    }
   ],
   "source": [
    "test_list = [(15, 3)] \n",
    "\n",
    "y = \" \"\n",
    "\n",
    "for i in test_list:\n",
    "    for j in i:\n",
    "        y+= str(j)\n",
    "print(sorted(list(y)))\n"
   ]
  },
  {
   "cell_type": "code",
   "execution_count": 156,
   "id": "d7be39d7",
   "metadata": {},
   "outputs": [
    {
     "name": "stdout",
     "output_type": "stream",
     "text": [
      "15339110992\n",
      "[5, 3, 1, 2, 0, 9]\n",
      "[0, 1, 2, 3, 5, 9]\n"
     ]
    }
   ],
   "source": [
    "test_list = [(15, 3), (3, 9), (1, 10), (99, 2)]\n",
    "\n",
    "x = \"\"\n",
    "\n",
    "for i in test_list:\n",
    "    for j in i:\n",
    "        x+=str(j)\n",
    "print(x)\n",
    "\n",
    "res = list(map(int,set(x)))\n",
    "print(res)\n",
    "print(sorted(res))"
   ]
  },
  {
   "cell_type": "code",
   "execution_count": 163,
   "id": "4049c527",
   "metadata": {},
   "outputs": [
    {
     "name": "stdout",
     "output_type": "stream",
     "text": [
      "(7, 3)\n"
     ]
    }
   ],
   "source": [
    "# Python – Cross Pairing in Tuple List\n",
    "\n",
    "test_list1 = [(1, 7), (6, 7), (8, 100), (4, 21)]\n",
    "test_list2 = [(1, 3), (2, 1), (9, 7), (2, 17)] \n",
    "\n",
    "\n",
    "for i in test_list1:\n",
    "    for j in test_list2:\n",
    "        if i[0] == j[0]:\n",
    "            result = i[1],j[1]\n",
    "            print(result)\n",
    "\n"
   ]
  },
  {
   "cell_type": "code",
   "execution_count": 167,
   "id": "708e3c2d",
   "metadata": {},
   "outputs": [
    {
     "name": "stdout",
     "output_type": "stream",
     "text": [
      "(7, 3)\n",
      "(100, 7)\n"
     ]
    }
   ],
   "source": [
    "test_list1 = [(1, 7), (6, 7), (9, 100), (4, 21)]\n",
    "test_list2 = [(1, 3), (2, 1), (9, 7), (2, 17)]\n",
    "\n",
    "for i in test_list1:\n",
    "    for j in test_list2:\n",
    "        if i[0] == j[0]:\n",
    "            result = i[1],j[1]\n",
    "            print(result)"
   ]
  },
  {
   "cell_type": "code",
   "execution_count": 185,
   "id": "67cbd495",
   "metadata": {},
   "outputs": [
    {
     "name": "stdout",
     "output_type": "stream",
     "text": [
      "[2, 4, 5]\n"
     ]
    }
   ],
   "source": [
    "# Python – Consecutive Kth column Difference in Tuple List\n",
    "\n",
    "#test_list = [(5, 4, 2), (1, 3, 4), (5, 7, 8), (7, 4, 3)]\n",
    "test_list = [(5, 4, 2), (1, 3, 4), (5, 7, 8), (7, 4, 3)]\n",
    "\n",
    "\n",
    "k = 2\n",
    "res = []\n",
    "\n",
    "for i in range(0,len(test_list)-1):\n",
    "    res.append(abs(test_list[i][k]-test_list[i+1][k]))\n",
    "    \n",
    "print(res)"
   ]
  },
  {
   "cell_type": "code",
   "execution_count": 194,
   "id": "24a5b3f5",
   "metadata": {},
   "outputs": [
    {
     "name": "stdout",
     "output_type": "stream",
     "text": [
      "[5, 6, 3, 8]\n",
      "(5, 6, 3, 8)\n"
     ]
    }
   ],
   "source": [
    "# Python – Flatten tuple of List to tuple\n",
    "\n",
    "test_tuple = ([5], [6], [3], [8]) \n",
    "\n",
    "count = sum(test_tuple,[])\n",
    "print(count)\n",
    "\n",
    "print(tuple(count))"
   ]
  },
  {
   "cell_type": "code",
   "execution_count": 196,
   "id": "e3f9acee",
   "metadata": {},
   "outputs": [
    {
     "name": "stdout",
     "output_type": "stream",
     "text": [
      "[5, 6, 6, 7, 8, 9, 3]\n",
      "(5, 6, 6, 7, 8, 9, 3)\n"
     ]
    }
   ],
   "source": [
    "test_tuple = ([5, 6], [6, 7, 8, 9], [3])\n",
    "\n",
    "count = sum(test_tuple,[])\n",
    "print(count)\n",
    "\n",
    "print(tuple(count))\n",
    " "
   ]
  },
  {
   "cell_type": "code",
   "execution_count": 208,
   "id": "a088b383",
   "metadata": {},
   "outputs": [
    {
     "name": "stdout",
     "output_type": "stream",
     "text": [
      "('1', '4', '6', '5', '8', '2', '9', '1', '10')\n",
      "1465829110\n"
     ]
    }
   ],
   "source": [
    "# Python | Flatten Tuples List to String\n",
    "\n",
    "test_list = [('1', '4', '6'), ('5', '8'), ('2', '9'), ('1', '10')]\n",
    "\n",
    "count = sum(test_list,())\n",
    "print(count)\n",
    "\n",
    "result = int(\"\".join(count))\n",
    "print(result)\n",
    " "
   ]
  },
  {
   "cell_type": "code",
   "execution_count": 209,
   "id": "33fe30b1",
   "metadata": {},
   "outputs": [
    {
     "name": "stdout",
     "output_type": "stream",
     "text": [
      "[('Abhishek', 29), ('Amana', 28), ('B', 'C'), ('Nikhil', 21), ('Zenat', 30)]\n"
     ]
    }
   ],
   "source": [
    "# Python program to sort a list of tuples alphabetically\n",
    "\n",
    "lst = [(\"Amana\", 28), (\"Zenat\", 30), (\"Abhishek\", 29), (\"Nikhil\", 21), (\"B\", \"C\")]\n",
    "\n",
    "re = sorted(lst)\n",
    "print(re)"
   ]
  },
  {
   "cell_type": "code",
   "execution_count": 215,
   "id": "ba7208c6",
   "metadata": {},
   "outputs": [
    {
     "name": "stdout",
     "output_type": "stream",
     "text": [
      "[(8, 11), (7, 5), (8, 14), (11, 8), (12, 17), (11, 11)]\n"
     ]
    }
   ],
   "source": [
    "# Python – Combinations of sum with tuples in tuple list\n",
    "\n",
    "test_list = [(2, 4), (6, 7), (5, 1), (6, 10)]\n",
    "\n",
    "res = []\n",
    "\n",
    "for i in range(len(test_list)):\n",
    "    for j in range(i+1,len(test_list)):\n",
    "        res.append((test_list[i][0]+test_list[j][0],test_list[i][1]+test_list[j][1]))\n",
    "        \n",
    "print(res)\n",
    " "
   ]
  },
  {
   "cell_type": "markdown",
   "id": "5ef42368",
   "metadata": {},
   "source": [
    "# String"
   ]
  },
  {
   "cell_type": "code",
   "execution_count": 217,
   "id": "99ae8e7a",
   "metadata": {},
   "outputs": [
    {
     "name": "stdout",
     "output_type": "stream",
     "text": [
      "diov\n",
      "voib \n"
     ]
    }
   ],
   "source": [
    "# Python – Mirror Image of String\n",
    "\n",
    "test_str = 'void'\n",
    "\n",
    "mirror_dict = {'b': 'd', 'd': 'b', 'i': 'i', 'o': 'o', 'v': 'v', 'w': 'w', 'x': 'x'}\n",
    "\n",
    "rev_str = test_str[::-1]\n",
    "print(rev_str)\n",
    "\n",
    "res = \" \"\n",
    "for i in rev_str:\n",
    "    if i in mirror_dict:\n",
    "        res += mirror_dict[i]\n",
    "    else:\n",
    "        res = \"Not Possible\"\n",
    "        break\n",
    "mirror_str = res[::-1]\n",
    "print(mirror_str)\n"
   ]
  },
  {
   "cell_type": "code",
   "execution_count": 228,
   "id": "067ca383",
   "metadata": {},
   "outputs": [
    {
     "name": "stdout",
     "output_type": "stream",
     "text": [
      " g11ksforg11ks is 61st\n"
     ]
    }
   ],
   "source": [
    "# Python – Replace Different characters in String at Once\n",
    "\n",
    "test_str = 'geeksforgeeks is best'\n",
    "map_dict = {'e':'1', 'b':'6'} \n",
    "\n",
    "res =  \" \"\n",
    "for i in test_str:\n",
    "    if i not in map_dict:\n",
    "        res += i\n",
    "    else:\n",
    "        res += map_dict[i]\n",
    "        \n",
    "print(res)\n",
    "\n"
   ]
  },
  {
   "cell_type": "code",
   "execution_count": 232,
   "id": "d5552367",
   "metadata": {},
   "outputs": [
    {
     "name": "stdout",
     "output_type": "stream",
     "text": [
      "['g', 'e', 'e', 'k', 's', 'f', 'o', 'r', 'g', 'e', 'e', 'k', 's', ' ', 'i', 's', ' ', 'b', 'e', 's', 't']\n",
      "g e * k * f o * g e * k s   * s   * e s *\n"
     ]
    }
   ],
   "source": [
    "# Python | Multiple indices Replace in String\n",
    "\n",
    "test_str = \"geeksforgeeks is best\"\n",
    "\n",
    "test_list = [2,4,7,10,14,17,20]\n",
    "replace_char = \"*\"\n",
    "\n",
    "lst = list(test_str)\n",
    "print(lst)\n",
    "\n",
    "for i in test_list:\n",
    "    lst[i] = replace_char\n",
    "    \n",
    "res = \" \".join(lst)\n",
    "print(res)"
   ]
  },
  {
   "cell_type": "code",
   "execution_count": 233,
   "id": "7961ab50",
   "metadata": {},
   "outputs": [
    {
     "name": "stdout",
     "output_type": "stream",
     "text": [
      "['gfg', 'is', 'best']\n"
     ]
    }
   ],
   "source": [
    "# Python – Ways to remove multiple empty spaces from string List\n",
    "\n",
    "test_list = ['gfg', ' ', ' ', 'is', '         ', 'best']\n",
    "\n",
    "res = []\n",
    "\n",
    "for i in test_list:\n",
    "    if i.strip():\n",
    "        res.append(i)\n",
    "        \n",
    "print(res)\n",
    " "
   ]
  },
  {
   "cell_type": "code",
   "execution_count": 237,
   "id": "9efed785",
   "metadata": {},
   "outputs": [
    {
     "name": "stdout",
     "output_type": "stream",
     "text": [
      "Gfg is best for  Geeks .\n"
     ]
    }
   ],
   "source": [
    "# Python | Remove punctuation from string\n",
    "\n",
    "strs = \"Gfg, is best, for , Geeks .\"\n",
    "\n",
    "\n",
    "result = \"\"\n",
    "for char in strs:\n",
    "    if char != \",\":\n",
    "        result += char\n",
    "print(result)\n",
    "     "
   ]
  },
  {
   "cell_type": "code",
   "execution_count": 243,
   "id": "31bd2e79",
   "metadata": {},
   "outputs": [
    {
     "name": "stdout",
     "output_type": "stream",
     "text": [
      " Gfg is best  for  Geeks \n"
     ]
    }
   ],
   "source": [
    "test_str = \"Gfg, is best : for ! Geeks ;\"\n",
    "\n",
    "punc = \"!()-[]{};:',<>./?@#$%^&*_~\"\n",
    "\n",
    "res = \" \"\n",
    "for i in test_str:\n",
    "    if i not in punc:\n",
    "        res += i\n",
    "        \n",
    "print(res)"
   ]
  },
  {
   "cell_type": "code",
   "execution_count": 248,
   "id": "075f34fc",
   "metadata": {},
   "outputs": [
    {
     "name": "stdout",
     "output_type": "stream",
     "text": [
      "{'g', 'e', 'k', 's'}\n",
      "{'k', 'e', 'g', 's'}\n",
      "True\n"
     ]
    }
   ],
   "source": [
    "# Python – Similar characters Strings comparison\n",
    "\n",
    "test_str1 = \"e!e!k!s!g\"\n",
    "test_str2 = \"g!e!e!k!s\"\n",
    "delim = '!' \n",
    "\n",
    "res = set(test_str1.split('!')) \n",
    "print(res)\n",
    "\n",
    "res1 = set(test_str2.split('!'))\n",
    "print(res1)\n",
    "\n",
    "result = res ==res1\n",
    "print(result)"
   ]
  },
  {
   "cell_type": "markdown",
   "id": "a5a76c88",
   "metadata": {},
   "source": [
    "# Dictionary"
   ]
  },
  {
   "cell_type": "code",
   "execution_count": 256,
   "id": "fffc0ee9",
   "metadata": {},
   "outputs": [
    {
     "name": "stdout",
     "output_type": "stream",
     "text": [
      "{'d': 6, 'c': 4, 'a': 10, 'b': 8}\n"
     ]
    }
   ],
   "source": [
    "# Python | Merging two Dictionaries\n",
    "\n",
    "dict1 = {'a': 10, 'b': 8}\n",
    "dict2 = {'d': 6, 'c': 4}\n",
    "\n",
    "dict2.update(dict1)\n",
    "print(dict2)\n",
    "   "
   ]
  },
  {
   "cell_type": "code",
   "execution_count": 260,
   "id": "655600ce",
   "metadata": {},
   "outputs": [
    {
     "name": "stdout",
     "output_type": "stream",
     "text": [
      "[20, 80]\n"
     ]
    }
   ],
   "source": [
    "# Find common elements in three sorted arrays by dictionary intersection\n",
    "\n",
    "from collections import OrderedDict\n",
    "\n",
    "ar1 = [1, 5, 10, 20, 40, 80]\n",
    "ar2 = [6, 7, 20, 80, 100]\n",
    "ar3 = [3, 4, 15, 20, 30, 70, 80, 120]\n",
    "\n",
    "\n",
    "dict1 = OrderedDict.fromkeys(ar1)\n",
    "dict2 = OrderedDict.fromkeys(ar2)\n",
    "dict3 = OrderedDict.fromkeys(ar3)\n",
    "\n",
    "\n",
    "lst = []\n",
    "\n",
    "for values1, keys1 in dict1.items():\n",
    "    for values2, keys2 in dict2.items():\n",
    "        for values3, keys3 in dict3.items():\n",
    "            if values1 == values2 == values3:\n",
    "                lst.append(values1)\n",
    "                \n",
    "print(lst)"
   ]
  },
  {
   "cell_type": "code",
   "execution_count": 268,
   "id": "8843749d",
   "metadata": {},
   "outputs": [
    {
     "name": "stdout",
     "output_type": "stream",
     "text": [
      "Gfg\n"
     ]
    }
   ],
   "source": [
    "# Python – Key with maximum unique values\n",
    "\n",
    "test_dict = {\n",
    "    \"Gfg\" : [5, 7, 9, 4, 0], \n",
    "    \"is\" : [6, 7, 4, 3, 3], \n",
    "    \"Best\" : [9, 9, 6, 5, 5]\n",
    "} \n",
    "\n",
    "max_val = 0\n",
    "max_key = None\n",
    "\n",
    "for i in test_dict:\n",
    "    if len(set(test_dict[i])) > max_val:\n",
    "        max_val = len(set(test_dict[i]))\n",
    "        max_key = i\n",
    "print(max_key)"
   ]
  },
  {
   "cell_type": "code",
   "execution_count": null,
   "id": "c1ba9fd3",
   "metadata": {},
   "outputs": [],
   "source": []
  },
  {
   "cell_type": "code",
   "execution_count": null,
   "id": "87d54469",
   "metadata": {},
   "outputs": [],
   "source": []
  }
 ],
 "metadata": {
  "kernelspec": {
   "display_name": "Python 3 (ipykernel)",
   "language": "python",
   "name": "python3"
  },
  "language_info": {
   "codemirror_mode": {
    "name": "ipython",
    "version": 3
   },
   "file_extension": ".py",
   "mimetype": "text/x-python",
   "name": "python",
   "nbconvert_exporter": "python",
   "pygments_lexer": "ipython3",
   "version": "3.9.12"
  }
 },
 "nbformat": 4,
 "nbformat_minor": 5
}
