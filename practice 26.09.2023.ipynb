{
 "cells": [
  {
   "cell_type": "markdown",
   "id": "6d8c8a23",
   "metadata": {},
   "source": [
    "# List"
   ]
  },
  {
   "cell_type": "code",
   "execution_count": 14,
   "id": "9908fea2",
   "metadata": {},
   "outputs": [
    {
     "name": "stdout",
     "output_type": "stream",
     "text": [
      "['Gfe', 'is', 'btst', 'for', 'Gttks']\n"
     ]
    }
   ],
   "source": [
    "# Python – Swap elements in String list\n",
    "\n",
    "test_list = ['Gfg', 'is', 'best', 'for', 'Geeks']\n",
    "\n",
    "res = []\n",
    "\n",
    "for i in test_list:\n",
    "    replace_str = i.replace(\"g\",\"-\").replace(\"e\",\"t\").replace(\"-\",\"e\")\n",
    "    res.append(replace_str)\n",
    "    \n",
    "print(res)"
   ]
  },
  {
   "cell_type": "code",
   "execution_count": 23,
   "id": "accfccce",
   "metadata": {},
   "outputs": [
    {
     "name": "stdout",
     "output_type": "stream",
     "text": [
      "['skeeg', 'rof', 'skeeg', 'si', 'tseb']\n"
     ]
    }
   ],
   "source": [
    "# Python | Reverse All Strings in String List\n",
    "\n",
    "test_list = [\"geeks\", \"for\", \"geeks\", \"is\", \"best\"]\n",
    "\n",
    "\n",
    "res = [i[::-1] for i in test_list]\n",
    "print(res)"
   ]
  },
  {
   "cell_type": "code",
   "execution_count": 22,
   "id": "f04860b1",
   "metadata": {},
   "outputs": [
    {
     "name": "stdout",
     "output_type": "stream",
     "text": [
      "['skeeg', 'rof', 'skeeg', 'si', 'tseb']\n"
     ]
    }
   ],
   "source": [
    "res = []\n",
    "\n",
    "for i in test_list:\n",
    "    rev_str = i[::-1]\n",
    "    res.append(rev_str)\n",
    "    \n",
    "print(res)"
   ]
  },
  {
   "cell_type": "code",
   "execution_count": 92,
   "id": "6172e2f4",
   "metadata": {},
   "outputs": [
    {
     "name": "stdout",
     "output_type": "stream",
     "text": [
      "original list: 5\n",
      "1\n"
     ]
    }
   ],
   "source": [
    "# Python program to find the character position of Kth word from a list of strings\n",
    "\n",
    "test_list = [\"geekforgeeks\",\"is\",\"best\",\"for\",\"geeks\"] \n",
    "K = 13\n",
    "\n",
    "print(\"original list: \" +str(len(test_list)))\n",
    "\n",
    "res = [ele[0] for sub in enumerate(test_list) for ele in enumerate(sub[1])]\n",
    "res = res[K]\n",
    "\n",
    "print(res)"
   ]
  },
  {
   "cell_type": "code",
   "execution_count": 85,
   "id": "8712f50d",
   "metadata": {},
   "outputs": [
    {
     "name": "stdout",
     "output_type": "stream",
     "text": [
      "K is out of range.\n"
     ]
    }
   ],
   "source": [
    "test_list = [\"geekforgeeks\", \"is\", \"best\", \"for\", \"geeks\"]\n",
    "K = 30\n",
    "\n",
    "sub_list = []\n",
    "\n",
    "for i in test_list:\n",
    "    for j in i:\n",
    "        sub_list.append(j)\n",
    "\n",
    "if K < len(sub_list):\n",
    "    result = sub_list[K]\n",
    "    print(result)\n",
    "else:\n",
    "    print(\"K is out of range.\")\n"
   ]
  },
  {
   "cell_type": "code",
   "execution_count": 86,
   "id": "ce1e1f23",
   "metadata": {},
   "outputs": [
    {
     "name": "stdout",
     "output_type": "stream",
     "text": [
      "[[0, 1, 2, 3, 4, 5, 6, 7, 8, 9, 10, 11], [0, 1], [0, 1, 2, 3], [0, 1, 2], [0, 1, 2, 3, 4]]\n"
     ]
    }
   ],
   "source": [
    "test_list = [\"geekforgeeks\", \"is\", \"best\", \"for\", \"geeks\"]\n",
    "k = 16\n",
    "res = []\n",
    "\n",
    "for i, word in enumerate(test_list):\n",
    "    sub_list = []\n",
    "    for j, char in enumerate(word):\n",
    "        if j < k:\n",
    "            sub_list.append(j)\n",
    "    res.append(sub_list)\n",
    "\n",
    "print(res)\n",
    "\n"
   ]
  },
  {
   "cell_type": "code",
   "execution_count": 97,
   "id": "56db068f",
   "metadata": {},
   "outputs": [
    {
     "name": "stdout",
     "output_type": "stream",
     "text": [
      "['Gfg', 'good', 'Gfg', 'geeks', 'G4G']\n"
     ]
    }
   ],
   "source": [
    "# Python – Extract words starting with K in String List\n",
    "\n",
    "test_list = [\"Gfg is good for learning\", \"Gfg is for geeks\", \"I love G4G\"]\n",
    "#k = \"L\"\n",
    "k = \"g\"\n",
    "\n",
    "x = []\n",
    "res = []\n",
    "\n",
    "for i in test_list:\n",
    "    x.extend(i.split())\n",
    "for i in x:\n",
    "    if i.startswith(k) or i.startswith(k.lower()) or i.startswith(k.upper()):\n",
    "        res.append(i)\n",
    "        \n",
    "print(res)\n"
   ]
  },
  {
   "cell_type": "code",
   "execution_count": 132,
   "id": "186815a6",
   "metadata": {},
   "outputs": [
    {
     "name": "stdout",
     "output_type": "stream",
     "text": [
      "['gfgisbest', 'gfgfreak', 'gfgCS']\n"
     ]
    }
   ],
   "source": [
    "# Python – Prefix frequency in string List\n",
    "\n",
    "test_list = ['gfgisbest', 'geeks', 'gfgfreak', 'gfgCS', 'Gcourses']\n",
    "sub_string = \"gfg\"\n",
    "\n",
    "res = []\n",
    "# res = 0\n",
    "for i in test_list:\n",
    "    if i.startswith(sub_string):\n",
    "#          res += 1\n",
    "        res.append(i)\n",
    "print(res) "
   ]
  },
  {
   "cell_type": "code",
   "execution_count": 135,
   "id": "7d6173c0",
   "metadata": {},
   "outputs": [
    {
     "name": "stdout",
     "output_type": "stream",
     "text": [
      "['Gfg', 'is', 'best', 'for', 'Geeks', 'Preparing']\n"
     ]
    }
   ],
   "source": [
    "# Python – Split String of list on K character\n",
    "\n",
    "test_list = ['Gfg is best', 'for Geeks', 'Preparing']\n",
    "\n",
    "k = \" \"\n",
    "result = []\n",
    "\n",
    "for i in test_list:\n",
    "    res = i.split(k)\n",
    "#     result.append(res)\n",
    "    result.extend(res)\n",
    "print(result)"
   ]
  },
  {
   "cell_type": "code",
   "execution_count": 145,
   "id": "05bc4562",
   "metadata": {},
   "outputs": [
    {
     "name": "stdout",
     "output_type": "stream",
     "text": [
      "[['geeksforgeeks', 'best'], ['geeks', 'and']]\n"
     ]
    }
   ],
   "source": [
    "# Python – Split Strings on Prefix Occurrence\n",
    "\n",
    "test_list = [\"geeksforgeeks\", \"best\", \"geeks\", \"and\"]\n",
    "pref = \"geek\"\n",
    "\n",
    "# k = \" \"\n",
    "# result = []\n",
    "\n",
    "# for i in test_list:\n",
    "#     res = i.split(k)\n",
    "#     result.append(res)\n",
    "\n",
    "# print(result)\n",
    "\n",
    "res = []\n",
    "for i in test_list:\n",
    "    if i.startswith(pref):\n",
    "        res.append([i])\n",
    "    else:\n",
    "        res[-1].append(i)\n",
    "        \n",
    "print(res)\n",
    "        "
   ]
  },
  {
   "cell_type": "markdown",
   "id": "cdfd0ac7",
   "metadata": {},
   "source": [
    "# String"
   ]
  },
  {
   "cell_type": "code",
   "execution_count": 161,
   "id": "95ddb4c6",
   "metadata": {},
   "outputs": [
    {
     "name": "stdout",
     "output_type": "stream",
     "text": [
      "['e', 'e', 'k', 's']\n",
      "['e', 'e', 'g', 'k', 's']\n",
      "False\n"
     ]
    }
   ],
   "source": [
    "# Python – Similar characters Strings comparison\n",
    "\n",
    "# test_str1 = 'e!e!k!s!g'\n",
    "# test_str2 = 'g!e!e!k!s'\n",
    "# delim = '!' \n",
    "\n",
    "test_str1 = 'e!e!k!s'\n",
    "test_str2 = 'g!e!e!k!s'\n",
    "delim = '!'\n",
    "\n",
    "res = sorted(test_str1.split(\"!\"))\n",
    "print(res)\n",
    "\n",
    "re = sorted(test_str2.split(\"!\"))\n",
    "print(re)\n",
    "\n",
    "result = res ==  re\n",
    "print(result)"
   ]
  },
  {
   "cell_type": "code",
   "execution_count": 178,
   "id": "2b196e8e",
   "metadata": {},
   "outputs": [
    {
     "name": "stdout",
     "output_type": "stream",
     "text": [
      "geeksforfree\n"
     ]
    }
   ],
   "source": [
    "# Python – Remove K length Duplicates from String\n",
    "\n",
    "test_str = \"geeksforfreeksfo\"\n",
    "k = 3\n",
    "#k= 2\n",
    "\n",
    "x = set()\n",
    "res = []\n",
    " \n",
    "for i in range(0,len(test_str)-k):\n",
    "    #print(i)\n",
    "    result = test_str[i:i+k]\n",
    "    #print(result)\n",
    "    if result not in x:\n",
    "        x.add(result)\n",
    "        #print(x)\n",
    "        res.append(result)\n",
    "#print(res)\n",
    "\n",
    "res = \"\".join(res[i] for i in range(0,len(res),k))\n",
    "print(res)\n",
    "    "
   ]
  },
  {
   "cell_type": "code",
   "execution_count": 184,
   "id": "78195393",
   "metadata": {},
   "outputs": [
    {
     "name": "stdout",
     "output_type": "stream",
     "text": [
      "['gfg', 'xit', 'is']\n"
     ]
    }
   ],
   "source": [
    "# Python – Remove suffix from string list\n",
    "\n",
    "test_list = ['allx', 'lovex', 'gfg', 'xit', 'is', 'bestx']\n",
    "suff = \"x\"\n",
    "\n",
    "for i in test_list[:]:\n",
    "    if i.endswith(suff):\n",
    "        test_list.remove(i)\n",
    "        \n",
    "print(test_list)\n",
    " "
   ]
  },
  {
   "cell_type": "code",
   "execution_count": 194,
   "id": "a2c4a60b",
   "metadata": {},
   "outputs": [
    {
     "name": "stdout",
     "output_type": "stream",
     "text": [
      "['e', 'l', 'o']\n"
     ]
    }
   ],
   "source": [
    "# Python – Find all duplicate characters in string\n",
    "\n",
    "strs = \"heeeellooooo\"\n",
    "\n",
    "res = []\n",
    "char = {}\n",
    "\n",
    "for i in strs:\n",
    "    if i not in char:\n",
    "        char[i] = 1\n",
    "    else:\n",
    "        char[i] += 1\n",
    "for i ,count in char.items():\n",
    "    if count > 1:\n",
    "        res.append(i)\n",
    "print(res)\n",
    "    "
   ]
  },
  {
   "cell_type": "code",
   "execution_count": 214,
   "id": "1ba105ac",
   "metadata": {},
   "outputs": [
    {
     "name": "stdout",
     "output_type": "stream",
     "text": [
      "it is best. it also has home tuition now. home tuition help understand better . \n"
     ]
    }
   ],
   "source": [
    "# Python – Replace duplicate Occurrence in String\n",
    "\n",
    "test_str = 'Gfg is best. Gfg also has Classes now. Classes help understand better . '\n",
    "\n",
    "replace_str = {\"Gfg\": \"it\", \"Classes\": \"home tuition\"}\n",
    "\n",
    "test_list = test_str.split(' ')\n",
    "\n",
    "for i in range(len(test_list)):\n",
    "    if test_list[i] in replace_str:\n",
    "        test_list[i] = replace_str[test_list[i]]\n",
    "\n",
    "res = ' '.join(test_list)\n",
    "print(res)"
   ]
  },
  {
   "cell_type": "code",
   "execution_count": 216,
   "id": "90dd5dc1",
   "metadata": {},
   "outputs": [
    {
     "name": "stdout",
     "output_type": "stream",
     "text": [
      "{' Jan ': ' January', ' Feb ': ' February', ' Mar ': ' March'}\n"
     ]
    }
   ],
   "source": [
    "# Ways to convert string to dictionary\n",
    "\n",
    "strs = \" Jan = January; Feb = February; Mar = March\"\n",
    "\n",
    "dictionary = dict(subString.split(\"=\") for subString in strs.split(\";\"))\n",
    "print(dictionary)\n",
    "\n"
   ]
  },
  {
   "cell_type": "code",
   "execution_count": 218,
   "id": "a73f29c0",
   "metadata": {},
   "outputs": [
    {
     "name": "stdout",
     "output_type": "stream",
     "text": [
      "{' Jan ': ' January', ' Feb ': ' February', ' Mar ': ' March'}\n"
     ]
    }
   ],
   "source": [
    "my_dict = {}\n",
    "\n",
    "for i in strs.split(\";\"):\n",
    "    key, value = i.split(\"=\")\n",
    "    my_dict[key] = value\n",
    "\n",
    "print(my_dict)"
   ]
  },
  {
   "cell_type": "code",
   "execution_count": 225,
   "id": "e78b2e9e",
   "metadata": {},
   "outputs": [
    {
     "name": "stdout",
     "output_type": "stream",
     "text": [
      "True\n"
     ]
    }
   ],
   "source": [
    "# Python – Check if two strings are Rotationally Equivalent\n",
    "\n",
    "test_str1 = \"gfg\" \n",
    "test_str2 = \"fgg\"\n",
    "\n",
    "\n",
    "sorted_str1 = sorted(test_str1)\n",
    "sorted_str2 = sorted(test_str2)\n",
    "\n",
    "if sorted_str1 == sorted_str2:\n",
    "    print(True)\n",
    "else:\n",
    "    print(False)\n"
   ]
  },
  {
   "cell_type": "code",
   "execution_count": 233,
   "id": "636a3bd6",
   "metadata": {},
   "outputs": [
    {
     "name": "stdout",
     "output_type": "stream",
     "text": [
      "False\n"
     ]
    }
   ],
   "source": [
    "# Python | Test if string is subset of another\n",
    "\n",
    "test_str1 = \"geeksforgeeks\"\n",
    "#test_str2 = \"gfks\"\n",
    "test_str2 = \"good\"\n",
    "\n",
    "res = all(i in test_str1 for i in test_str2)\n",
    "print(res)\n",
    " "
   ]
  },
  {
   "cell_type": "code",
   "execution_count": 232,
   "id": "68cd9648",
   "metadata": {},
   "outputs": [
    {
     "name": "stdout",
     "output_type": "stream",
     "text": [
      "False\n"
     ]
    }
   ],
   "source": [
    "res = True\n",
    "\n",
    "for i in test_str2:\n",
    "    if i not in test_str1:\n",
    "        res = False\n",
    "        break\n",
    "print(res)"
   ]
  },
  {
   "cell_type": "markdown",
   "id": "76b22b77",
   "metadata": {},
   "source": [
    "# Tuple"
   ]
  },
  {
   "cell_type": "code",
   "execution_count": 239,
   "id": "62d56722",
   "metadata": {},
   "outputs": [
    {
     "name": "stdout",
     "output_type": "stream",
     "text": [
      "[5, 'Gfg', 6, 'Gfg', 7, 'Gfg']\n"
     ]
    }
   ],
   "source": [
    "# Python program to convert tuple into list by adding the given string after every element\n",
    "\n",
    "test_tup = (5, 6, 7)\n",
    "K = \"Gfg\" \n",
    "\n",
    "res = []\n",
    "\n",
    "for i in test_tup:\n",
    "    for j in (i,\"Gfg\"):\n",
    "        res.append(j)\n",
    "print(res)\n"
   ]
  },
  {
   "cell_type": "code",
   "execution_count": 242,
   "id": "fc2afb25",
   "metadata": {},
   "outputs": [
    {
     "name": "stdout",
     "output_type": "stream",
     "text": [
      "[(4, 7, 10, 18), (5, 8, 13, 17)]\n"
     ]
    }
   ],
   "source": [
    "# Python Program to Convert Tuple Matrix to Tuple List\n",
    "\n",
    "test_list = [[(4, 5), (7, 8)], [(10, 13), (18, 17)]] \n",
    "\n",
    "x= []\n",
    "re1 = []\n",
    "re2 = []\n",
    "result = []\n",
    "\n",
    "for i in test_list:\n",
    "    for j in i:\n",
    "        j = list(j)\n",
    "        x.extend(j)\n",
    "        \n",
    "for i in range(0,len(x)):\n",
    "    if (i%2 == 0):\n",
    "        re1.append(x[i])\n",
    "    else:\n",
    "        re2.append(x[i])\n",
    "        \n",
    "result.append(tuple(re1))\n",
    "result.append(tuple(re2))\n",
    "\n",
    "print(result)"
   ]
  },
  {
   "cell_type": "code",
   "execution_count": 248,
   "id": "f63b5bcb",
   "metadata": {},
   "outputs": [
    {
     "name": "stdout",
     "output_type": "stream",
     "text": [
      "(('A', 'B'), ('B', 'C'))\n"
     ]
    }
   ],
   "source": [
    "# Python – Convert Tuple to Tuple Pair\n",
    "\n",
    "test_tuple = (\"A\", \"B\", \"C\")\n",
    "\n",
    "res = []\n",
    "\n",
    "for i in range(len(test_tuple)-1):\n",
    "    res.append((test_tuple[i],test_tuple[i+1]))\n",
    "    \n",
    "tuple_pair = tuple(res)\n",
    "print(tuple_pair)"
   ]
  },
  {
   "cell_type": "code",
   "execution_count": 252,
   "id": "690b6046",
   "metadata": {},
   "outputs": [
    {
     "name": "stdout",
     "output_type": "stream",
     "text": [
      "(('Gfg', 'is', 'Best'),)\n"
     ]
    }
   ],
   "source": [
    "# Python – Convert List of Lists to Tuple of Tuples\n",
    "\n",
    "#test_list = [['Best'], ['Gfg'], ['Gfg']] \n",
    "\n",
    "test_list = [['Gfg', 'is', 'Best']] \n",
    "\n",
    "result = tuple(map(tuple,test_list))\n",
    "print(result)"
   ]
  },
  {
   "cell_type": "code",
   "execution_count": 253,
   "id": "3bc4666e",
   "metadata": {},
   "outputs": [
    {
     "name": "stdout",
     "output_type": "stream",
     "text": [
      "(('Gfg', 'is', 'Best'),)\n"
     ]
    }
   ],
   "source": [
    "res = tuple(tuple(sub) for sub in test_list)\n",
    "print(res)"
   ]
  },
  {
   "cell_type": "code",
   "execution_count": 256,
   "id": "5769f89f",
   "metadata": {},
   "outputs": [
    {
     "name": "stdout",
     "output_type": "stream",
     "text": [
      "(('Gfg', 'is', 'Best'),)\n"
     ]
    }
   ],
   "source": [
    "res = []\n",
    "\n",
    "for sub in test_list:\n",
    "    res.append(tuple(sub))\n",
    "res = tuple(res)\n",
    "\n",
    "print(res)"
   ]
  },
  {
   "cell_type": "code",
   "execution_count": 259,
   "id": "6b891f26",
   "metadata": {},
   "outputs": [
    {
     "name": "stdout",
     "output_type": "stream",
     "text": [
      "[(4, 'Gfg'), (5, 'Gfg'), (7, 'best'), (3, 'best')]\n"
     ]
    }
   ],
   "source": [
    "# Python – Convert Matrix to Custom Tuple Matrix\n",
    "\n",
    "test_list = [[4, 5], [7, 3]]\n",
    "add_list = ['Gfg', 'best']  \n",
    "\n",
    "res = [] \n",
    " \n",
    "for i in range(0,len(test_list)):\n",
    "    for j in range(0,len(test_list[i])):\n",
    "#         res.append((add_list[i],test_list[i][j]))\n",
    "        res.append((test_list[i][j],add_list[i]))\n",
    "print(res)"
   ]
  },
  {
   "cell_type": "code",
   "execution_count": 266,
   "id": "24366c2b",
   "metadata": {},
   "outputs": [
    {
     "name": "stdout",
     "output_type": "stream",
     "text": [
      "[{'key': 1, 'value': 'Gfg', 'id': 2}, {'key': 3, 'value': 'best', 'id': 4}]\n"
     ]
    }
   ],
   "source": [
    "# Python – Convert Nested Tuple to Custom Key Dictionary\n",
    "\n",
    "test_tuple = ((1, \"Gfg\", 2), (3, \"best\", 4))\n",
    "keys = [\"key\", \"value\", \"id\"] \n",
    "\n",
    "res = []\n",
    "for j in test_tuple:\n",
    "    my_dict = {}\n",
    "    for i in range(len(keys)):\n",
    "        my_dict[keys[i]] = j[i]\n",
    "        #res.append(my_dict)\n",
    "    res.append(my_dict)\n",
    "print(res)"
   ]
  },
  {
   "cell_type": "markdown",
   "id": "3e98a7c1",
   "metadata": {},
   "source": [
    "# Dictionary"
   ]
  },
  {
   "cell_type": "code",
   "execution_count": 283,
   "id": "b1037d4d",
   "metadata": {},
   "outputs": [
    {
     "name": "stdout",
     "output_type": "stream",
     "text": [
      "{'Arushi': 22, 'Haritha': 21}\n"
     ]
    }
   ],
   "source": [
    "#Python | Ways to remove a key from dictionary\n",
    "\n",
    "test_dict = {\n",
    "    \"Arushi\": 22, \n",
    "    \"Mani\": 21, \n",
    "    \"Haritha\": 21\n",
    "}\n",
    "\n",
    "del test_dict[\"Mani\"]\n",
    "print(test_dict)"
   ]
  },
  {
   "cell_type": "code",
   "execution_count": 286,
   "id": "ddd8fe54",
   "metadata": {},
   "outputs": [
    {
     "name": "stdout",
     "output_type": "stream",
     "text": [
      "['geekforgeeks', 'best', 'for', 'geeks']\n",
      "geekforgeeks best for all CS aspirants\n"
     ]
    }
   ],
   "source": [
    "# Python – Replace words from Dictionary\n",
    "\n",
    "test_str = \"geekforgeeks best for geeks\"\n",
    "repl_dict = {\"geeks\" : \"all CS aspirants\"} \n",
    "\n",
    "r = test_str.split()\n",
    "print(r)\n",
    "\n",
    "res = []\n",
    "for i in r:\n",
    "    res.append(repl_dict.get(i,i))\n",
    "res = \" \".join(res)\n",
    "print(res)\n",
    "    "
   ]
  },
  {
   "cell_type": "code",
   "execution_count": 290,
   "id": "b97e21f2",
   "metadata": {},
   "outputs": [
    {
     "name": "stdout",
     "output_type": "stream",
     "text": [
      "Java Python also and great is\n"
     ]
    }
   ],
   "source": [
    "# Python | Remove all duplicates words from a given sentence\n",
    "\n",
    "string = 'Python is great and Java is also great'\n",
    "\n",
    "print(\" \".join(sorted(set(string.split()))))"
   ]
  },
  {
   "cell_type": "markdown",
   "id": "fa3625db",
   "metadata": {},
   "source": [
    "# Oops"
   ]
  },
  {
   "cell_type": "code",
   "execution_count": 316,
   "id": "5501f3b7",
   "metadata": {},
   "outputs": [
    {
     "name": "stdout",
     "output_type": "stream",
     "text": [
      "4\n"
     ]
    }
   ],
   "source": [
    "li = [1,2,3,4,5,6]\n",
    "class x:\n",
    "    def __init__(self,val):\n",
    "        self.val = val;\n",
    "\n",
    "def getIndex(li, target):\n",
    "    for index, item in enumerate(li):\n",
    "        if item.val == target:\n",
    "            return index\n",
    "    return -1 \n",
    "\n",
    "a = list()\n",
    "for i in li:\n",
    "    a.append(x(i))\n",
    "    \n",
    "result = getIndex(a, 5)  \n",
    "print(result)"
   ]
  },
  {
   "cell_type": "code",
   "execution_count": 1,
   "id": "654ac132",
   "metadata": {},
   "outputs": [
    {
     "name": "stdout",
     "output_type": "stream",
     "text": [
      "welcome to flashcard application\n",
      "enter the name you want to add to flashcard :data\n",
      "enter the meaning of the word :information\n",
      "enter 0 , if you want to add another flashcard :1\n"
     ]
    }
   ],
   "source": [
    "# Python program to build flashcard using class in Python\n",
    "\n",
    "class flashcard:\n",
    "    def __init__(self,word,meaning):\n",
    "        self.word = word\n",
    "        self.meaning = meaning\n",
    "    def __str__(self):\n",
    "        return self.word +\"(\"+self.meaning+\")\"\n",
    "flash = []\n",
    "print(\"welcome to flashcard application\")\n",
    "\n",
    "while(True):\n",
    "    word = input(\"enter the name you want to add to flashcard :\")\n",
    "    meaning = input(\"enter the meaning of the word :\")\n",
    "    \n",
    "    flash.append(flashcard(word,meaning))\n",
    "    option = int(input(\"enter 0 , if you want to add another flashcard :\"))\n",
    "    \n",
    "    if(option):\n",
    "        break\n",
    "        \n",
    "    print(\"\\nYour flashcards\")\n",
    "    for i in flash:\n",
    "        print(\">\", i)"
   ]
  },
  {
   "cell_type": "code",
   "execution_count": null,
   "id": "03ae133f",
   "metadata": {},
   "outputs": [],
   "source": []
  },
  {
   "cell_type": "code",
   "execution_count": null,
   "id": "93471850",
   "metadata": {},
   "outputs": [],
   "source": []
  }
 ],
 "metadata": {
  "kernelspec": {
   "display_name": "Python 3 (ipykernel)",
   "language": "python",
   "name": "python3"
  },
  "language_info": {
   "codemirror_mode": {
    "name": "ipython",
    "version": 3
   },
   "file_extension": ".py",
   "mimetype": "text/x-python",
   "name": "python",
   "nbconvert_exporter": "python",
   "pygments_lexer": "ipython3",
   "version": "3.9.12"
  }
 },
 "nbformat": 4,
 "nbformat_minor": 5
}
