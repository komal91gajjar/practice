{
 "cells": [
  {
   "cell_type": "markdown",
   "id": "4edcc4cf",
   "metadata": {},
   "source": [
    "# List"
   ]
  },
  {
   "cell_type": "code",
   "execution_count": 115,
   "id": "7a11d11a",
   "metadata": {},
   "outputs": [
    {
     "name": "stdout",
     "output_type": "stream",
     "text": [
      "('a', 1)\n",
      "('a', 2)\n",
      "('b', 1)\n",
      "('b', 2)\n"
     ]
    }
   ],
   "source": [
    "# Python program to get all unique combinations of two Lists\n",
    "\n",
    "List_1 = [\"a\",\"b\"]\n",
    "List_2 = [1,2]\n",
    "\n",
    "res = tuple()\n",
    "\n",
    "for i in List_1:\n",
    "    for j in List_2:\n",
    "        res = i,j\n",
    "        print(res)"
   ]
  },
  {
   "cell_type": "code",
   "execution_count": 116,
   "id": "37e270cf",
   "metadata": {},
   "outputs": [
    {
     "name": "stdout",
     "output_type": "stream",
     "text": [
      "[1, 1, 3, 4, 5, 1, 1]\n"
     ]
    }
   ],
   "source": [
    "# Remove all the occurrences of an element from a list in Python\n",
    "\n",
    "lst = [1,1,2,3,4,5,1,2,1]\n",
    "\n",
    "removed_ele = 2\n",
    "\n",
    "res = [i for i in lst if i != removed_ele]\n",
    "print(res)\n"
   ]
  },
  {
   "cell_type": "code",
   "execution_count": 117,
   "id": "3d2c4f3b",
   "metadata": {},
   "outputs": [
    {
     "name": "stdout",
     "output_type": "stream",
     "text": [
      "[3, 4, 6, 5]\n"
     ]
    }
   ],
   "source": [
    "test_list = [1, 3, 4, 6, 5, 1]\n",
    "\n",
    "rem_ele = 1\n",
    "res = []\n",
    "\n",
    "for i in test_list:\n",
    "    if i != rem_ele:\n",
    "        #print(i)\n",
    "        res.append(i)\n",
    "print(res)\n"
   ]
  },
  {
   "cell_type": "code",
   "execution_count": 118,
   "id": "73f54df6",
   "metadata": {},
   "outputs": [
    {
     "name": "stdout",
     "output_type": "stream",
     "text": [
      "[(4, 5), (5, 6), (1, 3)]\n"
     ]
    }
   ],
   "source": [
    "# Python – Remove Consecutive K element records\n",
    "\n",
    "test_list = [(4, 5), (5, 6), (1, 3), (0, 0)]\n",
    "\n",
    "k = 0 \n",
    "res = []\n",
    "\n",
    "for j in test_list:\n",
    "    skip =  False\n",
    "    for i in range(len(j)-1):\n",
    "        if j[i] == k and j[i+1] == k:\n",
    "            skip = True\n",
    "            break\n",
    "    if not skip:\n",
    "         res.append(j)\n",
    "print(res)"
   ]
  },
  {
   "cell_type": "code",
   "execution_count": 119,
   "id": "40e5d517",
   "metadata": {},
   "outputs": [
    {
     "name": "stdout",
     "output_type": "stream",
     "text": [
      "['Gfg', 'is', 'best', 'is', 'Gfg', 'Gfg', 'Gfg', 'best', 'is', 'is', 'best', 'Gfg']\n"
     ]
    }
   ],
   "source": [
    "# Python – Replace index elements with elements in Other List\n",
    "\n",
    "test_list1 = ['Gfg', 'is', 'best']\n",
    "test_list2 = [0, 1, 2, 1, 0, 0, 0, 2, 1, 1, 2, 0]\n",
    "\n",
    "re = [test_list1[i] for i in test_list2]\n",
    "print(re)"
   ]
  },
  {
   "cell_type": "code",
   "execution_count": 120,
   "id": "1d647bfd",
   "metadata": {},
   "outputs": [
    {
     "name": "stdout",
     "output_type": "stream",
     "text": [
      "[(4, 5, 5, 4)]\n"
     ]
    }
   ],
   "source": [
    "# Python – Retain records with N occurrences of K\n",
    "\n",
    "test_list = [(4, 5, 5, 4), (5, 4, 3)]\n",
    "k = 5\n",
    "n = 2 \n",
    "\n",
    "res = []\n",
    "for i in test_list:\n",
    "    if i.count(k) == n:\n",
    "        res.append(i)\n",
    "print(res)"
   ]
  },
  {
   "cell_type": "markdown",
   "id": "19c27dfb",
   "metadata": {},
   "source": [
    "# String"
   ]
  },
  {
   "cell_type": "code",
   "execution_count": 136,
   "id": "1e4d7c1e",
   "metadata": {},
   "outputs": [
    {
     "name": "stdout",
     "output_type": "stream",
     "text": [
      "['Gfg', 'is', 'best']\n",
      "{'Gfg': 1, 'is': 1, 'best': 1}\n"
     ]
    }
   ],
   "source": [
    "# Python – Words Frequency in String Shorthands\n",
    "\n",
    "strs = \"Gfg is best\"\n",
    "\n",
    "lst_split = strs.split()\n",
    "print(lst_split)\n",
    "\n",
    "# for i in set(lst):\n",
    "#     lst.count(i)\n",
    "# print(i)\n",
    "word_freq = {i: lst_split.count(i) for i in set(lst_split)}\n",
    "print(word_freq)"
   ]
  },
  {
   "cell_type": "code",
   "execution_count": 122,
   "id": "bde40210",
   "metadata": {},
   "outputs": [
    {
     "name": "stdout",
     "output_type": "stream",
     "text": [
      "bab\n"
     ]
    }
   ],
   "source": [
    "#  Longest Palindromic Substring\n",
    "\n",
    "s = \"babad\"\n",
    "\n",
    "def find_longest_palindrome(s):\n",
    "    longest = ''\n",
    "    n = len(s)\n",
    "    for i in range(n):\n",
    "        for j in range(i+1,n+1):\n",
    "            word = s[i:j]\n",
    "            if word == word[::-1]:\n",
    "                if len(word)>len(longest):\n",
    "                    longest = word          \n",
    "    return longest\n",
    "print(find_longest_palindrome(s))\n"
   ]
  },
  {
   "cell_type": "code",
   "execution_count": 123,
   "id": "7a6f8cf4",
   "metadata": {},
   "outputs": [
    {
     "name": "stdout",
     "output_type": "stream",
     "text": [
      "\n"
     ]
    }
   ],
   "source": [
    "s = \"babad\"\n",
    "\n",
    "result = \"\"\n",
    "n = len(s)\n",
    "for i in range(n):\n",
    "    for j in range(i+1,n+1):\n",
    "        r = s[i:j]\n",
    "        if r == r[::1]:\n",
    "            if len(r) > len(result):\n",
    "                result = r\n",
    "print()"
   ]
  },
  {
   "cell_type": "code",
   "execution_count": 124,
   "id": "9bdac6b2",
   "metadata": {},
   "outputs": [
    {
     "name": "stdout",
     "output_type": "stream",
     "text": [
      "       5 5\n",
      "      5   5 5\n",
      "     5   5   5 5\n",
      "    5   5   5   5 5\n",
      "   5   5   5   5   5 5\n"
     ]
    }
   ],
   "source": [
    "# Pascal's Triangle\n",
    "\n",
    "n = 5\n",
    "\n",
    "for i in range(1,n +1):\n",
    "    for j in range(0,n - i + 1):\n",
    "        print(' ', end='')\n",
    "                \n",
    "    c = 5\n",
    "    for j in range(1,i+1):\n",
    "        print(\" \", c, sep = \" \",end = \" \")\n",
    "    print(n)"
   ]
  },
  {
   "cell_type": "code",
   "execution_count": 137,
   "id": "10295071",
   "metadata": {},
   "outputs": [
    {
     "name": "stdout",
     "output_type": "stream",
     "text": [
      "{'s': 3}\n"
     ]
    }
   ],
   "source": [
    "# Python – Successive Characters Frequency\n",
    "\n",
    "test_str = \"geeks are for geeksforgeeks\"\n",
    "que_word = \"geek\" \n",
    "\n",
    "res = {}\n",
    "for i in range(len(test_str)-1):\n",
    "    if test_str[i:i+len(que_word)] == que_word:\n",
    "        char = test_str[i + len(que_word)]\n",
    "        if char in res:\n",
    "            res[char] += 1\n",
    "        else:\n",
    "            res[char] = 1\n",
    "print(res)"
   ]
  },
  {
   "cell_type": "code",
   "execution_count": 152,
   "id": "f474e7b0",
   "metadata": {},
   "outputs": [
    {
     "name": "stdout",
     "output_type": "stream",
     "text": [
      "GeeksForGeeks\n"
     ]
    }
   ],
   "source": [
    "# Python – Convert Snake case to Pascal case\n",
    "strs = \"geeks_for_geeks\" #Output : GeeksforGeeks\n",
    "\n",
    "res = strs.replace(\"_\", \" \").title().replace(\" \", \"\")\n",
    "print(res)"
   ]
  },
  {
   "cell_type": "code",
   "execution_count": 171,
   "id": "c3b6c263",
   "metadata": {},
   "outputs": [
    {
     "name": "stdout",
     "output_type": "stream",
     "text": [
      "['GFG', 'Bst']\n"
     ]
    }
   ],
   "source": [
    "# Python – Split String on vowels\n",
    "\n",
    "strs = \"GFGaBst\"\n",
    "\n",
    "vowel = \"aeiouAEIOU\"\n",
    "\n",
    "for i in strs:\n",
    "    if i in vowel:\n",
    "        strs=strs.replace(i,\"*\")\n",
    "res=strs.split(\"*\")\n",
    "print(res)\n",
    " "
   ]
  },
  {
   "cell_type": "code",
   "execution_count": 162,
   "id": "a7df7879",
   "metadata": {},
   "outputs": [
    {
     "name": "stdout",
     "output_type": "stream",
     "text": [
      "sgeeksforgeek\n"
     ]
    }
   ],
   "source": [
    "# Python – Right and Left Shift characters in String\n",
    "\n",
    "test_str = 'geeksforgeeks'\n",
    " \n",
    "left_shift = 3\n",
    "right_shift = 2\n",
    "\n",
    "res = (test_str * 3)[len(test_str) + right_shift - left_shift : 2 * len(test_str) + right_shift - left_shift]\n",
    "print(res)"
   ]
  },
  {
   "cell_type": "code",
   "execution_count": 176,
   "id": "57e1b6a5",
   "metadata": {},
   "outputs": [
    {
     "name": "stdout",
     "output_type": "stream",
     "text": [
      "Geeksforgeeks is good good geeks and good\n"
     ]
    }
   ],
   "source": [
    "# Python – Replace multiple words with K\n",
    "\n",
    "test_str = 'Geeksforgeeks is best for geeks and CS'\n",
    "\n",
    "word_list = [\"best\", \"CS\", \"for\"]\n",
    "replace_word = \"good\"\n",
    "\n",
    "res = \" \".join([replace_word if idx in word_list else idx for idx in test_str.split()])\n",
    "print(res)\n"
   ]
  },
  {
   "cell_type": "markdown",
   "id": "353372a6",
   "metadata": {},
   "source": [
    "# Tuple"
   ]
  },
  {
   "cell_type": "code",
   "execution_count": 179,
   "id": "e03933e8",
   "metadata": {},
   "outputs": [
    {
     "name": "stdout",
     "output_type": "stream",
     "text": [
      "[(6, 5, 8), (2, 7), (9, 1)]\n"
     ]
    }
   ],
   "source": [
    "# Python – Assign Frequency to Tuples\n",
    "test_list = [(6, 5, 8), (2, 7), (6, 5, 8), (6, 5, 8), (9, 1), (2, 7)]\n",
    " \n",
    "res=[]\n",
    "for i in test_list:\n",
    "    if i not in res:\n",
    "        res.append(i)\n",
    "res1=[]\n",
    "for i in res:\n",
    "    x=list(i)\n",
    "    x.append(test_list.count(i))\n",
    "    p=tuple(x)\n",
    "    res1.append(p)\n",
    "print(res)\n",
    " "
   ]
  },
  {
   "cell_type": "code",
   "execution_count": 187,
   "id": "f48f43f0",
   "metadata": {},
   "outputs": [
    {
     "name": "stdout",
     "output_type": "stream",
     "text": [
      "[(5, 7, 1), (5, 2, 8), (5, 7, 8)]\n"
     ]
    }
   ],
   "source": [
    "# Python – Records with Value at K index\n",
    "\n",
    "test_list = [(3, 1, 5), (1, 3, 6), (5, 7,1), (5, 2, 8), (6, 3, 0),(5,7,8)]\n",
    "\n",
    "# element = 3\n",
    "# position = 1\n",
    "\n",
    "element = 5\n",
    "position = 0\n",
    "\n",
    "res = []\n",
    "for x,y,z in test_list:\n",
    "    if x == element:\n",
    "        res.append((x,y,z))\n",
    "        \n",
    "print(res)\n",
    " "
   ]
  },
  {
   "cell_type": "code",
   "execution_count": 194,
   "id": "024e684e",
   "metadata": {},
   "outputs": [
    {
     "name": "stdout",
     "output_type": "stream",
     "text": [
      "{1, 4, 5, 6}\n",
      "True\n"
     ]
    }
   ],
   "source": [
    "# Python | Test if tuple is distinct\n",
    "\n",
    "#test_tup = (1, 4, 5, 6, 1, 4,5,6)\n",
    "\n",
    "test_tup = (1, 4, 5, 6)\n",
    "lst = list(test_tup)\n",
    "#print(lst)\n",
    "\n",
    "res = True\n",
    "result = set()\n",
    "for i in test_tup:\n",
    "    if i in result:\n",
    "        res = False\n",
    "        break\n",
    "    result.add(i)\n",
    "print(result)\n",
    "print(res)"
   ]
  },
  {
   "cell_type": "code",
   "execution_count": 209,
   "id": "a6758478",
   "metadata": {},
   "outputs": [
    {
     "name": "stdout",
     "output_type": "stream",
     "text": [
      "[(6, 24, 12), (60, 12, 6)]\n"
     ]
    }
   ],
   "source": [
    "# Python program to find tuples which have all elements divisible by K from a list of tuples\n",
    "\n",
    "test_list = [(6, 24, 12), (60, 12, 6), (12, 18, 21)]\n",
    "K = 2\n",
    "\n",
    "res = [i for i in test_list if all(element % K == 0 for element in i)]\n",
    "print(res)\n"
   ]
  },
  {
   "cell_type": "code",
   "execution_count": 210,
   "id": "f937e00e",
   "metadata": {},
   "outputs": [
    {
     "name": "stdout",
     "output_type": "stream",
     "text": [
      "[(4, 5, 9)]\n"
     ]
    }
   ],
   "source": [
    "# Python program to find Tuples with positive elements in List of tuples\n",
    "\n",
    "test_list = [(4, 5, 9), (-3, 2, 3), (-3, 5, 6), (4, -6)] \n",
    "\n",
    "res = [i for i in test_list if all(element > 0 for element in i)]\n",
    "print(res)\n",
    "        "
   ]
  },
  {
   "cell_type": "code",
   "execution_count": 232,
   "id": "bee0b44e",
   "metadata": {},
   "outputs": [
    {
     "name": "stdout",
     "output_type": "stream",
     "text": [
      "tuple ('a', 'b') occurs 4 times\n"
     ]
    }
   ],
   "source": [
    "# Python | Count tuples occurrence in list of tuples\n",
    "\n",
    "test_list = [('a', 'b'),('hi', 'bye'),('a', 'b'),('Geeks', 'forGeeks'),('a', 'b'),('hi', 'bye'), ('a', 'b')]\n",
    "\n",
    "check_ele = ('a', 'b')\n",
    "\n",
    "x=[i for i in test_list if i==check_ele]\n",
    "print(\"tuple ('a', 'b') occurs\",len(x),\"times\")"
   ]
  },
  {
   "cell_type": "code",
   "execution_count": null,
   "id": "d2be0ebe",
   "metadata": {},
   "outputs": [],
   "source": []
  },
  {
   "cell_type": "code",
   "execution_count": null,
   "id": "51717701",
   "metadata": {},
   "outputs": [],
   "source": []
  },
  {
   "cell_type": "code",
   "execution_count": null,
   "id": "99ab0580",
   "metadata": {},
   "outputs": [],
   "source": []
  },
  {
   "cell_type": "code",
   "execution_count": null,
   "id": "6bf1b85c",
   "metadata": {},
   "outputs": [],
   "source": []
  },
  {
   "cell_type": "code",
   "execution_count": null,
   "id": "af69b24d",
   "metadata": {},
   "outputs": [],
   "source": []
  },
  {
   "cell_type": "code",
   "execution_count": null,
   "id": "aba700bd",
   "metadata": {},
   "outputs": [],
   "source": []
  },
  {
   "cell_type": "markdown",
   "id": "351cb172",
   "metadata": {},
   "source": [
    "# Linked List "
   ]
  },
  {
   "cell_type": "code",
   "execution_count": 5,
   "id": "d5aef278",
   "metadata": {},
   "outputs": [],
   "source": [
    "class Node:\n",
    "    def __init__(self, data):\n",
    "        self.data = data\n",
    "        self.next = None\n",
    "\n",
    "class LinkedList:\n",
    "    def __init__(self, head=None):\n",
    "        self.head = head\n",
    "\n",
    "    def append(self, new_node):\n",
    "        current = self.head\n",
    "        if current:\n",
    "            while current.next:\n",
    "                current = current.next\n",
    "            current.next = new_node\n",
    "        else:\n",
    "            self.head = new_node\n"
   ]
  },
  {
   "cell_type": "code",
   "execution_count": 10,
   "id": "68a78f96",
   "metadata": {},
   "outputs": [
    {
     "name": "stdout",
     "output_type": "stream",
     "text": [
      "1\n",
      "2\n",
      "3\n"
     ]
    }
   ],
   "source": [
    "# Create nodes\n",
    "node1 = Node(1)\n",
    "node2 = Node(2)\n",
    "node3 = Node(3)\n",
    "\n",
    "# Create a linked list and append nodes\n",
    "linked_list = LinkedList(node1)\n",
    "linked_list.append(node2)\n",
    "linked_list.append(node3)\n",
    "\n",
    "# Print the linked list\n",
    "current = linked_list.head\n",
    "while current:\n",
    "    print(current.data)\n",
    "    current = current.next\n",
    "    #print(current.data)\n"
   ]
  },
  {
   "cell_type": "code",
   "execution_count": null,
   "id": "7444f6ad",
   "metadata": {},
   "outputs": [],
   "source": []
  }
 ],
 "metadata": {
  "kernelspec": {
   "display_name": "Python 3 (ipykernel)",
   "language": "python",
   "name": "python3"
  },
  "language_info": {
   "codemirror_mode": {
    "name": "ipython",
    "version": 3
   },
   "file_extension": ".py",
   "mimetype": "text/x-python",
   "name": "python",
   "nbconvert_exporter": "python",
   "pygments_lexer": "ipython3",
   "version": "3.9.12"
  }
 },
 "nbformat": 4,
 "nbformat_minor": 5
}
