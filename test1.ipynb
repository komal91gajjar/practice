{
 "cells": [
  {
   "cell_type": "markdown",
   "metadata": {},
   "source": [
    "Question 1: Write a Python program that takes two random integers as input and calculates big num devide by small number.\n",
    "\n",
    "Input: Random integers num1 and num2.\n",
    "Output: The devison of big number / small number\n"
   ]
  },
  {
   "cell_type": "code",
   "execution_count": null,
   "metadata": {},
   "outputs": [],
   "source": []
  },
  {
   "cell_type": "markdown",
   "metadata": {},
   "source": [
    "\n",
    "\n",
    "\n",
    "Question 2: Create a Python program that finds the largest among three random integers.\n",
    "\n",
    "Input: Three random integers num1, num2, and num3.\n",
    "Output: The maximum among num1, num2, and num3.\n",
    "\n",
    "\n"
   ]
  },
  {
   "cell_type": "code",
   "execution_count": null,
   "metadata": {},
   "outputs": [],
   "source": []
  },
  {
   "cell_type": "markdown",
   "metadata": {},
   "source": [
    "\n",
    "\n",
    "\n",
    "\n",
    "\n",
    "\n",
    "Question 3: Implement a Python program to calculate simple interest and the total amount given the principal, rate of interest, and time.\n",
    "\n",
    "Input: Principal amount (P), random rate of interest (R), and time period (T).\n",
    "Output: Calculate and print the simple interest and the total amount after interest.\n",
    "\n",
    "\n"
   ]
  },
  {
   "cell_type": "code",
   "execution_count": null,
   "metadata": {},
   "outputs": [],
   "source": []
  },
  {
   "cell_type": "markdown",
   "metadata": {},
   "source": [
    "\n",
    "\n",
    "\n",
    "\n",
    "\n",
    "Question : Extend the previous program to calculate compound interest and the total amount with different compounding frequencies.\n",
    "\n",
    "Input: Principal amount (P), random rate of interest (R), time period (T), and compounding frequency per year (n).\n",
    "Output: Calculate and print the compound interest and the total amount after interest.\n",
    "\n",
    "\n"
   ]
  },
  {
   "cell_type": "code",
   "execution_count": null,
   "metadata": {},
   "outputs": [],
   "source": []
  },
  {
   "cell_type": "markdown",
   "metadata": {},
   "source": [
    "\n",
    "\n",
    "\n",
    "Question 5: Write a Python program to check if a number is an Armstrong number.\n",
    "\n",
    "Input: A random integer num.\n",
    "Output: Determine if num is an Armstrong number or not.\n",
    "\n",
    "\n"
   ]
  },
  {
   "cell_type": "code",
   "execution_count": null,
   "metadata": {},
   "outputs": [],
   "source": []
  },
  {
   "cell_type": "markdown",
   "metadata": {},
   "source": [
    "\n",
    "\n",
    "\n",
    "\n",
    "Question 6: Create a Python program to calculate and print the area and circumference of a circle given its radius.\n",
    "\n",
    "Input: Random radius of the circle, r.\n",
    "Output: Calculate and print the area and circumference of the circle.\n",
    "\n"
   ]
  },
  {
   "cell_type": "code",
   "execution_count": null,
   "metadata": {},
   "outputs": [],
   "source": []
  },
  {
   "cell_type": "markdown",
   "metadata": {},
   "source": [
    "\n",
    "\n",
    "Question 7: Develop a Python program to check if a given number is prime.\n",
    "\n",
    "Input: A random integer num.\n",
    "Output: Determine if num is a prime number or not.\n",
    "\n"
   ]
  },
  {
   "cell_type": "code",
   "execution_count": null,
   "metadata": {},
   "outputs": [],
   "source": []
  },
  {
   "cell_type": "markdown",
   "metadata": {},
   "source": [
    "\n",
    "\n",
    "\n",
    "Question 8: Write a Python program to find and print the ASCII value of a character.\n",
    "\n",
    "Input: A random character, char.\n",
    "Output: Print the ASCII value of char.\n",
    "#user ord function\n",
    "\n",
    "\n",
    "\n",
    "\n"
   ]
  },
  {
   "cell_type": "code",
   "execution_count": null,
   "metadata": {},
   "outputs": [],
   "source": []
  },
  {
   "cell_type": "markdown",
   "metadata": {},
   "source": [
    "\n",
    "\n",
    "Question 9: Implement a Python program to find the sum of squares of the first n natural numbers.\n",
    "\n",
    "Input: A random integer n (n >= 1).\n",
    "Output: Calculate and print the sum of squares of the first n natural numbers.\n",
    "\n"
   ]
  },
  {
   "cell_type": "code",
   "execution_count": null,
   "metadata": {},
   "outputs": [],
   "source": []
  },
  {
   "cell_type": "markdown",
   "metadata": {},
   "source": [
    "\n",
    "\n",
    "\n",
    "Question 10: Write a Python program to calculate the factorial of a non-negative integer n.\n",
    "\n",
    "Input: A random integer n (n >= 0).\n",
    "Output: The factorial of n.\n",
    "\n",
    "\n"
   ]
  },
  {
   "cell_type": "code",
   "execution_count": null,
   "metadata": {},
   "outputs": [],
   "source": []
  }
 ],
 "metadata": {
  "language_info": {
   "name": "python"
  },
  "orig_nbformat": 4
 },
 "nbformat": 4,
 "nbformat_minor": 2
}
