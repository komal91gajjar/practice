{
 "cells": [
  {
   "cell_type": "markdown",
   "id": "06975abe",
   "metadata": {},
   "source": [
    "# STRING"
   ]
  },
  {
   "cell_type": "code",
   "execution_count": 258,
   "id": "6f9ac83b",
   "metadata": {},
   "outputs": [
    {
     "name": "stdout",
     "output_type": "stream",
     "text": [
      "Symmetrical\n",
      "not Palindrome\n"
     ]
    }
   ],
   "source": [
    "# Python program to check whether the string is Symmetrical or Palindrome\n",
    "\n",
    "strs = \"khokho\"\n",
    "\n",
    "\n",
    "half = int(len(strs)/2)\n",
    "#print(half)\n",
    "\n",
    "first_strs = strs[:half]\n",
    "second_strs = strs[half:]\n",
    "\n",
    "#Symmetrical\n",
    "if first_strs == second_strs:\n",
    "    print(\"Symmetrical\")\n",
    "else:\n",
    "    print(\"not Symmetrical\")\n",
    "\n",
    "#Palindrome\n",
    "\n",
    "if first_strs == second_strs[::-1]:\n",
    "    print(\"Palindrome\")\n",
    "else:\n",
    "    print(\"not Palindrome\")\n",
    "\n",
    "\n",
    "    "
   ]
  },
  {
   "cell_type": "code",
   "execution_count": 23,
   "id": "5b7d1998",
   "metadata": {},
   "outputs": [
    {
     "name": "stdout",
     "output_type": "stream",
     "text": [
      "lengh of string: 4\n",
      "given string is not Symmetrical\n",
      "given string is not Palindrome\n"
     ]
    }
   ],
   "source": [
    "#s = \"amaama\"\n",
    "s= \"malayalam\"\n",
    "\n",
    "half = int(len(s)/2)\n",
    "print(\"lengh of string:\", half)\n",
    "\n",
    "first_strs = s[:half]\n",
    "second_strs = s[half:]\n",
    "\n",
    "#Symmetrical\n",
    "\n",
    "if first_strs == second_strs:\n",
    "    print(\"given string is Symmetrical\")\n",
    "    \n",
    "else:\n",
    "    print(\"given string is not Symmetrical\")\n",
    "    \n",
    "#Palindrome\n",
    "\n",
    "if first_strs == second_strs[::-1]:\n",
    "    print(\"given string is Palindrome\")\n",
    "else:\n",
    "    print(\"given string is not Palindrome\")\n",
    "\n",
    "\n",
    "\n"
   ]
  },
  {
   "cell_type": "code",
   "execution_count": 25,
   "id": "cb02d7c6",
   "metadata": {},
   "outputs": [
    {
     "name": "stdout",
     "output_type": "stream",
     "text": [
      "not Palindrome\n"
     ]
    }
   ],
   "source": [
    "s = \"malayalam\"\n",
    "\n",
    "#half = int(len(s)/2)\n",
    "#print(half)\n",
    "\n",
    "#first_s = s[:half]\n",
    "#second_s = s[half:]\n",
    "\n",
    "#if first_s == second_s:\n",
    "    #print(True)\n",
    "#else:\n",
    "    #print(False)\n",
    "    \n",
    "#if first_s == second_s[::-1]:\n",
    "    #print(True)\n",
    "#else:\n",
    "    #print(False)\n",
    "    \n",
    "if s == reversed(s):\n",
    "    print(\"Palindrome\")\n",
    "else:\n",
    "    print(\"not Palindrome\")"
   ]
  },
  {
   "cell_type": "code",
   "execution_count": 27,
   "id": "72986092",
   "metadata": {},
   "outputs": [],
   "source": [
    "# # code\n",
    "# string =\"malayalam\"\n",
    "# print(\"the string is palindrome\" if string==reversed(string) else \"the string is not palindrome\")\n"
   ]
  },
  {
   "cell_type": "code",
   "execution_count": 40,
   "id": "bb9cecea",
   "metadata": {},
   "outputs": [
    {
     "name": "stdout",
     "output_type": "stream",
     "text": [
      "['geeks', 'quiz', 'practice', 'code']\n",
      "code practice quiz geeks\n"
     ]
    }
   ],
   "source": [
    "# Reverse Words in a Given String in Python\n",
    "str =\" geeks quiz practice code\"\n",
    "\n",
    "words = str.split()\n",
    "print(words)\n",
    "\n",
    "r = \" \".join(reversed(words))\n",
    "print(r)\n",
    "\n",
    "# result = list(r)\n",
    "# print(result)\n",
    "\n",
    "\n",
    "\n",
    "\n"
   ]
  },
  {
   "cell_type": "code",
   "execution_count": 42,
   "id": "93b69772",
   "metadata": {},
   "outputs": [
    {
     "name": "stdout",
     "output_type": "stream",
     "text": [
      "['my', 'name', 'is', 'laxmi']\n",
      "laxmi is name my\n"
     ]
    }
   ],
   "source": [
    "str = \"my name is laxmi\"\n",
    "\n",
    "word = str.split()\n",
    "print(word)\n",
    "\n",
    "result = \" \".join(reversed(word))\n",
    "print(result)"
   ]
  },
  {
   "cell_type": "code",
   "execution_count": 48,
   "id": "a1b5c949",
   "metadata": {},
   "outputs": [
    {
     "name": "stdout",
     "output_type": "stream",
     "text": [
      "Gks123For123Gks\n",
      "Geek123For123Geeks\n"
     ]
    }
   ],
   "source": [
    "# How to Remove Letters From a String in Python\n",
    "\n",
    "s= 'Geeks123For123Geeks'\n",
    "\n",
    "new_str = s.replace(\"e\", '')\n",
    "print(new_str)\n",
    "\n",
    "new = s.replace(\"s\",'',1)\n",
    "print(new)"
   ]
  },
  {
   "cell_type": "code",
   "execution_count": 50,
   "id": "0f9472a0",
   "metadata": {},
   "outputs": [
    {
     "name": "stdout",
     "output_type": "stream",
     "text": [
      "GeksForGeeks\n"
     ]
    }
   ],
   "source": [
    "test_str = \"GeeksForGeeks\"\n",
    "new_str = \"\"\n",
    "\n",
    "for i in range(len(test_str)):\n",
    "    if i!=2:\n",
    "        new_str = new_str + test_str[i]\n",
    "        #new_str = new_str + test_str[i]\n",
    "print(new_str)"
   ]
  },
  {
   "cell_type": "code",
   "execution_count": 53,
   "id": "bde640a8",
   "metadata": {},
   "outputs": [
    {
     "data": {
      "text/plain": [
       "13"
      ]
     },
     "execution_count": 53,
     "metadata": {},
     "output_type": "execute_result"
    }
   ],
   "source": [
    "# Find length of a string in python (6 ways)\n",
    "s = 'hello world !'\n",
    "#s = 'abc'\n",
    "#s= ' h e l   l  o '\n",
    "\n",
    "result = len(s)\n",
    "result\n",
    "\n",
    "# for i in range(len(s)):\n",
    "#     if a in i:\n",
    "#         a.len(s)\n",
    "\n"
   ]
  },
  {
   "cell_type": "code",
   "execution_count": 58,
   "id": "6026e714",
   "metadata": {},
   "outputs": [
    {
     "name": "stdout",
     "output_type": "stream",
     "text": [
      "19\n"
     ]
    }
   ],
   "source": [
    "#Python – Avoid Spaces in string length\n",
    "\n",
    "s = \"geeksforgeeks 33 best\"\n",
    "\n",
    "# r = s.split()\n",
    "# print(r)\n",
    "\n",
    "result = sum(map(len,s.split()))\n",
    "print(result)\n",
    "\n"
   ]
  },
  {
   "cell_type": "code",
   "execution_count": 66,
   "id": "56a1fa3e",
   "metadata": {},
   "outputs": [
    {
     "name": "stdout",
     "output_type": "stream",
     "text": [
      "['This', 'is', 'a', 'python', 'language']\n",
      "This\n",
      "is\n",
      "python\n",
      "language\n"
     ]
    }
   ],
   "source": [
    "# Python program to print even length words in a string\n",
    "\n",
    "s = \"This is a python language\"\n",
    "\n",
    "n = s.split()\n",
    "print(n)\n",
    "\n",
    "for i in n:\n",
    "    if len(i)%2 == 0:\n",
    "        print(i)"
   ]
  },
  {
   "cell_type": "code",
   "execution_count": 74,
   "id": "836cd630",
   "metadata": {},
   "outputs": [
    {
     "name": "stdout",
     "output_type": "stream",
     "text": [
      "am\n",
      "['am']\n",
      "muskan\n",
      "['am', 'muskan']\n"
     ]
    }
   ],
   "source": [
    "s = \"i am muskan\"\n",
    "\n",
    "result = s.split()\n",
    "lst = []\n",
    "for i in result:\n",
    "    if len(i)%2 == 0:\n",
    "        print(i)\n",
    "        lst.append(i)\n",
    "        print(lst)\n",
    "        \n"
   ]
  },
  {
   "cell_type": "code",
   "execution_count": 82,
   "id": "b80e327d",
   "metadata": {},
   "outputs": [
    {
     "name": "stdout",
     "output_type": "stream",
     "text": [
      "6\n",
      " geeksfORGEEK\n"
     ]
    }
   ],
   "source": [
    "# Uppercase Half String\n",
    "\n",
    "test_str = 'geeksforgeek' \n",
    "\n",
    "half = len(test_str)//2\n",
    "print(half)\n",
    "\n",
    "result = \" \"\n",
    "\n",
    "for i in range(len(test_str)):\n",
    "    if i >= half:\n",
    "        result += test_str[i].upper()\n",
    "    else:\n",
    "        result += test_str[i]\n",
    "print(result)\n",
    "       "
   ]
  },
  {
   "cell_type": "code",
   "execution_count": 85,
   "id": "bcaf356d",
   "metadata": {},
   "outputs": [
    {
     "name": "stdout",
     "output_type": "stream",
     "text": [
      "3\n",
      "appLES\n"
     ]
    }
   ],
   "source": [
    "test_str = 'apples' \n",
    "\n",
    "a = int(len(test_str)/2)\n",
    "print(a)\n",
    "\n",
    "res = \"\"\n",
    "\n",
    "for i in range(len(test_str)):\n",
    "    if i >= a:\n",
    "        res += test_str[i].upper()\n",
    "    else:\n",
    "        res += test_str[i]\n",
    "print(res)"
   ]
  },
  {
   "cell_type": "code",
   "execution_count": 146,
   "id": "80745d53",
   "metadata": {},
   "outputs": [
    {
     "name": "stdout",
     "output_type": "stream",
     "text": [
      "HellO WorlD\n"
     ]
    }
   ],
   "source": [
    "# Python program to capitalize the first and last character of each word in a string\n",
    "\n",
    "s= \"hello world \"\n",
    "\n",
    "a = s.split()\n",
    "a\n",
    "\n",
    "r = []\n",
    "\n",
    "for i in a:\n",
    "    x = i[0].upper() + i[1:-1]+i[-1].upper()\n",
    "    #x = i[0].upper() + i[1:-1] + i[-1].upper()\n",
    "    r.append(x)\n",
    "    \n",
    "    \n",
    "result = \" \".join(r)\n",
    "print(result)"
   ]
  },
  {
   "cell_type": "code",
   "execution_count": 154,
   "id": "c6740ac1",
   "metadata": {},
   "outputs": [
    {
     "name": "stdout",
     "output_type": "stream",
     "text": [
      "['apple', 'green']\n",
      "ApplE \n",
      "ApplE GreeN \n"
     ]
    }
   ],
   "source": [
    "s = \"apple green\"\n",
    "\n",
    "a = s.split()\n",
    "print(a)\n",
    "x =\"\"\n",
    "for i in a:\n",
    "    x += i[0].upper()+i[1:-1]+i[-1].upper() +\" \"\n",
    "    print(x)"
   ]
  },
  {
   "cell_type": "code",
   "execution_count": 202,
   "id": "06626d89",
   "metadata": {
    "collapsed": true
   },
   "outputs": [
    {
     "ename": "AttributeError",
     "evalue": "'bool' object has no attribute 'isdigit'",
     "output_type": "error",
     "traceback": [
      "\u001b[1;31m---------------------------------------------------------------------------\u001b[0m",
      "\u001b[1;31mAttributeError\u001b[0m                            Traceback (most recent call last)",
      "Cell \u001b[1;32mIn[202], line 9\u001b[0m\n\u001b[0;32m      6\u001b[0m cha \u001b[38;5;241m=\u001b[39m \u001b[38;5;28;01mFalse\u001b[39;00m\n\u001b[0;32m      8\u001b[0m \u001b[38;5;28;01mfor\u001b[39;00m i \u001b[38;5;129;01min\u001b[39;00m s:\n\u001b[1;32m----> 9\u001b[0m     \u001b[38;5;28;01mif\u001b[39;00m \u001b[43mnumber\u001b[49m\u001b[38;5;241;43m.\u001b[39;49m\u001b[43misdigit\u001b[49m():\n\u001b[0;32m     10\u001b[0m         number \u001b[38;5;241m=\u001b[39m \u001b[38;5;28;01mTrue\u001b[39;00m\n\u001b[0;32m     11\u001b[0m     \u001b[38;5;28;01mif\u001b[39;00m cha\u001b[38;5;241m.\u001b[39misalpha():\n",
      "\u001b[1;31mAttributeError\u001b[0m: 'bool' object has no attribute 'isdigit'"
     ]
    }
   ],
   "source": [
    "# Python program to check if a string has at least one letter and one number\n",
    "\n",
    "s = \"welcome2ourcountry34\"\n",
    "\n",
    "number = False\n",
    "cha = False\n",
    "\n",
    "for i in s:\n",
    "    if number.isdigit():\n",
    "        number = True\n",
    "    if cha.isalpha():\n",
    "        cha = True\n",
    "\n"
   ]
  },
  {
   "cell_type": "code",
   "execution_count": 170,
   "id": "4e07a8f7",
   "metadata": {},
   "outputs": [
    {
     "name": "stdout",
     "output_type": "stream",
     "text": [
      "False\n"
     ]
    }
   ],
   "source": [
    "# Contains all Vowels\n",
    "\n",
    "#s = \"geeksforgeeks\"\n",
    "s = \"practicepython\"\n",
    "string = s.lower()\n",
    "string\n",
    "\n",
    "vowels = set(\"aeiou\")\n",
    "a = set({})\n",
    "\n",
    "\n",
    "for i in string:\n",
    "    if i in vowels:\n",
    "        #print(True)\n",
    "        a.add(i)\n",
    "    else:\n",
    "        pass\n",
    "    \n",
    "if len(s) == len(vowels):\n",
    "    #print(\"accepted\")\n",
    "    print(True)\n",
    "else:\n",
    "    #print(\"not accepted\")\n",
    "    print(False)"
   ]
  },
  {
   "cell_type": "code",
   "execution_count": 172,
   "id": "200a685d",
   "metadata": {},
   "outputs": [
    {
     "name": "stdout",
     "output_type": "stream",
     "text": [
      "True\n"
     ]
    }
   ],
   "source": [
    "s = \"practicepython\" \n",
    "vowels = set(\"aei\")\n",
    "res = set()\n",
    "\n",
    "for i in s:\n",
    "    if i in vowels:\n",
    "        res.add(i)\n",
    "\n",
    "if len(res) == len(vowels):\n",
    "    print(True)\n",
    "else:\n",
    "    print(False)\n"
   ]
  },
  {
   "cell_type": "code",
   "execution_count": 181,
   "id": "c4e4f132",
   "metadata": {},
   "outputs": [
    {
     "data": {
      "text/plain": [
       "4"
      ]
     },
     "execution_count": 181,
     "metadata": {},
     "output_type": "execute_result"
    }
   ],
   "source": [
    "# Python | Count the Number of matching characters in a pair of string\n",
    "\n",
    "str1 = \"abcdef\"\n",
    "str2 = \"defghia\"\n",
    "\n",
    "\n",
    "def countchar(str1,str2):\n",
    "    return (len((set(str1)).intersection(set(str2))))\n",
    "\n",
    "#no_of_common_element =str1.lower() , str2.lower()\n",
    "#print(no_of_common_element)\n",
    "\n",
    "countchar(str1,str2)"
   ]
  },
  {
   "cell_type": "code",
   "execution_count": 182,
   "id": "3722c6d3",
   "metadata": {},
   "outputs": [
    {
     "data": {
      "text/plain": [
       "5"
      ]
     },
     "execution_count": 182,
     "metadata": {},
     "output_type": "execute_result"
    }
   ],
   "source": [
    "str1 = \"aabcddekll12@\"\n",
    "str2 = \"bb2211@55k\"\n",
    "\n",
    "\n",
    "intersection = len(set(str1).intersection(set(str2)))\n",
    "intersection\n",
    " "
   ]
  },
  {
   "cell_type": "code",
   "execution_count": 201,
   "id": "80908361",
   "metadata": {},
   "outputs": [
    {
     "name": "stdout",
     "output_type": "stream",
     "text": [
      "5\n"
     ]
    }
   ],
   "source": [
    "# Python program to count number of vowels using sets in given string\n",
    "\n",
    "string = \"GeekforGeeks!\"\n",
    "vowels = 'aeiou'\n",
    "\n",
    "a = sum(string.count(i)for i in vowels)\n",
    "print(a)\n",
    "\n"
   ]
  },
  {
   "cell_type": "code",
   "execution_count": 209,
   "id": "1b3be587",
   "metadata": {},
   "outputs": [
    {
     "name": "stdout",
     "output_type": "stream",
     "text": [
      "skeeGrofskeeG\n"
     ]
    }
   ],
   "source": [
    "#Reverse string in Python \n",
    "\n",
    "s = \"GeeksforGeeks\"\n",
    "\n",
    "str = \"\"\n",
    "for i in s:\n",
    "    str = i + str\n",
    "print(str)\n"
   ]
  },
  {
   "cell_type": "code",
   "execution_count": 190,
   "id": "f64edec5",
   "metadata": {},
   "outputs": [
    {
     "data": {
      "text/plain": [
       "'efgkors'"
      ]
     },
     "execution_count": 190,
     "metadata": {},
     "output_type": "execute_result"
    }
   ],
   "source": [
    "# Remove all duplicates from a given string in Python\n",
    "\n",
    "s = \"geeksforgeeks\"\n",
    "\n",
    "result = set(s)\n",
    "result\n",
    "\n",
    "a = \"\".join(sorted(result))\n",
    "a"
   ]
  },
  {
   "cell_type": "markdown",
   "id": "5f8d9f5e",
   "metadata": {},
   "source": [
    "# LIST"
   ]
  },
  {
   "cell_type": "code",
   "execution_count": 215,
   "id": "297085df",
   "metadata": {},
   "outputs": [
    {
     "name": "stdout",
     "output_type": "stream",
     "text": [
      "[3, 2, 1]\n"
     ]
    }
   ],
   "source": [
    "#Python program to interchange first and last elements in a list\n",
    "\n",
    "#lst = [12, 35, 9, 56, 24]\n",
    "lst = [1, 2, 3]\n",
    "lst[0] ,lst[-1] = lst[-1] ,lst[0]\n",
    "print(lst)\n"
   ]
  },
  {
   "cell_type": "code",
   "execution_count": 217,
   "id": "4c045eb8",
   "metadata": {},
   "outputs": [
    {
     "name": "stdout",
     "output_type": "stream",
     "text": [
      "[19, 65, 23, 90]\n"
     ]
    }
   ],
   "source": [
    "# Python Program to Swap Two Elements in a List\n",
    "\n",
    "List = [23, 65, 19, 90]\n",
    "\n",
    "List[0],List[2] = List[2],List[0]\n",
    "print(List)"
   ]
  },
  {
   "cell_type": "code",
   "execution_count": 218,
   "id": "983a5a13",
   "metadata": {},
   "outputs": [
    {
     "data": {
      "text/plain": [
       "5"
      ]
     },
     "execution_count": 218,
     "metadata": {},
     "output_type": "execute_result"
    }
   ],
   "source": [
    "# How To Find the Length of a List in Python\n",
    "\n",
    "test_list = ['Gfg', 'is', 'best', 'for', 'Geeks']\n",
    "\n",
    "r = len(test_list)\n",
    "r"
   ]
  },
  {
   "cell_type": "code",
   "execution_count": 219,
   "id": "cc2a1caa",
   "metadata": {},
   "outputs": [
    {
     "name": "stdout",
     "output_type": "stream",
     "text": [
      "4\n"
     ]
    }
   ],
   "source": [
    "lst = [10,20,30,40]\n",
    "print(len(lst))"
   ]
  },
  {
   "cell_type": "code",
   "execution_count": 220,
   "id": "7ea8c305",
   "metadata": {},
   "outputs": [
    {
     "name": "stdout",
     "output_type": "stream",
     "text": [
      "True\n"
     ]
    }
   ],
   "source": [
    "# Check if element exists in list in Python\n",
    "\n",
    "test_list = [1, 6, 3, 5, 3, 4]\n",
    "\n",
    "if 3 in test_list:\n",
    "    print(True)\n",
    "else:\n",
    "    print(False)"
   ]
  },
  {
   "cell_type": "code",
   "execution_count": 226,
   "id": "1ccccddd",
   "metadata": {},
   "outputs": [
    {
     "name": "stdout",
     "output_type": "stream",
     "text": [
      "False\n",
      "False\n",
      "False\n",
      "False\n",
      "False\n",
      "False\n"
     ]
    }
   ],
   "source": [
    "test_list = [1, 6, 3, 5, 3, 4]\n",
    "for i in test_list:\n",
    "    if (i == 7):\n",
    "        print(True)\n",
    "    else:\n",
    "        print(False)"
   ]
  },
  {
   "cell_type": "code",
   "execution_count": 233,
   "id": "57543eef",
   "metadata": {},
   "outputs": [],
   "source": [
    "# Different ways to clear a list in Python\n",
    "lst = [2, 3, 5, 6, 7]\n",
    "\n",
    "lst.clear()\n",
    "\n",
    "del lst\n",
    "\n",
    "lst"
   ]
  },
  {
   "cell_type": "code",
   "execution_count": 234,
   "id": "8bee6960",
   "metadata": {},
   "outputs": [
    {
     "data": {
      "text/plain": [
       "3"
      ]
     },
     "execution_count": 234,
     "metadata": {},
     "output_type": "execute_result"
    }
   ],
   "source": [
    "list1 = [1, 2, 3]\n",
    "\n",
    "list1.pop()"
   ]
  },
  {
   "cell_type": "code",
   "execution_count": 243,
   "id": "dd29033b",
   "metadata": {},
   "outputs": [
    {
     "data": {
      "text/plain": [
       "[9, 8, 7, 6, 5, 4]"
      ]
     },
     "execution_count": 243,
     "metadata": {},
     "output_type": "execute_result"
    }
   ],
   "source": [
    "# Reversing a List in Python\n",
    "\n",
    "lst = [4, 5, 6, 7, 8, 9]\n",
    "\n",
    "r = list(reversed(lst))\n",
    "r\n"
   ]
  },
  {
   "cell_type": "code",
   "execution_count": 244,
   "id": "d901373c",
   "metadata": {},
   "outputs": [
    {
     "data": {
      "text/plain": [
       "[9, 8, 7, 6, 5, 4]"
      ]
     },
     "execution_count": 244,
     "metadata": {},
     "output_type": "execute_result"
    }
   ],
   "source": [
    "lst = [4, 5, 6, 7, 8, 9]\n",
    "res = lst[::-1]\n",
    "res"
   ]
  },
  {
   "cell_type": "code",
   "execution_count": 248,
   "id": "440c6e7e",
   "metadata": {},
   "outputs": [
    {
     "data": {
      "text/plain": [
       "[4, 5, 6, 7, 8, 9]"
      ]
     },
     "execution_count": 248,
     "metadata": {},
     "output_type": "execute_result"
    }
   ],
   "source": [
    "lst.reverse()\n",
    "lst"
   ]
  },
  {
   "cell_type": "code",
   "execution_count": 250,
   "id": "31496234",
   "metadata": {},
   "outputs": [
    {
     "data": {
      "text/plain": [
       "3"
      ]
     },
     "execution_count": 250,
     "metadata": {},
     "output_type": "execute_result"
    }
   ],
   "source": [
    "# Python | Count occurrences of an element in a list\n",
    "\n",
    "lst = [15, 6, 7, 10, 12, 20, 10, 28, 10]\n",
    "x = 10\n",
    "#Output: 3 \n",
    "\n",
    "r= lst.count(10)\n",
    "r"
   ]
  },
  {
   "cell_type": "code",
   "execution_count": 256,
   "id": "f6378640",
   "metadata": {},
   "outputs": [
    {
     "name": "stdout",
     "output_type": "stream",
     "text": [
      "46\n",
      "5.75\n"
     ]
    }
   ],
   "source": [
    "# Find sum and average of List in Python\n",
    "\n",
    "lt = [4, 5, 1, 2, 9, 7, 10, 8]\n",
    "\n",
    "count = sum(lt)\n",
    "print(count)\n",
    "\n",
    "avrage = count/len(lt)\n",
    "print(avrage)"
   ]
  },
  {
   "cell_type": "code",
   "execution_count": 257,
   "id": "962d8101",
   "metadata": {},
   "outputs": [
    {
     "data": {
      "text/plain": [
       "211"
      ]
     },
     "execution_count": 257,
     "metadata": {},
     "output_type": "execute_result"
    }
   ],
   "source": [
    "# Sum of number digits in List\n",
    "\n",
    "test_list = [12, 67, 98, 34]\n",
    "\n",
    "r = sum(test_list)\n",
    "r"
   ]
  },
  {
   "cell_type": "code",
   "execution_count": null,
   "id": "032aa64b",
   "metadata": {},
   "outputs": [],
   "source": []
  }
 ],
 "metadata": {
  "kernelspec": {
   "display_name": "Python 3 (ipykernel)",
   "language": "python",
   "name": "python3"
  },
  "language_info": {
   "codemirror_mode": {
    "name": "ipython",
    "version": 3
   },
   "file_extension": ".py",
   "mimetype": "text/x-python",
   "name": "python",
   "nbconvert_exporter": "python",
   "pygments_lexer": "ipython3",
   "version": "3.9.12"
  }
 },
 "nbformat": 4,
 "nbformat_minor": 5
}
