{
 "cells": [
  {
   "cell_type": "markdown",
   "id": "5cea0296",
   "metadata": {},
   "source": [
    "# If else"
   ]
  },
  {
   "cell_type": "code",
   "execution_count": 1,
   "id": "25af3f61",
   "metadata": {},
   "outputs": [
    {
     "name": "stdout",
     "output_type": "stream",
     "text": [
      "both are same values\n"
     ]
    }
   ],
   "source": [
    "a = 33\n",
    "b = 33\n",
    "\n",
    "if b < a:\n",
    "  print(\"b is greater than a\")\n",
    "elif a == b :\n",
    "  print(\"both are same values\")\n",
    "else:\n",
    "  print(\"b is less  than a\")\n"
   ]
  },
  {
   "cell_type": "code",
   "execution_count": 3,
   "id": "5e553d49",
   "metadata": {},
   "outputs": [
    {
     "name": "stdout",
     "output_type": "stream",
     "text": [
      "C is greter than B\n"
     ]
    }
   ],
   "source": [
    "a = 22.5\n",
    "b = 53\n",
    "c = 90\n",
    "\n",
    "if a > b:\n",
    "    print(\"A is less than B\")\n",
    "elif a == c:\n",
    "    print(\" A and C values same\")\n",
    "elif b > c:\n",
    "    print(\"B is less than C\")\n",
    "else:\n",
    "    print(\"C is greter than B\")"
   ]
  },
  {
   "cell_type": "code",
   "execution_count": 6,
   "id": "a9210ba5",
   "metadata": {},
   "outputs": [
    {
     "name": "stdout",
     "output_type": "stream",
     "text": [
      "A and B is same value\n"
     ]
    }
   ],
   "source": [
    "a = 20\n",
    "b = 20\n",
    "c = 10\n",
    "\n",
    "if a < c:\n",
    "    print(\"A is less than C \")\n",
    "elif a != b:\n",
    "    print(\"A and B is same value\")\n",
    "elif a == b:\n",
    "    print(\"A and B is same value\")\n",
    "elif b > c:\n",
    "    print(\"B is greter than C\")\n",
    "else:\n",
    "    print(\"all condition are True\")\n",
    "    "
   ]
  },
  {
   "cell_type": "code",
   "execution_count": 7,
   "id": "94e1383e",
   "metadata": {},
   "outputs": [
    {
     "name": "stdout",
     "output_type": "stream",
     "text": [
      "x is greter than y\n"
     ]
    }
   ],
   "source": [
    "x = 10\n",
    "y = 5\n",
    "\n",
    "if x > y: print(\"x is greter than y\")"
   ]
  },
  {
   "cell_type": "code",
   "execution_count": 10,
   "id": "dca8c24a",
   "metadata": {},
   "outputs": [
    {
     "data": {
      "text/plain": [
       "'x is greter than y'"
      ]
     },
     "execution_count": 10,
     "metadata": {},
     "output_type": "execute_result"
    }
   ],
   "source": [
    "print(\"x is less than y\") if x < y else (\"x is greter than y\")"
   ]
  },
  {
   "cell_type": "code",
   "execution_count": 16,
   "id": "fd8aa643",
   "metadata": {},
   "outputs": [
    {
     "name": "stdout",
     "output_type": "stream",
     "text": [
      "list not correct\n"
     ]
    }
   ],
   "source": [
    "a = [\"apple\", \"banana\", \"cherry\"]\n",
    "#for i in a:\n",
    "if \"sugar\" in i:\n",
    "    print(\"list is correct\")\n",
    "else:\n",
    "    print(\"list not correct\")\n"
   ]
  },
  {
   "cell_type": "code",
   "execution_count": 14,
   "id": "79c13634",
   "metadata": {},
   "outputs": [
    {
     "name": "stdout",
     "output_type": "stream",
     "text": [
      "False\n"
     ]
    }
   ],
   "source": [
    "if \"sugar\" in a:\n",
    "    print(\"True\")\n",
    "else:\n",
    "    print(\"False\")"
   ]
  },
  {
   "cell_type": "markdown",
   "id": "cff415c5",
   "metadata": {},
   "source": [
    "# While loop"
   ]
  },
  {
   "cell_type": "code",
   "execution_count": 21,
   "id": "827e9148",
   "metadata": {
    "collapsed": true
   },
   "outputs": [
    {
     "name": "stdout",
     "output_type": "stream",
     "text": [
      "1\n",
      "2\n",
      "3\n",
      "4\n",
      "5\n",
      "6\n",
      "7\n",
      "8\n",
      "9\n"
     ]
    }
   ],
   "source": [
    "a = 1\n",
    "while a < 10:\n",
    "    print(a)\n",
    "  \n",
    "    a += 1"
   ]
  },
  {
   "cell_type": "code",
   "execution_count": 30,
   "id": "93566342",
   "metadata": {},
   "outputs": [
    {
     "name": "stdout",
     "output_type": "stream",
     "text": [
      "0\n",
      "1\n",
      "2\n",
      "3\n",
      "4\n",
      "5\n"
     ]
    }
   ],
   "source": [
    "# break statment\n",
    "a = 0\n",
    "\n",
    "while a < 10:\n",
    "    print(a)\n",
    "    \n",
    "    if a == 5:\n",
    "        break\n",
    "  \n",
    "    a += 1"
   ]
  },
  {
   "cell_type": "code",
   "execution_count": 29,
   "id": "c3b07c87",
   "metadata": {},
   "outputs": [
    {
     "name": "stdout",
     "output_type": "stream",
     "text": [
      "1\n",
      "2\n",
      "3\n",
      "4\n",
      "6\n",
      "7\n",
      "8\n",
      "9\n",
      "10\n"
     ]
    }
   ],
   "source": [
    "a = 0\n",
    "\n",
    "while a < 10:\n",
    "    a +=1\n",
    "    if a == 5:\n",
    "        continue\n",
    "    \n",
    "    print(a)"
   ]
  },
  {
   "cell_type": "code",
   "execution_count": 33,
   "id": "2fe29510",
   "metadata": {},
   "outputs": [
    {
     "name": "stdout",
     "output_type": "stream",
     "text": [
      "Enter your marks:-20\n",
      "you fail\n"
     ]
    }
   ],
   "source": [
    "a = int(input(\"Enter your marks:-\"))\n",
    "\n",
    "if a > 50:\n",
    "    print(\"you pass\")\n",
    "else:\n",
    "    print(\"you fail\")"
   ]
  },
  {
   "cell_type": "code",
   "execution_count": 50,
   "id": "59b339cc",
   "metadata": {},
   "outputs": [
    {
     "name": "stdout",
     "output_type": "stream",
     "text": [
      "enter your input : mmm\n",
      "========================================\n",
      "you wrong enterd\n"
     ]
    }
   ],
   "source": [
    "a = str(input(\"enter your input : \"))\n",
    "\n",
    "\n",
    "if a == \"Monday\":\n",
    "    print(30*\"=\")\n",
    "    print(\"Today is :monday\")\n",
    "elif a == \"Tuesday\":\n",
    "    print(\"Today is :Tuesday\")\n",
    "elif a == \"Wednesday\":\n",
    "    print(\"Today is :Wednesday\")\n",
    "elif a == \"Thrusday\":\n",
    "    print(\"Today is :Thrusday\")\n",
    "elif a == \"Friday\":\n",
    "    print(\"Today is :Friday\")\n",
    "elif a == \"Saturday\":\n",
    "    print(\"Today is :Saturday\")\n",
    "elif a == \"Sunday\":\n",
    "    print(\"Today is :Sunday\")\n",
    "else:\n",
    "    print(40* \"=\")\n",
    "    print(\"you wrong enterd\")\n"
   ]
  },
  {
   "cell_type": "code",
   "execution_count": 61,
   "id": "4ce6d776",
   "metadata": {},
   "outputs": [
    {
     "name": "stdout",
     "output_type": "stream",
     "text": [
      "apple\n",
      "cherry\n"
     ]
    }
   ],
   "source": [
    "a = [\"apple\", \"banana\", \"cherry\"]\n",
    "for i in a:\n",
    "    if \"banana\" == i:\n",
    "        continue\n",
    "    print(i)\n",
    "    "
   ]
  },
  {
   "cell_type": "code",
   "execution_count": 62,
   "id": "603ae7c9",
   "metadata": {},
   "outputs": [
    {
     "name": "stdout",
     "output_type": "stream",
     "text": [
      "apple\n",
      "banana\n"
     ]
    }
   ],
   "source": [
    "a = [\"apple\", \"banana\", \"cherry\"]\n",
    "for i in a:\n",
    "    print(i)\n",
    "    if \"banana\" == i:\n",
    "        break\n",
    "    "
   ]
  },
  {
   "cell_type": "code",
   "execution_count": 63,
   "id": "653bbbc2",
   "metadata": {},
   "outputs": [
    {
     "name": "stdout",
     "output_type": "stream",
     "text": [
      "Please enter the end number: 10\n",
      "1\n",
      "2\n",
      "3\n",
      "4\n",
      "6\n",
      "7\n",
      "8\n",
      "9\n",
      "10\n"
     ]
    }
   ],
   "source": [
    "end_number = int(input(\"Please enter the end number: \"))\n",
    "\n",
    "# Using a for loop to iterate from 1 to the user-provided end number\n",
    "for i in range(1, end_number + 1):\n",
    "    if i == 5:\n",
    "        continue\n",
    "    print(i)"
   ]
  },
  {
   "cell_type": "code",
   "execution_count": 64,
   "id": "045cde06",
   "metadata": {},
   "outputs": [
    {
     "name": "stdout",
     "output_type": "stream",
     "text": [
      "Please enter the end number: 10\n",
      "1\n",
      "2\n",
      "3\n",
      "4\n",
      "5\n"
     ]
    }
   ],
   "source": [
    "end_number = int(input(\"Please enter the end number: \"))\n",
    "\n",
    "# Using a for loop to iterate from 1 to the user-provided end number\n",
    "for i in range(1, end_number + 1):\n",
    "    if i == 6:\n",
    "        break\n",
    "    print(i)"
   ]
  },
  {
   "cell_type": "code",
   "execution_count": 70,
   "id": "ac3c3b9e",
   "metadata": {},
   "outputs": [
    {
     "name": "stdout",
     "output_type": "stream",
     "text": [
      "enter one No:-5\n",
      "1 even no\n",
      "2 odd no\n",
      "3 even no\n",
      "4 odd no\n",
      "5 even no\n"
     ]
    }
   ],
   "source": [
    "userdata = int(input(\"enter one No:-\"))\n",
    "\n",
    "for i in range(1, userdata +1):\n",
    "    if i % 2 == 0:\n",
    "        print(f\"{i} odd no\")\n",
    "    else:\n",
    "        print(f\"{i} even no\")"
   ]
  },
  {
   "cell_type": "code",
   "execution_count": 71,
   "id": "73678244",
   "metadata": {},
   "outputs": [
    {
     "name": "stdout",
     "output_type": "stream",
     "text": [
      "enter no:-3\n",
      "1 even no\n",
      "2 odd no\n",
      "3 even no\n"
     ]
    }
   ],
   "source": [
    "a = int(input(\"enter no:-\"))\n",
    "for i in range(1, a +1):\n",
    "    if i % 2 == 0:\n",
    "        print(f\"{i} odd no\")\n",
    "    else:\n",
    "        print(f\"{i} even no\")"
   ]
  },
  {
   "cell_type": "code",
   "execution_count": 72,
   "id": "98f65ed2",
   "metadata": {},
   "outputs": [
    {
     "name": "stdout",
     "output_type": "stream",
     "text": [
      "hello\n",
      "good bye\n"
     ]
    }
   ],
   "source": [
    "a = \"hello\", \"good bye\"\n",
    "for i in a:\n",
    "    print(i)"
   ]
  },
  {
   "cell_type": "code",
   "execution_count": 73,
   "id": "52fb0203",
   "metadata": {},
   "outputs": [
    {
     "name": "stdout",
     "output_type": "stream",
     "text": [
      "0\n",
      "1\n",
      "2\n",
      "3\n",
      "4\n",
      "5\n"
     ]
    }
   ],
   "source": [
    "for i in range(0,6):\n",
    "    print(i)\n"
   ]
  },
  {
   "cell_type": "code",
   "execution_count": 74,
   "id": "f09ecd97",
   "metadata": {},
   "outputs": [
    {
     "name": "stdout",
     "output_type": "stream",
     "text": [
      "2\n",
      "4\n",
      "6\n",
      "8\n",
      "10\n",
      "12\n",
      "14\n",
      "16\n",
      "18\n"
     ]
    }
   ],
   "source": [
    "for a in range(2,20,2):\n",
    "    print(a)"
   ]
  },
  {
   "cell_type": "code",
   "execution_count": 4,
   "id": "645781a1",
   "metadata": {},
   "outputs": [
    {
     "name": "stdout",
     "output_type": "stream",
     "text": [
      "enter your age:-25\n",
      "you are eligibal for voting\n"
     ]
    }
   ],
   "source": [
    "age = int(input(\"enter your age:-\"))\n",
    "if age >= 18:\n",
    "    print(\"you are eligibal for voting\")\n",
    "else:\n",
    "    print(\"you are not eligibal for voting\")"
   ]
  },
  {
   "cell_type": "code",
   "execution_count": null,
   "id": "00455f5e",
   "metadata": {},
   "outputs": [],
   "source": [
    "# sample data\n",
    "\n",
    "name = input(\"enter your name:-\")\n",
    "print(20* \"-\")\n",
    "print(name)\n",
    "\n",
    "user_data = input(\"Enter Your Gender:-\")\n",
    "if user_data == \"Female\":\n",
    "    print(20* \"-\")\n",
    "    print(\"Female\")\n",
    "elif user_data == \"male\":\n",
    "    print(\"Male\")\n",
    "else:\n",
    "    print(\"Others\")\n",
    "    \n",
    "age = int(input(\"enter your age:-\"))\n",
    "if age >= 18:\n",
    "    print(20* \"-\")\n",
    "    print(\"you are eligibal for voting\")\n",
    "else:\n",
    "    print(\"you are not eligibal for voting\")"
   ]
  },
  {
   "cell_type": "code",
   "execution_count": null,
   "id": "67dfc43d",
   "metadata": {},
   "outputs": [],
   "source": []
  },
  {
   "cell_type": "code",
   "execution_count": 1,
   "id": "3adc7b2e",
   "metadata": {},
   "outputs": [
    {
     "name": "stdout",
     "output_type": "stream",
     "text": [
      "Enter Your Gender:-female\n",
      "Others\n"
     ]
    }
   ],
   "source": [
    "user_data = input(\"Enter Your Gender:-\")\n",
    "if user_data == \"Female\":\n",
    "    print(20* \"-\")\n",
    "    print(\"Female\")\n",
    "elif user_data == \"male\":\n",
    "    print(\"Male\")\n",
    "else:\n",
    "    print(\"Others\")"
   ]
  },
  {
   "cell_type": "markdown",
   "id": "2e5aa430",
   "metadata": {},
   "source": [
    "# Function"
   ]
  },
  {
   "cell_type": "code",
   "execution_count": 8,
   "id": "3d3ff4f4",
   "metadata": {},
   "outputs": [
    {
     "name": "stdout",
     "output_type": "stream",
     "text": [
      "hello\n"
     ]
    }
   ],
   "source": [
    "def myfunction():\n",
    "    print(\"hello\")\n",
    "    \n",
    "myfunction()\n"
   ]
  },
  {
   "cell_type": "code",
   "execution_count": 12,
   "id": "66e0cb8b",
   "metadata": {},
   "outputs": [
    {
     "name": "stdout",
     "output_type": "stream",
     "text": [
      "aaakkk\n"
     ]
    }
   ],
   "source": [
    "def name(fname):\n",
    "    print(fname + \"kkk\")\n",
    "name(\"aaa\")"
   ]
  },
  {
   "cell_type": "code",
   "execution_count": 13,
   "id": "d235cceb",
   "metadata": {},
   "outputs": [
    {
     "name": "stdout",
     "output_type": "stream",
     "text": [
      "aaakkk\n",
      "bbkkk\n",
      "ackkk\n"
     ]
    }
   ],
   "source": [
    "def name(fname):\n",
    "    print(fname + \"kkk\")\n",
    "name(\"aaa\")\n",
    "name(\"bb\")\n",
    "name(\"ac\")"
   ]
  },
  {
   "cell_type": "code",
   "execution_count": 18,
   "id": "4dc2e9aa",
   "metadata": {},
   "outputs": [
    {
     "name": "stdout",
     "output_type": "stream",
     "text": [
      "name is: komal  and my age is: 20\n"
     ]
    }
   ],
   "source": [
    "def myfunction(name,age):\n",
    "    print(\"name is:\", name ,\"\",\"and my age is:\", age)\n",
    "myfunction(\"komal\",20)    "
   ]
  },
  {
   "cell_type": "code",
   "execution_count": 2,
   "id": "64ba2574",
   "metadata": {},
   "outputs": [
    {
     "name": "stdout",
     "output_type": "stream",
     "text": [
      "name is: komal and my age is 20 and my address is Ahmedabad\n"
     ]
    }
   ],
   "source": [
    "def myfunction(name,age,address):\n",
    "    print(\"name is:\", name ,\"and my age is\", age,\"and my address is\",address)\n",
    "myfunction(\"komal\",20,\"Ahmedabad\")  "
   ]
  },
  {
   "cell_type": "code",
   "execution_count": 21,
   "id": "bfd65fe7",
   "metadata": {},
   "outputs": [
    {
     "name": "stdout",
     "output_type": "stream",
     "text": [
      "enter your string:today\n",
      "yadot\n"
     ]
    }
   ],
   "source": [
    "user_data = input(\"enter your string:\")\n",
    "\n",
    "def rev_str(user_data):\n",
    "    return user_data[::-1]\n",
    "\n",
    "a = rev_str(user_data)\n",
    "print(a)"
   ]
  },
  {
   "cell_type": "code",
   "execution_count": 22,
   "id": "933f8d56",
   "metadata": {},
   "outputs": [
    {
     "name": "stdout",
     "output_type": "stream",
     "text": [
      "enter your data:today is first day\n",
      "yad tsrif si yadot\n"
     ]
    }
   ],
   "source": [
    "user_string = input(\"enter your data:\")\n",
    "\n",
    "def reverse_string(user_string):\n",
    "    return user_string[:: -1]\n",
    "\n",
    "reversed_string = reverse_string(user_string)\n",
    "print(reversed_string)\n"
   ]
  },
  {
   "cell_type": "code",
   "execution_count": 1,
   "id": "7a46487b",
   "metadata": {},
   "outputs": [],
   "source": [
    "import inspect"
   ]
  },
  {
   "cell_type": "code",
   "execution_count": 5,
   "id": "73ddb5cb",
   "metadata": {},
   "outputs": [
    {
     "name": "stdout",
     "output_type": "stream",
     "text": [
      "(a, b)\n"
     ]
    }
   ],
   "source": [
    "def param(a,b):\n",
    "    return a**b\n",
    "print(inspect.signature(param))\n",
    "#param(a,b)"
   ]
  },
  {
   "cell_type": "code",
   "execution_count": 8,
   "id": "48bcd1e7",
   "metadata": {},
   "outputs": [
    {
     "name": "stdout",
     "output_type": "stream",
     "text": [
      "my name is: komal and my age is 30 and my address is ahmedabad\n",
      "my name is: chirag and my age is 25 and my address is anand\n",
      "my name is: pooja and my age is 35 and my address is ghodasar\n"
     ]
    }
   ],
   "source": [
    "# How to Print Multiple Arguments in Python?\n",
    "\n",
    "def identity(name,age,address):\n",
    "    print(\"my name is:\", name,\"and my age is\", age, \"and my address is\", address)\n",
    "identity(\"komal\",30,\"ahmedabad\")\n",
    "identity(\"chirag\",25,\"anand\")\n",
    "identity(\"pooja\",35,\"ghodasar\")"
   ]
  },
  {
   "cell_type": "code",
   "execution_count": 10,
   "id": "006700db",
   "metadata": {},
   "outputs": [
    {
     "name": "stdout",
     "output_type": "stream",
     "text": [
      "<function recursion at 0x000001AE7ADB4DC0>\n"
     ]
    }
   ],
   "source": [
    "# program to find the power of a number using recursion\n",
    "n = 2\n",
    "p = 3\n",
    "\n",
    "def recursion(n,p):\n",
    "    if p == 0:\n",
    "        return(p*2)\n",
    "    \n",
    "print(recursion)\n",
    "    \n"
   ]
  },
  {
   "cell_type": "code",
   "execution_count": null,
   "id": "b1f0c159",
   "metadata": {},
   "outputs": [],
   "source": [
    "# Sorting objects of user defined class in Python"
   ]
  },
  {
   "cell_type": "code",
   "execution_count": 12,
   "id": "1a8163c2",
   "metadata": {},
   "outputs": [
    {
     "name": "stdout",
     "output_type": "stream",
     "text": [
      "True\n"
     ]
    }
   ],
   "source": [
    "# How to check if a Python variable exists?\n",
    "\n",
    "a = [\"apple\", \"banana\", \"chery\",\"watermelon\"]\n",
    "def simple(a):\n",
    "    if \"apple\" in a:\n",
    "        print(\"True\")\n",
    "    else:\n",
    "        print(\"false\")\n",
    "simple(a)"
   ]
  },
  {
   "cell_type": "code",
   "execution_count": 14,
   "id": "66afacd3",
   "metadata": {},
   "outputs": [
    {
     "name": "stdout",
     "output_type": "stream",
     "text": [
      "today is awsome day\n"
     ]
    }
   ],
   "source": [
    "# Assign Function to a Variable in Python\n",
    "\n",
    "def a():\n",
    "    print(\"today is awsome day\")\n",
    "var =a\n",
    "#a()\n",
    "var()"
   ]
  },
  {
   "cell_type": "code",
   "execution_count": 15,
   "id": "abe4bee8",
   "metadata": {},
   "outputs": [
    {
     "name": "stdout",
     "output_type": "stream",
     "text": [
      "1\n"
     ]
    }
   ],
   "source": [
    "# Use of min() and max() in Python\n",
    "a = [1,25,36,2,3]\n",
    "\n",
    "print(min(a))"
   ]
  },
  {
   "cell_type": "code",
   "execution_count": 16,
   "id": "7c444768",
   "metadata": {},
   "outputs": [
    {
     "name": "stdout",
     "output_type": "stream",
     "text": [
      "36\n"
     ]
    }
   ],
   "source": [
    "print(max(a))"
   ]
  },
  {
   "cell_type": "code",
   "execution_count": 32,
   "id": "56f63e71",
   "metadata": {},
   "outputs": [
    {
     "name": "stdout",
     "output_type": "stream",
     "text": [
      "global variable: 10\n",
      "local variable: 5\n"
     ]
    }
   ],
   "source": [
    "# Python program to find number of local variables in a function\n",
    "\n",
    "glob_var = 10\n",
    "\n",
    "def sample():\n",
    "    local_var = 5\n",
    "    print(\"local variable:\", local_var)\n",
    "print(\"global variable:\", glob_var)\n",
    "\n",
    "sample()"
   ]
  },
  {
   "cell_type": "code",
   "execution_count": 33,
   "id": "5f9639ed",
   "metadata": {},
   "outputs": [
    {
     "name": "stdout",
     "output_type": "stream",
     "text": [
      "global variable: 10\n",
      "local variable: 5\n"
     ]
    }
   ],
   "source": [
    "#global variable define\n",
    "global_var = 10\n",
    "\n",
    "def simple():\n",
    "    local_var = 5\n",
    "    print(\"local variable:\", local_var)\n",
    "print(\"global variable:\", global_var)\n",
    "\n",
    "simple()"
   ]
  },
  {
   "cell_type": "code",
   "execution_count": 40,
   "id": "656189c0",
   "metadata": {},
   "outputs": [
    {
     "name": "stdout",
     "output_type": "stream",
     "text": [
      "30\n",
      "<class 'int'>\n",
      "<class 'int'>\n"
     ]
    }
   ],
   "source": [
    "# Explicitly define datatype in a Python function\n",
    "num1 = 10\n",
    "num2 = 20\n",
    "\n",
    "def simple(num1,num2):\n",
    "    #print(type(simple()))\n",
    "    return num1 + num2\n",
    "print(num1+num2)\n",
    "print(type(num1))\n",
    "print(type(num2))"
   ]
  },
  {
   "cell_type": "code",
   "execution_count": 41,
   "id": "72b1e45d",
   "metadata": {},
   "outputs": [
    {
     "name": "stdout",
     "output_type": "stream",
     "text": [
      "{'Argument_1': 'gfg', 'Argument_2': 'GFG'}\n"
     ]
    }
   ],
   "source": [
    "# Functions that accept variable length key value pair as arguments\n",
    "def printKwargs(**kwargs):\n",
    "    print(kwargs)\n",
    "\n",
    "\n",
    "# driver code\n",
    "if __name__ == \"__main__\":\n",
    "    printKwargs(Argument_1='gfg', Argument_2='GFG')\n"
   ]
  },
  {
   "cell_type": "code",
   "execution_count": 42,
   "id": "53fed200",
   "metadata": {},
   "outputs": [
    {
     "name": "stdout",
     "output_type": "stream",
     "text": [
      "{'a': 'hello', 'b': 'bye'}\n"
     ]
    }
   ],
   "source": [
    "a = \"hello\"\n",
    "b = \"bye\"\n",
    "\n",
    "def sample(**kwargs):\n",
    "    print(kwargs)\n",
    "if __name__ == \"__main__\":\n",
    "    printKwargs(a =\"hello\", b = \"bye\")\n",
    "    "
   ]
  },
  {
   "cell_type": "code",
   "execution_count": 43,
   "id": "e7ab30cf",
   "metadata": {},
   "outputs": [
    {
     "name": "stdout",
     "output_type": "stream",
     "text": [
      "8\n"
     ]
    }
   ],
   "source": [
    "def add(a, b):\n",
    "    return a + b\n",
    "\n",
    "def subtract(a, b):\n",
    "    return a - b\n",
    "\n",
    "if __name__ == \"__main__\":\n",
    "    result = add(5, 3)\n",
    "    print(result)\n"
   ]
  },
  {
   "cell_type": "code",
   "execution_count": 44,
   "id": "12b6bcbf",
   "metadata": {},
   "outputs": [
    {
     "name": "stdout",
     "output_type": "stream",
     "text": [
      "3\n"
     ]
    }
   ],
   "source": [
    "# How to find the number of arguments in a Python function?\n",
    "\n",
    "def range_no(*args):\n",
    "    return(len(args))\n",
    "print(range_no(1,2,3))"
   ]
  },
  {
   "cell_type": "code",
   "execution_count": 48,
   "id": "ab3903c8",
   "metadata": {},
   "outputs": [
    {
     "name": "stdout",
     "output_type": "stream",
     "text": [
      "8\n"
     ]
    }
   ],
   "source": [
    "def no_of_range(*args):\n",
    "    return(len(args))\n",
    "n = no_of_range(1,a,25,-2,\"hello\",-9,45,2)\n",
    "print(n)"
   ]
  },
  {
   "cell_type": "markdown",
   "id": "18710924",
   "metadata": {},
   "source": [
    "# Array"
   ]
  },
  {
   "cell_type": "code",
   "execution_count": 50,
   "id": "09b85732",
   "metadata": {},
   "outputs": [
    {
     "name": "stdout",
     "output_type": "stream",
     "text": [
      "['volvo', 'ford', 'maruti']\n"
     ]
    }
   ],
   "source": [
    "# array can store in multiple values in one variable\n",
    "\n",
    "car = [\"volvo\",\"ford\",\"maruti\"]\n",
    "print(car)\n"
   ]
  },
  {
   "cell_type": "code",
   "execution_count": 53,
   "id": "110684f9",
   "metadata": {},
   "outputs": [
    {
     "name": "stdout",
     "output_type": "stream",
     "text": [
      "maruti\n"
     ]
    }
   ],
   "source": [
    "x = car[2]\n",
    "print(x)"
   ]
  },
  {
   "cell_type": "code",
   "execution_count": 54,
   "id": "ca65e016",
   "metadata": {},
   "outputs": [
    {
     "name": "stdout",
     "output_type": "stream",
     "text": [
      "['cycle', 'ford', 'maruti']\n"
     ]
    }
   ],
   "source": [
    "car[0] = \"cycle\"\n",
    "print(car)"
   ]
  },
  {
   "cell_type": "code",
   "execution_count": 55,
   "id": "d1da0246",
   "metadata": {},
   "outputs": [
    {
     "name": "stdout",
     "output_type": "stream",
     "text": [
      "['cycle', 'ford', 'maruti', 'Hundai']\n"
     ]
    }
   ],
   "source": [
    "car.append(\"Hundai\")\n",
    "print(car)"
   ]
  },
  {
   "cell_type": "code",
   "execution_count": 57,
   "id": "4a77b5b0",
   "metadata": {},
   "outputs": [
    {
     "name": "stdout",
     "output_type": "stream",
     "text": [
      "4\n"
     ]
    }
   ],
   "source": [
    "x = len(car)\n",
    "print(x)"
   ]
  },
  {
   "cell_type": "code",
   "execution_count": 60,
   "id": "7c170849",
   "metadata": {},
   "outputs": [
    {
     "name": "stdout",
     "output_type": "stream",
     "text": [
      "['volvo', 'ford', 'maruti', 'cycle']\n"
     ]
    }
   ],
   "source": [
    "car = [\"volvo\",\"ford\",\"maruti\"]\n",
    "car.append(\"cycle\")\n",
    "#car.remove(\"cycle\")\n",
    "print(car)"
   ]
  },
  {
   "cell_type": "code",
   "execution_count": 61,
   "id": "8cea130f",
   "metadata": {},
   "outputs": [
    {
     "name": "stdout",
     "output_type": "stream",
     "text": [
      "['volvo', 'ford', 'maruti']\n"
     ]
    }
   ],
   "source": [
    "car.remove(\"cycle\")\n",
    "print(car)"
   ]
  },
  {
   "cell_type": "code",
   "execution_count": 64,
   "id": "fe5fda13",
   "metadata": {},
   "outputs": [
    {
     "name": "stdout",
     "output_type": "stream",
     "text": [
      "['ford', 'maruti']\n"
     ]
    }
   ],
   "source": [
    "car.pop(0)\n",
    "print(car)"
   ]
  },
  {
   "cell_type": "code",
   "execution_count": 65,
   "id": "aa8da11c",
   "metadata": {},
   "outputs": [
    {
     "name": "stdout",
     "output_type": "stream",
     "text": [
      "['ford', 'maruti']\n"
     ]
    }
   ],
   "source": [
    "x = car.copy()\n",
    "print(x)"
   ]
  },
  {
   "cell_type": "code",
   "execution_count": 71,
   "id": "3a60645d",
   "metadata": {},
   "outputs": [
    {
     "name": "stdout",
     "output_type": "stream",
     "text": [
      "['maruti', 'KIA', 'maruti', 'maruti', 'ford', 'maruti']\n"
     ]
    }
   ],
   "source": [
    "#car.insert(0,\"maruti\")\n",
    "car.insert(1,\"KIA\")\n",
    "print(car)\n",
    "#print(x)"
   ]
  },
  {
   "cell_type": "code",
   "execution_count": 72,
   "id": "8a9402d1",
   "metadata": {},
   "outputs": [
    {
     "name": "stdout",
     "output_type": "stream",
     "text": [
      "['KIA', 'maruti', 'maruti', 'ford', 'maruti']\n"
     ]
    }
   ],
   "source": [
    "car.remove(\"maruti\")\n",
    "print(car)"
   ]
  },
  {
   "cell_type": "code",
   "execution_count": 76,
   "id": "62f26425",
   "metadata": {},
   "outputs": [
    {
     "name": "stdout",
     "output_type": "stream",
     "text": [
      "0\n",
      "1\n",
      "2\n",
      "3\n",
      "4\n"
     ]
    }
   ],
   "source": [
    "car = 5\n",
    "for i in range(car):\n",
    "    print(i)"
   ]
  },
  {
   "cell_type": "code",
   "execution_count": 78,
   "id": "c92b3589",
   "metadata": {},
   "outputs": [
    {
     "name": "stdout",
     "output_type": "stream",
     "text": [
      "7\n"
     ]
    }
   ],
   "source": [
    "my_list = [1,5,3,8,5,9,42]\n",
    "a = len(my_list)\n",
    "print(a)"
   ]
  },
  {
   "cell_type": "code",
   "execution_count": null,
   "id": "949a2ee7",
   "metadata": {},
   "outputs": [],
   "source": []
  }
 ],
 "metadata": {
  "kernelspec": {
   "display_name": "Python 3 (ipykernel)",
   "language": "python",
   "name": "python3"
  },
  "language_info": {
   "codemirror_mode": {
    "name": "ipython",
    "version": 3
   },
   "file_extension": ".py",
   "mimetype": "text/x-python",
   "name": "python",
   "nbconvert_exporter": "python",
   "pygments_lexer": "ipython3",
   "version": "3.9.12"
  }
 },
 "nbformat": 4,
 "nbformat_minor": 5
}
