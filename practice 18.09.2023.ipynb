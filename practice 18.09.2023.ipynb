{
 "cells": [
  {
   "cell_type": "code",
   "execution_count": 12,
   "id": "55e3f6e2",
   "metadata": {},
   "outputs": [
    {
     "name": "stdout",
     "output_type": "stream",
     "text": [
      "['1', '5', '3', '4', '2', '3', '6', '4', '6', '9']\n",
      "['9', '6', '4', '6', '3', '2', '4', '3', '5', '1']\n",
      "9646324351\n"
     ]
    }
   ],
   "source": [
    "x = 1534236469\n",
    "\n",
    "lst = list(str(x))\n",
    "print(lst)\n",
    "\n",
    "lst.reverse()\n",
    "print(lst)\n",
    "\n",
    "result = int(\"\".join(lst))\n",
    "print(result)"
   ]
  },
  {
   "cell_type": "code",
   "execution_count": 22,
   "id": "5aabe1e7",
   "metadata": {},
   "outputs": [
    {
     "name": "stdout",
     "output_type": "stream",
     "text": [
      "True\n"
     ]
    }
   ],
   "source": [
    "#s = [[({})]]\n",
    "s = \"()\",\"{}\",\"[]\"\n",
    "#s = \"(),[],{}\"\n",
    "#s = \"(]\"\n",
    "if \"()\" in s:\n",
    "    print(True)\n",
    "elif \"[],(),{}\" in s:\n",
    "    print(True)\n",
    "else:\n",
    "    print(False)\n"
   ]
  },
  {
   "cell_type": "code",
   "execution_count": 34,
   "id": "9e6f3fef",
   "metadata": {},
   "outputs": [
    {
     "name": "stdout",
     "output_type": "stream",
     "text": [
      "[8, 1, 2]\n",
      "[1, 2, 8]\n"
     ]
    }
   ],
   "source": [
    "lst = [2,8,1,1]\n",
    "result = sorted(lst)\n",
    "result\n",
    "\n",
    "lst = list(set(lst))\n",
    "print(lst)\n",
    "\n",
    "result = sorted(lst)\n",
    "print(result)"
   ]
  },
  {
   "cell_type": "code",
   "execution_count": 44,
   "id": "92828a41",
   "metadata": {},
   "outputs": [
    {
     "name": "stdout",
     "output_type": "stream",
     "text": [
      "[1, 2]\n"
     ]
    }
   ],
   "source": [
    "head = [1,1,2]\n",
    "\n",
    "result = [] \n",
    "for i in head: \n",
    "    if i not in result: \n",
    "        result.append(i) \n",
    "print(result)\n"
   ]
  },
  {
   "cell_type": "code",
   "execution_count": 43,
   "id": "e4cd117c",
   "metadata": {},
   "outputs": [
    {
     "name": "stdout",
     "output_type": "stream",
     "text": [
      "[1, 2]\n"
     ]
    }
   ],
   "source": [
    "head = [1, 1, 2]\n",
    "\n",
    "def remove_duplicates(head):\n",
    "    result = []\n",
    "    for i in head:\n",
    "        if item not in result:\n",
    "            result.append(item)\n",
    "    return result\n",
    "\n",
    "#result = remove_duplicates(head)\n",
    "print(result)\n"
   ]
  },
  {
   "cell_type": "code",
   "execution_count": 46,
   "id": "8a10c155",
   "metadata": {
    "collapsed": true
   },
   "outputs": [
    {
     "name": "stderr",
     "output_type": "stream",
     "text": [
      "<>:4: SyntaxWarning: 'tuple' object is not callable; perhaps you missed a comma?\n",
      "<>:4: SyntaxWarning: 'tuple' object is not callable; perhaps you missed a comma?\n",
      "C:\\Users\\Admin\\AppData\\Local\\Temp\\ipykernel_7808\\1284206323.py:4: SyntaxWarning: 'tuple' object is not callable; perhaps you missed a comma?\n",
      "  symbols = [('I', 1), ('IV', 4), ('V', 5), ('IX', 9),('X', 10), ('XL', 40),('L', 50), ('XC', 90),('C', 100),('CD', 400),('D', 500)('CM', 900),('M', 1000)]\n",
      "C:\\Users\\Admin\\AppData\\Local\\Temp\\ipykernel_7808\\1284206323.py:4: SyntaxWarning: 'tuple' object is not callable; perhaps you missed a comma?\n",
      "  symbols = [('I', 1), ('IV', 4), ('V', 5), ('IX', 9),('X', 10), ('XL', 40),('L', 50), ('XC', 90),('C', 100),('CD', 400),('D', 500)('CM', 900),('M', 1000)]\n",
      "C:\\Users\\Admin\\AppData\\Local\\Temp\\ipykernel_7808\\1284206323.py:4: SyntaxWarning: 'tuple' object is not callable; perhaps you missed a comma?\n",
      "  symbols = [('I', 1), ('IV', 4), ('V', 5), ('IX', 9),('X', 10), ('XL', 40),('L', 50), ('XC', 90),('C', 100),('CD', 400),('D', 500)('CM', 900),('M', 1000)]\n"
     ]
    },
    {
     "ename": "TypeError",
     "evalue": "'tuple' object is not callable",
     "output_type": "error",
     "traceback": [
      "\u001b[1;31m---------------------------------------------------------------------------\u001b[0m",
      "\u001b[1;31mTypeError\u001b[0m                                 Traceback (most recent call last)",
      "Cell \u001b[1;32mIn[46], line 4\u001b[0m\n\u001b[0;32m      1\u001b[0m \u001b[38;5;66;03m# Roma to integer\u001b[39;00m\n\u001b[0;32m      3\u001b[0m integer \u001b[38;5;241m=\u001b[39m \u001b[38;5;241m0\u001b[39m\n\u001b[1;32m----> 4\u001b[0m symbols \u001b[38;5;241m=\u001b[39m [(\u001b[38;5;124m'\u001b[39m\u001b[38;5;124mI\u001b[39m\u001b[38;5;124m'\u001b[39m, \u001b[38;5;241m1\u001b[39m), (\u001b[38;5;124m'\u001b[39m\u001b[38;5;124mIV\u001b[39m\u001b[38;5;124m'\u001b[39m, \u001b[38;5;241m4\u001b[39m), (\u001b[38;5;124m'\u001b[39m\u001b[38;5;124mV\u001b[39m\u001b[38;5;124m'\u001b[39m, \u001b[38;5;241m5\u001b[39m), (\u001b[38;5;124m'\u001b[39m\u001b[38;5;124mIX\u001b[39m\u001b[38;5;124m'\u001b[39m, \u001b[38;5;241m9\u001b[39m),(\u001b[38;5;124m'\u001b[39m\u001b[38;5;124mX\u001b[39m\u001b[38;5;124m'\u001b[39m, \u001b[38;5;241m10\u001b[39m), (\u001b[38;5;124m'\u001b[39m\u001b[38;5;124mXL\u001b[39m\u001b[38;5;124m'\u001b[39m, \u001b[38;5;241m40\u001b[39m),(\u001b[38;5;124m'\u001b[39m\u001b[38;5;124mL\u001b[39m\u001b[38;5;124m'\u001b[39m, \u001b[38;5;241m50\u001b[39m), (\u001b[38;5;124m'\u001b[39m\u001b[38;5;124mXC\u001b[39m\u001b[38;5;124m'\u001b[39m, \u001b[38;5;241m90\u001b[39m),(\u001b[38;5;124m'\u001b[39m\u001b[38;5;124mC\u001b[39m\u001b[38;5;124m'\u001b[39m, \u001b[38;5;241m100\u001b[39m),(\u001b[38;5;124m'\u001b[39m\u001b[38;5;124mCD\u001b[39m\u001b[38;5;124m'\u001b[39m, \u001b[38;5;241m400\u001b[39m),\u001b[43m(\u001b[49m\u001b[38;5;124;43m'\u001b[39;49m\u001b[38;5;124;43mD\u001b[39;49m\u001b[38;5;124;43m'\u001b[39;49m\u001b[43m,\u001b[49m\u001b[43m \u001b[49m\u001b[38;5;241;43m500\u001b[39;49m\u001b[43m)\u001b[49m\u001b[43m(\u001b[49m\u001b[38;5;124;43m'\u001b[39;49m\u001b[38;5;124;43mCM\u001b[39;49m\u001b[38;5;124;43m'\u001b[39;49m\u001b[43m,\u001b[49m\u001b[43m \u001b[49m\u001b[38;5;241;43m900\u001b[39;49m\u001b[43m)\u001b[49m,(\u001b[38;5;124m'\u001b[39m\u001b[38;5;124mM\u001b[39m\u001b[38;5;124m'\u001b[39m, \u001b[38;5;241m1000\u001b[39m)]\n\u001b[0;32m      6\u001b[0m symbols\u001b[38;5;241m.\u001b[39msort(key \u001b[38;5;241m=\u001b[39m \u001b[38;5;28;01mlambda\u001b[39;00m x : x[\u001b[38;5;241m1\u001b[39m], reverse \u001b[38;5;241m=\u001b[39m \u001b[38;5;28;01mTrue\u001b[39;00m)\n\u001b[0;32m      8\u001b[0m \u001b[38;5;28;01mwhile\u001b[39;00m s:\n",
      "\u001b[1;31mTypeError\u001b[0m: 'tuple' object is not callable"
     ]
    }
   ],
   "source": [
    "# Roma to integer\n",
    "\n",
    "integer = 0\n",
    "symbols = [('I', 1), ('IV', 4), ('V', 5), ('IX', 9),('X', 10), ('XL', 40),('L', 50), ('XC', 90),('C', 100),('CD', 400),('D', 500)('CM', 900),('M', 1000)]\n",
    "\n",
    "symbols.sort(key = lambda x : x[1], reverse = True)\n",
    "\n",
    "while s:\n",
    "    for symbol,value in symbols:\n",
    "        if s.startswith(symbol):\n",
    "            integer += value\n",
    "            s = s[len(symbol):]\n",
    "return integer"
   ]
  },
  {
   "cell_type": "code",
   "execution_count": 62,
   "id": "b0461473",
   "metadata": {},
   "outputs": [
    {
     "ename": "IndentationError",
     "evalue": "unindent does not match any outer indentation level (<tokenize>, line 9)",
     "output_type": "error",
     "traceback": [
      "\u001b[1;36m  File \u001b[1;32m<tokenize>:9\u001b[1;36m\u001b[0m\n\u001b[1;33m    if len(strs) == 0:\u001b[0m\n\u001b[1;37m    ^\u001b[0m\n\u001b[1;31mIndentationError\u001b[0m\u001b[1;31m:\u001b[0m unindent does not match any outer indentation level\n"
     ]
    }
   ],
   "source": [
    "#  Longest Common Prefix\n",
    "strs = [\"flower\",\"flow\",\"flight\"]\n",
    "def longestCommonPrefix(self, strs):\n",
    "        \"\"\"\n",
    "        :type strs: List[str]\n",
    "        :rtype: str\n",
    "        \"\"\"\n",
    "        result = \"\"\n",
    "    if len(strs) == 0:\n",
    "        return \"\"\n",
    "\n",
    "    for i in range(len(strs)):\n",
    "        for j in range(len(strs)):\n",
    "            result = strs[0][i]\n",
    "            if i == len(strs[i]) or strs[j][i] != result:\n",
    "                return strs[0][0:i]\n",
    "    return strs\n"
   ]
  },
  {
   "cell_type": "code",
   "execution_count": 66,
   "id": "c6cfdc79",
   "metadata": {},
   "outputs": [],
   "source": [
    "strs = [\"flower\",\"flow\",\"flight\"]\n",
    "\n",
    "def longestcommon(strs):\n",
    "    if len(strs) == 0:\n",
    "        return \"\"\n",
    "    for i in range(len(strs)):\n",
    "        for j in range(len(strs)):\n",
    "            result = strs[0][i]\n",
    "            if i == len(strs[i]) or strs[j][i] != result:\n",
    "                return strs[0][0:i]\n",
    "    print(strs)"
   ]
  },
  {
   "cell_type": "code",
   "execution_count": 72,
   "id": "b78bf7b8",
   "metadata": {},
   "outputs": [
    {
     "name": "stdout",
     "output_type": "stream",
     "text": [
      "fl\n"
     ]
    }
   ],
   "source": [
    "def longestCommonPrefix(S):\n",
    "    if \"\" in S or S == []:\n",
    "        return \"\"\n",
    "    preix = S[0]\n",
    "    for i in range(1,len(S)):\n",
    "        while(preix != \"\"):\n",
    "            try:\n",
    "                if str.index(str(S[i]),preix) == 0:\n",
    "                    break\n",
    "                else:\n",
    "                    preix = preix[:-1]\n",
    "            except:\n",
    "                \n",
    "                preix = preix[:-1]\n",
    "    return preix\n",
    " \n",
    "\n",
    "\n",
    "#if __name__ == \"__main__\":\n",
    "    # Your code goes here\n",
    "s = ['flower', 'flow', 'flight']\n",
    "print(longestCommonPrefix(s))"
   ]
  },
  {
   "cell_type": "code",
   "execution_count": 73,
   "id": "d8001cb9",
   "metadata": {},
   "outputs": [
    {
     "ename": "IndentationError",
     "evalue": "expected an indented block (3799231397.py, line 2)",
     "output_type": "error",
     "traceback": [
      "\u001b[1;36m  Cell \u001b[1;32mIn[73], line 2\u001b[1;36m\u001b[0m\n\u001b[1;33m    def isValid(self, s: str) -> bool:\u001b[0m\n\u001b[1;37m    ^\u001b[0m\n\u001b[1;31mIndentationError\u001b[0m\u001b[1;31m:\u001b[0m expected an indented block\n"
     ]
    }
   ],
   "source": [
    "class Solution:\n",
    "def isValid(self, s: str) -> bool:\n",
    "    if len(s) % 2 != 0:\n",
    "        return False\n",
    "    dict = {'(' : ')', '[' : ']', '{' : '}'}\n",
    "    stack = []\n",
    "    for iin s:\n",
    "        if i in dict.keys():\n",
    "            stack.append(i)\n",
    "        else:\n",
    "            if stack == []:\n",
    "                return False\n",
    "                a = stack.pop()\n",
    "            if i!= dict[a]:\n",
    "                return False\n",
    "    return stack == []"
   ]
  },
  {
   "cell_type": "code",
   "execution_count": 74,
   "id": "62eb09b0",
   "metadata": {},
   "outputs": [],
   "source": [
    "def isValid(self, s):\n",
    "        \"\"\"\n",
    "        :type s: str\n",
    "        :rtype: bool\n",
    "        \"\"\"\n",
    "        mapping = {\"(\": \")\", \"[\": \"]\",  \"{\": \"}\"}\n",
    "        stack = []\n",
    "\n",
    "        for i in s:\n",
    "            if i in \"({[\":\n",
    "                stack.append(i)\n",
    "            elif stack and i == mapping.get(stack[-1]):\n",
    "                stack.pop()\n",
    "            else:\n",
    "                return False\n",
    "        return not stack"
   ]
  },
  {
   "cell_type": "code",
   "execution_count": 78,
   "id": "d92e6090",
   "metadata": {},
   "outputs": [],
   "source": [
    "list1 = [1,2,4]\n",
    "list2 = [1,3,4]\n",
    "\n",
    "class ListNode(object):\n",
    "    def __init__(self, val=0, next=None):\n",
    "        self.val = val\n",
    "        self.next = next\n",
    "\n",
    "class Solution(object):\n",
    "    def mergeTwoLists(self, list1, list2):\n",
    "        \"\"\"\n",
    "        :type list1: Optional[ListNode]\n",
    "        :type list2: Optional[ListNode]\n",
    "        :rtype: Optional[ListNode]\n",
    "        \"\"\"\n",
    "        if list1 is None:\n",
    "            return list2\n",
    "        if list2 is None:\n",
    "            return list1\n",
    "    # Choose head which is smaller of the two lists\n",
    "        if list1.val < list2.val:\n",
    "            temp = head = ListNode(list1.val)\n",
    "            list1 = list1.next\n",
    "        else:\n",
    "            temp = head = ListNode(list2.val)\n",
    "            list2 = list2.next\n",
    "    # Loop until any of the list becomes null\n",
    "        while list1 is not None and list2 is not None:\n",
    "            if list1.val < list2.val:\n",
    "                temp.next = ListNode(list1.val)\n",
    "                list1 = list1.next\n",
    "            else:\n",
    "                temp.next = ListNode(list2.val)\n",
    "                list2 = list2.next\n",
    "            temp = temp.next\n",
    "    # Add all the nodes in list1, if remaining\n",
    "        while list1 is not None:\n",
    "            temp.next = ListNode(list1.val)\n",
    "            list1 = list1.next\n",
    "            temp = temp.next\n",
    "    # Add all the nodes in list2, if remaining\n",
    "        while list2 is not None:\n",
    "            temp.next = ListNode(list2.val)\n",
    "            list2 = list2.next\n",
    "            temp = temp.next\n",
    "        return head\n",
    "        "
   ]
  },
  {
   "cell_type": "code",
   "execution_count": null,
   "id": "4c2626ea",
   "metadata": {},
   "outputs": [],
   "source": [
    "#merge two array\n",
    "for i in range(n):\n",
    "            nums1[i + m] = nums2[i]\n",
    "        \n",
    "        nums1.sort()"
   ]
  },
  {
   "cell_type": "code",
   "execution_count": 81,
   "id": "549b3a3f",
   "metadata": {},
   "outputs": [
    {
     "name": "stdout",
     "output_type": "stream",
     "text": [
      "1 2 3 4 5 "
     ]
    }
   ],
   "source": [
    "# Python3 program to\n",
    "# remove duplicates\n",
    "# Function to remove\n",
    "# duplicate elements\n",
    "\n",
    "\n",
    "# This function returns new size of modified array\n",
    "def removeDuplicates(arr, n):\n",
    "\n",
    "\t# Return, if array is empty or contains\n",
    "\t# a single element\n",
    "\tif n == 0 or n == 1:\n",
    "\t\treturn n\n",
    "\n",
    "\ttemp = list(range(n))\n",
    "\n",
    "\t# Start traversing elements\n",
    "\tj = 0\n",
    "\tfor i in range(0, n-1):\n",
    "\n",
    "\t\t# If current element is not equal to next\n",
    "\t\t# then store that current element\n",
    "\t\tif arr[i] != arr[i+1]:\n",
    "\t\t\ttemp[j] = arr[i]\n",
    "\t\t\tj += 1\n",
    "\n",
    "\t# Store the last element as whether it is unique\n",
    "\t# or repeated, it isn't stored previously\n",
    "\ttemp[j] = arr[n-1]\n",
    "\tj += 1\n",
    "\n",
    "\t# Modify original array\n",
    "\tfor i in range(0, j):\n",
    "\t\tarr[i] = temp[i]\n",
    "\n",
    "\treturn j\n",
    "\n",
    "\n",
    "# Driver code\n",
    "if __name__ == '__main__':\n",
    "\tarr = [1, 2, 2, 3, 4, 4, 4, 5, 5]\n",
    "\tn = len(arr)\n",
    "\n",
    "\t# removeDuplicates() returns new size of array.\n",
    "\tn = removeDuplicates(arr, n)\n",
    "\n",
    "\t# Print updated array\n",
    "\tfor i in range(n):\n",
    "\t\tprint(\"%d\" % (arr[i]), end=\" \")\n",
    "\n",
    "\n",
    "# This code is contributed by aadityaburukwale.\n"
   ]
  },
  {
   "cell_type": "code",
   "execution_count": null,
   "id": "1ef7c8d0",
   "metadata": {},
   "outputs": [],
   "source": []
  },
  {
   "cell_type": "code",
   "execution_count": 85,
   "id": "458b7efa",
   "metadata": {},
   "outputs": [
    {
     "ename": "TypeError",
     "evalue": "list indices must be integers or slices, not list",
     "output_type": "error",
     "traceback": [
      "\u001b[1;31m---------------------------------------------------------------------------\u001b[0m",
      "\u001b[1;31mTypeError\u001b[0m                                 Traceback (most recent call last)",
      "Cell \u001b[1;32mIn[85], line 3\u001b[0m\n\u001b[0;32m      1\u001b[0m Optional \u001b[38;5;241m=\u001b[39m[]\n\u001b[0;32m      2\u001b[0m TreeNode\u001b[38;5;241m=\u001b[39m[]\n\u001b[1;32m----> 3\u001b[0m \u001b[38;5;28;01mclass\u001b[39;00m \u001b[38;5;21;01mSolution\u001b[39;00m:\n\u001b[0;32m      4\u001b[0m \u001b[38;5;66;03m#Optional =[]\u001b[39;00m\n\u001b[0;32m      5\u001b[0m   \u001b[38;5;28;01mdef\u001b[39;00m \u001b[38;5;21misSameTree\u001b[39m(\u001b[38;5;28mself\u001b[39m, p: Optional[TreeNode], q: Optional[TreeNode]) \u001b[38;5;241m-\u001b[39m\u001b[38;5;241m>\u001b[39m \u001b[38;5;28mbool\u001b[39m:\n\u001b[0;32m      6\u001b[0m     \u001b[38;5;28;01mif\u001b[39;00m \u001b[38;5;129;01mnot\u001b[39;00m p \u001b[38;5;129;01mor\u001b[39;00m \u001b[38;5;129;01mnot\u001b[39;00m q:\n",
      "Cell \u001b[1;32mIn[85], line 5\u001b[0m, in \u001b[0;36mSolution\u001b[1;34m()\u001b[0m\n\u001b[0;32m      3\u001b[0m \u001b[38;5;28;01mclass\u001b[39;00m \u001b[38;5;21;01mSolution\u001b[39;00m:\n\u001b[0;32m      4\u001b[0m \u001b[38;5;66;03m#Optional =[]\u001b[39;00m\n\u001b[1;32m----> 5\u001b[0m   \u001b[38;5;28;01mdef\u001b[39;00m \u001b[38;5;21misSameTree\u001b[39m(\u001b[38;5;28mself\u001b[39m, p: \u001b[43mOptional\u001b[49m\u001b[43m[\u001b[49m\u001b[43mTreeNode\u001b[49m\u001b[43m]\u001b[49m, q: Optional[TreeNode]) \u001b[38;5;241m-\u001b[39m\u001b[38;5;241m>\u001b[39m \u001b[38;5;28mbool\u001b[39m:\n\u001b[0;32m      6\u001b[0m     \u001b[38;5;28;01mif\u001b[39;00m \u001b[38;5;129;01mnot\u001b[39;00m p \u001b[38;5;129;01mor\u001b[39;00m \u001b[38;5;129;01mnot\u001b[39;00m q:\n\u001b[0;32m      7\u001b[0m       \u001b[38;5;28;01mreturn\u001b[39;00m p \u001b[38;5;241m==\u001b[39m q\n",
      "\u001b[1;31mTypeError\u001b[0m: list indices must be integers or slices, not list"
     ]
    }
   ],
   "source": [
    "Optional =[]\n",
    "TreeNode=[]\n",
    "class Solution:\n",
    "#Optional =[]\n",
    "  def isSameTree(self, p: Optional[TreeNode], q: Optional[TreeNode]) -> bool:\n",
    "    if not p or not q:\n",
    "      return p == q\n",
    "    return p.val == q.val and \\\n",
    "        self.isSameTree(p.left, q.left) and \\\n",
    "        self.isSameTree(p.right, q.right)\n"
   ]
  },
  {
   "cell_type": "code",
   "execution_count": null,
   "id": "f8c94e7d",
   "metadata": {},
   "outputs": [],
   "source": []
  },
  {
   "cell_type": "code",
   "execution_count": null,
   "id": "6d794a7d",
   "metadata": {},
   "outputs": [],
   "source": []
  },
  {
   "cell_type": "code",
   "execution_count": null,
   "id": "810904b6",
   "metadata": {},
   "outputs": [],
   "source": []
  }
 ],
 "metadata": {
  "kernelspec": {
   "display_name": "Python 3 (ipykernel)",
   "language": "python",
   "name": "python3"
  },
  "language_info": {
   "codemirror_mode": {
    "name": "ipython",
    "version": 3
   },
   "file_extension": ".py",
   "mimetype": "text/x-python",
   "name": "python",
   "nbconvert_exporter": "python",
   "pygments_lexer": "ipython3",
   "version": "3.9.12"
  }
 },
 "nbformat": 4,
 "nbformat_minor": 5
}
